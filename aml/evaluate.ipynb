{
 "cells": [
  {
   "cell_type": "code",
   "execution_count": null,
   "metadata": {},
   "outputs": [],
   "source": [
    "#TODO: Think of a test-driven development approach to evaluate the model.\n",
    "#TODO: Add evaluation metrics/tests with promptimize/RAGAS and other methods\n",
    "#TODO: Add TruLens evaluation with RAG triad & evaluation functions. (e.g. CoT): Feedback functions. \n",
    "# See: https://learn.deeplearning.ai/building-evaluating-advanced-rag/lesson/3/rag-triad-of-metrics"
   ]
  }
 ],
 "metadata": {
  "language_info": {
   "name": "python"
  }
 },
 "nbformat": 4,
 "nbformat_minor": 2
}
