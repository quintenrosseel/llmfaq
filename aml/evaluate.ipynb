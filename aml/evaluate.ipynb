{
  "cells": [
    {
      "cell_type": "code",
      "source": [
        "#TODO: Think of a test-driven development approach to evaluate the model.\n",
        "#TODO: Add evaluation metrics/tests with promptimize/RAGAS and other methods\n",
        "#TODO: Add TruLens evaluation with RAG triad & evaluation functions. (e.g. CoT): Feedback functions. \n",
        "# See: https://learn.deeplearning.ai/building-evaluating-advanced-rag/lesson/3/rag-triad-of-metrics"
      ],
      "outputs": [],
      "execution_count": null,
      "metadata": {}
    },
    {
      "cell_type": "code",
      "source": [
        "!pip install azure-identity azure-keyvault-secrets"
      ],
      "outputs": [
        {
          "output_type": "stream",
          "name": "stdout",
          "text": "Requirement already satisfied: azure-identity in /anaconda/envs/azureml_py38/lib/python3.8/site-packages (1.13.0)\nRequirement already satisfied: azure-keyvault-secrets in /anaconda/envs/azureml_py38/lib/python3.8/site-packages (4.7.0)\nRequirement already satisfied: cryptography>=2.5 in /anaconda/envs/azureml_py38/lib/python3.8/site-packages (from azure-identity) (38.0.4)\nRequirement already satisfied: msal<2.0.0,>=1.20.0 in /anaconda/envs/azureml_py38/lib/python3.8/site-packages (from azure-identity) (1.22.0)\nRequirement already satisfied: azure-core<2.0.0,>=1.11.0 in /anaconda/envs/azureml_py38/lib/python3.8/site-packages (from azure-identity) (1.26.4)\nRequirement already satisfied: six>=1.12.0 in /anaconda/envs/azureml_py38/lib/python3.8/site-packages (from azure-identity) (1.16.0)\nRequirement already satisfied: msal-extensions<2.0.0,>=0.3.0 in /anaconda/envs/azureml_py38/lib/python3.8/site-packages (from azure-identity) (1.0.0)\nRequirement already satisfied: typing-extensions>=4.0.1 in /anaconda/envs/azureml_py38/lib/python3.8/site-packages (from azure-keyvault-secrets) (4.6.0)\nRequirement already satisfied: azure-common~=1.1 in /anaconda/envs/azureml_py38/lib/python3.8/site-packages (from azure-keyvault-secrets) (1.1.28)\nRequirement already satisfied: isodate>=0.6.1 in /anaconda/envs/azureml_py38/lib/python3.8/site-packages (from azure-keyvault-secrets) (0.6.1)\nRequirement already satisfied: cffi>=1.12 in /anaconda/envs/azureml_py38/lib/python3.8/site-packages (from cryptography>=2.5->azure-identity) (1.15.1)\nRequirement already satisfied: requests<3,>=2.0.0 in /anaconda/envs/azureml_py38/lib/python3.8/site-packages (from msal<2.0.0,>=1.20.0->azure-identity) (2.31.0)\nRequirement already satisfied: PyJWT[crypto]<3,>=1.0.0 in /anaconda/envs/azureml_py38/lib/python3.8/site-packages (from msal<2.0.0,>=1.20.0->azure-identity) (2.4.0)\nRequirement already satisfied: portalocker<3,>=1.0; python_version >= \"3.5\" and platform_system != \"Windows\" in /anaconda/envs/azureml_py38/lib/python3.8/site-packages (from msal-extensions<2.0.0,>=0.3.0->azure-identity) (2.7.0)\nRequirement already satisfied: pycparser in /anaconda/envs/azureml_py38/lib/python3.8/site-packages (from cffi>=1.12->cryptography>=2.5->azure-identity) (2.21)\nRequirement already satisfied: certifi>=2017.4.17 in /anaconda/envs/azureml_py38/lib/python3.8/site-packages (from requests<3,>=2.0.0->msal<2.0.0,>=1.20.0->azure-identity) (2022.9.24)\nRequirement already satisfied: idna<4,>=2.5 in /anaconda/envs/azureml_py38/lib/python3.8/site-packages (from requests<3,>=2.0.0->msal<2.0.0,>=1.20.0->azure-identity) (3.4)\nRequirement already satisfied: urllib3<3,>=1.21.1 in /anaconda/envs/azureml_py38/lib/python3.8/site-packages (from requests<3,>=2.0.0->msal<2.0.0,>=1.20.0->azure-identity) (1.26.16)\nRequirement already satisfied: charset-normalizer<4,>=2 in /anaconda/envs/azureml_py38/lib/python3.8/site-packages (from requests<3,>=2.0.0->msal<2.0.0,>=1.20.0->azure-identity) (3.1.0)\n"
        }
      ],
      "execution_count": 18,
      "metadata": {
        "jupyter": {
          "source_hidden": false,
          "outputs_hidden": false
        },
        "nteract": {
          "transient": {
            "deleting": false
          }
        }
      }
    },
    {
      "cell_type": "code",
      "source": [
        "from azure.identity import DefaultAzureCredential\n",
        "from azure.keyvault.secrets import SecretClient\n",
        "\n",
        "key_vault_name = \"kv-bsauwmno\"\n",
        "kv_uri = f\"https://{key_vault_name}.vault.azure.net/\"\n",
        "\n",
        "credential = DefaultAzureCredential()\n",
        "client = SecretClient(vault_url=kv_uri, credential=credential)\n",
        "\n",
        "# Now you can use neo4j_url, neo4j_port, and neo4j_password in your application\n",
        "neo4j_url = client.get_secret(\"NEO4JURL\").value\n",
        "neo4j_user = client.get_secret(\"NEO4JUSER\").value\n",
        "neo4j_password = client.get_secret(\"NEO4JPASSWORD\").value\n",
        "openai_key = client.get_secret(\"OPENAIKEY\").value"
      ],
      "outputs": [],
      "execution_count": 28,
      "metadata": {
        "jupyter": {
          "source_hidden": false,
          "outputs_hidden": false
        },
        "nteract": {
          "transient": {
            "deleting": false
          }
        },
        "gather": {
          "logged": 1702670696537
        }
      }
    },
    {
      "cell_type": "code",
      "source": [
        "import pandas as pd \n",
        "from langchain.embeddings import OpenAIEmbeddings\n",
        "\n",
        "embedding_model = \"text-embedding-ada-002\"\n",
        "\n",
        "openai = OpenAIEmbeddings(\n",
        "    openai_api_key=openai_key,\n",
        "    model=embedding_model\n",
        ")\n",
        "\n",
        "\n",
        "def cast_col(df: pd.DataFrame, col: str, cast_type: str) -> pd.DataFrame:\n",
        "    df[col] = df[col].astype(cast_type)\n",
        "    return df\n",
        "\n",
        "def embed_column(\n",
        "        df: pd.DataFrame, \n",
        "        col_name: str, \n",
        "        col_name_embedded: str) -> pd.DataFrame:\n",
        "    docs = list(df[col_name])\n",
        "    embeddings: List[List[float]] = openai.embed_documents(texts=docs)\n",
        "    df[col_name_embedded] = embeddings\n",
        "    return df \n",
        "\n",
        "question_df = (\n",
        "    pd.read_excel(\n",
        "        './data/qa_dataset.xlsx', \n",
        "        engine=\"openpyxl\",\n",
        "        sheet_name=1\n",
        "    )\n",
        "    .pipe(pd.DataFrame.dropna, subset=['question_id', 'question', 'answer_id', 'group'])\n",
        "    .pipe(cast_col, col='answer_id', cast_type='int64')\n",
        "    .pipe(cast_col, col='question_id', cast_type='int64')\n",
        "\n",
        ")\n",
        "\n",
        "answer_df = (\n",
        "    pd.read_excel(\n",
        "        './data/qa_dataset.xlsx', \n",
        "        engine=\"openpyxl\",\n",
        "        sheet_name=2\n",
        "    )\n",
        "    .pipe(pd.DataFrame.rename, columns={\n",
        "        \"question\": \"archetype_question\",\n",
        "        \"answer\": \"archetype_answer\"\n",
        "    })\n",
        "    .pipe(\n",
        "        embed_column,\n",
        "        col_name=\"archetype_question\", \n",
        "        col_name_embedded=\"archetype_question_embedding\"\n",
        "    )\n",
        ")\n",
        "\n",
        "qa_df = question_df.merge(answer_df, on=\"answer_id\", how=\"left\")"
      ],
      "outputs": [],
      "execution_count": 47,
      "metadata": {
        "jupyter": {
          "source_hidden": false,
          "outputs_hidden": false
        },
        "nteract": {
          "transient": {
            "deleting": false
          }
        },
        "gather": {
          "logged": 1702672553245
        }
      }
    },
    {
      "cell_type": "code",
      "source": [
        "qa_df"
      ],
      "outputs": [
        {
          "output_type": "execute_result",
          "execution_count": 48,
          "data": {
            "text/plain": "     question_id              group  \\\n0              1               time   \n1              2               time   \n2              3               time   \n3              4               time   \n4              5               time   \n..           ...                ...   \n594          595  very_low_literacy   \n595          596  very_low_literacy   \n596          597  very_low_literacy   \n597          598  very_low_literacy   \n598          599  very_low_literacy   \n\n                                              question  answer_id  \\\n0    Is het mogelijk om 8 uur na de geboorte met mi...          1   \n1    Kan ik met mijn pasgeboren baby 12 uur na de g...          1   \n2    Is het toegestaan om 10 uur na de bevalling he...          1   \n3    Mag ik 15 uur na de geboorte van mijn kind het...          1   \n4    Kan ik 30 uur na de geboorte met mijn baby het...          1   \n..                                                 ...        ...   \n594                Hoe kan ik mijn baby gezond houden?          4   \n595         Wat moet ik doen als mijn baby ziek wordt?          4   \n596  Hoe kan ik ervoor zorgen dat mijn baby goed gr...          4   \n597  Wat als ik denk dat er iets mis is met mijn baby?          4   \n598  Waar kan ik meer informatie vinden over de gez...          4   \n\n                                    archetype_question  \\\n0    Mag ik na 6u na de geboorte naar huis met mijn...   \n1    Mag ik na 6u na de geboorte naar huis met mijn...   \n2    Mag ik na 6u na de geboorte naar huis met mijn...   \n3    Mag ik na 6u na de geboorte naar huis met mijn...   \n4    Mag ik na 6u na de geboorte naar huis met mijn...   \n..                                                 ...   \n594  Welke problemen kunnen er zoal ontstaan na een...   \n595  Welke problemen kunnen er zoal ontstaan na een...   \n596  Welke problemen kunnen er zoal ontstaan na een...   \n597  Welke problemen kunnen er zoal ontstaan na een...   \n598  Welke problemen kunnen er zoal ontstaan na een...   \n\n                                      archetype_answer  \\\n0    Neen, een pasgeboren baby moet de eerste 24 uu...   \n1    Neen, een pasgeboren baby moet de eerste 24 uu...   \n2    Neen, een pasgeboren baby moet de eerste 24 uu...   \n3    Neen, een pasgeboren baby moet de eerste 24 uu...   \n4    Neen, een pasgeboren baby moet de eerste 24 uu...   \n..                                                 ...   \n594  Na de geboorte kunnen er problemen zoals aange...   \n595  Na de geboorte kunnen er problemen zoals aange...   \n596  Na de geboorte kunnen er problemen zoals aange...   \n597  Na de geboorte kunnen er problemen zoals aange...   \n598  Na de geboorte kunnen er problemen zoals aange...   \n\n                                                source  \\\n0    https://www.azstlucas.be/onderzoek-en-behandel...   \n1    https://www.azstlucas.be/onderzoek-en-behandel...   \n2    https://www.azstlucas.be/onderzoek-en-behandel...   \n3    https://www.azstlucas.be/onderzoek-en-behandel...   \n4    https://www.azstlucas.be/onderzoek-en-behandel...   \n..                                                 ...   \n594  https://www.azstlucas.be/onderzoek-en-behandel...   \n595  https://www.azstlucas.be/onderzoek-en-behandel...   \n596  https://www.azstlucas.be/onderzoek-en-behandel...   \n597  https://www.azstlucas.be/onderzoek-en-behandel...   \n598  https://www.azstlucas.be/onderzoek-en-behandel...   \n\n                          archetype_question_embedding  \n0    [0.01071266053997743, -0.022445575617780624, -...  \n1    [0.01071266053997743, -0.022445575617780624, -...  \n2    [0.01071266053997743, -0.022445575617780624, -...  \n3    [0.01071266053997743, -0.022445575617780624, -...  \n4    [0.01071266053997743, -0.022445575617780624, -...  \n..                                                 ...  \n594  [0.03156107295980677, -0.019481835914004948, 0...  \n595  [0.03156107295980677, -0.019481835914004948, 0...  \n596  [0.03156107295980677, -0.019481835914004948, 0...  \n597  [0.03156107295980677, -0.019481835914004948, 0...  \n598  [0.03156107295980677, -0.019481835914004948, 0...  \n\n[599 rows x 8 columns]",
            "text/html": "<div>\n<style scoped>\n    .dataframe tbody tr th:only-of-type {\n        vertical-align: middle;\n    }\n\n    .dataframe tbody tr th {\n        vertical-align: top;\n    }\n\n    .dataframe thead th {\n        text-align: right;\n    }\n</style>\n<table border=\"1\" class=\"dataframe\">\n  <thead>\n    <tr style=\"text-align: right;\">\n      <th></th>\n      <th>question_id</th>\n      <th>group</th>\n      <th>question</th>\n      <th>answer_id</th>\n      <th>archetype_question</th>\n      <th>archetype_answer</th>\n      <th>source</th>\n      <th>archetype_question_embedding</th>\n    </tr>\n  </thead>\n  <tbody>\n    <tr>\n      <th>0</th>\n      <td>1</td>\n      <td>time</td>\n      <td>Is het mogelijk om 8 uur na de geboorte met mi...</td>\n      <td>1</td>\n      <td>Mag ik na 6u na de geboorte naar huis met mijn...</td>\n      <td>Neen, een pasgeboren baby moet de eerste 24 uu...</td>\n      <td>https://www.azstlucas.be/onderzoek-en-behandel...</td>\n      <td>[0.01071266053997743, -0.022445575617780624, -...</td>\n    </tr>\n    <tr>\n      <th>1</th>\n      <td>2</td>\n      <td>time</td>\n      <td>Kan ik met mijn pasgeboren baby 12 uur na de g...</td>\n      <td>1</td>\n      <td>Mag ik na 6u na de geboorte naar huis met mijn...</td>\n      <td>Neen, een pasgeboren baby moet de eerste 24 uu...</td>\n      <td>https://www.azstlucas.be/onderzoek-en-behandel...</td>\n      <td>[0.01071266053997743, -0.022445575617780624, -...</td>\n    </tr>\n    <tr>\n      <th>2</th>\n      <td>3</td>\n      <td>time</td>\n      <td>Is het toegestaan om 10 uur na de bevalling he...</td>\n      <td>1</td>\n      <td>Mag ik na 6u na de geboorte naar huis met mijn...</td>\n      <td>Neen, een pasgeboren baby moet de eerste 24 uu...</td>\n      <td>https://www.azstlucas.be/onderzoek-en-behandel...</td>\n      <td>[0.01071266053997743, -0.022445575617780624, -...</td>\n    </tr>\n    <tr>\n      <th>3</th>\n      <td>4</td>\n      <td>time</td>\n      <td>Mag ik 15 uur na de geboorte van mijn kind het...</td>\n      <td>1</td>\n      <td>Mag ik na 6u na de geboorte naar huis met mijn...</td>\n      <td>Neen, een pasgeboren baby moet de eerste 24 uu...</td>\n      <td>https://www.azstlucas.be/onderzoek-en-behandel...</td>\n      <td>[0.01071266053997743, -0.022445575617780624, -...</td>\n    </tr>\n    <tr>\n      <th>4</th>\n      <td>5</td>\n      <td>time</td>\n      <td>Kan ik 30 uur na de geboorte met mijn baby het...</td>\n      <td>1</td>\n      <td>Mag ik na 6u na de geboorte naar huis met mijn...</td>\n      <td>Neen, een pasgeboren baby moet de eerste 24 uu...</td>\n      <td>https://www.azstlucas.be/onderzoek-en-behandel...</td>\n      <td>[0.01071266053997743, -0.022445575617780624, -...</td>\n    </tr>\n    <tr>\n      <th>...</th>\n      <td>...</td>\n      <td>...</td>\n      <td>...</td>\n      <td>...</td>\n      <td>...</td>\n      <td>...</td>\n      <td>...</td>\n      <td>...</td>\n    </tr>\n    <tr>\n      <th>594</th>\n      <td>595</td>\n      <td>very_low_literacy</td>\n      <td>Hoe kan ik mijn baby gezond houden?</td>\n      <td>4</td>\n      <td>Welke problemen kunnen er zoal ontstaan na een...</td>\n      <td>Na de geboorte kunnen er problemen zoals aange...</td>\n      <td>https://www.azstlucas.be/onderzoek-en-behandel...</td>\n      <td>[0.03156107295980677, -0.019481835914004948, 0...</td>\n    </tr>\n    <tr>\n      <th>595</th>\n      <td>596</td>\n      <td>very_low_literacy</td>\n      <td>Wat moet ik doen als mijn baby ziek wordt?</td>\n      <td>4</td>\n      <td>Welke problemen kunnen er zoal ontstaan na een...</td>\n      <td>Na de geboorte kunnen er problemen zoals aange...</td>\n      <td>https://www.azstlucas.be/onderzoek-en-behandel...</td>\n      <td>[0.03156107295980677, -0.019481835914004948, 0...</td>\n    </tr>\n    <tr>\n      <th>596</th>\n      <td>597</td>\n      <td>very_low_literacy</td>\n      <td>Hoe kan ik ervoor zorgen dat mijn baby goed gr...</td>\n      <td>4</td>\n      <td>Welke problemen kunnen er zoal ontstaan na een...</td>\n      <td>Na de geboorte kunnen er problemen zoals aange...</td>\n      <td>https://www.azstlucas.be/onderzoek-en-behandel...</td>\n      <td>[0.03156107295980677, -0.019481835914004948, 0...</td>\n    </tr>\n    <tr>\n      <th>597</th>\n      <td>598</td>\n      <td>very_low_literacy</td>\n      <td>Wat als ik denk dat er iets mis is met mijn baby?</td>\n      <td>4</td>\n      <td>Welke problemen kunnen er zoal ontstaan na een...</td>\n      <td>Na de geboorte kunnen er problemen zoals aange...</td>\n      <td>https://www.azstlucas.be/onderzoek-en-behandel...</td>\n      <td>[0.03156107295980677, -0.019481835914004948, 0...</td>\n    </tr>\n    <tr>\n      <th>598</th>\n      <td>599</td>\n      <td>very_low_literacy</td>\n      <td>Waar kan ik meer informatie vinden over de gez...</td>\n      <td>4</td>\n      <td>Welke problemen kunnen er zoal ontstaan na een...</td>\n      <td>Na de geboorte kunnen er problemen zoals aange...</td>\n      <td>https://www.azstlucas.be/onderzoek-en-behandel...</td>\n      <td>[0.03156107295980677, -0.019481835914004948, 0...</td>\n    </tr>\n  </tbody>\n</table>\n<p>599 rows × 8 columns</p>\n</div>"
          },
          "metadata": {}
        }
      ],
      "execution_count": 48,
      "metadata": {
        "jupyter": {
          "source_hidden": false,
          "outputs_hidden": false
        },
        "nteract": {
          "transient": {
            "deleting": false
          }
        },
        "gather": {
          "logged": 1702672558331
        }
      }
    },
    {
      "cell_type": "code",
      "source": [
        "# For every row in QA df\n",
        "# - match the question_id \n",
        "# - for each archetype question, get the distance from the question to that archetype question \n"
      ],
      "outputs": [],
      "execution_count": 36,
      "metadata": {
        "jupyter": {
          "source_hidden": false,
          "outputs_hidden": false
        },
        "nteract": {
          "transient": {
            "deleting": false
          }
        },
        "gather": {
          "logged": 1702671345647
        }
      }
    },
    {
      "cell_type": "code",
      "source": [
        "from typing import List \n",
        "from neo4j import GraphDatabase, RoutingControl\n",
        "from langchain.embeddings import OpenAIEmbeddings\n",
        "\n",
        "embedding_model = \"text-embedding-ada-002\"\n",
        "\n",
        "openai = OpenAIEmbeddings(\n",
        "    openai_api_key=openai_key,\n",
        "    model=embedding_model\n",
        ")\n",
        "\n",
        "def to_pandas(records: List[object]) -> pd.DataFrame:\n",
        "    return pd.DataFrame.from_records([dict(r) for r in records])\n",
        "\n",
        "def get_qa_db(driver, db='neo4j'): \n",
        "    records, _, _ = driver.execute_query(\n",
        "        \"\"\"\n",
        "            MATCH (q:Question)--(a:Answer)\n",
        "            RETURN\n",
        "                q.question_id as question_id,\n",
        "                q.text as question_text, \n",
        "                q.text_embedding as question_embedding, \n",
        "                a.answer_id as answer_id, \n",
        "                a.text as answer_text\n",
        "        \"\"\",\n",
        "        database_= db, \n",
        "        routing_= RoutingControl.READ,\n",
        "    )\n",
        "    return to_pandas(records)    \n",
        "\n",
        "# Drop index using: DROP INDEX `vi_question_text_embedding_cosine`\n",
        "with GraphDatabase.driver(neo4j_url, auth=(neo4j_user, neo4j_password)) as driver:\n",
        "    qa_db_df = get_qa_db(driver)\n",
        "\n",
        "\n",
        "qa_db_df"
      ],
      "outputs": [
        {
          "output_type": "execute_result",
          "execution_count": 41,
          "data": {
            "text/plain": "     question_id                                      question_text  \\\n0             50  Is het toegestaan om in een academisch ziekenh...   \n1            150                            Baby oké, nu naar huis?   \n2            149                                Baby klaar, weg nu?   \n3            148                                Baby er, snel huis?   \n4            147                        Baby geboren, ik naar huis?   \n..           ...                                                ...   \n594          494  Is er iets dat ouders moeten doen of weten met...   \n595          495  Wat zijn de belangrijkste overwegingen bij het...   \n596          496  Kunnen dezelfde zorgmaatregelen worden genomen...   \n597          497  Wat moeten ouders doen als ze zich zorgen make...   \n598          498  Is er een verschil in de beschikbaarheid van s...   \n\n                                    question_embedding  answer_id  \\\n0    [0.004562567368534598, -0.02192822616530894, -...          1   \n1    [-0.0008756839387770835, -0.03697606429392978,...          1   \n2    [-0.004362260274536889, -0.034600230348239086,...          1   \n3    [-0.010511535975893377, -0.03074530274562924, ...          1   \n4    [0.002126995245116866, -0.0329753384590574, -0...          1   \n..                                                 ...        ...   \n594  [0.013448605935884416, -0.013833217935967097, ...          4   \n595  [0.022697007552032526, -0.012322678376457655, ...          4   \n596  [0.013839255036708156, -0.021893038876721768, ...          4   \n597  [0.01546604698769678, -0.01740405202435655, 0....          4   \n598  [0.0076592760011275065, -0.014072727384555625,...          4   \n\n                                           answer_text  \n0    Neen, een pasgeboren baby moet de eerste 24 uu...  \n1    Neen, een pasgeboren baby moet de eerste 24 uu...  \n2    Neen, een pasgeboren baby moet de eerste 24 uu...  \n3    Neen, een pasgeboren baby moet de eerste 24 uu...  \n4    Neen, een pasgeboren baby moet de eerste 24 uu...  \n..                                                 ...  \n594  Na de geboorte kunnen er problemen zoals aange...  \n595  Na de geboorte kunnen er problemen zoals aange...  \n596  Na de geboorte kunnen er problemen zoals aange...  \n597  Na de geboorte kunnen er problemen zoals aange...  \n598  Na de geboorte kunnen er problemen zoals aange...  \n\n[599 rows x 5 columns]",
            "text/html": "<div>\n<style scoped>\n    .dataframe tbody tr th:only-of-type {\n        vertical-align: middle;\n    }\n\n    .dataframe tbody tr th {\n        vertical-align: top;\n    }\n\n    .dataframe thead th {\n        text-align: right;\n    }\n</style>\n<table border=\"1\" class=\"dataframe\">\n  <thead>\n    <tr style=\"text-align: right;\">\n      <th></th>\n      <th>question_id</th>\n      <th>question_text</th>\n      <th>question_embedding</th>\n      <th>answer_id</th>\n      <th>answer_text</th>\n    </tr>\n  </thead>\n  <tbody>\n    <tr>\n      <th>0</th>\n      <td>50</td>\n      <td>Is het toegestaan om in een academisch ziekenh...</td>\n      <td>[0.004562567368534598, -0.02192822616530894, -...</td>\n      <td>1</td>\n      <td>Neen, een pasgeboren baby moet de eerste 24 uu...</td>\n    </tr>\n    <tr>\n      <th>1</th>\n      <td>150</td>\n      <td>Baby oké, nu naar huis?</td>\n      <td>[-0.0008756839387770835, -0.03697606429392978,...</td>\n      <td>1</td>\n      <td>Neen, een pasgeboren baby moet de eerste 24 uu...</td>\n    </tr>\n    <tr>\n      <th>2</th>\n      <td>149</td>\n      <td>Baby klaar, weg nu?</td>\n      <td>[-0.004362260274536889, -0.034600230348239086,...</td>\n      <td>1</td>\n      <td>Neen, een pasgeboren baby moet de eerste 24 uu...</td>\n    </tr>\n    <tr>\n      <th>3</th>\n      <td>148</td>\n      <td>Baby er, snel huis?</td>\n      <td>[-0.010511535975893377, -0.03074530274562924, ...</td>\n      <td>1</td>\n      <td>Neen, een pasgeboren baby moet de eerste 24 uu...</td>\n    </tr>\n    <tr>\n      <th>4</th>\n      <td>147</td>\n      <td>Baby geboren, ik naar huis?</td>\n      <td>[0.002126995245116866, -0.0329753384590574, -0...</td>\n      <td>1</td>\n      <td>Neen, een pasgeboren baby moet de eerste 24 uu...</td>\n    </tr>\n    <tr>\n      <th>...</th>\n      <td>...</td>\n      <td>...</td>\n      <td>...</td>\n      <td>...</td>\n      <td>...</td>\n    </tr>\n    <tr>\n      <th>594</th>\n      <td>494</td>\n      <td>Is er iets dat ouders moeten doen of weten met...</td>\n      <td>[0.013448605935884416, -0.013833217935967097, ...</td>\n      <td>4</td>\n      <td>Na de geboorte kunnen er problemen zoals aange...</td>\n    </tr>\n    <tr>\n      <th>595</th>\n      <td>495</td>\n      <td>Wat zijn de belangrijkste overwegingen bij het...</td>\n      <td>[0.022697007552032526, -0.012322678376457655, ...</td>\n      <td>4</td>\n      <td>Na de geboorte kunnen er problemen zoals aange...</td>\n    </tr>\n    <tr>\n      <th>596</th>\n      <td>496</td>\n      <td>Kunnen dezelfde zorgmaatregelen worden genomen...</td>\n      <td>[0.013839255036708156, -0.021893038876721768, ...</td>\n      <td>4</td>\n      <td>Na de geboorte kunnen er problemen zoals aange...</td>\n    </tr>\n    <tr>\n      <th>597</th>\n      <td>497</td>\n      <td>Wat moeten ouders doen als ze zich zorgen make...</td>\n      <td>[0.01546604698769678, -0.01740405202435655, 0....</td>\n      <td>4</td>\n      <td>Na de geboorte kunnen er problemen zoals aange...</td>\n    </tr>\n    <tr>\n      <th>598</th>\n      <td>498</td>\n      <td>Is er een verschil in de beschikbaarheid van s...</td>\n      <td>[0.0076592760011275065, -0.014072727384555625,...</td>\n      <td>4</td>\n      <td>Na de geboorte kunnen er problemen zoals aange...</td>\n    </tr>\n  </tbody>\n</table>\n<p>599 rows × 5 columns</p>\n</div>"
          },
          "metadata": {}
        }
      ],
      "execution_count": 41,
      "metadata": {
        "jupyter": {
          "source_hidden": false,
          "outputs_hidden": false
        },
        "nteract": {
          "transient": {
            "deleting": false
          }
        },
        "gather": {
          "logged": 1702672447281
        }
      }
    },
    {
      "cell_type": "code",
      "source": [
        "qa_db_df.merge(\n",
        "qa_df[[\n",
        "    'answer_id', \n",
        "    'archetype_question', \n",
        "    'archetype_answer', \n",
        "    'archetype_question_embedding', \n",
        "    'group',\n",
        "    'source'\n",
        "]],\n",
        "on=\"answer_id\"\n",
        ")"
      ],
      "outputs": [
        {
          "output_type": "execute_result",
          "execution_count": 67,
          "data": {
            "text/plain": "       question_id                                      question_text  \\\n0               50  Is het toegestaan om in een academisch ziekenh...   \n1               50  Is het toegestaan om in een academisch ziekenh...   \n2               50  Is het toegestaan om in een academisch ziekenh...   \n3               50  Is het toegestaan om in een academisch ziekenh...   \n4               50  Is het toegestaan om in een academisch ziekenh...   \n...            ...                                                ...   \n89696          498  Is er een verschil in de beschikbaarheid van s...   \n89697          498  Is er een verschil in de beschikbaarheid van s...   \n89698          498  Is er een verschil in de beschikbaarheid van s...   \n89699          498  Is er een verschil in de beschikbaarheid van s...   \n89700          498  Is er een verschil in de beschikbaarheid van s...   \n\n                                      question_embedding  answer_id  \\\n0      [0.004562567368534598, -0.02192822616530894, -...          1   \n1      [0.004562567368534598, -0.02192822616530894, -...          1   \n2      [0.004562567368534598, -0.02192822616530894, -...          1   \n3      [0.004562567368534598, -0.02192822616530894, -...          1   \n4      [0.004562567368534598, -0.02192822616530894, -...          1   \n...                                                  ...        ...   \n89696  [0.0076592760011275065, -0.014072727384555625,...          4   \n89697  [0.0076592760011275065, -0.014072727384555625,...          4   \n89698  [0.0076592760011275065, -0.014072727384555625,...          4   \n89699  [0.0076592760011275065, -0.014072727384555625,...          4   \n89700  [0.0076592760011275065, -0.014072727384555625,...          4   \n\n                                             answer_text  \\\n0      Neen, een pasgeboren baby moet de eerste 24 uu...   \n1      Neen, een pasgeboren baby moet de eerste 24 uu...   \n2      Neen, een pasgeboren baby moet de eerste 24 uu...   \n3      Neen, een pasgeboren baby moet de eerste 24 uu...   \n4      Neen, een pasgeboren baby moet de eerste 24 uu...   \n...                                                  ...   \n89696  Na de geboorte kunnen er problemen zoals aange...   \n89697  Na de geboorte kunnen er problemen zoals aange...   \n89698  Na de geboorte kunnen er problemen zoals aange...   \n89699  Na de geboorte kunnen er problemen zoals aange...   \n89700  Na de geboorte kunnen er problemen zoals aange...   \n\n                                      archetype_question  \\\n0      Mag ik na 6u na de geboorte naar huis met mijn...   \n1      Mag ik na 6u na de geboorte naar huis met mijn...   \n2      Mag ik na 6u na de geboorte naar huis met mijn...   \n3      Mag ik na 6u na de geboorte naar huis met mijn...   \n4      Mag ik na 6u na de geboorte naar huis met mijn...   \n...                                                  ...   \n89696  Welke problemen kunnen er zoal ontstaan na een...   \n89697  Welke problemen kunnen er zoal ontstaan na een...   \n89698  Welke problemen kunnen er zoal ontstaan na een...   \n89699  Welke problemen kunnen er zoal ontstaan na een...   \n89700  Welke problemen kunnen er zoal ontstaan na een...   \n\n                                        archetype_answer  \\\n0      Neen, een pasgeboren baby moet de eerste 24 uu...   \n1      Neen, een pasgeboren baby moet de eerste 24 uu...   \n2      Neen, een pasgeboren baby moet de eerste 24 uu...   \n3      Neen, een pasgeboren baby moet de eerste 24 uu...   \n4      Neen, een pasgeboren baby moet de eerste 24 uu...   \n...                                                  ...   \n89696  Na de geboorte kunnen er problemen zoals aange...   \n89697  Na de geboorte kunnen er problemen zoals aange...   \n89698  Na de geboorte kunnen er problemen zoals aange...   \n89699  Na de geboorte kunnen er problemen zoals aange...   \n89700  Na de geboorte kunnen er problemen zoals aange...   \n\n                            archetype_question_embedding              group  \\\n0      [0.01071266053997743, -0.022445575617780624, -...               time   \n1      [0.01071266053997743, -0.022445575617780624, -...               time   \n2      [0.01071266053997743, -0.022445575617780624, -...               time   \n3      [0.01071266053997743, -0.022445575617780624, -...               time   \n4      [0.01071266053997743, -0.022445575617780624, -...               time   \n...                                                  ...                ...   \n89696  [0.03156107295980677, -0.019481835914004948, 0...  very_low_literacy   \n89697  [0.03156107295980677, -0.019481835914004948, 0...  very_low_literacy   \n89698  [0.03156107295980677, -0.019481835914004948, 0...  very_low_literacy   \n89699  [0.03156107295980677, -0.019481835914004948, 0...  very_low_literacy   \n89700  [0.03156107295980677, -0.019481835914004948, 0...  very_low_literacy   \n\n                                                  source  \n0      https://www.azstlucas.be/onderzoek-en-behandel...  \n1      https://www.azstlucas.be/onderzoek-en-behandel...  \n2      https://www.azstlucas.be/onderzoek-en-behandel...  \n3      https://www.azstlucas.be/onderzoek-en-behandel...  \n4      https://www.azstlucas.be/onderzoek-en-behandel...  \n...                                                  ...  \n89696  https://www.azstlucas.be/onderzoek-en-behandel...  \n89697  https://www.azstlucas.be/onderzoek-en-behandel...  \n89698  https://www.azstlucas.be/onderzoek-en-behandel...  \n89699  https://www.azstlucas.be/onderzoek-en-behandel...  \n89700  https://www.azstlucas.be/onderzoek-en-behandel...  \n\n[89701 rows x 10 columns]",
            "text/html": "<div>\n<style scoped>\n    .dataframe tbody tr th:only-of-type {\n        vertical-align: middle;\n    }\n\n    .dataframe tbody tr th {\n        vertical-align: top;\n    }\n\n    .dataframe thead th {\n        text-align: right;\n    }\n</style>\n<table border=\"1\" class=\"dataframe\">\n  <thead>\n    <tr style=\"text-align: right;\">\n      <th></th>\n      <th>question_id</th>\n      <th>question_text</th>\n      <th>question_embedding</th>\n      <th>answer_id</th>\n      <th>answer_text</th>\n      <th>archetype_question</th>\n      <th>archetype_answer</th>\n      <th>archetype_question_embedding</th>\n      <th>group</th>\n      <th>source</th>\n    </tr>\n  </thead>\n  <tbody>\n    <tr>\n      <th>0</th>\n      <td>50</td>\n      <td>Is het toegestaan om in een academisch ziekenh...</td>\n      <td>[0.004562567368534598, -0.02192822616530894, -...</td>\n      <td>1</td>\n      <td>Neen, een pasgeboren baby moet de eerste 24 uu...</td>\n      <td>Mag ik na 6u na de geboorte naar huis met mijn...</td>\n      <td>Neen, een pasgeboren baby moet de eerste 24 uu...</td>\n      <td>[0.01071266053997743, -0.022445575617780624, -...</td>\n      <td>time</td>\n      <td>https://www.azstlucas.be/onderzoek-en-behandel...</td>\n    </tr>\n    <tr>\n      <th>1</th>\n      <td>50</td>\n      <td>Is het toegestaan om in een academisch ziekenh...</td>\n      <td>[0.004562567368534598, -0.02192822616530894, -...</td>\n      <td>1</td>\n      <td>Neen, een pasgeboren baby moet de eerste 24 uu...</td>\n      <td>Mag ik na 6u na de geboorte naar huis met mijn...</td>\n      <td>Neen, een pasgeboren baby moet de eerste 24 uu...</td>\n      <td>[0.01071266053997743, -0.022445575617780624, -...</td>\n      <td>time</td>\n      <td>https://www.azstlucas.be/onderzoek-en-behandel...</td>\n    </tr>\n    <tr>\n      <th>2</th>\n      <td>50</td>\n      <td>Is het toegestaan om in een academisch ziekenh...</td>\n      <td>[0.004562567368534598, -0.02192822616530894, -...</td>\n      <td>1</td>\n      <td>Neen, een pasgeboren baby moet de eerste 24 uu...</td>\n      <td>Mag ik na 6u na de geboorte naar huis met mijn...</td>\n      <td>Neen, een pasgeboren baby moet de eerste 24 uu...</td>\n      <td>[0.01071266053997743, -0.022445575617780624, -...</td>\n      <td>time</td>\n      <td>https://www.azstlucas.be/onderzoek-en-behandel...</td>\n    </tr>\n    <tr>\n      <th>3</th>\n      <td>50</td>\n      <td>Is het toegestaan om in een academisch ziekenh...</td>\n      <td>[0.004562567368534598, -0.02192822616530894, -...</td>\n      <td>1</td>\n      <td>Neen, een pasgeboren baby moet de eerste 24 uu...</td>\n      <td>Mag ik na 6u na de geboorte naar huis met mijn...</td>\n      <td>Neen, een pasgeboren baby moet de eerste 24 uu...</td>\n      <td>[0.01071266053997743, -0.022445575617780624, -...</td>\n      <td>time</td>\n      <td>https://www.azstlucas.be/onderzoek-en-behandel...</td>\n    </tr>\n    <tr>\n      <th>4</th>\n      <td>50</td>\n      <td>Is het toegestaan om in een academisch ziekenh...</td>\n      <td>[0.004562567368534598, -0.02192822616530894, -...</td>\n      <td>1</td>\n      <td>Neen, een pasgeboren baby moet de eerste 24 uu...</td>\n      <td>Mag ik na 6u na de geboorte naar huis met mijn...</td>\n      <td>Neen, een pasgeboren baby moet de eerste 24 uu...</td>\n      <td>[0.01071266053997743, -0.022445575617780624, -...</td>\n      <td>time</td>\n      <td>https://www.azstlucas.be/onderzoek-en-behandel...</td>\n    </tr>\n    <tr>\n      <th>...</th>\n      <td>...</td>\n      <td>...</td>\n      <td>...</td>\n      <td>...</td>\n      <td>...</td>\n      <td>...</td>\n      <td>...</td>\n      <td>...</td>\n      <td>...</td>\n      <td>...</td>\n    </tr>\n    <tr>\n      <th>89696</th>\n      <td>498</td>\n      <td>Is er een verschil in de beschikbaarheid van s...</td>\n      <td>[0.0076592760011275065, -0.014072727384555625,...</td>\n      <td>4</td>\n      <td>Na de geboorte kunnen er problemen zoals aange...</td>\n      <td>Welke problemen kunnen er zoal ontstaan na een...</td>\n      <td>Na de geboorte kunnen er problemen zoals aange...</td>\n      <td>[0.03156107295980677, -0.019481835914004948, 0...</td>\n      <td>very_low_literacy</td>\n      <td>https://www.azstlucas.be/onderzoek-en-behandel...</td>\n    </tr>\n    <tr>\n      <th>89697</th>\n      <td>498</td>\n      <td>Is er een verschil in de beschikbaarheid van s...</td>\n      <td>[0.0076592760011275065, -0.014072727384555625,...</td>\n      <td>4</td>\n      <td>Na de geboorte kunnen er problemen zoals aange...</td>\n      <td>Welke problemen kunnen er zoal ontstaan na een...</td>\n      <td>Na de geboorte kunnen er problemen zoals aange...</td>\n      <td>[0.03156107295980677, -0.019481835914004948, 0...</td>\n      <td>very_low_literacy</td>\n      <td>https://www.azstlucas.be/onderzoek-en-behandel...</td>\n    </tr>\n    <tr>\n      <th>89698</th>\n      <td>498</td>\n      <td>Is er een verschil in de beschikbaarheid van s...</td>\n      <td>[0.0076592760011275065, -0.014072727384555625,...</td>\n      <td>4</td>\n      <td>Na de geboorte kunnen er problemen zoals aange...</td>\n      <td>Welke problemen kunnen er zoal ontstaan na een...</td>\n      <td>Na de geboorte kunnen er problemen zoals aange...</td>\n      <td>[0.03156107295980677, -0.019481835914004948, 0...</td>\n      <td>very_low_literacy</td>\n      <td>https://www.azstlucas.be/onderzoek-en-behandel...</td>\n    </tr>\n    <tr>\n      <th>89699</th>\n      <td>498</td>\n      <td>Is er een verschil in de beschikbaarheid van s...</td>\n      <td>[0.0076592760011275065, -0.014072727384555625,...</td>\n      <td>4</td>\n      <td>Na de geboorte kunnen er problemen zoals aange...</td>\n      <td>Welke problemen kunnen er zoal ontstaan na een...</td>\n      <td>Na de geboorte kunnen er problemen zoals aange...</td>\n      <td>[0.03156107295980677, -0.019481835914004948, 0...</td>\n      <td>very_low_literacy</td>\n      <td>https://www.azstlucas.be/onderzoek-en-behandel...</td>\n    </tr>\n    <tr>\n      <th>89700</th>\n      <td>498</td>\n      <td>Is er een verschil in de beschikbaarheid van s...</td>\n      <td>[0.0076592760011275065, -0.014072727384555625,...</td>\n      <td>4</td>\n      <td>Na de geboorte kunnen er problemen zoals aange...</td>\n      <td>Welke problemen kunnen er zoal ontstaan na een...</td>\n      <td>Na de geboorte kunnen er problemen zoals aange...</td>\n      <td>[0.03156107295980677, -0.019481835914004948, 0...</td>\n      <td>very_low_literacy</td>\n      <td>https://www.azstlucas.be/onderzoek-en-behandel...</td>\n    </tr>\n  </tbody>\n</table>\n<p>89701 rows × 10 columns</p>\n</div>"
          },
          "metadata": {}
        }
      ],
      "execution_count": 67,
      "metadata": {
        "jupyter": {
          "source_hidden": false,
          "outputs_hidden": false
        },
        "nteract": {
          "transient": {
            "deleting": false
          }
        },
        "gather": {
          "logged": 1702674216256
        }
      }
    },
    {
      "cell_type": "code",
      "source": [
        "answer_df[['archetype_question_embedding']]"
      ],
      "outputs": [
        {
          "output_type": "execute_result",
          "execution_count": 60,
          "data": {
            "text/plain": "                        archetype_question_embedding\n0  [0.01071266053997743, -0.022445575617780624, -...\n1  [0.023700067677154102, -0.01009931876876786, 0...\n2  [0.014633797688849612, -0.024035821689667867, ...\n3  [0.03156107295980677, -0.019481835914004948, 0...",
            "text/html": "<div>\n<style scoped>\n    .dataframe tbody tr th:only-of-type {\n        vertical-align: middle;\n    }\n\n    .dataframe tbody tr th {\n        vertical-align: top;\n    }\n\n    .dataframe thead th {\n        text-align: right;\n    }\n</style>\n<table border=\"1\" class=\"dataframe\">\n  <thead>\n    <tr style=\"text-align: right;\">\n      <th></th>\n      <th>archetype_question_embedding</th>\n    </tr>\n  </thead>\n  <tbody>\n    <tr>\n      <th>0</th>\n      <td>[0.01071266053997743, -0.022445575617780624, -...</td>\n    </tr>\n    <tr>\n      <th>1</th>\n      <td>[0.023700067677154102, -0.01009931876876786, 0...</td>\n    </tr>\n    <tr>\n      <th>2</th>\n      <td>[0.014633797688849612, -0.024035821689667867, ...</td>\n    </tr>\n    <tr>\n      <th>3</th>\n      <td>[0.03156107295980677, -0.019481835914004948, 0...</td>\n    </tr>\n  </tbody>\n</table>\n</div>"
          },
          "metadata": {}
        }
      ],
      "execution_count": 60,
      "metadata": {
        "jupyter": {
          "source_hidden": false,
          "outputs_hidden": false
        },
        "nteract": {
          "transient": {
            "deleting": false
          }
        },
        "gather": {
          "logged": 1702673846227
        }
      }
    },
    {
      "cell_type": "code",
      "source": [
        "import numpy as np\n",
        "from scipy.spatial.distance import cosine\n",
        "\n",
        "def cosine_similarity_list(df: pd.DataFrame, col_name: str, col_a: str, col_b: str) -> pd.DataFrame:\n",
        "    # Convert the lists in the columns to numpy arrays\n",
        "    df[col_a + \"_np\"] = df[col_a].apply(lambda x: np.array(x))\n",
        "    df[col_b + \"_np\"] = df[col_b].apply(lambda x: np.array(x))\n",
        "\n",
        "    # Calculate the cosine similarity for each row and store in the new column\n",
        "    df[col_name] = df.apply(lambda row: cosine(row[col_a + \"_np\"], row[col_b + \"_np\"]), axis=1)\n",
        "\n",
        "    # Drop the temporary numpy array columns if not needed\n",
        "    df.drop(columns=[col_a + \"_np\", col_b + \"_np\"], inplace=True)\n",
        "\n",
        "    return df\n",
        "\n",
        "\n",
        "# def pairwise_cosine(df: pd.DataFrame, col: str): \n",
        "#     arch_distances = []\n",
        "#     for arch_emb in answer_df[['archetype_question_embedding']]: \n",
        "#         pairwise_distances = []\n",
        "\n",
        "\n",
        "eval_df = (\n",
        "        qa_db_df.merge(\n",
        "        qa_df[[\n",
        "            'answer_id', \n",
        "            'question_id', \n",
        "            'archetype_question', \n",
        "            'archetype_answer', \n",
        "            'archetype_question_embedding', \n",
        "            'group',\n",
        "            'source'\n",
        "        ]],\n",
        "        how=\"left\",\n",
        "        on=[\"question_id\", \"answer_id\"]\n",
        "    )\n",
        "    .pipe(\n",
        "        cosine_similarity_list, \n",
        "        col_name=\"cosine_distance\", \n",
        "        col_a=\"question_embedding\",\n",
        "        col_b=\"archetype_question_embedding\"\n",
        "    )\n",
        "\n",
        ")"
      ],
      "outputs": [],
      "execution_count": 80,
      "metadata": {
        "jupyter": {
          "source_hidden": false,
          "outputs_hidden": false
        },
        "nteract": {
          "transient": {
            "deleting": false
          }
        },
        "gather": {
          "logged": 1702674760201
        }
      }
    },
    {
      "cell_type": "markdown",
      "source": [],
      "metadata": {
        "nteract": {
          "transient": {
            "deleting": false
          }
        }
      }
    },
    {
      "cell_type": "code",
      "source": [
        "eval_df"
      ],
      "outputs": [
        {
          "output_type": "execute_result",
          "execution_count": 82,
          "data": {
            "text/plain": "     question_id                                      question_text  \\\n0             50  Is het toegestaan om in een academisch ziekenh...   \n1            150                            Baby oké, nu naar huis?   \n2            149                                Baby klaar, weg nu?   \n3            148                                Baby er, snel huis?   \n4            147                        Baby geboren, ik naar huis?   \n..           ...                                                ...   \n594          494  Is er iets dat ouders moeten doen of weten met...   \n595          495  Wat zijn de belangrijkste overwegingen bij het...   \n596          496  Kunnen dezelfde zorgmaatregelen worden genomen...   \n597          497  Wat moeten ouders doen als ze zich zorgen make...   \n598          498  Is er een verschil in de beschikbaarheid van s...   \n\n                                    question_embedding  answer_id  \\\n0    [0.004562567368534598, -0.02192822616530894, -...          1   \n1    [-0.0008756839387770835, -0.03697606429392978,...          1   \n2    [-0.004362260274536889, -0.034600230348239086,...          1   \n3    [-0.010511535975893377, -0.03074530274562924, ...          1   \n4    [0.002126995245116866, -0.0329753384590574, -0...          1   \n..                                                 ...        ...   \n594  [0.013448605935884416, -0.013833217935967097, ...          4   \n595  [0.022697007552032526, -0.012322678376457655, ...          4   \n596  [0.013839255036708156, -0.021893038876721768, ...          4   \n597  [0.01546604698769678, -0.01740405202435655, 0....          4   \n598  [0.0076592760011275065, -0.014072727384555625,...          4   \n\n                                           answer_text  \\\n0    Neen, een pasgeboren baby moet de eerste 24 uu...   \n1    Neen, een pasgeboren baby moet de eerste 24 uu...   \n2    Neen, een pasgeboren baby moet de eerste 24 uu...   \n3    Neen, een pasgeboren baby moet de eerste 24 uu...   \n4    Neen, een pasgeboren baby moet de eerste 24 uu...   \n..                                                 ...   \n594  Na de geboorte kunnen er problemen zoals aange...   \n595  Na de geboorte kunnen er problemen zoals aange...   \n596  Na de geboorte kunnen er problemen zoals aange...   \n597  Na de geboorte kunnen er problemen zoals aange...   \n598  Na de geboorte kunnen er problemen zoals aange...   \n\n                                    archetype_question  \\\n0    Mag ik na 6u na de geboorte naar huis met mijn...   \n1    Mag ik na 6u na de geboorte naar huis met mijn...   \n2    Mag ik na 6u na de geboorte naar huis met mijn...   \n3    Mag ik na 6u na de geboorte naar huis met mijn...   \n4    Mag ik na 6u na de geboorte naar huis met mijn...   \n..                                                 ...   \n594  Welke problemen kunnen er zoal ontstaan na een...   \n595  Welke problemen kunnen er zoal ontstaan na een...   \n596  Welke problemen kunnen er zoal ontstaan na een...   \n597  Welke problemen kunnen er zoal ontstaan na een...   \n598  Welke problemen kunnen er zoal ontstaan na een...   \n\n                                      archetype_answer  \\\n0    Neen, een pasgeboren baby moet de eerste 24 uu...   \n1    Neen, een pasgeboren baby moet de eerste 24 uu...   \n2    Neen, een pasgeboren baby moet de eerste 24 uu...   \n3    Neen, een pasgeboren baby moet de eerste 24 uu...   \n4    Neen, een pasgeboren baby moet de eerste 24 uu...   \n..                                                 ...   \n594  Na de geboorte kunnen er problemen zoals aange...   \n595  Na de geboorte kunnen er problemen zoals aange...   \n596  Na de geboorte kunnen er problemen zoals aange...   \n597  Na de geboorte kunnen er problemen zoals aange...   \n598  Na de geboorte kunnen er problemen zoals aange...   \n\n                          archetype_question_embedding         group  \\\n0    [0.01071266053997743, -0.022445575617780624, -...      location   \n1    [0.01071266053997743, -0.022445575617780624, -...  low_literacy   \n2    [0.01071266053997743, -0.022445575617780624, -...  low_literacy   \n3    [0.01071266053997743, -0.022445575617780624, -...  low_literacy   \n4    [0.01071266053997743, -0.022445575617780624, -...  low_literacy   \n..                                                 ...           ...   \n594  [0.03156107295980677, -0.019481835914004948, 0...      location   \n595  [0.03156107295980677, -0.019481835914004948, 0...      location   \n596  [0.03156107295980677, -0.019481835914004948, 0...      location   \n597  [0.03156107295980677, -0.019481835914004948, 0...      location   \n598  [0.03156107295980677, -0.019481835914004948, 0...      location   \n\n                                                source  cosine_distance  \n0    https://www.azstlucas.be/onderzoek-en-behandel...         0.065959  \n1    https://www.azstlucas.be/onderzoek-en-behandel...         0.146958  \n2    https://www.azstlucas.be/onderzoek-en-behandel...         0.171928  \n3    https://www.azstlucas.be/onderzoek-en-behandel...         0.138975  \n4    https://www.azstlucas.be/onderzoek-en-behandel...         0.095512  \n..                                                 ...              ...  \n594  https://www.azstlucas.be/onderzoek-en-behandel...         0.111524  \n595  https://www.azstlucas.be/onderzoek-en-behandel...         0.119217  \n596  https://www.azstlucas.be/onderzoek-en-behandel...         0.124013  \n597  https://www.azstlucas.be/onderzoek-en-behandel...         0.127660  \n598  https://www.azstlucas.be/onderzoek-en-behandel...         0.135444  \n\n[599 rows x 11 columns]",
            "text/html": "<div>\n<style scoped>\n    .dataframe tbody tr th:only-of-type {\n        vertical-align: middle;\n    }\n\n    .dataframe tbody tr th {\n        vertical-align: top;\n    }\n\n    .dataframe thead th {\n        text-align: right;\n    }\n</style>\n<table border=\"1\" class=\"dataframe\">\n  <thead>\n    <tr style=\"text-align: right;\">\n      <th></th>\n      <th>question_id</th>\n      <th>question_text</th>\n      <th>question_embedding</th>\n      <th>answer_id</th>\n      <th>answer_text</th>\n      <th>archetype_question</th>\n      <th>archetype_answer</th>\n      <th>archetype_question_embedding</th>\n      <th>group</th>\n      <th>source</th>\n      <th>cosine_distance</th>\n    </tr>\n  </thead>\n  <tbody>\n    <tr>\n      <th>0</th>\n      <td>50</td>\n      <td>Is het toegestaan om in een academisch ziekenh...</td>\n      <td>[0.004562567368534598, -0.02192822616530894, -...</td>\n      <td>1</td>\n      <td>Neen, een pasgeboren baby moet de eerste 24 uu...</td>\n      <td>Mag ik na 6u na de geboorte naar huis met mijn...</td>\n      <td>Neen, een pasgeboren baby moet de eerste 24 uu...</td>\n      <td>[0.01071266053997743, -0.022445575617780624, -...</td>\n      <td>location</td>\n      <td>https://www.azstlucas.be/onderzoek-en-behandel...</td>\n      <td>0.065959</td>\n    </tr>\n    <tr>\n      <th>1</th>\n      <td>150</td>\n      <td>Baby oké, nu naar huis?</td>\n      <td>[-0.0008756839387770835, -0.03697606429392978,...</td>\n      <td>1</td>\n      <td>Neen, een pasgeboren baby moet de eerste 24 uu...</td>\n      <td>Mag ik na 6u na de geboorte naar huis met mijn...</td>\n      <td>Neen, een pasgeboren baby moet de eerste 24 uu...</td>\n      <td>[0.01071266053997743, -0.022445575617780624, -...</td>\n      <td>low_literacy</td>\n      <td>https://www.azstlucas.be/onderzoek-en-behandel...</td>\n      <td>0.146958</td>\n    </tr>\n    <tr>\n      <th>2</th>\n      <td>149</td>\n      <td>Baby klaar, weg nu?</td>\n      <td>[-0.004362260274536889, -0.034600230348239086,...</td>\n      <td>1</td>\n      <td>Neen, een pasgeboren baby moet de eerste 24 uu...</td>\n      <td>Mag ik na 6u na de geboorte naar huis met mijn...</td>\n      <td>Neen, een pasgeboren baby moet de eerste 24 uu...</td>\n      <td>[0.01071266053997743, -0.022445575617780624, -...</td>\n      <td>low_literacy</td>\n      <td>https://www.azstlucas.be/onderzoek-en-behandel...</td>\n      <td>0.171928</td>\n    </tr>\n    <tr>\n      <th>3</th>\n      <td>148</td>\n      <td>Baby er, snel huis?</td>\n      <td>[-0.010511535975893377, -0.03074530274562924, ...</td>\n      <td>1</td>\n      <td>Neen, een pasgeboren baby moet de eerste 24 uu...</td>\n      <td>Mag ik na 6u na de geboorte naar huis met mijn...</td>\n      <td>Neen, een pasgeboren baby moet de eerste 24 uu...</td>\n      <td>[0.01071266053997743, -0.022445575617780624, -...</td>\n      <td>low_literacy</td>\n      <td>https://www.azstlucas.be/onderzoek-en-behandel...</td>\n      <td>0.138975</td>\n    </tr>\n    <tr>\n      <th>4</th>\n      <td>147</td>\n      <td>Baby geboren, ik naar huis?</td>\n      <td>[0.002126995245116866, -0.0329753384590574, -0...</td>\n      <td>1</td>\n      <td>Neen, een pasgeboren baby moet de eerste 24 uu...</td>\n      <td>Mag ik na 6u na de geboorte naar huis met mijn...</td>\n      <td>Neen, een pasgeboren baby moet de eerste 24 uu...</td>\n      <td>[0.01071266053997743, -0.022445575617780624, -...</td>\n      <td>low_literacy</td>\n      <td>https://www.azstlucas.be/onderzoek-en-behandel...</td>\n      <td>0.095512</td>\n    </tr>\n    <tr>\n      <th>...</th>\n      <td>...</td>\n      <td>...</td>\n      <td>...</td>\n      <td>...</td>\n      <td>...</td>\n      <td>...</td>\n      <td>...</td>\n      <td>...</td>\n      <td>...</td>\n      <td>...</td>\n      <td>...</td>\n    </tr>\n    <tr>\n      <th>594</th>\n      <td>494</td>\n      <td>Is er iets dat ouders moeten doen of weten met...</td>\n      <td>[0.013448605935884416, -0.013833217935967097, ...</td>\n      <td>4</td>\n      <td>Na de geboorte kunnen er problemen zoals aange...</td>\n      <td>Welke problemen kunnen er zoal ontstaan na een...</td>\n      <td>Na de geboorte kunnen er problemen zoals aange...</td>\n      <td>[0.03156107295980677, -0.019481835914004948, 0...</td>\n      <td>location</td>\n      <td>https://www.azstlucas.be/onderzoek-en-behandel...</td>\n      <td>0.111524</td>\n    </tr>\n    <tr>\n      <th>595</th>\n      <td>495</td>\n      <td>Wat zijn de belangrijkste overwegingen bij het...</td>\n      <td>[0.022697007552032526, -0.012322678376457655, ...</td>\n      <td>4</td>\n      <td>Na de geboorte kunnen er problemen zoals aange...</td>\n      <td>Welke problemen kunnen er zoal ontstaan na een...</td>\n      <td>Na de geboorte kunnen er problemen zoals aange...</td>\n      <td>[0.03156107295980677, -0.019481835914004948, 0...</td>\n      <td>location</td>\n      <td>https://www.azstlucas.be/onderzoek-en-behandel...</td>\n      <td>0.119217</td>\n    </tr>\n    <tr>\n      <th>596</th>\n      <td>496</td>\n      <td>Kunnen dezelfde zorgmaatregelen worden genomen...</td>\n      <td>[0.013839255036708156, -0.021893038876721768, ...</td>\n      <td>4</td>\n      <td>Na de geboorte kunnen er problemen zoals aange...</td>\n      <td>Welke problemen kunnen er zoal ontstaan na een...</td>\n      <td>Na de geboorte kunnen er problemen zoals aange...</td>\n      <td>[0.03156107295980677, -0.019481835914004948, 0...</td>\n      <td>location</td>\n      <td>https://www.azstlucas.be/onderzoek-en-behandel...</td>\n      <td>0.124013</td>\n    </tr>\n    <tr>\n      <th>597</th>\n      <td>497</td>\n      <td>Wat moeten ouders doen als ze zich zorgen make...</td>\n      <td>[0.01546604698769678, -0.01740405202435655, 0....</td>\n      <td>4</td>\n      <td>Na de geboorte kunnen er problemen zoals aange...</td>\n      <td>Welke problemen kunnen er zoal ontstaan na een...</td>\n      <td>Na de geboorte kunnen er problemen zoals aange...</td>\n      <td>[0.03156107295980677, -0.019481835914004948, 0...</td>\n      <td>location</td>\n      <td>https://www.azstlucas.be/onderzoek-en-behandel...</td>\n      <td>0.127660</td>\n    </tr>\n    <tr>\n      <th>598</th>\n      <td>498</td>\n      <td>Is er een verschil in de beschikbaarheid van s...</td>\n      <td>[0.0076592760011275065, -0.014072727384555625,...</td>\n      <td>4</td>\n      <td>Na de geboorte kunnen er problemen zoals aange...</td>\n      <td>Welke problemen kunnen er zoal ontstaan na een...</td>\n      <td>Na de geboorte kunnen er problemen zoals aange...</td>\n      <td>[0.03156107295980677, -0.019481835914004948, 0...</td>\n      <td>location</td>\n      <td>https://www.azstlucas.be/onderzoek-en-behandel...</td>\n      <td>0.135444</td>\n    </tr>\n  </tbody>\n</table>\n<p>599 rows × 11 columns</p>\n</div>"
          },
          "metadata": {}
        }
      ],
      "execution_count": 82,
      "metadata": {
        "jupyter": {
          "source_hidden": false,
          "outputs_hidden": false
        },
        "nteract": {
          "transient": {
            "deleting": false
          }
        },
        "gather": {
          "logged": 1702674765234
        }
      }
    },
    {
      "cell_type": "code",
      "source": [
        "!pip install plotly"
      ],
      "outputs": [
        {
          "output_type": "stream",
          "name": "stdout",
          "text": "Requirement already satisfied: plotly in /anaconda/envs/azureml_py38/lib/python3.8/site-packages (5.15.0)\r\nRequirement already satisfied: tenacity>=6.2.0 in /anaconda/envs/azureml_py38/lib/python3.8/site-packages (from plotly) (8.2.2)\r\nRequirement already satisfied: packaging in /anaconda/envs/azureml_py38/lib/python3.8/site-packages (from plotly) (23.0)\r\n"
        }
      ],
      "execution_count": 84,
      "metadata": {
        "jupyter": {
          "source_hidden": false,
          "outputs_hidden": false
        },
        "nteract": {
          "transient": {
            "deleting": false
          }
        },
        "gather": {
          "logged": 1702674770588
        }
      }
    },
    {
      "cell_type": "code",
      "source": [
        "eval_df.head(10)"
      ],
      "outputs": [
        {
          "output_type": "execute_result",
          "execution_count": 85,
          "data": {
            "text/plain": "   question_id                                      question_text  \\\n0           50  Is het toegestaan om in een academisch ziekenh...   \n1          150                            Baby oké, nu naar huis?   \n2          149                                Baby klaar, weg nu?   \n3          148                                Baby er, snel huis?   \n4          147                        Baby geboren, ik naar huis?   \n5          146                                  Baby er, ik huis?   \n6          145                                Na baby, huis gaan?   \n7          144                            Baby gezond, huis gaan?   \n8          143                                Baby en ik, weg nu?   \n9          142                             Baby klaar, naar huis?   \n\n                                  question_embedding  answer_id  \\\n0  [0.004562567368534598, -0.02192822616530894, -...          1   \n1  [-0.0008756839387770835, -0.03697606429392978,...          1   \n2  [-0.004362260274536889, -0.034600230348239086,...          1   \n3  [-0.010511535975893377, -0.03074530274562924, ...          1   \n4  [0.002126995245116866, -0.0329753384590574, -0...          1   \n5  [-0.004205518623489822, -0.04441825906751255, ...          1   \n6  [0.0029168254871937273, -0.03757585235274886, ...          1   \n7  [0.012589036608492678, -0.023663884369102113, ...          1   \n8  [-0.014475592121221592, -0.03457990219259041, ...          1   \n9  [0.0018282463657134105, -0.03494941003810354, ...          1   \n\n                                         answer_text  \\\n0  Neen, een pasgeboren baby moet de eerste 24 uu...   \n1  Neen, een pasgeboren baby moet de eerste 24 uu...   \n2  Neen, een pasgeboren baby moet de eerste 24 uu...   \n3  Neen, een pasgeboren baby moet de eerste 24 uu...   \n4  Neen, een pasgeboren baby moet de eerste 24 uu...   \n5  Neen, een pasgeboren baby moet de eerste 24 uu...   \n6  Neen, een pasgeboren baby moet de eerste 24 uu...   \n7  Neen, een pasgeboren baby moet de eerste 24 uu...   \n8  Neen, een pasgeboren baby moet de eerste 24 uu...   \n9  Neen, een pasgeboren baby moet de eerste 24 uu...   \n\n                                  archetype_question  \\\n0  Mag ik na 6u na de geboorte naar huis met mijn...   \n1  Mag ik na 6u na de geboorte naar huis met mijn...   \n2  Mag ik na 6u na de geboorte naar huis met mijn...   \n3  Mag ik na 6u na de geboorte naar huis met mijn...   \n4  Mag ik na 6u na de geboorte naar huis met mijn...   \n5  Mag ik na 6u na de geboorte naar huis met mijn...   \n6  Mag ik na 6u na de geboorte naar huis met mijn...   \n7  Mag ik na 6u na de geboorte naar huis met mijn...   \n8  Mag ik na 6u na de geboorte naar huis met mijn...   \n9  Mag ik na 6u na de geboorte naar huis met mijn...   \n\n                                    archetype_answer  \\\n0  Neen, een pasgeboren baby moet de eerste 24 uu...   \n1  Neen, een pasgeboren baby moet de eerste 24 uu...   \n2  Neen, een pasgeboren baby moet de eerste 24 uu...   \n3  Neen, een pasgeboren baby moet de eerste 24 uu...   \n4  Neen, een pasgeboren baby moet de eerste 24 uu...   \n5  Neen, een pasgeboren baby moet de eerste 24 uu...   \n6  Neen, een pasgeboren baby moet de eerste 24 uu...   \n7  Neen, een pasgeboren baby moet de eerste 24 uu...   \n8  Neen, een pasgeboren baby moet de eerste 24 uu...   \n9  Neen, een pasgeboren baby moet de eerste 24 uu...   \n\n                        archetype_question_embedding         group  \\\n0  [0.01071266053997743, -0.022445575617780624, -...      location   \n1  [0.01071266053997743, -0.022445575617780624, -...  low_literacy   \n2  [0.01071266053997743, -0.022445575617780624, -...  low_literacy   \n3  [0.01071266053997743, -0.022445575617780624, -...  low_literacy   \n4  [0.01071266053997743, -0.022445575617780624, -...  low_literacy   \n5  [0.01071266053997743, -0.022445575617780624, -...  low_literacy   \n6  [0.01071266053997743, -0.022445575617780624, -...  low_literacy   \n7  [0.01071266053997743, -0.022445575617780624, -...  low_literacy   \n8  [0.01071266053997743, -0.022445575617780624, -...  low_literacy   \n9  [0.01071266053997743, -0.022445575617780624, -...  low_literacy   \n\n                                              source  cosine_distance  \n0  https://www.azstlucas.be/onderzoek-en-behandel...         0.065959  \n1  https://www.azstlucas.be/onderzoek-en-behandel...         0.146958  \n2  https://www.azstlucas.be/onderzoek-en-behandel...         0.171928  \n3  https://www.azstlucas.be/onderzoek-en-behandel...         0.138975  \n4  https://www.azstlucas.be/onderzoek-en-behandel...         0.095512  \n5  https://www.azstlucas.be/onderzoek-en-behandel...         0.133410  \n6  https://www.azstlucas.be/onderzoek-en-behandel...         0.130254  \n7  https://www.azstlucas.be/onderzoek-en-behandel...         0.125775  \n8  https://www.azstlucas.be/onderzoek-en-behandel...         0.173437  \n9  https://www.azstlucas.be/onderzoek-en-behandel...         0.134104  ",
            "text/html": "<div>\n<style scoped>\n    .dataframe tbody tr th:only-of-type {\n        vertical-align: middle;\n    }\n\n    .dataframe tbody tr th {\n        vertical-align: top;\n    }\n\n    .dataframe thead th {\n        text-align: right;\n    }\n</style>\n<table border=\"1\" class=\"dataframe\">\n  <thead>\n    <tr style=\"text-align: right;\">\n      <th></th>\n      <th>question_id</th>\n      <th>question_text</th>\n      <th>question_embedding</th>\n      <th>answer_id</th>\n      <th>answer_text</th>\n      <th>archetype_question</th>\n      <th>archetype_answer</th>\n      <th>archetype_question_embedding</th>\n      <th>group</th>\n      <th>source</th>\n      <th>cosine_distance</th>\n    </tr>\n  </thead>\n  <tbody>\n    <tr>\n      <th>0</th>\n      <td>50</td>\n      <td>Is het toegestaan om in een academisch ziekenh...</td>\n      <td>[0.004562567368534598, -0.02192822616530894, -...</td>\n      <td>1</td>\n      <td>Neen, een pasgeboren baby moet de eerste 24 uu...</td>\n      <td>Mag ik na 6u na de geboorte naar huis met mijn...</td>\n      <td>Neen, een pasgeboren baby moet de eerste 24 uu...</td>\n      <td>[0.01071266053997743, -0.022445575617780624, -...</td>\n      <td>location</td>\n      <td>https://www.azstlucas.be/onderzoek-en-behandel...</td>\n      <td>0.065959</td>\n    </tr>\n    <tr>\n      <th>1</th>\n      <td>150</td>\n      <td>Baby oké, nu naar huis?</td>\n      <td>[-0.0008756839387770835, -0.03697606429392978,...</td>\n      <td>1</td>\n      <td>Neen, een pasgeboren baby moet de eerste 24 uu...</td>\n      <td>Mag ik na 6u na de geboorte naar huis met mijn...</td>\n      <td>Neen, een pasgeboren baby moet de eerste 24 uu...</td>\n      <td>[0.01071266053997743, -0.022445575617780624, -...</td>\n      <td>low_literacy</td>\n      <td>https://www.azstlucas.be/onderzoek-en-behandel...</td>\n      <td>0.146958</td>\n    </tr>\n    <tr>\n      <th>2</th>\n      <td>149</td>\n      <td>Baby klaar, weg nu?</td>\n      <td>[-0.004362260274536889, -0.034600230348239086,...</td>\n      <td>1</td>\n      <td>Neen, een pasgeboren baby moet de eerste 24 uu...</td>\n      <td>Mag ik na 6u na de geboorte naar huis met mijn...</td>\n      <td>Neen, een pasgeboren baby moet de eerste 24 uu...</td>\n      <td>[0.01071266053997743, -0.022445575617780624, -...</td>\n      <td>low_literacy</td>\n      <td>https://www.azstlucas.be/onderzoek-en-behandel...</td>\n      <td>0.171928</td>\n    </tr>\n    <tr>\n      <th>3</th>\n      <td>148</td>\n      <td>Baby er, snel huis?</td>\n      <td>[-0.010511535975893377, -0.03074530274562924, ...</td>\n      <td>1</td>\n      <td>Neen, een pasgeboren baby moet de eerste 24 uu...</td>\n      <td>Mag ik na 6u na de geboorte naar huis met mijn...</td>\n      <td>Neen, een pasgeboren baby moet de eerste 24 uu...</td>\n      <td>[0.01071266053997743, -0.022445575617780624, -...</td>\n      <td>low_literacy</td>\n      <td>https://www.azstlucas.be/onderzoek-en-behandel...</td>\n      <td>0.138975</td>\n    </tr>\n    <tr>\n      <th>4</th>\n      <td>147</td>\n      <td>Baby geboren, ik naar huis?</td>\n      <td>[0.002126995245116866, -0.0329753384590574, -0...</td>\n      <td>1</td>\n      <td>Neen, een pasgeboren baby moet de eerste 24 uu...</td>\n      <td>Mag ik na 6u na de geboorte naar huis met mijn...</td>\n      <td>Neen, een pasgeboren baby moet de eerste 24 uu...</td>\n      <td>[0.01071266053997743, -0.022445575617780624, -...</td>\n      <td>low_literacy</td>\n      <td>https://www.azstlucas.be/onderzoek-en-behandel...</td>\n      <td>0.095512</td>\n    </tr>\n    <tr>\n      <th>5</th>\n      <td>146</td>\n      <td>Baby er, ik huis?</td>\n      <td>[-0.004205518623489822, -0.04441825906751255, ...</td>\n      <td>1</td>\n      <td>Neen, een pasgeboren baby moet de eerste 24 uu...</td>\n      <td>Mag ik na 6u na de geboorte naar huis met mijn...</td>\n      <td>Neen, een pasgeboren baby moet de eerste 24 uu...</td>\n      <td>[0.01071266053997743, -0.022445575617780624, -...</td>\n      <td>low_literacy</td>\n      <td>https://www.azstlucas.be/onderzoek-en-behandel...</td>\n      <td>0.133410</td>\n    </tr>\n    <tr>\n      <th>6</th>\n      <td>145</td>\n      <td>Na baby, huis gaan?</td>\n      <td>[0.0029168254871937273, -0.03757585235274886, ...</td>\n      <td>1</td>\n      <td>Neen, een pasgeboren baby moet de eerste 24 uu...</td>\n      <td>Mag ik na 6u na de geboorte naar huis met mijn...</td>\n      <td>Neen, een pasgeboren baby moet de eerste 24 uu...</td>\n      <td>[0.01071266053997743, -0.022445575617780624, -...</td>\n      <td>low_literacy</td>\n      <td>https://www.azstlucas.be/onderzoek-en-behandel...</td>\n      <td>0.130254</td>\n    </tr>\n    <tr>\n      <th>7</th>\n      <td>144</td>\n      <td>Baby gezond, huis gaan?</td>\n      <td>[0.012589036608492678, -0.023663884369102113, ...</td>\n      <td>1</td>\n      <td>Neen, een pasgeboren baby moet de eerste 24 uu...</td>\n      <td>Mag ik na 6u na de geboorte naar huis met mijn...</td>\n      <td>Neen, een pasgeboren baby moet de eerste 24 uu...</td>\n      <td>[0.01071266053997743, -0.022445575617780624, -...</td>\n      <td>low_literacy</td>\n      <td>https://www.azstlucas.be/onderzoek-en-behandel...</td>\n      <td>0.125775</td>\n    </tr>\n    <tr>\n      <th>8</th>\n      <td>143</td>\n      <td>Baby en ik, weg nu?</td>\n      <td>[-0.014475592121221592, -0.03457990219259041, ...</td>\n      <td>1</td>\n      <td>Neen, een pasgeboren baby moet de eerste 24 uu...</td>\n      <td>Mag ik na 6u na de geboorte naar huis met mijn...</td>\n      <td>Neen, een pasgeboren baby moet de eerste 24 uu...</td>\n      <td>[0.01071266053997743, -0.022445575617780624, -...</td>\n      <td>low_literacy</td>\n      <td>https://www.azstlucas.be/onderzoek-en-behandel...</td>\n      <td>0.173437</td>\n    </tr>\n    <tr>\n      <th>9</th>\n      <td>142</td>\n      <td>Baby klaar, naar huis?</td>\n      <td>[0.0018282463657134105, -0.03494941003810354, ...</td>\n      <td>1</td>\n      <td>Neen, een pasgeboren baby moet de eerste 24 uu...</td>\n      <td>Mag ik na 6u na de geboorte naar huis met mijn...</td>\n      <td>Neen, een pasgeboren baby moet de eerste 24 uu...</td>\n      <td>[0.01071266053997743, -0.022445575617780624, -...</td>\n      <td>low_literacy</td>\n      <td>https://www.azstlucas.be/onderzoek-en-behandel...</td>\n      <td>0.134104</td>\n    </tr>\n  </tbody>\n</table>\n</div>"
          },
          "metadata": {}
        }
      ],
      "execution_count": 85,
      "metadata": {
        "jupyter": {
          "source_hidden": false,
          "outputs_hidden": false
        },
        "nteract": {
          "transient": {
            "deleting": false
          }
        },
        "gather": {
          "logged": 1702675016267
        }
      }
    },
    {
      "cell_type": "code",
      "source": [
        "def calc_pairwise_distances(df: pd.DataFrame) -> pd.DataFrame: \n",
        "    # add constant distances. \n",
        "    for i, arch_qemb in enumerate(answer_df['archetype_question_embedding']):\n",
        "        df[f'archq{i+1}_emb'] = df.apply(lambda _: arch_qemb.copy(), axis=1)\n",
        "        df = cosine_similarity_list(\n",
        "            df, \n",
        "            col_name=f'archq{i+1}_cosim',\n",
        "            col_a='question_embedding',\n",
        "            col_b=f'archq{i+1}_emb'\n",
        "        )\n",
        "    return df \n",
        "    \n",
        "def get_shortest_dist(df: pd.DataFrame) -> pd.DataFrame: \n",
        "    min_question_ids = []\n",
        "    min_cosims = []\n",
        "    cosim_cols = [f'archq{a}_cosim' for a in answer_df['answer_id']]\n",
        "\n",
        "    for i, obj in df.iterrows(): \n",
        "        cosim_vals = [obj[k] for k in cosim_cols]\n",
        "        min_cosim_val = min(cosim_vals)\n",
        "        min_cosim_idx = cosim_vals.index(min_cosim_val)\n",
        "        min_cosims.append(min_cosim_val)\n",
        "        min_question_ids.append(min_cosim_idx + 1)\n",
        "\n",
        "    df['closest_answer_id'] = min_question_ids\n",
        "    df['closest_cosim'] = min_cosims\n",
        "    return df \n",
        "\n",
        "def get_right_wrong(df: pd.DataFrame) -> pd.DataFrame: \n",
        "    df['archq_closest'] = (df['answer_id'] == df['closest_answer_id']).astype('int64')\n",
        "    return df\n",
        "\n",
        "pairwise_eval_df = (\n",
        "    eval_df[[\n",
        "        'question_id', \n",
        "        'question_text', \n",
        "        'question_embedding', \n",
        "        'group',\n",
        "        'answer_id',\n",
        "        'answer_text',\n",
        "        'archetype_question',\n",
        "    ]].copy(deep=True)\n",
        "    .pipe(calc_pairwise_distances)\n",
        "    .pipe(get_shortest_dist)\n",
        "    .pipe(get_right_wrong)\n",
        "    .pipe(pd.DataFrame.rename, columns={\n",
        "        \"answer_text\": \"archetype_answer\", \n",
        "        \"answer_id\": \"archetype_answer_id\"\n",
        "    })\n",
        ")\n",
        "\n",
        "final_evaluation_df = (\n",
        "    pairwise_eval_df[[\n",
        "        'question_id', \n",
        "        'question_text', \n",
        "        'archetype_question',\n",
        "        'archetype_answer',\n",
        "        'group', \n",
        "        'archetype_answer_id',\n",
        "        'archq1_cosim',\n",
        "        'archq2_cosim',\n",
        "        'archq3_cosim',\n",
        "        'archq4_cosim', \n",
        "        'closest_answer_id',\n",
        "        'closest_cosim',\n",
        "        'archq_closest'\n",
        "    ]]\n",
        "    # .pipe(lambda df: df[df.archq_closest == 0])\n",
        ")\n",
        "\n",
        "final_evaluation_df"
      ],
      "outputs": [
        {
          "output_type": "execute_result",
          "execution_count": 124,
          "data": {
            "text/plain": "     question_id                                      question_text  \\\n0             50  Is het toegestaan om in een academisch ziekenh...   \n1            150                            Baby oké, nu naar huis?   \n2            149                                Baby klaar, weg nu?   \n3            148                                Baby er, snel huis?   \n4            147                        Baby geboren, ik naar huis?   \n..           ...                                                ...   \n594          494  Is er iets dat ouders moeten doen of weten met...   \n595          495  Wat zijn de belangrijkste overwegingen bij het...   \n596          496  Kunnen dezelfde zorgmaatregelen worden genomen...   \n597          497  Wat moeten ouders doen als ze zich zorgen make...   \n598          498  Is er een verschil in de beschikbaarheid van s...   \n\n                                    archetype_question  \\\n0    Mag ik na 6u na de geboorte naar huis met mijn...   \n1    Mag ik na 6u na de geboorte naar huis met mijn...   \n2    Mag ik na 6u na de geboorte naar huis met mijn...   \n3    Mag ik na 6u na de geboorte naar huis met mijn...   \n4    Mag ik na 6u na de geboorte naar huis met mijn...   \n..                                                 ...   \n594  Welke problemen kunnen er zoal ontstaan na een...   \n595  Welke problemen kunnen er zoal ontstaan na een...   \n596  Welke problemen kunnen er zoal ontstaan na een...   \n597  Welke problemen kunnen er zoal ontstaan na een...   \n598  Welke problemen kunnen er zoal ontstaan na een...   \n\n                                      archetype_answer         group  \\\n0    Neen, een pasgeboren baby moet de eerste 24 uu...      location   \n1    Neen, een pasgeboren baby moet de eerste 24 uu...  low_literacy   \n2    Neen, een pasgeboren baby moet de eerste 24 uu...  low_literacy   \n3    Neen, een pasgeboren baby moet de eerste 24 uu...  low_literacy   \n4    Neen, een pasgeboren baby moet de eerste 24 uu...  low_literacy   \n..                                                 ...           ...   \n594  Na de geboorte kunnen er problemen zoals aange...      location   \n595  Na de geboorte kunnen er problemen zoals aange...      location   \n596  Na de geboorte kunnen er problemen zoals aange...      location   \n597  Na de geboorte kunnen er problemen zoals aange...      location   \n598  Na de geboorte kunnen er problemen zoals aange...      location   \n\n     archetype_answer_id  archq1_cosim  archq2_cosim  archq3_cosim  \\\n0                      1      0.065959      0.116500      0.112070   \n1                      1      0.146958      0.140031      0.147055   \n2                      1      0.171928      0.160489      0.160960   \n3                      1      0.138975      0.137391      0.113837   \n4                      1      0.095512      0.124378      0.079105   \n..                   ...           ...           ...           ...   \n594                    4      0.174044      0.134112      0.135245   \n595                    4      0.176198      0.147297      0.140297   \n596                    4      0.163606      0.129979      0.139844   \n597                    4      0.183635      0.147891      0.143334   \n598                    4      0.181676      0.142732      0.153743   \n\n     archq4_cosim  closest_answer_id  closest_cosim  archq_closest  \n0        0.148158                  1       0.065959              1  \n1        0.209457                  2       0.140031              0  \n2        0.206592                  2       0.160489              0  \n3        0.191029                  3       0.113837              0  \n4        0.157814                  3       0.079105              0  \n..            ...                ...            ...            ...  \n594      0.111524                  4       0.111524              1  \n595      0.119217                  4       0.119217              1  \n596      0.124013                  4       0.124013              1  \n597      0.127660                  4       0.127660              1  \n598      0.135444                  4       0.135444              1  \n\n[599 rows x 13 columns]",
            "text/html": "<div>\n<style scoped>\n    .dataframe tbody tr th:only-of-type {\n        vertical-align: middle;\n    }\n\n    .dataframe tbody tr th {\n        vertical-align: top;\n    }\n\n    .dataframe thead th {\n        text-align: right;\n    }\n</style>\n<table border=\"1\" class=\"dataframe\">\n  <thead>\n    <tr style=\"text-align: right;\">\n      <th></th>\n      <th>question_id</th>\n      <th>question_text</th>\n      <th>archetype_question</th>\n      <th>archetype_answer</th>\n      <th>group</th>\n      <th>archetype_answer_id</th>\n      <th>archq1_cosim</th>\n      <th>archq2_cosim</th>\n      <th>archq3_cosim</th>\n      <th>archq4_cosim</th>\n      <th>closest_answer_id</th>\n      <th>closest_cosim</th>\n      <th>archq_closest</th>\n    </tr>\n  </thead>\n  <tbody>\n    <tr>\n      <th>0</th>\n      <td>50</td>\n      <td>Is het toegestaan om in een academisch ziekenh...</td>\n      <td>Mag ik na 6u na de geboorte naar huis met mijn...</td>\n      <td>Neen, een pasgeboren baby moet de eerste 24 uu...</td>\n      <td>location</td>\n      <td>1</td>\n      <td>0.065959</td>\n      <td>0.116500</td>\n      <td>0.112070</td>\n      <td>0.148158</td>\n      <td>1</td>\n      <td>0.065959</td>\n      <td>1</td>\n    </tr>\n    <tr>\n      <th>1</th>\n      <td>150</td>\n      <td>Baby oké, nu naar huis?</td>\n      <td>Mag ik na 6u na de geboorte naar huis met mijn...</td>\n      <td>Neen, een pasgeboren baby moet de eerste 24 uu...</td>\n      <td>low_literacy</td>\n      <td>1</td>\n      <td>0.146958</td>\n      <td>0.140031</td>\n      <td>0.147055</td>\n      <td>0.209457</td>\n      <td>2</td>\n      <td>0.140031</td>\n      <td>0</td>\n    </tr>\n    <tr>\n      <th>2</th>\n      <td>149</td>\n      <td>Baby klaar, weg nu?</td>\n      <td>Mag ik na 6u na de geboorte naar huis met mijn...</td>\n      <td>Neen, een pasgeboren baby moet de eerste 24 uu...</td>\n      <td>low_literacy</td>\n      <td>1</td>\n      <td>0.171928</td>\n      <td>0.160489</td>\n      <td>0.160960</td>\n      <td>0.206592</td>\n      <td>2</td>\n      <td>0.160489</td>\n      <td>0</td>\n    </tr>\n    <tr>\n      <th>3</th>\n      <td>148</td>\n      <td>Baby er, snel huis?</td>\n      <td>Mag ik na 6u na de geboorte naar huis met mijn...</td>\n      <td>Neen, een pasgeboren baby moet de eerste 24 uu...</td>\n      <td>low_literacy</td>\n      <td>1</td>\n      <td>0.138975</td>\n      <td>0.137391</td>\n      <td>0.113837</td>\n      <td>0.191029</td>\n      <td>3</td>\n      <td>0.113837</td>\n      <td>0</td>\n    </tr>\n    <tr>\n      <th>4</th>\n      <td>147</td>\n      <td>Baby geboren, ik naar huis?</td>\n      <td>Mag ik na 6u na de geboorte naar huis met mijn...</td>\n      <td>Neen, een pasgeboren baby moet de eerste 24 uu...</td>\n      <td>low_literacy</td>\n      <td>1</td>\n      <td>0.095512</td>\n      <td>0.124378</td>\n      <td>0.079105</td>\n      <td>0.157814</td>\n      <td>3</td>\n      <td>0.079105</td>\n      <td>0</td>\n    </tr>\n    <tr>\n      <th>...</th>\n      <td>...</td>\n      <td>...</td>\n      <td>...</td>\n      <td>...</td>\n      <td>...</td>\n      <td>...</td>\n      <td>...</td>\n      <td>...</td>\n      <td>...</td>\n      <td>...</td>\n      <td>...</td>\n      <td>...</td>\n      <td>...</td>\n    </tr>\n    <tr>\n      <th>594</th>\n      <td>494</td>\n      <td>Is er iets dat ouders moeten doen of weten met...</td>\n      <td>Welke problemen kunnen er zoal ontstaan na een...</td>\n      <td>Na de geboorte kunnen er problemen zoals aange...</td>\n      <td>location</td>\n      <td>4</td>\n      <td>0.174044</td>\n      <td>0.134112</td>\n      <td>0.135245</td>\n      <td>0.111524</td>\n      <td>4</td>\n      <td>0.111524</td>\n      <td>1</td>\n    </tr>\n    <tr>\n      <th>595</th>\n      <td>495</td>\n      <td>Wat zijn de belangrijkste overwegingen bij het...</td>\n      <td>Welke problemen kunnen er zoal ontstaan na een...</td>\n      <td>Na de geboorte kunnen er problemen zoals aange...</td>\n      <td>location</td>\n      <td>4</td>\n      <td>0.176198</td>\n      <td>0.147297</td>\n      <td>0.140297</td>\n      <td>0.119217</td>\n      <td>4</td>\n      <td>0.119217</td>\n      <td>1</td>\n    </tr>\n    <tr>\n      <th>596</th>\n      <td>496</td>\n      <td>Kunnen dezelfde zorgmaatregelen worden genomen...</td>\n      <td>Welke problemen kunnen er zoal ontstaan na een...</td>\n      <td>Na de geboorte kunnen er problemen zoals aange...</td>\n      <td>location</td>\n      <td>4</td>\n      <td>0.163606</td>\n      <td>0.129979</td>\n      <td>0.139844</td>\n      <td>0.124013</td>\n      <td>4</td>\n      <td>0.124013</td>\n      <td>1</td>\n    </tr>\n    <tr>\n      <th>597</th>\n      <td>497</td>\n      <td>Wat moeten ouders doen als ze zich zorgen make...</td>\n      <td>Welke problemen kunnen er zoal ontstaan na een...</td>\n      <td>Na de geboorte kunnen er problemen zoals aange...</td>\n      <td>location</td>\n      <td>4</td>\n      <td>0.183635</td>\n      <td>0.147891</td>\n      <td>0.143334</td>\n      <td>0.127660</td>\n      <td>4</td>\n      <td>0.127660</td>\n      <td>1</td>\n    </tr>\n    <tr>\n      <th>598</th>\n      <td>498</td>\n      <td>Is er een verschil in de beschikbaarheid van s...</td>\n      <td>Welke problemen kunnen er zoal ontstaan na een...</td>\n      <td>Na de geboorte kunnen er problemen zoals aange...</td>\n      <td>location</td>\n      <td>4</td>\n      <td>0.181676</td>\n      <td>0.142732</td>\n      <td>0.153743</td>\n      <td>0.135444</td>\n      <td>4</td>\n      <td>0.135444</td>\n      <td>1</td>\n    </tr>\n  </tbody>\n</table>\n<p>599 rows × 13 columns</p>\n</div>"
          },
          "metadata": {}
        }
      ],
      "execution_count": 124,
      "metadata": {
        "jupyter": {
          "source_hidden": false,
          "outputs_hidden": false
        },
        "nteract": {
          "transient": {
            "deleting": false
          }
        },
        "gather": {
          "logged": 1702679448733
        }
      }
    },
    {
      "cell_type": "markdown",
      "source": [
        "# Evaluation\n",
        "\n",
        "The following pandas data frame summarizes the cosine similarity for a particular question_text to other archetype questions (`archq{i}`_cosim columns). If the `question_text` is closest to its actual archetype question, `closest_answer_id` matches `archetype_answer_id` and `archq_closest` is 1. Otherwise `archq_closest` is 0. "
      ],
      "metadata": {
        "nteract": {
          "transient": {
            "deleting": false
          }
        }
      }
    },
    {
      "cell_type": "code",
      "source": [
        "final_evaluation_df.head(5)"
      ],
      "outputs": [
        {
          "output_type": "execute_result",
          "execution_count": 125,
          "data": {
            "text/plain": "   question_id                                      question_text  \\\n0           50  Is het toegestaan om in een academisch ziekenh...   \n1          150                            Baby oké, nu naar huis?   \n2          149                                Baby klaar, weg nu?   \n3          148                                Baby er, snel huis?   \n4          147                        Baby geboren, ik naar huis?   \n\n                                  archetype_question  \\\n0  Mag ik na 6u na de geboorte naar huis met mijn...   \n1  Mag ik na 6u na de geboorte naar huis met mijn...   \n2  Mag ik na 6u na de geboorte naar huis met mijn...   \n3  Mag ik na 6u na de geboorte naar huis met mijn...   \n4  Mag ik na 6u na de geboorte naar huis met mijn...   \n\n                                    archetype_answer         group  \\\n0  Neen, een pasgeboren baby moet de eerste 24 uu...      location   \n1  Neen, een pasgeboren baby moet de eerste 24 uu...  low_literacy   \n2  Neen, een pasgeboren baby moet de eerste 24 uu...  low_literacy   \n3  Neen, een pasgeboren baby moet de eerste 24 uu...  low_literacy   \n4  Neen, een pasgeboren baby moet de eerste 24 uu...  low_literacy   \n\n   archetype_answer_id  archq1_cosim  archq2_cosim  archq3_cosim  \\\n0                    1      0.065959      0.116500      0.112070   \n1                    1      0.146958      0.140031      0.147055   \n2                    1      0.171928      0.160489      0.160960   \n3                    1      0.138975      0.137391      0.113837   \n4                    1      0.095512      0.124378      0.079105   \n\n   archq4_cosim  closest_answer_id  closest_cosim  archq_closest  \n0      0.148158                  1       0.065959              1  \n1      0.209457                  2       0.140031              0  \n2      0.206592                  2       0.160489              0  \n3      0.191029                  3       0.113837              0  \n4      0.157814                  3       0.079105              0  ",
            "text/html": "<div>\n<style scoped>\n    .dataframe tbody tr th:only-of-type {\n        vertical-align: middle;\n    }\n\n    .dataframe tbody tr th {\n        vertical-align: top;\n    }\n\n    .dataframe thead th {\n        text-align: right;\n    }\n</style>\n<table border=\"1\" class=\"dataframe\">\n  <thead>\n    <tr style=\"text-align: right;\">\n      <th></th>\n      <th>question_id</th>\n      <th>question_text</th>\n      <th>archetype_question</th>\n      <th>archetype_answer</th>\n      <th>group</th>\n      <th>archetype_answer_id</th>\n      <th>archq1_cosim</th>\n      <th>archq2_cosim</th>\n      <th>archq3_cosim</th>\n      <th>archq4_cosim</th>\n      <th>closest_answer_id</th>\n      <th>closest_cosim</th>\n      <th>archq_closest</th>\n    </tr>\n  </thead>\n  <tbody>\n    <tr>\n      <th>0</th>\n      <td>50</td>\n      <td>Is het toegestaan om in een academisch ziekenh...</td>\n      <td>Mag ik na 6u na de geboorte naar huis met mijn...</td>\n      <td>Neen, een pasgeboren baby moet de eerste 24 uu...</td>\n      <td>location</td>\n      <td>1</td>\n      <td>0.065959</td>\n      <td>0.116500</td>\n      <td>0.112070</td>\n      <td>0.148158</td>\n      <td>1</td>\n      <td>0.065959</td>\n      <td>1</td>\n    </tr>\n    <tr>\n      <th>1</th>\n      <td>150</td>\n      <td>Baby oké, nu naar huis?</td>\n      <td>Mag ik na 6u na de geboorte naar huis met mijn...</td>\n      <td>Neen, een pasgeboren baby moet de eerste 24 uu...</td>\n      <td>low_literacy</td>\n      <td>1</td>\n      <td>0.146958</td>\n      <td>0.140031</td>\n      <td>0.147055</td>\n      <td>0.209457</td>\n      <td>2</td>\n      <td>0.140031</td>\n      <td>0</td>\n    </tr>\n    <tr>\n      <th>2</th>\n      <td>149</td>\n      <td>Baby klaar, weg nu?</td>\n      <td>Mag ik na 6u na de geboorte naar huis met mijn...</td>\n      <td>Neen, een pasgeboren baby moet de eerste 24 uu...</td>\n      <td>low_literacy</td>\n      <td>1</td>\n      <td>0.171928</td>\n      <td>0.160489</td>\n      <td>0.160960</td>\n      <td>0.206592</td>\n      <td>2</td>\n      <td>0.160489</td>\n      <td>0</td>\n    </tr>\n    <tr>\n      <th>3</th>\n      <td>148</td>\n      <td>Baby er, snel huis?</td>\n      <td>Mag ik na 6u na de geboorte naar huis met mijn...</td>\n      <td>Neen, een pasgeboren baby moet de eerste 24 uu...</td>\n      <td>low_literacy</td>\n      <td>1</td>\n      <td>0.138975</td>\n      <td>0.137391</td>\n      <td>0.113837</td>\n      <td>0.191029</td>\n      <td>3</td>\n      <td>0.113837</td>\n      <td>0</td>\n    </tr>\n    <tr>\n      <th>4</th>\n      <td>147</td>\n      <td>Baby geboren, ik naar huis?</td>\n      <td>Mag ik na 6u na de geboorte naar huis met mijn...</td>\n      <td>Neen, een pasgeboren baby moet de eerste 24 uu...</td>\n      <td>low_literacy</td>\n      <td>1</td>\n      <td>0.095512</td>\n      <td>0.124378</td>\n      <td>0.079105</td>\n      <td>0.157814</td>\n      <td>3</td>\n      <td>0.079105</td>\n      <td>0</td>\n    </tr>\n  </tbody>\n</table>\n</div>"
          },
          "metadata": {}
        }
      ],
      "execution_count": 125,
      "metadata": {
        "jupyter": {
          "source_hidden": false,
          "outputs_hidden": false
        },
        "nteract": {
          "transient": {
            "deleting": false
          }
        },
        "gather": {
          "logged": 1702679492233
        }
      }
    },
    {
      "cell_type": "markdown",
      "source": [
        "## Cosine Distributions \n",
        "\n",
        "Distribution of Cosine Similarity Scores: Histograms or box plots for each archq{i}_cosim column to see the distribution of cosine similarity scores. This can help identify if certain archetypes are consistently scoring higher or lower."
      ],
      "metadata": {
        "nteract": {
          "transient": {
            "deleting": false
          }
        }
      }
    },
    {
      "cell_type": "code",
      "source": [
        "import plotly.express as px\n",
        "\n",
        "\n",
        "for i in answer_df['answer_id']: \n",
        "    # Assuming your DataFrame is named df\n",
        "    fig = px.histogram(\n",
        "        final_evaluation_df, \n",
        "        x=f\"archq{i}_cosim\", \n",
        "        nbins=30, \n",
        "        title=f\"Distribution of Cosine Similarity for Archetype {i}\"\n",
        "    )\n",
        "    fig.show()\n"
      ],
      "outputs": [
        {
          "output_type": "display_data",
          "data": {
            "application/vnd.plotly.v1+json": {
              "data": [
                {
                  "alignmentgroup": "True",
                  "bingroup": "x",
                  "hovertemplate": "archq1_cosim=%{x}<br>count=%{y}<extra></extra>",
                  "legendgroup": "",
                  "marker": {
                    "color": "#636efa",
                    "pattern": {
                      "shape": ""
                    }
                  },
                  "name": "",
                  "nbinsx": 30,
                  "offsetgroup": "",
                  "orientation": "v",
                  "showlegend": false,
                  "x": [
                    0.06595879700269358,
                    0.14695762285245473,
                    0.17192834090166087,
                    0.1389750806222556,
                    0.09551227671738804,
                    0.1334104174325741,
                    0.13025367049950298,
                    0.1257745964218625,
                    0.17343664379287926,
                    0.1341037744185828,
                    0.16777028234338165,
                    0.14342898610094723,
                    0.12512422103186327,
                    0.16249000439984063,
                    0.1543484050695918,
                    0.12770666719270252,
                    0.14157167762253642,
                    0.14910321885868028,
                    0.15997581049187393,
                    0.14893264570402032,
                    0.12072749063518162,
                    0.1251582069302899,
                    0.17300176753364227,
                    0.17126951152218373,
                    0.11578981523818321,
                    0.10838315780498664,
                    0.071133296911287,
                    0.06958996202339673,
                    0.12113068005354266,
                    0.12250655824280554,
                    0.12160214819389159,
                    0.0846838681660953,
                    0.07375999906515696,
                    0.12261344628073101,
                    0.10800686853200325,
                    0.0724846793606354,
                    0.12522680873830183,
                    0.07882880187430175,
                    0.1170640250666437,
                    0.06339332887498794,
                    0.10126138373807392,
                    0.1072825407901099,
                    0.0702300255590913,
                    0.10630429129330532,
                    0.1133350751883202,
                    0.07990315920863467,
                    0.1292481980261223,
                    0.07618106478774311,
                    0.14488057963472867,
                    0.06428168826416347,
                    0.11960469879471547,
                    0.06962409458354735,
                    0.0666962822560101,
                    0.0754864808370449,
                    0.07894276330842631,
                    0.06440674540455393,
                    0.08138691940887433,
                    0.07121625924433905,
                    0.07073500854377168,
                    0.07901405035052833,
                    0.07585918683468185,
                    0.08773849780227083,
                    0.06836404034189925,
                    0.05748208429907886,
                    0.06748838297434667,
                    0.07666681397004915,
                    0.05837120217360936,
                    0.07597137966587653,
                    0.06371391082732858,
                    0.06998822379656067,
                    0.05883034760405759,
                    0.07167277361885949,
                    0.07364961778504886,
                    0.07216944102289768,
                    0.07796341816996921,
                    0.0575509640654841,
                    0.08276313707134031,
                    0.08397442517388931,
                    0.08498289182099594,
                    0.07033442189330885,
                    0.08681073663937056,
                    0.04639092218427343,
                    0.08231033004932198,
                    0.06660413711771451,
                    0.07812372682510382,
                    0.08799926525804236,
                    0.08730603847110485,
                    0.07779555289781614,
                    0.095322807264281,
                    0.053459771919292076,
                    0.0859117650106842,
                    0.06230621486425425,
                    0.06678961506803405,
                    0.0652513406809817,
                    0.05649468408129421,
                    0.07052316750876919,
                    0.08761394795453259,
                    0.06651598908138212,
                    0.07790166730530657,
                    0.10039378217095918,
                    0.047325098313189096,
                    0.09499150134321543,
                    0.07565018486048825,
                    0.1091772587928207,
                    0.09519928526167565,
                    0.09316655520520145,
                    0.06865982495128031,
                    0.0991124929867081,
                    0.09151712981092863,
                    0.10260052783126572,
                    0.09011259776953928,
                    0.09322000781738449,
                    0.0907771860955231,
                    0.09490313262492633,
                    0.09106762499336774,
                    0.09082443115856986,
                    0.08469612970933371,
                    0.07714778261272504,
                    0.07698577598364709,
                    0.08718470352958574,
                    0.08997059833565568,
                    0.09670676969170011,
                    0.08993104838570787,
                    0.08641821756014578,
                    0.08408326962285506,
                    0.08744457278230255,
                    0.05192296765427251,
                    0.06602631696054628,
                    0.04817179349082146,
                    0.05911820854700389,
                    0.07102146466287385,
                    0.05631011182645862,
                    0.07550395526353326,
                    0.05990717849355531,
                    0.05674162014738282,
                    0.05450478506504697,
                    0.05383745690917541,
                    0.06087963551506714,
                    0.05937154495585717,
                    0.06891755453661041,
                    0.0652844314370381,
                    0.06992587513937654,
                    0.06543442802973998,
                    0.06925580074609083,
                    0.051201896968669836,
                    0.06621738555787382,
                    0.0625092087394713,
                    0.058923388684044564,
                    0.0766047680471803,
                    0.06523376874239784,
                    0.1302434802794945,
                    0.09880536145402519,
                    0.12521237362899829,
                    0.1473665517092153,
                    0.11707504401255653,
                    0.09526982902439074,
                    0.16893699562044784,
                    0.09239413029924337,
                    0.15134424858666473,
                    0.11394412490690176,
                    0.09876749560690723,
                    0.1544848737112623,
                    0.14604784694585915,
                    0.13209483086016427,
                    0.12698846090686033,
                    0.15890575732515466,
                    0.10329703292004155,
                    0.1364167129201378,
                    0.15394348686056125,
                    0.11394412490690176,
                    0.14623192955314734,
                    0.0919443864760845,
                    0.14742761296903573,
                    0.10799514470314053,
                    0.092279765883717,
                    0.09731613877628575,
                    0.15833975603983352,
                    0.10016044188134432,
                    0.11454023788167134,
                    0.14118069718573778,
                    0.0848050514829406,
                    0.10710435511891425,
                    0.1366625819387175,
                    0.1486258837056872,
                    0.09425350076963435,
                    0.1413567933194616,
                    0.08958542853420015,
                    0.08691660641080379,
                    0.09747598743571195,
                    0.08230547358041385,
                    0.1028868332936258,
                    0.09007735715404852,
                    0.14789169918078104,
                    0.10333341695561316,
                    0.12664962793002832,
                    0.06838623467458826,
                    0.13753580690970968,
                    0.1032988931896931,
                    0.13426500061994928,
                    0.08265109743033738,
                    0.09426837409994049,
                    0.13447154146714624,
                    0.10011280963683222,
                    0.13049635032416795,
                    0.13850418295211075,
                    0.10015466698111541,
                    0.14371634586216553,
                    0.12338363163862698,
                    0.15141753104820843,
                    0.10729511390752322,
                    0.14504570012177653,
                    0.10638872638080477,
                    0.11222730160571415,
                    0.10708894515631429,
                    0.09213249994753014,
                    0.12675751468496743,
                    0.11165181496667542,
                    0.13405428504491212,
                    0.08273682283200423,
                    0.14003072142905326,
                    0.10880991378501892,
                    0.13196553679914702,
                    0.10850764198716911,
                    0.13693225928003117,
                    0.10681150683739549,
                    0.0893661075479657,
                    0.13438222153118395,
                    0.09320514889542897,
                    0.11967812576292713,
                    0.1424901678194369,
                    0.08755179842933913,
                    0.14533587317231988,
                    0.11400787605363016,
                    0.1512327214274768,
                    0.09947561501685798,
                    0.14876512409209952,
                    0.10758596381844876,
                    0.0997411777202396,
                    0.1020788292065884,
                    0.08460867328407318,
                    0.11730412284698888,
                    0.10295958709618414,
                    0.1482394518887079,
                    0.08099573169685748,
                    0.13965918610477523,
                    0.09189009370031764,
                    0.13303496975325146,
                    0.09326141004260202,
                    0.13883209388956408,
                    0.11171326889384592,
                    0.08793289552753847,
                    0.11095268619083576,
                    0.09621587964799416,
                    0.12006763809669085,
                    0.1219593414532183,
                    0.07986302924303446,
                    0.13826940227392825,
                    0.11731091293840967,
                    0.10139225430746701,
                    0.1131807839583796,
                    0.13186310549494484,
                    0.14593313748921588,
                    0.08391741378891726,
                    0.12139124653469258,
                    0.1271318921604465,
                    0.1354191338920655,
                    0.08334617508954745,
                    0.14064521647113382,
                    0.11843344327492467,
                    0.14680639035507992,
                    0.13472196980106055,
                    0.13364610364201623,
                    0.14017548085838483,
                    0.08385485622799249,
                    0.14892438887723514,
                    0.1282498997935403,
                    0.08394692223745814,
                    0.10235925722750161,
                    0.13945435623900304,
                    0.09215404532963711,
                    0.1302434802794945,
                    0.07477798064821384,
                    0.12686403451833617,
                    0.07606440753833732,
                    0.16258777606075892,
                    0.09071634005536178,
                    0.15040054574980133,
                    0.07451120241528619,
                    0.11698208966478374,
                    0.09106969311153579,
                    0.10914426357886209,
                    0.1480359259287547,
                    0.0888512118793694,
                    0.16636954696705852,
                    0.10859418498945828,
                    0.14161564225866063,
                    0.08493776051808233,
                    0.13769299334219787,
                    0.1184243964666456,
                    0.08791596031664006,
                    0.16559342649453157,
                    0.1324885603670558,
                    0.08042806229594979,
                    0.0942752989691874,
                    0.13571785926250568,
                    0.12221966941929241,
                    0.14159421726221633,
                    0.12425417170438602,
                    0.131890492952633,
                    0.07843709330605231,
                    0.10388755578358777,
                    0.08631076990842257,
                    0.14178470868552373,
                    0.09390603497103123,
                    0.12232066138073716,
                    0.11282461483697792,
                    0.13678830103772888,
                    0.14326138828090373,
                    0.08827542469797467,
                    0.12908476686773485,
                    0.14883031762630827,
                    0.1501245884829474,
                    0.14237226628669541,
                    0.09396865846248736,
                    0.14820553624325772,
                    0.14345268509539444,
                    0.08235327977568763,
                    0.13034936837890632,
                    0.11360516236366625,
                    0.13800050443241008,
                    0.08115061418719316,
                    0.13128373980376484,
                    0.14837442649250632,
                    0.13840006289870732,
                    0.10399795063450656,
                    0.12317491176711592,
                    0.13174169294798288,
                    0.14884898295804505,
                    0.14406784417736163,
                    0.09526433711212379,
                    0.14667464035997013,
                    0.14421903126882196,
                    0.10815915780752772,
                    0.1409269649269157,
                    0.13702774242899185,
                    0.08875760915455033,
                    0.1449866879386129,
                    0.13382073159627295,
                    0.13193155805292922,
                    0.1434671760711107,
                    0.1230414771288676,
                    0.13275872461820526,
                    0.14974927678135386,
                    0.14833567360950606,
                    0.15634211443015766,
                    0.13718974336268508,
                    0.13752939705537748,
                    0.1522731735415822,
                    0.15147324940277862,
                    0.14472145242741885,
                    0.1497473509644106,
                    0.14325248921246836,
                    0.14543772855456172,
                    0.14682949388619926,
                    0.1453986715671769,
                    0.15615975845533225,
                    0.14469633477467736,
                    0.1418592797543975,
                    0.1463311741026878,
                    0.1491916847068242,
                    0.13669066262420038,
                    0.14366894123024576,
                    0.14113268553666702,
                    0.13161547144379349,
                    0.1409011645892675,
                    0.13611688150861367,
                    0.14076081717502553,
                    0.15282303588613577,
                    0.15173051300491014,
                    0.15616907167225447,
                    0.15142921623558314,
                    0.15195922993051036,
                    0.14088867630849966,
                    0.1562653318672791,
                    0.15578585660867905,
                    0.14132438574737416,
                    0.14122021913311433,
                    0.15906719493266852,
                    0.15751023554499344,
                    0.13035857681943375,
                    0.14805257998866672,
                    0.13924309075585517,
                    0.15024008759622232,
                    0.13606503146005633,
                    0.1450368239480092,
                    0.13996377347031486,
                    0.15631825361450102,
                    0.14517394978329212,
                    0.13125220691168682,
                    0.1383828661284474,
                    0.1330050406163208,
                    0.1273555908934212,
                    0.1371434069583548,
                    0.13769183326459478,
                    0.12757995377743225,
                    0.14958913844924016,
                    0.1523619146745675,
                    0.14844597951406058,
                    0.1392180641742521,
                    0.15756409918687586,
                    0.14612177203292043,
                    0.13451137822428993,
                    0.15443754267899956,
                    0.14676940793238602,
                    0.1539652674089843,
                    0.14015172227382933,
                    0.15612518845546375,
                    0.13942832801325877,
                    0.1273067687633208,
                    0.12512162985648034,
                    0.16060777334106946,
                    0.13297007912074033,
                    0.15303958014235108,
                    0.1443361154901861,
                    0.1102092244955889,
                    0.15895883703586,
                    0.16428326219207623,
                    0.1322582225168425,
                    0.15365578430216043,
                    0.16713020094993203,
                    0.14649956197550518,
                    0.0973958325371066,
                    0.1309569187207389,
                    0.16287891986365588,
                    0.1586134797348545,
                    0.16170222336376083,
                    0.09781521749581368,
                    0.14311779381261824,
                    0.13215829634946286,
                    0.16231256418391948,
                    0.1506879997661661,
                    0.16669118585479425,
                    0.14475943246174494,
                    0.09812545024389618,
                    0.16718648742906206,
                    0.13239723895174915,
                    0.15253920875782,
                    0.14776601285458313,
                    0.09772365298116525,
                    0.14639960932688456,
                    0.15056034687913367,
                    0.17210646488090553,
                    0.1496895556247576,
                    0.15005713381798957,
                    0.13937861958935216,
                    0.14293119695079848,
                    0.1402317245537711,
                    0.18660937546360457,
                    0.2271810700378355,
                    0.22188907516538725,
                    0.1695791138471786,
                    0.13836173745785307,
                    0.15572488183958222,
                    0.22197795257010755,
                    0.17278459991838113,
                    0.1646075772025426,
                    0.23469525227947308,
                    0.17192898497305398,
                    0.16095375007734924,
                    0.22197843815602325,
                    0.15548718953972718,
                    0.15435533449913996,
                    0.2311370948756516,
                    0.13254282011971807,
                    0.12785378397271407,
                    0.15181188435860515,
                    0.1687387897440582,
                    0.2010951502340238,
                    0.12407068375541641,
                    0.18184580651411075,
                    0.17594206470009743,
                    0.1561883651192716,
                    0.18793132627023945,
                    0.18022211880305816,
                    0.20144500718967973,
                    0.17670729128299367,
                    0.14290683657742942,
                    0.13762892672121108,
                    0.16779596465357116,
                    0.16651889200753833,
                    0.165455832935951,
                    0.18039151476941584,
                    0.17374491754512522,
                    0.1745292307703452,
                    0.1718555028339408,
                    0.1751338524351811,
                    0.12106576776734346,
                    0.19572217811000936,
                    0.14059691809402908,
                    0.12388092533421158,
                    0.16933433711827028,
                    0.17083870863486816,
                    0.13747401619744626,
                    0.17947196083795325,
                    0.17374943294306355,
                    0.16522890939899182,
                    0.1840080742833895,
                    0.17633595242222955,
                    0.16637789741390507,
                    0.16438577263793708,
                    0.145501260818226,
                    0.16076166586177676,
                    0.14027412134287676,
                    0.170058491863319,
                    0.17559029208074295,
                    0.18093131442762067,
                    0.18418226665966486,
                    0.1916994693074464,
                    0.14812288607974133,
                    0.1727066409852278,
                    0.16343258005182437,
                    0.15863452937868205,
                    0.1737583426145778,
                    0.16547131511420332,
                    0.15300705442809215,
                    0.1634752354899237,
                    0.17701674638753784,
                    0.13000737063039258,
                    0.16412926908827719,
                    0.14297007855746313,
                    0.17307908770641167,
                    0.15064806353382398,
                    0.163353750708217,
                    0.156591266878098,
                    0.14112157438085338,
                    0.1550174868880827,
                    0.1634833474203553,
                    0.16955216920644545,
                    0.1624641978016408,
                    0.1605018716372869,
                    0.16670209854339446,
                    0.15941507992108617,
                    0.1455827289655166,
                    0.14319041262746557,
                    0.15182933378568686,
                    0.1338993726931904,
                    0.15804649776266766,
                    0.15532396252153546,
                    0.16551563447318374,
                    0.14723083493292421,
                    0.14149493151111137,
                    0.16810264815885934,
                    0.1448462843548035,
                    0.1491029109011197,
                    0.15935653188557541,
                    0.1592922165195153,
                    0.14978259771847324,
                    0.158122981017367,
                    0.1425921148131447,
                    0.1713432962913224,
                    0.15696799594007882,
                    0.17764623238726596,
                    0.1572183925380941,
                    0.1716165077557814,
                    0.1480017503738278,
                    0.16617306731174653,
                    0.1351078436850469,
                    0.17861831143681584,
                    0.15909858275989752,
                    0.17394885369956115,
                    0.17522939866354437,
                    0.1447026003698999,
                    0.17467260547602115,
                    0.1735143388134357,
                    0.15547521596371028,
                    0.16869439471809666,
                    0.1473320946938843,
                    0.18395345001936125,
                    0.16160652226972683,
                    0.1809480803175103,
                    0.1861406460830508,
                    0.16430488017552858,
                    0.173355632483027,
                    0.18907021857165573,
                    0.1797521217051825,
                    0.18642028758011642,
                    0.17914464278074127,
                    0.17967834131359484,
                    0.17865431142665145,
                    0.17872406574378874,
                    0.17809729099432547,
                    0.1820852235230479,
                    0.18284391028023683,
                    0.17245082781282728,
                    0.1740438422949393,
                    0.176197923835277,
                    0.16360563376368575,
                    0.1836353597312509,
                    0.1816757704886236
                  ],
                  "xaxis": "x",
                  "yaxis": "y",
                  "type": "histogram"
                }
              ],
              "layout": {
                "template": {
                  "data": {
                    "histogram2dcontour": [
                      {
                        "type": "histogram2dcontour",
                        "colorbar": {
                          "outlinewidth": 0,
                          "ticks": ""
                        },
                        "colorscale": [
                          [
                            0,
                            "#0d0887"
                          ],
                          [
                            0.1111111111111111,
                            "#46039f"
                          ],
                          [
                            0.2222222222222222,
                            "#7201a8"
                          ],
                          [
                            0.3333333333333333,
                            "#9c179e"
                          ],
                          [
                            0.4444444444444444,
                            "#bd3786"
                          ],
                          [
                            0.5555555555555556,
                            "#d8576b"
                          ],
                          [
                            0.6666666666666666,
                            "#ed7953"
                          ],
                          [
                            0.7777777777777778,
                            "#fb9f3a"
                          ],
                          [
                            0.8888888888888888,
                            "#fdca26"
                          ],
                          [
                            1,
                            "#f0f921"
                          ]
                        ]
                      }
                    ],
                    "choropleth": [
                      {
                        "type": "choropleth",
                        "colorbar": {
                          "outlinewidth": 0,
                          "ticks": ""
                        }
                      }
                    ],
                    "histogram2d": [
                      {
                        "type": "histogram2d",
                        "colorbar": {
                          "outlinewidth": 0,
                          "ticks": ""
                        },
                        "colorscale": [
                          [
                            0,
                            "#0d0887"
                          ],
                          [
                            0.1111111111111111,
                            "#46039f"
                          ],
                          [
                            0.2222222222222222,
                            "#7201a8"
                          ],
                          [
                            0.3333333333333333,
                            "#9c179e"
                          ],
                          [
                            0.4444444444444444,
                            "#bd3786"
                          ],
                          [
                            0.5555555555555556,
                            "#d8576b"
                          ],
                          [
                            0.6666666666666666,
                            "#ed7953"
                          ],
                          [
                            0.7777777777777778,
                            "#fb9f3a"
                          ],
                          [
                            0.8888888888888888,
                            "#fdca26"
                          ],
                          [
                            1,
                            "#f0f921"
                          ]
                        ]
                      }
                    ],
                    "heatmap": [
                      {
                        "type": "heatmap",
                        "colorbar": {
                          "outlinewidth": 0,
                          "ticks": ""
                        },
                        "colorscale": [
                          [
                            0,
                            "#0d0887"
                          ],
                          [
                            0.1111111111111111,
                            "#46039f"
                          ],
                          [
                            0.2222222222222222,
                            "#7201a8"
                          ],
                          [
                            0.3333333333333333,
                            "#9c179e"
                          ],
                          [
                            0.4444444444444444,
                            "#bd3786"
                          ],
                          [
                            0.5555555555555556,
                            "#d8576b"
                          ],
                          [
                            0.6666666666666666,
                            "#ed7953"
                          ],
                          [
                            0.7777777777777778,
                            "#fb9f3a"
                          ],
                          [
                            0.8888888888888888,
                            "#fdca26"
                          ],
                          [
                            1,
                            "#f0f921"
                          ]
                        ]
                      }
                    ],
                    "heatmapgl": [
                      {
                        "type": "heatmapgl",
                        "colorbar": {
                          "outlinewidth": 0,
                          "ticks": ""
                        },
                        "colorscale": [
                          [
                            0,
                            "#0d0887"
                          ],
                          [
                            0.1111111111111111,
                            "#46039f"
                          ],
                          [
                            0.2222222222222222,
                            "#7201a8"
                          ],
                          [
                            0.3333333333333333,
                            "#9c179e"
                          ],
                          [
                            0.4444444444444444,
                            "#bd3786"
                          ],
                          [
                            0.5555555555555556,
                            "#d8576b"
                          ],
                          [
                            0.6666666666666666,
                            "#ed7953"
                          ],
                          [
                            0.7777777777777778,
                            "#fb9f3a"
                          ],
                          [
                            0.8888888888888888,
                            "#fdca26"
                          ],
                          [
                            1,
                            "#f0f921"
                          ]
                        ]
                      }
                    ],
                    "contourcarpet": [
                      {
                        "type": "contourcarpet",
                        "colorbar": {
                          "outlinewidth": 0,
                          "ticks": ""
                        }
                      }
                    ],
                    "contour": [
                      {
                        "type": "contour",
                        "colorbar": {
                          "outlinewidth": 0,
                          "ticks": ""
                        },
                        "colorscale": [
                          [
                            0,
                            "#0d0887"
                          ],
                          [
                            0.1111111111111111,
                            "#46039f"
                          ],
                          [
                            0.2222222222222222,
                            "#7201a8"
                          ],
                          [
                            0.3333333333333333,
                            "#9c179e"
                          ],
                          [
                            0.4444444444444444,
                            "#bd3786"
                          ],
                          [
                            0.5555555555555556,
                            "#d8576b"
                          ],
                          [
                            0.6666666666666666,
                            "#ed7953"
                          ],
                          [
                            0.7777777777777778,
                            "#fb9f3a"
                          ],
                          [
                            0.8888888888888888,
                            "#fdca26"
                          ],
                          [
                            1,
                            "#f0f921"
                          ]
                        ]
                      }
                    ],
                    "surface": [
                      {
                        "type": "surface",
                        "colorbar": {
                          "outlinewidth": 0,
                          "ticks": ""
                        },
                        "colorscale": [
                          [
                            0,
                            "#0d0887"
                          ],
                          [
                            0.1111111111111111,
                            "#46039f"
                          ],
                          [
                            0.2222222222222222,
                            "#7201a8"
                          ],
                          [
                            0.3333333333333333,
                            "#9c179e"
                          ],
                          [
                            0.4444444444444444,
                            "#bd3786"
                          ],
                          [
                            0.5555555555555556,
                            "#d8576b"
                          ],
                          [
                            0.6666666666666666,
                            "#ed7953"
                          ],
                          [
                            0.7777777777777778,
                            "#fb9f3a"
                          ],
                          [
                            0.8888888888888888,
                            "#fdca26"
                          ],
                          [
                            1,
                            "#f0f921"
                          ]
                        ]
                      }
                    ],
                    "mesh3d": [
                      {
                        "type": "mesh3d",
                        "colorbar": {
                          "outlinewidth": 0,
                          "ticks": ""
                        }
                      }
                    ],
                    "scatter": [
                      {
                        "fillpattern": {
                          "fillmode": "overlay",
                          "size": 10,
                          "solidity": 0.2
                        },
                        "type": "scatter"
                      }
                    ],
                    "parcoords": [
                      {
                        "type": "parcoords",
                        "line": {
                          "colorbar": {
                            "outlinewidth": 0,
                            "ticks": ""
                          }
                        }
                      }
                    ],
                    "scatterpolargl": [
                      {
                        "type": "scatterpolargl",
                        "marker": {
                          "colorbar": {
                            "outlinewidth": 0,
                            "ticks": ""
                          }
                        }
                      }
                    ],
                    "bar": [
                      {
                        "error_x": {
                          "color": "#2a3f5f"
                        },
                        "error_y": {
                          "color": "#2a3f5f"
                        },
                        "marker": {
                          "line": {
                            "color": "#E5ECF6",
                            "width": 0.5
                          },
                          "pattern": {
                            "fillmode": "overlay",
                            "size": 10,
                            "solidity": 0.2
                          }
                        },
                        "type": "bar"
                      }
                    ],
                    "scattergeo": [
                      {
                        "type": "scattergeo",
                        "marker": {
                          "colorbar": {
                            "outlinewidth": 0,
                            "ticks": ""
                          }
                        }
                      }
                    ],
                    "scatterpolar": [
                      {
                        "type": "scatterpolar",
                        "marker": {
                          "colorbar": {
                            "outlinewidth": 0,
                            "ticks": ""
                          }
                        }
                      }
                    ],
                    "histogram": [
                      {
                        "marker": {
                          "pattern": {
                            "fillmode": "overlay",
                            "size": 10,
                            "solidity": 0.2
                          }
                        },
                        "type": "histogram"
                      }
                    ],
                    "scattergl": [
                      {
                        "type": "scattergl",
                        "marker": {
                          "colorbar": {
                            "outlinewidth": 0,
                            "ticks": ""
                          }
                        }
                      }
                    ],
                    "scatter3d": [
                      {
                        "type": "scatter3d",
                        "line": {
                          "colorbar": {
                            "outlinewidth": 0,
                            "ticks": ""
                          }
                        },
                        "marker": {
                          "colorbar": {
                            "outlinewidth": 0,
                            "ticks": ""
                          }
                        }
                      }
                    ],
                    "scattermapbox": [
                      {
                        "type": "scattermapbox",
                        "marker": {
                          "colorbar": {
                            "outlinewidth": 0,
                            "ticks": ""
                          }
                        }
                      }
                    ],
                    "scatterternary": [
                      {
                        "type": "scatterternary",
                        "marker": {
                          "colorbar": {
                            "outlinewidth": 0,
                            "ticks": ""
                          }
                        }
                      }
                    ],
                    "scattercarpet": [
                      {
                        "type": "scattercarpet",
                        "marker": {
                          "colorbar": {
                            "outlinewidth": 0,
                            "ticks": ""
                          }
                        }
                      }
                    ],
                    "carpet": [
                      {
                        "aaxis": {
                          "endlinecolor": "#2a3f5f",
                          "gridcolor": "white",
                          "linecolor": "white",
                          "minorgridcolor": "white",
                          "startlinecolor": "#2a3f5f"
                        },
                        "baxis": {
                          "endlinecolor": "#2a3f5f",
                          "gridcolor": "white",
                          "linecolor": "white",
                          "minorgridcolor": "white",
                          "startlinecolor": "#2a3f5f"
                        },
                        "type": "carpet"
                      }
                    ],
                    "table": [
                      {
                        "cells": {
                          "fill": {
                            "color": "#EBF0F8"
                          },
                          "line": {
                            "color": "white"
                          }
                        },
                        "header": {
                          "fill": {
                            "color": "#C8D4E3"
                          },
                          "line": {
                            "color": "white"
                          }
                        },
                        "type": "table"
                      }
                    ],
                    "barpolar": [
                      {
                        "marker": {
                          "line": {
                            "color": "#E5ECF6",
                            "width": 0.5
                          },
                          "pattern": {
                            "fillmode": "overlay",
                            "size": 10,
                            "solidity": 0.2
                          }
                        },
                        "type": "barpolar"
                      }
                    ],
                    "pie": [
                      {
                        "automargin": true,
                        "type": "pie"
                      }
                    ]
                  },
                  "layout": {
                    "autotypenumbers": "strict",
                    "colorway": [
                      "#636efa",
                      "#EF553B",
                      "#00cc96",
                      "#ab63fa",
                      "#FFA15A",
                      "#19d3f3",
                      "#FF6692",
                      "#B6E880",
                      "#FF97FF",
                      "#FECB52"
                    ],
                    "font": {
                      "color": "#2a3f5f"
                    },
                    "hovermode": "closest",
                    "hoverlabel": {
                      "align": "left"
                    },
                    "paper_bgcolor": "white",
                    "plot_bgcolor": "#E5ECF6",
                    "polar": {
                      "bgcolor": "#E5ECF6",
                      "angularaxis": {
                        "gridcolor": "white",
                        "linecolor": "white",
                        "ticks": ""
                      },
                      "radialaxis": {
                        "gridcolor": "white",
                        "linecolor": "white",
                        "ticks": ""
                      }
                    },
                    "ternary": {
                      "bgcolor": "#E5ECF6",
                      "aaxis": {
                        "gridcolor": "white",
                        "linecolor": "white",
                        "ticks": ""
                      },
                      "baxis": {
                        "gridcolor": "white",
                        "linecolor": "white",
                        "ticks": ""
                      },
                      "caxis": {
                        "gridcolor": "white",
                        "linecolor": "white",
                        "ticks": ""
                      }
                    },
                    "coloraxis": {
                      "colorbar": {
                        "outlinewidth": 0,
                        "ticks": ""
                      }
                    },
                    "colorscale": {
                      "sequential": [
                        [
                          0,
                          "#0d0887"
                        ],
                        [
                          0.1111111111111111,
                          "#46039f"
                        ],
                        [
                          0.2222222222222222,
                          "#7201a8"
                        ],
                        [
                          0.3333333333333333,
                          "#9c179e"
                        ],
                        [
                          0.4444444444444444,
                          "#bd3786"
                        ],
                        [
                          0.5555555555555556,
                          "#d8576b"
                        ],
                        [
                          0.6666666666666666,
                          "#ed7953"
                        ],
                        [
                          0.7777777777777778,
                          "#fb9f3a"
                        ],
                        [
                          0.8888888888888888,
                          "#fdca26"
                        ],
                        [
                          1,
                          "#f0f921"
                        ]
                      ],
                      "sequentialminus": [
                        [
                          0,
                          "#0d0887"
                        ],
                        [
                          0.1111111111111111,
                          "#46039f"
                        ],
                        [
                          0.2222222222222222,
                          "#7201a8"
                        ],
                        [
                          0.3333333333333333,
                          "#9c179e"
                        ],
                        [
                          0.4444444444444444,
                          "#bd3786"
                        ],
                        [
                          0.5555555555555556,
                          "#d8576b"
                        ],
                        [
                          0.6666666666666666,
                          "#ed7953"
                        ],
                        [
                          0.7777777777777778,
                          "#fb9f3a"
                        ],
                        [
                          0.8888888888888888,
                          "#fdca26"
                        ],
                        [
                          1,
                          "#f0f921"
                        ]
                      ],
                      "diverging": [
                        [
                          0,
                          "#8e0152"
                        ],
                        [
                          0.1,
                          "#c51b7d"
                        ],
                        [
                          0.2,
                          "#de77ae"
                        ],
                        [
                          0.3,
                          "#f1b6da"
                        ],
                        [
                          0.4,
                          "#fde0ef"
                        ],
                        [
                          0.5,
                          "#f7f7f7"
                        ],
                        [
                          0.6,
                          "#e6f5d0"
                        ],
                        [
                          0.7,
                          "#b8e186"
                        ],
                        [
                          0.8,
                          "#7fbc41"
                        ],
                        [
                          0.9,
                          "#4d9221"
                        ],
                        [
                          1,
                          "#276419"
                        ]
                      ]
                    },
                    "xaxis": {
                      "gridcolor": "white",
                      "linecolor": "white",
                      "ticks": "",
                      "title": {
                        "standoff": 15
                      },
                      "zerolinecolor": "white",
                      "automargin": true,
                      "zerolinewidth": 2
                    },
                    "yaxis": {
                      "gridcolor": "white",
                      "linecolor": "white",
                      "ticks": "",
                      "title": {
                        "standoff": 15
                      },
                      "zerolinecolor": "white",
                      "automargin": true,
                      "zerolinewidth": 2
                    },
                    "scene": {
                      "xaxis": {
                        "backgroundcolor": "#E5ECF6",
                        "gridcolor": "white",
                        "linecolor": "white",
                        "showbackground": true,
                        "ticks": "",
                        "zerolinecolor": "white",
                        "gridwidth": 2
                      },
                      "yaxis": {
                        "backgroundcolor": "#E5ECF6",
                        "gridcolor": "white",
                        "linecolor": "white",
                        "showbackground": true,
                        "ticks": "",
                        "zerolinecolor": "white",
                        "gridwidth": 2
                      },
                      "zaxis": {
                        "backgroundcolor": "#E5ECF6",
                        "gridcolor": "white",
                        "linecolor": "white",
                        "showbackground": true,
                        "ticks": "",
                        "zerolinecolor": "white",
                        "gridwidth": 2
                      }
                    },
                    "shapedefaults": {
                      "line": {
                        "color": "#2a3f5f"
                      }
                    },
                    "annotationdefaults": {
                      "arrowcolor": "#2a3f5f",
                      "arrowhead": 0,
                      "arrowwidth": 1
                    },
                    "geo": {
                      "bgcolor": "white",
                      "landcolor": "#E5ECF6",
                      "subunitcolor": "white",
                      "showland": true,
                      "showlakes": true,
                      "lakecolor": "white"
                    },
                    "title": {
                      "x": 0.05
                    },
                    "mapbox": {
                      "style": "light"
                    }
                  }
                },
                "xaxis": {
                  "anchor": "y",
                  "domain": [
                    0,
                    1
                  ],
                  "title": {
                    "text": "archq1_cosim"
                  }
                },
                "yaxis": {
                  "anchor": "x",
                  "domain": [
                    0,
                    1
                  ],
                  "title": {
                    "text": "count"
                  }
                },
                "legend": {
                  "tracegroupgap": 0
                },
                "title": {
                  "text": "Distribution of Cosine Similarity for Archetype 1"
                },
                "barmode": "relative"
              },
              "config": {
                "plotlyServerURL": "https://plot.ly"
              }
            },
            "text/html": "<div>                            <div id=\"debf0aa0-3caf-44f3-86af-d588c738c168\" class=\"plotly-graph-div\" style=\"height:525px; width:100%;\"></div>            <script type=\"text/javascript\">                require([\"plotly\"], function(Plotly) {                    window.PLOTLYENV=window.PLOTLYENV || {};                                    if (document.getElementById(\"debf0aa0-3caf-44f3-86af-d588c738c168\")) {                    Plotly.newPlot(                        \"debf0aa0-3caf-44f3-86af-d588c738c168\",                        [{\"alignmentgroup\":\"True\",\"bingroup\":\"x\",\"hovertemplate\":\"archq1_cosim=%{x}\\u003cbr\\u003ecount=%{y}\\u003cextra\\u003e\\u003c\\u002fextra\\u003e\",\"legendgroup\":\"\",\"marker\":{\"color\":\"#636efa\",\"pattern\":{\"shape\":\"\"}},\"name\":\"\",\"nbinsx\":30,\"offsetgroup\":\"\",\"orientation\":\"v\",\"showlegend\":false,\"x\":[0.06595879700269358,0.14695762285245473,0.17192834090166087,0.1389750806222556,0.09551227671738804,0.1334104174325741,0.13025367049950298,0.1257745964218625,0.17343664379287926,0.1341037744185828,0.16777028234338165,0.14342898610094723,0.12512422103186327,0.16249000439984063,0.1543484050695918,0.12770666719270252,0.14157167762253642,0.14910321885868028,0.15997581049187393,0.14893264570402032,0.12072749063518162,0.1251582069302899,0.17300176753364227,0.17126951152218373,0.11578981523818321,0.10838315780498664,0.071133296911287,0.06958996202339673,0.12113068005354266,0.12250655824280554,0.12160214819389159,0.0846838681660953,0.07375999906515696,0.12261344628073101,0.10800686853200325,0.0724846793606354,0.12522680873830183,0.07882880187430175,0.1170640250666437,0.06339332887498794,0.10126138373807392,0.1072825407901099,0.0702300255590913,0.10630429129330532,0.1133350751883202,0.07990315920863467,0.1292481980261223,0.07618106478774311,0.14488057963472867,0.06428168826416347,0.11960469879471547,0.06962409458354735,0.0666962822560101,0.0754864808370449,0.07894276330842631,0.06440674540455393,0.08138691940887433,0.07121625924433905,0.07073500854377168,0.07901405035052833,0.07585918683468185,0.08773849780227083,0.06836404034189925,0.05748208429907886,0.06748838297434667,0.07666681397004915,0.05837120217360936,0.07597137966587653,0.06371391082732858,0.06998822379656067,0.05883034760405759,0.07167277361885949,0.07364961778504886,0.07216944102289768,0.07796341816996921,0.0575509640654841,0.08276313707134031,0.08397442517388931,0.08498289182099594,0.07033442189330885,0.08681073663937056,0.04639092218427343,0.08231033004932198,0.06660413711771451,0.07812372682510382,0.08799926525804236,0.08730603847110485,0.07779555289781614,0.095322807264281,0.053459771919292076,0.0859117650106842,0.06230621486425425,0.06678961506803405,0.0652513406809817,0.05649468408129421,0.07052316750876919,0.08761394795453259,0.06651598908138212,0.07790166730530657,0.10039378217095918,0.047325098313189096,0.09499150134321543,0.07565018486048825,0.1091772587928207,0.09519928526167565,0.09316655520520145,0.06865982495128031,0.0991124929867081,0.09151712981092863,0.10260052783126572,0.09011259776953928,0.09322000781738449,0.0907771860955231,0.09490313262492633,0.09106762499336774,0.09082443115856986,0.08469612970933371,0.07714778261272504,0.07698577598364709,0.08718470352958574,0.08997059833565568,0.09670676969170011,0.08993104838570787,0.08641821756014578,0.08408326962285506,0.08744457278230255,0.05192296765427251,0.06602631696054628,0.04817179349082146,0.05911820854700389,0.07102146466287385,0.05631011182645862,0.07550395526353326,0.05990717849355531,0.05674162014738282,0.05450478506504697,0.05383745690917541,0.06087963551506714,0.05937154495585717,0.06891755453661041,0.0652844314370381,0.06992587513937654,0.06543442802973998,0.06925580074609083,0.051201896968669836,0.06621738555787382,0.0625092087394713,0.058923388684044564,0.0766047680471803,0.06523376874239784,0.1302434802794945,0.09880536145402519,0.12521237362899829,0.1473665517092153,0.11707504401255653,0.09526982902439074,0.16893699562044784,0.09239413029924337,0.15134424858666473,0.11394412490690176,0.09876749560690723,0.1544848737112623,0.14604784694585915,0.13209483086016427,0.12698846090686033,0.15890575732515466,0.10329703292004155,0.1364167129201378,0.15394348686056125,0.11394412490690176,0.14623192955314734,0.0919443864760845,0.14742761296903573,0.10799514470314053,0.092279765883717,0.09731613877628575,0.15833975603983352,0.10016044188134432,0.11454023788167134,0.14118069718573778,0.0848050514829406,0.10710435511891425,0.1366625819387175,0.1486258837056872,0.09425350076963435,0.1413567933194616,0.08958542853420015,0.08691660641080379,0.09747598743571195,0.08230547358041385,0.1028868332936258,0.09007735715404852,0.14789169918078104,0.10333341695561316,0.12664962793002832,0.06838623467458826,0.13753580690970968,0.1032988931896931,0.13426500061994928,0.08265109743033738,0.09426837409994049,0.13447154146714624,0.10011280963683222,0.13049635032416795,0.13850418295211075,0.10015466698111541,0.14371634586216553,0.12338363163862698,0.15141753104820843,0.10729511390752322,0.14504570012177653,0.10638872638080477,0.11222730160571415,0.10708894515631429,0.09213249994753014,0.12675751468496743,0.11165181496667542,0.13405428504491212,0.08273682283200423,0.14003072142905326,0.10880991378501892,0.13196553679914702,0.10850764198716911,0.13693225928003117,0.10681150683739549,0.0893661075479657,0.13438222153118395,0.09320514889542897,0.11967812576292713,0.1424901678194369,0.08755179842933913,0.14533587317231988,0.11400787605363016,0.1512327214274768,0.09947561501685798,0.14876512409209952,0.10758596381844876,0.0997411777202396,0.1020788292065884,0.08460867328407318,0.11730412284698888,0.10295958709618414,0.1482394518887079,0.08099573169685748,0.13965918610477523,0.09189009370031764,0.13303496975325146,0.09326141004260202,0.13883209388956408,0.11171326889384592,0.08793289552753847,0.11095268619083576,0.09621587964799416,0.12006763809669085,0.1219593414532183,0.07986302924303446,0.13826940227392825,0.11731091293840967,0.10139225430746701,0.1131807839583796,0.13186310549494484,0.14593313748921588,0.08391741378891726,0.12139124653469258,0.1271318921604465,0.1354191338920655,0.08334617508954745,0.14064521647113382,0.11843344327492467,0.14680639035507992,0.13472196980106055,0.13364610364201623,0.14017548085838483,0.08385485622799249,0.14892438887723514,0.1282498997935403,0.08394692223745814,0.10235925722750161,0.13945435623900304,0.09215404532963711,0.1302434802794945,0.07477798064821384,0.12686403451833617,0.07606440753833732,0.16258777606075892,0.09071634005536178,0.15040054574980133,0.07451120241528619,0.11698208966478374,0.09106969311153579,0.10914426357886209,0.1480359259287547,0.0888512118793694,0.16636954696705852,0.10859418498945828,0.14161564225866063,0.08493776051808233,0.13769299334219787,0.1184243964666456,0.08791596031664006,0.16559342649453157,0.1324885603670558,0.08042806229594979,0.0942752989691874,0.13571785926250568,0.12221966941929241,0.14159421726221633,0.12425417170438602,0.131890492952633,0.07843709330605231,0.10388755578358777,0.08631076990842257,0.14178470868552373,0.09390603497103123,0.12232066138073716,0.11282461483697792,0.13678830103772888,0.14326138828090373,0.08827542469797467,0.12908476686773485,0.14883031762630827,0.1501245884829474,0.14237226628669541,0.09396865846248736,0.14820553624325772,0.14345268509539444,0.08235327977568763,0.13034936837890632,0.11360516236366625,0.13800050443241008,0.08115061418719316,0.13128373980376484,0.14837442649250632,0.13840006289870732,0.10399795063450656,0.12317491176711592,0.13174169294798288,0.14884898295804505,0.14406784417736163,0.09526433711212379,0.14667464035997013,0.14421903126882196,0.10815915780752772,0.1409269649269157,0.13702774242899185,0.08875760915455033,0.1449866879386129,0.13382073159627295,0.13193155805292922,0.1434671760711107,0.1230414771288676,0.13275872461820526,0.14974927678135386,0.14833567360950606,0.15634211443015766,0.13718974336268508,0.13752939705537748,0.1522731735415822,0.15147324940277862,0.14472145242741885,0.1497473509644106,0.14325248921246836,0.14543772855456172,0.14682949388619926,0.1453986715671769,0.15615975845533225,0.14469633477467736,0.1418592797543975,0.1463311741026878,0.1491916847068242,0.13669066262420038,0.14366894123024576,0.14113268553666702,0.13161547144379349,0.1409011645892675,0.13611688150861367,0.14076081717502553,0.15282303588613577,0.15173051300491014,0.15616907167225447,0.15142921623558314,0.15195922993051036,0.14088867630849966,0.1562653318672791,0.15578585660867905,0.14132438574737416,0.14122021913311433,0.15906719493266852,0.15751023554499344,0.13035857681943375,0.14805257998866672,0.13924309075585517,0.15024008759622232,0.13606503146005633,0.1450368239480092,0.13996377347031486,0.15631825361450102,0.14517394978329212,0.13125220691168682,0.1383828661284474,0.1330050406163208,0.1273555908934212,0.1371434069583548,0.13769183326459478,0.12757995377743225,0.14958913844924016,0.1523619146745675,0.14844597951406058,0.1392180641742521,0.15756409918687586,0.14612177203292043,0.13451137822428993,0.15443754267899956,0.14676940793238602,0.1539652674089843,0.14015172227382933,0.15612518845546375,0.13942832801325877,0.1273067687633208,0.12512162985648034,0.16060777334106946,0.13297007912074033,0.15303958014235108,0.1443361154901861,0.1102092244955889,0.15895883703586,0.16428326219207623,0.1322582225168425,0.15365578430216043,0.16713020094993203,0.14649956197550518,0.0973958325371066,0.1309569187207389,0.16287891986365588,0.1586134797348545,0.16170222336376083,0.09781521749581368,0.14311779381261824,0.13215829634946286,0.16231256418391948,0.1506879997661661,0.16669118585479425,0.14475943246174494,0.09812545024389618,0.16718648742906206,0.13239723895174915,0.15253920875782,0.14776601285458313,0.09772365298116525,0.14639960932688456,0.15056034687913367,0.17210646488090553,0.1496895556247576,0.15005713381798957,0.13937861958935216,0.14293119695079848,0.1402317245537711,0.18660937546360457,0.2271810700378355,0.22188907516538725,0.1695791138471786,0.13836173745785307,0.15572488183958222,0.22197795257010755,0.17278459991838113,0.1646075772025426,0.23469525227947308,0.17192898497305398,0.16095375007734924,0.22197843815602325,0.15548718953972718,0.15435533449913996,0.2311370948756516,0.13254282011971807,0.12785378397271407,0.15181188435860515,0.1687387897440582,0.2010951502340238,0.12407068375541641,0.18184580651411075,0.17594206470009743,0.1561883651192716,0.18793132627023945,0.18022211880305816,0.20144500718967973,0.17670729128299367,0.14290683657742942,0.13762892672121108,0.16779596465357116,0.16651889200753833,0.165455832935951,0.18039151476941584,0.17374491754512522,0.1745292307703452,0.1718555028339408,0.1751338524351811,0.12106576776734346,0.19572217811000936,0.14059691809402908,0.12388092533421158,0.16933433711827028,0.17083870863486816,0.13747401619744626,0.17947196083795325,0.17374943294306355,0.16522890939899182,0.1840080742833895,0.17633595242222955,0.16637789741390507,0.16438577263793708,0.145501260818226,0.16076166586177676,0.14027412134287676,0.170058491863319,0.17559029208074295,0.18093131442762067,0.18418226665966486,0.1916994693074464,0.14812288607974133,0.1727066409852278,0.16343258005182437,0.15863452937868205,0.1737583426145778,0.16547131511420332,0.15300705442809215,0.1634752354899237,0.17701674638753784,0.13000737063039258,0.16412926908827719,0.14297007855746313,0.17307908770641167,0.15064806353382398,0.163353750708217,0.156591266878098,0.14112157438085338,0.1550174868880827,0.1634833474203553,0.16955216920644545,0.1624641978016408,0.1605018716372869,0.16670209854339446,0.15941507992108617,0.1455827289655166,0.14319041262746557,0.15182933378568686,0.1338993726931904,0.15804649776266766,0.15532396252153546,0.16551563447318374,0.14723083493292421,0.14149493151111137,0.16810264815885934,0.1448462843548035,0.1491029109011197,0.15935653188557541,0.1592922165195153,0.14978259771847324,0.158122981017367,0.1425921148131447,0.1713432962913224,0.15696799594007882,0.17764623238726596,0.1572183925380941,0.1716165077557814,0.1480017503738278,0.16617306731174653,0.1351078436850469,0.17861831143681584,0.15909858275989752,0.17394885369956115,0.17522939866354437,0.1447026003698999,0.17467260547602115,0.1735143388134357,0.15547521596371028,0.16869439471809666,0.1473320946938843,0.18395345001936125,0.16160652226972683,0.1809480803175103,0.1861406460830508,0.16430488017552858,0.173355632483027,0.18907021857165573,0.1797521217051825,0.18642028758011642,0.17914464278074127,0.17967834131359484,0.17865431142665145,0.17872406574378874,0.17809729099432547,0.1820852235230479,0.18284391028023683,0.17245082781282728,0.1740438422949393,0.176197923835277,0.16360563376368575,0.1836353597312509,0.1816757704886236],\"xaxis\":\"x\",\"yaxis\":\"y\",\"type\":\"histogram\"}],                        {\"template\":{\"data\":{\"histogram2dcontour\":[{\"type\":\"histogram2dcontour\",\"colorbar\":{\"outlinewidth\":0,\"ticks\":\"\"},\"colorscale\":[[0.0,\"#0d0887\"],[0.1111111111111111,\"#46039f\"],[0.2222222222222222,\"#7201a8\"],[0.3333333333333333,\"#9c179e\"],[0.4444444444444444,\"#bd3786\"],[0.5555555555555556,\"#d8576b\"],[0.6666666666666666,\"#ed7953\"],[0.7777777777777778,\"#fb9f3a\"],[0.8888888888888888,\"#fdca26\"],[1.0,\"#f0f921\"]]}],\"choropleth\":[{\"type\":\"choropleth\",\"colorbar\":{\"outlinewidth\":0,\"ticks\":\"\"}}],\"histogram2d\":[{\"type\":\"histogram2d\",\"colorbar\":{\"outlinewidth\":0,\"ticks\":\"\"},\"colorscale\":[[0.0,\"#0d0887\"],[0.1111111111111111,\"#46039f\"],[0.2222222222222222,\"#7201a8\"],[0.3333333333333333,\"#9c179e\"],[0.4444444444444444,\"#bd3786\"],[0.5555555555555556,\"#d8576b\"],[0.6666666666666666,\"#ed7953\"],[0.7777777777777778,\"#fb9f3a\"],[0.8888888888888888,\"#fdca26\"],[1.0,\"#f0f921\"]]}],\"heatmap\":[{\"type\":\"heatmap\",\"colorbar\":{\"outlinewidth\":0,\"ticks\":\"\"},\"colorscale\":[[0.0,\"#0d0887\"],[0.1111111111111111,\"#46039f\"],[0.2222222222222222,\"#7201a8\"],[0.3333333333333333,\"#9c179e\"],[0.4444444444444444,\"#bd3786\"],[0.5555555555555556,\"#d8576b\"],[0.6666666666666666,\"#ed7953\"],[0.7777777777777778,\"#fb9f3a\"],[0.8888888888888888,\"#fdca26\"],[1.0,\"#f0f921\"]]}],\"heatmapgl\":[{\"type\":\"heatmapgl\",\"colorbar\":{\"outlinewidth\":0,\"ticks\":\"\"},\"colorscale\":[[0.0,\"#0d0887\"],[0.1111111111111111,\"#46039f\"],[0.2222222222222222,\"#7201a8\"],[0.3333333333333333,\"#9c179e\"],[0.4444444444444444,\"#bd3786\"],[0.5555555555555556,\"#d8576b\"],[0.6666666666666666,\"#ed7953\"],[0.7777777777777778,\"#fb9f3a\"],[0.8888888888888888,\"#fdca26\"],[1.0,\"#f0f921\"]]}],\"contourcarpet\":[{\"type\":\"contourcarpet\",\"colorbar\":{\"outlinewidth\":0,\"ticks\":\"\"}}],\"contour\":[{\"type\":\"contour\",\"colorbar\":{\"outlinewidth\":0,\"ticks\":\"\"},\"colorscale\":[[0.0,\"#0d0887\"],[0.1111111111111111,\"#46039f\"],[0.2222222222222222,\"#7201a8\"],[0.3333333333333333,\"#9c179e\"],[0.4444444444444444,\"#bd3786\"],[0.5555555555555556,\"#d8576b\"],[0.6666666666666666,\"#ed7953\"],[0.7777777777777778,\"#fb9f3a\"],[0.8888888888888888,\"#fdca26\"],[1.0,\"#f0f921\"]]}],\"surface\":[{\"type\":\"surface\",\"colorbar\":{\"outlinewidth\":0,\"ticks\":\"\"},\"colorscale\":[[0.0,\"#0d0887\"],[0.1111111111111111,\"#46039f\"],[0.2222222222222222,\"#7201a8\"],[0.3333333333333333,\"#9c179e\"],[0.4444444444444444,\"#bd3786\"],[0.5555555555555556,\"#d8576b\"],[0.6666666666666666,\"#ed7953\"],[0.7777777777777778,\"#fb9f3a\"],[0.8888888888888888,\"#fdca26\"],[1.0,\"#f0f921\"]]}],\"mesh3d\":[{\"type\":\"mesh3d\",\"colorbar\":{\"outlinewidth\":0,\"ticks\":\"\"}}],\"scatter\":[{\"fillpattern\":{\"fillmode\":\"overlay\",\"size\":10,\"solidity\":0.2},\"type\":\"scatter\"}],\"parcoords\":[{\"type\":\"parcoords\",\"line\":{\"colorbar\":{\"outlinewidth\":0,\"ticks\":\"\"}}}],\"scatterpolargl\":[{\"type\":\"scatterpolargl\",\"marker\":{\"colorbar\":{\"outlinewidth\":0,\"ticks\":\"\"}}}],\"bar\":[{\"error_x\":{\"color\":\"#2a3f5f\"},\"error_y\":{\"color\":\"#2a3f5f\"},\"marker\":{\"line\":{\"color\":\"#E5ECF6\",\"width\":0.5},\"pattern\":{\"fillmode\":\"overlay\",\"size\":10,\"solidity\":0.2}},\"type\":\"bar\"}],\"scattergeo\":[{\"type\":\"scattergeo\",\"marker\":{\"colorbar\":{\"outlinewidth\":0,\"ticks\":\"\"}}}],\"scatterpolar\":[{\"type\":\"scatterpolar\",\"marker\":{\"colorbar\":{\"outlinewidth\":0,\"ticks\":\"\"}}}],\"histogram\":[{\"marker\":{\"pattern\":{\"fillmode\":\"overlay\",\"size\":10,\"solidity\":0.2}},\"type\":\"histogram\"}],\"scattergl\":[{\"type\":\"scattergl\",\"marker\":{\"colorbar\":{\"outlinewidth\":0,\"ticks\":\"\"}}}],\"scatter3d\":[{\"type\":\"scatter3d\",\"line\":{\"colorbar\":{\"outlinewidth\":0,\"ticks\":\"\"}},\"marker\":{\"colorbar\":{\"outlinewidth\":0,\"ticks\":\"\"}}}],\"scattermapbox\":[{\"type\":\"scattermapbox\",\"marker\":{\"colorbar\":{\"outlinewidth\":0,\"ticks\":\"\"}}}],\"scatterternary\":[{\"type\":\"scatterternary\",\"marker\":{\"colorbar\":{\"outlinewidth\":0,\"ticks\":\"\"}}}],\"scattercarpet\":[{\"type\":\"scattercarpet\",\"marker\":{\"colorbar\":{\"outlinewidth\":0,\"ticks\":\"\"}}}],\"carpet\":[{\"aaxis\":{\"endlinecolor\":\"#2a3f5f\",\"gridcolor\":\"white\",\"linecolor\":\"white\",\"minorgridcolor\":\"white\",\"startlinecolor\":\"#2a3f5f\"},\"baxis\":{\"endlinecolor\":\"#2a3f5f\",\"gridcolor\":\"white\",\"linecolor\":\"white\",\"minorgridcolor\":\"white\",\"startlinecolor\":\"#2a3f5f\"},\"type\":\"carpet\"}],\"table\":[{\"cells\":{\"fill\":{\"color\":\"#EBF0F8\"},\"line\":{\"color\":\"white\"}},\"header\":{\"fill\":{\"color\":\"#C8D4E3\"},\"line\":{\"color\":\"white\"}},\"type\":\"table\"}],\"barpolar\":[{\"marker\":{\"line\":{\"color\":\"#E5ECF6\",\"width\":0.5},\"pattern\":{\"fillmode\":\"overlay\",\"size\":10,\"solidity\":0.2}},\"type\":\"barpolar\"}],\"pie\":[{\"automargin\":true,\"type\":\"pie\"}]},\"layout\":{\"autotypenumbers\":\"strict\",\"colorway\":[\"#636efa\",\"#EF553B\",\"#00cc96\",\"#ab63fa\",\"#FFA15A\",\"#19d3f3\",\"#FF6692\",\"#B6E880\",\"#FF97FF\",\"#FECB52\"],\"font\":{\"color\":\"#2a3f5f\"},\"hovermode\":\"closest\",\"hoverlabel\":{\"align\":\"left\"},\"paper_bgcolor\":\"white\",\"plot_bgcolor\":\"#E5ECF6\",\"polar\":{\"bgcolor\":\"#E5ECF6\",\"angularaxis\":{\"gridcolor\":\"white\",\"linecolor\":\"white\",\"ticks\":\"\"},\"radialaxis\":{\"gridcolor\":\"white\",\"linecolor\":\"white\",\"ticks\":\"\"}},\"ternary\":{\"bgcolor\":\"#E5ECF6\",\"aaxis\":{\"gridcolor\":\"white\",\"linecolor\":\"white\",\"ticks\":\"\"},\"baxis\":{\"gridcolor\":\"white\",\"linecolor\":\"white\",\"ticks\":\"\"},\"caxis\":{\"gridcolor\":\"white\",\"linecolor\":\"white\",\"ticks\":\"\"}},\"coloraxis\":{\"colorbar\":{\"outlinewidth\":0,\"ticks\":\"\"}},\"colorscale\":{\"sequential\":[[0.0,\"#0d0887\"],[0.1111111111111111,\"#46039f\"],[0.2222222222222222,\"#7201a8\"],[0.3333333333333333,\"#9c179e\"],[0.4444444444444444,\"#bd3786\"],[0.5555555555555556,\"#d8576b\"],[0.6666666666666666,\"#ed7953\"],[0.7777777777777778,\"#fb9f3a\"],[0.8888888888888888,\"#fdca26\"],[1.0,\"#f0f921\"]],\"sequentialminus\":[[0.0,\"#0d0887\"],[0.1111111111111111,\"#46039f\"],[0.2222222222222222,\"#7201a8\"],[0.3333333333333333,\"#9c179e\"],[0.4444444444444444,\"#bd3786\"],[0.5555555555555556,\"#d8576b\"],[0.6666666666666666,\"#ed7953\"],[0.7777777777777778,\"#fb9f3a\"],[0.8888888888888888,\"#fdca26\"],[1.0,\"#f0f921\"]],\"diverging\":[[0,\"#8e0152\"],[0.1,\"#c51b7d\"],[0.2,\"#de77ae\"],[0.3,\"#f1b6da\"],[0.4,\"#fde0ef\"],[0.5,\"#f7f7f7\"],[0.6,\"#e6f5d0\"],[0.7,\"#b8e186\"],[0.8,\"#7fbc41\"],[0.9,\"#4d9221\"],[1,\"#276419\"]]},\"xaxis\":{\"gridcolor\":\"white\",\"linecolor\":\"white\",\"ticks\":\"\",\"title\":{\"standoff\":15},\"zerolinecolor\":\"white\",\"automargin\":true,\"zerolinewidth\":2},\"yaxis\":{\"gridcolor\":\"white\",\"linecolor\":\"white\",\"ticks\":\"\",\"title\":{\"standoff\":15},\"zerolinecolor\":\"white\",\"automargin\":true,\"zerolinewidth\":2},\"scene\":{\"xaxis\":{\"backgroundcolor\":\"#E5ECF6\",\"gridcolor\":\"white\",\"linecolor\":\"white\",\"showbackground\":true,\"ticks\":\"\",\"zerolinecolor\":\"white\",\"gridwidth\":2},\"yaxis\":{\"backgroundcolor\":\"#E5ECF6\",\"gridcolor\":\"white\",\"linecolor\":\"white\",\"showbackground\":true,\"ticks\":\"\",\"zerolinecolor\":\"white\",\"gridwidth\":2},\"zaxis\":{\"backgroundcolor\":\"#E5ECF6\",\"gridcolor\":\"white\",\"linecolor\":\"white\",\"showbackground\":true,\"ticks\":\"\",\"zerolinecolor\":\"white\",\"gridwidth\":2}},\"shapedefaults\":{\"line\":{\"color\":\"#2a3f5f\"}},\"annotationdefaults\":{\"arrowcolor\":\"#2a3f5f\",\"arrowhead\":0,\"arrowwidth\":1},\"geo\":{\"bgcolor\":\"white\",\"landcolor\":\"#E5ECF6\",\"subunitcolor\":\"white\",\"showland\":true,\"showlakes\":true,\"lakecolor\":\"white\"},\"title\":{\"x\":0.05},\"mapbox\":{\"style\":\"light\"}}},\"xaxis\":{\"anchor\":\"y\",\"domain\":[0.0,1.0],\"title\":{\"text\":\"archq1_cosim\"}},\"yaxis\":{\"anchor\":\"x\",\"domain\":[0.0,1.0],\"title\":{\"text\":\"count\"}},\"legend\":{\"tracegroupgap\":0},\"title\":{\"text\":\"Distribution of Cosine Similarity for Archetype 1\"},\"barmode\":\"relative\"},                        {\"responsive\": true}                    ).then(function(){\n                            \nvar gd = document.getElementById('debf0aa0-3caf-44f3-86af-d588c738c168');\nvar x = new MutationObserver(function (mutations, observer) {{\n        var display = window.getComputedStyle(gd).display;\n        if (!display || display === 'none') {{\n            console.log([gd, 'removed!']);\n            Plotly.purge(gd);\n            observer.disconnect();\n        }}\n}});\n\n// Listen for the removal of the full notebook cells\nvar notebookContainer = gd.closest('#notebook-container');\nif (notebookContainer) {{\n    x.observe(notebookContainer, {childList: true});\n}}\n\n// Listen for the clearing of the current output cell\nvar outputEl = gd.closest('.output');\nif (outputEl) {{\n    x.observe(outputEl, {childList: true});\n}}\n\n                        })                };                });            </script>        </div>"
          },
          "metadata": {}
        },
        {
          "output_type": "display_data",
          "data": {
            "application/vnd.plotly.v1+json": {
              "data": [
                {
                  "alignmentgroup": "True",
                  "bingroup": "x",
                  "hovertemplate": "archq2_cosim=%{x}<br>count=%{y}<extra></extra>",
                  "legendgroup": "",
                  "marker": {
                    "color": "#636efa",
                    "pattern": {
                      "shape": ""
                    }
                  },
                  "name": "",
                  "nbinsx": 30,
                  "offsetgroup": "",
                  "orientation": "v",
                  "showlegend": false,
                  "x": [
                    0.11650042218917811,
                    0.1400309889962853,
                    0.16048872507552492,
                    0.13739054748625368,
                    0.12437785647167032,
                    0.13756224426106112,
                    0.13114122996815514,
                    0.10436907356733582,
                    0.16939188392784055,
                    0.1262898777370448,
                    0.1484042944292675,
                    0.14017095404713498,
                    0.12565812444765712,
                    0.1547369337923622,
                    0.15694226401498168,
                    0.15226024134408456,
                    0.1568076539707841,
                    0.1550985911147159,
                    0.15764176671692176,
                    0.14187361249496633,
                    0.11713370618842278,
                    0.1292615028170978,
                    0.1569140275795503,
                    0.17531574899188718,
                    0.12023341917310926,
                    0.13067036675615906,
                    0.10126133277304217,
                    0.10222578364779478,
                    0.12690506151548375,
                    0.1254019385447015,
                    0.13019293164055756,
                    0.10446443972672448,
                    0.10257964151103738,
                    0.14056401630511794,
                    0.11919664496984173,
                    0.11895217180497075,
                    0.12088086600204562,
                    0.09346664742214617,
                    0.14208400824686696,
                    0.10045281107324844,
                    0.11530519145573581,
                    0.12296715469323338,
                    0.11387425851922606,
                    0.11487530141300273,
                    0.12264310202569506,
                    0.1194027262752907,
                    0.12792996472189533,
                    0.11003253897474685,
                    0.13107857611695428,
                    0.10121629987769443,
                    0.1282620748286022,
                    0.1344679786368993,
                    0.11389269991907847,
                    0.12720011947010956,
                    0.14775860877750646,
                    0.13007381537771467,
                    0.1376820381822046,
                    0.12004862013216033,
                    0.12612347090212583,
                    0.12570739756907612,
                    0.12199203257742186,
                    0.15816716724253377,
                    0.12428606388311914,
                    0.12667390228085762,
                    0.13440969578366635,
                    0.1513254391935367,
                    0.12084470227777477,
                    0.13980730780943618,
                    0.11365080467822453,
                    0.1381033917981005,
                    0.1152414105185553,
                    0.141938694302429,
                    0.1350692374480702,
                    0.12807675759126902,
                    0.13524943356370855,
                    0.13016326810001255,
                    0.14970897298931563,
                    0.13962597020052747,
                    0.12413147411236047,
                    0.1355775952090491,
                    0.11678603909505836,
                    0.11582898248130269,
                    0.15155417924526293,
                    0.13244374631851685,
                    0.13944872319303514,
                    0.1388724929111197,
                    0.12019588127053871,
                    0.14048524436792853,
                    0.13604225181084473,
                    0.12153355805691879,
                    0.14293643650016397,
                    0.12382192163402395,
                    0.1225960352246076,
                    0.12779840905317397,
                    0.12425348319018181,
                    0.13741568734122422,
                    0.14633907300129156,
                    0.1112605538606305,
                    0.12386912987122256,
                    0.142454913587736,
                    0.11696615939310362,
                    0.12637937468812188,
                    0.11837633287580052,
                    0.12978626499087775,
                    0.1342217416653655,
                    0.12413660191285625,
                    0.12333592920829328,
                    0.13447020406888333,
                    0.11164754022681556,
                    0.13264048389072403,
                    0.11619078573659125,
                    0.13075355060282223,
                    0.1192749982519199,
                    0.12758622243917306,
                    0.11185485536767392,
                    0.12396874427484295,
                    0.11445424408428373,
                    0.12498574490657388,
                    0.11739118185516739,
                    0.1237580077198519,
                    0.11485915854123618,
                    0.12427448022017196,
                    0.11551795992435432,
                    0.12101023692302215,
                    0.11400609999937394,
                    0.11353255809742091,
                    0.11034708634020485,
                    0.10606600051964787,
                    0.12100296318341897,
                    0.117116360898183,
                    0.1280829958877946,
                    0.11719129035075626,
                    0.1342421076663386,
                    0.1159286024723567,
                    0.11397033918665,
                    0.11083071736426209,
                    0.12054861990978982,
                    0.10605914065923017,
                    0.11081334331991055,
                    0.12009656488674525,
                    0.11692549876598224,
                    0.10844246767617716,
                    0.11731821196605474,
                    0.11420887977256089,
                    0.11419111183552999,
                    0.11533319224659999,
                    0.10603914546861293,
                    0.11754196988896581,
                    0.1202109104655581,
                    0.11979525447636896,
                    0.12620123030704689,
                    0.09626857395022992,
                    0.1280476569452027,
                    0.12144773077202198,
                    0.12339927648822924,
                    0.08906336593242703,
                    0.1539055770727269,
                    0.10104862925562375,
                    0.11707798050414076,
                    0.12910663060605532,
                    0.0962712324862165,
                    0.11885501830630596,
                    0.13835668786298583,
                    0.11526086175392658,
                    0.13765716943261386,
                    0.14340580261874503,
                    0.10579701709988243,
                    0.12539599839473303,
                    0.10039276717695933,
                    0.12910663060605532,
                    0.14432431733122675,
                    0.11641625301916303,
                    0.12151981741341145,
                    0.12337158973169648,
                    0.10160080640604607,
                    0.10707549007465056,
                    0.11339314809332546,
                    0.11385847316880882,
                    0.11434737345103041,
                    0.10851499645327078,
                    0.09856362454859247,
                    0.08590626533653112,
                    0.14117626601254474,
                    0.10827013443608191,
                    0.12264904665497456,
                    0.12085637058645626,
                    0.10647345518180418,
                    0.11458610825874227,
                    0.085419716778951,
                    0.11969856648606425,
                    0.11330189045493722,
                    0.11519346905758754,
                    0.12816880601745206,
                    0.12321220812764211,
                    0.13782352473586323,
                    0.1034003821336622,
                    0.11052247335127507,
                    0.1255469727002183,
                    0.11714817912720821,
                    0.10371745208309846,
                    0.11408786105984703,
                    0.12639194504990214,
                    0.09977977064510113,
                    0.11160683468054844,
                    0.12712064829972036,
                    0.0991831980958966,
                    0.12630559007297282,
                    0.10863162429897322,
                    0.09285311482379732,
                    0.11063564961449313,
                    0.12119367034383755,
                    0.09565376229757361,
                    0.11442722687792961,
                    0.09914065947344475,
                    0.11219632137378743,
                    0.11201055114574587,
                    0.11139507213618116,
                    0.10792362468098848,
                    0.10273668234171762,
                    0.13401317833759352,
                    0.11853259559150586,
                    0.1289174056002933,
                    0.10150167485772832,
                    0.12126160950414722,
                    0.09836441547606889,
                    0.11147904679189258,
                    0.12632636735085212,
                    0.09922381553417581,
                    0.10876643454282464,
                    0.1293496222727526,
                    0.09568056917403256,
                    0.12367529712057534,
                    0.1084061524850286,
                    0.0881562609296549,
                    0.11165852253883202,
                    0.12136540221058223,
                    0.09715670849216629,
                    0.11209226175728992,
                    0.09635224892005623,
                    0.10639350275730597,
                    0.11252689062157861,
                    0.11237085246878364,
                    0.10808106271001705,
                    0.1025470810051391,
                    0.13499499338546928,
                    0.10392256064181526,
                    0.12986587757983092,
                    0.10449503654173098,
                    0.12179101535602155,
                    0.1041326919496619,
                    0.11179075629987256,
                    0.13303814879088216,
                    0.11454934881384937,
                    0.12019916882878157,
                    0.09244777195894793,
                    0.11715963834397936,
                    0.1509037135148522,
                    0.1280319244616528,
                    0.10776406733619626,
                    0.1241185341891321,
                    0.11092761525282635,
                    0.10467442863047793,
                    0.11676655764061405,
                    0.13125869146134483,
                    0.11182466799755619,
                    0.13559236170871725,
                    0.1186691463938564,
                    0.12815971707213047,
                    0.11883863364043701,
                    0.13790399082136484,
                    0.12706763042197056,
                    0.12754813148094035,
                    0.09425622583998305,
                    0.12388836588850638,
                    0.12841349057964524,
                    0.1168270367565939,
                    0.11809295166971023,
                    0.11071538125060898,
                    0.1291165051281793,
                    0.10604495814034454,
                    0.12620123030704689,
                    0.11088148420074151,
                    0.14001218384931835,
                    0.11687986957400065,
                    0.10558011628929709,
                    0.11792889706494591,
                    0.11742055402353979,
                    0.11889065204675142,
                    0.07434263800524754,
                    0.12012116512700333,
                    0.10967066134659409,
                    0.12019767177045693,
                    0.12130115324275359,
                    0.08755771812183333,
                    0.11490780395450062,
                    0.12945593139478628,
                    0.09615211387014766,
                    0.12722283218849884,
                    0.11732020599296566,
                    0.11594825934897657,
                    0.12542798780538011,
                    0.12639764889264082,
                    0.11692564847713371,
                    0.09606254757855082,
                    0.14461980607041292,
                    0.1493248818193771,
                    0.13794829950122656,
                    0.11841330912069192,
                    0.12641630105468837,
                    0.1061064716978668,
                    0.12355838458828394,
                    0.10871130435948018,
                    0.14766061752157034,
                    0.10077895536490888,
                    0.14131134239195242,
                    0.12962674101362937,
                    0.1351478705848932,
                    0.13653748049695436,
                    0.11466311651251415,
                    0.11853065268431406,
                    0.14538756538799746,
                    0.11925523671791971,
                    0.127282292627101,
                    0.10869028652554791,
                    0.1297585063119635,
                    0.1310382453745389,
                    0.10091239719265843,
                    0.13970983923211144,
                    0.13018073385619555,
                    0.13084460949034027,
                    0.11945834300801617,
                    0.12967617893157068,
                    0.13633305036049803,
                    0.12784377596603225,
                    0.12580795080299945,
                    0.14253788304273418,
                    0.126325308753502,
                    0.14815511203491583,
                    0.12045913585410928,
                    0.10793470000486372,
                    0.12420574512602378,
                    0.14179663563305178,
                    0.1057055865939801,
                    0.1176348496026709,
                    0.13672259031957223,
                    0.1162924806762492,
                    0.12724087174569365,
                    0.1370703269034732,
                    0.11773906286316349,
                    0.13373324413752274,
                    0.12493231607633415,
                    0.12432957918145315,
                    0.12614440624765144,
                    0.13204308482662885,
                    0.156502716705333,
                    0.14021946676295216,
                    0.14044976821471888,
                    0.16529399998881655,
                    0.1249350615117335,
                    0.163764295162923,
                    0.11012447160256789,
                    0.13472895462725298,
                    0.14976049023605986,
                    0.14710569196896373,
                    0.14904314347180625,
                    0.1451495737127988,
                    0.16682529515718636,
                    0.1447064429032292,
                    0.14101049893579098,
                    0.12244769475122563,
                    0.13062441335867447,
                    0.1472059943883115,
                    0.14464378079285045,
                    0.13403011751973626,
                    0.15426686049579585,
                    0.14258927804029664,
                    0.1438507542296159,
                    0.11731300417550417,
                    0.1516575561590422,
                    0.11531743033641073,
                    0.13868277548243346,
                    0.14710120106732327,
                    0.14097334903324066,
                    0.1533738015657603,
                    0.14478113440947826,
                    0.158273037853233,
                    0.13717623573493853,
                    0.1478950255166127,
                    0.1062522783958505,
                    0.1315758823803418,
                    0.13914438547014263,
                    0.12263334108735313,
                    0.1393300008452928,
                    0.1322538881386638,
                    0.14397961134210013,
                    0.1128342384549994,
                    0.14040196299923768,
                    0.14069523677362172,
                    0.13130940889256315,
                    0.14790184234809978,
                    0.14423240328701936,
                    0.13347334863145566,
                    0.13907816941309914,
                    0.1338775040115514,
                    0.12637356798435118,
                    0.10524321491097388,
                    0.1393963784451816,
                    0.14574809406265377,
                    0.1558188037087722,
                    0.1442507295370009,
                    0.13745927755350618,
                    0.1381441625876365,
                    0.15436582292857237,
                    0.13749255849785902,
                    0.10173408079264235,
                    0.15187289483420874,
                    0.11854105034564588,
                    0.1449627388799456,
                    0.13337326951761141,
                    0.1286643362905051,
                    0.1526145045694448,
                    0.12307022621656794,
                    0.11971363989191108,
                    0.1257420733627841,
                    0.11640804482394185,
                    0.12878056306409713,
                    0.1306030756769584,
                    0.13613056092610976,
                    0.13660978007832192,
                    0.11873528579087611,
                    0.13098789665718125,
                    0.10165767247933999,
                    0.13224754857767163,
                    0.1275256736813647,
                    0.1128214168836954,
                    0.1426965355321067,
                    0.10581808786577951,
                    0.1315065465620473,
                    0.13731337380881126,
                    0.12669277414156122,
                    0.13220082093677765,
                    0.13417224520865,
                    0.13023150929545935,
                    0.1022331458737833,
                    0.12345504543824792,
                    0.13523078931100463,
                    0.12045992586055732,
                    0.12269409363063033,
                    0.10102053558762059,
                    0.1467622468995069,
                    0.12600694481762453,
                    0.14216679123403575,
                    0.13366275942741868,
                    0.13287234295952166,
                    0.1187471397760883,
                    0.13487403672575093,
                    0.12722613902385027,
                    0.17357166998649676,
                    0.19228419304010647,
                    0.1956497976723668,
                    0.14835199992151293,
                    0.11837328073848852,
                    0.16751825799159414,
                    0.1715473229666895,
                    0.14809600805923684,
                    0.13277021695828228,
                    0.23761529143740678,
                    0.15114986271674347,
                    0.1587159656931234,
                    0.2060314710985347,
                    0.13149976874104552,
                    0.10939178528712834,
                    0.19443067796116986,
                    0.1257068437871791,
                    0.14396088857642098,
                    0.13215179889710238,
                    0.14523857670258566,
                    0.1923957305770323,
                    0.10239965958331021,
                    0.15581524284321546,
                    0.13655685519215421,
                    0.1462008870868492,
                    0.1283722887532628,
                    0.14080934996210903,
                    0.18040515547163138,
                    0.10023133584942023,
                    0.10947728051059413,
                    0.12059256295864251,
                    0.14713292609596584,
                    0.1635502921037384,
                    0.15369430532580752,
                    0.1457317722876328,
                    0.1450785131791027,
                    0.1306657117524137,
                    0.1343997500046198,
                    0.14752811586012682,
                    0.10319710303083984,
                    0.16045980600329646,
                    0.11999033156001682,
                    0.1403383761139323,
                    0.11363967849949208,
                    0.13244659838598227,
                    0.10110831291435474,
                    0.1370688194839601,
                    0.13677082329160406,
                    0.12209007843664166,
                    0.11604346123478182,
                    0.12117359600383171,
                    0.11224498239327196,
                    0.12367886922713844,
                    0.11957873754610726,
                    0.10693879213296276,
                    0.11441746780405404,
                    0.12379549041461346,
                    0.09335855627254752,
                    0.14122839145409616,
                    0.13919128754597276,
                    0.14193889514627978,
                    0.1072114413619415,
                    0.12480965190171978,
                    0.12081547376530666,
                    0.10465309203562423,
                    0.12088953361547672,
                    0.11251734823286175,
                    0.10826292406448401,
                    0.11707059315432877,
                    0.15030561962560784,
                    0.11791094565738147,
                    0.122451271653776,
                    0.1168511469383211,
                    0.12484338494591762,
                    0.14840255026025562,
                    0.13499998121742485,
                    0.1298963973985705,
                    0.11105891198965268,
                    0.15506555205150752,
                    0.11705097720457103,
                    0.12136904741646926,
                    0.10785059850378065,
                    0.1448079073294869,
                    0.13702318311793538,
                    0.15445964250953403,
                    0.12448886996923125,
                    0.10848492464230541,
                    0.14981203958888178,
                    0.12286158293839888,
                    0.12520333498957692,
                    0.1505930511422855,
                    0.1627229753334688,
                    0.1092196297250958,
                    0.14624078754446734,
                    0.1662341509310893,
                    0.15103401251035242,
                    0.14152341837387605,
                    0.14893498582669384,
                    0.15214476457674309,
                    0.1514683296156456,
                    0.15116633459202766,
                    0.12765012916855634,
                    0.1493092405726869,
                    0.1194865347720464,
                    0.13977135369236082,
                    0.1400367798625618,
                    0.13393265423170775,
                    0.15150939486896398,
                    0.14788313576363776,
                    0.11922318421000722,
                    0.1582489388134889,
                    0.12396519817374951,
                    0.14476301083429632,
                    0.1448958829535566,
                    0.13299205135208925,
                    0.15526661368693073,
                    0.15209429189038126,
                    0.11437756444163338,
                    0.1518565995228437,
                    0.127956999826506,
                    0.1529566884280632,
                    0.13186514451873588,
                    0.13535003078564045,
                    0.15837913773060386,
                    0.12610231470659639,
                    0.14936350414342814,
                    0.14642709077464944,
                    0.13698341595292174,
                    0.15970555649735296,
                    0.1307467693256894,
                    0.14579428710315123,
                    0.14447101767687476,
                    0.12616171241998875,
                    0.1379235604997866,
                    0.15680351479996868,
                    0.15036789560157815,
                    0.14005305871688567,
                    0.13411173384330777,
                    0.14729746948448397,
                    0.12997879371454357,
                    0.14789085490020604,
                    0.14273160445083588
                  ],
                  "xaxis": "x",
                  "yaxis": "y",
                  "type": "histogram"
                }
              ],
              "layout": {
                "template": {
                  "data": {
                    "histogram2dcontour": [
                      {
                        "type": "histogram2dcontour",
                        "colorbar": {
                          "outlinewidth": 0,
                          "ticks": ""
                        },
                        "colorscale": [
                          [
                            0,
                            "#0d0887"
                          ],
                          [
                            0.1111111111111111,
                            "#46039f"
                          ],
                          [
                            0.2222222222222222,
                            "#7201a8"
                          ],
                          [
                            0.3333333333333333,
                            "#9c179e"
                          ],
                          [
                            0.4444444444444444,
                            "#bd3786"
                          ],
                          [
                            0.5555555555555556,
                            "#d8576b"
                          ],
                          [
                            0.6666666666666666,
                            "#ed7953"
                          ],
                          [
                            0.7777777777777778,
                            "#fb9f3a"
                          ],
                          [
                            0.8888888888888888,
                            "#fdca26"
                          ],
                          [
                            1,
                            "#f0f921"
                          ]
                        ]
                      }
                    ],
                    "choropleth": [
                      {
                        "type": "choropleth",
                        "colorbar": {
                          "outlinewidth": 0,
                          "ticks": ""
                        }
                      }
                    ],
                    "histogram2d": [
                      {
                        "type": "histogram2d",
                        "colorbar": {
                          "outlinewidth": 0,
                          "ticks": ""
                        },
                        "colorscale": [
                          [
                            0,
                            "#0d0887"
                          ],
                          [
                            0.1111111111111111,
                            "#46039f"
                          ],
                          [
                            0.2222222222222222,
                            "#7201a8"
                          ],
                          [
                            0.3333333333333333,
                            "#9c179e"
                          ],
                          [
                            0.4444444444444444,
                            "#bd3786"
                          ],
                          [
                            0.5555555555555556,
                            "#d8576b"
                          ],
                          [
                            0.6666666666666666,
                            "#ed7953"
                          ],
                          [
                            0.7777777777777778,
                            "#fb9f3a"
                          ],
                          [
                            0.8888888888888888,
                            "#fdca26"
                          ],
                          [
                            1,
                            "#f0f921"
                          ]
                        ]
                      }
                    ],
                    "heatmap": [
                      {
                        "type": "heatmap",
                        "colorbar": {
                          "outlinewidth": 0,
                          "ticks": ""
                        },
                        "colorscale": [
                          [
                            0,
                            "#0d0887"
                          ],
                          [
                            0.1111111111111111,
                            "#46039f"
                          ],
                          [
                            0.2222222222222222,
                            "#7201a8"
                          ],
                          [
                            0.3333333333333333,
                            "#9c179e"
                          ],
                          [
                            0.4444444444444444,
                            "#bd3786"
                          ],
                          [
                            0.5555555555555556,
                            "#d8576b"
                          ],
                          [
                            0.6666666666666666,
                            "#ed7953"
                          ],
                          [
                            0.7777777777777778,
                            "#fb9f3a"
                          ],
                          [
                            0.8888888888888888,
                            "#fdca26"
                          ],
                          [
                            1,
                            "#f0f921"
                          ]
                        ]
                      }
                    ],
                    "heatmapgl": [
                      {
                        "type": "heatmapgl",
                        "colorbar": {
                          "outlinewidth": 0,
                          "ticks": ""
                        },
                        "colorscale": [
                          [
                            0,
                            "#0d0887"
                          ],
                          [
                            0.1111111111111111,
                            "#46039f"
                          ],
                          [
                            0.2222222222222222,
                            "#7201a8"
                          ],
                          [
                            0.3333333333333333,
                            "#9c179e"
                          ],
                          [
                            0.4444444444444444,
                            "#bd3786"
                          ],
                          [
                            0.5555555555555556,
                            "#d8576b"
                          ],
                          [
                            0.6666666666666666,
                            "#ed7953"
                          ],
                          [
                            0.7777777777777778,
                            "#fb9f3a"
                          ],
                          [
                            0.8888888888888888,
                            "#fdca26"
                          ],
                          [
                            1,
                            "#f0f921"
                          ]
                        ]
                      }
                    ],
                    "contourcarpet": [
                      {
                        "type": "contourcarpet",
                        "colorbar": {
                          "outlinewidth": 0,
                          "ticks": ""
                        }
                      }
                    ],
                    "contour": [
                      {
                        "type": "contour",
                        "colorbar": {
                          "outlinewidth": 0,
                          "ticks": ""
                        },
                        "colorscale": [
                          [
                            0,
                            "#0d0887"
                          ],
                          [
                            0.1111111111111111,
                            "#46039f"
                          ],
                          [
                            0.2222222222222222,
                            "#7201a8"
                          ],
                          [
                            0.3333333333333333,
                            "#9c179e"
                          ],
                          [
                            0.4444444444444444,
                            "#bd3786"
                          ],
                          [
                            0.5555555555555556,
                            "#d8576b"
                          ],
                          [
                            0.6666666666666666,
                            "#ed7953"
                          ],
                          [
                            0.7777777777777778,
                            "#fb9f3a"
                          ],
                          [
                            0.8888888888888888,
                            "#fdca26"
                          ],
                          [
                            1,
                            "#f0f921"
                          ]
                        ]
                      }
                    ],
                    "surface": [
                      {
                        "type": "surface",
                        "colorbar": {
                          "outlinewidth": 0,
                          "ticks": ""
                        },
                        "colorscale": [
                          [
                            0,
                            "#0d0887"
                          ],
                          [
                            0.1111111111111111,
                            "#46039f"
                          ],
                          [
                            0.2222222222222222,
                            "#7201a8"
                          ],
                          [
                            0.3333333333333333,
                            "#9c179e"
                          ],
                          [
                            0.4444444444444444,
                            "#bd3786"
                          ],
                          [
                            0.5555555555555556,
                            "#d8576b"
                          ],
                          [
                            0.6666666666666666,
                            "#ed7953"
                          ],
                          [
                            0.7777777777777778,
                            "#fb9f3a"
                          ],
                          [
                            0.8888888888888888,
                            "#fdca26"
                          ],
                          [
                            1,
                            "#f0f921"
                          ]
                        ]
                      }
                    ],
                    "mesh3d": [
                      {
                        "type": "mesh3d",
                        "colorbar": {
                          "outlinewidth": 0,
                          "ticks": ""
                        }
                      }
                    ],
                    "scatter": [
                      {
                        "fillpattern": {
                          "fillmode": "overlay",
                          "size": 10,
                          "solidity": 0.2
                        },
                        "type": "scatter"
                      }
                    ],
                    "parcoords": [
                      {
                        "type": "parcoords",
                        "line": {
                          "colorbar": {
                            "outlinewidth": 0,
                            "ticks": ""
                          }
                        }
                      }
                    ],
                    "scatterpolargl": [
                      {
                        "type": "scatterpolargl",
                        "marker": {
                          "colorbar": {
                            "outlinewidth": 0,
                            "ticks": ""
                          }
                        }
                      }
                    ],
                    "bar": [
                      {
                        "error_x": {
                          "color": "#2a3f5f"
                        },
                        "error_y": {
                          "color": "#2a3f5f"
                        },
                        "marker": {
                          "line": {
                            "color": "#E5ECF6",
                            "width": 0.5
                          },
                          "pattern": {
                            "fillmode": "overlay",
                            "size": 10,
                            "solidity": 0.2
                          }
                        },
                        "type": "bar"
                      }
                    ],
                    "scattergeo": [
                      {
                        "type": "scattergeo",
                        "marker": {
                          "colorbar": {
                            "outlinewidth": 0,
                            "ticks": ""
                          }
                        }
                      }
                    ],
                    "scatterpolar": [
                      {
                        "type": "scatterpolar",
                        "marker": {
                          "colorbar": {
                            "outlinewidth": 0,
                            "ticks": ""
                          }
                        }
                      }
                    ],
                    "histogram": [
                      {
                        "marker": {
                          "pattern": {
                            "fillmode": "overlay",
                            "size": 10,
                            "solidity": 0.2
                          }
                        },
                        "type": "histogram"
                      }
                    ],
                    "scattergl": [
                      {
                        "type": "scattergl",
                        "marker": {
                          "colorbar": {
                            "outlinewidth": 0,
                            "ticks": ""
                          }
                        }
                      }
                    ],
                    "scatter3d": [
                      {
                        "type": "scatter3d",
                        "line": {
                          "colorbar": {
                            "outlinewidth": 0,
                            "ticks": ""
                          }
                        },
                        "marker": {
                          "colorbar": {
                            "outlinewidth": 0,
                            "ticks": ""
                          }
                        }
                      }
                    ],
                    "scattermapbox": [
                      {
                        "type": "scattermapbox",
                        "marker": {
                          "colorbar": {
                            "outlinewidth": 0,
                            "ticks": ""
                          }
                        }
                      }
                    ],
                    "scatterternary": [
                      {
                        "type": "scatterternary",
                        "marker": {
                          "colorbar": {
                            "outlinewidth": 0,
                            "ticks": ""
                          }
                        }
                      }
                    ],
                    "scattercarpet": [
                      {
                        "type": "scattercarpet",
                        "marker": {
                          "colorbar": {
                            "outlinewidth": 0,
                            "ticks": ""
                          }
                        }
                      }
                    ],
                    "carpet": [
                      {
                        "aaxis": {
                          "endlinecolor": "#2a3f5f",
                          "gridcolor": "white",
                          "linecolor": "white",
                          "minorgridcolor": "white",
                          "startlinecolor": "#2a3f5f"
                        },
                        "baxis": {
                          "endlinecolor": "#2a3f5f",
                          "gridcolor": "white",
                          "linecolor": "white",
                          "minorgridcolor": "white",
                          "startlinecolor": "#2a3f5f"
                        },
                        "type": "carpet"
                      }
                    ],
                    "table": [
                      {
                        "cells": {
                          "fill": {
                            "color": "#EBF0F8"
                          },
                          "line": {
                            "color": "white"
                          }
                        },
                        "header": {
                          "fill": {
                            "color": "#C8D4E3"
                          },
                          "line": {
                            "color": "white"
                          }
                        },
                        "type": "table"
                      }
                    ],
                    "barpolar": [
                      {
                        "marker": {
                          "line": {
                            "color": "#E5ECF6",
                            "width": 0.5
                          },
                          "pattern": {
                            "fillmode": "overlay",
                            "size": 10,
                            "solidity": 0.2
                          }
                        },
                        "type": "barpolar"
                      }
                    ],
                    "pie": [
                      {
                        "automargin": true,
                        "type": "pie"
                      }
                    ]
                  },
                  "layout": {
                    "autotypenumbers": "strict",
                    "colorway": [
                      "#636efa",
                      "#EF553B",
                      "#00cc96",
                      "#ab63fa",
                      "#FFA15A",
                      "#19d3f3",
                      "#FF6692",
                      "#B6E880",
                      "#FF97FF",
                      "#FECB52"
                    ],
                    "font": {
                      "color": "#2a3f5f"
                    },
                    "hovermode": "closest",
                    "hoverlabel": {
                      "align": "left"
                    },
                    "paper_bgcolor": "white",
                    "plot_bgcolor": "#E5ECF6",
                    "polar": {
                      "bgcolor": "#E5ECF6",
                      "angularaxis": {
                        "gridcolor": "white",
                        "linecolor": "white",
                        "ticks": ""
                      },
                      "radialaxis": {
                        "gridcolor": "white",
                        "linecolor": "white",
                        "ticks": ""
                      }
                    },
                    "ternary": {
                      "bgcolor": "#E5ECF6",
                      "aaxis": {
                        "gridcolor": "white",
                        "linecolor": "white",
                        "ticks": ""
                      },
                      "baxis": {
                        "gridcolor": "white",
                        "linecolor": "white",
                        "ticks": ""
                      },
                      "caxis": {
                        "gridcolor": "white",
                        "linecolor": "white",
                        "ticks": ""
                      }
                    },
                    "coloraxis": {
                      "colorbar": {
                        "outlinewidth": 0,
                        "ticks": ""
                      }
                    },
                    "colorscale": {
                      "sequential": [
                        [
                          0,
                          "#0d0887"
                        ],
                        [
                          0.1111111111111111,
                          "#46039f"
                        ],
                        [
                          0.2222222222222222,
                          "#7201a8"
                        ],
                        [
                          0.3333333333333333,
                          "#9c179e"
                        ],
                        [
                          0.4444444444444444,
                          "#bd3786"
                        ],
                        [
                          0.5555555555555556,
                          "#d8576b"
                        ],
                        [
                          0.6666666666666666,
                          "#ed7953"
                        ],
                        [
                          0.7777777777777778,
                          "#fb9f3a"
                        ],
                        [
                          0.8888888888888888,
                          "#fdca26"
                        ],
                        [
                          1,
                          "#f0f921"
                        ]
                      ],
                      "sequentialminus": [
                        [
                          0,
                          "#0d0887"
                        ],
                        [
                          0.1111111111111111,
                          "#46039f"
                        ],
                        [
                          0.2222222222222222,
                          "#7201a8"
                        ],
                        [
                          0.3333333333333333,
                          "#9c179e"
                        ],
                        [
                          0.4444444444444444,
                          "#bd3786"
                        ],
                        [
                          0.5555555555555556,
                          "#d8576b"
                        ],
                        [
                          0.6666666666666666,
                          "#ed7953"
                        ],
                        [
                          0.7777777777777778,
                          "#fb9f3a"
                        ],
                        [
                          0.8888888888888888,
                          "#fdca26"
                        ],
                        [
                          1,
                          "#f0f921"
                        ]
                      ],
                      "diverging": [
                        [
                          0,
                          "#8e0152"
                        ],
                        [
                          0.1,
                          "#c51b7d"
                        ],
                        [
                          0.2,
                          "#de77ae"
                        ],
                        [
                          0.3,
                          "#f1b6da"
                        ],
                        [
                          0.4,
                          "#fde0ef"
                        ],
                        [
                          0.5,
                          "#f7f7f7"
                        ],
                        [
                          0.6,
                          "#e6f5d0"
                        ],
                        [
                          0.7,
                          "#b8e186"
                        ],
                        [
                          0.8,
                          "#7fbc41"
                        ],
                        [
                          0.9,
                          "#4d9221"
                        ],
                        [
                          1,
                          "#276419"
                        ]
                      ]
                    },
                    "xaxis": {
                      "gridcolor": "white",
                      "linecolor": "white",
                      "ticks": "",
                      "title": {
                        "standoff": 15
                      },
                      "zerolinecolor": "white",
                      "automargin": true,
                      "zerolinewidth": 2
                    },
                    "yaxis": {
                      "gridcolor": "white",
                      "linecolor": "white",
                      "ticks": "",
                      "title": {
                        "standoff": 15
                      },
                      "zerolinecolor": "white",
                      "automargin": true,
                      "zerolinewidth": 2
                    },
                    "scene": {
                      "xaxis": {
                        "backgroundcolor": "#E5ECF6",
                        "gridcolor": "white",
                        "linecolor": "white",
                        "showbackground": true,
                        "ticks": "",
                        "zerolinecolor": "white",
                        "gridwidth": 2
                      },
                      "yaxis": {
                        "backgroundcolor": "#E5ECF6",
                        "gridcolor": "white",
                        "linecolor": "white",
                        "showbackground": true,
                        "ticks": "",
                        "zerolinecolor": "white",
                        "gridwidth": 2
                      },
                      "zaxis": {
                        "backgroundcolor": "#E5ECF6",
                        "gridcolor": "white",
                        "linecolor": "white",
                        "showbackground": true,
                        "ticks": "",
                        "zerolinecolor": "white",
                        "gridwidth": 2
                      }
                    },
                    "shapedefaults": {
                      "line": {
                        "color": "#2a3f5f"
                      }
                    },
                    "annotationdefaults": {
                      "arrowcolor": "#2a3f5f",
                      "arrowhead": 0,
                      "arrowwidth": 1
                    },
                    "geo": {
                      "bgcolor": "white",
                      "landcolor": "#E5ECF6",
                      "subunitcolor": "white",
                      "showland": true,
                      "showlakes": true,
                      "lakecolor": "white"
                    },
                    "title": {
                      "x": 0.05
                    },
                    "mapbox": {
                      "style": "light"
                    }
                  }
                },
                "xaxis": {
                  "anchor": "y",
                  "domain": [
                    0,
                    1
                  ],
                  "title": {
                    "text": "archq2_cosim"
                  }
                },
                "yaxis": {
                  "anchor": "x",
                  "domain": [
                    0,
                    1
                  ],
                  "title": {
                    "text": "count"
                  }
                },
                "legend": {
                  "tracegroupgap": 0
                },
                "title": {
                  "text": "Distribution of Cosine Similarity for Archetype 2"
                },
                "barmode": "relative"
              },
              "config": {
                "plotlyServerURL": "https://plot.ly"
              }
            },
            "text/html": "<div>                            <div id=\"34f0026f-2dfd-4ab4-b8c1-3167849a6d1f\" class=\"plotly-graph-div\" style=\"height:525px; width:100%;\"></div>            <script type=\"text/javascript\">                require([\"plotly\"], function(Plotly) {                    window.PLOTLYENV=window.PLOTLYENV || {};                                    if (document.getElementById(\"34f0026f-2dfd-4ab4-b8c1-3167849a6d1f\")) {                    Plotly.newPlot(                        \"34f0026f-2dfd-4ab4-b8c1-3167849a6d1f\",                        [{\"alignmentgroup\":\"True\",\"bingroup\":\"x\",\"hovertemplate\":\"archq2_cosim=%{x}\\u003cbr\\u003ecount=%{y}\\u003cextra\\u003e\\u003c\\u002fextra\\u003e\",\"legendgroup\":\"\",\"marker\":{\"color\":\"#636efa\",\"pattern\":{\"shape\":\"\"}},\"name\":\"\",\"nbinsx\":30,\"offsetgroup\":\"\",\"orientation\":\"v\",\"showlegend\":false,\"x\":[0.11650042218917811,0.1400309889962853,0.16048872507552492,0.13739054748625368,0.12437785647167032,0.13756224426106112,0.13114122996815514,0.10436907356733582,0.16939188392784055,0.1262898777370448,0.1484042944292675,0.14017095404713498,0.12565812444765712,0.1547369337923622,0.15694226401498168,0.15226024134408456,0.1568076539707841,0.1550985911147159,0.15764176671692176,0.14187361249496633,0.11713370618842278,0.1292615028170978,0.1569140275795503,0.17531574899188718,0.12023341917310926,0.13067036675615906,0.10126133277304217,0.10222578364779478,0.12690506151548375,0.1254019385447015,0.13019293164055756,0.10446443972672448,0.10257964151103738,0.14056401630511794,0.11919664496984173,0.11895217180497075,0.12088086600204562,0.09346664742214617,0.14208400824686696,0.10045281107324844,0.11530519145573581,0.12296715469323338,0.11387425851922606,0.11487530141300273,0.12264310202569506,0.1194027262752907,0.12792996472189533,0.11003253897474685,0.13107857611695428,0.10121629987769443,0.1282620748286022,0.1344679786368993,0.11389269991907847,0.12720011947010956,0.14775860877750646,0.13007381537771467,0.1376820381822046,0.12004862013216033,0.12612347090212583,0.12570739756907612,0.12199203257742186,0.15816716724253377,0.12428606388311914,0.12667390228085762,0.13440969578366635,0.1513254391935367,0.12084470227777477,0.13980730780943618,0.11365080467822453,0.1381033917981005,0.1152414105185553,0.141938694302429,0.1350692374480702,0.12807675759126902,0.13524943356370855,0.13016326810001255,0.14970897298931563,0.13962597020052747,0.12413147411236047,0.1355775952090491,0.11678603909505836,0.11582898248130269,0.15155417924526293,0.13244374631851685,0.13944872319303514,0.1388724929111197,0.12019588127053871,0.14048524436792853,0.13604225181084473,0.12153355805691879,0.14293643650016397,0.12382192163402395,0.1225960352246076,0.12779840905317397,0.12425348319018181,0.13741568734122422,0.14633907300129156,0.1112605538606305,0.12386912987122256,0.142454913587736,0.11696615939310362,0.12637937468812188,0.11837633287580052,0.12978626499087775,0.1342217416653655,0.12413660191285625,0.12333592920829328,0.13447020406888333,0.11164754022681556,0.13264048389072403,0.11619078573659125,0.13075355060282223,0.1192749982519199,0.12758622243917306,0.11185485536767392,0.12396874427484295,0.11445424408428373,0.12498574490657388,0.11739118185516739,0.1237580077198519,0.11485915854123618,0.12427448022017196,0.11551795992435432,0.12101023692302215,0.11400609999937394,0.11353255809742091,0.11034708634020485,0.10606600051964787,0.12100296318341897,0.117116360898183,0.1280829958877946,0.11719129035075626,0.1342421076663386,0.1159286024723567,0.11397033918665,0.11083071736426209,0.12054861990978982,0.10605914065923017,0.11081334331991055,0.12009656488674525,0.11692549876598224,0.10844246767617716,0.11731821196605474,0.11420887977256089,0.11419111183552999,0.11533319224659999,0.10603914546861293,0.11754196988896581,0.1202109104655581,0.11979525447636896,0.12620123030704689,0.09626857395022992,0.1280476569452027,0.12144773077202198,0.12339927648822924,0.08906336593242703,0.1539055770727269,0.10104862925562375,0.11707798050414076,0.12910663060605532,0.0962712324862165,0.11885501830630596,0.13835668786298583,0.11526086175392658,0.13765716943261386,0.14340580261874503,0.10579701709988243,0.12539599839473303,0.10039276717695933,0.12910663060605532,0.14432431733122675,0.11641625301916303,0.12151981741341145,0.12337158973169648,0.10160080640604607,0.10707549007465056,0.11339314809332546,0.11385847316880882,0.11434737345103041,0.10851499645327078,0.09856362454859247,0.08590626533653112,0.14117626601254474,0.10827013443608191,0.12264904665497456,0.12085637058645626,0.10647345518180418,0.11458610825874227,0.085419716778951,0.11969856648606425,0.11330189045493722,0.11519346905758754,0.12816880601745206,0.12321220812764211,0.13782352473586323,0.1034003821336622,0.11052247335127507,0.1255469727002183,0.11714817912720821,0.10371745208309846,0.11408786105984703,0.12639194504990214,0.09977977064510113,0.11160683468054844,0.12712064829972036,0.0991831980958966,0.12630559007297282,0.10863162429897322,0.09285311482379732,0.11063564961449313,0.12119367034383755,0.09565376229757361,0.11442722687792961,0.09914065947344475,0.11219632137378743,0.11201055114574587,0.11139507213618116,0.10792362468098848,0.10273668234171762,0.13401317833759352,0.11853259559150586,0.1289174056002933,0.10150167485772832,0.12126160950414722,0.09836441547606889,0.11147904679189258,0.12632636735085212,0.09922381553417581,0.10876643454282464,0.1293496222727526,0.09568056917403256,0.12367529712057534,0.1084061524850286,0.0881562609296549,0.11165852253883202,0.12136540221058223,0.09715670849216629,0.11209226175728992,0.09635224892005623,0.10639350275730597,0.11252689062157861,0.11237085246878364,0.10808106271001705,0.1025470810051391,0.13499499338546928,0.10392256064181526,0.12986587757983092,0.10449503654173098,0.12179101535602155,0.1041326919496619,0.11179075629987256,0.13303814879088216,0.11454934881384937,0.12019916882878157,0.09244777195894793,0.11715963834397936,0.1509037135148522,0.1280319244616528,0.10776406733619626,0.1241185341891321,0.11092761525282635,0.10467442863047793,0.11676655764061405,0.13125869146134483,0.11182466799755619,0.13559236170871725,0.1186691463938564,0.12815971707213047,0.11883863364043701,0.13790399082136484,0.12706763042197056,0.12754813148094035,0.09425622583998305,0.12388836588850638,0.12841349057964524,0.1168270367565939,0.11809295166971023,0.11071538125060898,0.1291165051281793,0.10604495814034454,0.12620123030704689,0.11088148420074151,0.14001218384931835,0.11687986957400065,0.10558011628929709,0.11792889706494591,0.11742055402353979,0.11889065204675142,0.07434263800524754,0.12012116512700333,0.10967066134659409,0.12019767177045693,0.12130115324275359,0.08755771812183333,0.11490780395450062,0.12945593139478628,0.09615211387014766,0.12722283218849884,0.11732020599296566,0.11594825934897657,0.12542798780538011,0.12639764889264082,0.11692564847713371,0.09606254757855082,0.14461980607041292,0.1493248818193771,0.13794829950122656,0.11841330912069192,0.12641630105468837,0.1061064716978668,0.12355838458828394,0.10871130435948018,0.14766061752157034,0.10077895536490888,0.14131134239195242,0.12962674101362937,0.1351478705848932,0.13653748049695436,0.11466311651251415,0.11853065268431406,0.14538756538799746,0.11925523671791971,0.127282292627101,0.10869028652554791,0.1297585063119635,0.1310382453745389,0.10091239719265843,0.13970983923211144,0.13018073385619555,0.13084460949034027,0.11945834300801617,0.12967617893157068,0.13633305036049803,0.12784377596603225,0.12580795080299945,0.14253788304273418,0.126325308753502,0.14815511203491583,0.12045913585410928,0.10793470000486372,0.12420574512602378,0.14179663563305178,0.1057055865939801,0.1176348496026709,0.13672259031957223,0.1162924806762492,0.12724087174569365,0.1370703269034732,0.11773906286316349,0.13373324413752274,0.12493231607633415,0.12432957918145315,0.12614440624765144,0.13204308482662885,0.156502716705333,0.14021946676295216,0.14044976821471888,0.16529399998881655,0.1249350615117335,0.163764295162923,0.11012447160256789,0.13472895462725298,0.14976049023605986,0.14710569196896373,0.14904314347180625,0.1451495737127988,0.16682529515718636,0.1447064429032292,0.14101049893579098,0.12244769475122563,0.13062441335867447,0.1472059943883115,0.14464378079285045,0.13403011751973626,0.15426686049579585,0.14258927804029664,0.1438507542296159,0.11731300417550417,0.1516575561590422,0.11531743033641073,0.13868277548243346,0.14710120106732327,0.14097334903324066,0.1533738015657603,0.14478113440947826,0.158273037853233,0.13717623573493853,0.1478950255166127,0.1062522783958505,0.1315758823803418,0.13914438547014263,0.12263334108735313,0.1393300008452928,0.1322538881386638,0.14397961134210013,0.1128342384549994,0.14040196299923768,0.14069523677362172,0.13130940889256315,0.14790184234809978,0.14423240328701936,0.13347334863145566,0.13907816941309914,0.1338775040115514,0.12637356798435118,0.10524321491097388,0.1393963784451816,0.14574809406265377,0.1558188037087722,0.1442507295370009,0.13745927755350618,0.1381441625876365,0.15436582292857237,0.13749255849785902,0.10173408079264235,0.15187289483420874,0.11854105034564588,0.1449627388799456,0.13337326951761141,0.1286643362905051,0.1526145045694448,0.12307022621656794,0.11971363989191108,0.1257420733627841,0.11640804482394185,0.12878056306409713,0.1306030756769584,0.13613056092610976,0.13660978007832192,0.11873528579087611,0.13098789665718125,0.10165767247933999,0.13224754857767163,0.1275256736813647,0.1128214168836954,0.1426965355321067,0.10581808786577951,0.1315065465620473,0.13731337380881126,0.12669277414156122,0.13220082093677765,0.13417224520865,0.13023150929545935,0.1022331458737833,0.12345504543824792,0.13523078931100463,0.12045992586055732,0.12269409363063033,0.10102053558762059,0.1467622468995069,0.12600694481762453,0.14216679123403575,0.13366275942741868,0.13287234295952166,0.1187471397760883,0.13487403672575093,0.12722613902385027,0.17357166998649676,0.19228419304010647,0.1956497976723668,0.14835199992151293,0.11837328073848852,0.16751825799159414,0.1715473229666895,0.14809600805923684,0.13277021695828228,0.23761529143740678,0.15114986271674347,0.1587159656931234,0.2060314710985347,0.13149976874104552,0.10939178528712834,0.19443067796116986,0.1257068437871791,0.14396088857642098,0.13215179889710238,0.14523857670258566,0.1923957305770323,0.10239965958331021,0.15581524284321546,0.13655685519215421,0.1462008870868492,0.1283722887532628,0.14080934996210903,0.18040515547163138,0.10023133584942023,0.10947728051059413,0.12059256295864251,0.14713292609596584,0.1635502921037384,0.15369430532580752,0.1457317722876328,0.1450785131791027,0.1306657117524137,0.1343997500046198,0.14752811586012682,0.10319710303083984,0.16045980600329646,0.11999033156001682,0.1403383761139323,0.11363967849949208,0.13244659838598227,0.10110831291435474,0.1370688194839601,0.13677082329160406,0.12209007843664166,0.11604346123478182,0.12117359600383171,0.11224498239327196,0.12367886922713844,0.11957873754610726,0.10693879213296276,0.11441746780405404,0.12379549041461346,0.09335855627254752,0.14122839145409616,0.13919128754597276,0.14193889514627978,0.1072114413619415,0.12480965190171978,0.12081547376530666,0.10465309203562423,0.12088953361547672,0.11251734823286175,0.10826292406448401,0.11707059315432877,0.15030561962560784,0.11791094565738147,0.122451271653776,0.1168511469383211,0.12484338494591762,0.14840255026025562,0.13499998121742485,0.1298963973985705,0.11105891198965268,0.15506555205150752,0.11705097720457103,0.12136904741646926,0.10785059850378065,0.1448079073294869,0.13702318311793538,0.15445964250953403,0.12448886996923125,0.10848492464230541,0.14981203958888178,0.12286158293839888,0.12520333498957692,0.1505930511422855,0.1627229753334688,0.1092196297250958,0.14624078754446734,0.1662341509310893,0.15103401251035242,0.14152341837387605,0.14893498582669384,0.15214476457674309,0.1514683296156456,0.15116633459202766,0.12765012916855634,0.1493092405726869,0.1194865347720464,0.13977135369236082,0.1400367798625618,0.13393265423170775,0.15150939486896398,0.14788313576363776,0.11922318421000722,0.1582489388134889,0.12396519817374951,0.14476301083429632,0.1448958829535566,0.13299205135208925,0.15526661368693073,0.15209429189038126,0.11437756444163338,0.1518565995228437,0.127956999826506,0.1529566884280632,0.13186514451873588,0.13535003078564045,0.15837913773060386,0.12610231470659639,0.14936350414342814,0.14642709077464944,0.13698341595292174,0.15970555649735296,0.1307467693256894,0.14579428710315123,0.14447101767687476,0.12616171241998875,0.1379235604997866,0.15680351479996868,0.15036789560157815,0.14005305871688567,0.13411173384330777,0.14729746948448397,0.12997879371454357,0.14789085490020604,0.14273160445083588],\"xaxis\":\"x\",\"yaxis\":\"y\",\"type\":\"histogram\"}],                        {\"template\":{\"data\":{\"histogram2dcontour\":[{\"type\":\"histogram2dcontour\",\"colorbar\":{\"outlinewidth\":0,\"ticks\":\"\"},\"colorscale\":[[0.0,\"#0d0887\"],[0.1111111111111111,\"#46039f\"],[0.2222222222222222,\"#7201a8\"],[0.3333333333333333,\"#9c179e\"],[0.4444444444444444,\"#bd3786\"],[0.5555555555555556,\"#d8576b\"],[0.6666666666666666,\"#ed7953\"],[0.7777777777777778,\"#fb9f3a\"],[0.8888888888888888,\"#fdca26\"],[1.0,\"#f0f921\"]]}],\"choropleth\":[{\"type\":\"choropleth\",\"colorbar\":{\"outlinewidth\":0,\"ticks\":\"\"}}],\"histogram2d\":[{\"type\":\"histogram2d\",\"colorbar\":{\"outlinewidth\":0,\"ticks\":\"\"},\"colorscale\":[[0.0,\"#0d0887\"],[0.1111111111111111,\"#46039f\"],[0.2222222222222222,\"#7201a8\"],[0.3333333333333333,\"#9c179e\"],[0.4444444444444444,\"#bd3786\"],[0.5555555555555556,\"#d8576b\"],[0.6666666666666666,\"#ed7953\"],[0.7777777777777778,\"#fb9f3a\"],[0.8888888888888888,\"#fdca26\"],[1.0,\"#f0f921\"]]}],\"heatmap\":[{\"type\":\"heatmap\",\"colorbar\":{\"outlinewidth\":0,\"ticks\":\"\"},\"colorscale\":[[0.0,\"#0d0887\"],[0.1111111111111111,\"#46039f\"],[0.2222222222222222,\"#7201a8\"],[0.3333333333333333,\"#9c179e\"],[0.4444444444444444,\"#bd3786\"],[0.5555555555555556,\"#d8576b\"],[0.6666666666666666,\"#ed7953\"],[0.7777777777777778,\"#fb9f3a\"],[0.8888888888888888,\"#fdca26\"],[1.0,\"#f0f921\"]]}],\"heatmapgl\":[{\"type\":\"heatmapgl\",\"colorbar\":{\"outlinewidth\":0,\"ticks\":\"\"},\"colorscale\":[[0.0,\"#0d0887\"],[0.1111111111111111,\"#46039f\"],[0.2222222222222222,\"#7201a8\"],[0.3333333333333333,\"#9c179e\"],[0.4444444444444444,\"#bd3786\"],[0.5555555555555556,\"#d8576b\"],[0.6666666666666666,\"#ed7953\"],[0.7777777777777778,\"#fb9f3a\"],[0.8888888888888888,\"#fdca26\"],[1.0,\"#f0f921\"]]}],\"contourcarpet\":[{\"type\":\"contourcarpet\",\"colorbar\":{\"outlinewidth\":0,\"ticks\":\"\"}}],\"contour\":[{\"type\":\"contour\",\"colorbar\":{\"outlinewidth\":0,\"ticks\":\"\"},\"colorscale\":[[0.0,\"#0d0887\"],[0.1111111111111111,\"#46039f\"],[0.2222222222222222,\"#7201a8\"],[0.3333333333333333,\"#9c179e\"],[0.4444444444444444,\"#bd3786\"],[0.5555555555555556,\"#d8576b\"],[0.6666666666666666,\"#ed7953\"],[0.7777777777777778,\"#fb9f3a\"],[0.8888888888888888,\"#fdca26\"],[1.0,\"#f0f921\"]]}],\"surface\":[{\"type\":\"surface\",\"colorbar\":{\"outlinewidth\":0,\"ticks\":\"\"},\"colorscale\":[[0.0,\"#0d0887\"],[0.1111111111111111,\"#46039f\"],[0.2222222222222222,\"#7201a8\"],[0.3333333333333333,\"#9c179e\"],[0.4444444444444444,\"#bd3786\"],[0.5555555555555556,\"#d8576b\"],[0.6666666666666666,\"#ed7953\"],[0.7777777777777778,\"#fb9f3a\"],[0.8888888888888888,\"#fdca26\"],[1.0,\"#f0f921\"]]}],\"mesh3d\":[{\"type\":\"mesh3d\",\"colorbar\":{\"outlinewidth\":0,\"ticks\":\"\"}}],\"scatter\":[{\"fillpattern\":{\"fillmode\":\"overlay\",\"size\":10,\"solidity\":0.2},\"type\":\"scatter\"}],\"parcoords\":[{\"type\":\"parcoords\",\"line\":{\"colorbar\":{\"outlinewidth\":0,\"ticks\":\"\"}}}],\"scatterpolargl\":[{\"type\":\"scatterpolargl\",\"marker\":{\"colorbar\":{\"outlinewidth\":0,\"ticks\":\"\"}}}],\"bar\":[{\"error_x\":{\"color\":\"#2a3f5f\"},\"error_y\":{\"color\":\"#2a3f5f\"},\"marker\":{\"line\":{\"color\":\"#E5ECF6\",\"width\":0.5},\"pattern\":{\"fillmode\":\"overlay\",\"size\":10,\"solidity\":0.2}},\"type\":\"bar\"}],\"scattergeo\":[{\"type\":\"scattergeo\",\"marker\":{\"colorbar\":{\"outlinewidth\":0,\"ticks\":\"\"}}}],\"scatterpolar\":[{\"type\":\"scatterpolar\",\"marker\":{\"colorbar\":{\"outlinewidth\":0,\"ticks\":\"\"}}}],\"histogram\":[{\"marker\":{\"pattern\":{\"fillmode\":\"overlay\",\"size\":10,\"solidity\":0.2}},\"type\":\"histogram\"}],\"scattergl\":[{\"type\":\"scattergl\",\"marker\":{\"colorbar\":{\"outlinewidth\":0,\"ticks\":\"\"}}}],\"scatter3d\":[{\"type\":\"scatter3d\",\"line\":{\"colorbar\":{\"outlinewidth\":0,\"ticks\":\"\"}},\"marker\":{\"colorbar\":{\"outlinewidth\":0,\"ticks\":\"\"}}}],\"scattermapbox\":[{\"type\":\"scattermapbox\",\"marker\":{\"colorbar\":{\"outlinewidth\":0,\"ticks\":\"\"}}}],\"scatterternary\":[{\"type\":\"scatterternary\",\"marker\":{\"colorbar\":{\"outlinewidth\":0,\"ticks\":\"\"}}}],\"scattercarpet\":[{\"type\":\"scattercarpet\",\"marker\":{\"colorbar\":{\"outlinewidth\":0,\"ticks\":\"\"}}}],\"carpet\":[{\"aaxis\":{\"endlinecolor\":\"#2a3f5f\",\"gridcolor\":\"white\",\"linecolor\":\"white\",\"minorgridcolor\":\"white\",\"startlinecolor\":\"#2a3f5f\"},\"baxis\":{\"endlinecolor\":\"#2a3f5f\",\"gridcolor\":\"white\",\"linecolor\":\"white\",\"minorgridcolor\":\"white\",\"startlinecolor\":\"#2a3f5f\"},\"type\":\"carpet\"}],\"table\":[{\"cells\":{\"fill\":{\"color\":\"#EBF0F8\"},\"line\":{\"color\":\"white\"}},\"header\":{\"fill\":{\"color\":\"#C8D4E3\"},\"line\":{\"color\":\"white\"}},\"type\":\"table\"}],\"barpolar\":[{\"marker\":{\"line\":{\"color\":\"#E5ECF6\",\"width\":0.5},\"pattern\":{\"fillmode\":\"overlay\",\"size\":10,\"solidity\":0.2}},\"type\":\"barpolar\"}],\"pie\":[{\"automargin\":true,\"type\":\"pie\"}]},\"layout\":{\"autotypenumbers\":\"strict\",\"colorway\":[\"#636efa\",\"#EF553B\",\"#00cc96\",\"#ab63fa\",\"#FFA15A\",\"#19d3f3\",\"#FF6692\",\"#B6E880\",\"#FF97FF\",\"#FECB52\"],\"font\":{\"color\":\"#2a3f5f\"},\"hovermode\":\"closest\",\"hoverlabel\":{\"align\":\"left\"},\"paper_bgcolor\":\"white\",\"plot_bgcolor\":\"#E5ECF6\",\"polar\":{\"bgcolor\":\"#E5ECF6\",\"angularaxis\":{\"gridcolor\":\"white\",\"linecolor\":\"white\",\"ticks\":\"\"},\"radialaxis\":{\"gridcolor\":\"white\",\"linecolor\":\"white\",\"ticks\":\"\"}},\"ternary\":{\"bgcolor\":\"#E5ECF6\",\"aaxis\":{\"gridcolor\":\"white\",\"linecolor\":\"white\",\"ticks\":\"\"},\"baxis\":{\"gridcolor\":\"white\",\"linecolor\":\"white\",\"ticks\":\"\"},\"caxis\":{\"gridcolor\":\"white\",\"linecolor\":\"white\",\"ticks\":\"\"}},\"coloraxis\":{\"colorbar\":{\"outlinewidth\":0,\"ticks\":\"\"}},\"colorscale\":{\"sequential\":[[0.0,\"#0d0887\"],[0.1111111111111111,\"#46039f\"],[0.2222222222222222,\"#7201a8\"],[0.3333333333333333,\"#9c179e\"],[0.4444444444444444,\"#bd3786\"],[0.5555555555555556,\"#d8576b\"],[0.6666666666666666,\"#ed7953\"],[0.7777777777777778,\"#fb9f3a\"],[0.8888888888888888,\"#fdca26\"],[1.0,\"#f0f921\"]],\"sequentialminus\":[[0.0,\"#0d0887\"],[0.1111111111111111,\"#46039f\"],[0.2222222222222222,\"#7201a8\"],[0.3333333333333333,\"#9c179e\"],[0.4444444444444444,\"#bd3786\"],[0.5555555555555556,\"#d8576b\"],[0.6666666666666666,\"#ed7953\"],[0.7777777777777778,\"#fb9f3a\"],[0.8888888888888888,\"#fdca26\"],[1.0,\"#f0f921\"]],\"diverging\":[[0,\"#8e0152\"],[0.1,\"#c51b7d\"],[0.2,\"#de77ae\"],[0.3,\"#f1b6da\"],[0.4,\"#fde0ef\"],[0.5,\"#f7f7f7\"],[0.6,\"#e6f5d0\"],[0.7,\"#b8e186\"],[0.8,\"#7fbc41\"],[0.9,\"#4d9221\"],[1,\"#276419\"]]},\"xaxis\":{\"gridcolor\":\"white\",\"linecolor\":\"white\",\"ticks\":\"\",\"title\":{\"standoff\":15},\"zerolinecolor\":\"white\",\"automargin\":true,\"zerolinewidth\":2},\"yaxis\":{\"gridcolor\":\"white\",\"linecolor\":\"white\",\"ticks\":\"\",\"title\":{\"standoff\":15},\"zerolinecolor\":\"white\",\"automargin\":true,\"zerolinewidth\":2},\"scene\":{\"xaxis\":{\"backgroundcolor\":\"#E5ECF6\",\"gridcolor\":\"white\",\"linecolor\":\"white\",\"showbackground\":true,\"ticks\":\"\",\"zerolinecolor\":\"white\",\"gridwidth\":2},\"yaxis\":{\"backgroundcolor\":\"#E5ECF6\",\"gridcolor\":\"white\",\"linecolor\":\"white\",\"showbackground\":true,\"ticks\":\"\",\"zerolinecolor\":\"white\",\"gridwidth\":2},\"zaxis\":{\"backgroundcolor\":\"#E5ECF6\",\"gridcolor\":\"white\",\"linecolor\":\"white\",\"showbackground\":true,\"ticks\":\"\",\"zerolinecolor\":\"white\",\"gridwidth\":2}},\"shapedefaults\":{\"line\":{\"color\":\"#2a3f5f\"}},\"annotationdefaults\":{\"arrowcolor\":\"#2a3f5f\",\"arrowhead\":0,\"arrowwidth\":1},\"geo\":{\"bgcolor\":\"white\",\"landcolor\":\"#E5ECF6\",\"subunitcolor\":\"white\",\"showland\":true,\"showlakes\":true,\"lakecolor\":\"white\"},\"title\":{\"x\":0.05},\"mapbox\":{\"style\":\"light\"}}},\"xaxis\":{\"anchor\":\"y\",\"domain\":[0.0,1.0],\"title\":{\"text\":\"archq2_cosim\"}},\"yaxis\":{\"anchor\":\"x\",\"domain\":[0.0,1.0],\"title\":{\"text\":\"count\"}},\"legend\":{\"tracegroupgap\":0},\"title\":{\"text\":\"Distribution of Cosine Similarity for Archetype 2\"},\"barmode\":\"relative\"},                        {\"responsive\": true}                    ).then(function(){\n                            \nvar gd = document.getElementById('34f0026f-2dfd-4ab4-b8c1-3167849a6d1f');\nvar x = new MutationObserver(function (mutations, observer) {{\n        var display = window.getComputedStyle(gd).display;\n        if (!display || display === 'none') {{\n            console.log([gd, 'removed!']);\n            Plotly.purge(gd);\n            observer.disconnect();\n        }}\n}});\n\n// Listen for the removal of the full notebook cells\nvar notebookContainer = gd.closest('#notebook-container');\nif (notebookContainer) {{\n    x.observe(notebookContainer, {childList: true});\n}}\n\n// Listen for the clearing of the current output cell\nvar outputEl = gd.closest('.output');\nif (outputEl) {{\n    x.observe(outputEl, {childList: true});\n}}\n\n                        })                };                });            </script>        </div>"
          },
          "metadata": {}
        },
        {
          "output_type": "display_data",
          "data": {
            "application/vnd.plotly.v1+json": {
              "data": [
                {
                  "alignmentgroup": "True",
                  "bingroup": "x",
                  "hovertemplate": "archq3_cosim=%{x}<br>count=%{y}<extra></extra>",
                  "legendgroup": "",
                  "marker": {
                    "color": "#636efa",
                    "pattern": {
                      "shape": ""
                    }
                  },
                  "name": "",
                  "nbinsx": 30,
                  "offsetgroup": "",
                  "orientation": "v",
                  "showlegend": false,
                  "x": [
                    0.11206966834544252,
                    0.14705522081457012,
                    0.16096027013053338,
                    0.11383665579443725,
                    0.07910549846029369,
                    0.11520151837330106,
                    0.12565420134930871,
                    0.11645876239588504,
                    0.15410573222392876,
                    0.1261215481094632,
                    0.1535080340028212,
                    0.11630370913198729,
                    0.11109835978615967,
                    0.1451157248174223,
                    0.14944096465775547,
                    0.09487103850594814,
                    0.11821614983830764,
                    0.14618515663943055,
                    0.1533541502244965,
                    0.13700411660555423,
                    0.10523179285908535,
                    0.11152903471341913,
                    0.16975181153294328,
                    0.15486792721348464,
                    0.0986977285097802,
                    0.0874856558083541,
                    0.06872481070970948,
                    0.0739551276534054,
                    0.11052911205060423,
                    0.10141733908658601,
                    0.10932510185425803,
                    0.07825589625781704,
                    0.06143920448768281,
                    0.11627393926754448,
                    0.10031344605395753,
                    0.06768842557473331,
                    0.11865466600279839,
                    0.06439801884906016,
                    0.10910202714451056,
                    0.0723851688625442,
                    0.09803244851337367,
                    0.10543917417975379,
                    0.06371990727502597,
                    0.08459331360587152,
                    0.10707043814919726,
                    0.07772717814080199,
                    0.11441872842810963,
                    0.0767883805365498,
                    0.12009218603294358,
                    0.06201053784132993,
                    0.10858515508203748,
                    0.11040992815948936,
                    0.10410315241584689,
                    0.09778984249026956,
                    0.12025583656316652,
                    0.10440399477523621,
                    0.11183680452900313,
                    0.0953270210677698,
                    0.10995720304422785,
                    0.1045395408113553,
                    0.10600056516378509,
                    0.12282547680623213,
                    0.09292533492514554,
                    0.09168031899470075,
                    0.10514090533516651,
                    0.1259980502410215,
                    0.090978804987359,
                    0.114362632924776,
                    0.09459865107443499,
                    0.10946580725561517,
                    0.09534557574859592,
                    0.10778789914335607,
                    0.10378594181047096,
                    0.10341515963233439,
                    0.11499164308097876,
                    0.10435914530037316,
                    0.11537293992776232,
                    0.12470552266545332,
                    0.09734047872287654,
                    0.10971114828594797,
                    0.1064737968969548,
                    0.09040844026483641,
                    0.11018768582213645,
                    0.10279268636856487,
                    0.10214283851256634,
                    0.12176295281154026,
                    0.0992996508532542,
                    0.11588893708802905,
                    0.1201416678115419,
                    0.09400515707907009,
                    0.1153715273613205,
                    0.0896438017886908,
                    0.09020036385161767,
                    0.09629864833143764,
                    0.08354176174535632,
                    0.11398063922088253,
                    0.12041626592642418,
                    0.08687882911915124,
                    0.10249394480617235,
                    0.11861388853176891,
                    0.08695449432178881,
                    0.10727864426862976,
                    0.08537041071902252,
                    0.11649228002927192,
                    0.10647720281073791,
                    0.10012020445636416,
                    0.1013338061617286,
                    0.10798011895556903,
                    0.08874027210727153,
                    0.1142734636796433,
                    0.09580218338332236,
                    0.10513429051052614,
                    0.09758200237479597,
                    0.10449273989296959,
                    0.0911939076474757,
                    0.10827679031321691,
                    0.09189182224308512,
                    0.10375825288204332,
                    0.09114630591625639,
                    0.10248682282495691,
                    0.09839182288241721,
                    0.10625664685267922,
                    0.0987394923358833,
                    0.09925247885065713,
                    0.09237235373092778,
                    0.09731458468078602,
                    0.08698240922562694,
                    0.09451060400928835,
                    0.10038027490411405,
                    0.10014844409182566,
                    0.11616253159659562,
                    0.09530861537378188,
                    0.11919993198095669,
                    0.09615490660341386,
                    0.09342144697663557,
                    0.0893512763698574,
                    0.10282196315838299,
                    0.09820453029995868,
                    0.0872167793408769,
                    0.10214482401805869,
                    0.10783249304609055,
                    0.09909337858016698,
                    0.1017403840118497,
                    0.10145904900806568,
                    0.09104289970785873,
                    0.09780798263755464,
                    0.09697568658599953,
                    0.10406806489695286,
                    0.10322817338703583,
                    0.10687364285266909,
                    0.12192950892797438,
                    0.08302252424323275,
                    0.12396114729227592,
                    0.1271373522570649,
                    0.0951576379773107,
                    0.08267925358592865,
                    0.15224529567890643,
                    0.07156041625596388,
                    0.13271152365779915,
                    0.10749860495821073,
                    0.08299017896065009,
                    0.13055397622345577,
                    0.11344886330014892,
                    0.12297599222845168,
                    0.1042976526125271,
                    0.14361711294144075,
                    0.08093410647729371,
                    0.12148260194603122,
                    0.1299419547011872,
                    0.10749860495821073,
                    0.13368648789477544,
                    0.10252770122601607,
                    0.12722044792544007,
                    0.08912496755129784,
                    0.06442242598585324,
                    0.07984428180831982,
                    0.13439757965601706,
                    0.09009696745102558,
                    0.08827472499464528,
                    0.1096391966182666,
                    0.07599367327518414,
                    0.08153038157511094,
                    0.11750597861844192,
                    0.12647274139350417,
                    0.09494937015608884,
                    0.12140132981571572,
                    0.08714221276567335,
                    0.08481715562308345,
                    0.06257932599204308,
                    0.09574205284452075,
                    0.08598613104154795,
                    0.096707007019049,
                    0.11398192075805291,
                    0.10460420583814578,
                    0.11077387244149273,
                    0.07850660192911407,
                    0.10589925347384965,
                    0.09414949341932455,
                    0.10520068614904587,
                    0.07799093588700656,
                    0.09907686189280251,
                    0.12469817780734682,
                    0.09604855944201052,
                    0.11154960760676069,
                    0.12674186918826336,
                    0.09559139654213422,
                    0.12328415486557742,
                    0.10489354819379881,
                    0.12613066719016208,
                    0.09966399165740891,
                    0.1325672233791061,
                    0.09356133893216612,
                    0.10432855107584771,
                    0.09878648185329064,
                    0.09981458582696567,
                    0.10690955823664183,
                    0.10842979721614987,
                    0.1106401533139566,
                    0.09516348904582961,
                    0.12367223591189058,
                    0.10844586651840094,
                    0.12047867271208479,
                    0.08848087063251542,
                    0.13088959120251253,
                    0.09746707401115717,
                    0.095582183564767,
                    0.12467229780233047,
                    0.08956211538115166,
                    0.10313990652538252,
                    0.1290992758586913,
                    0.08203393089359867,
                    0.12263538017913289,
                    0.09941119626696604,
                    0.12476726877827293,
                    0.09254319048717874,
                    0.13139323955059523,
                    0.09337511742399773,
                    0.09544367603608583,
                    0.09309614700398128,
                    0.0956939382012364,
                    0.09801468112426637,
                    0.10304291531234844,
                    0.11466460964311342,
                    0.09264185612817977,
                    0.1239889190068596,
                    0.0898577564883557,
                    0.1189966571744221,
                    0.08714787001358004,
                    0.13219648229435133,
                    0.09772373415364632,
                    0.08694835091869557,
                    0.10138502997766508,
                    0.09680321196960961,
                    0.10903548411243125,
                    0.11630370437471793,
                    0.08569665305788987,
                    0.1442050729842297,
                    0.11195602295051676,
                    0.09388602528251,
                    0.10990123086622616,
                    0.11725356438116141,
                    0.11208692591621638,
                    0.09527358094144567,
                    0.12201886263545503,
                    0.11567830743192775,
                    0.11950304943935186,
                    0.09158292959928827,
                    0.12461057927355412,
                    0.10103412121929978,
                    0.13887107543678567,
                    0.1268880729391293,
                    0.11434865176570752,
                    0.1228638303264471,
                    0.09757453018790785,
                    0.14216320163711615,
                    0.1152619759969351,
                    0.08577115730493379,
                    0.09364766258184154,
                    0.1306671644587759,
                    0.0825608948670401,
                    0.12192950892797438,
                    0.08246262479126765,
                    0.11944683529626765,
                    0.08792551606379273,
                    0.12603165767866764,
                    0.09710627466472965,
                    0.13824652096367462,
                    0.09192043782782122,
                    0.08370419271054741,
                    0.08733256807131717,
                    0.0923725368819861,
                    0.1334336512412756,
                    0.08588341200729943,
                    0.13378074106308468,
                    0.09378043043570716,
                    0.12410396083478503,
                    0.07625971680968979,
                    0.1276331433422233,
                    0.09703936086223164,
                    0.08110444004903028,
                    0.1280933954732274,
                    0.09231457701865564,
                    0.06559151079540781,
                    0.055490353666507786,
                    0.08071243461693467,
                    0.10560198501419438,
                    0.058105212772708414,
                    0.10406683695067898,
                    0.09691006335381591,
                    0.060943170154337145,
                    0.08886900046228696,
                    0.04340761141428284,
                    0.088237630394576,
                    0.06411585472916081,
                    0.10197804787731368,
                    0.09817885469174781,
                    0.05457671819082577,
                    0.11173523255196094,
                    0.044216651268167206,
                    0.09653973607186861,
                    0.0909146016910719,
                    0.0878144685446659,
                    0.11070808540692456,
                    0.0444967126148047,
                    0.06709153478969154,
                    0.0781671278234215,
                    0.05254282677498934,
                    0.1013255395922773,
                    0.09561968520537711,
                    0.07827685977003485,
                    0.06842089591352296,
                    0.1034713100617356,
                    0.07366359467114703,
                    0.1001956330713113,
                    0.06272925622843384,
                    0.10454655673620683,
                    0.08487139297294644,
                    0.07038877218096051,
                    0.10102686324159116,
                    0.05305013827295202,
                    0.08024228390785626,
                    0.10519509541190475,
                    0.06877127478447154,
                    0.09251883056973487,
                    0.07688219398795304,
                    0.04506521920463491,
                    0.08619669263843488,
                    0.08250995078255219,
                    0.08318261734254462,
                    0.05993002142634973,
                    0.07649816391278186,
                    0.1014442532890174,
                    0.09798088080503564,
                    0.10103165781779389,
                    0.1036190017295574,
                    0.09255026236611663,
                    0.07920484107759085,
                    0.08827313492887079,
                    0.10189406804050372,
                    0.08360221189614303,
                    0.109952446868532,
                    0.07490705210765158,
                    0.12385280007787758,
                    0.07771875040852372,
                    0.10088216958256302,
                    0.11393042368287598,
                    0.08964863165528547,
                    0.11288413419011356,
                    0.10388638612835133,
                    0.09977976662333288,
                    0.085881745739524,
                    0.09003040986413657,
                    0.10739033317556745,
                    0.07241939872533742,
                    0.06668346208094711,
                    0.09314887071763911,
                    0.0774606167648264,
                    0.10888929871592379,
                    0.09153937631009557,
                    0.11388172346739567,
                    0.08697001772197965,
                    0.13198276595700276,
                    0.08227468217577671,
                    0.11139316572368141,
                    0.11535560613994256,
                    0.09218796951495767,
                    0.1104696620418586,
                    0.1238245211850475,
                    0.11148647009822199,
                    0.08299263615250319,
                    0.1013789286439768,
                    0.09475706382472049,
                    0.11543588815165984,
                    0.09913285402036964,
                    0.09848077378896691,
                    0.09190636874031588,
                    0.09959248533333576,
                    0.10718245943501226,
                    0.09508157003866868,
                    0.07332718881059674,
                    0.05381015078360141,
                    0.06888171361806039,
                    0.09819786662599528,
                    0.08876332374858265,
                    0.07433833773406218,
                    0.09552278694165539,
                    0.11650511562716903,
                    0.11753750199906698,
                    0.07605001328082672,
                    0.1139157486992094,
                    0.09806179129483295,
                    0.06145050370646499,
                    0.13489512328268916,
                    0.0714431723805169,
                    0.10992934358388229,
                    0.07269900849499089,
                    0.09758492875899905,
                    0.07172327164336556,
                    0.06880111729030502,
                    0.0745693122932013,
                    0.1003215433766167,
                    0.08681444385965531,
                    0.0974022852827382,
                    0.11287930207608099,
                    0.06496364456993142,
                    0.12880818947485806,
                    0.1308604610052455,
                    0.06829299903291552,
                    0.12048367721085906,
                    0.12424334325394659,
                    0.08538593123198734,
                    0.0629344946112016,
                    0.08298034171588464,
                    0.13615435287590738,
                    0.11722420199932004,
                    0.12087968879955868,
                    0.06354562561701615,
                    0.10537585895973323,
                    0.07392406429331588,
                    0.12469714172584556,
                    0.11403198972590967,
                    0.14402524740171208,
                    0.08346266349209475,
                    0.06283709544078553,
                    0.12644478847072116,
                    0.06584863819784703,
                    0.11038498525022677,
                    0.09901839415761926,
                    0.0614194890882801,
                    0.1296162685812372,
                    0.13422088730336557,
                    0.12144524908730858,
                    0.12697805406452656,
                    0.11140878823081724,
                    0.1238222187833079,
                    0.12089842666459905,
                    0.11776905590400966,
                    0.1532248981390093,
                    0.17893887289810806,
                    0.18178382375645286,
                    0.13595278364667307,
                    0.12423388728126294,
                    0.12540852696246252,
                    0.18097541949761564,
                    0.13646883017869393,
                    0.12726356950713835,
                    0.22908988429456145,
                    0.13700510979267588,
                    0.13881778824768543,
                    0.20402983034143884,
                    0.1413480958775627,
                    0.11967356195543077,
                    0.18491304703228817,
                    0.12012317927842475,
                    0.11526017843658709,
                    0.14090945865579707,
                    0.13665742956260063,
                    0.1494465067064692,
                    0.10074950932734106,
                    0.14210642348848823,
                    0.13846261172631136,
                    0.12457395501106006,
                    0.16863742960929695,
                    0.1577451965266311,
                    0.17313321146070582,
                    0.14839696890614584,
                    0.12326944115634253,
                    0.10408639711438994,
                    0.14173176689788658,
                    0.13732112408738406,
                    0.1345683291760278,
                    0.14864031026626723,
                    0.14951130539353807,
                    0.14433179534148244,
                    0.15355434601601037,
                    0.1504640548117151,
                    0.11245600146162371,
                    0.15546517404098592,
                    0.12499283584199472,
                    0.11959329484088588,
                    0.13794699537325905,
                    0.13255093940733131,
                    0.12585028984667435,
                    0.13282326339420358,
                    0.14997196662435375,
                    0.14211305678895736,
                    0.13060196605289964,
                    0.13711599431666288,
                    0.13397242152177458,
                    0.14551402569193916,
                    0.1333672825243768,
                    0.1279512211874021,
                    0.13034595159586249,
                    0.13335160995092776,
                    0.14539063041990452,
                    0.15293473769867372,
                    0.1394315580866251,
                    0.15076134266794294,
                    0.13565560447936376,
                    0.13552685900090555,
                    0.12209530124480883,
                    0.12616383982744306,
                    0.13946134489636175,
                    0.13812043503530602,
                    0.12491628156112178,
                    0.1325159604369751,
                    0.15728480013253898,
                    0.12150843379894183,
                    0.13247914854635934,
                    0.1288849218092315,
                    0.1411862348978863,
                    0.1310913075902267,
                    0.13307755824349687,
                    0.141757174084164,
                    0.12696778371640494,
                    0.12878822677206092,
                    0.1325347683619199,
                    0.13085956878495786,
                    0.12905377367547055,
                    0.13634739813183872,
                    0.1303984682043714,
                    0.15815504758878007,
                    0.12773671183484459,
                    0.13288876522951276,
                    0.12993627221378035,
                    0.11130963159972485,
                    0.13217226789413727,
                    0.1374562196466531,
                    0.15331413437179398,
                    0.13418250827883715,
                    0.1259471640573463,
                    0.15190591615368276,
                    0.14379230583014224,
                    0.14616429841038692,
                    0.14741099151367965,
                    0.14655583165768593,
                    0.13423705844440592,
                    0.13878656350704832,
                    0.12459678640497907,
                    0.15019350808364407,
                    0.13586196529765227,
                    0.15980954884385068,
                    0.14159237089287036,
                    0.14084179708112554,
                    0.14371622549576568,
                    0.14106560636939192,
                    0.12992946846037878,
                    0.1396585057763835,
                    0.13923409641885498,
                    0.1621712955011766,
                    0.14767485962185778,
                    0.12615450963410468,
                    0.14912112005791645,
                    0.14337753893393546,
                    0.13320306613282007,
                    0.1421341062624243,
                    0.12019190214634579,
                    0.15508069359814658,
                    0.14001769106176076,
                    0.1525937840960293,
                    0.16618431178709425,
                    0.12583533232744126,
                    0.1431397971254057,
                    0.16221137709283795,
                    0.13993845672880245,
                    0.15570239430176536,
                    0.15129161029528437,
                    0.15160993309113513,
                    0.14841478965755073,
                    0.1558699103407286,
                    0.1340637876371159,
                    0.15694391589800383,
                    0.1572570908725116,
                    0.14291367058418492,
                    0.13524496513524153,
                    0.14029701837414998,
                    0.13984433776940575,
                    0.14333354639399465,
                    0.15374254123983122
                  ],
                  "xaxis": "x",
                  "yaxis": "y",
                  "type": "histogram"
                }
              ],
              "layout": {
                "template": {
                  "data": {
                    "histogram2dcontour": [
                      {
                        "type": "histogram2dcontour",
                        "colorbar": {
                          "outlinewidth": 0,
                          "ticks": ""
                        },
                        "colorscale": [
                          [
                            0,
                            "#0d0887"
                          ],
                          [
                            0.1111111111111111,
                            "#46039f"
                          ],
                          [
                            0.2222222222222222,
                            "#7201a8"
                          ],
                          [
                            0.3333333333333333,
                            "#9c179e"
                          ],
                          [
                            0.4444444444444444,
                            "#bd3786"
                          ],
                          [
                            0.5555555555555556,
                            "#d8576b"
                          ],
                          [
                            0.6666666666666666,
                            "#ed7953"
                          ],
                          [
                            0.7777777777777778,
                            "#fb9f3a"
                          ],
                          [
                            0.8888888888888888,
                            "#fdca26"
                          ],
                          [
                            1,
                            "#f0f921"
                          ]
                        ]
                      }
                    ],
                    "choropleth": [
                      {
                        "type": "choropleth",
                        "colorbar": {
                          "outlinewidth": 0,
                          "ticks": ""
                        }
                      }
                    ],
                    "histogram2d": [
                      {
                        "type": "histogram2d",
                        "colorbar": {
                          "outlinewidth": 0,
                          "ticks": ""
                        },
                        "colorscale": [
                          [
                            0,
                            "#0d0887"
                          ],
                          [
                            0.1111111111111111,
                            "#46039f"
                          ],
                          [
                            0.2222222222222222,
                            "#7201a8"
                          ],
                          [
                            0.3333333333333333,
                            "#9c179e"
                          ],
                          [
                            0.4444444444444444,
                            "#bd3786"
                          ],
                          [
                            0.5555555555555556,
                            "#d8576b"
                          ],
                          [
                            0.6666666666666666,
                            "#ed7953"
                          ],
                          [
                            0.7777777777777778,
                            "#fb9f3a"
                          ],
                          [
                            0.8888888888888888,
                            "#fdca26"
                          ],
                          [
                            1,
                            "#f0f921"
                          ]
                        ]
                      }
                    ],
                    "heatmap": [
                      {
                        "type": "heatmap",
                        "colorbar": {
                          "outlinewidth": 0,
                          "ticks": ""
                        },
                        "colorscale": [
                          [
                            0,
                            "#0d0887"
                          ],
                          [
                            0.1111111111111111,
                            "#46039f"
                          ],
                          [
                            0.2222222222222222,
                            "#7201a8"
                          ],
                          [
                            0.3333333333333333,
                            "#9c179e"
                          ],
                          [
                            0.4444444444444444,
                            "#bd3786"
                          ],
                          [
                            0.5555555555555556,
                            "#d8576b"
                          ],
                          [
                            0.6666666666666666,
                            "#ed7953"
                          ],
                          [
                            0.7777777777777778,
                            "#fb9f3a"
                          ],
                          [
                            0.8888888888888888,
                            "#fdca26"
                          ],
                          [
                            1,
                            "#f0f921"
                          ]
                        ]
                      }
                    ],
                    "heatmapgl": [
                      {
                        "type": "heatmapgl",
                        "colorbar": {
                          "outlinewidth": 0,
                          "ticks": ""
                        },
                        "colorscale": [
                          [
                            0,
                            "#0d0887"
                          ],
                          [
                            0.1111111111111111,
                            "#46039f"
                          ],
                          [
                            0.2222222222222222,
                            "#7201a8"
                          ],
                          [
                            0.3333333333333333,
                            "#9c179e"
                          ],
                          [
                            0.4444444444444444,
                            "#bd3786"
                          ],
                          [
                            0.5555555555555556,
                            "#d8576b"
                          ],
                          [
                            0.6666666666666666,
                            "#ed7953"
                          ],
                          [
                            0.7777777777777778,
                            "#fb9f3a"
                          ],
                          [
                            0.8888888888888888,
                            "#fdca26"
                          ],
                          [
                            1,
                            "#f0f921"
                          ]
                        ]
                      }
                    ],
                    "contourcarpet": [
                      {
                        "type": "contourcarpet",
                        "colorbar": {
                          "outlinewidth": 0,
                          "ticks": ""
                        }
                      }
                    ],
                    "contour": [
                      {
                        "type": "contour",
                        "colorbar": {
                          "outlinewidth": 0,
                          "ticks": ""
                        },
                        "colorscale": [
                          [
                            0,
                            "#0d0887"
                          ],
                          [
                            0.1111111111111111,
                            "#46039f"
                          ],
                          [
                            0.2222222222222222,
                            "#7201a8"
                          ],
                          [
                            0.3333333333333333,
                            "#9c179e"
                          ],
                          [
                            0.4444444444444444,
                            "#bd3786"
                          ],
                          [
                            0.5555555555555556,
                            "#d8576b"
                          ],
                          [
                            0.6666666666666666,
                            "#ed7953"
                          ],
                          [
                            0.7777777777777778,
                            "#fb9f3a"
                          ],
                          [
                            0.8888888888888888,
                            "#fdca26"
                          ],
                          [
                            1,
                            "#f0f921"
                          ]
                        ]
                      }
                    ],
                    "surface": [
                      {
                        "type": "surface",
                        "colorbar": {
                          "outlinewidth": 0,
                          "ticks": ""
                        },
                        "colorscale": [
                          [
                            0,
                            "#0d0887"
                          ],
                          [
                            0.1111111111111111,
                            "#46039f"
                          ],
                          [
                            0.2222222222222222,
                            "#7201a8"
                          ],
                          [
                            0.3333333333333333,
                            "#9c179e"
                          ],
                          [
                            0.4444444444444444,
                            "#bd3786"
                          ],
                          [
                            0.5555555555555556,
                            "#d8576b"
                          ],
                          [
                            0.6666666666666666,
                            "#ed7953"
                          ],
                          [
                            0.7777777777777778,
                            "#fb9f3a"
                          ],
                          [
                            0.8888888888888888,
                            "#fdca26"
                          ],
                          [
                            1,
                            "#f0f921"
                          ]
                        ]
                      }
                    ],
                    "mesh3d": [
                      {
                        "type": "mesh3d",
                        "colorbar": {
                          "outlinewidth": 0,
                          "ticks": ""
                        }
                      }
                    ],
                    "scatter": [
                      {
                        "fillpattern": {
                          "fillmode": "overlay",
                          "size": 10,
                          "solidity": 0.2
                        },
                        "type": "scatter"
                      }
                    ],
                    "parcoords": [
                      {
                        "type": "parcoords",
                        "line": {
                          "colorbar": {
                            "outlinewidth": 0,
                            "ticks": ""
                          }
                        }
                      }
                    ],
                    "scatterpolargl": [
                      {
                        "type": "scatterpolargl",
                        "marker": {
                          "colorbar": {
                            "outlinewidth": 0,
                            "ticks": ""
                          }
                        }
                      }
                    ],
                    "bar": [
                      {
                        "error_x": {
                          "color": "#2a3f5f"
                        },
                        "error_y": {
                          "color": "#2a3f5f"
                        },
                        "marker": {
                          "line": {
                            "color": "#E5ECF6",
                            "width": 0.5
                          },
                          "pattern": {
                            "fillmode": "overlay",
                            "size": 10,
                            "solidity": 0.2
                          }
                        },
                        "type": "bar"
                      }
                    ],
                    "scattergeo": [
                      {
                        "type": "scattergeo",
                        "marker": {
                          "colorbar": {
                            "outlinewidth": 0,
                            "ticks": ""
                          }
                        }
                      }
                    ],
                    "scatterpolar": [
                      {
                        "type": "scatterpolar",
                        "marker": {
                          "colorbar": {
                            "outlinewidth": 0,
                            "ticks": ""
                          }
                        }
                      }
                    ],
                    "histogram": [
                      {
                        "marker": {
                          "pattern": {
                            "fillmode": "overlay",
                            "size": 10,
                            "solidity": 0.2
                          }
                        },
                        "type": "histogram"
                      }
                    ],
                    "scattergl": [
                      {
                        "type": "scattergl",
                        "marker": {
                          "colorbar": {
                            "outlinewidth": 0,
                            "ticks": ""
                          }
                        }
                      }
                    ],
                    "scatter3d": [
                      {
                        "type": "scatter3d",
                        "line": {
                          "colorbar": {
                            "outlinewidth": 0,
                            "ticks": ""
                          }
                        },
                        "marker": {
                          "colorbar": {
                            "outlinewidth": 0,
                            "ticks": ""
                          }
                        }
                      }
                    ],
                    "scattermapbox": [
                      {
                        "type": "scattermapbox",
                        "marker": {
                          "colorbar": {
                            "outlinewidth": 0,
                            "ticks": ""
                          }
                        }
                      }
                    ],
                    "scatterternary": [
                      {
                        "type": "scatterternary",
                        "marker": {
                          "colorbar": {
                            "outlinewidth": 0,
                            "ticks": ""
                          }
                        }
                      }
                    ],
                    "scattercarpet": [
                      {
                        "type": "scattercarpet",
                        "marker": {
                          "colorbar": {
                            "outlinewidth": 0,
                            "ticks": ""
                          }
                        }
                      }
                    ],
                    "carpet": [
                      {
                        "aaxis": {
                          "endlinecolor": "#2a3f5f",
                          "gridcolor": "white",
                          "linecolor": "white",
                          "minorgridcolor": "white",
                          "startlinecolor": "#2a3f5f"
                        },
                        "baxis": {
                          "endlinecolor": "#2a3f5f",
                          "gridcolor": "white",
                          "linecolor": "white",
                          "minorgridcolor": "white",
                          "startlinecolor": "#2a3f5f"
                        },
                        "type": "carpet"
                      }
                    ],
                    "table": [
                      {
                        "cells": {
                          "fill": {
                            "color": "#EBF0F8"
                          },
                          "line": {
                            "color": "white"
                          }
                        },
                        "header": {
                          "fill": {
                            "color": "#C8D4E3"
                          },
                          "line": {
                            "color": "white"
                          }
                        },
                        "type": "table"
                      }
                    ],
                    "barpolar": [
                      {
                        "marker": {
                          "line": {
                            "color": "#E5ECF6",
                            "width": 0.5
                          },
                          "pattern": {
                            "fillmode": "overlay",
                            "size": 10,
                            "solidity": 0.2
                          }
                        },
                        "type": "barpolar"
                      }
                    ],
                    "pie": [
                      {
                        "automargin": true,
                        "type": "pie"
                      }
                    ]
                  },
                  "layout": {
                    "autotypenumbers": "strict",
                    "colorway": [
                      "#636efa",
                      "#EF553B",
                      "#00cc96",
                      "#ab63fa",
                      "#FFA15A",
                      "#19d3f3",
                      "#FF6692",
                      "#B6E880",
                      "#FF97FF",
                      "#FECB52"
                    ],
                    "font": {
                      "color": "#2a3f5f"
                    },
                    "hovermode": "closest",
                    "hoverlabel": {
                      "align": "left"
                    },
                    "paper_bgcolor": "white",
                    "plot_bgcolor": "#E5ECF6",
                    "polar": {
                      "bgcolor": "#E5ECF6",
                      "angularaxis": {
                        "gridcolor": "white",
                        "linecolor": "white",
                        "ticks": ""
                      },
                      "radialaxis": {
                        "gridcolor": "white",
                        "linecolor": "white",
                        "ticks": ""
                      }
                    },
                    "ternary": {
                      "bgcolor": "#E5ECF6",
                      "aaxis": {
                        "gridcolor": "white",
                        "linecolor": "white",
                        "ticks": ""
                      },
                      "baxis": {
                        "gridcolor": "white",
                        "linecolor": "white",
                        "ticks": ""
                      },
                      "caxis": {
                        "gridcolor": "white",
                        "linecolor": "white",
                        "ticks": ""
                      }
                    },
                    "coloraxis": {
                      "colorbar": {
                        "outlinewidth": 0,
                        "ticks": ""
                      }
                    },
                    "colorscale": {
                      "sequential": [
                        [
                          0,
                          "#0d0887"
                        ],
                        [
                          0.1111111111111111,
                          "#46039f"
                        ],
                        [
                          0.2222222222222222,
                          "#7201a8"
                        ],
                        [
                          0.3333333333333333,
                          "#9c179e"
                        ],
                        [
                          0.4444444444444444,
                          "#bd3786"
                        ],
                        [
                          0.5555555555555556,
                          "#d8576b"
                        ],
                        [
                          0.6666666666666666,
                          "#ed7953"
                        ],
                        [
                          0.7777777777777778,
                          "#fb9f3a"
                        ],
                        [
                          0.8888888888888888,
                          "#fdca26"
                        ],
                        [
                          1,
                          "#f0f921"
                        ]
                      ],
                      "sequentialminus": [
                        [
                          0,
                          "#0d0887"
                        ],
                        [
                          0.1111111111111111,
                          "#46039f"
                        ],
                        [
                          0.2222222222222222,
                          "#7201a8"
                        ],
                        [
                          0.3333333333333333,
                          "#9c179e"
                        ],
                        [
                          0.4444444444444444,
                          "#bd3786"
                        ],
                        [
                          0.5555555555555556,
                          "#d8576b"
                        ],
                        [
                          0.6666666666666666,
                          "#ed7953"
                        ],
                        [
                          0.7777777777777778,
                          "#fb9f3a"
                        ],
                        [
                          0.8888888888888888,
                          "#fdca26"
                        ],
                        [
                          1,
                          "#f0f921"
                        ]
                      ],
                      "diverging": [
                        [
                          0,
                          "#8e0152"
                        ],
                        [
                          0.1,
                          "#c51b7d"
                        ],
                        [
                          0.2,
                          "#de77ae"
                        ],
                        [
                          0.3,
                          "#f1b6da"
                        ],
                        [
                          0.4,
                          "#fde0ef"
                        ],
                        [
                          0.5,
                          "#f7f7f7"
                        ],
                        [
                          0.6,
                          "#e6f5d0"
                        ],
                        [
                          0.7,
                          "#b8e186"
                        ],
                        [
                          0.8,
                          "#7fbc41"
                        ],
                        [
                          0.9,
                          "#4d9221"
                        ],
                        [
                          1,
                          "#276419"
                        ]
                      ]
                    },
                    "xaxis": {
                      "gridcolor": "white",
                      "linecolor": "white",
                      "ticks": "",
                      "title": {
                        "standoff": 15
                      },
                      "zerolinecolor": "white",
                      "automargin": true,
                      "zerolinewidth": 2
                    },
                    "yaxis": {
                      "gridcolor": "white",
                      "linecolor": "white",
                      "ticks": "",
                      "title": {
                        "standoff": 15
                      },
                      "zerolinecolor": "white",
                      "automargin": true,
                      "zerolinewidth": 2
                    },
                    "scene": {
                      "xaxis": {
                        "backgroundcolor": "#E5ECF6",
                        "gridcolor": "white",
                        "linecolor": "white",
                        "showbackground": true,
                        "ticks": "",
                        "zerolinecolor": "white",
                        "gridwidth": 2
                      },
                      "yaxis": {
                        "backgroundcolor": "#E5ECF6",
                        "gridcolor": "white",
                        "linecolor": "white",
                        "showbackground": true,
                        "ticks": "",
                        "zerolinecolor": "white",
                        "gridwidth": 2
                      },
                      "zaxis": {
                        "backgroundcolor": "#E5ECF6",
                        "gridcolor": "white",
                        "linecolor": "white",
                        "showbackground": true,
                        "ticks": "",
                        "zerolinecolor": "white",
                        "gridwidth": 2
                      }
                    },
                    "shapedefaults": {
                      "line": {
                        "color": "#2a3f5f"
                      }
                    },
                    "annotationdefaults": {
                      "arrowcolor": "#2a3f5f",
                      "arrowhead": 0,
                      "arrowwidth": 1
                    },
                    "geo": {
                      "bgcolor": "white",
                      "landcolor": "#E5ECF6",
                      "subunitcolor": "white",
                      "showland": true,
                      "showlakes": true,
                      "lakecolor": "white"
                    },
                    "title": {
                      "x": 0.05
                    },
                    "mapbox": {
                      "style": "light"
                    }
                  }
                },
                "xaxis": {
                  "anchor": "y",
                  "domain": [
                    0,
                    1
                  ],
                  "title": {
                    "text": "archq3_cosim"
                  }
                },
                "yaxis": {
                  "anchor": "x",
                  "domain": [
                    0,
                    1
                  ],
                  "title": {
                    "text": "count"
                  }
                },
                "legend": {
                  "tracegroupgap": 0
                },
                "title": {
                  "text": "Distribution of Cosine Similarity for Archetype 3"
                },
                "barmode": "relative"
              },
              "config": {
                "plotlyServerURL": "https://plot.ly"
              }
            },
            "text/html": "<div>                            <div id=\"6c164210-4965-4e23-9ee0-3d4e84e40966\" class=\"plotly-graph-div\" style=\"height:525px; width:100%;\"></div>            <script type=\"text/javascript\">                require([\"plotly\"], function(Plotly) {                    window.PLOTLYENV=window.PLOTLYENV || {};                                    if (document.getElementById(\"6c164210-4965-4e23-9ee0-3d4e84e40966\")) {                    Plotly.newPlot(                        \"6c164210-4965-4e23-9ee0-3d4e84e40966\",                        [{\"alignmentgroup\":\"True\",\"bingroup\":\"x\",\"hovertemplate\":\"archq3_cosim=%{x}\\u003cbr\\u003ecount=%{y}\\u003cextra\\u003e\\u003c\\u002fextra\\u003e\",\"legendgroup\":\"\",\"marker\":{\"color\":\"#636efa\",\"pattern\":{\"shape\":\"\"}},\"name\":\"\",\"nbinsx\":30,\"offsetgroup\":\"\",\"orientation\":\"v\",\"showlegend\":false,\"x\":[0.11206966834544252,0.14705522081457012,0.16096027013053338,0.11383665579443725,0.07910549846029369,0.11520151837330106,0.12565420134930871,0.11645876239588504,0.15410573222392876,0.1261215481094632,0.1535080340028212,0.11630370913198729,0.11109835978615967,0.1451157248174223,0.14944096465775547,0.09487103850594814,0.11821614983830764,0.14618515663943055,0.1533541502244965,0.13700411660555423,0.10523179285908535,0.11152903471341913,0.16975181153294328,0.15486792721348464,0.0986977285097802,0.0874856558083541,0.06872481070970948,0.0739551276534054,0.11052911205060423,0.10141733908658601,0.10932510185425803,0.07825589625781704,0.06143920448768281,0.11627393926754448,0.10031344605395753,0.06768842557473331,0.11865466600279839,0.06439801884906016,0.10910202714451056,0.0723851688625442,0.09803244851337367,0.10543917417975379,0.06371990727502597,0.08459331360587152,0.10707043814919726,0.07772717814080199,0.11441872842810963,0.0767883805365498,0.12009218603294358,0.06201053784132993,0.10858515508203748,0.11040992815948936,0.10410315241584689,0.09778984249026956,0.12025583656316652,0.10440399477523621,0.11183680452900313,0.0953270210677698,0.10995720304422785,0.1045395408113553,0.10600056516378509,0.12282547680623213,0.09292533492514554,0.09168031899470075,0.10514090533516651,0.1259980502410215,0.090978804987359,0.114362632924776,0.09459865107443499,0.10946580725561517,0.09534557574859592,0.10778789914335607,0.10378594181047096,0.10341515963233439,0.11499164308097876,0.10435914530037316,0.11537293992776232,0.12470552266545332,0.09734047872287654,0.10971114828594797,0.1064737968969548,0.09040844026483641,0.11018768582213645,0.10279268636856487,0.10214283851256634,0.12176295281154026,0.0992996508532542,0.11588893708802905,0.1201416678115419,0.09400515707907009,0.1153715273613205,0.0896438017886908,0.09020036385161767,0.09629864833143764,0.08354176174535632,0.11398063922088253,0.12041626592642418,0.08687882911915124,0.10249394480617235,0.11861388853176891,0.08695449432178881,0.10727864426862976,0.08537041071902252,0.11649228002927192,0.10647720281073791,0.10012020445636416,0.1013338061617286,0.10798011895556903,0.08874027210727153,0.1142734636796433,0.09580218338332236,0.10513429051052614,0.09758200237479597,0.10449273989296959,0.0911939076474757,0.10827679031321691,0.09189182224308512,0.10375825288204332,0.09114630591625639,0.10248682282495691,0.09839182288241721,0.10625664685267922,0.0987394923358833,0.09925247885065713,0.09237235373092778,0.09731458468078602,0.08698240922562694,0.09451060400928835,0.10038027490411405,0.10014844409182566,0.11616253159659562,0.09530861537378188,0.11919993198095669,0.09615490660341386,0.09342144697663557,0.0893512763698574,0.10282196315838299,0.09820453029995868,0.0872167793408769,0.10214482401805869,0.10783249304609055,0.09909337858016698,0.1017403840118497,0.10145904900806568,0.09104289970785873,0.09780798263755464,0.09697568658599953,0.10406806489695286,0.10322817338703583,0.10687364285266909,0.12192950892797438,0.08302252424323275,0.12396114729227592,0.1271373522570649,0.0951576379773107,0.08267925358592865,0.15224529567890643,0.07156041625596388,0.13271152365779915,0.10749860495821073,0.08299017896065009,0.13055397622345577,0.11344886330014892,0.12297599222845168,0.1042976526125271,0.14361711294144075,0.08093410647729371,0.12148260194603122,0.1299419547011872,0.10749860495821073,0.13368648789477544,0.10252770122601607,0.12722044792544007,0.08912496755129784,0.06442242598585324,0.07984428180831982,0.13439757965601706,0.09009696745102558,0.08827472499464528,0.1096391966182666,0.07599367327518414,0.08153038157511094,0.11750597861844192,0.12647274139350417,0.09494937015608884,0.12140132981571572,0.08714221276567335,0.08481715562308345,0.06257932599204308,0.09574205284452075,0.08598613104154795,0.096707007019049,0.11398192075805291,0.10460420583814578,0.11077387244149273,0.07850660192911407,0.10589925347384965,0.09414949341932455,0.10520068614904587,0.07799093588700656,0.09907686189280251,0.12469817780734682,0.09604855944201052,0.11154960760676069,0.12674186918826336,0.09559139654213422,0.12328415486557742,0.10489354819379881,0.12613066719016208,0.09966399165740891,0.1325672233791061,0.09356133893216612,0.10432855107584771,0.09878648185329064,0.09981458582696567,0.10690955823664183,0.10842979721614987,0.1106401533139566,0.09516348904582961,0.12367223591189058,0.10844586651840094,0.12047867271208479,0.08848087063251542,0.13088959120251253,0.09746707401115717,0.095582183564767,0.12467229780233047,0.08956211538115166,0.10313990652538252,0.1290992758586913,0.08203393089359867,0.12263538017913289,0.09941119626696604,0.12476726877827293,0.09254319048717874,0.13139323955059523,0.09337511742399773,0.09544367603608583,0.09309614700398128,0.0956939382012364,0.09801468112426637,0.10304291531234844,0.11466460964311342,0.09264185612817977,0.1239889190068596,0.0898577564883557,0.1189966571744221,0.08714787001358004,0.13219648229435133,0.09772373415364632,0.08694835091869557,0.10138502997766508,0.09680321196960961,0.10903548411243125,0.11630370437471793,0.08569665305788987,0.1442050729842297,0.11195602295051676,0.09388602528251,0.10990123086622616,0.11725356438116141,0.11208692591621638,0.09527358094144567,0.12201886263545503,0.11567830743192775,0.11950304943935186,0.09158292959928827,0.12461057927355412,0.10103412121929978,0.13887107543678567,0.1268880729391293,0.11434865176570752,0.1228638303264471,0.09757453018790785,0.14216320163711615,0.1152619759969351,0.08577115730493379,0.09364766258184154,0.1306671644587759,0.0825608948670401,0.12192950892797438,0.08246262479126765,0.11944683529626765,0.08792551606379273,0.12603165767866764,0.09710627466472965,0.13824652096367462,0.09192043782782122,0.08370419271054741,0.08733256807131717,0.0923725368819861,0.1334336512412756,0.08588341200729943,0.13378074106308468,0.09378043043570716,0.12410396083478503,0.07625971680968979,0.1276331433422233,0.09703936086223164,0.08110444004903028,0.1280933954732274,0.09231457701865564,0.06559151079540781,0.055490353666507786,0.08071243461693467,0.10560198501419438,0.058105212772708414,0.10406683695067898,0.09691006335381591,0.060943170154337145,0.08886900046228696,0.04340761141428284,0.088237630394576,0.06411585472916081,0.10197804787731368,0.09817885469174781,0.05457671819082577,0.11173523255196094,0.044216651268167206,0.09653973607186861,0.0909146016910719,0.0878144685446659,0.11070808540692456,0.0444967126148047,0.06709153478969154,0.0781671278234215,0.05254282677498934,0.1013255395922773,0.09561968520537711,0.07827685977003485,0.06842089591352296,0.1034713100617356,0.07366359467114703,0.1001956330713113,0.06272925622843384,0.10454655673620683,0.08487139297294644,0.07038877218096051,0.10102686324159116,0.05305013827295202,0.08024228390785626,0.10519509541190475,0.06877127478447154,0.09251883056973487,0.07688219398795304,0.04506521920463491,0.08619669263843488,0.08250995078255219,0.08318261734254462,0.05993002142634973,0.07649816391278186,0.1014442532890174,0.09798088080503564,0.10103165781779389,0.1036190017295574,0.09255026236611663,0.07920484107759085,0.08827313492887079,0.10189406804050372,0.08360221189614303,0.109952446868532,0.07490705210765158,0.12385280007787758,0.07771875040852372,0.10088216958256302,0.11393042368287598,0.08964863165528547,0.11288413419011356,0.10388638612835133,0.09977976662333288,0.085881745739524,0.09003040986413657,0.10739033317556745,0.07241939872533742,0.06668346208094711,0.09314887071763911,0.0774606167648264,0.10888929871592379,0.09153937631009557,0.11388172346739567,0.08697001772197965,0.13198276595700276,0.08227468217577671,0.11139316572368141,0.11535560613994256,0.09218796951495767,0.1104696620418586,0.1238245211850475,0.11148647009822199,0.08299263615250319,0.1013789286439768,0.09475706382472049,0.11543588815165984,0.09913285402036964,0.09848077378896691,0.09190636874031588,0.09959248533333576,0.10718245943501226,0.09508157003866868,0.07332718881059674,0.05381015078360141,0.06888171361806039,0.09819786662599528,0.08876332374858265,0.07433833773406218,0.09552278694165539,0.11650511562716903,0.11753750199906698,0.07605001328082672,0.1139157486992094,0.09806179129483295,0.06145050370646499,0.13489512328268916,0.0714431723805169,0.10992934358388229,0.07269900849499089,0.09758492875899905,0.07172327164336556,0.06880111729030502,0.0745693122932013,0.1003215433766167,0.08681444385965531,0.0974022852827382,0.11287930207608099,0.06496364456993142,0.12880818947485806,0.1308604610052455,0.06829299903291552,0.12048367721085906,0.12424334325394659,0.08538593123198734,0.0629344946112016,0.08298034171588464,0.13615435287590738,0.11722420199932004,0.12087968879955868,0.06354562561701615,0.10537585895973323,0.07392406429331588,0.12469714172584556,0.11403198972590967,0.14402524740171208,0.08346266349209475,0.06283709544078553,0.12644478847072116,0.06584863819784703,0.11038498525022677,0.09901839415761926,0.0614194890882801,0.1296162685812372,0.13422088730336557,0.12144524908730858,0.12697805406452656,0.11140878823081724,0.1238222187833079,0.12089842666459905,0.11776905590400966,0.1532248981390093,0.17893887289810806,0.18178382375645286,0.13595278364667307,0.12423388728126294,0.12540852696246252,0.18097541949761564,0.13646883017869393,0.12726356950713835,0.22908988429456145,0.13700510979267588,0.13881778824768543,0.20402983034143884,0.1413480958775627,0.11967356195543077,0.18491304703228817,0.12012317927842475,0.11526017843658709,0.14090945865579707,0.13665742956260063,0.1494465067064692,0.10074950932734106,0.14210642348848823,0.13846261172631136,0.12457395501106006,0.16863742960929695,0.1577451965266311,0.17313321146070582,0.14839696890614584,0.12326944115634253,0.10408639711438994,0.14173176689788658,0.13732112408738406,0.1345683291760278,0.14864031026626723,0.14951130539353807,0.14433179534148244,0.15355434601601037,0.1504640548117151,0.11245600146162371,0.15546517404098592,0.12499283584199472,0.11959329484088588,0.13794699537325905,0.13255093940733131,0.12585028984667435,0.13282326339420358,0.14997196662435375,0.14211305678895736,0.13060196605289964,0.13711599431666288,0.13397242152177458,0.14551402569193916,0.1333672825243768,0.1279512211874021,0.13034595159586249,0.13335160995092776,0.14539063041990452,0.15293473769867372,0.1394315580866251,0.15076134266794294,0.13565560447936376,0.13552685900090555,0.12209530124480883,0.12616383982744306,0.13946134489636175,0.13812043503530602,0.12491628156112178,0.1325159604369751,0.15728480013253898,0.12150843379894183,0.13247914854635934,0.1288849218092315,0.1411862348978863,0.1310913075902267,0.13307755824349687,0.141757174084164,0.12696778371640494,0.12878822677206092,0.1325347683619199,0.13085956878495786,0.12905377367547055,0.13634739813183872,0.1303984682043714,0.15815504758878007,0.12773671183484459,0.13288876522951276,0.12993627221378035,0.11130963159972485,0.13217226789413727,0.1374562196466531,0.15331413437179398,0.13418250827883715,0.1259471640573463,0.15190591615368276,0.14379230583014224,0.14616429841038692,0.14741099151367965,0.14655583165768593,0.13423705844440592,0.13878656350704832,0.12459678640497907,0.15019350808364407,0.13586196529765227,0.15980954884385068,0.14159237089287036,0.14084179708112554,0.14371622549576568,0.14106560636939192,0.12992946846037878,0.1396585057763835,0.13923409641885498,0.1621712955011766,0.14767485962185778,0.12615450963410468,0.14912112005791645,0.14337753893393546,0.13320306613282007,0.1421341062624243,0.12019190214634579,0.15508069359814658,0.14001769106176076,0.1525937840960293,0.16618431178709425,0.12583533232744126,0.1431397971254057,0.16221137709283795,0.13993845672880245,0.15570239430176536,0.15129161029528437,0.15160993309113513,0.14841478965755073,0.1558699103407286,0.1340637876371159,0.15694391589800383,0.1572570908725116,0.14291367058418492,0.13524496513524153,0.14029701837414998,0.13984433776940575,0.14333354639399465,0.15374254123983122],\"xaxis\":\"x\",\"yaxis\":\"y\",\"type\":\"histogram\"}],                        {\"template\":{\"data\":{\"histogram2dcontour\":[{\"type\":\"histogram2dcontour\",\"colorbar\":{\"outlinewidth\":0,\"ticks\":\"\"},\"colorscale\":[[0.0,\"#0d0887\"],[0.1111111111111111,\"#46039f\"],[0.2222222222222222,\"#7201a8\"],[0.3333333333333333,\"#9c179e\"],[0.4444444444444444,\"#bd3786\"],[0.5555555555555556,\"#d8576b\"],[0.6666666666666666,\"#ed7953\"],[0.7777777777777778,\"#fb9f3a\"],[0.8888888888888888,\"#fdca26\"],[1.0,\"#f0f921\"]]}],\"choropleth\":[{\"type\":\"choropleth\",\"colorbar\":{\"outlinewidth\":0,\"ticks\":\"\"}}],\"histogram2d\":[{\"type\":\"histogram2d\",\"colorbar\":{\"outlinewidth\":0,\"ticks\":\"\"},\"colorscale\":[[0.0,\"#0d0887\"],[0.1111111111111111,\"#46039f\"],[0.2222222222222222,\"#7201a8\"],[0.3333333333333333,\"#9c179e\"],[0.4444444444444444,\"#bd3786\"],[0.5555555555555556,\"#d8576b\"],[0.6666666666666666,\"#ed7953\"],[0.7777777777777778,\"#fb9f3a\"],[0.8888888888888888,\"#fdca26\"],[1.0,\"#f0f921\"]]}],\"heatmap\":[{\"type\":\"heatmap\",\"colorbar\":{\"outlinewidth\":0,\"ticks\":\"\"},\"colorscale\":[[0.0,\"#0d0887\"],[0.1111111111111111,\"#46039f\"],[0.2222222222222222,\"#7201a8\"],[0.3333333333333333,\"#9c179e\"],[0.4444444444444444,\"#bd3786\"],[0.5555555555555556,\"#d8576b\"],[0.6666666666666666,\"#ed7953\"],[0.7777777777777778,\"#fb9f3a\"],[0.8888888888888888,\"#fdca26\"],[1.0,\"#f0f921\"]]}],\"heatmapgl\":[{\"type\":\"heatmapgl\",\"colorbar\":{\"outlinewidth\":0,\"ticks\":\"\"},\"colorscale\":[[0.0,\"#0d0887\"],[0.1111111111111111,\"#46039f\"],[0.2222222222222222,\"#7201a8\"],[0.3333333333333333,\"#9c179e\"],[0.4444444444444444,\"#bd3786\"],[0.5555555555555556,\"#d8576b\"],[0.6666666666666666,\"#ed7953\"],[0.7777777777777778,\"#fb9f3a\"],[0.8888888888888888,\"#fdca26\"],[1.0,\"#f0f921\"]]}],\"contourcarpet\":[{\"type\":\"contourcarpet\",\"colorbar\":{\"outlinewidth\":0,\"ticks\":\"\"}}],\"contour\":[{\"type\":\"contour\",\"colorbar\":{\"outlinewidth\":0,\"ticks\":\"\"},\"colorscale\":[[0.0,\"#0d0887\"],[0.1111111111111111,\"#46039f\"],[0.2222222222222222,\"#7201a8\"],[0.3333333333333333,\"#9c179e\"],[0.4444444444444444,\"#bd3786\"],[0.5555555555555556,\"#d8576b\"],[0.6666666666666666,\"#ed7953\"],[0.7777777777777778,\"#fb9f3a\"],[0.8888888888888888,\"#fdca26\"],[1.0,\"#f0f921\"]]}],\"surface\":[{\"type\":\"surface\",\"colorbar\":{\"outlinewidth\":0,\"ticks\":\"\"},\"colorscale\":[[0.0,\"#0d0887\"],[0.1111111111111111,\"#46039f\"],[0.2222222222222222,\"#7201a8\"],[0.3333333333333333,\"#9c179e\"],[0.4444444444444444,\"#bd3786\"],[0.5555555555555556,\"#d8576b\"],[0.6666666666666666,\"#ed7953\"],[0.7777777777777778,\"#fb9f3a\"],[0.8888888888888888,\"#fdca26\"],[1.0,\"#f0f921\"]]}],\"mesh3d\":[{\"type\":\"mesh3d\",\"colorbar\":{\"outlinewidth\":0,\"ticks\":\"\"}}],\"scatter\":[{\"fillpattern\":{\"fillmode\":\"overlay\",\"size\":10,\"solidity\":0.2},\"type\":\"scatter\"}],\"parcoords\":[{\"type\":\"parcoords\",\"line\":{\"colorbar\":{\"outlinewidth\":0,\"ticks\":\"\"}}}],\"scatterpolargl\":[{\"type\":\"scatterpolargl\",\"marker\":{\"colorbar\":{\"outlinewidth\":0,\"ticks\":\"\"}}}],\"bar\":[{\"error_x\":{\"color\":\"#2a3f5f\"},\"error_y\":{\"color\":\"#2a3f5f\"},\"marker\":{\"line\":{\"color\":\"#E5ECF6\",\"width\":0.5},\"pattern\":{\"fillmode\":\"overlay\",\"size\":10,\"solidity\":0.2}},\"type\":\"bar\"}],\"scattergeo\":[{\"type\":\"scattergeo\",\"marker\":{\"colorbar\":{\"outlinewidth\":0,\"ticks\":\"\"}}}],\"scatterpolar\":[{\"type\":\"scatterpolar\",\"marker\":{\"colorbar\":{\"outlinewidth\":0,\"ticks\":\"\"}}}],\"histogram\":[{\"marker\":{\"pattern\":{\"fillmode\":\"overlay\",\"size\":10,\"solidity\":0.2}},\"type\":\"histogram\"}],\"scattergl\":[{\"type\":\"scattergl\",\"marker\":{\"colorbar\":{\"outlinewidth\":0,\"ticks\":\"\"}}}],\"scatter3d\":[{\"type\":\"scatter3d\",\"line\":{\"colorbar\":{\"outlinewidth\":0,\"ticks\":\"\"}},\"marker\":{\"colorbar\":{\"outlinewidth\":0,\"ticks\":\"\"}}}],\"scattermapbox\":[{\"type\":\"scattermapbox\",\"marker\":{\"colorbar\":{\"outlinewidth\":0,\"ticks\":\"\"}}}],\"scatterternary\":[{\"type\":\"scatterternary\",\"marker\":{\"colorbar\":{\"outlinewidth\":0,\"ticks\":\"\"}}}],\"scattercarpet\":[{\"type\":\"scattercarpet\",\"marker\":{\"colorbar\":{\"outlinewidth\":0,\"ticks\":\"\"}}}],\"carpet\":[{\"aaxis\":{\"endlinecolor\":\"#2a3f5f\",\"gridcolor\":\"white\",\"linecolor\":\"white\",\"minorgridcolor\":\"white\",\"startlinecolor\":\"#2a3f5f\"},\"baxis\":{\"endlinecolor\":\"#2a3f5f\",\"gridcolor\":\"white\",\"linecolor\":\"white\",\"minorgridcolor\":\"white\",\"startlinecolor\":\"#2a3f5f\"},\"type\":\"carpet\"}],\"table\":[{\"cells\":{\"fill\":{\"color\":\"#EBF0F8\"},\"line\":{\"color\":\"white\"}},\"header\":{\"fill\":{\"color\":\"#C8D4E3\"},\"line\":{\"color\":\"white\"}},\"type\":\"table\"}],\"barpolar\":[{\"marker\":{\"line\":{\"color\":\"#E5ECF6\",\"width\":0.5},\"pattern\":{\"fillmode\":\"overlay\",\"size\":10,\"solidity\":0.2}},\"type\":\"barpolar\"}],\"pie\":[{\"automargin\":true,\"type\":\"pie\"}]},\"layout\":{\"autotypenumbers\":\"strict\",\"colorway\":[\"#636efa\",\"#EF553B\",\"#00cc96\",\"#ab63fa\",\"#FFA15A\",\"#19d3f3\",\"#FF6692\",\"#B6E880\",\"#FF97FF\",\"#FECB52\"],\"font\":{\"color\":\"#2a3f5f\"},\"hovermode\":\"closest\",\"hoverlabel\":{\"align\":\"left\"},\"paper_bgcolor\":\"white\",\"plot_bgcolor\":\"#E5ECF6\",\"polar\":{\"bgcolor\":\"#E5ECF6\",\"angularaxis\":{\"gridcolor\":\"white\",\"linecolor\":\"white\",\"ticks\":\"\"},\"radialaxis\":{\"gridcolor\":\"white\",\"linecolor\":\"white\",\"ticks\":\"\"}},\"ternary\":{\"bgcolor\":\"#E5ECF6\",\"aaxis\":{\"gridcolor\":\"white\",\"linecolor\":\"white\",\"ticks\":\"\"},\"baxis\":{\"gridcolor\":\"white\",\"linecolor\":\"white\",\"ticks\":\"\"},\"caxis\":{\"gridcolor\":\"white\",\"linecolor\":\"white\",\"ticks\":\"\"}},\"coloraxis\":{\"colorbar\":{\"outlinewidth\":0,\"ticks\":\"\"}},\"colorscale\":{\"sequential\":[[0.0,\"#0d0887\"],[0.1111111111111111,\"#46039f\"],[0.2222222222222222,\"#7201a8\"],[0.3333333333333333,\"#9c179e\"],[0.4444444444444444,\"#bd3786\"],[0.5555555555555556,\"#d8576b\"],[0.6666666666666666,\"#ed7953\"],[0.7777777777777778,\"#fb9f3a\"],[0.8888888888888888,\"#fdca26\"],[1.0,\"#f0f921\"]],\"sequentialminus\":[[0.0,\"#0d0887\"],[0.1111111111111111,\"#46039f\"],[0.2222222222222222,\"#7201a8\"],[0.3333333333333333,\"#9c179e\"],[0.4444444444444444,\"#bd3786\"],[0.5555555555555556,\"#d8576b\"],[0.6666666666666666,\"#ed7953\"],[0.7777777777777778,\"#fb9f3a\"],[0.8888888888888888,\"#fdca26\"],[1.0,\"#f0f921\"]],\"diverging\":[[0,\"#8e0152\"],[0.1,\"#c51b7d\"],[0.2,\"#de77ae\"],[0.3,\"#f1b6da\"],[0.4,\"#fde0ef\"],[0.5,\"#f7f7f7\"],[0.6,\"#e6f5d0\"],[0.7,\"#b8e186\"],[0.8,\"#7fbc41\"],[0.9,\"#4d9221\"],[1,\"#276419\"]]},\"xaxis\":{\"gridcolor\":\"white\",\"linecolor\":\"white\",\"ticks\":\"\",\"title\":{\"standoff\":15},\"zerolinecolor\":\"white\",\"automargin\":true,\"zerolinewidth\":2},\"yaxis\":{\"gridcolor\":\"white\",\"linecolor\":\"white\",\"ticks\":\"\",\"title\":{\"standoff\":15},\"zerolinecolor\":\"white\",\"automargin\":true,\"zerolinewidth\":2},\"scene\":{\"xaxis\":{\"backgroundcolor\":\"#E5ECF6\",\"gridcolor\":\"white\",\"linecolor\":\"white\",\"showbackground\":true,\"ticks\":\"\",\"zerolinecolor\":\"white\",\"gridwidth\":2},\"yaxis\":{\"backgroundcolor\":\"#E5ECF6\",\"gridcolor\":\"white\",\"linecolor\":\"white\",\"showbackground\":true,\"ticks\":\"\",\"zerolinecolor\":\"white\",\"gridwidth\":2},\"zaxis\":{\"backgroundcolor\":\"#E5ECF6\",\"gridcolor\":\"white\",\"linecolor\":\"white\",\"showbackground\":true,\"ticks\":\"\",\"zerolinecolor\":\"white\",\"gridwidth\":2}},\"shapedefaults\":{\"line\":{\"color\":\"#2a3f5f\"}},\"annotationdefaults\":{\"arrowcolor\":\"#2a3f5f\",\"arrowhead\":0,\"arrowwidth\":1},\"geo\":{\"bgcolor\":\"white\",\"landcolor\":\"#E5ECF6\",\"subunitcolor\":\"white\",\"showland\":true,\"showlakes\":true,\"lakecolor\":\"white\"},\"title\":{\"x\":0.05},\"mapbox\":{\"style\":\"light\"}}},\"xaxis\":{\"anchor\":\"y\",\"domain\":[0.0,1.0],\"title\":{\"text\":\"archq3_cosim\"}},\"yaxis\":{\"anchor\":\"x\",\"domain\":[0.0,1.0],\"title\":{\"text\":\"count\"}},\"legend\":{\"tracegroupgap\":0},\"title\":{\"text\":\"Distribution of Cosine Similarity for Archetype 3\"},\"barmode\":\"relative\"},                        {\"responsive\": true}                    ).then(function(){\n                            \nvar gd = document.getElementById('6c164210-4965-4e23-9ee0-3d4e84e40966');\nvar x = new MutationObserver(function (mutations, observer) {{\n        var display = window.getComputedStyle(gd).display;\n        if (!display || display === 'none') {{\n            console.log([gd, 'removed!']);\n            Plotly.purge(gd);\n            observer.disconnect();\n        }}\n}});\n\n// Listen for the removal of the full notebook cells\nvar notebookContainer = gd.closest('#notebook-container');\nif (notebookContainer) {{\n    x.observe(notebookContainer, {childList: true});\n}}\n\n// Listen for the clearing of the current output cell\nvar outputEl = gd.closest('.output');\nif (outputEl) {{\n    x.observe(outputEl, {childList: true});\n}}\n\n                        })                };                });            </script>        </div>"
          },
          "metadata": {}
        },
        {
          "output_type": "display_data",
          "data": {
            "application/vnd.plotly.v1+json": {
              "data": [
                {
                  "alignmentgroup": "True",
                  "bingroup": "x",
                  "hovertemplate": "archq4_cosim=%{x}<br>count=%{y}<extra></extra>",
                  "legendgroup": "",
                  "marker": {
                    "color": "#636efa",
                    "pattern": {
                      "shape": ""
                    }
                  },
                  "name": "",
                  "nbinsx": 30,
                  "offsetgroup": "",
                  "orientation": "v",
                  "showlegend": false,
                  "x": [
                    0.14815807207736587,
                    0.20945668356551017,
                    0.20659221014565143,
                    0.19102870003085248,
                    0.1578140706745743,
                    0.18594166693291714,
                    0.18483088010991744,
                    0.16287973025896285,
                    0.22042329313572162,
                    0.18950135515965594,
                    0.2060685637068631,
                    0.1852021618266596,
                    0.19580301893242502,
                    0.19344103025685044,
                    0.207799424231218,
                    0.17180574133023652,
                    0.19178550208776113,
                    0.1939960845756482,
                    0.1967777729538105,
                    0.19305679639331608,
                    0.18730500975523867,
                    0.1831932176569303,
                    0.21505152074073497,
                    0.20903900267338626,
                    0.1643352712836833,
                    0.16604905074730825,
                    0.14325017582364874,
                    0.11893084808880228,
                    0.13849237871388942,
                    0.134456331553935,
                    0.12061181777583685,
                    0.137238637664316,
                    0.15277524993399016,
                    0.11143918295688904,
                    0.15072801914900602,
                    0.13744713156195276,
                    0.1253061812671583,
                    0.12147894613661026,
                    0.10809502560353657,
                    0.11778268986448115,
                    0.14008927786053993,
                    0.14601802902795646,
                    0.11584153268065578,
                    0.14057290220545726,
                    0.1286508410380942,
                    0.14075200903861607,
                    0.12056039317137213,
                    0.1328155953622463,
                    0.17882882575311532,
                    0.12708230957773747,
                    0.13391295162975358,
                    0.1314890278139551,
                    0.1361135383370644,
                    0.12640203284039853,
                    0.13123127986970784,
                    0.13504481656329526,
                    0.13763194435299297,
                    0.11755261576513987,
                    0.13890306292149301,
                    0.14411316284385423,
                    0.13478077474612327,
                    0.1445690476637207,
                    0.12345922702039647,
                    0.1349750917118534,
                    0.12998144013486823,
                    0.15882858227251195,
                    0.136894798438572,
                    0.1430921023822741,
                    0.13447309957946163,
                    0.138876380613574,
                    0.13518431939695474,
                    0.13625010575057295,
                    0.1403448997063228,
                    0.14607353834952685,
                    0.15199421779810562,
                    0.13787788545482504,
                    0.15767209173753394,
                    0.14977220449170825,
                    0.14778189169610834,
                    0.13698263569318814,
                    0.1408971827549661,
                    0.13275186870780487,
                    0.13754610663965838,
                    0.13936188591449494,
                    0.14868834224744976,
                    0.13284761962432612,
                    0.14218963519678574,
                    0.13905643582535399,
                    0.15058318188595365,
                    0.12196252555910803,
                    0.13435847941790469,
                    0.13935631275328497,
                    0.14262231859956842,
                    0.1374565265600758,
                    0.12688184646493605,
                    0.13774479325502287,
                    0.1521498370773554,
                    0.13165550193362718,
                    0.12542037606060064,
                    0.1321387497260872,
                    0.14032242558637265,
                    0.13319432119952002,
                    0.13904363276329346,
                    0.14852266598738206,
                    0.14346341523411477,
                    0.13156950768849307,
                    0.13562995976810988,
                    0.14257170454892876,
                    0.13170833324187303,
                    0.13860837451649388,
                    0.14546561819038561,
                    0.13740080588156556,
                    0.13746712428498709,
                    0.13134400753790643,
                    0.1373960572172478,
                    0.13502888346559883,
                    0.1449808076045055,
                    0.13313691042458753,
                    0.13534548681411307,
                    0.1386191235111094,
                    0.13414047534547746,
                    0.13474080564979563,
                    0.14588029217107812,
                    0.13212187930272568,
                    0.13571434481988998,
                    0.13274198348590616,
                    0.13212082864742836,
                    0.14998381940049998,
                    0.13679318405874297,
                    0.1473005039259937,
                    0.14325502604153917,
                    0.13568068884668694,
                    0.14724961834614492,
                    0.13726932980159878,
                    0.14104981011041728,
                    0.13161743757955813,
                    0.1403857067346952,
                    0.14557290063130657,
                    0.13705841321359202,
                    0.14287958676505152,
                    0.1480718875888165,
                    0.1474343574034528,
                    0.1439632070251361,
                    0.1363039126035811,
                    0.14031682999386907,
                    0.13907007921637593,
                    0.1454238001569368,
                    0.1431024329743965,
                    0.14215660224866478,
                    0.15418625718177292,
                    0.12021544477192947,
                    0.15104166882750925,
                    0.17332515609978216,
                    0.15356266879182434,
                    0.15877232571540256,
                    0.1492719042288284,
                    0.1713794167552265,
                    0.1492080874182553,
                    0.15079770619324318,
                    0.16775378029449817,
                    0.15099244526282374,
                    0.15636123759554355,
                    0.16469086737641447,
                    0.1593693230326163,
                    0.1892735999017251,
                    0.17241298715568154,
                    0.14201055010492525,
                    0.18534947656373968,
                    0.15025800190087502,
                    0.16775378029449817,
                    0.1522864953785703,
                    0.11572243873286403,
                    0.15366296760859022,
                    0.1379471752794803,
                    0.16615982150831599,
                    0.16802374509834483,
                    0.15629564713256872,
                    0.17540326012551222,
                    0.1750581412869181,
                    0.14415438951569004,
                    0.12371517341732952,
                    0.15846841047244742,
                    0.1750813691190053,
                    0.1477087235613188,
                    0.18502822417115705,
                    0.16858776708718837,
                    0.1600156876235933,
                    0.1246432309740777,
                    0.1516109610407279,
                    0.1785190349080027,
                    0.17299450645790815,
                    0.13525006164836284,
                    0.1395717432741611,
                    0.1698515130558118,
                    0.16154205324352977,
                    0.13266740293103252,
                    0.15454777418378285,
                    0.15490060804809802,
                    0.15690455684046956,
                    0.1299408993723994,
                    0.15991691518896856,
                    0.1298251277554131,
                    0.1293806924002534,
                    0.16617549323229586,
                    0.13006183294059304,
                    0.1298287051150956,
                    0.129207945438222,
                    0.16311846972296407,
                    0.1245165317090503,
                    0.12446045611875933,
                    0.16064608896638777,
                    0.13550870605329024,
                    0.12576886309907953,
                    0.12733967007612623,
                    0.1364025094214817,
                    0.15607165673303647,
                    0.13024756699296747,
                    0.12109609978354252,
                    0.14759385415438375,
                    0.12405695277045714,
                    0.12407401490644565,
                    0.11700745786105116,
                    0.13706268760582785,
                    0.134641221344466,
                    0.12566102385002265,
                    0.14473435404604496,
                    0.12966320321213098,
                    0.13606019403960745,
                    0.17202893106515327,
                    0.12275812745436132,
                    0.13777170453404375,
                    0.12473649857582825,
                    0.1724665070906325,
                    0.11893200423622807,
                    0.13269116607406217,
                    0.1618989366004261,
                    0.13926514421677993,
                    0.13445246078950523,
                    0.12117651927394413,
                    0.1463003954638239,
                    0.15735424251188845,
                    0.13257014114053578,
                    0.1141574101978271,
                    0.148191395861754,
                    0.11838111906957993,
                    0.1256597945401784,
                    0.11475024955483137,
                    0.15097900645405837,
                    0.13435250559093437,
                    0.12945948046987454,
                    0.12968154351859118,
                    0.1091530496997476,
                    0.14487490628161648,
                    0.12222141951814991,
                    0.12988259351675258,
                    0.14302781993687141,
                    0.12400924979531669,
                    0.1211009410254219,
                    0.1266929177171947,
                    0.12972474559629998,
                    0.15338677760000952,
                    0.1520561428830841,
                    0.14191204802948443,
                    0.1294968910779175,
                    0.14018384135488082,
                    0.15250988238459406,
                    0.14252990661173437,
                    0.15434208824582685,
                    0.13088099533941489,
                    0.1514459164829408,
                    0.16192135244178119,
                    0.14434712718260667,
                    0.15570764767514766,
                    0.13721107097830132,
                    0.13328566795807217,
                    0.1283435266695807,
                    0.13270806060412377,
                    0.1152607197260318,
                    0.12004242893293271,
                    0.1434445291617641,
                    0.12021544477192947,
                    0.12487746945043487,
                    0.11171680763638803,
                    0.15075902199545477,
                    0.14583287482657625,
                    0.1337468004903717,
                    0.15762652139383326,
                    0.14830275375241941,
                    0.12619915004764293,
                    0.12461590649445675,
                    0.1387409405598683,
                    0.15833031937974618,
                    0.14134846727419603,
                    0.14776537747330443,
                    0.16757684918597104,
                    0.11568485667304407,
                    0.13147269627733038,
                    0.12604665567787754,
                    0.17087767284507005,
                    0.1427563054116352,
                    0.15019658426945082,
                    0.1250317398477262,
                    0.11681606234411823,
                    0.1464111997126578,
                    0.11388567258178373,
                    0.1100632548928494,
                    0.11673236275459231,
                    0.09306260543042832,
                    0.12152074850097516,
                    0.12390375405131138,
                    0.11513172949400519,
                    0.12169274281170461,
                    0.12746426204558547,
                    0.17216850676482998,
                    0.1169338227762382,
                    0.15338665108949945,
                    0.10711617472894808,
                    0.12580327701527627,
                    0.13817850408313326,
                    0.12455413666775828,
                    0.14719433572186746,
                    0.1418417852099234,
                    0.10841048110223428,
                    0.13590247133615507,
                    0.13880320738215757,
                    0.12016594602978237,
                    0.14582184765349737,
                    0.13521964030973932,
                    0.1541515016181012,
                    0.1301779570830489,
                    0.11746739863805467,
                    0.12674491510829378,
                    0.1272011052877795,
                    0.11753072364244177,
                    0.14082950929515692,
                    0.11754344429080699,
                    0.15669142504979572,
                    0.10530441162945725,
                    0.1317300757981028,
                    0.15568918627789452,
                    0.12807780416672654,
                    0.1325010440528377,
                    0.16402881658578772,
                    0.1469274656999059,
                    0.1238399464362352,
                    0.145087121188625,
                    0.15149371762926434,
                    0.12873779883094072,
                    0.158305600527061,
                    0.12821223164948492,
                    0.13986816929466062,
                    0.1431148441238177,
                    0.11111408629822128,
                    0.14738572205918843,
                    0.1208722199419161,
                    0.14399647773834123,
                    0.14459747541182633,
                    0.13902747667488824,
                    0.1360799427534194,
                    0.14386967073816903,
                    0.1457353339780404,
                    0.13455395463288,
                    0.1642651106862244,
                    0.12599069379574235,
                    0.14253560175113833,
                    0.1587257678288112,
                    0.14411886652305395,
                    0.14731101248291023,
                    0.15266919047743643,
                    0.1478146720872192,
                    0.1355169020734166,
                    0.14031992271996463,
                    0.14775819726070216,
                    0.13351307612353458,
                    0.1192711892840218,
                    0.15346346646101838,
                    0.1238250232644631,
                    0.13868614530580103,
                    0.1440815991843527,
                    0.13708157437702206,
                    0.13683180784847204,
                    0.16091119348845095,
                    0.12593714170890757,
                    0.1305602201509467,
                    0.1470604495067317,
                    0.1515438286754326,
                    0.13234220091542603,
                    0.14542232883959916,
                    0.13110412939612381,
                    0.13557388128045822,
                    0.13251000397072754,
                    0.15059911861334185,
                    0.15250410958507288,
                    0.13788471828943583,
                    0.14896340448611867,
                    0.14677605073993094,
                    0.14575110315225914,
                    0.15120827525232672,
                    0.1470823704053119,
                    0.12700628527386826,
                    0.11472510305755113,
                    0.13130536455911312,
                    0.14348414398561737,
                    0.12315927826261719,
                    0.13201583716382082,
                    0.12696762072476842,
                    0.1437450674784615,
                    0.14880330449065982,
                    0.13511448413647487,
                    0.14750112982189312,
                    0.1303175683105845,
                    0.11593816474178265,
                    0.16408293597641666,
                    0.14128373560179674,
                    0.13578129721291832,
                    0.13564954079014324,
                    0.12569946456746373,
                    0.12495509913452829,
                    0.1312362111472415,
                    0.134704725867276,
                    0.11105090113544513,
                    0.13731549456471814,
                    0.09954485112216083,
                    0.143639853849862,
                    0.13142396592379701,
                    0.15726224662689303,
                    0.15302705052631826,
                    0.12917817285105926,
                    0.14386855983733926,
                    0.14139164275490734,
                    0.14662476280853753,
                    0.14879014490746867,
                    0.13904043800638932,
                    0.16315335778555418,
                    0.14658729708132867,
                    0.13304102324738865,
                    0.1520813393453777,
                    0.14156156675377152,
                    0.12964594117694694,
                    0.1425081115592286,
                    0.14750040990775581,
                    0.16427026915299459,
                    0.14667127355310916,
                    0.14834960992272783,
                    0.14016141734681786,
                    0.12686882505041097,
                    0.14249137017615243,
                    0.1285540836403748,
                    0.14813302729137778,
                    0.026189207450928897,
                    0.13272064974307296,
                    0.15201978481831147,
                    0.14034443850086775,
                    0.1460368242823391,
                    0.13669625253600726,
                    0.13721082279210806,
                    0.1316936552000767,
                    0.17407131926048058,
                    0.16054869170422514,
                    0.20761019408366832,
                    0.16962431120217458,
                    0.13201792414405344,
                    0.15134998455621862,
                    0.160649109530681,
                    0.16403594744037742,
                    0.12360589629451513,
                    0.22254652230970073,
                    0.15918268171504668,
                    0.146126391442444,
                    0.182850227920906,
                    0.1481752815994959,
                    0.14378543010552292,
                    0.15250232018964027,
                    0.04313537168450832,
                    0.07807709212060288,
                    0.14977612098223103,
                    0.07349115921283489,
                    0.1817973956188853,
                    0.13656618637361362,
                    0.14355351309211117,
                    0.16168661318103394,
                    0.08780727551223078,
                    0.1607444854169,
                    0.12416264834837754,
                    0.17092983940977036,
                    0.1222317060718382,
                    0.13442505874661015,
                    0.13934196212606909,
                    0.13128826089494794,
                    0.16444799932739262,
                    0.16374155323146367,
                    0.12143950105982504,
                    0.1146450902290056,
                    0.1383259732544896,
                    0.1391525353766625,
                    0.1093951076690245,
                    0.09587921782601583,
                    0.1272738745586418,
                    0.039044985128985576,
                    0.04778119783572332,
                    0.11674444973455411,
                    0.07042560713042467,
                    0.09094839259487231,
                    0.10305022210720627,
                    0.13355112605464692,
                    0.12772674839609088,
                    0.12710090960625586,
                    0.11255237613657398,
                    0.1252769885710916,
                    0.130169157512949,
                    0.10620528957388675,
                    0.11785702735355308,
                    0.08959038561963006,
                    0.12776380739528104,
                    0.10943794691188247,
                    0.12188384652340223,
                    0.12345960221283725,
                    0.15184192403576924,
                    0.11859440856706871,
                    0.12632240650685567,
                    0.06241175634197238,
                    0.09762121921742328,
                    0.09730527881676798,
                    0.0991527737926663,
                    0.11782238447298521,
                    0.07867933443662567,
                    0.09628216581317561,
                    0.07275248930379641,
                    0.07577564082361232,
                    0.06706279162678208,
                    0.103154643500448,
                    0.06380426539227568,
                    0.06006278390001063,
                    0.04862538982256903,
                    0.08099745393215796,
                    0.05936369023048804,
                    0.0786939827786467,
                    0.09029097590896684,
                    0.0858421153488228,
                    0.05946982709059412,
                    0.07204225181853896,
                    0.05111130933809904,
                    0.03714440117151541,
                    0.07615217898020543,
                    0.05996597406381088,
                    0.043533289273712805,
                    0.07802533166776116,
                    0.060579463816113566,
                    0.04799714133946775,
                    0.05199098499954713,
                    0.04430431417475844,
                    0.11133703727087985,
                    0.08580463198113253,
                    0.10946412701083497,
                    0.09963590354445984,
                    0.10112050812236895,
                    0.09278879473110424,
                    0.1270473167411621,
                    0.07660794271892246,
                    0.13630090880787504,
                    0.1239750910230023,
                    0.14733292318853541,
                    0.10797787588068453,
                    0.1433087473914214,
                    0.13512118139693152,
                    0.09200328199323282,
                    0.10064246909284025,
                    0.11693723357684582,
                    0.1275577571313371,
                    0.16264165094783445,
                    0.12899838760759819,
                    0.10681914870208231,
                    0.13468672238354784,
                    0.12063679927088022,
                    0.11794963835641359,
                    0.07973754245810005,
                    0.04642169862249035,
                    0.10271693078340349,
                    0.10902968623788623,
                    0.09938245702535309,
                    0.12159326581312513,
                    0.11719484378682932,
                    0.11031708434967491,
                    0.12943110986583883,
                    0.12090486435436065,
                    0.1359559896177971,
                    0.13527048436049383,
                    0.09942836183047288,
                    0.12479651477755793,
                    0.11222825189515828,
                    0.11637146468876747,
                    0.12497594451741956,
                    0.1117419764361628,
                    0.10430374653295793,
                    0.11152440507738826,
                    0.11921740125995917,
                    0.12401299069046834,
                    0.12765985054893025,
                    0.13544425863435083
                  ],
                  "xaxis": "x",
                  "yaxis": "y",
                  "type": "histogram"
                }
              ],
              "layout": {
                "template": {
                  "data": {
                    "histogram2dcontour": [
                      {
                        "type": "histogram2dcontour",
                        "colorbar": {
                          "outlinewidth": 0,
                          "ticks": ""
                        },
                        "colorscale": [
                          [
                            0,
                            "#0d0887"
                          ],
                          [
                            0.1111111111111111,
                            "#46039f"
                          ],
                          [
                            0.2222222222222222,
                            "#7201a8"
                          ],
                          [
                            0.3333333333333333,
                            "#9c179e"
                          ],
                          [
                            0.4444444444444444,
                            "#bd3786"
                          ],
                          [
                            0.5555555555555556,
                            "#d8576b"
                          ],
                          [
                            0.6666666666666666,
                            "#ed7953"
                          ],
                          [
                            0.7777777777777778,
                            "#fb9f3a"
                          ],
                          [
                            0.8888888888888888,
                            "#fdca26"
                          ],
                          [
                            1,
                            "#f0f921"
                          ]
                        ]
                      }
                    ],
                    "choropleth": [
                      {
                        "type": "choropleth",
                        "colorbar": {
                          "outlinewidth": 0,
                          "ticks": ""
                        }
                      }
                    ],
                    "histogram2d": [
                      {
                        "type": "histogram2d",
                        "colorbar": {
                          "outlinewidth": 0,
                          "ticks": ""
                        },
                        "colorscale": [
                          [
                            0,
                            "#0d0887"
                          ],
                          [
                            0.1111111111111111,
                            "#46039f"
                          ],
                          [
                            0.2222222222222222,
                            "#7201a8"
                          ],
                          [
                            0.3333333333333333,
                            "#9c179e"
                          ],
                          [
                            0.4444444444444444,
                            "#bd3786"
                          ],
                          [
                            0.5555555555555556,
                            "#d8576b"
                          ],
                          [
                            0.6666666666666666,
                            "#ed7953"
                          ],
                          [
                            0.7777777777777778,
                            "#fb9f3a"
                          ],
                          [
                            0.8888888888888888,
                            "#fdca26"
                          ],
                          [
                            1,
                            "#f0f921"
                          ]
                        ]
                      }
                    ],
                    "heatmap": [
                      {
                        "type": "heatmap",
                        "colorbar": {
                          "outlinewidth": 0,
                          "ticks": ""
                        },
                        "colorscale": [
                          [
                            0,
                            "#0d0887"
                          ],
                          [
                            0.1111111111111111,
                            "#46039f"
                          ],
                          [
                            0.2222222222222222,
                            "#7201a8"
                          ],
                          [
                            0.3333333333333333,
                            "#9c179e"
                          ],
                          [
                            0.4444444444444444,
                            "#bd3786"
                          ],
                          [
                            0.5555555555555556,
                            "#d8576b"
                          ],
                          [
                            0.6666666666666666,
                            "#ed7953"
                          ],
                          [
                            0.7777777777777778,
                            "#fb9f3a"
                          ],
                          [
                            0.8888888888888888,
                            "#fdca26"
                          ],
                          [
                            1,
                            "#f0f921"
                          ]
                        ]
                      }
                    ],
                    "heatmapgl": [
                      {
                        "type": "heatmapgl",
                        "colorbar": {
                          "outlinewidth": 0,
                          "ticks": ""
                        },
                        "colorscale": [
                          [
                            0,
                            "#0d0887"
                          ],
                          [
                            0.1111111111111111,
                            "#46039f"
                          ],
                          [
                            0.2222222222222222,
                            "#7201a8"
                          ],
                          [
                            0.3333333333333333,
                            "#9c179e"
                          ],
                          [
                            0.4444444444444444,
                            "#bd3786"
                          ],
                          [
                            0.5555555555555556,
                            "#d8576b"
                          ],
                          [
                            0.6666666666666666,
                            "#ed7953"
                          ],
                          [
                            0.7777777777777778,
                            "#fb9f3a"
                          ],
                          [
                            0.8888888888888888,
                            "#fdca26"
                          ],
                          [
                            1,
                            "#f0f921"
                          ]
                        ]
                      }
                    ],
                    "contourcarpet": [
                      {
                        "type": "contourcarpet",
                        "colorbar": {
                          "outlinewidth": 0,
                          "ticks": ""
                        }
                      }
                    ],
                    "contour": [
                      {
                        "type": "contour",
                        "colorbar": {
                          "outlinewidth": 0,
                          "ticks": ""
                        },
                        "colorscale": [
                          [
                            0,
                            "#0d0887"
                          ],
                          [
                            0.1111111111111111,
                            "#46039f"
                          ],
                          [
                            0.2222222222222222,
                            "#7201a8"
                          ],
                          [
                            0.3333333333333333,
                            "#9c179e"
                          ],
                          [
                            0.4444444444444444,
                            "#bd3786"
                          ],
                          [
                            0.5555555555555556,
                            "#d8576b"
                          ],
                          [
                            0.6666666666666666,
                            "#ed7953"
                          ],
                          [
                            0.7777777777777778,
                            "#fb9f3a"
                          ],
                          [
                            0.8888888888888888,
                            "#fdca26"
                          ],
                          [
                            1,
                            "#f0f921"
                          ]
                        ]
                      }
                    ],
                    "surface": [
                      {
                        "type": "surface",
                        "colorbar": {
                          "outlinewidth": 0,
                          "ticks": ""
                        },
                        "colorscale": [
                          [
                            0,
                            "#0d0887"
                          ],
                          [
                            0.1111111111111111,
                            "#46039f"
                          ],
                          [
                            0.2222222222222222,
                            "#7201a8"
                          ],
                          [
                            0.3333333333333333,
                            "#9c179e"
                          ],
                          [
                            0.4444444444444444,
                            "#bd3786"
                          ],
                          [
                            0.5555555555555556,
                            "#d8576b"
                          ],
                          [
                            0.6666666666666666,
                            "#ed7953"
                          ],
                          [
                            0.7777777777777778,
                            "#fb9f3a"
                          ],
                          [
                            0.8888888888888888,
                            "#fdca26"
                          ],
                          [
                            1,
                            "#f0f921"
                          ]
                        ]
                      }
                    ],
                    "mesh3d": [
                      {
                        "type": "mesh3d",
                        "colorbar": {
                          "outlinewidth": 0,
                          "ticks": ""
                        }
                      }
                    ],
                    "scatter": [
                      {
                        "fillpattern": {
                          "fillmode": "overlay",
                          "size": 10,
                          "solidity": 0.2
                        },
                        "type": "scatter"
                      }
                    ],
                    "parcoords": [
                      {
                        "type": "parcoords",
                        "line": {
                          "colorbar": {
                            "outlinewidth": 0,
                            "ticks": ""
                          }
                        }
                      }
                    ],
                    "scatterpolargl": [
                      {
                        "type": "scatterpolargl",
                        "marker": {
                          "colorbar": {
                            "outlinewidth": 0,
                            "ticks": ""
                          }
                        }
                      }
                    ],
                    "bar": [
                      {
                        "error_x": {
                          "color": "#2a3f5f"
                        },
                        "error_y": {
                          "color": "#2a3f5f"
                        },
                        "marker": {
                          "line": {
                            "color": "#E5ECF6",
                            "width": 0.5
                          },
                          "pattern": {
                            "fillmode": "overlay",
                            "size": 10,
                            "solidity": 0.2
                          }
                        },
                        "type": "bar"
                      }
                    ],
                    "scattergeo": [
                      {
                        "type": "scattergeo",
                        "marker": {
                          "colorbar": {
                            "outlinewidth": 0,
                            "ticks": ""
                          }
                        }
                      }
                    ],
                    "scatterpolar": [
                      {
                        "type": "scatterpolar",
                        "marker": {
                          "colorbar": {
                            "outlinewidth": 0,
                            "ticks": ""
                          }
                        }
                      }
                    ],
                    "histogram": [
                      {
                        "marker": {
                          "pattern": {
                            "fillmode": "overlay",
                            "size": 10,
                            "solidity": 0.2
                          }
                        },
                        "type": "histogram"
                      }
                    ],
                    "scattergl": [
                      {
                        "type": "scattergl",
                        "marker": {
                          "colorbar": {
                            "outlinewidth": 0,
                            "ticks": ""
                          }
                        }
                      }
                    ],
                    "scatter3d": [
                      {
                        "type": "scatter3d",
                        "line": {
                          "colorbar": {
                            "outlinewidth": 0,
                            "ticks": ""
                          }
                        },
                        "marker": {
                          "colorbar": {
                            "outlinewidth": 0,
                            "ticks": ""
                          }
                        }
                      }
                    ],
                    "scattermapbox": [
                      {
                        "type": "scattermapbox",
                        "marker": {
                          "colorbar": {
                            "outlinewidth": 0,
                            "ticks": ""
                          }
                        }
                      }
                    ],
                    "scatterternary": [
                      {
                        "type": "scatterternary",
                        "marker": {
                          "colorbar": {
                            "outlinewidth": 0,
                            "ticks": ""
                          }
                        }
                      }
                    ],
                    "scattercarpet": [
                      {
                        "type": "scattercarpet",
                        "marker": {
                          "colorbar": {
                            "outlinewidth": 0,
                            "ticks": ""
                          }
                        }
                      }
                    ],
                    "carpet": [
                      {
                        "aaxis": {
                          "endlinecolor": "#2a3f5f",
                          "gridcolor": "white",
                          "linecolor": "white",
                          "minorgridcolor": "white",
                          "startlinecolor": "#2a3f5f"
                        },
                        "baxis": {
                          "endlinecolor": "#2a3f5f",
                          "gridcolor": "white",
                          "linecolor": "white",
                          "minorgridcolor": "white",
                          "startlinecolor": "#2a3f5f"
                        },
                        "type": "carpet"
                      }
                    ],
                    "table": [
                      {
                        "cells": {
                          "fill": {
                            "color": "#EBF0F8"
                          },
                          "line": {
                            "color": "white"
                          }
                        },
                        "header": {
                          "fill": {
                            "color": "#C8D4E3"
                          },
                          "line": {
                            "color": "white"
                          }
                        },
                        "type": "table"
                      }
                    ],
                    "barpolar": [
                      {
                        "marker": {
                          "line": {
                            "color": "#E5ECF6",
                            "width": 0.5
                          },
                          "pattern": {
                            "fillmode": "overlay",
                            "size": 10,
                            "solidity": 0.2
                          }
                        },
                        "type": "barpolar"
                      }
                    ],
                    "pie": [
                      {
                        "automargin": true,
                        "type": "pie"
                      }
                    ]
                  },
                  "layout": {
                    "autotypenumbers": "strict",
                    "colorway": [
                      "#636efa",
                      "#EF553B",
                      "#00cc96",
                      "#ab63fa",
                      "#FFA15A",
                      "#19d3f3",
                      "#FF6692",
                      "#B6E880",
                      "#FF97FF",
                      "#FECB52"
                    ],
                    "font": {
                      "color": "#2a3f5f"
                    },
                    "hovermode": "closest",
                    "hoverlabel": {
                      "align": "left"
                    },
                    "paper_bgcolor": "white",
                    "plot_bgcolor": "#E5ECF6",
                    "polar": {
                      "bgcolor": "#E5ECF6",
                      "angularaxis": {
                        "gridcolor": "white",
                        "linecolor": "white",
                        "ticks": ""
                      },
                      "radialaxis": {
                        "gridcolor": "white",
                        "linecolor": "white",
                        "ticks": ""
                      }
                    },
                    "ternary": {
                      "bgcolor": "#E5ECF6",
                      "aaxis": {
                        "gridcolor": "white",
                        "linecolor": "white",
                        "ticks": ""
                      },
                      "baxis": {
                        "gridcolor": "white",
                        "linecolor": "white",
                        "ticks": ""
                      },
                      "caxis": {
                        "gridcolor": "white",
                        "linecolor": "white",
                        "ticks": ""
                      }
                    },
                    "coloraxis": {
                      "colorbar": {
                        "outlinewidth": 0,
                        "ticks": ""
                      }
                    },
                    "colorscale": {
                      "sequential": [
                        [
                          0,
                          "#0d0887"
                        ],
                        [
                          0.1111111111111111,
                          "#46039f"
                        ],
                        [
                          0.2222222222222222,
                          "#7201a8"
                        ],
                        [
                          0.3333333333333333,
                          "#9c179e"
                        ],
                        [
                          0.4444444444444444,
                          "#bd3786"
                        ],
                        [
                          0.5555555555555556,
                          "#d8576b"
                        ],
                        [
                          0.6666666666666666,
                          "#ed7953"
                        ],
                        [
                          0.7777777777777778,
                          "#fb9f3a"
                        ],
                        [
                          0.8888888888888888,
                          "#fdca26"
                        ],
                        [
                          1,
                          "#f0f921"
                        ]
                      ],
                      "sequentialminus": [
                        [
                          0,
                          "#0d0887"
                        ],
                        [
                          0.1111111111111111,
                          "#46039f"
                        ],
                        [
                          0.2222222222222222,
                          "#7201a8"
                        ],
                        [
                          0.3333333333333333,
                          "#9c179e"
                        ],
                        [
                          0.4444444444444444,
                          "#bd3786"
                        ],
                        [
                          0.5555555555555556,
                          "#d8576b"
                        ],
                        [
                          0.6666666666666666,
                          "#ed7953"
                        ],
                        [
                          0.7777777777777778,
                          "#fb9f3a"
                        ],
                        [
                          0.8888888888888888,
                          "#fdca26"
                        ],
                        [
                          1,
                          "#f0f921"
                        ]
                      ],
                      "diverging": [
                        [
                          0,
                          "#8e0152"
                        ],
                        [
                          0.1,
                          "#c51b7d"
                        ],
                        [
                          0.2,
                          "#de77ae"
                        ],
                        [
                          0.3,
                          "#f1b6da"
                        ],
                        [
                          0.4,
                          "#fde0ef"
                        ],
                        [
                          0.5,
                          "#f7f7f7"
                        ],
                        [
                          0.6,
                          "#e6f5d0"
                        ],
                        [
                          0.7,
                          "#b8e186"
                        ],
                        [
                          0.8,
                          "#7fbc41"
                        ],
                        [
                          0.9,
                          "#4d9221"
                        ],
                        [
                          1,
                          "#276419"
                        ]
                      ]
                    },
                    "xaxis": {
                      "gridcolor": "white",
                      "linecolor": "white",
                      "ticks": "",
                      "title": {
                        "standoff": 15
                      },
                      "zerolinecolor": "white",
                      "automargin": true,
                      "zerolinewidth": 2
                    },
                    "yaxis": {
                      "gridcolor": "white",
                      "linecolor": "white",
                      "ticks": "",
                      "title": {
                        "standoff": 15
                      },
                      "zerolinecolor": "white",
                      "automargin": true,
                      "zerolinewidth": 2
                    },
                    "scene": {
                      "xaxis": {
                        "backgroundcolor": "#E5ECF6",
                        "gridcolor": "white",
                        "linecolor": "white",
                        "showbackground": true,
                        "ticks": "",
                        "zerolinecolor": "white",
                        "gridwidth": 2
                      },
                      "yaxis": {
                        "backgroundcolor": "#E5ECF6",
                        "gridcolor": "white",
                        "linecolor": "white",
                        "showbackground": true,
                        "ticks": "",
                        "zerolinecolor": "white",
                        "gridwidth": 2
                      },
                      "zaxis": {
                        "backgroundcolor": "#E5ECF6",
                        "gridcolor": "white",
                        "linecolor": "white",
                        "showbackground": true,
                        "ticks": "",
                        "zerolinecolor": "white",
                        "gridwidth": 2
                      }
                    },
                    "shapedefaults": {
                      "line": {
                        "color": "#2a3f5f"
                      }
                    },
                    "annotationdefaults": {
                      "arrowcolor": "#2a3f5f",
                      "arrowhead": 0,
                      "arrowwidth": 1
                    },
                    "geo": {
                      "bgcolor": "white",
                      "landcolor": "#E5ECF6",
                      "subunitcolor": "white",
                      "showland": true,
                      "showlakes": true,
                      "lakecolor": "white"
                    },
                    "title": {
                      "x": 0.05
                    },
                    "mapbox": {
                      "style": "light"
                    }
                  }
                },
                "xaxis": {
                  "anchor": "y",
                  "domain": [
                    0,
                    1
                  ],
                  "title": {
                    "text": "archq4_cosim"
                  }
                },
                "yaxis": {
                  "anchor": "x",
                  "domain": [
                    0,
                    1
                  ],
                  "title": {
                    "text": "count"
                  }
                },
                "legend": {
                  "tracegroupgap": 0
                },
                "title": {
                  "text": "Distribution of Cosine Similarity for Archetype 4"
                },
                "barmode": "relative"
              },
              "config": {
                "plotlyServerURL": "https://plot.ly"
              }
            },
            "text/html": "<div>                            <div id=\"872ca25e-2720-406c-8d3a-3f67f57a7b53\" class=\"plotly-graph-div\" style=\"height:525px; width:100%;\"></div>            <script type=\"text/javascript\">                require([\"plotly\"], function(Plotly) {                    window.PLOTLYENV=window.PLOTLYENV || {};                                    if (document.getElementById(\"872ca25e-2720-406c-8d3a-3f67f57a7b53\")) {                    Plotly.newPlot(                        \"872ca25e-2720-406c-8d3a-3f67f57a7b53\",                        [{\"alignmentgroup\":\"True\",\"bingroup\":\"x\",\"hovertemplate\":\"archq4_cosim=%{x}\\u003cbr\\u003ecount=%{y}\\u003cextra\\u003e\\u003c\\u002fextra\\u003e\",\"legendgroup\":\"\",\"marker\":{\"color\":\"#636efa\",\"pattern\":{\"shape\":\"\"}},\"name\":\"\",\"nbinsx\":30,\"offsetgroup\":\"\",\"orientation\":\"v\",\"showlegend\":false,\"x\":[0.14815807207736587,0.20945668356551017,0.20659221014565143,0.19102870003085248,0.1578140706745743,0.18594166693291714,0.18483088010991744,0.16287973025896285,0.22042329313572162,0.18950135515965594,0.2060685637068631,0.1852021618266596,0.19580301893242502,0.19344103025685044,0.207799424231218,0.17180574133023652,0.19178550208776113,0.1939960845756482,0.1967777729538105,0.19305679639331608,0.18730500975523867,0.1831932176569303,0.21505152074073497,0.20903900267338626,0.1643352712836833,0.16604905074730825,0.14325017582364874,0.11893084808880228,0.13849237871388942,0.134456331553935,0.12061181777583685,0.137238637664316,0.15277524993399016,0.11143918295688904,0.15072801914900602,0.13744713156195276,0.1253061812671583,0.12147894613661026,0.10809502560353657,0.11778268986448115,0.14008927786053993,0.14601802902795646,0.11584153268065578,0.14057290220545726,0.1286508410380942,0.14075200903861607,0.12056039317137213,0.1328155953622463,0.17882882575311532,0.12708230957773747,0.13391295162975358,0.1314890278139551,0.1361135383370644,0.12640203284039853,0.13123127986970784,0.13504481656329526,0.13763194435299297,0.11755261576513987,0.13890306292149301,0.14411316284385423,0.13478077474612327,0.1445690476637207,0.12345922702039647,0.1349750917118534,0.12998144013486823,0.15882858227251195,0.136894798438572,0.1430921023822741,0.13447309957946163,0.138876380613574,0.13518431939695474,0.13625010575057295,0.1403448997063228,0.14607353834952685,0.15199421779810562,0.13787788545482504,0.15767209173753394,0.14977220449170825,0.14778189169610834,0.13698263569318814,0.1408971827549661,0.13275186870780487,0.13754610663965838,0.13936188591449494,0.14868834224744976,0.13284761962432612,0.14218963519678574,0.13905643582535399,0.15058318188595365,0.12196252555910803,0.13435847941790469,0.13935631275328497,0.14262231859956842,0.1374565265600758,0.12688184646493605,0.13774479325502287,0.1521498370773554,0.13165550193362718,0.12542037606060064,0.1321387497260872,0.14032242558637265,0.13319432119952002,0.13904363276329346,0.14852266598738206,0.14346341523411477,0.13156950768849307,0.13562995976810988,0.14257170454892876,0.13170833324187303,0.13860837451649388,0.14546561819038561,0.13740080588156556,0.13746712428498709,0.13134400753790643,0.1373960572172478,0.13502888346559883,0.1449808076045055,0.13313691042458753,0.13534548681411307,0.1386191235111094,0.13414047534547746,0.13474080564979563,0.14588029217107812,0.13212187930272568,0.13571434481988998,0.13274198348590616,0.13212082864742836,0.14998381940049998,0.13679318405874297,0.1473005039259937,0.14325502604153917,0.13568068884668694,0.14724961834614492,0.13726932980159878,0.14104981011041728,0.13161743757955813,0.1403857067346952,0.14557290063130657,0.13705841321359202,0.14287958676505152,0.1480718875888165,0.1474343574034528,0.1439632070251361,0.1363039126035811,0.14031682999386907,0.13907007921637593,0.1454238001569368,0.1431024329743965,0.14215660224866478,0.15418625718177292,0.12021544477192947,0.15104166882750925,0.17332515609978216,0.15356266879182434,0.15877232571540256,0.1492719042288284,0.1713794167552265,0.1492080874182553,0.15079770619324318,0.16775378029449817,0.15099244526282374,0.15636123759554355,0.16469086737641447,0.1593693230326163,0.1892735999017251,0.17241298715568154,0.14201055010492525,0.18534947656373968,0.15025800190087502,0.16775378029449817,0.1522864953785703,0.11572243873286403,0.15366296760859022,0.1379471752794803,0.16615982150831599,0.16802374509834483,0.15629564713256872,0.17540326012551222,0.1750581412869181,0.14415438951569004,0.12371517341732952,0.15846841047244742,0.1750813691190053,0.1477087235613188,0.18502822417115705,0.16858776708718837,0.1600156876235933,0.1246432309740777,0.1516109610407279,0.1785190349080027,0.17299450645790815,0.13525006164836284,0.1395717432741611,0.1698515130558118,0.16154205324352977,0.13266740293103252,0.15454777418378285,0.15490060804809802,0.15690455684046956,0.1299408993723994,0.15991691518896856,0.1298251277554131,0.1293806924002534,0.16617549323229586,0.13006183294059304,0.1298287051150956,0.129207945438222,0.16311846972296407,0.1245165317090503,0.12446045611875933,0.16064608896638777,0.13550870605329024,0.12576886309907953,0.12733967007612623,0.1364025094214817,0.15607165673303647,0.13024756699296747,0.12109609978354252,0.14759385415438375,0.12405695277045714,0.12407401490644565,0.11700745786105116,0.13706268760582785,0.134641221344466,0.12566102385002265,0.14473435404604496,0.12966320321213098,0.13606019403960745,0.17202893106515327,0.12275812745436132,0.13777170453404375,0.12473649857582825,0.1724665070906325,0.11893200423622807,0.13269116607406217,0.1618989366004261,0.13926514421677993,0.13445246078950523,0.12117651927394413,0.1463003954638239,0.15735424251188845,0.13257014114053578,0.1141574101978271,0.148191395861754,0.11838111906957993,0.1256597945401784,0.11475024955483137,0.15097900645405837,0.13435250559093437,0.12945948046987454,0.12968154351859118,0.1091530496997476,0.14487490628161648,0.12222141951814991,0.12988259351675258,0.14302781993687141,0.12400924979531669,0.1211009410254219,0.1266929177171947,0.12972474559629998,0.15338677760000952,0.1520561428830841,0.14191204802948443,0.1294968910779175,0.14018384135488082,0.15250988238459406,0.14252990661173437,0.15434208824582685,0.13088099533941489,0.1514459164829408,0.16192135244178119,0.14434712718260667,0.15570764767514766,0.13721107097830132,0.13328566795807217,0.1283435266695807,0.13270806060412377,0.1152607197260318,0.12004242893293271,0.1434445291617641,0.12021544477192947,0.12487746945043487,0.11171680763638803,0.15075902199545477,0.14583287482657625,0.1337468004903717,0.15762652139383326,0.14830275375241941,0.12619915004764293,0.12461590649445675,0.1387409405598683,0.15833031937974618,0.14134846727419603,0.14776537747330443,0.16757684918597104,0.11568485667304407,0.13147269627733038,0.12604665567787754,0.17087767284507005,0.1427563054116352,0.15019658426945082,0.1250317398477262,0.11681606234411823,0.1464111997126578,0.11388567258178373,0.1100632548928494,0.11673236275459231,0.09306260543042832,0.12152074850097516,0.12390375405131138,0.11513172949400519,0.12169274281170461,0.12746426204558547,0.17216850676482998,0.1169338227762382,0.15338665108949945,0.10711617472894808,0.12580327701527627,0.13817850408313326,0.12455413666775828,0.14719433572186746,0.1418417852099234,0.10841048110223428,0.13590247133615507,0.13880320738215757,0.12016594602978237,0.14582184765349737,0.13521964030973932,0.1541515016181012,0.1301779570830489,0.11746739863805467,0.12674491510829378,0.1272011052877795,0.11753072364244177,0.14082950929515692,0.11754344429080699,0.15669142504979572,0.10530441162945725,0.1317300757981028,0.15568918627789452,0.12807780416672654,0.1325010440528377,0.16402881658578772,0.1469274656999059,0.1238399464362352,0.145087121188625,0.15149371762926434,0.12873779883094072,0.158305600527061,0.12821223164948492,0.13986816929466062,0.1431148441238177,0.11111408629822128,0.14738572205918843,0.1208722199419161,0.14399647773834123,0.14459747541182633,0.13902747667488824,0.1360799427534194,0.14386967073816903,0.1457353339780404,0.13455395463288,0.1642651106862244,0.12599069379574235,0.14253560175113833,0.1587257678288112,0.14411886652305395,0.14731101248291023,0.15266919047743643,0.1478146720872192,0.1355169020734166,0.14031992271996463,0.14775819726070216,0.13351307612353458,0.1192711892840218,0.15346346646101838,0.1238250232644631,0.13868614530580103,0.1440815991843527,0.13708157437702206,0.13683180784847204,0.16091119348845095,0.12593714170890757,0.1305602201509467,0.1470604495067317,0.1515438286754326,0.13234220091542603,0.14542232883959916,0.13110412939612381,0.13557388128045822,0.13251000397072754,0.15059911861334185,0.15250410958507288,0.13788471828943583,0.14896340448611867,0.14677605073993094,0.14575110315225914,0.15120827525232672,0.1470823704053119,0.12700628527386826,0.11472510305755113,0.13130536455911312,0.14348414398561737,0.12315927826261719,0.13201583716382082,0.12696762072476842,0.1437450674784615,0.14880330449065982,0.13511448413647487,0.14750112982189312,0.1303175683105845,0.11593816474178265,0.16408293597641666,0.14128373560179674,0.13578129721291832,0.13564954079014324,0.12569946456746373,0.12495509913452829,0.1312362111472415,0.134704725867276,0.11105090113544513,0.13731549456471814,0.09954485112216083,0.143639853849862,0.13142396592379701,0.15726224662689303,0.15302705052631826,0.12917817285105926,0.14386855983733926,0.14139164275490734,0.14662476280853753,0.14879014490746867,0.13904043800638932,0.16315335778555418,0.14658729708132867,0.13304102324738865,0.1520813393453777,0.14156156675377152,0.12964594117694694,0.1425081115592286,0.14750040990775581,0.16427026915299459,0.14667127355310916,0.14834960992272783,0.14016141734681786,0.12686882505041097,0.14249137017615243,0.1285540836403748,0.14813302729137778,0.026189207450928897,0.13272064974307296,0.15201978481831147,0.14034443850086775,0.1460368242823391,0.13669625253600726,0.13721082279210806,0.1316936552000767,0.17407131926048058,0.16054869170422514,0.20761019408366832,0.16962431120217458,0.13201792414405344,0.15134998455621862,0.160649109530681,0.16403594744037742,0.12360589629451513,0.22254652230970073,0.15918268171504668,0.146126391442444,0.182850227920906,0.1481752815994959,0.14378543010552292,0.15250232018964027,0.04313537168450832,0.07807709212060288,0.14977612098223103,0.07349115921283489,0.1817973956188853,0.13656618637361362,0.14355351309211117,0.16168661318103394,0.08780727551223078,0.1607444854169,0.12416264834837754,0.17092983940977036,0.1222317060718382,0.13442505874661015,0.13934196212606909,0.13128826089494794,0.16444799932739262,0.16374155323146367,0.12143950105982504,0.1146450902290056,0.1383259732544896,0.1391525353766625,0.1093951076690245,0.09587921782601583,0.1272738745586418,0.039044985128985576,0.04778119783572332,0.11674444973455411,0.07042560713042467,0.09094839259487231,0.10305022210720627,0.13355112605464692,0.12772674839609088,0.12710090960625586,0.11255237613657398,0.1252769885710916,0.130169157512949,0.10620528957388675,0.11785702735355308,0.08959038561963006,0.12776380739528104,0.10943794691188247,0.12188384652340223,0.12345960221283725,0.15184192403576924,0.11859440856706871,0.12632240650685567,0.06241175634197238,0.09762121921742328,0.09730527881676798,0.0991527737926663,0.11782238447298521,0.07867933443662567,0.09628216581317561,0.07275248930379641,0.07577564082361232,0.06706279162678208,0.103154643500448,0.06380426539227568,0.06006278390001063,0.04862538982256903,0.08099745393215796,0.05936369023048804,0.0786939827786467,0.09029097590896684,0.0858421153488228,0.05946982709059412,0.07204225181853896,0.05111130933809904,0.03714440117151541,0.07615217898020543,0.05996597406381088,0.043533289273712805,0.07802533166776116,0.060579463816113566,0.04799714133946775,0.05199098499954713,0.04430431417475844,0.11133703727087985,0.08580463198113253,0.10946412701083497,0.09963590354445984,0.10112050812236895,0.09278879473110424,0.1270473167411621,0.07660794271892246,0.13630090880787504,0.1239750910230023,0.14733292318853541,0.10797787588068453,0.1433087473914214,0.13512118139693152,0.09200328199323282,0.10064246909284025,0.11693723357684582,0.1275577571313371,0.16264165094783445,0.12899838760759819,0.10681914870208231,0.13468672238354784,0.12063679927088022,0.11794963835641359,0.07973754245810005,0.04642169862249035,0.10271693078340349,0.10902968623788623,0.09938245702535309,0.12159326581312513,0.11719484378682932,0.11031708434967491,0.12943110986583883,0.12090486435436065,0.1359559896177971,0.13527048436049383,0.09942836183047288,0.12479651477755793,0.11222825189515828,0.11637146468876747,0.12497594451741956,0.1117419764361628,0.10430374653295793,0.11152440507738826,0.11921740125995917,0.12401299069046834,0.12765985054893025,0.13544425863435083],\"xaxis\":\"x\",\"yaxis\":\"y\",\"type\":\"histogram\"}],                        {\"template\":{\"data\":{\"histogram2dcontour\":[{\"type\":\"histogram2dcontour\",\"colorbar\":{\"outlinewidth\":0,\"ticks\":\"\"},\"colorscale\":[[0.0,\"#0d0887\"],[0.1111111111111111,\"#46039f\"],[0.2222222222222222,\"#7201a8\"],[0.3333333333333333,\"#9c179e\"],[0.4444444444444444,\"#bd3786\"],[0.5555555555555556,\"#d8576b\"],[0.6666666666666666,\"#ed7953\"],[0.7777777777777778,\"#fb9f3a\"],[0.8888888888888888,\"#fdca26\"],[1.0,\"#f0f921\"]]}],\"choropleth\":[{\"type\":\"choropleth\",\"colorbar\":{\"outlinewidth\":0,\"ticks\":\"\"}}],\"histogram2d\":[{\"type\":\"histogram2d\",\"colorbar\":{\"outlinewidth\":0,\"ticks\":\"\"},\"colorscale\":[[0.0,\"#0d0887\"],[0.1111111111111111,\"#46039f\"],[0.2222222222222222,\"#7201a8\"],[0.3333333333333333,\"#9c179e\"],[0.4444444444444444,\"#bd3786\"],[0.5555555555555556,\"#d8576b\"],[0.6666666666666666,\"#ed7953\"],[0.7777777777777778,\"#fb9f3a\"],[0.8888888888888888,\"#fdca26\"],[1.0,\"#f0f921\"]]}],\"heatmap\":[{\"type\":\"heatmap\",\"colorbar\":{\"outlinewidth\":0,\"ticks\":\"\"},\"colorscale\":[[0.0,\"#0d0887\"],[0.1111111111111111,\"#46039f\"],[0.2222222222222222,\"#7201a8\"],[0.3333333333333333,\"#9c179e\"],[0.4444444444444444,\"#bd3786\"],[0.5555555555555556,\"#d8576b\"],[0.6666666666666666,\"#ed7953\"],[0.7777777777777778,\"#fb9f3a\"],[0.8888888888888888,\"#fdca26\"],[1.0,\"#f0f921\"]]}],\"heatmapgl\":[{\"type\":\"heatmapgl\",\"colorbar\":{\"outlinewidth\":0,\"ticks\":\"\"},\"colorscale\":[[0.0,\"#0d0887\"],[0.1111111111111111,\"#46039f\"],[0.2222222222222222,\"#7201a8\"],[0.3333333333333333,\"#9c179e\"],[0.4444444444444444,\"#bd3786\"],[0.5555555555555556,\"#d8576b\"],[0.6666666666666666,\"#ed7953\"],[0.7777777777777778,\"#fb9f3a\"],[0.8888888888888888,\"#fdca26\"],[1.0,\"#f0f921\"]]}],\"contourcarpet\":[{\"type\":\"contourcarpet\",\"colorbar\":{\"outlinewidth\":0,\"ticks\":\"\"}}],\"contour\":[{\"type\":\"contour\",\"colorbar\":{\"outlinewidth\":0,\"ticks\":\"\"},\"colorscale\":[[0.0,\"#0d0887\"],[0.1111111111111111,\"#46039f\"],[0.2222222222222222,\"#7201a8\"],[0.3333333333333333,\"#9c179e\"],[0.4444444444444444,\"#bd3786\"],[0.5555555555555556,\"#d8576b\"],[0.6666666666666666,\"#ed7953\"],[0.7777777777777778,\"#fb9f3a\"],[0.8888888888888888,\"#fdca26\"],[1.0,\"#f0f921\"]]}],\"surface\":[{\"type\":\"surface\",\"colorbar\":{\"outlinewidth\":0,\"ticks\":\"\"},\"colorscale\":[[0.0,\"#0d0887\"],[0.1111111111111111,\"#46039f\"],[0.2222222222222222,\"#7201a8\"],[0.3333333333333333,\"#9c179e\"],[0.4444444444444444,\"#bd3786\"],[0.5555555555555556,\"#d8576b\"],[0.6666666666666666,\"#ed7953\"],[0.7777777777777778,\"#fb9f3a\"],[0.8888888888888888,\"#fdca26\"],[1.0,\"#f0f921\"]]}],\"mesh3d\":[{\"type\":\"mesh3d\",\"colorbar\":{\"outlinewidth\":0,\"ticks\":\"\"}}],\"scatter\":[{\"fillpattern\":{\"fillmode\":\"overlay\",\"size\":10,\"solidity\":0.2},\"type\":\"scatter\"}],\"parcoords\":[{\"type\":\"parcoords\",\"line\":{\"colorbar\":{\"outlinewidth\":0,\"ticks\":\"\"}}}],\"scatterpolargl\":[{\"type\":\"scatterpolargl\",\"marker\":{\"colorbar\":{\"outlinewidth\":0,\"ticks\":\"\"}}}],\"bar\":[{\"error_x\":{\"color\":\"#2a3f5f\"},\"error_y\":{\"color\":\"#2a3f5f\"},\"marker\":{\"line\":{\"color\":\"#E5ECF6\",\"width\":0.5},\"pattern\":{\"fillmode\":\"overlay\",\"size\":10,\"solidity\":0.2}},\"type\":\"bar\"}],\"scattergeo\":[{\"type\":\"scattergeo\",\"marker\":{\"colorbar\":{\"outlinewidth\":0,\"ticks\":\"\"}}}],\"scatterpolar\":[{\"type\":\"scatterpolar\",\"marker\":{\"colorbar\":{\"outlinewidth\":0,\"ticks\":\"\"}}}],\"histogram\":[{\"marker\":{\"pattern\":{\"fillmode\":\"overlay\",\"size\":10,\"solidity\":0.2}},\"type\":\"histogram\"}],\"scattergl\":[{\"type\":\"scattergl\",\"marker\":{\"colorbar\":{\"outlinewidth\":0,\"ticks\":\"\"}}}],\"scatter3d\":[{\"type\":\"scatter3d\",\"line\":{\"colorbar\":{\"outlinewidth\":0,\"ticks\":\"\"}},\"marker\":{\"colorbar\":{\"outlinewidth\":0,\"ticks\":\"\"}}}],\"scattermapbox\":[{\"type\":\"scattermapbox\",\"marker\":{\"colorbar\":{\"outlinewidth\":0,\"ticks\":\"\"}}}],\"scatterternary\":[{\"type\":\"scatterternary\",\"marker\":{\"colorbar\":{\"outlinewidth\":0,\"ticks\":\"\"}}}],\"scattercarpet\":[{\"type\":\"scattercarpet\",\"marker\":{\"colorbar\":{\"outlinewidth\":0,\"ticks\":\"\"}}}],\"carpet\":[{\"aaxis\":{\"endlinecolor\":\"#2a3f5f\",\"gridcolor\":\"white\",\"linecolor\":\"white\",\"minorgridcolor\":\"white\",\"startlinecolor\":\"#2a3f5f\"},\"baxis\":{\"endlinecolor\":\"#2a3f5f\",\"gridcolor\":\"white\",\"linecolor\":\"white\",\"minorgridcolor\":\"white\",\"startlinecolor\":\"#2a3f5f\"},\"type\":\"carpet\"}],\"table\":[{\"cells\":{\"fill\":{\"color\":\"#EBF0F8\"},\"line\":{\"color\":\"white\"}},\"header\":{\"fill\":{\"color\":\"#C8D4E3\"},\"line\":{\"color\":\"white\"}},\"type\":\"table\"}],\"barpolar\":[{\"marker\":{\"line\":{\"color\":\"#E5ECF6\",\"width\":0.5},\"pattern\":{\"fillmode\":\"overlay\",\"size\":10,\"solidity\":0.2}},\"type\":\"barpolar\"}],\"pie\":[{\"automargin\":true,\"type\":\"pie\"}]},\"layout\":{\"autotypenumbers\":\"strict\",\"colorway\":[\"#636efa\",\"#EF553B\",\"#00cc96\",\"#ab63fa\",\"#FFA15A\",\"#19d3f3\",\"#FF6692\",\"#B6E880\",\"#FF97FF\",\"#FECB52\"],\"font\":{\"color\":\"#2a3f5f\"},\"hovermode\":\"closest\",\"hoverlabel\":{\"align\":\"left\"},\"paper_bgcolor\":\"white\",\"plot_bgcolor\":\"#E5ECF6\",\"polar\":{\"bgcolor\":\"#E5ECF6\",\"angularaxis\":{\"gridcolor\":\"white\",\"linecolor\":\"white\",\"ticks\":\"\"},\"radialaxis\":{\"gridcolor\":\"white\",\"linecolor\":\"white\",\"ticks\":\"\"}},\"ternary\":{\"bgcolor\":\"#E5ECF6\",\"aaxis\":{\"gridcolor\":\"white\",\"linecolor\":\"white\",\"ticks\":\"\"},\"baxis\":{\"gridcolor\":\"white\",\"linecolor\":\"white\",\"ticks\":\"\"},\"caxis\":{\"gridcolor\":\"white\",\"linecolor\":\"white\",\"ticks\":\"\"}},\"coloraxis\":{\"colorbar\":{\"outlinewidth\":0,\"ticks\":\"\"}},\"colorscale\":{\"sequential\":[[0.0,\"#0d0887\"],[0.1111111111111111,\"#46039f\"],[0.2222222222222222,\"#7201a8\"],[0.3333333333333333,\"#9c179e\"],[0.4444444444444444,\"#bd3786\"],[0.5555555555555556,\"#d8576b\"],[0.6666666666666666,\"#ed7953\"],[0.7777777777777778,\"#fb9f3a\"],[0.8888888888888888,\"#fdca26\"],[1.0,\"#f0f921\"]],\"sequentialminus\":[[0.0,\"#0d0887\"],[0.1111111111111111,\"#46039f\"],[0.2222222222222222,\"#7201a8\"],[0.3333333333333333,\"#9c179e\"],[0.4444444444444444,\"#bd3786\"],[0.5555555555555556,\"#d8576b\"],[0.6666666666666666,\"#ed7953\"],[0.7777777777777778,\"#fb9f3a\"],[0.8888888888888888,\"#fdca26\"],[1.0,\"#f0f921\"]],\"diverging\":[[0,\"#8e0152\"],[0.1,\"#c51b7d\"],[0.2,\"#de77ae\"],[0.3,\"#f1b6da\"],[0.4,\"#fde0ef\"],[0.5,\"#f7f7f7\"],[0.6,\"#e6f5d0\"],[0.7,\"#b8e186\"],[0.8,\"#7fbc41\"],[0.9,\"#4d9221\"],[1,\"#276419\"]]},\"xaxis\":{\"gridcolor\":\"white\",\"linecolor\":\"white\",\"ticks\":\"\",\"title\":{\"standoff\":15},\"zerolinecolor\":\"white\",\"automargin\":true,\"zerolinewidth\":2},\"yaxis\":{\"gridcolor\":\"white\",\"linecolor\":\"white\",\"ticks\":\"\",\"title\":{\"standoff\":15},\"zerolinecolor\":\"white\",\"automargin\":true,\"zerolinewidth\":2},\"scene\":{\"xaxis\":{\"backgroundcolor\":\"#E5ECF6\",\"gridcolor\":\"white\",\"linecolor\":\"white\",\"showbackground\":true,\"ticks\":\"\",\"zerolinecolor\":\"white\",\"gridwidth\":2},\"yaxis\":{\"backgroundcolor\":\"#E5ECF6\",\"gridcolor\":\"white\",\"linecolor\":\"white\",\"showbackground\":true,\"ticks\":\"\",\"zerolinecolor\":\"white\",\"gridwidth\":2},\"zaxis\":{\"backgroundcolor\":\"#E5ECF6\",\"gridcolor\":\"white\",\"linecolor\":\"white\",\"showbackground\":true,\"ticks\":\"\",\"zerolinecolor\":\"white\",\"gridwidth\":2}},\"shapedefaults\":{\"line\":{\"color\":\"#2a3f5f\"}},\"annotationdefaults\":{\"arrowcolor\":\"#2a3f5f\",\"arrowhead\":0,\"arrowwidth\":1},\"geo\":{\"bgcolor\":\"white\",\"landcolor\":\"#E5ECF6\",\"subunitcolor\":\"white\",\"showland\":true,\"showlakes\":true,\"lakecolor\":\"white\"},\"title\":{\"x\":0.05},\"mapbox\":{\"style\":\"light\"}}},\"xaxis\":{\"anchor\":\"y\",\"domain\":[0.0,1.0],\"title\":{\"text\":\"archq4_cosim\"}},\"yaxis\":{\"anchor\":\"x\",\"domain\":[0.0,1.0],\"title\":{\"text\":\"count\"}},\"legend\":{\"tracegroupgap\":0},\"title\":{\"text\":\"Distribution of Cosine Similarity for Archetype 4\"},\"barmode\":\"relative\"},                        {\"responsive\": true}                    ).then(function(){\n                            \nvar gd = document.getElementById('872ca25e-2720-406c-8d3a-3f67f57a7b53');\nvar x = new MutationObserver(function (mutations, observer) {{\n        var display = window.getComputedStyle(gd).display;\n        if (!display || display === 'none') {{\n            console.log([gd, 'removed!']);\n            Plotly.purge(gd);\n            observer.disconnect();\n        }}\n}});\n\n// Listen for the removal of the full notebook cells\nvar notebookContainer = gd.closest('#notebook-container');\nif (notebookContainer) {{\n    x.observe(notebookContainer, {childList: true});\n}}\n\n// Listen for the clearing of the current output cell\nvar outputEl = gd.closest('.output');\nif (outputEl) {{\n    x.observe(outputEl, {childList: true});\n}}\n\n                        })                };                });            </script>        </div>"
          },
          "metadata": {}
        }
      ],
      "execution_count": 135,
      "metadata": {
        "jupyter": {
          "source_hidden": false,
          "outputs_hidden": false
        },
        "nteract": {
          "transient": {
            "deleting": false
          }
        },
        "gather": {
          "logged": 1702680174192
        }
      }
    },
    {
      "cell_type": "markdown",
      "source": [
        "## Comparison\n",
        "Comparison of Closest Cosine Similarity to Others: A scatter plot comparing closest_cosim with other archq{i}_cosim values. This will help visualize if the closest matches are significantly higher than the other archetype matches."
      ],
      "metadata": {
        "nteract": {
          "transient": {
            "deleting": false
          }
        }
      }
    },
    {
      "cell_type": "code",
      "source": [
        "for i in answer_df['answer_id']: \n",
        "    fig = px.scatter(\n",
        "        final_evaluation_df, \n",
        "        x=\"closest_cosim\", \n",
        "        y=f\"archq{i}_cosim\", \n",
        "        title=f\"Comparison of Closest Cosine Similarity to Archetype {i}\"\n",
        "    )\n",
        "    fig.show()\n",
        "\n"
      ],
      "outputs": [
        {
          "output_type": "display_data",
          "data": {
            "application/vnd.plotly.v1+json": {
              "data": [
                {
                  "hovertemplate": "closest_cosim=%{x}<br>archq1_cosim=%{y}<extra></extra>",
                  "legendgroup": "",
                  "marker": {
                    "color": "#636efa",
                    "symbol": "circle"
                  },
                  "mode": "markers",
                  "name": "",
                  "orientation": "v",
                  "showlegend": false,
                  "x": [
                    0.06595879700269358,
                    0.1400309889962853,
                    0.16048872507552492,
                    0.11383665579443725,
                    0.07910549846029369,
                    0.11520151837330106,
                    0.12565420134930871,
                    0.10436907356733582,
                    0.15410573222392876,
                    0.1261215481094632,
                    0.1484042944292675,
                    0.11630370913198729,
                    0.11109835978615967,
                    0.1451157248174223,
                    0.14944096465775547,
                    0.09487103850594814,
                    0.11821614983830764,
                    0.14618515663943055,
                    0.1533541502244965,
                    0.13700411660555423,
                    0.10523179285908535,
                    0.11152903471341913,
                    0.1569140275795503,
                    0.15486792721348464,
                    0.0986977285097802,
                    0.0874856558083541,
                    0.06872481070970948,
                    0.06958996202339673,
                    0.11052911205060423,
                    0.10141733908658601,
                    0.10932510185425803,
                    0.07825589625781704,
                    0.06143920448768281,
                    0.11143918295688904,
                    0.10031344605395753,
                    0.06768842557473331,
                    0.11865466600279839,
                    0.06439801884906016,
                    0.10809502560353657,
                    0.06339332887498794,
                    0.09803244851337367,
                    0.10543917417975379,
                    0.06371990727502597,
                    0.08459331360587152,
                    0.10707043814919726,
                    0.07772717814080199,
                    0.11441872842810963,
                    0.07618106478774311,
                    0.12009218603294358,
                    0.06201053784132993,
                    0.10858515508203748,
                    0.06962409458354735,
                    0.0666962822560101,
                    0.0754864808370449,
                    0.07894276330842631,
                    0.06440674540455393,
                    0.08138691940887433,
                    0.07121625924433905,
                    0.07073500854377168,
                    0.07901405035052833,
                    0.07585918683468185,
                    0.08773849780227083,
                    0.06836404034189925,
                    0.05748208429907886,
                    0.06748838297434667,
                    0.07666681397004915,
                    0.05837120217360936,
                    0.07597137966587653,
                    0.06371391082732858,
                    0.06998822379656067,
                    0.05883034760405759,
                    0.07167277361885949,
                    0.07364961778504886,
                    0.07216944102289768,
                    0.07796341816996921,
                    0.0575509640654841,
                    0.08276313707134031,
                    0.08397442517388931,
                    0.08498289182099594,
                    0.07033442189330885,
                    0.08681073663937056,
                    0.04639092218427343,
                    0.08231033004932198,
                    0.06660413711771451,
                    0.07812372682510382,
                    0.08799926525804236,
                    0.08730603847110485,
                    0.07779555289781614,
                    0.095322807264281,
                    0.053459771919292076,
                    0.0859117650106842,
                    0.06230621486425425,
                    0.06678961506803405,
                    0.0652513406809817,
                    0.05649468408129421,
                    0.07052316750876919,
                    0.08761394795453259,
                    0.06651598908138212,
                    0.07790166730530657,
                    0.10039378217095918,
                    0.047325098313189096,
                    0.09499150134321543,
                    0.07565018486048825,
                    0.1091772587928207,
                    0.09519928526167565,
                    0.09316655520520145,
                    0.06865982495128031,
                    0.0991124929867081,
                    0.08874027210727153,
                    0.10260052783126572,
                    0.09011259776953928,
                    0.09322000781738449,
                    0.0907771860955231,
                    0.09490313262492633,
                    0.09106762499336774,
                    0.09082443115856986,
                    0.08469612970933371,
                    0.07714778261272504,
                    0.07698577598364709,
                    0.08718470352958574,
                    0.08997059833565568,
                    0.09670676969170011,
                    0.08993104838570787,
                    0.08641821756014578,
                    0.08408326962285506,
                    0.08744457278230255,
                    0.05192296765427251,
                    0.06602631696054628,
                    0.04817179349082146,
                    0.05911820854700389,
                    0.07102146466287385,
                    0.05631011182645862,
                    0.07550395526353326,
                    0.05990717849355531,
                    0.05674162014738282,
                    0.05450478506504697,
                    0.05383745690917541,
                    0.06087963551506714,
                    0.05937154495585717,
                    0.06891755453661041,
                    0.0652844314370381,
                    0.06992587513937654,
                    0.06543442802973998,
                    0.06925580074609083,
                    0.051201896968669836,
                    0.06621738555787382,
                    0.0625092087394713,
                    0.058923388684044564,
                    0.0766047680471803,
                    0.06523376874239784,
                    0.12021544477192947,
                    0.08302252424323275,
                    0.12396114729227592,
                    0.12144773077202198,
                    0.0951576379773107,
                    0.08267925358592865,
                    0.15224529567890643,
                    0.07156041625596388,
                    0.11707798050414076,
                    0.10749860495821073,
                    0.08299017896065009,
                    0.11885501830630596,
                    0.11344886330014892,
                    0.11526086175392658,
                    0.1042976526125271,
                    0.14340580261874503,
                    0.08093410647729371,
                    0.12148260194603122,
                    0.10039276717695933,
                    0.10749860495821073,
                    0.13368648789477544,
                    0.0919443864760845,
                    0.12151981741341145,
                    0.08912496755129784,
                    0.06442242598585324,
                    0.07984428180831982,
                    0.11339314809332546,
                    0.09009696745102558,
                    0.08827472499464528,
                    0.10851499645327078,
                    0.07599367327518414,
                    0.08153038157511094,
                    0.11750597861844192,
                    0.10827013443608191,
                    0.09425350076963435,
                    0.12085637058645626,
                    0.08714221276567335,
                    0.08481715562308345,
                    0.06257932599204308,
                    0.08230547358041385,
                    0.08598613104154795,
                    0.09007735715404852,
                    0.11398192075805291,
                    0.10333341695561316,
                    0.11077387244149273,
                    0.06838623467458826,
                    0.10589925347384965,
                    0.09414949341932455,
                    0.10520068614904587,
                    0.07799093588700656,
                    0.09426837409994049,
                    0.12469817780734682,
                    0.09604855944201052,
                    0.11154960760676069,
                    0.12674186918826336,
                    0.09559139654213422,
                    0.12328415486557742,
                    0.10489354819379881,
                    0.09285311482379732,
                    0.09966399165740891,
                    0.12119367034383755,
                    0.09356133893216612,
                    0.10432855107584771,
                    0.09878648185329064,
                    0.09213249994753014,
                    0.10690955823664183,
                    0.10842979721614987,
                    0.10792362468098848,
                    0.08273682283200423,
                    0.12367223591189058,
                    0.10844586651840094,
                    0.11700745786105116,
                    0.08848087063251542,
                    0.12126160950414722,
                    0.09746707401115717,
                    0.0893661075479657,
                    0.12467229780233047,
                    0.08956211538115166,
                    0.10313990652538252,
                    0.12275812745436132,
                    0.08203393089359867,
                    0.12263538017913289,
                    0.09941119626696604,
                    0.0881562609296549,
                    0.09254319048717874,
                    0.12136540221058223,
                    0.09337511742399773,
                    0.09544367603608583,
                    0.09309614700398128,
                    0.08460867328407318,
                    0.09801468112426637,
                    0.10295958709618414,
                    0.10808106271001705,
                    0.08099573169685748,
                    0.11838111906957993,
                    0.0898577564883557,
                    0.11475024955483137,
                    0.08714787001358004,
                    0.12179101535602155,
                    0.09772373415364632,
                    0.08694835091869557,
                    0.10138502997766508,
                    0.09621587964799416,
                    0.10903548411243125,
                    0.09244777195894793,
                    0.07986302924303446,
                    0.12400924979531669,
                    0.11195602295051676,
                    0.09388602528251,
                    0.10990123086622616,
                    0.11092761525282635,
                    0.10467442863047793,
                    0.08391741378891726,
                    0.12139124653469258,
                    0.11182466799755619,
                    0.11950304943935186,
                    0.08334617508954745,
                    0.12461057927355412,
                    0.10103412121929978,
                    0.13790399082136484,
                    0.1268880729391293,
                    0.11434865176570752,
                    0.09425622583998305,
                    0.08385485622799249,
                    0.12841349057964524,
                    0.1152619759969351,
                    0.08394692223745814,
                    0.09364766258184154,
                    0.12004242893293271,
                    0.0825608948670401,
                    0.12021544477192947,
                    0.07477798064821384,
                    0.11171680763638803,
                    0.07606440753833732,
                    0.10558011628929709,
                    0.09071634005536178,
                    0.11742055402353979,
                    0.07451120241528619,
                    0.07434263800524754,
                    0.08733256807131717,
                    0.0923725368819861,
                    0.12019767177045693,
                    0.08588341200729943,
                    0.08755771812183333,
                    0.09378043043570716,
                    0.11568485667304407,
                    0.07625971680968979,
                    0.12604665567787754,
                    0.09703936086223164,
                    0.08110444004903028,
                    0.12542798780538011,
                    0.09231457701865564,
                    0.06559151079540781,
                    0.055490353666507786,
                    0.08071243461693467,
                    0.10560198501419438,
                    0.058105212772708414,
                    0.09306260543042832,
                    0.09691006335381591,
                    0.060943170154337145,
                    0.08886900046228696,
                    0.04340761141428284,
                    0.088237630394576,
                    0.06411585472916081,
                    0.10197804787731368,
                    0.09817885469174781,
                    0.05457671819082577,
                    0.11173523255196094,
                    0.044216651268167206,
                    0.09653973607186861,
                    0.0909146016910719,
                    0.0878144685446659,
                    0.10841048110223428,
                    0.0444967126148047,
                    0.06709153478969154,
                    0.0781671278234215,
                    0.05254282677498934,
                    0.1013255395922773,
                    0.09561968520537711,
                    0.07827685977003485,
                    0.06842089591352296,
                    0.1034713100617356,
                    0.07366359467114703,
                    0.1001956330713113,
                    0.06272925622843384,
                    0.10454655673620683,
                    0.08487139297294644,
                    0.07038877218096051,
                    0.10102686324159116,
                    0.05305013827295202,
                    0.08024228390785626,
                    0.10519509541190475,
                    0.06877127478447154,
                    0.09251883056973487,
                    0.07688219398795304,
                    0.04506521920463491,
                    0.08619669263843488,
                    0.08250995078255219,
                    0.08318261734254462,
                    0.05993002142634973,
                    0.07649816391278186,
                    0.1014442532890174,
                    0.09798088080503564,
                    0.10103165781779389,
                    0.1036190017295574,
                    0.09255026236611663,
                    0.07920484107759085,
                    0.08827313492887079,
                    0.10189406804050372,
                    0.08360221189614303,
                    0.109952446868532,
                    0.07490705210765158,
                    0.12385280007787758,
                    0.07771875040852372,
                    0.10088216958256302,
                    0.11393042368287598,
                    0.08964863165528547,
                    0.11288413419011356,
                    0.10388638612835133,
                    0.09977976662333288,
                    0.085881745739524,
                    0.09003040986413657,
                    0.10739033317556745,
                    0.07241939872533742,
                    0.06668346208094711,
                    0.09314887071763911,
                    0.0774606167648264,
                    0.10888929871592379,
                    0.09153937631009557,
                    0.11388172346739567,
                    0.08697001772197965,
                    0.13198276595700276,
                    0.08227468217577671,
                    0.11139316572368141,
                    0.11535560613994256,
                    0.09218796951495767,
                    0.1104696620418586,
                    0.1238245211850475,
                    0.1062522783958505,
                    0.08299263615250319,
                    0.1013789286439768,
                    0.09475706382472049,
                    0.11543588815165984,
                    0.09913285402036964,
                    0.09848077378896691,
                    0.09190636874031588,
                    0.09959248533333576,
                    0.10718245943501226,
                    0.09508157003866868,
                    0.07332718881059674,
                    0.05381015078360141,
                    0.06888171361806039,
                    0.09819786662599528,
                    0.08876332374858265,
                    0.07433833773406218,
                    0.09552278694165539,
                    0.11650511562716903,
                    0.11753750199906698,
                    0.07605001328082672,
                    0.1139157486992094,
                    0.09806179129483295,
                    0.06145050370646499,
                    0.13489512328268916,
                    0.0714431723805169,
                    0.10173408079264235,
                    0.07269900849499089,
                    0.09758492875899905,
                    0.07172327164336556,
                    0.06880111729030502,
                    0.0745693122932013,
                    0.1003215433766167,
                    0.08681444385965531,
                    0.0974022852827382,
                    0.11287930207608099,
                    0.06496364456993142,
                    0.12878056306409713,
                    0.1306030756769584,
                    0.06829299903291552,
                    0.12048367721085906,
                    0.11873528579087611,
                    0.08538593123198734,
                    0.0629344946112016,
                    0.08298034171588464,
                    0.1275256736813647,
                    0.1128214168836954,
                    0.12087968879955868,
                    0.06354562561701615,
                    0.10537585895973323,
                    0.07392406429331588,
                    0.12469714172584556,
                    0.11403198972590967,
                    0.13417224520865,
                    0.08346266349209475,
                    0.06283709544078553,
                    0.12345504543824792,
                    0.06584863819784703,
                    0.11038498525022677,
                    0.09901839415761926,
                    0.0614194890882801,
                    0.026189207450928897,
                    0.12600694481762453,
                    0.12144524908730858,
                    0.12697805406452656,
                    0.11140878823081724,
                    0.1187471397760883,
                    0.12089842666459905,
                    0.11776905590400966,
                    0.1532248981390093,
                    0.16054869170422514,
                    0.18178382375645286,
                    0.13595278364667307,
                    0.11837328073848852,
                    0.12540852696246252,
                    0.160649109530681,
                    0.13646883017869393,
                    0.12360589629451513,
                    0.22254652230970073,
                    0.13700510979267588,
                    0.13881778824768543,
                    0.182850227920906,
                    0.13149976874104552,
                    0.10939178528712834,
                    0.15250232018964027,
                    0.04313537168450832,
                    0.07807709212060288,
                    0.13215179889710238,
                    0.07349115921283489,
                    0.1494465067064692,
                    0.10074950932734106,
                    0.14210642348848823,
                    0.13655685519215421,
                    0.08780727551223078,
                    0.1283722887532628,
                    0.12416264834837754,
                    0.17092983940977036,
                    0.10023133584942023,
                    0.10947728051059413,
                    0.10408639711438994,
                    0.13128826089494794,
                    0.13732112408738406,
                    0.1345683291760278,
                    0.12143950105982504,
                    0.1146450902290056,
                    0.1306657117524137,
                    0.1343997500046198,
                    0.1093951076690245,
                    0.09587921782601583,
                    0.1272738745586418,
                    0.039044985128985576,
                    0.04778119783572332,
                    0.11363967849949208,
                    0.07042560713042467,
                    0.09094839259487231,
                    0.10305022210720627,
                    0.13355112605464692,
                    0.12209007843664166,
                    0.11604346123478182,
                    0.11255237613657398,
                    0.11224498239327196,
                    0.12367886922713844,
                    0.10620528957388675,
                    0.10693879213296276,
                    0.08959038561963006,
                    0.12379549041461346,
                    0.09335855627254752,
                    0.12188384652340223,
                    0.12345960221283725,
                    0.14193889514627978,
                    0.1072114413619415,
                    0.12480965190171978,
                    0.06241175634197238,
                    0.09762121921742328,
                    0.09730527881676798,
                    0.0991527737926663,
                    0.10826292406448401,
                    0.07867933443662567,
                    0.09628216581317561,
                    0.07275248930379641,
                    0.07577564082361232,
                    0.06706279162678208,
                    0.103154643500448,
                    0.06380426539227568,
                    0.06006278390001063,
                    0.04862538982256903,
                    0.08099745393215796,
                    0.05936369023048804,
                    0.0786939827786467,
                    0.09029097590896684,
                    0.0858421153488228,
                    0.05946982709059412,
                    0.07204225181853896,
                    0.05111130933809904,
                    0.03714440117151541,
                    0.07615217898020543,
                    0.05996597406381088,
                    0.043533289273712805,
                    0.07802533166776116,
                    0.060579463816113566,
                    0.04799714133946775,
                    0.05199098499954713,
                    0.04430431417475844,
                    0.11133703727087985,
                    0.08580463198113253,
                    0.10946412701083497,
                    0.09963590354445984,
                    0.10112050812236895,
                    0.09278879473110424,
                    0.1270473167411621,
                    0.07660794271892246,
                    0.13630090880787504,
                    0.1194865347720464,
                    0.13977135369236082,
                    0.10797787588068453,
                    0.13393265423170775,
                    0.13512118139693152,
                    0.09200328199323282,
                    0.10064246909284025,
                    0.11693723357684582,
                    0.12396519817374951,
                    0.14476301083429632,
                    0.12899838760759819,
                    0.10681914870208231,
                    0.13468672238354784,
                    0.12063679927088022,
                    0.11437756444163338,
                    0.07973754245810005,
                    0.04642169862249035,
                    0.10271693078340349,
                    0.10902968623788623,
                    0.09938245702535309,
                    0.12159326581312513,
                    0.11719484378682932,
                    0.11031708434967491,
                    0.12943110986583883,
                    0.12090486435436065,
                    0.1359559896177971,
                    0.1307467693256894,
                    0.09942836183047288,
                    0.12479651477755793,
                    0.11222825189515828,
                    0.11637146468876747,
                    0.12497594451741956,
                    0.1117419764361628,
                    0.10430374653295793,
                    0.11152440507738826,
                    0.11921740125995917,
                    0.12401299069046834,
                    0.12765985054893025,
                    0.13544425863435083
                  ],
                  "xaxis": "x",
                  "y": [
                    0.06595879700269358,
                    0.14695762285245473,
                    0.17192834090166087,
                    0.1389750806222556,
                    0.09551227671738804,
                    0.1334104174325741,
                    0.13025367049950298,
                    0.1257745964218625,
                    0.17343664379287926,
                    0.1341037744185828,
                    0.16777028234338165,
                    0.14342898610094723,
                    0.12512422103186327,
                    0.16249000439984063,
                    0.1543484050695918,
                    0.12770666719270252,
                    0.14157167762253642,
                    0.14910321885868028,
                    0.15997581049187393,
                    0.14893264570402032,
                    0.12072749063518162,
                    0.1251582069302899,
                    0.17300176753364227,
                    0.17126951152218373,
                    0.11578981523818321,
                    0.10838315780498664,
                    0.071133296911287,
                    0.06958996202339673,
                    0.12113068005354266,
                    0.12250655824280554,
                    0.12160214819389159,
                    0.0846838681660953,
                    0.07375999906515696,
                    0.12261344628073101,
                    0.10800686853200325,
                    0.0724846793606354,
                    0.12522680873830183,
                    0.07882880187430175,
                    0.1170640250666437,
                    0.06339332887498794,
                    0.10126138373807392,
                    0.1072825407901099,
                    0.0702300255590913,
                    0.10630429129330532,
                    0.1133350751883202,
                    0.07990315920863467,
                    0.1292481980261223,
                    0.07618106478774311,
                    0.14488057963472867,
                    0.06428168826416347,
                    0.11960469879471547,
                    0.06962409458354735,
                    0.0666962822560101,
                    0.0754864808370449,
                    0.07894276330842631,
                    0.06440674540455393,
                    0.08138691940887433,
                    0.07121625924433905,
                    0.07073500854377168,
                    0.07901405035052833,
                    0.07585918683468185,
                    0.08773849780227083,
                    0.06836404034189925,
                    0.05748208429907886,
                    0.06748838297434667,
                    0.07666681397004915,
                    0.05837120217360936,
                    0.07597137966587653,
                    0.06371391082732858,
                    0.06998822379656067,
                    0.05883034760405759,
                    0.07167277361885949,
                    0.07364961778504886,
                    0.07216944102289768,
                    0.07796341816996921,
                    0.0575509640654841,
                    0.08276313707134031,
                    0.08397442517388931,
                    0.08498289182099594,
                    0.07033442189330885,
                    0.08681073663937056,
                    0.04639092218427343,
                    0.08231033004932198,
                    0.06660413711771451,
                    0.07812372682510382,
                    0.08799926525804236,
                    0.08730603847110485,
                    0.07779555289781614,
                    0.095322807264281,
                    0.053459771919292076,
                    0.0859117650106842,
                    0.06230621486425425,
                    0.06678961506803405,
                    0.0652513406809817,
                    0.05649468408129421,
                    0.07052316750876919,
                    0.08761394795453259,
                    0.06651598908138212,
                    0.07790166730530657,
                    0.10039378217095918,
                    0.047325098313189096,
                    0.09499150134321543,
                    0.07565018486048825,
                    0.1091772587928207,
                    0.09519928526167565,
                    0.09316655520520145,
                    0.06865982495128031,
                    0.0991124929867081,
                    0.09151712981092863,
                    0.10260052783126572,
                    0.09011259776953928,
                    0.09322000781738449,
                    0.0907771860955231,
                    0.09490313262492633,
                    0.09106762499336774,
                    0.09082443115856986,
                    0.08469612970933371,
                    0.07714778261272504,
                    0.07698577598364709,
                    0.08718470352958574,
                    0.08997059833565568,
                    0.09670676969170011,
                    0.08993104838570787,
                    0.08641821756014578,
                    0.08408326962285506,
                    0.08744457278230255,
                    0.05192296765427251,
                    0.06602631696054628,
                    0.04817179349082146,
                    0.05911820854700389,
                    0.07102146466287385,
                    0.05631011182645862,
                    0.07550395526353326,
                    0.05990717849355531,
                    0.05674162014738282,
                    0.05450478506504697,
                    0.05383745690917541,
                    0.06087963551506714,
                    0.05937154495585717,
                    0.06891755453661041,
                    0.0652844314370381,
                    0.06992587513937654,
                    0.06543442802973998,
                    0.06925580074609083,
                    0.051201896968669836,
                    0.06621738555787382,
                    0.0625092087394713,
                    0.058923388684044564,
                    0.0766047680471803,
                    0.06523376874239784,
                    0.1302434802794945,
                    0.09880536145402519,
                    0.12521237362899829,
                    0.1473665517092153,
                    0.11707504401255653,
                    0.09526982902439074,
                    0.16893699562044784,
                    0.09239413029924337,
                    0.15134424858666473,
                    0.11394412490690176,
                    0.09876749560690723,
                    0.1544848737112623,
                    0.14604784694585915,
                    0.13209483086016427,
                    0.12698846090686033,
                    0.15890575732515466,
                    0.10329703292004155,
                    0.1364167129201378,
                    0.15394348686056125,
                    0.11394412490690176,
                    0.14623192955314734,
                    0.0919443864760845,
                    0.14742761296903573,
                    0.10799514470314053,
                    0.092279765883717,
                    0.09731613877628575,
                    0.15833975603983352,
                    0.10016044188134432,
                    0.11454023788167134,
                    0.14118069718573778,
                    0.0848050514829406,
                    0.10710435511891425,
                    0.1366625819387175,
                    0.1486258837056872,
                    0.09425350076963435,
                    0.1413567933194616,
                    0.08958542853420015,
                    0.08691660641080379,
                    0.09747598743571195,
                    0.08230547358041385,
                    0.1028868332936258,
                    0.09007735715404852,
                    0.14789169918078104,
                    0.10333341695561316,
                    0.12664962793002832,
                    0.06838623467458826,
                    0.13753580690970968,
                    0.1032988931896931,
                    0.13426500061994928,
                    0.08265109743033738,
                    0.09426837409994049,
                    0.13447154146714624,
                    0.10011280963683222,
                    0.13049635032416795,
                    0.13850418295211075,
                    0.10015466698111541,
                    0.14371634586216553,
                    0.12338363163862698,
                    0.15141753104820843,
                    0.10729511390752322,
                    0.14504570012177653,
                    0.10638872638080477,
                    0.11222730160571415,
                    0.10708894515631429,
                    0.09213249994753014,
                    0.12675751468496743,
                    0.11165181496667542,
                    0.13405428504491212,
                    0.08273682283200423,
                    0.14003072142905326,
                    0.10880991378501892,
                    0.13196553679914702,
                    0.10850764198716911,
                    0.13693225928003117,
                    0.10681150683739549,
                    0.0893661075479657,
                    0.13438222153118395,
                    0.09320514889542897,
                    0.11967812576292713,
                    0.1424901678194369,
                    0.08755179842933913,
                    0.14533587317231988,
                    0.11400787605363016,
                    0.1512327214274768,
                    0.09947561501685798,
                    0.14876512409209952,
                    0.10758596381844876,
                    0.0997411777202396,
                    0.1020788292065884,
                    0.08460867328407318,
                    0.11730412284698888,
                    0.10295958709618414,
                    0.1482394518887079,
                    0.08099573169685748,
                    0.13965918610477523,
                    0.09189009370031764,
                    0.13303496975325146,
                    0.09326141004260202,
                    0.13883209388956408,
                    0.11171326889384592,
                    0.08793289552753847,
                    0.11095268619083576,
                    0.09621587964799416,
                    0.12006763809669085,
                    0.1219593414532183,
                    0.07986302924303446,
                    0.13826940227392825,
                    0.11731091293840967,
                    0.10139225430746701,
                    0.1131807839583796,
                    0.13186310549494484,
                    0.14593313748921588,
                    0.08391741378891726,
                    0.12139124653469258,
                    0.1271318921604465,
                    0.1354191338920655,
                    0.08334617508954745,
                    0.14064521647113382,
                    0.11843344327492467,
                    0.14680639035507992,
                    0.13472196980106055,
                    0.13364610364201623,
                    0.14017548085838483,
                    0.08385485622799249,
                    0.14892438887723514,
                    0.1282498997935403,
                    0.08394692223745814,
                    0.10235925722750161,
                    0.13945435623900304,
                    0.09215404532963711,
                    0.1302434802794945,
                    0.07477798064821384,
                    0.12686403451833617,
                    0.07606440753833732,
                    0.16258777606075892,
                    0.09071634005536178,
                    0.15040054574980133,
                    0.07451120241528619,
                    0.11698208966478374,
                    0.09106969311153579,
                    0.10914426357886209,
                    0.1480359259287547,
                    0.0888512118793694,
                    0.16636954696705852,
                    0.10859418498945828,
                    0.14161564225866063,
                    0.08493776051808233,
                    0.13769299334219787,
                    0.1184243964666456,
                    0.08791596031664006,
                    0.16559342649453157,
                    0.1324885603670558,
                    0.08042806229594979,
                    0.0942752989691874,
                    0.13571785926250568,
                    0.12221966941929241,
                    0.14159421726221633,
                    0.12425417170438602,
                    0.131890492952633,
                    0.07843709330605231,
                    0.10388755578358777,
                    0.08631076990842257,
                    0.14178470868552373,
                    0.09390603497103123,
                    0.12232066138073716,
                    0.11282461483697792,
                    0.13678830103772888,
                    0.14326138828090373,
                    0.08827542469797467,
                    0.12908476686773485,
                    0.14883031762630827,
                    0.1501245884829474,
                    0.14237226628669541,
                    0.09396865846248736,
                    0.14820553624325772,
                    0.14345268509539444,
                    0.08235327977568763,
                    0.13034936837890632,
                    0.11360516236366625,
                    0.13800050443241008,
                    0.08115061418719316,
                    0.13128373980376484,
                    0.14837442649250632,
                    0.13840006289870732,
                    0.10399795063450656,
                    0.12317491176711592,
                    0.13174169294798288,
                    0.14884898295804505,
                    0.14406784417736163,
                    0.09526433711212379,
                    0.14667464035997013,
                    0.14421903126882196,
                    0.10815915780752772,
                    0.1409269649269157,
                    0.13702774242899185,
                    0.08875760915455033,
                    0.1449866879386129,
                    0.13382073159627295,
                    0.13193155805292922,
                    0.1434671760711107,
                    0.1230414771288676,
                    0.13275872461820526,
                    0.14974927678135386,
                    0.14833567360950606,
                    0.15634211443015766,
                    0.13718974336268508,
                    0.13752939705537748,
                    0.1522731735415822,
                    0.15147324940277862,
                    0.14472145242741885,
                    0.1497473509644106,
                    0.14325248921246836,
                    0.14543772855456172,
                    0.14682949388619926,
                    0.1453986715671769,
                    0.15615975845533225,
                    0.14469633477467736,
                    0.1418592797543975,
                    0.1463311741026878,
                    0.1491916847068242,
                    0.13669066262420038,
                    0.14366894123024576,
                    0.14113268553666702,
                    0.13161547144379349,
                    0.1409011645892675,
                    0.13611688150861367,
                    0.14076081717502553,
                    0.15282303588613577,
                    0.15173051300491014,
                    0.15616907167225447,
                    0.15142921623558314,
                    0.15195922993051036,
                    0.14088867630849966,
                    0.1562653318672791,
                    0.15578585660867905,
                    0.14132438574737416,
                    0.14122021913311433,
                    0.15906719493266852,
                    0.15751023554499344,
                    0.13035857681943375,
                    0.14805257998866672,
                    0.13924309075585517,
                    0.15024008759622232,
                    0.13606503146005633,
                    0.1450368239480092,
                    0.13996377347031486,
                    0.15631825361450102,
                    0.14517394978329212,
                    0.13125220691168682,
                    0.1383828661284474,
                    0.1330050406163208,
                    0.1273555908934212,
                    0.1371434069583548,
                    0.13769183326459478,
                    0.12757995377743225,
                    0.14958913844924016,
                    0.1523619146745675,
                    0.14844597951406058,
                    0.1392180641742521,
                    0.15756409918687586,
                    0.14612177203292043,
                    0.13451137822428993,
                    0.15443754267899956,
                    0.14676940793238602,
                    0.1539652674089843,
                    0.14015172227382933,
                    0.15612518845546375,
                    0.13942832801325877,
                    0.1273067687633208,
                    0.12512162985648034,
                    0.16060777334106946,
                    0.13297007912074033,
                    0.15303958014235108,
                    0.1443361154901861,
                    0.1102092244955889,
                    0.15895883703586,
                    0.16428326219207623,
                    0.1322582225168425,
                    0.15365578430216043,
                    0.16713020094993203,
                    0.14649956197550518,
                    0.0973958325371066,
                    0.1309569187207389,
                    0.16287891986365588,
                    0.1586134797348545,
                    0.16170222336376083,
                    0.09781521749581368,
                    0.14311779381261824,
                    0.13215829634946286,
                    0.16231256418391948,
                    0.1506879997661661,
                    0.16669118585479425,
                    0.14475943246174494,
                    0.09812545024389618,
                    0.16718648742906206,
                    0.13239723895174915,
                    0.15253920875782,
                    0.14776601285458313,
                    0.09772365298116525,
                    0.14639960932688456,
                    0.15056034687913367,
                    0.17210646488090553,
                    0.1496895556247576,
                    0.15005713381798957,
                    0.13937861958935216,
                    0.14293119695079848,
                    0.1402317245537711,
                    0.18660937546360457,
                    0.2271810700378355,
                    0.22188907516538725,
                    0.1695791138471786,
                    0.13836173745785307,
                    0.15572488183958222,
                    0.22197795257010755,
                    0.17278459991838113,
                    0.1646075772025426,
                    0.23469525227947308,
                    0.17192898497305398,
                    0.16095375007734924,
                    0.22197843815602325,
                    0.15548718953972718,
                    0.15435533449913996,
                    0.2311370948756516,
                    0.13254282011971807,
                    0.12785378397271407,
                    0.15181188435860515,
                    0.1687387897440582,
                    0.2010951502340238,
                    0.12407068375541641,
                    0.18184580651411075,
                    0.17594206470009743,
                    0.1561883651192716,
                    0.18793132627023945,
                    0.18022211880305816,
                    0.20144500718967973,
                    0.17670729128299367,
                    0.14290683657742942,
                    0.13762892672121108,
                    0.16779596465357116,
                    0.16651889200753833,
                    0.165455832935951,
                    0.18039151476941584,
                    0.17374491754512522,
                    0.1745292307703452,
                    0.1718555028339408,
                    0.1751338524351811,
                    0.12106576776734346,
                    0.19572217811000936,
                    0.14059691809402908,
                    0.12388092533421158,
                    0.16933433711827028,
                    0.17083870863486816,
                    0.13747401619744626,
                    0.17947196083795325,
                    0.17374943294306355,
                    0.16522890939899182,
                    0.1840080742833895,
                    0.17633595242222955,
                    0.16637789741390507,
                    0.16438577263793708,
                    0.145501260818226,
                    0.16076166586177676,
                    0.14027412134287676,
                    0.170058491863319,
                    0.17559029208074295,
                    0.18093131442762067,
                    0.18418226665966486,
                    0.1916994693074464,
                    0.14812288607974133,
                    0.1727066409852278,
                    0.16343258005182437,
                    0.15863452937868205,
                    0.1737583426145778,
                    0.16547131511420332,
                    0.15300705442809215,
                    0.1634752354899237,
                    0.17701674638753784,
                    0.13000737063039258,
                    0.16412926908827719,
                    0.14297007855746313,
                    0.17307908770641167,
                    0.15064806353382398,
                    0.163353750708217,
                    0.156591266878098,
                    0.14112157438085338,
                    0.1550174868880827,
                    0.1634833474203553,
                    0.16955216920644545,
                    0.1624641978016408,
                    0.1605018716372869,
                    0.16670209854339446,
                    0.15941507992108617,
                    0.1455827289655166,
                    0.14319041262746557,
                    0.15182933378568686,
                    0.1338993726931904,
                    0.15804649776266766,
                    0.15532396252153546,
                    0.16551563447318374,
                    0.14723083493292421,
                    0.14149493151111137,
                    0.16810264815885934,
                    0.1448462843548035,
                    0.1491029109011197,
                    0.15935653188557541,
                    0.1592922165195153,
                    0.14978259771847324,
                    0.158122981017367,
                    0.1425921148131447,
                    0.1713432962913224,
                    0.15696799594007882,
                    0.17764623238726596,
                    0.1572183925380941,
                    0.1716165077557814,
                    0.1480017503738278,
                    0.16617306731174653,
                    0.1351078436850469,
                    0.17861831143681584,
                    0.15909858275989752,
                    0.17394885369956115,
                    0.17522939866354437,
                    0.1447026003698999,
                    0.17467260547602115,
                    0.1735143388134357,
                    0.15547521596371028,
                    0.16869439471809666,
                    0.1473320946938843,
                    0.18395345001936125,
                    0.16160652226972683,
                    0.1809480803175103,
                    0.1861406460830508,
                    0.16430488017552858,
                    0.173355632483027,
                    0.18907021857165573,
                    0.1797521217051825,
                    0.18642028758011642,
                    0.17914464278074127,
                    0.17967834131359484,
                    0.17865431142665145,
                    0.17872406574378874,
                    0.17809729099432547,
                    0.1820852235230479,
                    0.18284391028023683,
                    0.17245082781282728,
                    0.1740438422949393,
                    0.176197923835277,
                    0.16360563376368575,
                    0.1836353597312509,
                    0.1816757704886236
                  ],
                  "yaxis": "y",
                  "type": "scatter"
                }
              ],
              "layout": {
                "template": {
                  "data": {
                    "histogram2dcontour": [
                      {
                        "type": "histogram2dcontour",
                        "colorbar": {
                          "outlinewidth": 0,
                          "ticks": ""
                        },
                        "colorscale": [
                          [
                            0,
                            "#0d0887"
                          ],
                          [
                            0.1111111111111111,
                            "#46039f"
                          ],
                          [
                            0.2222222222222222,
                            "#7201a8"
                          ],
                          [
                            0.3333333333333333,
                            "#9c179e"
                          ],
                          [
                            0.4444444444444444,
                            "#bd3786"
                          ],
                          [
                            0.5555555555555556,
                            "#d8576b"
                          ],
                          [
                            0.6666666666666666,
                            "#ed7953"
                          ],
                          [
                            0.7777777777777778,
                            "#fb9f3a"
                          ],
                          [
                            0.8888888888888888,
                            "#fdca26"
                          ],
                          [
                            1,
                            "#f0f921"
                          ]
                        ]
                      }
                    ],
                    "choropleth": [
                      {
                        "type": "choropleth",
                        "colorbar": {
                          "outlinewidth": 0,
                          "ticks": ""
                        }
                      }
                    ],
                    "histogram2d": [
                      {
                        "type": "histogram2d",
                        "colorbar": {
                          "outlinewidth": 0,
                          "ticks": ""
                        },
                        "colorscale": [
                          [
                            0,
                            "#0d0887"
                          ],
                          [
                            0.1111111111111111,
                            "#46039f"
                          ],
                          [
                            0.2222222222222222,
                            "#7201a8"
                          ],
                          [
                            0.3333333333333333,
                            "#9c179e"
                          ],
                          [
                            0.4444444444444444,
                            "#bd3786"
                          ],
                          [
                            0.5555555555555556,
                            "#d8576b"
                          ],
                          [
                            0.6666666666666666,
                            "#ed7953"
                          ],
                          [
                            0.7777777777777778,
                            "#fb9f3a"
                          ],
                          [
                            0.8888888888888888,
                            "#fdca26"
                          ],
                          [
                            1,
                            "#f0f921"
                          ]
                        ]
                      }
                    ],
                    "heatmap": [
                      {
                        "type": "heatmap",
                        "colorbar": {
                          "outlinewidth": 0,
                          "ticks": ""
                        },
                        "colorscale": [
                          [
                            0,
                            "#0d0887"
                          ],
                          [
                            0.1111111111111111,
                            "#46039f"
                          ],
                          [
                            0.2222222222222222,
                            "#7201a8"
                          ],
                          [
                            0.3333333333333333,
                            "#9c179e"
                          ],
                          [
                            0.4444444444444444,
                            "#bd3786"
                          ],
                          [
                            0.5555555555555556,
                            "#d8576b"
                          ],
                          [
                            0.6666666666666666,
                            "#ed7953"
                          ],
                          [
                            0.7777777777777778,
                            "#fb9f3a"
                          ],
                          [
                            0.8888888888888888,
                            "#fdca26"
                          ],
                          [
                            1,
                            "#f0f921"
                          ]
                        ]
                      }
                    ],
                    "heatmapgl": [
                      {
                        "type": "heatmapgl",
                        "colorbar": {
                          "outlinewidth": 0,
                          "ticks": ""
                        },
                        "colorscale": [
                          [
                            0,
                            "#0d0887"
                          ],
                          [
                            0.1111111111111111,
                            "#46039f"
                          ],
                          [
                            0.2222222222222222,
                            "#7201a8"
                          ],
                          [
                            0.3333333333333333,
                            "#9c179e"
                          ],
                          [
                            0.4444444444444444,
                            "#bd3786"
                          ],
                          [
                            0.5555555555555556,
                            "#d8576b"
                          ],
                          [
                            0.6666666666666666,
                            "#ed7953"
                          ],
                          [
                            0.7777777777777778,
                            "#fb9f3a"
                          ],
                          [
                            0.8888888888888888,
                            "#fdca26"
                          ],
                          [
                            1,
                            "#f0f921"
                          ]
                        ]
                      }
                    ],
                    "contourcarpet": [
                      {
                        "type": "contourcarpet",
                        "colorbar": {
                          "outlinewidth": 0,
                          "ticks": ""
                        }
                      }
                    ],
                    "contour": [
                      {
                        "type": "contour",
                        "colorbar": {
                          "outlinewidth": 0,
                          "ticks": ""
                        },
                        "colorscale": [
                          [
                            0,
                            "#0d0887"
                          ],
                          [
                            0.1111111111111111,
                            "#46039f"
                          ],
                          [
                            0.2222222222222222,
                            "#7201a8"
                          ],
                          [
                            0.3333333333333333,
                            "#9c179e"
                          ],
                          [
                            0.4444444444444444,
                            "#bd3786"
                          ],
                          [
                            0.5555555555555556,
                            "#d8576b"
                          ],
                          [
                            0.6666666666666666,
                            "#ed7953"
                          ],
                          [
                            0.7777777777777778,
                            "#fb9f3a"
                          ],
                          [
                            0.8888888888888888,
                            "#fdca26"
                          ],
                          [
                            1,
                            "#f0f921"
                          ]
                        ]
                      }
                    ],
                    "surface": [
                      {
                        "type": "surface",
                        "colorbar": {
                          "outlinewidth": 0,
                          "ticks": ""
                        },
                        "colorscale": [
                          [
                            0,
                            "#0d0887"
                          ],
                          [
                            0.1111111111111111,
                            "#46039f"
                          ],
                          [
                            0.2222222222222222,
                            "#7201a8"
                          ],
                          [
                            0.3333333333333333,
                            "#9c179e"
                          ],
                          [
                            0.4444444444444444,
                            "#bd3786"
                          ],
                          [
                            0.5555555555555556,
                            "#d8576b"
                          ],
                          [
                            0.6666666666666666,
                            "#ed7953"
                          ],
                          [
                            0.7777777777777778,
                            "#fb9f3a"
                          ],
                          [
                            0.8888888888888888,
                            "#fdca26"
                          ],
                          [
                            1,
                            "#f0f921"
                          ]
                        ]
                      }
                    ],
                    "mesh3d": [
                      {
                        "type": "mesh3d",
                        "colorbar": {
                          "outlinewidth": 0,
                          "ticks": ""
                        }
                      }
                    ],
                    "scatter": [
                      {
                        "fillpattern": {
                          "fillmode": "overlay",
                          "size": 10,
                          "solidity": 0.2
                        },
                        "type": "scatter"
                      }
                    ],
                    "parcoords": [
                      {
                        "type": "parcoords",
                        "line": {
                          "colorbar": {
                            "outlinewidth": 0,
                            "ticks": ""
                          }
                        }
                      }
                    ],
                    "scatterpolargl": [
                      {
                        "type": "scatterpolargl",
                        "marker": {
                          "colorbar": {
                            "outlinewidth": 0,
                            "ticks": ""
                          }
                        }
                      }
                    ],
                    "bar": [
                      {
                        "error_x": {
                          "color": "#2a3f5f"
                        },
                        "error_y": {
                          "color": "#2a3f5f"
                        },
                        "marker": {
                          "line": {
                            "color": "#E5ECF6",
                            "width": 0.5
                          },
                          "pattern": {
                            "fillmode": "overlay",
                            "size": 10,
                            "solidity": 0.2
                          }
                        },
                        "type": "bar"
                      }
                    ],
                    "scattergeo": [
                      {
                        "type": "scattergeo",
                        "marker": {
                          "colorbar": {
                            "outlinewidth": 0,
                            "ticks": ""
                          }
                        }
                      }
                    ],
                    "scatterpolar": [
                      {
                        "type": "scatterpolar",
                        "marker": {
                          "colorbar": {
                            "outlinewidth": 0,
                            "ticks": ""
                          }
                        }
                      }
                    ],
                    "histogram": [
                      {
                        "marker": {
                          "pattern": {
                            "fillmode": "overlay",
                            "size": 10,
                            "solidity": 0.2
                          }
                        },
                        "type": "histogram"
                      }
                    ],
                    "scattergl": [
                      {
                        "type": "scattergl",
                        "marker": {
                          "colorbar": {
                            "outlinewidth": 0,
                            "ticks": ""
                          }
                        }
                      }
                    ],
                    "scatter3d": [
                      {
                        "type": "scatter3d",
                        "line": {
                          "colorbar": {
                            "outlinewidth": 0,
                            "ticks": ""
                          }
                        },
                        "marker": {
                          "colorbar": {
                            "outlinewidth": 0,
                            "ticks": ""
                          }
                        }
                      }
                    ],
                    "scattermapbox": [
                      {
                        "type": "scattermapbox",
                        "marker": {
                          "colorbar": {
                            "outlinewidth": 0,
                            "ticks": ""
                          }
                        }
                      }
                    ],
                    "scatterternary": [
                      {
                        "type": "scatterternary",
                        "marker": {
                          "colorbar": {
                            "outlinewidth": 0,
                            "ticks": ""
                          }
                        }
                      }
                    ],
                    "scattercarpet": [
                      {
                        "type": "scattercarpet",
                        "marker": {
                          "colorbar": {
                            "outlinewidth": 0,
                            "ticks": ""
                          }
                        }
                      }
                    ],
                    "carpet": [
                      {
                        "aaxis": {
                          "endlinecolor": "#2a3f5f",
                          "gridcolor": "white",
                          "linecolor": "white",
                          "minorgridcolor": "white",
                          "startlinecolor": "#2a3f5f"
                        },
                        "baxis": {
                          "endlinecolor": "#2a3f5f",
                          "gridcolor": "white",
                          "linecolor": "white",
                          "minorgridcolor": "white",
                          "startlinecolor": "#2a3f5f"
                        },
                        "type": "carpet"
                      }
                    ],
                    "table": [
                      {
                        "cells": {
                          "fill": {
                            "color": "#EBF0F8"
                          },
                          "line": {
                            "color": "white"
                          }
                        },
                        "header": {
                          "fill": {
                            "color": "#C8D4E3"
                          },
                          "line": {
                            "color": "white"
                          }
                        },
                        "type": "table"
                      }
                    ],
                    "barpolar": [
                      {
                        "marker": {
                          "line": {
                            "color": "#E5ECF6",
                            "width": 0.5
                          },
                          "pattern": {
                            "fillmode": "overlay",
                            "size": 10,
                            "solidity": 0.2
                          }
                        },
                        "type": "barpolar"
                      }
                    ],
                    "pie": [
                      {
                        "automargin": true,
                        "type": "pie"
                      }
                    ]
                  },
                  "layout": {
                    "autotypenumbers": "strict",
                    "colorway": [
                      "#636efa",
                      "#EF553B",
                      "#00cc96",
                      "#ab63fa",
                      "#FFA15A",
                      "#19d3f3",
                      "#FF6692",
                      "#B6E880",
                      "#FF97FF",
                      "#FECB52"
                    ],
                    "font": {
                      "color": "#2a3f5f"
                    },
                    "hovermode": "closest",
                    "hoverlabel": {
                      "align": "left"
                    },
                    "paper_bgcolor": "white",
                    "plot_bgcolor": "#E5ECF6",
                    "polar": {
                      "bgcolor": "#E5ECF6",
                      "angularaxis": {
                        "gridcolor": "white",
                        "linecolor": "white",
                        "ticks": ""
                      },
                      "radialaxis": {
                        "gridcolor": "white",
                        "linecolor": "white",
                        "ticks": ""
                      }
                    },
                    "ternary": {
                      "bgcolor": "#E5ECF6",
                      "aaxis": {
                        "gridcolor": "white",
                        "linecolor": "white",
                        "ticks": ""
                      },
                      "baxis": {
                        "gridcolor": "white",
                        "linecolor": "white",
                        "ticks": ""
                      },
                      "caxis": {
                        "gridcolor": "white",
                        "linecolor": "white",
                        "ticks": ""
                      }
                    },
                    "coloraxis": {
                      "colorbar": {
                        "outlinewidth": 0,
                        "ticks": ""
                      }
                    },
                    "colorscale": {
                      "sequential": [
                        [
                          0,
                          "#0d0887"
                        ],
                        [
                          0.1111111111111111,
                          "#46039f"
                        ],
                        [
                          0.2222222222222222,
                          "#7201a8"
                        ],
                        [
                          0.3333333333333333,
                          "#9c179e"
                        ],
                        [
                          0.4444444444444444,
                          "#bd3786"
                        ],
                        [
                          0.5555555555555556,
                          "#d8576b"
                        ],
                        [
                          0.6666666666666666,
                          "#ed7953"
                        ],
                        [
                          0.7777777777777778,
                          "#fb9f3a"
                        ],
                        [
                          0.8888888888888888,
                          "#fdca26"
                        ],
                        [
                          1,
                          "#f0f921"
                        ]
                      ],
                      "sequentialminus": [
                        [
                          0,
                          "#0d0887"
                        ],
                        [
                          0.1111111111111111,
                          "#46039f"
                        ],
                        [
                          0.2222222222222222,
                          "#7201a8"
                        ],
                        [
                          0.3333333333333333,
                          "#9c179e"
                        ],
                        [
                          0.4444444444444444,
                          "#bd3786"
                        ],
                        [
                          0.5555555555555556,
                          "#d8576b"
                        ],
                        [
                          0.6666666666666666,
                          "#ed7953"
                        ],
                        [
                          0.7777777777777778,
                          "#fb9f3a"
                        ],
                        [
                          0.8888888888888888,
                          "#fdca26"
                        ],
                        [
                          1,
                          "#f0f921"
                        ]
                      ],
                      "diverging": [
                        [
                          0,
                          "#8e0152"
                        ],
                        [
                          0.1,
                          "#c51b7d"
                        ],
                        [
                          0.2,
                          "#de77ae"
                        ],
                        [
                          0.3,
                          "#f1b6da"
                        ],
                        [
                          0.4,
                          "#fde0ef"
                        ],
                        [
                          0.5,
                          "#f7f7f7"
                        ],
                        [
                          0.6,
                          "#e6f5d0"
                        ],
                        [
                          0.7,
                          "#b8e186"
                        ],
                        [
                          0.8,
                          "#7fbc41"
                        ],
                        [
                          0.9,
                          "#4d9221"
                        ],
                        [
                          1,
                          "#276419"
                        ]
                      ]
                    },
                    "xaxis": {
                      "gridcolor": "white",
                      "linecolor": "white",
                      "ticks": "",
                      "title": {
                        "standoff": 15
                      },
                      "zerolinecolor": "white",
                      "automargin": true,
                      "zerolinewidth": 2
                    },
                    "yaxis": {
                      "gridcolor": "white",
                      "linecolor": "white",
                      "ticks": "",
                      "title": {
                        "standoff": 15
                      },
                      "zerolinecolor": "white",
                      "automargin": true,
                      "zerolinewidth": 2
                    },
                    "scene": {
                      "xaxis": {
                        "backgroundcolor": "#E5ECF6",
                        "gridcolor": "white",
                        "linecolor": "white",
                        "showbackground": true,
                        "ticks": "",
                        "zerolinecolor": "white",
                        "gridwidth": 2
                      },
                      "yaxis": {
                        "backgroundcolor": "#E5ECF6",
                        "gridcolor": "white",
                        "linecolor": "white",
                        "showbackground": true,
                        "ticks": "",
                        "zerolinecolor": "white",
                        "gridwidth": 2
                      },
                      "zaxis": {
                        "backgroundcolor": "#E5ECF6",
                        "gridcolor": "white",
                        "linecolor": "white",
                        "showbackground": true,
                        "ticks": "",
                        "zerolinecolor": "white",
                        "gridwidth": 2
                      }
                    },
                    "shapedefaults": {
                      "line": {
                        "color": "#2a3f5f"
                      }
                    },
                    "annotationdefaults": {
                      "arrowcolor": "#2a3f5f",
                      "arrowhead": 0,
                      "arrowwidth": 1
                    },
                    "geo": {
                      "bgcolor": "white",
                      "landcolor": "#E5ECF6",
                      "subunitcolor": "white",
                      "showland": true,
                      "showlakes": true,
                      "lakecolor": "white"
                    },
                    "title": {
                      "x": 0.05
                    },
                    "mapbox": {
                      "style": "light"
                    }
                  }
                },
                "xaxis": {
                  "anchor": "y",
                  "domain": [
                    0,
                    1
                  ],
                  "title": {
                    "text": "closest_cosim"
                  }
                },
                "yaxis": {
                  "anchor": "x",
                  "domain": [
                    0,
                    1
                  ],
                  "title": {
                    "text": "archq1_cosim"
                  }
                },
                "legend": {
                  "tracegroupgap": 0
                },
                "title": {
                  "text": "Comparison of Closest Cosine Similarity to Archetype 1"
                }
              },
              "config": {
                "plotlyServerURL": "https://plot.ly"
              }
            },
            "text/html": "<div>                            <div id=\"b58c1e2b-dcdd-4936-9de2-979b7f1c3269\" class=\"plotly-graph-div\" style=\"height:525px; width:100%;\"></div>            <script type=\"text/javascript\">                require([\"plotly\"], function(Plotly) {                    window.PLOTLYENV=window.PLOTLYENV || {};                                    if (document.getElementById(\"b58c1e2b-dcdd-4936-9de2-979b7f1c3269\")) {                    Plotly.newPlot(                        \"b58c1e2b-dcdd-4936-9de2-979b7f1c3269\",                        [{\"hovertemplate\":\"closest_cosim=%{x}\\u003cbr\\u003earchq1_cosim=%{y}\\u003cextra\\u003e\\u003c\\u002fextra\\u003e\",\"legendgroup\":\"\",\"marker\":{\"color\":\"#636efa\",\"symbol\":\"circle\"},\"mode\":\"markers\",\"name\":\"\",\"orientation\":\"v\",\"showlegend\":false,\"x\":[0.06595879700269358,0.1400309889962853,0.16048872507552492,0.11383665579443725,0.07910549846029369,0.11520151837330106,0.12565420134930871,0.10436907356733582,0.15410573222392876,0.1261215481094632,0.1484042944292675,0.11630370913198729,0.11109835978615967,0.1451157248174223,0.14944096465775547,0.09487103850594814,0.11821614983830764,0.14618515663943055,0.1533541502244965,0.13700411660555423,0.10523179285908535,0.11152903471341913,0.1569140275795503,0.15486792721348464,0.0986977285097802,0.0874856558083541,0.06872481070970948,0.06958996202339673,0.11052911205060423,0.10141733908658601,0.10932510185425803,0.07825589625781704,0.06143920448768281,0.11143918295688904,0.10031344605395753,0.06768842557473331,0.11865466600279839,0.06439801884906016,0.10809502560353657,0.06339332887498794,0.09803244851337367,0.10543917417975379,0.06371990727502597,0.08459331360587152,0.10707043814919726,0.07772717814080199,0.11441872842810963,0.07618106478774311,0.12009218603294358,0.06201053784132993,0.10858515508203748,0.06962409458354735,0.0666962822560101,0.0754864808370449,0.07894276330842631,0.06440674540455393,0.08138691940887433,0.07121625924433905,0.07073500854377168,0.07901405035052833,0.07585918683468185,0.08773849780227083,0.06836404034189925,0.05748208429907886,0.06748838297434667,0.07666681397004915,0.05837120217360936,0.07597137966587653,0.06371391082732858,0.06998822379656067,0.05883034760405759,0.07167277361885949,0.07364961778504886,0.07216944102289768,0.07796341816996921,0.0575509640654841,0.08276313707134031,0.08397442517388931,0.08498289182099594,0.07033442189330885,0.08681073663937056,0.04639092218427343,0.08231033004932198,0.06660413711771451,0.07812372682510382,0.08799926525804236,0.08730603847110485,0.07779555289781614,0.095322807264281,0.053459771919292076,0.0859117650106842,0.06230621486425425,0.06678961506803405,0.0652513406809817,0.05649468408129421,0.07052316750876919,0.08761394795453259,0.06651598908138212,0.07790166730530657,0.10039378217095918,0.047325098313189096,0.09499150134321543,0.07565018486048825,0.1091772587928207,0.09519928526167565,0.09316655520520145,0.06865982495128031,0.0991124929867081,0.08874027210727153,0.10260052783126572,0.09011259776953928,0.09322000781738449,0.0907771860955231,0.09490313262492633,0.09106762499336774,0.09082443115856986,0.08469612970933371,0.07714778261272504,0.07698577598364709,0.08718470352958574,0.08997059833565568,0.09670676969170011,0.08993104838570787,0.08641821756014578,0.08408326962285506,0.08744457278230255,0.05192296765427251,0.06602631696054628,0.04817179349082146,0.05911820854700389,0.07102146466287385,0.05631011182645862,0.07550395526353326,0.05990717849355531,0.05674162014738282,0.05450478506504697,0.05383745690917541,0.06087963551506714,0.05937154495585717,0.06891755453661041,0.0652844314370381,0.06992587513937654,0.06543442802973998,0.06925580074609083,0.051201896968669836,0.06621738555787382,0.0625092087394713,0.058923388684044564,0.0766047680471803,0.06523376874239784,0.12021544477192947,0.08302252424323275,0.12396114729227592,0.12144773077202198,0.0951576379773107,0.08267925358592865,0.15224529567890643,0.07156041625596388,0.11707798050414076,0.10749860495821073,0.08299017896065009,0.11885501830630596,0.11344886330014892,0.11526086175392658,0.1042976526125271,0.14340580261874503,0.08093410647729371,0.12148260194603122,0.10039276717695933,0.10749860495821073,0.13368648789477544,0.0919443864760845,0.12151981741341145,0.08912496755129784,0.06442242598585324,0.07984428180831982,0.11339314809332546,0.09009696745102558,0.08827472499464528,0.10851499645327078,0.07599367327518414,0.08153038157511094,0.11750597861844192,0.10827013443608191,0.09425350076963435,0.12085637058645626,0.08714221276567335,0.08481715562308345,0.06257932599204308,0.08230547358041385,0.08598613104154795,0.09007735715404852,0.11398192075805291,0.10333341695561316,0.11077387244149273,0.06838623467458826,0.10589925347384965,0.09414949341932455,0.10520068614904587,0.07799093588700656,0.09426837409994049,0.12469817780734682,0.09604855944201052,0.11154960760676069,0.12674186918826336,0.09559139654213422,0.12328415486557742,0.10489354819379881,0.09285311482379732,0.09966399165740891,0.12119367034383755,0.09356133893216612,0.10432855107584771,0.09878648185329064,0.09213249994753014,0.10690955823664183,0.10842979721614987,0.10792362468098848,0.08273682283200423,0.12367223591189058,0.10844586651840094,0.11700745786105116,0.08848087063251542,0.12126160950414722,0.09746707401115717,0.0893661075479657,0.12467229780233047,0.08956211538115166,0.10313990652538252,0.12275812745436132,0.08203393089359867,0.12263538017913289,0.09941119626696604,0.0881562609296549,0.09254319048717874,0.12136540221058223,0.09337511742399773,0.09544367603608583,0.09309614700398128,0.08460867328407318,0.09801468112426637,0.10295958709618414,0.10808106271001705,0.08099573169685748,0.11838111906957993,0.0898577564883557,0.11475024955483137,0.08714787001358004,0.12179101535602155,0.09772373415364632,0.08694835091869557,0.10138502997766508,0.09621587964799416,0.10903548411243125,0.09244777195894793,0.07986302924303446,0.12400924979531669,0.11195602295051676,0.09388602528251,0.10990123086622616,0.11092761525282635,0.10467442863047793,0.08391741378891726,0.12139124653469258,0.11182466799755619,0.11950304943935186,0.08334617508954745,0.12461057927355412,0.10103412121929978,0.13790399082136484,0.1268880729391293,0.11434865176570752,0.09425622583998305,0.08385485622799249,0.12841349057964524,0.1152619759969351,0.08394692223745814,0.09364766258184154,0.12004242893293271,0.0825608948670401,0.12021544477192947,0.07477798064821384,0.11171680763638803,0.07606440753833732,0.10558011628929709,0.09071634005536178,0.11742055402353979,0.07451120241528619,0.07434263800524754,0.08733256807131717,0.0923725368819861,0.12019767177045693,0.08588341200729943,0.08755771812183333,0.09378043043570716,0.11568485667304407,0.07625971680968979,0.12604665567787754,0.09703936086223164,0.08110444004903028,0.12542798780538011,0.09231457701865564,0.06559151079540781,0.055490353666507786,0.08071243461693467,0.10560198501419438,0.058105212772708414,0.09306260543042832,0.09691006335381591,0.060943170154337145,0.08886900046228696,0.04340761141428284,0.088237630394576,0.06411585472916081,0.10197804787731368,0.09817885469174781,0.05457671819082577,0.11173523255196094,0.044216651268167206,0.09653973607186861,0.0909146016910719,0.0878144685446659,0.10841048110223428,0.0444967126148047,0.06709153478969154,0.0781671278234215,0.05254282677498934,0.1013255395922773,0.09561968520537711,0.07827685977003485,0.06842089591352296,0.1034713100617356,0.07366359467114703,0.1001956330713113,0.06272925622843384,0.10454655673620683,0.08487139297294644,0.07038877218096051,0.10102686324159116,0.05305013827295202,0.08024228390785626,0.10519509541190475,0.06877127478447154,0.09251883056973487,0.07688219398795304,0.04506521920463491,0.08619669263843488,0.08250995078255219,0.08318261734254462,0.05993002142634973,0.07649816391278186,0.1014442532890174,0.09798088080503564,0.10103165781779389,0.1036190017295574,0.09255026236611663,0.07920484107759085,0.08827313492887079,0.10189406804050372,0.08360221189614303,0.109952446868532,0.07490705210765158,0.12385280007787758,0.07771875040852372,0.10088216958256302,0.11393042368287598,0.08964863165528547,0.11288413419011356,0.10388638612835133,0.09977976662333288,0.085881745739524,0.09003040986413657,0.10739033317556745,0.07241939872533742,0.06668346208094711,0.09314887071763911,0.0774606167648264,0.10888929871592379,0.09153937631009557,0.11388172346739567,0.08697001772197965,0.13198276595700276,0.08227468217577671,0.11139316572368141,0.11535560613994256,0.09218796951495767,0.1104696620418586,0.1238245211850475,0.1062522783958505,0.08299263615250319,0.1013789286439768,0.09475706382472049,0.11543588815165984,0.09913285402036964,0.09848077378896691,0.09190636874031588,0.09959248533333576,0.10718245943501226,0.09508157003866868,0.07332718881059674,0.05381015078360141,0.06888171361806039,0.09819786662599528,0.08876332374858265,0.07433833773406218,0.09552278694165539,0.11650511562716903,0.11753750199906698,0.07605001328082672,0.1139157486992094,0.09806179129483295,0.06145050370646499,0.13489512328268916,0.0714431723805169,0.10173408079264235,0.07269900849499089,0.09758492875899905,0.07172327164336556,0.06880111729030502,0.0745693122932013,0.1003215433766167,0.08681444385965531,0.0974022852827382,0.11287930207608099,0.06496364456993142,0.12878056306409713,0.1306030756769584,0.06829299903291552,0.12048367721085906,0.11873528579087611,0.08538593123198734,0.0629344946112016,0.08298034171588464,0.1275256736813647,0.1128214168836954,0.12087968879955868,0.06354562561701615,0.10537585895973323,0.07392406429331588,0.12469714172584556,0.11403198972590967,0.13417224520865,0.08346266349209475,0.06283709544078553,0.12345504543824792,0.06584863819784703,0.11038498525022677,0.09901839415761926,0.0614194890882801,0.026189207450928897,0.12600694481762453,0.12144524908730858,0.12697805406452656,0.11140878823081724,0.1187471397760883,0.12089842666459905,0.11776905590400966,0.1532248981390093,0.16054869170422514,0.18178382375645286,0.13595278364667307,0.11837328073848852,0.12540852696246252,0.160649109530681,0.13646883017869393,0.12360589629451513,0.22254652230970073,0.13700510979267588,0.13881778824768543,0.182850227920906,0.13149976874104552,0.10939178528712834,0.15250232018964027,0.04313537168450832,0.07807709212060288,0.13215179889710238,0.07349115921283489,0.1494465067064692,0.10074950932734106,0.14210642348848823,0.13655685519215421,0.08780727551223078,0.1283722887532628,0.12416264834837754,0.17092983940977036,0.10023133584942023,0.10947728051059413,0.10408639711438994,0.13128826089494794,0.13732112408738406,0.1345683291760278,0.12143950105982504,0.1146450902290056,0.1306657117524137,0.1343997500046198,0.1093951076690245,0.09587921782601583,0.1272738745586418,0.039044985128985576,0.04778119783572332,0.11363967849949208,0.07042560713042467,0.09094839259487231,0.10305022210720627,0.13355112605464692,0.12209007843664166,0.11604346123478182,0.11255237613657398,0.11224498239327196,0.12367886922713844,0.10620528957388675,0.10693879213296276,0.08959038561963006,0.12379549041461346,0.09335855627254752,0.12188384652340223,0.12345960221283725,0.14193889514627978,0.1072114413619415,0.12480965190171978,0.06241175634197238,0.09762121921742328,0.09730527881676798,0.0991527737926663,0.10826292406448401,0.07867933443662567,0.09628216581317561,0.07275248930379641,0.07577564082361232,0.06706279162678208,0.103154643500448,0.06380426539227568,0.06006278390001063,0.04862538982256903,0.08099745393215796,0.05936369023048804,0.0786939827786467,0.09029097590896684,0.0858421153488228,0.05946982709059412,0.07204225181853896,0.05111130933809904,0.03714440117151541,0.07615217898020543,0.05996597406381088,0.043533289273712805,0.07802533166776116,0.060579463816113566,0.04799714133946775,0.05199098499954713,0.04430431417475844,0.11133703727087985,0.08580463198113253,0.10946412701083497,0.09963590354445984,0.10112050812236895,0.09278879473110424,0.1270473167411621,0.07660794271892246,0.13630090880787504,0.1194865347720464,0.13977135369236082,0.10797787588068453,0.13393265423170775,0.13512118139693152,0.09200328199323282,0.10064246909284025,0.11693723357684582,0.12396519817374951,0.14476301083429632,0.12899838760759819,0.10681914870208231,0.13468672238354784,0.12063679927088022,0.11437756444163338,0.07973754245810005,0.04642169862249035,0.10271693078340349,0.10902968623788623,0.09938245702535309,0.12159326581312513,0.11719484378682932,0.11031708434967491,0.12943110986583883,0.12090486435436065,0.1359559896177971,0.1307467693256894,0.09942836183047288,0.12479651477755793,0.11222825189515828,0.11637146468876747,0.12497594451741956,0.1117419764361628,0.10430374653295793,0.11152440507738826,0.11921740125995917,0.12401299069046834,0.12765985054893025,0.13544425863435083],\"xaxis\":\"x\",\"y\":[0.06595879700269358,0.14695762285245473,0.17192834090166087,0.1389750806222556,0.09551227671738804,0.1334104174325741,0.13025367049950298,0.1257745964218625,0.17343664379287926,0.1341037744185828,0.16777028234338165,0.14342898610094723,0.12512422103186327,0.16249000439984063,0.1543484050695918,0.12770666719270252,0.14157167762253642,0.14910321885868028,0.15997581049187393,0.14893264570402032,0.12072749063518162,0.1251582069302899,0.17300176753364227,0.17126951152218373,0.11578981523818321,0.10838315780498664,0.071133296911287,0.06958996202339673,0.12113068005354266,0.12250655824280554,0.12160214819389159,0.0846838681660953,0.07375999906515696,0.12261344628073101,0.10800686853200325,0.0724846793606354,0.12522680873830183,0.07882880187430175,0.1170640250666437,0.06339332887498794,0.10126138373807392,0.1072825407901099,0.0702300255590913,0.10630429129330532,0.1133350751883202,0.07990315920863467,0.1292481980261223,0.07618106478774311,0.14488057963472867,0.06428168826416347,0.11960469879471547,0.06962409458354735,0.0666962822560101,0.0754864808370449,0.07894276330842631,0.06440674540455393,0.08138691940887433,0.07121625924433905,0.07073500854377168,0.07901405035052833,0.07585918683468185,0.08773849780227083,0.06836404034189925,0.05748208429907886,0.06748838297434667,0.07666681397004915,0.05837120217360936,0.07597137966587653,0.06371391082732858,0.06998822379656067,0.05883034760405759,0.07167277361885949,0.07364961778504886,0.07216944102289768,0.07796341816996921,0.0575509640654841,0.08276313707134031,0.08397442517388931,0.08498289182099594,0.07033442189330885,0.08681073663937056,0.04639092218427343,0.08231033004932198,0.06660413711771451,0.07812372682510382,0.08799926525804236,0.08730603847110485,0.07779555289781614,0.095322807264281,0.053459771919292076,0.0859117650106842,0.06230621486425425,0.06678961506803405,0.0652513406809817,0.05649468408129421,0.07052316750876919,0.08761394795453259,0.06651598908138212,0.07790166730530657,0.10039378217095918,0.047325098313189096,0.09499150134321543,0.07565018486048825,0.1091772587928207,0.09519928526167565,0.09316655520520145,0.06865982495128031,0.0991124929867081,0.09151712981092863,0.10260052783126572,0.09011259776953928,0.09322000781738449,0.0907771860955231,0.09490313262492633,0.09106762499336774,0.09082443115856986,0.08469612970933371,0.07714778261272504,0.07698577598364709,0.08718470352958574,0.08997059833565568,0.09670676969170011,0.08993104838570787,0.08641821756014578,0.08408326962285506,0.08744457278230255,0.05192296765427251,0.06602631696054628,0.04817179349082146,0.05911820854700389,0.07102146466287385,0.05631011182645862,0.07550395526353326,0.05990717849355531,0.05674162014738282,0.05450478506504697,0.05383745690917541,0.06087963551506714,0.05937154495585717,0.06891755453661041,0.0652844314370381,0.06992587513937654,0.06543442802973998,0.06925580074609083,0.051201896968669836,0.06621738555787382,0.0625092087394713,0.058923388684044564,0.0766047680471803,0.06523376874239784,0.1302434802794945,0.09880536145402519,0.12521237362899829,0.1473665517092153,0.11707504401255653,0.09526982902439074,0.16893699562044784,0.09239413029924337,0.15134424858666473,0.11394412490690176,0.09876749560690723,0.1544848737112623,0.14604784694585915,0.13209483086016427,0.12698846090686033,0.15890575732515466,0.10329703292004155,0.1364167129201378,0.15394348686056125,0.11394412490690176,0.14623192955314734,0.0919443864760845,0.14742761296903573,0.10799514470314053,0.092279765883717,0.09731613877628575,0.15833975603983352,0.10016044188134432,0.11454023788167134,0.14118069718573778,0.0848050514829406,0.10710435511891425,0.1366625819387175,0.1486258837056872,0.09425350076963435,0.1413567933194616,0.08958542853420015,0.08691660641080379,0.09747598743571195,0.08230547358041385,0.1028868332936258,0.09007735715404852,0.14789169918078104,0.10333341695561316,0.12664962793002832,0.06838623467458826,0.13753580690970968,0.1032988931896931,0.13426500061994928,0.08265109743033738,0.09426837409994049,0.13447154146714624,0.10011280963683222,0.13049635032416795,0.13850418295211075,0.10015466698111541,0.14371634586216553,0.12338363163862698,0.15141753104820843,0.10729511390752322,0.14504570012177653,0.10638872638080477,0.11222730160571415,0.10708894515631429,0.09213249994753014,0.12675751468496743,0.11165181496667542,0.13405428504491212,0.08273682283200423,0.14003072142905326,0.10880991378501892,0.13196553679914702,0.10850764198716911,0.13693225928003117,0.10681150683739549,0.0893661075479657,0.13438222153118395,0.09320514889542897,0.11967812576292713,0.1424901678194369,0.08755179842933913,0.14533587317231988,0.11400787605363016,0.1512327214274768,0.09947561501685798,0.14876512409209952,0.10758596381844876,0.0997411777202396,0.1020788292065884,0.08460867328407318,0.11730412284698888,0.10295958709618414,0.1482394518887079,0.08099573169685748,0.13965918610477523,0.09189009370031764,0.13303496975325146,0.09326141004260202,0.13883209388956408,0.11171326889384592,0.08793289552753847,0.11095268619083576,0.09621587964799416,0.12006763809669085,0.1219593414532183,0.07986302924303446,0.13826940227392825,0.11731091293840967,0.10139225430746701,0.1131807839583796,0.13186310549494484,0.14593313748921588,0.08391741378891726,0.12139124653469258,0.1271318921604465,0.1354191338920655,0.08334617508954745,0.14064521647113382,0.11843344327492467,0.14680639035507992,0.13472196980106055,0.13364610364201623,0.14017548085838483,0.08385485622799249,0.14892438887723514,0.1282498997935403,0.08394692223745814,0.10235925722750161,0.13945435623900304,0.09215404532963711,0.1302434802794945,0.07477798064821384,0.12686403451833617,0.07606440753833732,0.16258777606075892,0.09071634005536178,0.15040054574980133,0.07451120241528619,0.11698208966478374,0.09106969311153579,0.10914426357886209,0.1480359259287547,0.0888512118793694,0.16636954696705852,0.10859418498945828,0.14161564225866063,0.08493776051808233,0.13769299334219787,0.1184243964666456,0.08791596031664006,0.16559342649453157,0.1324885603670558,0.08042806229594979,0.0942752989691874,0.13571785926250568,0.12221966941929241,0.14159421726221633,0.12425417170438602,0.131890492952633,0.07843709330605231,0.10388755578358777,0.08631076990842257,0.14178470868552373,0.09390603497103123,0.12232066138073716,0.11282461483697792,0.13678830103772888,0.14326138828090373,0.08827542469797467,0.12908476686773485,0.14883031762630827,0.1501245884829474,0.14237226628669541,0.09396865846248736,0.14820553624325772,0.14345268509539444,0.08235327977568763,0.13034936837890632,0.11360516236366625,0.13800050443241008,0.08115061418719316,0.13128373980376484,0.14837442649250632,0.13840006289870732,0.10399795063450656,0.12317491176711592,0.13174169294798288,0.14884898295804505,0.14406784417736163,0.09526433711212379,0.14667464035997013,0.14421903126882196,0.10815915780752772,0.1409269649269157,0.13702774242899185,0.08875760915455033,0.1449866879386129,0.13382073159627295,0.13193155805292922,0.1434671760711107,0.1230414771288676,0.13275872461820526,0.14974927678135386,0.14833567360950606,0.15634211443015766,0.13718974336268508,0.13752939705537748,0.1522731735415822,0.15147324940277862,0.14472145242741885,0.1497473509644106,0.14325248921246836,0.14543772855456172,0.14682949388619926,0.1453986715671769,0.15615975845533225,0.14469633477467736,0.1418592797543975,0.1463311741026878,0.1491916847068242,0.13669066262420038,0.14366894123024576,0.14113268553666702,0.13161547144379349,0.1409011645892675,0.13611688150861367,0.14076081717502553,0.15282303588613577,0.15173051300491014,0.15616907167225447,0.15142921623558314,0.15195922993051036,0.14088867630849966,0.1562653318672791,0.15578585660867905,0.14132438574737416,0.14122021913311433,0.15906719493266852,0.15751023554499344,0.13035857681943375,0.14805257998866672,0.13924309075585517,0.15024008759622232,0.13606503146005633,0.1450368239480092,0.13996377347031486,0.15631825361450102,0.14517394978329212,0.13125220691168682,0.1383828661284474,0.1330050406163208,0.1273555908934212,0.1371434069583548,0.13769183326459478,0.12757995377743225,0.14958913844924016,0.1523619146745675,0.14844597951406058,0.1392180641742521,0.15756409918687586,0.14612177203292043,0.13451137822428993,0.15443754267899956,0.14676940793238602,0.1539652674089843,0.14015172227382933,0.15612518845546375,0.13942832801325877,0.1273067687633208,0.12512162985648034,0.16060777334106946,0.13297007912074033,0.15303958014235108,0.1443361154901861,0.1102092244955889,0.15895883703586,0.16428326219207623,0.1322582225168425,0.15365578430216043,0.16713020094993203,0.14649956197550518,0.0973958325371066,0.1309569187207389,0.16287891986365588,0.1586134797348545,0.16170222336376083,0.09781521749581368,0.14311779381261824,0.13215829634946286,0.16231256418391948,0.1506879997661661,0.16669118585479425,0.14475943246174494,0.09812545024389618,0.16718648742906206,0.13239723895174915,0.15253920875782,0.14776601285458313,0.09772365298116525,0.14639960932688456,0.15056034687913367,0.17210646488090553,0.1496895556247576,0.15005713381798957,0.13937861958935216,0.14293119695079848,0.1402317245537711,0.18660937546360457,0.2271810700378355,0.22188907516538725,0.1695791138471786,0.13836173745785307,0.15572488183958222,0.22197795257010755,0.17278459991838113,0.1646075772025426,0.23469525227947308,0.17192898497305398,0.16095375007734924,0.22197843815602325,0.15548718953972718,0.15435533449913996,0.2311370948756516,0.13254282011971807,0.12785378397271407,0.15181188435860515,0.1687387897440582,0.2010951502340238,0.12407068375541641,0.18184580651411075,0.17594206470009743,0.1561883651192716,0.18793132627023945,0.18022211880305816,0.20144500718967973,0.17670729128299367,0.14290683657742942,0.13762892672121108,0.16779596465357116,0.16651889200753833,0.165455832935951,0.18039151476941584,0.17374491754512522,0.1745292307703452,0.1718555028339408,0.1751338524351811,0.12106576776734346,0.19572217811000936,0.14059691809402908,0.12388092533421158,0.16933433711827028,0.17083870863486816,0.13747401619744626,0.17947196083795325,0.17374943294306355,0.16522890939899182,0.1840080742833895,0.17633595242222955,0.16637789741390507,0.16438577263793708,0.145501260818226,0.16076166586177676,0.14027412134287676,0.170058491863319,0.17559029208074295,0.18093131442762067,0.18418226665966486,0.1916994693074464,0.14812288607974133,0.1727066409852278,0.16343258005182437,0.15863452937868205,0.1737583426145778,0.16547131511420332,0.15300705442809215,0.1634752354899237,0.17701674638753784,0.13000737063039258,0.16412926908827719,0.14297007855746313,0.17307908770641167,0.15064806353382398,0.163353750708217,0.156591266878098,0.14112157438085338,0.1550174868880827,0.1634833474203553,0.16955216920644545,0.1624641978016408,0.1605018716372869,0.16670209854339446,0.15941507992108617,0.1455827289655166,0.14319041262746557,0.15182933378568686,0.1338993726931904,0.15804649776266766,0.15532396252153546,0.16551563447318374,0.14723083493292421,0.14149493151111137,0.16810264815885934,0.1448462843548035,0.1491029109011197,0.15935653188557541,0.1592922165195153,0.14978259771847324,0.158122981017367,0.1425921148131447,0.1713432962913224,0.15696799594007882,0.17764623238726596,0.1572183925380941,0.1716165077557814,0.1480017503738278,0.16617306731174653,0.1351078436850469,0.17861831143681584,0.15909858275989752,0.17394885369956115,0.17522939866354437,0.1447026003698999,0.17467260547602115,0.1735143388134357,0.15547521596371028,0.16869439471809666,0.1473320946938843,0.18395345001936125,0.16160652226972683,0.1809480803175103,0.1861406460830508,0.16430488017552858,0.173355632483027,0.18907021857165573,0.1797521217051825,0.18642028758011642,0.17914464278074127,0.17967834131359484,0.17865431142665145,0.17872406574378874,0.17809729099432547,0.1820852235230479,0.18284391028023683,0.17245082781282728,0.1740438422949393,0.176197923835277,0.16360563376368575,0.1836353597312509,0.1816757704886236],\"yaxis\":\"y\",\"type\":\"scatter\"}],                        {\"template\":{\"data\":{\"histogram2dcontour\":[{\"type\":\"histogram2dcontour\",\"colorbar\":{\"outlinewidth\":0,\"ticks\":\"\"},\"colorscale\":[[0.0,\"#0d0887\"],[0.1111111111111111,\"#46039f\"],[0.2222222222222222,\"#7201a8\"],[0.3333333333333333,\"#9c179e\"],[0.4444444444444444,\"#bd3786\"],[0.5555555555555556,\"#d8576b\"],[0.6666666666666666,\"#ed7953\"],[0.7777777777777778,\"#fb9f3a\"],[0.8888888888888888,\"#fdca26\"],[1.0,\"#f0f921\"]]}],\"choropleth\":[{\"type\":\"choropleth\",\"colorbar\":{\"outlinewidth\":0,\"ticks\":\"\"}}],\"histogram2d\":[{\"type\":\"histogram2d\",\"colorbar\":{\"outlinewidth\":0,\"ticks\":\"\"},\"colorscale\":[[0.0,\"#0d0887\"],[0.1111111111111111,\"#46039f\"],[0.2222222222222222,\"#7201a8\"],[0.3333333333333333,\"#9c179e\"],[0.4444444444444444,\"#bd3786\"],[0.5555555555555556,\"#d8576b\"],[0.6666666666666666,\"#ed7953\"],[0.7777777777777778,\"#fb9f3a\"],[0.8888888888888888,\"#fdca26\"],[1.0,\"#f0f921\"]]}],\"heatmap\":[{\"type\":\"heatmap\",\"colorbar\":{\"outlinewidth\":0,\"ticks\":\"\"},\"colorscale\":[[0.0,\"#0d0887\"],[0.1111111111111111,\"#46039f\"],[0.2222222222222222,\"#7201a8\"],[0.3333333333333333,\"#9c179e\"],[0.4444444444444444,\"#bd3786\"],[0.5555555555555556,\"#d8576b\"],[0.6666666666666666,\"#ed7953\"],[0.7777777777777778,\"#fb9f3a\"],[0.8888888888888888,\"#fdca26\"],[1.0,\"#f0f921\"]]}],\"heatmapgl\":[{\"type\":\"heatmapgl\",\"colorbar\":{\"outlinewidth\":0,\"ticks\":\"\"},\"colorscale\":[[0.0,\"#0d0887\"],[0.1111111111111111,\"#46039f\"],[0.2222222222222222,\"#7201a8\"],[0.3333333333333333,\"#9c179e\"],[0.4444444444444444,\"#bd3786\"],[0.5555555555555556,\"#d8576b\"],[0.6666666666666666,\"#ed7953\"],[0.7777777777777778,\"#fb9f3a\"],[0.8888888888888888,\"#fdca26\"],[1.0,\"#f0f921\"]]}],\"contourcarpet\":[{\"type\":\"contourcarpet\",\"colorbar\":{\"outlinewidth\":0,\"ticks\":\"\"}}],\"contour\":[{\"type\":\"contour\",\"colorbar\":{\"outlinewidth\":0,\"ticks\":\"\"},\"colorscale\":[[0.0,\"#0d0887\"],[0.1111111111111111,\"#46039f\"],[0.2222222222222222,\"#7201a8\"],[0.3333333333333333,\"#9c179e\"],[0.4444444444444444,\"#bd3786\"],[0.5555555555555556,\"#d8576b\"],[0.6666666666666666,\"#ed7953\"],[0.7777777777777778,\"#fb9f3a\"],[0.8888888888888888,\"#fdca26\"],[1.0,\"#f0f921\"]]}],\"surface\":[{\"type\":\"surface\",\"colorbar\":{\"outlinewidth\":0,\"ticks\":\"\"},\"colorscale\":[[0.0,\"#0d0887\"],[0.1111111111111111,\"#46039f\"],[0.2222222222222222,\"#7201a8\"],[0.3333333333333333,\"#9c179e\"],[0.4444444444444444,\"#bd3786\"],[0.5555555555555556,\"#d8576b\"],[0.6666666666666666,\"#ed7953\"],[0.7777777777777778,\"#fb9f3a\"],[0.8888888888888888,\"#fdca26\"],[1.0,\"#f0f921\"]]}],\"mesh3d\":[{\"type\":\"mesh3d\",\"colorbar\":{\"outlinewidth\":0,\"ticks\":\"\"}}],\"scatter\":[{\"fillpattern\":{\"fillmode\":\"overlay\",\"size\":10,\"solidity\":0.2},\"type\":\"scatter\"}],\"parcoords\":[{\"type\":\"parcoords\",\"line\":{\"colorbar\":{\"outlinewidth\":0,\"ticks\":\"\"}}}],\"scatterpolargl\":[{\"type\":\"scatterpolargl\",\"marker\":{\"colorbar\":{\"outlinewidth\":0,\"ticks\":\"\"}}}],\"bar\":[{\"error_x\":{\"color\":\"#2a3f5f\"},\"error_y\":{\"color\":\"#2a3f5f\"},\"marker\":{\"line\":{\"color\":\"#E5ECF6\",\"width\":0.5},\"pattern\":{\"fillmode\":\"overlay\",\"size\":10,\"solidity\":0.2}},\"type\":\"bar\"}],\"scattergeo\":[{\"type\":\"scattergeo\",\"marker\":{\"colorbar\":{\"outlinewidth\":0,\"ticks\":\"\"}}}],\"scatterpolar\":[{\"type\":\"scatterpolar\",\"marker\":{\"colorbar\":{\"outlinewidth\":0,\"ticks\":\"\"}}}],\"histogram\":[{\"marker\":{\"pattern\":{\"fillmode\":\"overlay\",\"size\":10,\"solidity\":0.2}},\"type\":\"histogram\"}],\"scattergl\":[{\"type\":\"scattergl\",\"marker\":{\"colorbar\":{\"outlinewidth\":0,\"ticks\":\"\"}}}],\"scatter3d\":[{\"type\":\"scatter3d\",\"line\":{\"colorbar\":{\"outlinewidth\":0,\"ticks\":\"\"}},\"marker\":{\"colorbar\":{\"outlinewidth\":0,\"ticks\":\"\"}}}],\"scattermapbox\":[{\"type\":\"scattermapbox\",\"marker\":{\"colorbar\":{\"outlinewidth\":0,\"ticks\":\"\"}}}],\"scatterternary\":[{\"type\":\"scatterternary\",\"marker\":{\"colorbar\":{\"outlinewidth\":0,\"ticks\":\"\"}}}],\"scattercarpet\":[{\"type\":\"scattercarpet\",\"marker\":{\"colorbar\":{\"outlinewidth\":0,\"ticks\":\"\"}}}],\"carpet\":[{\"aaxis\":{\"endlinecolor\":\"#2a3f5f\",\"gridcolor\":\"white\",\"linecolor\":\"white\",\"minorgridcolor\":\"white\",\"startlinecolor\":\"#2a3f5f\"},\"baxis\":{\"endlinecolor\":\"#2a3f5f\",\"gridcolor\":\"white\",\"linecolor\":\"white\",\"minorgridcolor\":\"white\",\"startlinecolor\":\"#2a3f5f\"},\"type\":\"carpet\"}],\"table\":[{\"cells\":{\"fill\":{\"color\":\"#EBF0F8\"},\"line\":{\"color\":\"white\"}},\"header\":{\"fill\":{\"color\":\"#C8D4E3\"},\"line\":{\"color\":\"white\"}},\"type\":\"table\"}],\"barpolar\":[{\"marker\":{\"line\":{\"color\":\"#E5ECF6\",\"width\":0.5},\"pattern\":{\"fillmode\":\"overlay\",\"size\":10,\"solidity\":0.2}},\"type\":\"barpolar\"}],\"pie\":[{\"automargin\":true,\"type\":\"pie\"}]},\"layout\":{\"autotypenumbers\":\"strict\",\"colorway\":[\"#636efa\",\"#EF553B\",\"#00cc96\",\"#ab63fa\",\"#FFA15A\",\"#19d3f3\",\"#FF6692\",\"#B6E880\",\"#FF97FF\",\"#FECB52\"],\"font\":{\"color\":\"#2a3f5f\"},\"hovermode\":\"closest\",\"hoverlabel\":{\"align\":\"left\"},\"paper_bgcolor\":\"white\",\"plot_bgcolor\":\"#E5ECF6\",\"polar\":{\"bgcolor\":\"#E5ECF6\",\"angularaxis\":{\"gridcolor\":\"white\",\"linecolor\":\"white\",\"ticks\":\"\"},\"radialaxis\":{\"gridcolor\":\"white\",\"linecolor\":\"white\",\"ticks\":\"\"}},\"ternary\":{\"bgcolor\":\"#E5ECF6\",\"aaxis\":{\"gridcolor\":\"white\",\"linecolor\":\"white\",\"ticks\":\"\"},\"baxis\":{\"gridcolor\":\"white\",\"linecolor\":\"white\",\"ticks\":\"\"},\"caxis\":{\"gridcolor\":\"white\",\"linecolor\":\"white\",\"ticks\":\"\"}},\"coloraxis\":{\"colorbar\":{\"outlinewidth\":0,\"ticks\":\"\"}},\"colorscale\":{\"sequential\":[[0.0,\"#0d0887\"],[0.1111111111111111,\"#46039f\"],[0.2222222222222222,\"#7201a8\"],[0.3333333333333333,\"#9c179e\"],[0.4444444444444444,\"#bd3786\"],[0.5555555555555556,\"#d8576b\"],[0.6666666666666666,\"#ed7953\"],[0.7777777777777778,\"#fb9f3a\"],[0.8888888888888888,\"#fdca26\"],[1.0,\"#f0f921\"]],\"sequentialminus\":[[0.0,\"#0d0887\"],[0.1111111111111111,\"#46039f\"],[0.2222222222222222,\"#7201a8\"],[0.3333333333333333,\"#9c179e\"],[0.4444444444444444,\"#bd3786\"],[0.5555555555555556,\"#d8576b\"],[0.6666666666666666,\"#ed7953\"],[0.7777777777777778,\"#fb9f3a\"],[0.8888888888888888,\"#fdca26\"],[1.0,\"#f0f921\"]],\"diverging\":[[0,\"#8e0152\"],[0.1,\"#c51b7d\"],[0.2,\"#de77ae\"],[0.3,\"#f1b6da\"],[0.4,\"#fde0ef\"],[0.5,\"#f7f7f7\"],[0.6,\"#e6f5d0\"],[0.7,\"#b8e186\"],[0.8,\"#7fbc41\"],[0.9,\"#4d9221\"],[1,\"#276419\"]]},\"xaxis\":{\"gridcolor\":\"white\",\"linecolor\":\"white\",\"ticks\":\"\",\"title\":{\"standoff\":15},\"zerolinecolor\":\"white\",\"automargin\":true,\"zerolinewidth\":2},\"yaxis\":{\"gridcolor\":\"white\",\"linecolor\":\"white\",\"ticks\":\"\",\"title\":{\"standoff\":15},\"zerolinecolor\":\"white\",\"automargin\":true,\"zerolinewidth\":2},\"scene\":{\"xaxis\":{\"backgroundcolor\":\"#E5ECF6\",\"gridcolor\":\"white\",\"linecolor\":\"white\",\"showbackground\":true,\"ticks\":\"\",\"zerolinecolor\":\"white\",\"gridwidth\":2},\"yaxis\":{\"backgroundcolor\":\"#E5ECF6\",\"gridcolor\":\"white\",\"linecolor\":\"white\",\"showbackground\":true,\"ticks\":\"\",\"zerolinecolor\":\"white\",\"gridwidth\":2},\"zaxis\":{\"backgroundcolor\":\"#E5ECF6\",\"gridcolor\":\"white\",\"linecolor\":\"white\",\"showbackground\":true,\"ticks\":\"\",\"zerolinecolor\":\"white\",\"gridwidth\":2}},\"shapedefaults\":{\"line\":{\"color\":\"#2a3f5f\"}},\"annotationdefaults\":{\"arrowcolor\":\"#2a3f5f\",\"arrowhead\":0,\"arrowwidth\":1},\"geo\":{\"bgcolor\":\"white\",\"landcolor\":\"#E5ECF6\",\"subunitcolor\":\"white\",\"showland\":true,\"showlakes\":true,\"lakecolor\":\"white\"},\"title\":{\"x\":0.05},\"mapbox\":{\"style\":\"light\"}}},\"xaxis\":{\"anchor\":\"y\",\"domain\":[0.0,1.0],\"title\":{\"text\":\"closest_cosim\"}},\"yaxis\":{\"anchor\":\"x\",\"domain\":[0.0,1.0],\"title\":{\"text\":\"archq1_cosim\"}},\"legend\":{\"tracegroupgap\":0},\"title\":{\"text\":\"Comparison of Closest Cosine Similarity to Archetype 1\"}},                        {\"responsive\": true}                    ).then(function(){\n                            \nvar gd = document.getElementById('b58c1e2b-dcdd-4936-9de2-979b7f1c3269');\nvar x = new MutationObserver(function (mutations, observer) {{\n        var display = window.getComputedStyle(gd).display;\n        if (!display || display === 'none') {{\n            console.log([gd, 'removed!']);\n            Plotly.purge(gd);\n            observer.disconnect();\n        }}\n}});\n\n// Listen for the removal of the full notebook cells\nvar notebookContainer = gd.closest('#notebook-container');\nif (notebookContainer) {{\n    x.observe(notebookContainer, {childList: true});\n}}\n\n// Listen for the clearing of the current output cell\nvar outputEl = gd.closest('.output');\nif (outputEl) {{\n    x.observe(outputEl, {childList: true});\n}}\n\n                        })                };                });            </script>        </div>"
          },
          "metadata": {}
        },
        {
          "output_type": "display_data",
          "data": {
            "application/vnd.plotly.v1+json": {
              "data": [
                {
                  "hovertemplate": "closest_cosim=%{x}<br>archq2_cosim=%{y}<extra></extra>",
                  "legendgroup": "",
                  "marker": {
                    "color": "#636efa",
                    "symbol": "circle"
                  },
                  "mode": "markers",
                  "name": "",
                  "orientation": "v",
                  "showlegend": false,
                  "x": [
                    0.06595879700269358,
                    0.1400309889962853,
                    0.16048872507552492,
                    0.11383665579443725,
                    0.07910549846029369,
                    0.11520151837330106,
                    0.12565420134930871,
                    0.10436907356733582,
                    0.15410573222392876,
                    0.1261215481094632,
                    0.1484042944292675,
                    0.11630370913198729,
                    0.11109835978615967,
                    0.1451157248174223,
                    0.14944096465775547,
                    0.09487103850594814,
                    0.11821614983830764,
                    0.14618515663943055,
                    0.1533541502244965,
                    0.13700411660555423,
                    0.10523179285908535,
                    0.11152903471341913,
                    0.1569140275795503,
                    0.15486792721348464,
                    0.0986977285097802,
                    0.0874856558083541,
                    0.06872481070970948,
                    0.06958996202339673,
                    0.11052911205060423,
                    0.10141733908658601,
                    0.10932510185425803,
                    0.07825589625781704,
                    0.06143920448768281,
                    0.11143918295688904,
                    0.10031344605395753,
                    0.06768842557473331,
                    0.11865466600279839,
                    0.06439801884906016,
                    0.10809502560353657,
                    0.06339332887498794,
                    0.09803244851337367,
                    0.10543917417975379,
                    0.06371990727502597,
                    0.08459331360587152,
                    0.10707043814919726,
                    0.07772717814080199,
                    0.11441872842810963,
                    0.07618106478774311,
                    0.12009218603294358,
                    0.06201053784132993,
                    0.10858515508203748,
                    0.06962409458354735,
                    0.0666962822560101,
                    0.0754864808370449,
                    0.07894276330842631,
                    0.06440674540455393,
                    0.08138691940887433,
                    0.07121625924433905,
                    0.07073500854377168,
                    0.07901405035052833,
                    0.07585918683468185,
                    0.08773849780227083,
                    0.06836404034189925,
                    0.05748208429907886,
                    0.06748838297434667,
                    0.07666681397004915,
                    0.05837120217360936,
                    0.07597137966587653,
                    0.06371391082732858,
                    0.06998822379656067,
                    0.05883034760405759,
                    0.07167277361885949,
                    0.07364961778504886,
                    0.07216944102289768,
                    0.07796341816996921,
                    0.0575509640654841,
                    0.08276313707134031,
                    0.08397442517388931,
                    0.08498289182099594,
                    0.07033442189330885,
                    0.08681073663937056,
                    0.04639092218427343,
                    0.08231033004932198,
                    0.06660413711771451,
                    0.07812372682510382,
                    0.08799926525804236,
                    0.08730603847110485,
                    0.07779555289781614,
                    0.095322807264281,
                    0.053459771919292076,
                    0.0859117650106842,
                    0.06230621486425425,
                    0.06678961506803405,
                    0.0652513406809817,
                    0.05649468408129421,
                    0.07052316750876919,
                    0.08761394795453259,
                    0.06651598908138212,
                    0.07790166730530657,
                    0.10039378217095918,
                    0.047325098313189096,
                    0.09499150134321543,
                    0.07565018486048825,
                    0.1091772587928207,
                    0.09519928526167565,
                    0.09316655520520145,
                    0.06865982495128031,
                    0.0991124929867081,
                    0.08874027210727153,
                    0.10260052783126572,
                    0.09011259776953928,
                    0.09322000781738449,
                    0.0907771860955231,
                    0.09490313262492633,
                    0.09106762499336774,
                    0.09082443115856986,
                    0.08469612970933371,
                    0.07714778261272504,
                    0.07698577598364709,
                    0.08718470352958574,
                    0.08997059833565568,
                    0.09670676969170011,
                    0.08993104838570787,
                    0.08641821756014578,
                    0.08408326962285506,
                    0.08744457278230255,
                    0.05192296765427251,
                    0.06602631696054628,
                    0.04817179349082146,
                    0.05911820854700389,
                    0.07102146466287385,
                    0.05631011182645862,
                    0.07550395526353326,
                    0.05990717849355531,
                    0.05674162014738282,
                    0.05450478506504697,
                    0.05383745690917541,
                    0.06087963551506714,
                    0.05937154495585717,
                    0.06891755453661041,
                    0.0652844314370381,
                    0.06992587513937654,
                    0.06543442802973998,
                    0.06925580074609083,
                    0.051201896968669836,
                    0.06621738555787382,
                    0.0625092087394713,
                    0.058923388684044564,
                    0.0766047680471803,
                    0.06523376874239784,
                    0.12021544477192947,
                    0.08302252424323275,
                    0.12396114729227592,
                    0.12144773077202198,
                    0.0951576379773107,
                    0.08267925358592865,
                    0.15224529567890643,
                    0.07156041625596388,
                    0.11707798050414076,
                    0.10749860495821073,
                    0.08299017896065009,
                    0.11885501830630596,
                    0.11344886330014892,
                    0.11526086175392658,
                    0.1042976526125271,
                    0.14340580261874503,
                    0.08093410647729371,
                    0.12148260194603122,
                    0.10039276717695933,
                    0.10749860495821073,
                    0.13368648789477544,
                    0.0919443864760845,
                    0.12151981741341145,
                    0.08912496755129784,
                    0.06442242598585324,
                    0.07984428180831982,
                    0.11339314809332546,
                    0.09009696745102558,
                    0.08827472499464528,
                    0.10851499645327078,
                    0.07599367327518414,
                    0.08153038157511094,
                    0.11750597861844192,
                    0.10827013443608191,
                    0.09425350076963435,
                    0.12085637058645626,
                    0.08714221276567335,
                    0.08481715562308345,
                    0.06257932599204308,
                    0.08230547358041385,
                    0.08598613104154795,
                    0.09007735715404852,
                    0.11398192075805291,
                    0.10333341695561316,
                    0.11077387244149273,
                    0.06838623467458826,
                    0.10589925347384965,
                    0.09414949341932455,
                    0.10520068614904587,
                    0.07799093588700656,
                    0.09426837409994049,
                    0.12469817780734682,
                    0.09604855944201052,
                    0.11154960760676069,
                    0.12674186918826336,
                    0.09559139654213422,
                    0.12328415486557742,
                    0.10489354819379881,
                    0.09285311482379732,
                    0.09966399165740891,
                    0.12119367034383755,
                    0.09356133893216612,
                    0.10432855107584771,
                    0.09878648185329064,
                    0.09213249994753014,
                    0.10690955823664183,
                    0.10842979721614987,
                    0.10792362468098848,
                    0.08273682283200423,
                    0.12367223591189058,
                    0.10844586651840094,
                    0.11700745786105116,
                    0.08848087063251542,
                    0.12126160950414722,
                    0.09746707401115717,
                    0.0893661075479657,
                    0.12467229780233047,
                    0.08956211538115166,
                    0.10313990652538252,
                    0.12275812745436132,
                    0.08203393089359867,
                    0.12263538017913289,
                    0.09941119626696604,
                    0.0881562609296549,
                    0.09254319048717874,
                    0.12136540221058223,
                    0.09337511742399773,
                    0.09544367603608583,
                    0.09309614700398128,
                    0.08460867328407318,
                    0.09801468112426637,
                    0.10295958709618414,
                    0.10808106271001705,
                    0.08099573169685748,
                    0.11838111906957993,
                    0.0898577564883557,
                    0.11475024955483137,
                    0.08714787001358004,
                    0.12179101535602155,
                    0.09772373415364632,
                    0.08694835091869557,
                    0.10138502997766508,
                    0.09621587964799416,
                    0.10903548411243125,
                    0.09244777195894793,
                    0.07986302924303446,
                    0.12400924979531669,
                    0.11195602295051676,
                    0.09388602528251,
                    0.10990123086622616,
                    0.11092761525282635,
                    0.10467442863047793,
                    0.08391741378891726,
                    0.12139124653469258,
                    0.11182466799755619,
                    0.11950304943935186,
                    0.08334617508954745,
                    0.12461057927355412,
                    0.10103412121929978,
                    0.13790399082136484,
                    0.1268880729391293,
                    0.11434865176570752,
                    0.09425622583998305,
                    0.08385485622799249,
                    0.12841349057964524,
                    0.1152619759969351,
                    0.08394692223745814,
                    0.09364766258184154,
                    0.12004242893293271,
                    0.0825608948670401,
                    0.12021544477192947,
                    0.07477798064821384,
                    0.11171680763638803,
                    0.07606440753833732,
                    0.10558011628929709,
                    0.09071634005536178,
                    0.11742055402353979,
                    0.07451120241528619,
                    0.07434263800524754,
                    0.08733256807131717,
                    0.0923725368819861,
                    0.12019767177045693,
                    0.08588341200729943,
                    0.08755771812183333,
                    0.09378043043570716,
                    0.11568485667304407,
                    0.07625971680968979,
                    0.12604665567787754,
                    0.09703936086223164,
                    0.08110444004903028,
                    0.12542798780538011,
                    0.09231457701865564,
                    0.06559151079540781,
                    0.055490353666507786,
                    0.08071243461693467,
                    0.10560198501419438,
                    0.058105212772708414,
                    0.09306260543042832,
                    0.09691006335381591,
                    0.060943170154337145,
                    0.08886900046228696,
                    0.04340761141428284,
                    0.088237630394576,
                    0.06411585472916081,
                    0.10197804787731368,
                    0.09817885469174781,
                    0.05457671819082577,
                    0.11173523255196094,
                    0.044216651268167206,
                    0.09653973607186861,
                    0.0909146016910719,
                    0.0878144685446659,
                    0.10841048110223428,
                    0.0444967126148047,
                    0.06709153478969154,
                    0.0781671278234215,
                    0.05254282677498934,
                    0.1013255395922773,
                    0.09561968520537711,
                    0.07827685977003485,
                    0.06842089591352296,
                    0.1034713100617356,
                    0.07366359467114703,
                    0.1001956330713113,
                    0.06272925622843384,
                    0.10454655673620683,
                    0.08487139297294644,
                    0.07038877218096051,
                    0.10102686324159116,
                    0.05305013827295202,
                    0.08024228390785626,
                    0.10519509541190475,
                    0.06877127478447154,
                    0.09251883056973487,
                    0.07688219398795304,
                    0.04506521920463491,
                    0.08619669263843488,
                    0.08250995078255219,
                    0.08318261734254462,
                    0.05993002142634973,
                    0.07649816391278186,
                    0.1014442532890174,
                    0.09798088080503564,
                    0.10103165781779389,
                    0.1036190017295574,
                    0.09255026236611663,
                    0.07920484107759085,
                    0.08827313492887079,
                    0.10189406804050372,
                    0.08360221189614303,
                    0.109952446868532,
                    0.07490705210765158,
                    0.12385280007787758,
                    0.07771875040852372,
                    0.10088216958256302,
                    0.11393042368287598,
                    0.08964863165528547,
                    0.11288413419011356,
                    0.10388638612835133,
                    0.09977976662333288,
                    0.085881745739524,
                    0.09003040986413657,
                    0.10739033317556745,
                    0.07241939872533742,
                    0.06668346208094711,
                    0.09314887071763911,
                    0.0774606167648264,
                    0.10888929871592379,
                    0.09153937631009557,
                    0.11388172346739567,
                    0.08697001772197965,
                    0.13198276595700276,
                    0.08227468217577671,
                    0.11139316572368141,
                    0.11535560613994256,
                    0.09218796951495767,
                    0.1104696620418586,
                    0.1238245211850475,
                    0.1062522783958505,
                    0.08299263615250319,
                    0.1013789286439768,
                    0.09475706382472049,
                    0.11543588815165984,
                    0.09913285402036964,
                    0.09848077378896691,
                    0.09190636874031588,
                    0.09959248533333576,
                    0.10718245943501226,
                    0.09508157003866868,
                    0.07332718881059674,
                    0.05381015078360141,
                    0.06888171361806039,
                    0.09819786662599528,
                    0.08876332374858265,
                    0.07433833773406218,
                    0.09552278694165539,
                    0.11650511562716903,
                    0.11753750199906698,
                    0.07605001328082672,
                    0.1139157486992094,
                    0.09806179129483295,
                    0.06145050370646499,
                    0.13489512328268916,
                    0.0714431723805169,
                    0.10173408079264235,
                    0.07269900849499089,
                    0.09758492875899905,
                    0.07172327164336556,
                    0.06880111729030502,
                    0.0745693122932013,
                    0.1003215433766167,
                    0.08681444385965531,
                    0.0974022852827382,
                    0.11287930207608099,
                    0.06496364456993142,
                    0.12878056306409713,
                    0.1306030756769584,
                    0.06829299903291552,
                    0.12048367721085906,
                    0.11873528579087611,
                    0.08538593123198734,
                    0.0629344946112016,
                    0.08298034171588464,
                    0.1275256736813647,
                    0.1128214168836954,
                    0.12087968879955868,
                    0.06354562561701615,
                    0.10537585895973323,
                    0.07392406429331588,
                    0.12469714172584556,
                    0.11403198972590967,
                    0.13417224520865,
                    0.08346266349209475,
                    0.06283709544078553,
                    0.12345504543824792,
                    0.06584863819784703,
                    0.11038498525022677,
                    0.09901839415761926,
                    0.0614194890882801,
                    0.026189207450928897,
                    0.12600694481762453,
                    0.12144524908730858,
                    0.12697805406452656,
                    0.11140878823081724,
                    0.1187471397760883,
                    0.12089842666459905,
                    0.11776905590400966,
                    0.1532248981390093,
                    0.16054869170422514,
                    0.18178382375645286,
                    0.13595278364667307,
                    0.11837328073848852,
                    0.12540852696246252,
                    0.160649109530681,
                    0.13646883017869393,
                    0.12360589629451513,
                    0.22254652230970073,
                    0.13700510979267588,
                    0.13881778824768543,
                    0.182850227920906,
                    0.13149976874104552,
                    0.10939178528712834,
                    0.15250232018964027,
                    0.04313537168450832,
                    0.07807709212060288,
                    0.13215179889710238,
                    0.07349115921283489,
                    0.1494465067064692,
                    0.10074950932734106,
                    0.14210642348848823,
                    0.13655685519215421,
                    0.08780727551223078,
                    0.1283722887532628,
                    0.12416264834837754,
                    0.17092983940977036,
                    0.10023133584942023,
                    0.10947728051059413,
                    0.10408639711438994,
                    0.13128826089494794,
                    0.13732112408738406,
                    0.1345683291760278,
                    0.12143950105982504,
                    0.1146450902290056,
                    0.1306657117524137,
                    0.1343997500046198,
                    0.1093951076690245,
                    0.09587921782601583,
                    0.1272738745586418,
                    0.039044985128985576,
                    0.04778119783572332,
                    0.11363967849949208,
                    0.07042560713042467,
                    0.09094839259487231,
                    0.10305022210720627,
                    0.13355112605464692,
                    0.12209007843664166,
                    0.11604346123478182,
                    0.11255237613657398,
                    0.11224498239327196,
                    0.12367886922713844,
                    0.10620528957388675,
                    0.10693879213296276,
                    0.08959038561963006,
                    0.12379549041461346,
                    0.09335855627254752,
                    0.12188384652340223,
                    0.12345960221283725,
                    0.14193889514627978,
                    0.1072114413619415,
                    0.12480965190171978,
                    0.06241175634197238,
                    0.09762121921742328,
                    0.09730527881676798,
                    0.0991527737926663,
                    0.10826292406448401,
                    0.07867933443662567,
                    0.09628216581317561,
                    0.07275248930379641,
                    0.07577564082361232,
                    0.06706279162678208,
                    0.103154643500448,
                    0.06380426539227568,
                    0.06006278390001063,
                    0.04862538982256903,
                    0.08099745393215796,
                    0.05936369023048804,
                    0.0786939827786467,
                    0.09029097590896684,
                    0.0858421153488228,
                    0.05946982709059412,
                    0.07204225181853896,
                    0.05111130933809904,
                    0.03714440117151541,
                    0.07615217898020543,
                    0.05996597406381088,
                    0.043533289273712805,
                    0.07802533166776116,
                    0.060579463816113566,
                    0.04799714133946775,
                    0.05199098499954713,
                    0.04430431417475844,
                    0.11133703727087985,
                    0.08580463198113253,
                    0.10946412701083497,
                    0.09963590354445984,
                    0.10112050812236895,
                    0.09278879473110424,
                    0.1270473167411621,
                    0.07660794271892246,
                    0.13630090880787504,
                    0.1194865347720464,
                    0.13977135369236082,
                    0.10797787588068453,
                    0.13393265423170775,
                    0.13512118139693152,
                    0.09200328199323282,
                    0.10064246909284025,
                    0.11693723357684582,
                    0.12396519817374951,
                    0.14476301083429632,
                    0.12899838760759819,
                    0.10681914870208231,
                    0.13468672238354784,
                    0.12063679927088022,
                    0.11437756444163338,
                    0.07973754245810005,
                    0.04642169862249035,
                    0.10271693078340349,
                    0.10902968623788623,
                    0.09938245702535309,
                    0.12159326581312513,
                    0.11719484378682932,
                    0.11031708434967491,
                    0.12943110986583883,
                    0.12090486435436065,
                    0.1359559896177971,
                    0.1307467693256894,
                    0.09942836183047288,
                    0.12479651477755793,
                    0.11222825189515828,
                    0.11637146468876747,
                    0.12497594451741956,
                    0.1117419764361628,
                    0.10430374653295793,
                    0.11152440507738826,
                    0.11921740125995917,
                    0.12401299069046834,
                    0.12765985054893025,
                    0.13544425863435083
                  ],
                  "xaxis": "x",
                  "y": [
                    0.11650042218917811,
                    0.1400309889962853,
                    0.16048872507552492,
                    0.13739054748625368,
                    0.12437785647167032,
                    0.13756224426106112,
                    0.13114122996815514,
                    0.10436907356733582,
                    0.16939188392784055,
                    0.1262898777370448,
                    0.1484042944292675,
                    0.14017095404713498,
                    0.12565812444765712,
                    0.1547369337923622,
                    0.15694226401498168,
                    0.15226024134408456,
                    0.1568076539707841,
                    0.1550985911147159,
                    0.15764176671692176,
                    0.14187361249496633,
                    0.11713370618842278,
                    0.1292615028170978,
                    0.1569140275795503,
                    0.17531574899188718,
                    0.12023341917310926,
                    0.13067036675615906,
                    0.10126133277304217,
                    0.10222578364779478,
                    0.12690506151548375,
                    0.1254019385447015,
                    0.13019293164055756,
                    0.10446443972672448,
                    0.10257964151103738,
                    0.14056401630511794,
                    0.11919664496984173,
                    0.11895217180497075,
                    0.12088086600204562,
                    0.09346664742214617,
                    0.14208400824686696,
                    0.10045281107324844,
                    0.11530519145573581,
                    0.12296715469323338,
                    0.11387425851922606,
                    0.11487530141300273,
                    0.12264310202569506,
                    0.1194027262752907,
                    0.12792996472189533,
                    0.11003253897474685,
                    0.13107857611695428,
                    0.10121629987769443,
                    0.1282620748286022,
                    0.1344679786368993,
                    0.11389269991907847,
                    0.12720011947010956,
                    0.14775860877750646,
                    0.13007381537771467,
                    0.1376820381822046,
                    0.12004862013216033,
                    0.12612347090212583,
                    0.12570739756907612,
                    0.12199203257742186,
                    0.15816716724253377,
                    0.12428606388311914,
                    0.12667390228085762,
                    0.13440969578366635,
                    0.1513254391935367,
                    0.12084470227777477,
                    0.13980730780943618,
                    0.11365080467822453,
                    0.1381033917981005,
                    0.1152414105185553,
                    0.141938694302429,
                    0.1350692374480702,
                    0.12807675759126902,
                    0.13524943356370855,
                    0.13016326810001255,
                    0.14970897298931563,
                    0.13962597020052747,
                    0.12413147411236047,
                    0.1355775952090491,
                    0.11678603909505836,
                    0.11582898248130269,
                    0.15155417924526293,
                    0.13244374631851685,
                    0.13944872319303514,
                    0.1388724929111197,
                    0.12019588127053871,
                    0.14048524436792853,
                    0.13604225181084473,
                    0.12153355805691879,
                    0.14293643650016397,
                    0.12382192163402395,
                    0.1225960352246076,
                    0.12779840905317397,
                    0.12425348319018181,
                    0.13741568734122422,
                    0.14633907300129156,
                    0.1112605538606305,
                    0.12386912987122256,
                    0.142454913587736,
                    0.11696615939310362,
                    0.12637937468812188,
                    0.11837633287580052,
                    0.12978626499087775,
                    0.1342217416653655,
                    0.12413660191285625,
                    0.12333592920829328,
                    0.13447020406888333,
                    0.11164754022681556,
                    0.13264048389072403,
                    0.11619078573659125,
                    0.13075355060282223,
                    0.1192749982519199,
                    0.12758622243917306,
                    0.11185485536767392,
                    0.12396874427484295,
                    0.11445424408428373,
                    0.12498574490657388,
                    0.11739118185516739,
                    0.1237580077198519,
                    0.11485915854123618,
                    0.12427448022017196,
                    0.11551795992435432,
                    0.12101023692302215,
                    0.11400609999937394,
                    0.11353255809742091,
                    0.11034708634020485,
                    0.10606600051964787,
                    0.12100296318341897,
                    0.117116360898183,
                    0.1280829958877946,
                    0.11719129035075626,
                    0.1342421076663386,
                    0.1159286024723567,
                    0.11397033918665,
                    0.11083071736426209,
                    0.12054861990978982,
                    0.10605914065923017,
                    0.11081334331991055,
                    0.12009656488674525,
                    0.11692549876598224,
                    0.10844246767617716,
                    0.11731821196605474,
                    0.11420887977256089,
                    0.11419111183552999,
                    0.11533319224659999,
                    0.10603914546861293,
                    0.11754196988896581,
                    0.1202109104655581,
                    0.11979525447636896,
                    0.12620123030704689,
                    0.09626857395022992,
                    0.1280476569452027,
                    0.12144773077202198,
                    0.12339927648822924,
                    0.08906336593242703,
                    0.1539055770727269,
                    0.10104862925562375,
                    0.11707798050414076,
                    0.12910663060605532,
                    0.0962712324862165,
                    0.11885501830630596,
                    0.13835668786298583,
                    0.11526086175392658,
                    0.13765716943261386,
                    0.14340580261874503,
                    0.10579701709988243,
                    0.12539599839473303,
                    0.10039276717695933,
                    0.12910663060605532,
                    0.14432431733122675,
                    0.11641625301916303,
                    0.12151981741341145,
                    0.12337158973169648,
                    0.10160080640604607,
                    0.10707549007465056,
                    0.11339314809332546,
                    0.11385847316880882,
                    0.11434737345103041,
                    0.10851499645327078,
                    0.09856362454859247,
                    0.08590626533653112,
                    0.14117626601254474,
                    0.10827013443608191,
                    0.12264904665497456,
                    0.12085637058645626,
                    0.10647345518180418,
                    0.11458610825874227,
                    0.085419716778951,
                    0.11969856648606425,
                    0.11330189045493722,
                    0.11519346905758754,
                    0.12816880601745206,
                    0.12321220812764211,
                    0.13782352473586323,
                    0.1034003821336622,
                    0.11052247335127507,
                    0.1255469727002183,
                    0.11714817912720821,
                    0.10371745208309846,
                    0.11408786105984703,
                    0.12639194504990214,
                    0.09977977064510113,
                    0.11160683468054844,
                    0.12712064829972036,
                    0.0991831980958966,
                    0.12630559007297282,
                    0.10863162429897322,
                    0.09285311482379732,
                    0.11063564961449313,
                    0.12119367034383755,
                    0.09565376229757361,
                    0.11442722687792961,
                    0.09914065947344475,
                    0.11219632137378743,
                    0.11201055114574587,
                    0.11139507213618116,
                    0.10792362468098848,
                    0.10273668234171762,
                    0.13401317833759352,
                    0.11853259559150586,
                    0.1289174056002933,
                    0.10150167485772832,
                    0.12126160950414722,
                    0.09836441547606889,
                    0.11147904679189258,
                    0.12632636735085212,
                    0.09922381553417581,
                    0.10876643454282464,
                    0.1293496222727526,
                    0.09568056917403256,
                    0.12367529712057534,
                    0.1084061524850286,
                    0.0881562609296549,
                    0.11165852253883202,
                    0.12136540221058223,
                    0.09715670849216629,
                    0.11209226175728992,
                    0.09635224892005623,
                    0.10639350275730597,
                    0.11252689062157861,
                    0.11237085246878364,
                    0.10808106271001705,
                    0.1025470810051391,
                    0.13499499338546928,
                    0.10392256064181526,
                    0.12986587757983092,
                    0.10449503654173098,
                    0.12179101535602155,
                    0.1041326919496619,
                    0.11179075629987256,
                    0.13303814879088216,
                    0.11454934881384937,
                    0.12019916882878157,
                    0.09244777195894793,
                    0.11715963834397936,
                    0.1509037135148522,
                    0.1280319244616528,
                    0.10776406733619626,
                    0.1241185341891321,
                    0.11092761525282635,
                    0.10467442863047793,
                    0.11676655764061405,
                    0.13125869146134483,
                    0.11182466799755619,
                    0.13559236170871725,
                    0.1186691463938564,
                    0.12815971707213047,
                    0.11883863364043701,
                    0.13790399082136484,
                    0.12706763042197056,
                    0.12754813148094035,
                    0.09425622583998305,
                    0.12388836588850638,
                    0.12841349057964524,
                    0.1168270367565939,
                    0.11809295166971023,
                    0.11071538125060898,
                    0.1291165051281793,
                    0.10604495814034454,
                    0.12620123030704689,
                    0.11088148420074151,
                    0.14001218384931835,
                    0.11687986957400065,
                    0.10558011628929709,
                    0.11792889706494591,
                    0.11742055402353979,
                    0.11889065204675142,
                    0.07434263800524754,
                    0.12012116512700333,
                    0.10967066134659409,
                    0.12019767177045693,
                    0.12130115324275359,
                    0.08755771812183333,
                    0.11490780395450062,
                    0.12945593139478628,
                    0.09615211387014766,
                    0.12722283218849884,
                    0.11732020599296566,
                    0.11594825934897657,
                    0.12542798780538011,
                    0.12639764889264082,
                    0.11692564847713371,
                    0.09606254757855082,
                    0.14461980607041292,
                    0.1493248818193771,
                    0.13794829950122656,
                    0.11841330912069192,
                    0.12641630105468837,
                    0.1061064716978668,
                    0.12355838458828394,
                    0.10871130435948018,
                    0.14766061752157034,
                    0.10077895536490888,
                    0.14131134239195242,
                    0.12962674101362937,
                    0.1351478705848932,
                    0.13653748049695436,
                    0.11466311651251415,
                    0.11853065268431406,
                    0.14538756538799746,
                    0.11925523671791971,
                    0.127282292627101,
                    0.10869028652554791,
                    0.1297585063119635,
                    0.1310382453745389,
                    0.10091239719265843,
                    0.13970983923211144,
                    0.13018073385619555,
                    0.13084460949034027,
                    0.11945834300801617,
                    0.12967617893157068,
                    0.13633305036049803,
                    0.12784377596603225,
                    0.12580795080299945,
                    0.14253788304273418,
                    0.126325308753502,
                    0.14815511203491583,
                    0.12045913585410928,
                    0.10793470000486372,
                    0.12420574512602378,
                    0.14179663563305178,
                    0.1057055865939801,
                    0.1176348496026709,
                    0.13672259031957223,
                    0.1162924806762492,
                    0.12724087174569365,
                    0.1370703269034732,
                    0.11773906286316349,
                    0.13373324413752274,
                    0.12493231607633415,
                    0.12432957918145315,
                    0.12614440624765144,
                    0.13204308482662885,
                    0.156502716705333,
                    0.14021946676295216,
                    0.14044976821471888,
                    0.16529399998881655,
                    0.1249350615117335,
                    0.163764295162923,
                    0.11012447160256789,
                    0.13472895462725298,
                    0.14976049023605986,
                    0.14710569196896373,
                    0.14904314347180625,
                    0.1451495737127988,
                    0.16682529515718636,
                    0.1447064429032292,
                    0.14101049893579098,
                    0.12244769475122563,
                    0.13062441335867447,
                    0.1472059943883115,
                    0.14464378079285045,
                    0.13403011751973626,
                    0.15426686049579585,
                    0.14258927804029664,
                    0.1438507542296159,
                    0.11731300417550417,
                    0.1516575561590422,
                    0.11531743033641073,
                    0.13868277548243346,
                    0.14710120106732327,
                    0.14097334903324066,
                    0.1533738015657603,
                    0.14478113440947826,
                    0.158273037853233,
                    0.13717623573493853,
                    0.1478950255166127,
                    0.1062522783958505,
                    0.1315758823803418,
                    0.13914438547014263,
                    0.12263334108735313,
                    0.1393300008452928,
                    0.1322538881386638,
                    0.14397961134210013,
                    0.1128342384549994,
                    0.14040196299923768,
                    0.14069523677362172,
                    0.13130940889256315,
                    0.14790184234809978,
                    0.14423240328701936,
                    0.13347334863145566,
                    0.13907816941309914,
                    0.1338775040115514,
                    0.12637356798435118,
                    0.10524321491097388,
                    0.1393963784451816,
                    0.14574809406265377,
                    0.1558188037087722,
                    0.1442507295370009,
                    0.13745927755350618,
                    0.1381441625876365,
                    0.15436582292857237,
                    0.13749255849785902,
                    0.10173408079264235,
                    0.15187289483420874,
                    0.11854105034564588,
                    0.1449627388799456,
                    0.13337326951761141,
                    0.1286643362905051,
                    0.1526145045694448,
                    0.12307022621656794,
                    0.11971363989191108,
                    0.1257420733627841,
                    0.11640804482394185,
                    0.12878056306409713,
                    0.1306030756769584,
                    0.13613056092610976,
                    0.13660978007832192,
                    0.11873528579087611,
                    0.13098789665718125,
                    0.10165767247933999,
                    0.13224754857767163,
                    0.1275256736813647,
                    0.1128214168836954,
                    0.1426965355321067,
                    0.10581808786577951,
                    0.1315065465620473,
                    0.13731337380881126,
                    0.12669277414156122,
                    0.13220082093677765,
                    0.13417224520865,
                    0.13023150929545935,
                    0.1022331458737833,
                    0.12345504543824792,
                    0.13523078931100463,
                    0.12045992586055732,
                    0.12269409363063033,
                    0.10102053558762059,
                    0.1467622468995069,
                    0.12600694481762453,
                    0.14216679123403575,
                    0.13366275942741868,
                    0.13287234295952166,
                    0.1187471397760883,
                    0.13487403672575093,
                    0.12722613902385027,
                    0.17357166998649676,
                    0.19228419304010647,
                    0.1956497976723668,
                    0.14835199992151293,
                    0.11837328073848852,
                    0.16751825799159414,
                    0.1715473229666895,
                    0.14809600805923684,
                    0.13277021695828228,
                    0.23761529143740678,
                    0.15114986271674347,
                    0.1587159656931234,
                    0.2060314710985347,
                    0.13149976874104552,
                    0.10939178528712834,
                    0.19443067796116986,
                    0.1257068437871791,
                    0.14396088857642098,
                    0.13215179889710238,
                    0.14523857670258566,
                    0.1923957305770323,
                    0.10239965958331021,
                    0.15581524284321546,
                    0.13655685519215421,
                    0.1462008870868492,
                    0.1283722887532628,
                    0.14080934996210903,
                    0.18040515547163138,
                    0.10023133584942023,
                    0.10947728051059413,
                    0.12059256295864251,
                    0.14713292609596584,
                    0.1635502921037384,
                    0.15369430532580752,
                    0.1457317722876328,
                    0.1450785131791027,
                    0.1306657117524137,
                    0.1343997500046198,
                    0.14752811586012682,
                    0.10319710303083984,
                    0.16045980600329646,
                    0.11999033156001682,
                    0.1403383761139323,
                    0.11363967849949208,
                    0.13244659838598227,
                    0.10110831291435474,
                    0.1370688194839601,
                    0.13677082329160406,
                    0.12209007843664166,
                    0.11604346123478182,
                    0.12117359600383171,
                    0.11224498239327196,
                    0.12367886922713844,
                    0.11957873754610726,
                    0.10693879213296276,
                    0.11441746780405404,
                    0.12379549041461346,
                    0.09335855627254752,
                    0.14122839145409616,
                    0.13919128754597276,
                    0.14193889514627978,
                    0.1072114413619415,
                    0.12480965190171978,
                    0.12081547376530666,
                    0.10465309203562423,
                    0.12088953361547672,
                    0.11251734823286175,
                    0.10826292406448401,
                    0.11707059315432877,
                    0.15030561962560784,
                    0.11791094565738147,
                    0.122451271653776,
                    0.1168511469383211,
                    0.12484338494591762,
                    0.14840255026025562,
                    0.13499998121742485,
                    0.1298963973985705,
                    0.11105891198965268,
                    0.15506555205150752,
                    0.11705097720457103,
                    0.12136904741646926,
                    0.10785059850378065,
                    0.1448079073294869,
                    0.13702318311793538,
                    0.15445964250953403,
                    0.12448886996923125,
                    0.10848492464230541,
                    0.14981203958888178,
                    0.12286158293839888,
                    0.12520333498957692,
                    0.1505930511422855,
                    0.1627229753334688,
                    0.1092196297250958,
                    0.14624078754446734,
                    0.1662341509310893,
                    0.15103401251035242,
                    0.14152341837387605,
                    0.14893498582669384,
                    0.15214476457674309,
                    0.1514683296156456,
                    0.15116633459202766,
                    0.12765012916855634,
                    0.1493092405726869,
                    0.1194865347720464,
                    0.13977135369236082,
                    0.1400367798625618,
                    0.13393265423170775,
                    0.15150939486896398,
                    0.14788313576363776,
                    0.11922318421000722,
                    0.1582489388134889,
                    0.12396519817374951,
                    0.14476301083429632,
                    0.1448958829535566,
                    0.13299205135208925,
                    0.15526661368693073,
                    0.15209429189038126,
                    0.11437756444163338,
                    0.1518565995228437,
                    0.127956999826506,
                    0.1529566884280632,
                    0.13186514451873588,
                    0.13535003078564045,
                    0.15837913773060386,
                    0.12610231470659639,
                    0.14936350414342814,
                    0.14642709077464944,
                    0.13698341595292174,
                    0.15970555649735296,
                    0.1307467693256894,
                    0.14579428710315123,
                    0.14447101767687476,
                    0.12616171241998875,
                    0.1379235604997866,
                    0.15680351479996868,
                    0.15036789560157815,
                    0.14005305871688567,
                    0.13411173384330777,
                    0.14729746948448397,
                    0.12997879371454357,
                    0.14789085490020604,
                    0.14273160445083588
                  ],
                  "yaxis": "y",
                  "type": "scatter"
                }
              ],
              "layout": {
                "template": {
                  "data": {
                    "histogram2dcontour": [
                      {
                        "type": "histogram2dcontour",
                        "colorbar": {
                          "outlinewidth": 0,
                          "ticks": ""
                        },
                        "colorscale": [
                          [
                            0,
                            "#0d0887"
                          ],
                          [
                            0.1111111111111111,
                            "#46039f"
                          ],
                          [
                            0.2222222222222222,
                            "#7201a8"
                          ],
                          [
                            0.3333333333333333,
                            "#9c179e"
                          ],
                          [
                            0.4444444444444444,
                            "#bd3786"
                          ],
                          [
                            0.5555555555555556,
                            "#d8576b"
                          ],
                          [
                            0.6666666666666666,
                            "#ed7953"
                          ],
                          [
                            0.7777777777777778,
                            "#fb9f3a"
                          ],
                          [
                            0.8888888888888888,
                            "#fdca26"
                          ],
                          [
                            1,
                            "#f0f921"
                          ]
                        ]
                      }
                    ],
                    "choropleth": [
                      {
                        "type": "choropleth",
                        "colorbar": {
                          "outlinewidth": 0,
                          "ticks": ""
                        }
                      }
                    ],
                    "histogram2d": [
                      {
                        "type": "histogram2d",
                        "colorbar": {
                          "outlinewidth": 0,
                          "ticks": ""
                        },
                        "colorscale": [
                          [
                            0,
                            "#0d0887"
                          ],
                          [
                            0.1111111111111111,
                            "#46039f"
                          ],
                          [
                            0.2222222222222222,
                            "#7201a8"
                          ],
                          [
                            0.3333333333333333,
                            "#9c179e"
                          ],
                          [
                            0.4444444444444444,
                            "#bd3786"
                          ],
                          [
                            0.5555555555555556,
                            "#d8576b"
                          ],
                          [
                            0.6666666666666666,
                            "#ed7953"
                          ],
                          [
                            0.7777777777777778,
                            "#fb9f3a"
                          ],
                          [
                            0.8888888888888888,
                            "#fdca26"
                          ],
                          [
                            1,
                            "#f0f921"
                          ]
                        ]
                      }
                    ],
                    "heatmap": [
                      {
                        "type": "heatmap",
                        "colorbar": {
                          "outlinewidth": 0,
                          "ticks": ""
                        },
                        "colorscale": [
                          [
                            0,
                            "#0d0887"
                          ],
                          [
                            0.1111111111111111,
                            "#46039f"
                          ],
                          [
                            0.2222222222222222,
                            "#7201a8"
                          ],
                          [
                            0.3333333333333333,
                            "#9c179e"
                          ],
                          [
                            0.4444444444444444,
                            "#bd3786"
                          ],
                          [
                            0.5555555555555556,
                            "#d8576b"
                          ],
                          [
                            0.6666666666666666,
                            "#ed7953"
                          ],
                          [
                            0.7777777777777778,
                            "#fb9f3a"
                          ],
                          [
                            0.8888888888888888,
                            "#fdca26"
                          ],
                          [
                            1,
                            "#f0f921"
                          ]
                        ]
                      }
                    ],
                    "heatmapgl": [
                      {
                        "type": "heatmapgl",
                        "colorbar": {
                          "outlinewidth": 0,
                          "ticks": ""
                        },
                        "colorscale": [
                          [
                            0,
                            "#0d0887"
                          ],
                          [
                            0.1111111111111111,
                            "#46039f"
                          ],
                          [
                            0.2222222222222222,
                            "#7201a8"
                          ],
                          [
                            0.3333333333333333,
                            "#9c179e"
                          ],
                          [
                            0.4444444444444444,
                            "#bd3786"
                          ],
                          [
                            0.5555555555555556,
                            "#d8576b"
                          ],
                          [
                            0.6666666666666666,
                            "#ed7953"
                          ],
                          [
                            0.7777777777777778,
                            "#fb9f3a"
                          ],
                          [
                            0.8888888888888888,
                            "#fdca26"
                          ],
                          [
                            1,
                            "#f0f921"
                          ]
                        ]
                      }
                    ],
                    "contourcarpet": [
                      {
                        "type": "contourcarpet",
                        "colorbar": {
                          "outlinewidth": 0,
                          "ticks": ""
                        }
                      }
                    ],
                    "contour": [
                      {
                        "type": "contour",
                        "colorbar": {
                          "outlinewidth": 0,
                          "ticks": ""
                        },
                        "colorscale": [
                          [
                            0,
                            "#0d0887"
                          ],
                          [
                            0.1111111111111111,
                            "#46039f"
                          ],
                          [
                            0.2222222222222222,
                            "#7201a8"
                          ],
                          [
                            0.3333333333333333,
                            "#9c179e"
                          ],
                          [
                            0.4444444444444444,
                            "#bd3786"
                          ],
                          [
                            0.5555555555555556,
                            "#d8576b"
                          ],
                          [
                            0.6666666666666666,
                            "#ed7953"
                          ],
                          [
                            0.7777777777777778,
                            "#fb9f3a"
                          ],
                          [
                            0.8888888888888888,
                            "#fdca26"
                          ],
                          [
                            1,
                            "#f0f921"
                          ]
                        ]
                      }
                    ],
                    "surface": [
                      {
                        "type": "surface",
                        "colorbar": {
                          "outlinewidth": 0,
                          "ticks": ""
                        },
                        "colorscale": [
                          [
                            0,
                            "#0d0887"
                          ],
                          [
                            0.1111111111111111,
                            "#46039f"
                          ],
                          [
                            0.2222222222222222,
                            "#7201a8"
                          ],
                          [
                            0.3333333333333333,
                            "#9c179e"
                          ],
                          [
                            0.4444444444444444,
                            "#bd3786"
                          ],
                          [
                            0.5555555555555556,
                            "#d8576b"
                          ],
                          [
                            0.6666666666666666,
                            "#ed7953"
                          ],
                          [
                            0.7777777777777778,
                            "#fb9f3a"
                          ],
                          [
                            0.8888888888888888,
                            "#fdca26"
                          ],
                          [
                            1,
                            "#f0f921"
                          ]
                        ]
                      }
                    ],
                    "mesh3d": [
                      {
                        "type": "mesh3d",
                        "colorbar": {
                          "outlinewidth": 0,
                          "ticks": ""
                        }
                      }
                    ],
                    "scatter": [
                      {
                        "fillpattern": {
                          "fillmode": "overlay",
                          "size": 10,
                          "solidity": 0.2
                        },
                        "type": "scatter"
                      }
                    ],
                    "parcoords": [
                      {
                        "type": "parcoords",
                        "line": {
                          "colorbar": {
                            "outlinewidth": 0,
                            "ticks": ""
                          }
                        }
                      }
                    ],
                    "scatterpolargl": [
                      {
                        "type": "scatterpolargl",
                        "marker": {
                          "colorbar": {
                            "outlinewidth": 0,
                            "ticks": ""
                          }
                        }
                      }
                    ],
                    "bar": [
                      {
                        "error_x": {
                          "color": "#2a3f5f"
                        },
                        "error_y": {
                          "color": "#2a3f5f"
                        },
                        "marker": {
                          "line": {
                            "color": "#E5ECF6",
                            "width": 0.5
                          },
                          "pattern": {
                            "fillmode": "overlay",
                            "size": 10,
                            "solidity": 0.2
                          }
                        },
                        "type": "bar"
                      }
                    ],
                    "scattergeo": [
                      {
                        "type": "scattergeo",
                        "marker": {
                          "colorbar": {
                            "outlinewidth": 0,
                            "ticks": ""
                          }
                        }
                      }
                    ],
                    "scatterpolar": [
                      {
                        "type": "scatterpolar",
                        "marker": {
                          "colorbar": {
                            "outlinewidth": 0,
                            "ticks": ""
                          }
                        }
                      }
                    ],
                    "histogram": [
                      {
                        "marker": {
                          "pattern": {
                            "fillmode": "overlay",
                            "size": 10,
                            "solidity": 0.2
                          }
                        },
                        "type": "histogram"
                      }
                    ],
                    "scattergl": [
                      {
                        "type": "scattergl",
                        "marker": {
                          "colorbar": {
                            "outlinewidth": 0,
                            "ticks": ""
                          }
                        }
                      }
                    ],
                    "scatter3d": [
                      {
                        "type": "scatter3d",
                        "line": {
                          "colorbar": {
                            "outlinewidth": 0,
                            "ticks": ""
                          }
                        },
                        "marker": {
                          "colorbar": {
                            "outlinewidth": 0,
                            "ticks": ""
                          }
                        }
                      }
                    ],
                    "scattermapbox": [
                      {
                        "type": "scattermapbox",
                        "marker": {
                          "colorbar": {
                            "outlinewidth": 0,
                            "ticks": ""
                          }
                        }
                      }
                    ],
                    "scatterternary": [
                      {
                        "type": "scatterternary",
                        "marker": {
                          "colorbar": {
                            "outlinewidth": 0,
                            "ticks": ""
                          }
                        }
                      }
                    ],
                    "scattercarpet": [
                      {
                        "type": "scattercarpet",
                        "marker": {
                          "colorbar": {
                            "outlinewidth": 0,
                            "ticks": ""
                          }
                        }
                      }
                    ],
                    "carpet": [
                      {
                        "aaxis": {
                          "endlinecolor": "#2a3f5f",
                          "gridcolor": "white",
                          "linecolor": "white",
                          "minorgridcolor": "white",
                          "startlinecolor": "#2a3f5f"
                        },
                        "baxis": {
                          "endlinecolor": "#2a3f5f",
                          "gridcolor": "white",
                          "linecolor": "white",
                          "minorgridcolor": "white",
                          "startlinecolor": "#2a3f5f"
                        },
                        "type": "carpet"
                      }
                    ],
                    "table": [
                      {
                        "cells": {
                          "fill": {
                            "color": "#EBF0F8"
                          },
                          "line": {
                            "color": "white"
                          }
                        },
                        "header": {
                          "fill": {
                            "color": "#C8D4E3"
                          },
                          "line": {
                            "color": "white"
                          }
                        },
                        "type": "table"
                      }
                    ],
                    "barpolar": [
                      {
                        "marker": {
                          "line": {
                            "color": "#E5ECF6",
                            "width": 0.5
                          },
                          "pattern": {
                            "fillmode": "overlay",
                            "size": 10,
                            "solidity": 0.2
                          }
                        },
                        "type": "barpolar"
                      }
                    ],
                    "pie": [
                      {
                        "automargin": true,
                        "type": "pie"
                      }
                    ]
                  },
                  "layout": {
                    "autotypenumbers": "strict",
                    "colorway": [
                      "#636efa",
                      "#EF553B",
                      "#00cc96",
                      "#ab63fa",
                      "#FFA15A",
                      "#19d3f3",
                      "#FF6692",
                      "#B6E880",
                      "#FF97FF",
                      "#FECB52"
                    ],
                    "font": {
                      "color": "#2a3f5f"
                    },
                    "hovermode": "closest",
                    "hoverlabel": {
                      "align": "left"
                    },
                    "paper_bgcolor": "white",
                    "plot_bgcolor": "#E5ECF6",
                    "polar": {
                      "bgcolor": "#E5ECF6",
                      "angularaxis": {
                        "gridcolor": "white",
                        "linecolor": "white",
                        "ticks": ""
                      },
                      "radialaxis": {
                        "gridcolor": "white",
                        "linecolor": "white",
                        "ticks": ""
                      }
                    },
                    "ternary": {
                      "bgcolor": "#E5ECF6",
                      "aaxis": {
                        "gridcolor": "white",
                        "linecolor": "white",
                        "ticks": ""
                      },
                      "baxis": {
                        "gridcolor": "white",
                        "linecolor": "white",
                        "ticks": ""
                      },
                      "caxis": {
                        "gridcolor": "white",
                        "linecolor": "white",
                        "ticks": ""
                      }
                    },
                    "coloraxis": {
                      "colorbar": {
                        "outlinewidth": 0,
                        "ticks": ""
                      }
                    },
                    "colorscale": {
                      "sequential": [
                        [
                          0,
                          "#0d0887"
                        ],
                        [
                          0.1111111111111111,
                          "#46039f"
                        ],
                        [
                          0.2222222222222222,
                          "#7201a8"
                        ],
                        [
                          0.3333333333333333,
                          "#9c179e"
                        ],
                        [
                          0.4444444444444444,
                          "#bd3786"
                        ],
                        [
                          0.5555555555555556,
                          "#d8576b"
                        ],
                        [
                          0.6666666666666666,
                          "#ed7953"
                        ],
                        [
                          0.7777777777777778,
                          "#fb9f3a"
                        ],
                        [
                          0.8888888888888888,
                          "#fdca26"
                        ],
                        [
                          1,
                          "#f0f921"
                        ]
                      ],
                      "sequentialminus": [
                        [
                          0,
                          "#0d0887"
                        ],
                        [
                          0.1111111111111111,
                          "#46039f"
                        ],
                        [
                          0.2222222222222222,
                          "#7201a8"
                        ],
                        [
                          0.3333333333333333,
                          "#9c179e"
                        ],
                        [
                          0.4444444444444444,
                          "#bd3786"
                        ],
                        [
                          0.5555555555555556,
                          "#d8576b"
                        ],
                        [
                          0.6666666666666666,
                          "#ed7953"
                        ],
                        [
                          0.7777777777777778,
                          "#fb9f3a"
                        ],
                        [
                          0.8888888888888888,
                          "#fdca26"
                        ],
                        [
                          1,
                          "#f0f921"
                        ]
                      ],
                      "diverging": [
                        [
                          0,
                          "#8e0152"
                        ],
                        [
                          0.1,
                          "#c51b7d"
                        ],
                        [
                          0.2,
                          "#de77ae"
                        ],
                        [
                          0.3,
                          "#f1b6da"
                        ],
                        [
                          0.4,
                          "#fde0ef"
                        ],
                        [
                          0.5,
                          "#f7f7f7"
                        ],
                        [
                          0.6,
                          "#e6f5d0"
                        ],
                        [
                          0.7,
                          "#b8e186"
                        ],
                        [
                          0.8,
                          "#7fbc41"
                        ],
                        [
                          0.9,
                          "#4d9221"
                        ],
                        [
                          1,
                          "#276419"
                        ]
                      ]
                    },
                    "xaxis": {
                      "gridcolor": "white",
                      "linecolor": "white",
                      "ticks": "",
                      "title": {
                        "standoff": 15
                      },
                      "zerolinecolor": "white",
                      "automargin": true,
                      "zerolinewidth": 2
                    },
                    "yaxis": {
                      "gridcolor": "white",
                      "linecolor": "white",
                      "ticks": "",
                      "title": {
                        "standoff": 15
                      },
                      "zerolinecolor": "white",
                      "automargin": true,
                      "zerolinewidth": 2
                    },
                    "scene": {
                      "xaxis": {
                        "backgroundcolor": "#E5ECF6",
                        "gridcolor": "white",
                        "linecolor": "white",
                        "showbackground": true,
                        "ticks": "",
                        "zerolinecolor": "white",
                        "gridwidth": 2
                      },
                      "yaxis": {
                        "backgroundcolor": "#E5ECF6",
                        "gridcolor": "white",
                        "linecolor": "white",
                        "showbackground": true,
                        "ticks": "",
                        "zerolinecolor": "white",
                        "gridwidth": 2
                      },
                      "zaxis": {
                        "backgroundcolor": "#E5ECF6",
                        "gridcolor": "white",
                        "linecolor": "white",
                        "showbackground": true,
                        "ticks": "",
                        "zerolinecolor": "white",
                        "gridwidth": 2
                      }
                    },
                    "shapedefaults": {
                      "line": {
                        "color": "#2a3f5f"
                      }
                    },
                    "annotationdefaults": {
                      "arrowcolor": "#2a3f5f",
                      "arrowhead": 0,
                      "arrowwidth": 1
                    },
                    "geo": {
                      "bgcolor": "white",
                      "landcolor": "#E5ECF6",
                      "subunitcolor": "white",
                      "showland": true,
                      "showlakes": true,
                      "lakecolor": "white"
                    },
                    "title": {
                      "x": 0.05
                    },
                    "mapbox": {
                      "style": "light"
                    }
                  }
                },
                "xaxis": {
                  "anchor": "y",
                  "domain": [
                    0,
                    1
                  ],
                  "title": {
                    "text": "closest_cosim"
                  }
                },
                "yaxis": {
                  "anchor": "x",
                  "domain": [
                    0,
                    1
                  ],
                  "title": {
                    "text": "archq2_cosim"
                  }
                },
                "legend": {
                  "tracegroupgap": 0
                },
                "title": {
                  "text": "Comparison of Closest Cosine Similarity to Archetype 2"
                }
              },
              "config": {
                "plotlyServerURL": "https://plot.ly"
              }
            },
            "text/html": "<div>                            <div id=\"ee409eca-5cce-4775-bc68-b5582294c469\" class=\"plotly-graph-div\" style=\"height:525px; width:100%;\"></div>            <script type=\"text/javascript\">                require([\"plotly\"], function(Plotly) {                    window.PLOTLYENV=window.PLOTLYENV || {};                                    if (document.getElementById(\"ee409eca-5cce-4775-bc68-b5582294c469\")) {                    Plotly.newPlot(                        \"ee409eca-5cce-4775-bc68-b5582294c469\",                        [{\"hovertemplate\":\"closest_cosim=%{x}\\u003cbr\\u003earchq2_cosim=%{y}\\u003cextra\\u003e\\u003c\\u002fextra\\u003e\",\"legendgroup\":\"\",\"marker\":{\"color\":\"#636efa\",\"symbol\":\"circle\"},\"mode\":\"markers\",\"name\":\"\",\"orientation\":\"v\",\"showlegend\":false,\"x\":[0.06595879700269358,0.1400309889962853,0.16048872507552492,0.11383665579443725,0.07910549846029369,0.11520151837330106,0.12565420134930871,0.10436907356733582,0.15410573222392876,0.1261215481094632,0.1484042944292675,0.11630370913198729,0.11109835978615967,0.1451157248174223,0.14944096465775547,0.09487103850594814,0.11821614983830764,0.14618515663943055,0.1533541502244965,0.13700411660555423,0.10523179285908535,0.11152903471341913,0.1569140275795503,0.15486792721348464,0.0986977285097802,0.0874856558083541,0.06872481070970948,0.06958996202339673,0.11052911205060423,0.10141733908658601,0.10932510185425803,0.07825589625781704,0.06143920448768281,0.11143918295688904,0.10031344605395753,0.06768842557473331,0.11865466600279839,0.06439801884906016,0.10809502560353657,0.06339332887498794,0.09803244851337367,0.10543917417975379,0.06371990727502597,0.08459331360587152,0.10707043814919726,0.07772717814080199,0.11441872842810963,0.07618106478774311,0.12009218603294358,0.06201053784132993,0.10858515508203748,0.06962409458354735,0.0666962822560101,0.0754864808370449,0.07894276330842631,0.06440674540455393,0.08138691940887433,0.07121625924433905,0.07073500854377168,0.07901405035052833,0.07585918683468185,0.08773849780227083,0.06836404034189925,0.05748208429907886,0.06748838297434667,0.07666681397004915,0.05837120217360936,0.07597137966587653,0.06371391082732858,0.06998822379656067,0.05883034760405759,0.07167277361885949,0.07364961778504886,0.07216944102289768,0.07796341816996921,0.0575509640654841,0.08276313707134031,0.08397442517388931,0.08498289182099594,0.07033442189330885,0.08681073663937056,0.04639092218427343,0.08231033004932198,0.06660413711771451,0.07812372682510382,0.08799926525804236,0.08730603847110485,0.07779555289781614,0.095322807264281,0.053459771919292076,0.0859117650106842,0.06230621486425425,0.06678961506803405,0.0652513406809817,0.05649468408129421,0.07052316750876919,0.08761394795453259,0.06651598908138212,0.07790166730530657,0.10039378217095918,0.047325098313189096,0.09499150134321543,0.07565018486048825,0.1091772587928207,0.09519928526167565,0.09316655520520145,0.06865982495128031,0.0991124929867081,0.08874027210727153,0.10260052783126572,0.09011259776953928,0.09322000781738449,0.0907771860955231,0.09490313262492633,0.09106762499336774,0.09082443115856986,0.08469612970933371,0.07714778261272504,0.07698577598364709,0.08718470352958574,0.08997059833565568,0.09670676969170011,0.08993104838570787,0.08641821756014578,0.08408326962285506,0.08744457278230255,0.05192296765427251,0.06602631696054628,0.04817179349082146,0.05911820854700389,0.07102146466287385,0.05631011182645862,0.07550395526353326,0.05990717849355531,0.05674162014738282,0.05450478506504697,0.05383745690917541,0.06087963551506714,0.05937154495585717,0.06891755453661041,0.0652844314370381,0.06992587513937654,0.06543442802973998,0.06925580074609083,0.051201896968669836,0.06621738555787382,0.0625092087394713,0.058923388684044564,0.0766047680471803,0.06523376874239784,0.12021544477192947,0.08302252424323275,0.12396114729227592,0.12144773077202198,0.0951576379773107,0.08267925358592865,0.15224529567890643,0.07156041625596388,0.11707798050414076,0.10749860495821073,0.08299017896065009,0.11885501830630596,0.11344886330014892,0.11526086175392658,0.1042976526125271,0.14340580261874503,0.08093410647729371,0.12148260194603122,0.10039276717695933,0.10749860495821073,0.13368648789477544,0.0919443864760845,0.12151981741341145,0.08912496755129784,0.06442242598585324,0.07984428180831982,0.11339314809332546,0.09009696745102558,0.08827472499464528,0.10851499645327078,0.07599367327518414,0.08153038157511094,0.11750597861844192,0.10827013443608191,0.09425350076963435,0.12085637058645626,0.08714221276567335,0.08481715562308345,0.06257932599204308,0.08230547358041385,0.08598613104154795,0.09007735715404852,0.11398192075805291,0.10333341695561316,0.11077387244149273,0.06838623467458826,0.10589925347384965,0.09414949341932455,0.10520068614904587,0.07799093588700656,0.09426837409994049,0.12469817780734682,0.09604855944201052,0.11154960760676069,0.12674186918826336,0.09559139654213422,0.12328415486557742,0.10489354819379881,0.09285311482379732,0.09966399165740891,0.12119367034383755,0.09356133893216612,0.10432855107584771,0.09878648185329064,0.09213249994753014,0.10690955823664183,0.10842979721614987,0.10792362468098848,0.08273682283200423,0.12367223591189058,0.10844586651840094,0.11700745786105116,0.08848087063251542,0.12126160950414722,0.09746707401115717,0.0893661075479657,0.12467229780233047,0.08956211538115166,0.10313990652538252,0.12275812745436132,0.08203393089359867,0.12263538017913289,0.09941119626696604,0.0881562609296549,0.09254319048717874,0.12136540221058223,0.09337511742399773,0.09544367603608583,0.09309614700398128,0.08460867328407318,0.09801468112426637,0.10295958709618414,0.10808106271001705,0.08099573169685748,0.11838111906957993,0.0898577564883557,0.11475024955483137,0.08714787001358004,0.12179101535602155,0.09772373415364632,0.08694835091869557,0.10138502997766508,0.09621587964799416,0.10903548411243125,0.09244777195894793,0.07986302924303446,0.12400924979531669,0.11195602295051676,0.09388602528251,0.10990123086622616,0.11092761525282635,0.10467442863047793,0.08391741378891726,0.12139124653469258,0.11182466799755619,0.11950304943935186,0.08334617508954745,0.12461057927355412,0.10103412121929978,0.13790399082136484,0.1268880729391293,0.11434865176570752,0.09425622583998305,0.08385485622799249,0.12841349057964524,0.1152619759969351,0.08394692223745814,0.09364766258184154,0.12004242893293271,0.0825608948670401,0.12021544477192947,0.07477798064821384,0.11171680763638803,0.07606440753833732,0.10558011628929709,0.09071634005536178,0.11742055402353979,0.07451120241528619,0.07434263800524754,0.08733256807131717,0.0923725368819861,0.12019767177045693,0.08588341200729943,0.08755771812183333,0.09378043043570716,0.11568485667304407,0.07625971680968979,0.12604665567787754,0.09703936086223164,0.08110444004903028,0.12542798780538011,0.09231457701865564,0.06559151079540781,0.055490353666507786,0.08071243461693467,0.10560198501419438,0.058105212772708414,0.09306260543042832,0.09691006335381591,0.060943170154337145,0.08886900046228696,0.04340761141428284,0.088237630394576,0.06411585472916081,0.10197804787731368,0.09817885469174781,0.05457671819082577,0.11173523255196094,0.044216651268167206,0.09653973607186861,0.0909146016910719,0.0878144685446659,0.10841048110223428,0.0444967126148047,0.06709153478969154,0.0781671278234215,0.05254282677498934,0.1013255395922773,0.09561968520537711,0.07827685977003485,0.06842089591352296,0.1034713100617356,0.07366359467114703,0.1001956330713113,0.06272925622843384,0.10454655673620683,0.08487139297294644,0.07038877218096051,0.10102686324159116,0.05305013827295202,0.08024228390785626,0.10519509541190475,0.06877127478447154,0.09251883056973487,0.07688219398795304,0.04506521920463491,0.08619669263843488,0.08250995078255219,0.08318261734254462,0.05993002142634973,0.07649816391278186,0.1014442532890174,0.09798088080503564,0.10103165781779389,0.1036190017295574,0.09255026236611663,0.07920484107759085,0.08827313492887079,0.10189406804050372,0.08360221189614303,0.109952446868532,0.07490705210765158,0.12385280007787758,0.07771875040852372,0.10088216958256302,0.11393042368287598,0.08964863165528547,0.11288413419011356,0.10388638612835133,0.09977976662333288,0.085881745739524,0.09003040986413657,0.10739033317556745,0.07241939872533742,0.06668346208094711,0.09314887071763911,0.0774606167648264,0.10888929871592379,0.09153937631009557,0.11388172346739567,0.08697001772197965,0.13198276595700276,0.08227468217577671,0.11139316572368141,0.11535560613994256,0.09218796951495767,0.1104696620418586,0.1238245211850475,0.1062522783958505,0.08299263615250319,0.1013789286439768,0.09475706382472049,0.11543588815165984,0.09913285402036964,0.09848077378896691,0.09190636874031588,0.09959248533333576,0.10718245943501226,0.09508157003866868,0.07332718881059674,0.05381015078360141,0.06888171361806039,0.09819786662599528,0.08876332374858265,0.07433833773406218,0.09552278694165539,0.11650511562716903,0.11753750199906698,0.07605001328082672,0.1139157486992094,0.09806179129483295,0.06145050370646499,0.13489512328268916,0.0714431723805169,0.10173408079264235,0.07269900849499089,0.09758492875899905,0.07172327164336556,0.06880111729030502,0.0745693122932013,0.1003215433766167,0.08681444385965531,0.0974022852827382,0.11287930207608099,0.06496364456993142,0.12878056306409713,0.1306030756769584,0.06829299903291552,0.12048367721085906,0.11873528579087611,0.08538593123198734,0.0629344946112016,0.08298034171588464,0.1275256736813647,0.1128214168836954,0.12087968879955868,0.06354562561701615,0.10537585895973323,0.07392406429331588,0.12469714172584556,0.11403198972590967,0.13417224520865,0.08346266349209475,0.06283709544078553,0.12345504543824792,0.06584863819784703,0.11038498525022677,0.09901839415761926,0.0614194890882801,0.026189207450928897,0.12600694481762453,0.12144524908730858,0.12697805406452656,0.11140878823081724,0.1187471397760883,0.12089842666459905,0.11776905590400966,0.1532248981390093,0.16054869170422514,0.18178382375645286,0.13595278364667307,0.11837328073848852,0.12540852696246252,0.160649109530681,0.13646883017869393,0.12360589629451513,0.22254652230970073,0.13700510979267588,0.13881778824768543,0.182850227920906,0.13149976874104552,0.10939178528712834,0.15250232018964027,0.04313537168450832,0.07807709212060288,0.13215179889710238,0.07349115921283489,0.1494465067064692,0.10074950932734106,0.14210642348848823,0.13655685519215421,0.08780727551223078,0.1283722887532628,0.12416264834837754,0.17092983940977036,0.10023133584942023,0.10947728051059413,0.10408639711438994,0.13128826089494794,0.13732112408738406,0.1345683291760278,0.12143950105982504,0.1146450902290056,0.1306657117524137,0.1343997500046198,0.1093951076690245,0.09587921782601583,0.1272738745586418,0.039044985128985576,0.04778119783572332,0.11363967849949208,0.07042560713042467,0.09094839259487231,0.10305022210720627,0.13355112605464692,0.12209007843664166,0.11604346123478182,0.11255237613657398,0.11224498239327196,0.12367886922713844,0.10620528957388675,0.10693879213296276,0.08959038561963006,0.12379549041461346,0.09335855627254752,0.12188384652340223,0.12345960221283725,0.14193889514627978,0.1072114413619415,0.12480965190171978,0.06241175634197238,0.09762121921742328,0.09730527881676798,0.0991527737926663,0.10826292406448401,0.07867933443662567,0.09628216581317561,0.07275248930379641,0.07577564082361232,0.06706279162678208,0.103154643500448,0.06380426539227568,0.06006278390001063,0.04862538982256903,0.08099745393215796,0.05936369023048804,0.0786939827786467,0.09029097590896684,0.0858421153488228,0.05946982709059412,0.07204225181853896,0.05111130933809904,0.03714440117151541,0.07615217898020543,0.05996597406381088,0.043533289273712805,0.07802533166776116,0.060579463816113566,0.04799714133946775,0.05199098499954713,0.04430431417475844,0.11133703727087985,0.08580463198113253,0.10946412701083497,0.09963590354445984,0.10112050812236895,0.09278879473110424,0.1270473167411621,0.07660794271892246,0.13630090880787504,0.1194865347720464,0.13977135369236082,0.10797787588068453,0.13393265423170775,0.13512118139693152,0.09200328199323282,0.10064246909284025,0.11693723357684582,0.12396519817374951,0.14476301083429632,0.12899838760759819,0.10681914870208231,0.13468672238354784,0.12063679927088022,0.11437756444163338,0.07973754245810005,0.04642169862249035,0.10271693078340349,0.10902968623788623,0.09938245702535309,0.12159326581312513,0.11719484378682932,0.11031708434967491,0.12943110986583883,0.12090486435436065,0.1359559896177971,0.1307467693256894,0.09942836183047288,0.12479651477755793,0.11222825189515828,0.11637146468876747,0.12497594451741956,0.1117419764361628,0.10430374653295793,0.11152440507738826,0.11921740125995917,0.12401299069046834,0.12765985054893025,0.13544425863435083],\"xaxis\":\"x\",\"y\":[0.11650042218917811,0.1400309889962853,0.16048872507552492,0.13739054748625368,0.12437785647167032,0.13756224426106112,0.13114122996815514,0.10436907356733582,0.16939188392784055,0.1262898777370448,0.1484042944292675,0.14017095404713498,0.12565812444765712,0.1547369337923622,0.15694226401498168,0.15226024134408456,0.1568076539707841,0.1550985911147159,0.15764176671692176,0.14187361249496633,0.11713370618842278,0.1292615028170978,0.1569140275795503,0.17531574899188718,0.12023341917310926,0.13067036675615906,0.10126133277304217,0.10222578364779478,0.12690506151548375,0.1254019385447015,0.13019293164055756,0.10446443972672448,0.10257964151103738,0.14056401630511794,0.11919664496984173,0.11895217180497075,0.12088086600204562,0.09346664742214617,0.14208400824686696,0.10045281107324844,0.11530519145573581,0.12296715469323338,0.11387425851922606,0.11487530141300273,0.12264310202569506,0.1194027262752907,0.12792996472189533,0.11003253897474685,0.13107857611695428,0.10121629987769443,0.1282620748286022,0.1344679786368993,0.11389269991907847,0.12720011947010956,0.14775860877750646,0.13007381537771467,0.1376820381822046,0.12004862013216033,0.12612347090212583,0.12570739756907612,0.12199203257742186,0.15816716724253377,0.12428606388311914,0.12667390228085762,0.13440969578366635,0.1513254391935367,0.12084470227777477,0.13980730780943618,0.11365080467822453,0.1381033917981005,0.1152414105185553,0.141938694302429,0.1350692374480702,0.12807675759126902,0.13524943356370855,0.13016326810001255,0.14970897298931563,0.13962597020052747,0.12413147411236047,0.1355775952090491,0.11678603909505836,0.11582898248130269,0.15155417924526293,0.13244374631851685,0.13944872319303514,0.1388724929111197,0.12019588127053871,0.14048524436792853,0.13604225181084473,0.12153355805691879,0.14293643650016397,0.12382192163402395,0.1225960352246076,0.12779840905317397,0.12425348319018181,0.13741568734122422,0.14633907300129156,0.1112605538606305,0.12386912987122256,0.142454913587736,0.11696615939310362,0.12637937468812188,0.11837633287580052,0.12978626499087775,0.1342217416653655,0.12413660191285625,0.12333592920829328,0.13447020406888333,0.11164754022681556,0.13264048389072403,0.11619078573659125,0.13075355060282223,0.1192749982519199,0.12758622243917306,0.11185485536767392,0.12396874427484295,0.11445424408428373,0.12498574490657388,0.11739118185516739,0.1237580077198519,0.11485915854123618,0.12427448022017196,0.11551795992435432,0.12101023692302215,0.11400609999937394,0.11353255809742091,0.11034708634020485,0.10606600051964787,0.12100296318341897,0.117116360898183,0.1280829958877946,0.11719129035075626,0.1342421076663386,0.1159286024723567,0.11397033918665,0.11083071736426209,0.12054861990978982,0.10605914065923017,0.11081334331991055,0.12009656488674525,0.11692549876598224,0.10844246767617716,0.11731821196605474,0.11420887977256089,0.11419111183552999,0.11533319224659999,0.10603914546861293,0.11754196988896581,0.1202109104655581,0.11979525447636896,0.12620123030704689,0.09626857395022992,0.1280476569452027,0.12144773077202198,0.12339927648822924,0.08906336593242703,0.1539055770727269,0.10104862925562375,0.11707798050414076,0.12910663060605532,0.0962712324862165,0.11885501830630596,0.13835668786298583,0.11526086175392658,0.13765716943261386,0.14340580261874503,0.10579701709988243,0.12539599839473303,0.10039276717695933,0.12910663060605532,0.14432431733122675,0.11641625301916303,0.12151981741341145,0.12337158973169648,0.10160080640604607,0.10707549007465056,0.11339314809332546,0.11385847316880882,0.11434737345103041,0.10851499645327078,0.09856362454859247,0.08590626533653112,0.14117626601254474,0.10827013443608191,0.12264904665497456,0.12085637058645626,0.10647345518180418,0.11458610825874227,0.085419716778951,0.11969856648606425,0.11330189045493722,0.11519346905758754,0.12816880601745206,0.12321220812764211,0.13782352473586323,0.1034003821336622,0.11052247335127507,0.1255469727002183,0.11714817912720821,0.10371745208309846,0.11408786105984703,0.12639194504990214,0.09977977064510113,0.11160683468054844,0.12712064829972036,0.0991831980958966,0.12630559007297282,0.10863162429897322,0.09285311482379732,0.11063564961449313,0.12119367034383755,0.09565376229757361,0.11442722687792961,0.09914065947344475,0.11219632137378743,0.11201055114574587,0.11139507213618116,0.10792362468098848,0.10273668234171762,0.13401317833759352,0.11853259559150586,0.1289174056002933,0.10150167485772832,0.12126160950414722,0.09836441547606889,0.11147904679189258,0.12632636735085212,0.09922381553417581,0.10876643454282464,0.1293496222727526,0.09568056917403256,0.12367529712057534,0.1084061524850286,0.0881562609296549,0.11165852253883202,0.12136540221058223,0.09715670849216629,0.11209226175728992,0.09635224892005623,0.10639350275730597,0.11252689062157861,0.11237085246878364,0.10808106271001705,0.1025470810051391,0.13499499338546928,0.10392256064181526,0.12986587757983092,0.10449503654173098,0.12179101535602155,0.1041326919496619,0.11179075629987256,0.13303814879088216,0.11454934881384937,0.12019916882878157,0.09244777195894793,0.11715963834397936,0.1509037135148522,0.1280319244616528,0.10776406733619626,0.1241185341891321,0.11092761525282635,0.10467442863047793,0.11676655764061405,0.13125869146134483,0.11182466799755619,0.13559236170871725,0.1186691463938564,0.12815971707213047,0.11883863364043701,0.13790399082136484,0.12706763042197056,0.12754813148094035,0.09425622583998305,0.12388836588850638,0.12841349057964524,0.1168270367565939,0.11809295166971023,0.11071538125060898,0.1291165051281793,0.10604495814034454,0.12620123030704689,0.11088148420074151,0.14001218384931835,0.11687986957400065,0.10558011628929709,0.11792889706494591,0.11742055402353979,0.11889065204675142,0.07434263800524754,0.12012116512700333,0.10967066134659409,0.12019767177045693,0.12130115324275359,0.08755771812183333,0.11490780395450062,0.12945593139478628,0.09615211387014766,0.12722283218849884,0.11732020599296566,0.11594825934897657,0.12542798780538011,0.12639764889264082,0.11692564847713371,0.09606254757855082,0.14461980607041292,0.1493248818193771,0.13794829950122656,0.11841330912069192,0.12641630105468837,0.1061064716978668,0.12355838458828394,0.10871130435948018,0.14766061752157034,0.10077895536490888,0.14131134239195242,0.12962674101362937,0.1351478705848932,0.13653748049695436,0.11466311651251415,0.11853065268431406,0.14538756538799746,0.11925523671791971,0.127282292627101,0.10869028652554791,0.1297585063119635,0.1310382453745389,0.10091239719265843,0.13970983923211144,0.13018073385619555,0.13084460949034027,0.11945834300801617,0.12967617893157068,0.13633305036049803,0.12784377596603225,0.12580795080299945,0.14253788304273418,0.126325308753502,0.14815511203491583,0.12045913585410928,0.10793470000486372,0.12420574512602378,0.14179663563305178,0.1057055865939801,0.1176348496026709,0.13672259031957223,0.1162924806762492,0.12724087174569365,0.1370703269034732,0.11773906286316349,0.13373324413752274,0.12493231607633415,0.12432957918145315,0.12614440624765144,0.13204308482662885,0.156502716705333,0.14021946676295216,0.14044976821471888,0.16529399998881655,0.1249350615117335,0.163764295162923,0.11012447160256789,0.13472895462725298,0.14976049023605986,0.14710569196896373,0.14904314347180625,0.1451495737127988,0.16682529515718636,0.1447064429032292,0.14101049893579098,0.12244769475122563,0.13062441335867447,0.1472059943883115,0.14464378079285045,0.13403011751973626,0.15426686049579585,0.14258927804029664,0.1438507542296159,0.11731300417550417,0.1516575561590422,0.11531743033641073,0.13868277548243346,0.14710120106732327,0.14097334903324066,0.1533738015657603,0.14478113440947826,0.158273037853233,0.13717623573493853,0.1478950255166127,0.1062522783958505,0.1315758823803418,0.13914438547014263,0.12263334108735313,0.1393300008452928,0.1322538881386638,0.14397961134210013,0.1128342384549994,0.14040196299923768,0.14069523677362172,0.13130940889256315,0.14790184234809978,0.14423240328701936,0.13347334863145566,0.13907816941309914,0.1338775040115514,0.12637356798435118,0.10524321491097388,0.1393963784451816,0.14574809406265377,0.1558188037087722,0.1442507295370009,0.13745927755350618,0.1381441625876365,0.15436582292857237,0.13749255849785902,0.10173408079264235,0.15187289483420874,0.11854105034564588,0.1449627388799456,0.13337326951761141,0.1286643362905051,0.1526145045694448,0.12307022621656794,0.11971363989191108,0.1257420733627841,0.11640804482394185,0.12878056306409713,0.1306030756769584,0.13613056092610976,0.13660978007832192,0.11873528579087611,0.13098789665718125,0.10165767247933999,0.13224754857767163,0.1275256736813647,0.1128214168836954,0.1426965355321067,0.10581808786577951,0.1315065465620473,0.13731337380881126,0.12669277414156122,0.13220082093677765,0.13417224520865,0.13023150929545935,0.1022331458737833,0.12345504543824792,0.13523078931100463,0.12045992586055732,0.12269409363063033,0.10102053558762059,0.1467622468995069,0.12600694481762453,0.14216679123403575,0.13366275942741868,0.13287234295952166,0.1187471397760883,0.13487403672575093,0.12722613902385027,0.17357166998649676,0.19228419304010647,0.1956497976723668,0.14835199992151293,0.11837328073848852,0.16751825799159414,0.1715473229666895,0.14809600805923684,0.13277021695828228,0.23761529143740678,0.15114986271674347,0.1587159656931234,0.2060314710985347,0.13149976874104552,0.10939178528712834,0.19443067796116986,0.1257068437871791,0.14396088857642098,0.13215179889710238,0.14523857670258566,0.1923957305770323,0.10239965958331021,0.15581524284321546,0.13655685519215421,0.1462008870868492,0.1283722887532628,0.14080934996210903,0.18040515547163138,0.10023133584942023,0.10947728051059413,0.12059256295864251,0.14713292609596584,0.1635502921037384,0.15369430532580752,0.1457317722876328,0.1450785131791027,0.1306657117524137,0.1343997500046198,0.14752811586012682,0.10319710303083984,0.16045980600329646,0.11999033156001682,0.1403383761139323,0.11363967849949208,0.13244659838598227,0.10110831291435474,0.1370688194839601,0.13677082329160406,0.12209007843664166,0.11604346123478182,0.12117359600383171,0.11224498239327196,0.12367886922713844,0.11957873754610726,0.10693879213296276,0.11441746780405404,0.12379549041461346,0.09335855627254752,0.14122839145409616,0.13919128754597276,0.14193889514627978,0.1072114413619415,0.12480965190171978,0.12081547376530666,0.10465309203562423,0.12088953361547672,0.11251734823286175,0.10826292406448401,0.11707059315432877,0.15030561962560784,0.11791094565738147,0.122451271653776,0.1168511469383211,0.12484338494591762,0.14840255026025562,0.13499998121742485,0.1298963973985705,0.11105891198965268,0.15506555205150752,0.11705097720457103,0.12136904741646926,0.10785059850378065,0.1448079073294869,0.13702318311793538,0.15445964250953403,0.12448886996923125,0.10848492464230541,0.14981203958888178,0.12286158293839888,0.12520333498957692,0.1505930511422855,0.1627229753334688,0.1092196297250958,0.14624078754446734,0.1662341509310893,0.15103401251035242,0.14152341837387605,0.14893498582669384,0.15214476457674309,0.1514683296156456,0.15116633459202766,0.12765012916855634,0.1493092405726869,0.1194865347720464,0.13977135369236082,0.1400367798625618,0.13393265423170775,0.15150939486896398,0.14788313576363776,0.11922318421000722,0.1582489388134889,0.12396519817374951,0.14476301083429632,0.1448958829535566,0.13299205135208925,0.15526661368693073,0.15209429189038126,0.11437756444163338,0.1518565995228437,0.127956999826506,0.1529566884280632,0.13186514451873588,0.13535003078564045,0.15837913773060386,0.12610231470659639,0.14936350414342814,0.14642709077464944,0.13698341595292174,0.15970555649735296,0.1307467693256894,0.14579428710315123,0.14447101767687476,0.12616171241998875,0.1379235604997866,0.15680351479996868,0.15036789560157815,0.14005305871688567,0.13411173384330777,0.14729746948448397,0.12997879371454357,0.14789085490020604,0.14273160445083588],\"yaxis\":\"y\",\"type\":\"scatter\"}],                        {\"template\":{\"data\":{\"histogram2dcontour\":[{\"type\":\"histogram2dcontour\",\"colorbar\":{\"outlinewidth\":0,\"ticks\":\"\"},\"colorscale\":[[0.0,\"#0d0887\"],[0.1111111111111111,\"#46039f\"],[0.2222222222222222,\"#7201a8\"],[0.3333333333333333,\"#9c179e\"],[0.4444444444444444,\"#bd3786\"],[0.5555555555555556,\"#d8576b\"],[0.6666666666666666,\"#ed7953\"],[0.7777777777777778,\"#fb9f3a\"],[0.8888888888888888,\"#fdca26\"],[1.0,\"#f0f921\"]]}],\"choropleth\":[{\"type\":\"choropleth\",\"colorbar\":{\"outlinewidth\":0,\"ticks\":\"\"}}],\"histogram2d\":[{\"type\":\"histogram2d\",\"colorbar\":{\"outlinewidth\":0,\"ticks\":\"\"},\"colorscale\":[[0.0,\"#0d0887\"],[0.1111111111111111,\"#46039f\"],[0.2222222222222222,\"#7201a8\"],[0.3333333333333333,\"#9c179e\"],[0.4444444444444444,\"#bd3786\"],[0.5555555555555556,\"#d8576b\"],[0.6666666666666666,\"#ed7953\"],[0.7777777777777778,\"#fb9f3a\"],[0.8888888888888888,\"#fdca26\"],[1.0,\"#f0f921\"]]}],\"heatmap\":[{\"type\":\"heatmap\",\"colorbar\":{\"outlinewidth\":0,\"ticks\":\"\"},\"colorscale\":[[0.0,\"#0d0887\"],[0.1111111111111111,\"#46039f\"],[0.2222222222222222,\"#7201a8\"],[0.3333333333333333,\"#9c179e\"],[0.4444444444444444,\"#bd3786\"],[0.5555555555555556,\"#d8576b\"],[0.6666666666666666,\"#ed7953\"],[0.7777777777777778,\"#fb9f3a\"],[0.8888888888888888,\"#fdca26\"],[1.0,\"#f0f921\"]]}],\"heatmapgl\":[{\"type\":\"heatmapgl\",\"colorbar\":{\"outlinewidth\":0,\"ticks\":\"\"},\"colorscale\":[[0.0,\"#0d0887\"],[0.1111111111111111,\"#46039f\"],[0.2222222222222222,\"#7201a8\"],[0.3333333333333333,\"#9c179e\"],[0.4444444444444444,\"#bd3786\"],[0.5555555555555556,\"#d8576b\"],[0.6666666666666666,\"#ed7953\"],[0.7777777777777778,\"#fb9f3a\"],[0.8888888888888888,\"#fdca26\"],[1.0,\"#f0f921\"]]}],\"contourcarpet\":[{\"type\":\"contourcarpet\",\"colorbar\":{\"outlinewidth\":0,\"ticks\":\"\"}}],\"contour\":[{\"type\":\"contour\",\"colorbar\":{\"outlinewidth\":0,\"ticks\":\"\"},\"colorscale\":[[0.0,\"#0d0887\"],[0.1111111111111111,\"#46039f\"],[0.2222222222222222,\"#7201a8\"],[0.3333333333333333,\"#9c179e\"],[0.4444444444444444,\"#bd3786\"],[0.5555555555555556,\"#d8576b\"],[0.6666666666666666,\"#ed7953\"],[0.7777777777777778,\"#fb9f3a\"],[0.8888888888888888,\"#fdca26\"],[1.0,\"#f0f921\"]]}],\"surface\":[{\"type\":\"surface\",\"colorbar\":{\"outlinewidth\":0,\"ticks\":\"\"},\"colorscale\":[[0.0,\"#0d0887\"],[0.1111111111111111,\"#46039f\"],[0.2222222222222222,\"#7201a8\"],[0.3333333333333333,\"#9c179e\"],[0.4444444444444444,\"#bd3786\"],[0.5555555555555556,\"#d8576b\"],[0.6666666666666666,\"#ed7953\"],[0.7777777777777778,\"#fb9f3a\"],[0.8888888888888888,\"#fdca26\"],[1.0,\"#f0f921\"]]}],\"mesh3d\":[{\"type\":\"mesh3d\",\"colorbar\":{\"outlinewidth\":0,\"ticks\":\"\"}}],\"scatter\":[{\"fillpattern\":{\"fillmode\":\"overlay\",\"size\":10,\"solidity\":0.2},\"type\":\"scatter\"}],\"parcoords\":[{\"type\":\"parcoords\",\"line\":{\"colorbar\":{\"outlinewidth\":0,\"ticks\":\"\"}}}],\"scatterpolargl\":[{\"type\":\"scatterpolargl\",\"marker\":{\"colorbar\":{\"outlinewidth\":0,\"ticks\":\"\"}}}],\"bar\":[{\"error_x\":{\"color\":\"#2a3f5f\"},\"error_y\":{\"color\":\"#2a3f5f\"},\"marker\":{\"line\":{\"color\":\"#E5ECF6\",\"width\":0.5},\"pattern\":{\"fillmode\":\"overlay\",\"size\":10,\"solidity\":0.2}},\"type\":\"bar\"}],\"scattergeo\":[{\"type\":\"scattergeo\",\"marker\":{\"colorbar\":{\"outlinewidth\":0,\"ticks\":\"\"}}}],\"scatterpolar\":[{\"type\":\"scatterpolar\",\"marker\":{\"colorbar\":{\"outlinewidth\":0,\"ticks\":\"\"}}}],\"histogram\":[{\"marker\":{\"pattern\":{\"fillmode\":\"overlay\",\"size\":10,\"solidity\":0.2}},\"type\":\"histogram\"}],\"scattergl\":[{\"type\":\"scattergl\",\"marker\":{\"colorbar\":{\"outlinewidth\":0,\"ticks\":\"\"}}}],\"scatter3d\":[{\"type\":\"scatter3d\",\"line\":{\"colorbar\":{\"outlinewidth\":0,\"ticks\":\"\"}},\"marker\":{\"colorbar\":{\"outlinewidth\":0,\"ticks\":\"\"}}}],\"scattermapbox\":[{\"type\":\"scattermapbox\",\"marker\":{\"colorbar\":{\"outlinewidth\":0,\"ticks\":\"\"}}}],\"scatterternary\":[{\"type\":\"scatterternary\",\"marker\":{\"colorbar\":{\"outlinewidth\":0,\"ticks\":\"\"}}}],\"scattercarpet\":[{\"type\":\"scattercarpet\",\"marker\":{\"colorbar\":{\"outlinewidth\":0,\"ticks\":\"\"}}}],\"carpet\":[{\"aaxis\":{\"endlinecolor\":\"#2a3f5f\",\"gridcolor\":\"white\",\"linecolor\":\"white\",\"minorgridcolor\":\"white\",\"startlinecolor\":\"#2a3f5f\"},\"baxis\":{\"endlinecolor\":\"#2a3f5f\",\"gridcolor\":\"white\",\"linecolor\":\"white\",\"minorgridcolor\":\"white\",\"startlinecolor\":\"#2a3f5f\"},\"type\":\"carpet\"}],\"table\":[{\"cells\":{\"fill\":{\"color\":\"#EBF0F8\"},\"line\":{\"color\":\"white\"}},\"header\":{\"fill\":{\"color\":\"#C8D4E3\"},\"line\":{\"color\":\"white\"}},\"type\":\"table\"}],\"barpolar\":[{\"marker\":{\"line\":{\"color\":\"#E5ECF6\",\"width\":0.5},\"pattern\":{\"fillmode\":\"overlay\",\"size\":10,\"solidity\":0.2}},\"type\":\"barpolar\"}],\"pie\":[{\"automargin\":true,\"type\":\"pie\"}]},\"layout\":{\"autotypenumbers\":\"strict\",\"colorway\":[\"#636efa\",\"#EF553B\",\"#00cc96\",\"#ab63fa\",\"#FFA15A\",\"#19d3f3\",\"#FF6692\",\"#B6E880\",\"#FF97FF\",\"#FECB52\"],\"font\":{\"color\":\"#2a3f5f\"},\"hovermode\":\"closest\",\"hoverlabel\":{\"align\":\"left\"},\"paper_bgcolor\":\"white\",\"plot_bgcolor\":\"#E5ECF6\",\"polar\":{\"bgcolor\":\"#E5ECF6\",\"angularaxis\":{\"gridcolor\":\"white\",\"linecolor\":\"white\",\"ticks\":\"\"},\"radialaxis\":{\"gridcolor\":\"white\",\"linecolor\":\"white\",\"ticks\":\"\"}},\"ternary\":{\"bgcolor\":\"#E5ECF6\",\"aaxis\":{\"gridcolor\":\"white\",\"linecolor\":\"white\",\"ticks\":\"\"},\"baxis\":{\"gridcolor\":\"white\",\"linecolor\":\"white\",\"ticks\":\"\"},\"caxis\":{\"gridcolor\":\"white\",\"linecolor\":\"white\",\"ticks\":\"\"}},\"coloraxis\":{\"colorbar\":{\"outlinewidth\":0,\"ticks\":\"\"}},\"colorscale\":{\"sequential\":[[0.0,\"#0d0887\"],[0.1111111111111111,\"#46039f\"],[0.2222222222222222,\"#7201a8\"],[0.3333333333333333,\"#9c179e\"],[0.4444444444444444,\"#bd3786\"],[0.5555555555555556,\"#d8576b\"],[0.6666666666666666,\"#ed7953\"],[0.7777777777777778,\"#fb9f3a\"],[0.8888888888888888,\"#fdca26\"],[1.0,\"#f0f921\"]],\"sequentialminus\":[[0.0,\"#0d0887\"],[0.1111111111111111,\"#46039f\"],[0.2222222222222222,\"#7201a8\"],[0.3333333333333333,\"#9c179e\"],[0.4444444444444444,\"#bd3786\"],[0.5555555555555556,\"#d8576b\"],[0.6666666666666666,\"#ed7953\"],[0.7777777777777778,\"#fb9f3a\"],[0.8888888888888888,\"#fdca26\"],[1.0,\"#f0f921\"]],\"diverging\":[[0,\"#8e0152\"],[0.1,\"#c51b7d\"],[0.2,\"#de77ae\"],[0.3,\"#f1b6da\"],[0.4,\"#fde0ef\"],[0.5,\"#f7f7f7\"],[0.6,\"#e6f5d0\"],[0.7,\"#b8e186\"],[0.8,\"#7fbc41\"],[0.9,\"#4d9221\"],[1,\"#276419\"]]},\"xaxis\":{\"gridcolor\":\"white\",\"linecolor\":\"white\",\"ticks\":\"\",\"title\":{\"standoff\":15},\"zerolinecolor\":\"white\",\"automargin\":true,\"zerolinewidth\":2},\"yaxis\":{\"gridcolor\":\"white\",\"linecolor\":\"white\",\"ticks\":\"\",\"title\":{\"standoff\":15},\"zerolinecolor\":\"white\",\"automargin\":true,\"zerolinewidth\":2},\"scene\":{\"xaxis\":{\"backgroundcolor\":\"#E5ECF6\",\"gridcolor\":\"white\",\"linecolor\":\"white\",\"showbackground\":true,\"ticks\":\"\",\"zerolinecolor\":\"white\",\"gridwidth\":2},\"yaxis\":{\"backgroundcolor\":\"#E5ECF6\",\"gridcolor\":\"white\",\"linecolor\":\"white\",\"showbackground\":true,\"ticks\":\"\",\"zerolinecolor\":\"white\",\"gridwidth\":2},\"zaxis\":{\"backgroundcolor\":\"#E5ECF6\",\"gridcolor\":\"white\",\"linecolor\":\"white\",\"showbackground\":true,\"ticks\":\"\",\"zerolinecolor\":\"white\",\"gridwidth\":2}},\"shapedefaults\":{\"line\":{\"color\":\"#2a3f5f\"}},\"annotationdefaults\":{\"arrowcolor\":\"#2a3f5f\",\"arrowhead\":0,\"arrowwidth\":1},\"geo\":{\"bgcolor\":\"white\",\"landcolor\":\"#E5ECF6\",\"subunitcolor\":\"white\",\"showland\":true,\"showlakes\":true,\"lakecolor\":\"white\"},\"title\":{\"x\":0.05},\"mapbox\":{\"style\":\"light\"}}},\"xaxis\":{\"anchor\":\"y\",\"domain\":[0.0,1.0],\"title\":{\"text\":\"closest_cosim\"}},\"yaxis\":{\"anchor\":\"x\",\"domain\":[0.0,1.0],\"title\":{\"text\":\"archq2_cosim\"}},\"legend\":{\"tracegroupgap\":0},\"title\":{\"text\":\"Comparison of Closest Cosine Similarity to Archetype 2\"}},                        {\"responsive\": true}                    ).then(function(){\n                            \nvar gd = document.getElementById('ee409eca-5cce-4775-bc68-b5582294c469');\nvar x = new MutationObserver(function (mutations, observer) {{\n        var display = window.getComputedStyle(gd).display;\n        if (!display || display === 'none') {{\n            console.log([gd, 'removed!']);\n            Plotly.purge(gd);\n            observer.disconnect();\n        }}\n}});\n\n// Listen for the removal of the full notebook cells\nvar notebookContainer = gd.closest('#notebook-container');\nif (notebookContainer) {{\n    x.observe(notebookContainer, {childList: true});\n}}\n\n// Listen for the clearing of the current output cell\nvar outputEl = gd.closest('.output');\nif (outputEl) {{\n    x.observe(outputEl, {childList: true});\n}}\n\n                        })                };                });            </script>        </div>"
          },
          "metadata": {}
        },
        {
          "output_type": "display_data",
          "data": {
            "application/vnd.plotly.v1+json": {
              "data": [
                {
                  "hovertemplate": "closest_cosim=%{x}<br>archq3_cosim=%{y}<extra></extra>",
                  "legendgroup": "",
                  "marker": {
                    "color": "#636efa",
                    "symbol": "circle"
                  },
                  "mode": "markers",
                  "name": "",
                  "orientation": "v",
                  "showlegend": false,
                  "x": [
                    0.06595879700269358,
                    0.1400309889962853,
                    0.16048872507552492,
                    0.11383665579443725,
                    0.07910549846029369,
                    0.11520151837330106,
                    0.12565420134930871,
                    0.10436907356733582,
                    0.15410573222392876,
                    0.1261215481094632,
                    0.1484042944292675,
                    0.11630370913198729,
                    0.11109835978615967,
                    0.1451157248174223,
                    0.14944096465775547,
                    0.09487103850594814,
                    0.11821614983830764,
                    0.14618515663943055,
                    0.1533541502244965,
                    0.13700411660555423,
                    0.10523179285908535,
                    0.11152903471341913,
                    0.1569140275795503,
                    0.15486792721348464,
                    0.0986977285097802,
                    0.0874856558083541,
                    0.06872481070970948,
                    0.06958996202339673,
                    0.11052911205060423,
                    0.10141733908658601,
                    0.10932510185425803,
                    0.07825589625781704,
                    0.06143920448768281,
                    0.11143918295688904,
                    0.10031344605395753,
                    0.06768842557473331,
                    0.11865466600279839,
                    0.06439801884906016,
                    0.10809502560353657,
                    0.06339332887498794,
                    0.09803244851337367,
                    0.10543917417975379,
                    0.06371990727502597,
                    0.08459331360587152,
                    0.10707043814919726,
                    0.07772717814080199,
                    0.11441872842810963,
                    0.07618106478774311,
                    0.12009218603294358,
                    0.06201053784132993,
                    0.10858515508203748,
                    0.06962409458354735,
                    0.0666962822560101,
                    0.0754864808370449,
                    0.07894276330842631,
                    0.06440674540455393,
                    0.08138691940887433,
                    0.07121625924433905,
                    0.07073500854377168,
                    0.07901405035052833,
                    0.07585918683468185,
                    0.08773849780227083,
                    0.06836404034189925,
                    0.05748208429907886,
                    0.06748838297434667,
                    0.07666681397004915,
                    0.05837120217360936,
                    0.07597137966587653,
                    0.06371391082732858,
                    0.06998822379656067,
                    0.05883034760405759,
                    0.07167277361885949,
                    0.07364961778504886,
                    0.07216944102289768,
                    0.07796341816996921,
                    0.0575509640654841,
                    0.08276313707134031,
                    0.08397442517388931,
                    0.08498289182099594,
                    0.07033442189330885,
                    0.08681073663937056,
                    0.04639092218427343,
                    0.08231033004932198,
                    0.06660413711771451,
                    0.07812372682510382,
                    0.08799926525804236,
                    0.08730603847110485,
                    0.07779555289781614,
                    0.095322807264281,
                    0.053459771919292076,
                    0.0859117650106842,
                    0.06230621486425425,
                    0.06678961506803405,
                    0.0652513406809817,
                    0.05649468408129421,
                    0.07052316750876919,
                    0.08761394795453259,
                    0.06651598908138212,
                    0.07790166730530657,
                    0.10039378217095918,
                    0.047325098313189096,
                    0.09499150134321543,
                    0.07565018486048825,
                    0.1091772587928207,
                    0.09519928526167565,
                    0.09316655520520145,
                    0.06865982495128031,
                    0.0991124929867081,
                    0.08874027210727153,
                    0.10260052783126572,
                    0.09011259776953928,
                    0.09322000781738449,
                    0.0907771860955231,
                    0.09490313262492633,
                    0.09106762499336774,
                    0.09082443115856986,
                    0.08469612970933371,
                    0.07714778261272504,
                    0.07698577598364709,
                    0.08718470352958574,
                    0.08997059833565568,
                    0.09670676969170011,
                    0.08993104838570787,
                    0.08641821756014578,
                    0.08408326962285506,
                    0.08744457278230255,
                    0.05192296765427251,
                    0.06602631696054628,
                    0.04817179349082146,
                    0.05911820854700389,
                    0.07102146466287385,
                    0.05631011182645862,
                    0.07550395526353326,
                    0.05990717849355531,
                    0.05674162014738282,
                    0.05450478506504697,
                    0.05383745690917541,
                    0.06087963551506714,
                    0.05937154495585717,
                    0.06891755453661041,
                    0.0652844314370381,
                    0.06992587513937654,
                    0.06543442802973998,
                    0.06925580074609083,
                    0.051201896968669836,
                    0.06621738555787382,
                    0.0625092087394713,
                    0.058923388684044564,
                    0.0766047680471803,
                    0.06523376874239784,
                    0.12021544477192947,
                    0.08302252424323275,
                    0.12396114729227592,
                    0.12144773077202198,
                    0.0951576379773107,
                    0.08267925358592865,
                    0.15224529567890643,
                    0.07156041625596388,
                    0.11707798050414076,
                    0.10749860495821073,
                    0.08299017896065009,
                    0.11885501830630596,
                    0.11344886330014892,
                    0.11526086175392658,
                    0.1042976526125271,
                    0.14340580261874503,
                    0.08093410647729371,
                    0.12148260194603122,
                    0.10039276717695933,
                    0.10749860495821073,
                    0.13368648789477544,
                    0.0919443864760845,
                    0.12151981741341145,
                    0.08912496755129784,
                    0.06442242598585324,
                    0.07984428180831982,
                    0.11339314809332546,
                    0.09009696745102558,
                    0.08827472499464528,
                    0.10851499645327078,
                    0.07599367327518414,
                    0.08153038157511094,
                    0.11750597861844192,
                    0.10827013443608191,
                    0.09425350076963435,
                    0.12085637058645626,
                    0.08714221276567335,
                    0.08481715562308345,
                    0.06257932599204308,
                    0.08230547358041385,
                    0.08598613104154795,
                    0.09007735715404852,
                    0.11398192075805291,
                    0.10333341695561316,
                    0.11077387244149273,
                    0.06838623467458826,
                    0.10589925347384965,
                    0.09414949341932455,
                    0.10520068614904587,
                    0.07799093588700656,
                    0.09426837409994049,
                    0.12469817780734682,
                    0.09604855944201052,
                    0.11154960760676069,
                    0.12674186918826336,
                    0.09559139654213422,
                    0.12328415486557742,
                    0.10489354819379881,
                    0.09285311482379732,
                    0.09966399165740891,
                    0.12119367034383755,
                    0.09356133893216612,
                    0.10432855107584771,
                    0.09878648185329064,
                    0.09213249994753014,
                    0.10690955823664183,
                    0.10842979721614987,
                    0.10792362468098848,
                    0.08273682283200423,
                    0.12367223591189058,
                    0.10844586651840094,
                    0.11700745786105116,
                    0.08848087063251542,
                    0.12126160950414722,
                    0.09746707401115717,
                    0.0893661075479657,
                    0.12467229780233047,
                    0.08956211538115166,
                    0.10313990652538252,
                    0.12275812745436132,
                    0.08203393089359867,
                    0.12263538017913289,
                    0.09941119626696604,
                    0.0881562609296549,
                    0.09254319048717874,
                    0.12136540221058223,
                    0.09337511742399773,
                    0.09544367603608583,
                    0.09309614700398128,
                    0.08460867328407318,
                    0.09801468112426637,
                    0.10295958709618414,
                    0.10808106271001705,
                    0.08099573169685748,
                    0.11838111906957993,
                    0.0898577564883557,
                    0.11475024955483137,
                    0.08714787001358004,
                    0.12179101535602155,
                    0.09772373415364632,
                    0.08694835091869557,
                    0.10138502997766508,
                    0.09621587964799416,
                    0.10903548411243125,
                    0.09244777195894793,
                    0.07986302924303446,
                    0.12400924979531669,
                    0.11195602295051676,
                    0.09388602528251,
                    0.10990123086622616,
                    0.11092761525282635,
                    0.10467442863047793,
                    0.08391741378891726,
                    0.12139124653469258,
                    0.11182466799755619,
                    0.11950304943935186,
                    0.08334617508954745,
                    0.12461057927355412,
                    0.10103412121929978,
                    0.13790399082136484,
                    0.1268880729391293,
                    0.11434865176570752,
                    0.09425622583998305,
                    0.08385485622799249,
                    0.12841349057964524,
                    0.1152619759969351,
                    0.08394692223745814,
                    0.09364766258184154,
                    0.12004242893293271,
                    0.0825608948670401,
                    0.12021544477192947,
                    0.07477798064821384,
                    0.11171680763638803,
                    0.07606440753833732,
                    0.10558011628929709,
                    0.09071634005536178,
                    0.11742055402353979,
                    0.07451120241528619,
                    0.07434263800524754,
                    0.08733256807131717,
                    0.0923725368819861,
                    0.12019767177045693,
                    0.08588341200729943,
                    0.08755771812183333,
                    0.09378043043570716,
                    0.11568485667304407,
                    0.07625971680968979,
                    0.12604665567787754,
                    0.09703936086223164,
                    0.08110444004903028,
                    0.12542798780538011,
                    0.09231457701865564,
                    0.06559151079540781,
                    0.055490353666507786,
                    0.08071243461693467,
                    0.10560198501419438,
                    0.058105212772708414,
                    0.09306260543042832,
                    0.09691006335381591,
                    0.060943170154337145,
                    0.08886900046228696,
                    0.04340761141428284,
                    0.088237630394576,
                    0.06411585472916081,
                    0.10197804787731368,
                    0.09817885469174781,
                    0.05457671819082577,
                    0.11173523255196094,
                    0.044216651268167206,
                    0.09653973607186861,
                    0.0909146016910719,
                    0.0878144685446659,
                    0.10841048110223428,
                    0.0444967126148047,
                    0.06709153478969154,
                    0.0781671278234215,
                    0.05254282677498934,
                    0.1013255395922773,
                    0.09561968520537711,
                    0.07827685977003485,
                    0.06842089591352296,
                    0.1034713100617356,
                    0.07366359467114703,
                    0.1001956330713113,
                    0.06272925622843384,
                    0.10454655673620683,
                    0.08487139297294644,
                    0.07038877218096051,
                    0.10102686324159116,
                    0.05305013827295202,
                    0.08024228390785626,
                    0.10519509541190475,
                    0.06877127478447154,
                    0.09251883056973487,
                    0.07688219398795304,
                    0.04506521920463491,
                    0.08619669263843488,
                    0.08250995078255219,
                    0.08318261734254462,
                    0.05993002142634973,
                    0.07649816391278186,
                    0.1014442532890174,
                    0.09798088080503564,
                    0.10103165781779389,
                    0.1036190017295574,
                    0.09255026236611663,
                    0.07920484107759085,
                    0.08827313492887079,
                    0.10189406804050372,
                    0.08360221189614303,
                    0.109952446868532,
                    0.07490705210765158,
                    0.12385280007787758,
                    0.07771875040852372,
                    0.10088216958256302,
                    0.11393042368287598,
                    0.08964863165528547,
                    0.11288413419011356,
                    0.10388638612835133,
                    0.09977976662333288,
                    0.085881745739524,
                    0.09003040986413657,
                    0.10739033317556745,
                    0.07241939872533742,
                    0.06668346208094711,
                    0.09314887071763911,
                    0.0774606167648264,
                    0.10888929871592379,
                    0.09153937631009557,
                    0.11388172346739567,
                    0.08697001772197965,
                    0.13198276595700276,
                    0.08227468217577671,
                    0.11139316572368141,
                    0.11535560613994256,
                    0.09218796951495767,
                    0.1104696620418586,
                    0.1238245211850475,
                    0.1062522783958505,
                    0.08299263615250319,
                    0.1013789286439768,
                    0.09475706382472049,
                    0.11543588815165984,
                    0.09913285402036964,
                    0.09848077378896691,
                    0.09190636874031588,
                    0.09959248533333576,
                    0.10718245943501226,
                    0.09508157003866868,
                    0.07332718881059674,
                    0.05381015078360141,
                    0.06888171361806039,
                    0.09819786662599528,
                    0.08876332374858265,
                    0.07433833773406218,
                    0.09552278694165539,
                    0.11650511562716903,
                    0.11753750199906698,
                    0.07605001328082672,
                    0.1139157486992094,
                    0.09806179129483295,
                    0.06145050370646499,
                    0.13489512328268916,
                    0.0714431723805169,
                    0.10173408079264235,
                    0.07269900849499089,
                    0.09758492875899905,
                    0.07172327164336556,
                    0.06880111729030502,
                    0.0745693122932013,
                    0.1003215433766167,
                    0.08681444385965531,
                    0.0974022852827382,
                    0.11287930207608099,
                    0.06496364456993142,
                    0.12878056306409713,
                    0.1306030756769584,
                    0.06829299903291552,
                    0.12048367721085906,
                    0.11873528579087611,
                    0.08538593123198734,
                    0.0629344946112016,
                    0.08298034171588464,
                    0.1275256736813647,
                    0.1128214168836954,
                    0.12087968879955868,
                    0.06354562561701615,
                    0.10537585895973323,
                    0.07392406429331588,
                    0.12469714172584556,
                    0.11403198972590967,
                    0.13417224520865,
                    0.08346266349209475,
                    0.06283709544078553,
                    0.12345504543824792,
                    0.06584863819784703,
                    0.11038498525022677,
                    0.09901839415761926,
                    0.0614194890882801,
                    0.026189207450928897,
                    0.12600694481762453,
                    0.12144524908730858,
                    0.12697805406452656,
                    0.11140878823081724,
                    0.1187471397760883,
                    0.12089842666459905,
                    0.11776905590400966,
                    0.1532248981390093,
                    0.16054869170422514,
                    0.18178382375645286,
                    0.13595278364667307,
                    0.11837328073848852,
                    0.12540852696246252,
                    0.160649109530681,
                    0.13646883017869393,
                    0.12360589629451513,
                    0.22254652230970073,
                    0.13700510979267588,
                    0.13881778824768543,
                    0.182850227920906,
                    0.13149976874104552,
                    0.10939178528712834,
                    0.15250232018964027,
                    0.04313537168450832,
                    0.07807709212060288,
                    0.13215179889710238,
                    0.07349115921283489,
                    0.1494465067064692,
                    0.10074950932734106,
                    0.14210642348848823,
                    0.13655685519215421,
                    0.08780727551223078,
                    0.1283722887532628,
                    0.12416264834837754,
                    0.17092983940977036,
                    0.10023133584942023,
                    0.10947728051059413,
                    0.10408639711438994,
                    0.13128826089494794,
                    0.13732112408738406,
                    0.1345683291760278,
                    0.12143950105982504,
                    0.1146450902290056,
                    0.1306657117524137,
                    0.1343997500046198,
                    0.1093951076690245,
                    0.09587921782601583,
                    0.1272738745586418,
                    0.039044985128985576,
                    0.04778119783572332,
                    0.11363967849949208,
                    0.07042560713042467,
                    0.09094839259487231,
                    0.10305022210720627,
                    0.13355112605464692,
                    0.12209007843664166,
                    0.11604346123478182,
                    0.11255237613657398,
                    0.11224498239327196,
                    0.12367886922713844,
                    0.10620528957388675,
                    0.10693879213296276,
                    0.08959038561963006,
                    0.12379549041461346,
                    0.09335855627254752,
                    0.12188384652340223,
                    0.12345960221283725,
                    0.14193889514627978,
                    0.1072114413619415,
                    0.12480965190171978,
                    0.06241175634197238,
                    0.09762121921742328,
                    0.09730527881676798,
                    0.0991527737926663,
                    0.10826292406448401,
                    0.07867933443662567,
                    0.09628216581317561,
                    0.07275248930379641,
                    0.07577564082361232,
                    0.06706279162678208,
                    0.103154643500448,
                    0.06380426539227568,
                    0.06006278390001063,
                    0.04862538982256903,
                    0.08099745393215796,
                    0.05936369023048804,
                    0.0786939827786467,
                    0.09029097590896684,
                    0.0858421153488228,
                    0.05946982709059412,
                    0.07204225181853896,
                    0.05111130933809904,
                    0.03714440117151541,
                    0.07615217898020543,
                    0.05996597406381088,
                    0.043533289273712805,
                    0.07802533166776116,
                    0.060579463816113566,
                    0.04799714133946775,
                    0.05199098499954713,
                    0.04430431417475844,
                    0.11133703727087985,
                    0.08580463198113253,
                    0.10946412701083497,
                    0.09963590354445984,
                    0.10112050812236895,
                    0.09278879473110424,
                    0.1270473167411621,
                    0.07660794271892246,
                    0.13630090880787504,
                    0.1194865347720464,
                    0.13977135369236082,
                    0.10797787588068453,
                    0.13393265423170775,
                    0.13512118139693152,
                    0.09200328199323282,
                    0.10064246909284025,
                    0.11693723357684582,
                    0.12396519817374951,
                    0.14476301083429632,
                    0.12899838760759819,
                    0.10681914870208231,
                    0.13468672238354784,
                    0.12063679927088022,
                    0.11437756444163338,
                    0.07973754245810005,
                    0.04642169862249035,
                    0.10271693078340349,
                    0.10902968623788623,
                    0.09938245702535309,
                    0.12159326581312513,
                    0.11719484378682932,
                    0.11031708434967491,
                    0.12943110986583883,
                    0.12090486435436065,
                    0.1359559896177971,
                    0.1307467693256894,
                    0.09942836183047288,
                    0.12479651477755793,
                    0.11222825189515828,
                    0.11637146468876747,
                    0.12497594451741956,
                    0.1117419764361628,
                    0.10430374653295793,
                    0.11152440507738826,
                    0.11921740125995917,
                    0.12401299069046834,
                    0.12765985054893025,
                    0.13544425863435083
                  ],
                  "xaxis": "x",
                  "y": [
                    0.11206966834544252,
                    0.14705522081457012,
                    0.16096027013053338,
                    0.11383665579443725,
                    0.07910549846029369,
                    0.11520151837330106,
                    0.12565420134930871,
                    0.11645876239588504,
                    0.15410573222392876,
                    0.1261215481094632,
                    0.1535080340028212,
                    0.11630370913198729,
                    0.11109835978615967,
                    0.1451157248174223,
                    0.14944096465775547,
                    0.09487103850594814,
                    0.11821614983830764,
                    0.14618515663943055,
                    0.1533541502244965,
                    0.13700411660555423,
                    0.10523179285908535,
                    0.11152903471341913,
                    0.16975181153294328,
                    0.15486792721348464,
                    0.0986977285097802,
                    0.0874856558083541,
                    0.06872481070970948,
                    0.0739551276534054,
                    0.11052911205060423,
                    0.10141733908658601,
                    0.10932510185425803,
                    0.07825589625781704,
                    0.06143920448768281,
                    0.11627393926754448,
                    0.10031344605395753,
                    0.06768842557473331,
                    0.11865466600279839,
                    0.06439801884906016,
                    0.10910202714451056,
                    0.0723851688625442,
                    0.09803244851337367,
                    0.10543917417975379,
                    0.06371990727502597,
                    0.08459331360587152,
                    0.10707043814919726,
                    0.07772717814080199,
                    0.11441872842810963,
                    0.0767883805365498,
                    0.12009218603294358,
                    0.06201053784132993,
                    0.10858515508203748,
                    0.11040992815948936,
                    0.10410315241584689,
                    0.09778984249026956,
                    0.12025583656316652,
                    0.10440399477523621,
                    0.11183680452900313,
                    0.0953270210677698,
                    0.10995720304422785,
                    0.1045395408113553,
                    0.10600056516378509,
                    0.12282547680623213,
                    0.09292533492514554,
                    0.09168031899470075,
                    0.10514090533516651,
                    0.1259980502410215,
                    0.090978804987359,
                    0.114362632924776,
                    0.09459865107443499,
                    0.10946580725561517,
                    0.09534557574859592,
                    0.10778789914335607,
                    0.10378594181047096,
                    0.10341515963233439,
                    0.11499164308097876,
                    0.10435914530037316,
                    0.11537293992776232,
                    0.12470552266545332,
                    0.09734047872287654,
                    0.10971114828594797,
                    0.1064737968969548,
                    0.09040844026483641,
                    0.11018768582213645,
                    0.10279268636856487,
                    0.10214283851256634,
                    0.12176295281154026,
                    0.0992996508532542,
                    0.11588893708802905,
                    0.1201416678115419,
                    0.09400515707907009,
                    0.1153715273613205,
                    0.0896438017886908,
                    0.09020036385161767,
                    0.09629864833143764,
                    0.08354176174535632,
                    0.11398063922088253,
                    0.12041626592642418,
                    0.08687882911915124,
                    0.10249394480617235,
                    0.11861388853176891,
                    0.08695449432178881,
                    0.10727864426862976,
                    0.08537041071902252,
                    0.11649228002927192,
                    0.10647720281073791,
                    0.10012020445636416,
                    0.1013338061617286,
                    0.10798011895556903,
                    0.08874027210727153,
                    0.1142734636796433,
                    0.09580218338332236,
                    0.10513429051052614,
                    0.09758200237479597,
                    0.10449273989296959,
                    0.0911939076474757,
                    0.10827679031321691,
                    0.09189182224308512,
                    0.10375825288204332,
                    0.09114630591625639,
                    0.10248682282495691,
                    0.09839182288241721,
                    0.10625664685267922,
                    0.0987394923358833,
                    0.09925247885065713,
                    0.09237235373092778,
                    0.09731458468078602,
                    0.08698240922562694,
                    0.09451060400928835,
                    0.10038027490411405,
                    0.10014844409182566,
                    0.11616253159659562,
                    0.09530861537378188,
                    0.11919993198095669,
                    0.09615490660341386,
                    0.09342144697663557,
                    0.0893512763698574,
                    0.10282196315838299,
                    0.09820453029995868,
                    0.0872167793408769,
                    0.10214482401805869,
                    0.10783249304609055,
                    0.09909337858016698,
                    0.1017403840118497,
                    0.10145904900806568,
                    0.09104289970785873,
                    0.09780798263755464,
                    0.09697568658599953,
                    0.10406806489695286,
                    0.10322817338703583,
                    0.10687364285266909,
                    0.12192950892797438,
                    0.08302252424323275,
                    0.12396114729227592,
                    0.1271373522570649,
                    0.0951576379773107,
                    0.08267925358592865,
                    0.15224529567890643,
                    0.07156041625596388,
                    0.13271152365779915,
                    0.10749860495821073,
                    0.08299017896065009,
                    0.13055397622345577,
                    0.11344886330014892,
                    0.12297599222845168,
                    0.1042976526125271,
                    0.14361711294144075,
                    0.08093410647729371,
                    0.12148260194603122,
                    0.1299419547011872,
                    0.10749860495821073,
                    0.13368648789477544,
                    0.10252770122601607,
                    0.12722044792544007,
                    0.08912496755129784,
                    0.06442242598585324,
                    0.07984428180831982,
                    0.13439757965601706,
                    0.09009696745102558,
                    0.08827472499464528,
                    0.1096391966182666,
                    0.07599367327518414,
                    0.08153038157511094,
                    0.11750597861844192,
                    0.12647274139350417,
                    0.09494937015608884,
                    0.12140132981571572,
                    0.08714221276567335,
                    0.08481715562308345,
                    0.06257932599204308,
                    0.09574205284452075,
                    0.08598613104154795,
                    0.096707007019049,
                    0.11398192075805291,
                    0.10460420583814578,
                    0.11077387244149273,
                    0.07850660192911407,
                    0.10589925347384965,
                    0.09414949341932455,
                    0.10520068614904587,
                    0.07799093588700656,
                    0.09907686189280251,
                    0.12469817780734682,
                    0.09604855944201052,
                    0.11154960760676069,
                    0.12674186918826336,
                    0.09559139654213422,
                    0.12328415486557742,
                    0.10489354819379881,
                    0.12613066719016208,
                    0.09966399165740891,
                    0.1325672233791061,
                    0.09356133893216612,
                    0.10432855107584771,
                    0.09878648185329064,
                    0.09981458582696567,
                    0.10690955823664183,
                    0.10842979721614987,
                    0.1106401533139566,
                    0.09516348904582961,
                    0.12367223591189058,
                    0.10844586651840094,
                    0.12047867271208479,
                    0.08848087063251542,
                    0.13088959120251253,
                    0.09746707401115717,
                    0.095582183564767,
                    0.12467229780233047,
                    0.08956211538115166,
                    0.10313990652538252,
                    0.1290992758586913,
                    0.08203393089359867,
                    0.12263538017913289,
                    0.09941119626696604,
                    0.12476726877827293,
                    0.09254319048717874,
                    0.13139323955059523,
                    0.09337511742399773,
                    0.09544367603608583,
                    0.09309614700398128,
                    0.0956939382012364,
                    0.09801468112426637,
                    0.10304291531234844,
                    0.11466460964311342,
                    0.09264185612817977,
                    0.1239889190068596,
                    0.0898577564883557,
                    0.1189966571744221,
                    0.08714787001358004,
                    0.13219648229435133,
                    0.09772373415364632,
                    0.08694835091869557,
                    0.10138502997766508,
                    0.09680321196960961,
                    0.10903548411243125,
                    0.11630370437471793,
                    0.08569665305788987,
                    0.1442050729842297,
                    0.11195602295051676,
                    0.09388602528251,
                    0.10990123086622616,
                    0.11725356438116141,
                    0.11208692591621638,
                    0.09527358094144567,
                    0.12201886263545503,
                    0.11567830743192775,
                    0.11950304943935186,
                    0.09158292959928827,
                    0.12461057927355412,
                    0.10103412121929978,
                    0.13887107543678567,
                    0.1268880729391293,
                    0.11434865176570752,
                    0.1228638303264471,
                    0.09757453018790785,
                    0.14216320163711615,
                    0.1152619759969351,
                    0.08577115730493379,
                    0.09364766258184154,
                    0.1306671644587759,
                    0.0825608948670401,
                    0.12192950892797438,
                    0.08246262479126765,
                    0.11944683529626765,
                    0.08792551606379273,
                    0.12603165767866764,
                    0.09710627466472965,
                    0.13824652096367462,
                    0.09192043782782122,
                    0.08370419271054741,
                    0.08733256807131717,
                    0.0923725368819861,
                    0.1334336512412756,
                    0.08588341200729943,
                    0.13378074106308468,
                    0.09378043043570716,
                    0.12410396083478503,
                    0.07625971680968979,
                    0.1276331433422233,
                    0.09703936086223164,
                    0.08110444004903028,
                    0.1280933954732274,
                    0.09231457701865564,
                    0.06559151079540781,
                    0.055490353666507786,
                    0.08071243461693467,
                    0.10560198501419438,
                    0.058105212772708414,
                    0.10406683695067898,
                    0.09691006335381591,
                    0.060943170154337145,
                    0.08886900046228696,
                    0.04340761141428284,
                    0.088237630394576,
                    0.06411585472916081,
                    0.10197804787731368,
                    0.09817885469174781,
                    0.05457671819082577,
                    0.11173523255196094,
                    0.044216651268167206,
                    0.09653973607186861,
                    0.0909146016910719,
                    0.0878144685446659,
                    0.11070808540692456,
                    0.0444967126148047,
                    0.06709153478969154,
                    0.0781671278234215,
                    0.05254282677498934,
                    0.1013255395922773,
                    0.09561968520537711,
                    0.07827685977003485,
                    0.06842089591352296,
                    0.1034713100617356,
                    0.07366359467114703,
                    0.1001956330713113,
                    0.06272925622843384,
                    0.10454655673620683,
                    0.08487139297294644,
                    0.07038877218096051,
                    0.10102686324159116,
                    0.05305013827295202,
                    0.08024228390785626,
                    0.10519509541190475,
                    0.06877127478447154,
                    0.09251883056973487,
                    0.07688219398795304,
                    0.04506521920463491,
                    0.08619669263843488,
                    0.08250995078255219,
                    0.08318261734254462,
                    0.05993002142634973,
                    0.07649816391278186,
                    0.1014442532890174,
                    0.09798088080503564,
                    0.10103165781779389,
                    0.1036190017295574,
                    0.09255026236611663,
                    0.07920484107759085,
                    0.08827313492887079,
                    0.10189406804050372,
                    0.08360221189614303,
                    0.109952446868532,
                    0.07490705210765158,
                    0.12385280007787758,
                    0.07771875040852372,
                    0.10088216958256302,
                    0.11393042368287598,
                    0.08964863165528547,
                    0.11288413419011356,
                    0.10388638612835133,
                    0.09977976662333288,
                    0.085881745739524,
                    0.09003040986413657,
                    0.10739033317556745,
                    0.07241939872533742,
                    0.06668346208094711,
                    0.09314887071763911,
                    0.0774606167648264,
                    0.10888929871592379,
                    0.09153937631009557,
                    0.11388172346739567,
                    0.08697001772197965,
                    0.13198276595700276,
                    0.08227468217577671,
                    0.11139316572368141,
                    0.11535560613994256,
                    0.09218796951495767,
                    0.1104696620418586,
                    0.1238245211850475,
                    0.11148647009822199,
                    0.08299263615250319,
                    0.1013789286439768,
                    0.09475706382472049,
                    0.11543588815165984,
                    0.09913285402036964,
                    0.09848077378896691,
                    0.09190636874031588,
                    0.09959248533333576,
                    0.10718245943501226,
                    0.09508157003866868,
                    0.07332718881059674,
                    0.05381015078360141,
                    0.06888171361806039,
                    0.09819786662599528,
                    0.08876332374858265,
                    0.07433833773406218,
                    0.09552278694165539,
                    0.11650511562716903,
                    0.11753750199906698,
                    0.07605001328082672,
                    0.1139157486992094,
                    0.09806179129483295,
                    0.06145050370646499,
                    0.13489512328268916,
                    0.0714431723805169,
                    0.10992934358388229,
                    0.07269900849499089,
                    0.09758492875899905,
                    0.07172327164336556,
                    0.06880111729030502,
                    0.0745693122932013,
                    0.1003215433766167,
                    0.08681444385965531,
                    0.0974022852827382,
                    0.11287930207608099,
                    0.06496364456993142,
                    0.12880818947485806,
                    0.1308604610052455,
                    0.06829299903291552,
                    0.12048367721085906,
                    0.12424334325394659,
                    0.08538593123198734,
                    0.0629344946112016,
                    0.08298034171588464,
                    0.13615435287590738,
                    0.11722420199932004,
                    0.12087968879955868,
                    0.06354562561701615,
                    0.10537585895973323,
                    0.07392406429331588,
                    0.12469714172584556,
                    0.11403198972590967,
                    0.14402524740171208,
                    0.08346266349209475,
                    0.06283709544078553,
                    0.12644478847072116,
                    0.06584863819784703,
                    0.11038498525022677,
                    0.09901839415761926,
                    0.0614194890882801,
                    0.1296162685812372,
                    0.13422088730336557,
                    0.12144524908730858,
                    0.12697805406452656,
                    0.11140878823081724,
                    0.1238222187833079,
                    0.12089842666459905,
                    0.11776905590400966,
                    0.1532248981390093,
                    0.17893887289810806,
                    0.18178382375645286,
                    0.13595278364667307,
                    0.12423388728126294,
                    0.12540852696246252,
                    0.18097541949761564,
                    0.13646883017869393,
                    0.12726356950713835,
                    0.22908988429456145,
                    0.13700510979267588,
                    0.13881778824768543,
                    0.20402983034143884,
                    0.1413480958775627,
                    0.11967356195543077,
                    0.18491304703228817,
                    0.12012317927842475,
                    0.11526017843658709,
                    0.14090945865579707,
                    0.13665742956260063,
                    0.1494465067064692,
                    0.10074950932734106,
                    0.14210642348848823,
                    0.13846261172631136,
                    0.12457395501106006,
                    0.16863742960929695,
                    0.1577451965266311,
                    0.17313321146070582,
                    0.14839696890614584,
                    0.12326944115634253,
                    0.10408639711438994,
                    0.14173176689788658,
                    0.13732112408738406,
                    0.1345683291760278,
                    0.14864031026626723,
                    0.14951130539353807,
                    0.14433179534148244,
                    0.15355434601601037,
                    0.1504640548117151,
                    0.11245600146162371,
                    0.15546517404098592,
                    0.12499283584199472,
                    0.11959329484088588,
                    0.13794699537325905,
                    0.13255093940733131,
                    0.12585028984667435,
                    0.13282326339420358,
                    0.14997196662435375,
                    0.14211305678895736,
                    0.13060196605289964,
                    0.13711599431666288,
                    0.13397242152177458,
                    0.14551402569193916,
                    0.1333672825243768,
                    0.1279512211874021,
                    0.13034595159586249,
                    0.13335160995092776,
                    0.14539063041990452,
                    0.15293473769867372,
                    0.1394315580866251,
                    0.15076134266794294,
                    0.13565560447936376,
                    0.13552685900090555,
                    0.12209530124480883,
                    0.12616383982744306,
                    0.13946134489636175,
                    0.13812043503530602,
                    0.12491628156112178,
                    0.1325159604369751,
                    0.15728480013253898,
                    0.12150843379894183,
                    0.13247914854635934,
                    0.1288849218092315,
                    0.1411862348978863,
                    0.1310913075902267,
                    0.13307755824349687,
                    0.141757174084164,
                    0.12696778371640494,
                    0.12878822677206092,
                    0.1325347683619199,
                    0.13085956878495786,
                    0.12905377367547055,
                    0.13634739813183872,
                    0.1303984682043714,
                    0.15815504758878007,
                    0.12773671183484459,
                    0.13288876522951276,
                    0.12993627221378035,
                    0.11130963159972485,
                    0.13217226789413727,
                    0.1374562196466531,
                    0.15331413437179398,
                    0.13418250827883715,
                    0.1259471640573463,
                    0.15190591615368276,
                    0.14379230583014224,
                    0.14616429841038692,
                    0.14741099151367965,
                    0.14655583165768593,
                    0.13423705844440592,
                    0.13878656350704832,
                    0.12459678640497907,
                    0.15019350808364407,
                    0.13586196529765227,
                    0.15980954884385068,
                    0.14159237089287036,
                    0.14084179708112554,
                    0.14371622549576568,
                    0.14106560636939192,
                    0.12992946846037878,
                    0.1396585057763835,
                    0.13923409641885498,
                    0.1621712955011766,
                    0.14767485962185778,
                    0.12615450963410468,
                    0.14912112005791645,
                    0.14337753893393546,
                    0.13320306613282007,
                    0.1421341062624243,
                    0.12019190214634579,
                    0.15508069359814658,
                    0.14001769106176076,
                    0.1525937840960293,
                    0.16618431178709425,
                    0.12583533232744126,
                    0.1431397971254057,
                    0.16221137709283795,
                    0.13993845672880245,
                    0.15570239430176536,
                    0.15129161029528437,
                    0.15160993309113513,
                    0.14841478965755073,
                    0.1558699103407286,
                    0.1340637876371159,
                    0.15694391589800383,
                    0.1572570908725116,
                    0.14291367058418492,
                    0.13524496513524153,
                    0.14029701837414998,
                    0.13984433776940575,
                    0.14333354639399465,
                    0.15374254123983122
                  ],
                  "yaxis": "y",
                  "type": "scatter"
                }
              ],
              "layout": {
                "template": {
                  "data": {
                    "histogram2dcontour": [
                      {
                        "type": "histogram2dcontour",
                        "colorbar": {
                          "outlinewidth": 0,
                          "ticks": ""
                        },
                        "colorscale": [
                          [
                            0,
                            "#0d0887"
                          ],
                          [
                            0.1111111111111111,
                            "#46039f"
                          ],
                          [
                            0.2222222222222222,
                            "#7201a8"
                          ],
                          [
                            0.3333333333333333,
                            "#9c179e"
                          ],
                          [
                            0.4444444444444444,
                            "#bd3786"
                          ],
                          [
                            0.5555555555555556,
                            "#d8576b"
                          ],
                          [
                            0.6666666666666666,
                            "#ed7953"
                          ],
                          [
                            0.7777777777777778,
                            "#fb9f3a"
                          ],
                          [
                            0.8888888888888888,
                            "#fdca26"
                          ],
                          [
                            1,
                            "#f0f921"
                          ]
                        ]
                      }
                    ],
                    "choropleth": [
                      {
                        "type": "choropleth",
                        "colorbar": {
                          "outlinewidth": 0,
                          "ticks": ""
                        }
                      }
                    ],
                    "histogram2d": [
                      {
                        "type": "histogram2d",
                        "colorbar": {
                          "outlinewidth": 0,
                          "ticks": ""
                        },
                        "colorscale": [
                          [
                            0,
                            "#0d0887"
                          ],
                          [
                            0.1111111111111111,
                            "#46039f"
                          ],
                          [
                            0.2222222222222222,
                            "#7201a8"
                          ],
                          [
                            0.3333333333333333,
                            "#9c179e"
                          ],
                          [
                            0.4444444444444444,
                            "#bd3786"
                          ],
                          [
                            0.5555555555555556,
                            "#d8576b"
                          ],
                          [
                            0.6666666666666666,
                            "#ed7953"
                          ],
                          [
                            0.7777777777777778,
                            "#fb9f3a"
                          ],
                          [
                            0.8888888888888888,
                            "#fdca26"
                          ],
                          [
                            1,
                            "#f0f921"
                          ]
                        ]
                      }
                    ],
                    "heatmap": [
                      {
                        "type": "heatmap",
                        "colorbar": {
                          "outlinewidth": 0,
                          "ticks": ""
                        },
                        "colorscale": [
                          [
                            0,
                            "#0d0887"
                          ],
                          [
                            0.1111111111111111,
                            "#46039f"
                          ],
                          [
                            0.2222222222222222,
                            "#7201a8"
                          ],
                          [
                            0.3333333333333333,
                            "#9c179e"
                          ],
                          [
                            0.4444444444444444,
                            "#bd3786"
                          ],
                          [
                            0.5555555555555556,
                            "#d8576b"
                          ],
                          [
                            0.6666666666666666,
                            "#ed7953"
                          ],
                          [
                            0.7777777777777778,
                            "#fb9f3a"
                          ],
                          [
                            0.8888888888888888,
                            "#fdca26"
                          ],
                          [
                            1,
                            "#f0f921"
                          ]
                        ]
                      }
                    ],
                    "heatmapgl": [
                      {
                        "type": "heatmapgl",
                        "colorbar": {
                          "outlinewidth": 0,
                          "ticks": ""
                        },
                        "colorscale": [
                          [
                            0,
                            "#0d0887"
                          ],
                          [
                            0.1111111111111111,
                            "#46039f"
                          ],
                          [
                            0.2222222222222222,
                            "#7201a8"
                          ],
                          [
                            0.3333333333333333,
                            "#9c179e"
                          ],
                          [
                            0.4444444444444444,
                            "#bd3786"
                          ],
                          [
                            0.5555555555555556,
                            "#d8576b"
                          ],
                          [
                            0.6666666666666666,
                            "#ed7953"
                          ],
                          [
                            0.7777777777777778,
                            "#fb9f3a"
                          ],
                          [
                            0.8888888888888888,
                            "#fdca26"
                          ],
                          [
                            1,
                            "#f0f921"
                          ]
                        ]
                      }
                    ],
                    "contourcarpet": [
                      {
                        "type": "contourcarpet",
                        "colorbar": {
                          "outlinewidth": 0,
                          "ticks": ""
                        }
                      }
                    ],
                    "contour": [
                      {
                        "type": "contour",
                        "colorbar": {
                          "outlinewidth": 0,
                          "ticks": ""
                        },
                        "colorscale": [
                          [
                            0,
                            "#0d0887"
                          ],
                          [
                            0.1111111111111111,
                            "#46039f"
                          ],
                          [
                            0.2222222222222222,
                            "#7201a8"
                          ],
                          [
                            0.3333333333333333,
                            "#9c179e"
                          ],
                          [
                            0.4444444444444444,
                            "#bd3786"
                          ],
                          [
                            0.5555555555555556,
                            "#d8576b"
                          ],
                          [
                            0.6666666666666666,
                            "#ed7953"
                          ],
                          [
                            0.7777777777777778,
                            "#fb9f3a"
                          ],
                          [
                            0.8888888888888888,
                            "#fdca26"
                          ],
                          [
                            1,
                            "#f0f921"
                          ]
                        ]
                      }
                    ],
                    "surface": [
                      {
                        "type": "surface",
                        "colorbar": {
                          "outlinewidth": 0,
                          "ticks": ""
                        },
                        "colorscale": [
                          [
                            0,
                            "#0d0887"
                          ],
                          [
                            0.1111111111111111,
                            "#46039f"
                          ],
                          [
                            0.2222222222222222,
                            "#7201a8"
                          ],
                          [
                            0.3333333333333333,
                            "#9c179e"
                          ],
                          [
                            0.4444444444444444,
                            "#bd3786"
                          ],
                          [
                            0.5555555555555556,
                            "#d8576b"
                          ],
                          [
                            0.6666666666666666,
                            "#ed7953"
                          ],
                          [
                            0.7777777777777778,
                            "#fb9f3a"
                          ],
                          [
                            0.8888888888888888,
                            "#fdca26"
                          ],
                          [
                            1,
                            "#f0f921"
                          ]
                        ]
                      }
                    ],
                    "mesh3d": [
                      {
                        "type": "mesh3d",
                        "colorbar": {
                          "outlinewidth": 0,
                          "ticks": ""
                        }
                      }
                    ],
                    "scatter": [
                      {
                        "fillpattern": {
                          "fillmode": "overlay",
                          "size": 10,
                          "solidity": 0.2
                        },
                        "type": "scatter"
                      }
                    ],
                    "parcoords": [
                      {
                        "type": "parcoords",
                        "line": {
                          "colorbar": {
                            "outlinewidth": 0,
                            "ticks": ""
                          }
                        }
                      }
                    ],
                    "scatterpolargl": [
                      {
                        "type": "scatterpolargl",
                        "marker": {
                          "colorbar": {
                            "outlinewidth": 0,
                            "ticks": ""
                          }
                        }
                      }
                    ],
                    "bar": [
                      {
                        "error_x": {
                          "color": "#2a3f5f"
                        },
                        "error_y": {
                          "color": "#2a3f5f"
                        },
                        "marker": {
                          "line": {
                            "color": "#E5ECF6",
                            "width": 0.5
                          },
                          "pattern": {
                            "fillmode": "overlay",
                            "size": 10,
                            "solidity": 0.2
                          }
                        },
                        "type": "bar"
                      }
                    ],
                    "scattergeo": [
                      {
                        "type": "scattergeo",
                        "marker": {
                          "colorbar": {
                            "outlinewidth": 0,
                            "ticks": ""
                          }
                        }
                      }
                    ],
                    "scatterpolar": [
                      {
                        "type": "scatterpolar",
                        "marker": {
                          "colorbar": {
                            "outlinewidth": 0,
                            "ticks": ""
                          }
                        }
                      }
                    ],
                    "histogram": [
                      {
                        "marker": {
                          "pattern": {
                            "fillmode": "overlay",
                            "size": 10,
                            "solidity": 0.2
                          }
                        },
                        "type": "histogram"
                      }
                    ],
                    "scattergl": [
                      {
                        "type": "scattergl",
                        "marker": {
                          "colorbar": {
                            "outlinewidth": 0,
                            "ticks": ""
                          }
                        }
                      }
                    ],
                    "scatter3d": [
                      {
                        "type": "scatter3d",
                        "line": {
                          "colorbar": {
                            "outlinewidth": 0,
                            "ticks": ""
                          }
                        },
                        "marker": {
                          "colorbar": {
                            "outlinewidth": 0,
                            "ticks": ""
                          }
                        }
                      }
                    ],
                    "scattermapbox": [
                      {
                        "type": "scattermapbox",
                        "marker": {
                          "colorbar": {
                            "outlinewidth": 0,
                            "ticks": ""
                          }
                        }
                      }
                    ],
                    "scatterternary": [
                      {
                        "type": "scatterternary",
                        "marker": {
                          "colorbar": {
                            "outlinewidth": 0,
                            "ticks": ""
                          }
                        }
                      }
                    ],
                    "scattercarpet": [
                      {
                        "type": "scattercarpet",
                        "marker": {
                          "colorbar": {
                            "outlinewidth": 0,
                            "ticks": ""
                          }
                        }
                      }
                    ],
                    "carpet": [
                      {
                        "aaxis": {
                          "endlinecolor": "#2a3f5f",
                          "gridcolor": "white",
                          "linecolor": "white",
                          "minorgridcolor": "white",
                          "startlinecolor": "#2a3f5f"
                        },
                        "baxis": {
                          "endlinecolor": "#2a3f5f",
                          "gridcolor": "white",
                          "linecolor": "white",
                          "minorgridcolor": "white",
                          "startlinecolor": "#2a3f5f"
                        },
                        "type": "carpet"
                      }
                    ],
                    "table": [
                      {
                        "cells": {
                          "fill": {
                            "color": "#EBF0F8"
                          },
                          "line": {
                            "color": "white"
                          }
                        },
                        "header": {
                          "fill": {
                            "color": "#C8D4E3"
                          },
                          "line": {
                            "color": "white"
                          }
                        },
                        "type": "table"
                      }
                    ],
                    "barpolar": [
                      {
                        "marker": {
                          "line": {
                            "color": "#E5ECF6",
                            "width": 0.5
                          },
                          "pattern": {
                            "fillmode": "overlay",
                            "size": 10,
                            "solidity": 0.2
                          }
                        },
                        "type": "barpolar"
                      }
                    ],
                    "pie": [
                      {
                        "automargin": true,
                        "type": "pie"
                      }
                    ]
                  },
                  "layout": {
                    "autotypenumbers": "strict",
                    "colorway": [
                      "#636efa",
                      "#EF553B",
                      "#00cc96",
                      "#ab63fa",
                      "#FFA15A",
                      "#19d3f3",
                      "#FF6692",
                      "#B6E880",
                      "#FF97FF",
                      "#FECB52"
                    ],
                    "font": {
                      "color": "#2a3f5f"
                    },
                    "hovermode": "closest",
                    "hoverlabel": {
                      "align": "left"
                    },
                    "paper_bgcolor": "white",
                    "plot_bgcolor": "#E5ECF6",
                    "polar": {
                      "bgcolor": "#E5ECF6",
                      "angularaxis": {
                        "gridcolor": "white",
                        "linecolor": "white",
                        "ticks": ""
                      },
                      "radialaxis": {
                        "gridcolor": "white",
                        "linecolor": "white",
                        "ticks": ""
                      }
                    },
                    "ternary": {
                      "bgcolor": "#E5ECF6",
                      "aaxis": {
                        "gridcolor": "white",
                        "linecolor": "white",
                        "ticks": ""
                      },
                      "baxis": {
                        "gridcolor": "white",
                        "linecolor": "white",
                        "ticks": ""
                      },
                      "caxis": {
                        "gridcolor": "white",
                        "linecolor": "white",
                        "ticks": ""
                      }
                    },
                    "coloraxis": {
                      "colorbar": {
                        "outlinewidth": 0,
                        "ticks": ""
                      }
                    },
                    "colorscale": {
                      "sequential": [
                        [
                          0,
                          "#0d0887"
                        ],
                        [
                          0.1111111111111111,
                          "#46039f"
                        ],
                        [
                          0.2222222222222222,
                          "#7201a8"
                        ],
                        [
                          0.3333333333333333,
                          "#9c179e"
                        ],
                        [
                          0.4444444444444444,
                          "#bd3786"
                        ],
                        [
                          0.5555555555555556,
                          "#d8576b"
                        ],
                        [
                          0.6666666666666666,
                          "#ed7953"
                        ],
                        [
                          0.7777777777777778,
                          "#fb9f3a"
                        ],
                        [
                          0.8888888888888888,
                          "#fdca26"
                        ],
                        [
                          1,
                          "#f0f921"
                        ]
                      ],
                      "sequentialminus": [
                        [
                          0,
                          "#0d0887"
                        ],
                        [
                          0.1111111111111111,
                          "#46039f"
                        ],
                        [
                          0.2222222222222222,
                          "#7201a8"
                        ],
                        [
                          0.3333333333333333,
                          "#9c179e"
                        ],
                        [
                          0.4444444444444444,
                          "#bd3786"
                        ],
                        [
                          0.5555555555555556,
                          "#d8576b"
                        ],
                        [
                          0.6666666666666666,
                          "#ed7953"
                        ],
                        [
                          0.7777777777777778,
                          "#fb9f3a"
                        ],
                        [
                          0.8888888888888888,
                          "#fdca26"
                        ],
                        [
                          1,
                          "#f0f921"
                        ]
                      ],
                      "diverging": [
                        [
                          0,
                          "#8e0152"
                        ],
                        [
                          0.1,
                          "#c51b7d"
                        ],
                        [
                          0.2,
                          "#de77ae"
                        ],
                        [
                          0.3,
                          "#f1b6da"
                        ],
                        [
                          0.4,
                          "#fde0ef"
                        ],
                        [
                          0.5,
                          "#f7f7f7"
                        ],
                        [
                          0.6,
                          "#e6f5d0"
                        ],
                        [
                          0.7,
                          "#b8e186"
                        ],
                        [
                          0.8,
                          "#7fbc41"
                        ],
                        [
                          0.9,
                          "#4d9221"
                        ],
                        [
                          1,
                          "#276419"
                        ]
                      ]
                    },
                    "xaxis": {
                      "gridcolor": "white",
                      "linecolor": "white",
                      "ticks": "",
                      "title": {
                        "standoff": 15
                      },
                      "zerolinecolor": "white",
                      "automargin": true,
                      "zerolinewidth": 2
                    },
                    "yaxis": {
                      "gridcolor": "white",
                      "linecolor": "white",
                      "ticks": "",
                      "title": {
                        "standoff": 15
                      },
                      "zerolinecolor": "white",
                      "automargin": true,
                      "zerolinewidth": 2
                    },
                    "scene": {
                      "xaxis": {
                        "backgroundcolor": "#E5ECF6",
                        "gridcolor": "white",
                        "linecolor": "white",
                        "showbackground": true,
                        "ticks": "",
                        "zerolinecolor": "white",
                        "gridwidth": 2
                      },
                      "yaxis": {
                        "backgroundcolor": "#E5ECF6",
                        "gridcolor": "white",
                        "linecolor": "white",
                        "showbackground": true,
                        "ticks": "",
                        "zerolinecolor": "white",
                        "gridwidth": 2
                      },
                      "zaxis": {
                        "backgroundcolor": "#E5ECF6",
                        "gridcolor": "white",
                        "linecolor": "white",
                        "showbackground": true,
                        "ticks": "",
                        "zerolinecolor": "white",
                        "gridwidth": 2
                      }
                    },
                    "shapedefaults": {
                      "line": {
                        "color": "#2a3f5f"
                      }
                    },
                    "annotationdefaults": {
                      "arrowcolor": "#2a3f5f",
                      "arrowhead": 0,
                      "arrowwidth": 1
                    },
                    "geo": {
                      "bgcolor": "white",
                      "landcolor": "#E5ECF6",
                      "subunitcolor": "white",
                      "showland": true,
                      "showlakes": true,
                      "lakecolor": "white"
                    },
                    "title": {
                      "x": 0.05
                    },
                    "mapbox": {
                      "style": "light"
                    }
                  }
                },
                "xaxis": {
                  "anchor": "y",
                  "domain": [
                    0,
                    1
                  ],
                  "title": {
                    "text": "closest_cosim"
                  }
                },
                "yaxis": {
                  "anchor": "x",
                  "domain": [
                    0,
                    1
                  ],
                  "title": {
                    "text": "archq3_cosim"
                  }
                },
                "legend": {
                  "tracegroupgap": 0
                },
                "title": {
                  "text": "Comparison of Closest Cosine Similarity to Archetype 3"
                }
              },
              "config": {
                "plotlyServerURL": "https://plot.ly"
              }
            },
            "text/html": "<div>                            <div id=\"7bbc76fb-8bdd-4e95-826f-042a6c451365\" class=\"plotly-graph-div\" style=\"height:525px; width:100%;\"></div>            <script type=\"text/javascript\">                require([\"plotly\"], function(Plotly) {                    window.PLOTLYENV=window.PLOTLYENV || {};                                    if (document.getElementById(\"7bbc76fb-8bdd-4e95-826f-042a6c451365\")) {                    Plotly.newPlot(                        \"7bbc76fb-8bdd-4e95-826f-042a6c451365\",                        [{\"hovertemplate\":\"closest_cosim=%{x}\\u003cbr\\u003earchq3_cosim=%{y}\\u003cextra\\u003e\\u003c\\u002fextra\\u003e\",\"legendgroup\":\"\",\"marker\":{\"color\":\"#636efa\",\"symbol\":\"circle\"},\"mode\":\"markers\",\"name\":\"\",\"orientation\":\"v\",\"showlegend\":false,\"x\":[0.06595879700269358,0.1400309889962853,0.16048872507552492,0.11383665579443725,0.07910549846029369,0.11520151837330106,0.12565420134930871,0.10436907356733582,0.15410573222392876,0.1261215481094632,0.1484042944292675,0.11630370913198729,0.11109835978615967,0.1451157248174223,0.14944096465775547,0.09487103850594814,0.11821614983830764,0.14618515663943055,0.1533541502244965,0.13700411660555423,0.10523179285908535,0.11152903471341913,0.1569140275795503,0.15486792721348464,0.0986977285097802,0.0874856558083541,0.06872481070970948,0.06958996202339673,0.11052911205060423,0.10141733908658601,0.10932510185425803,0.07825589625781704,0.06143920448768281,0.11143918295688904,0.10031344605395753,0.06768842557473331,0.11865466600279839,0.06439801884906016,0.10809502560353657,0.06339332887498794,0.09803244851337367,0.10543917417975379,0.06371990727502597,0.08459331360587152,0.10707043814919726,0.07772717814080199,0.11441872842810963,0.07618106478774311,0.12009218603294358,0.06201053784132993,0.10858515508203748,0.06962409458354735,0.0666962822560101,0.0754864808370449,0.07894276330842631,0.06440674540455393,0.08138691940887433,0.07121625924433905,0.07073500854377168,0.07901405035052833,0.07585918683468185,0.08773849780227083,0.06836404034189925,0.05748208429907886,0.06748838297434667,0.07666681397004915,0.05837120217360936,0.07597137966587653,0.06371391082732858,0.06998822379656067,0.05883034760405759,0.07167277361885949,0.07364961778504886,0.07216944102289768,0.07796341816996921,0.0575509640654841,0.08276313707134031,0.08397442517388931,0.08498289182099594,0.07033442189330885,0.08681073663937056,0.04639092218427343,0.08231033004932198,0.06660413711771451,0.07812372682510382,0.08799926525804236,0.08730603847110485,0.07779555289781614,0.095322807264281,0.053459771919292076,0.0859117650106842,0.06230621486425425,0.06678961506803405,0.0652513406809817,0.05649468408129421,0.07052316750876919,0.08761394795453259,0.06651598908138212,0.07790166730530657,0.10039378217095918,0.047325098313189096,0.09499150134321543,0.07565018486048825,0.1091772587928207,0.09519928526167565,0.09316655520520145,0.06865982495128031,0.0991124929867081,0.08874027210727153,0.10260052783126572,0.09011259776953928,0.09322000781738449,0.0907771860955231,0.09490313262492633,0.09106762499336774,0.09082443115856986,0.08469612970933371,0.07714778261272504,0.07698577598364709,0.08718470352958574,0.08997059833565568,0.09670676969170011,0.08993104838570787,0.08641821756014578,0.08408326962285506,0.08744457278230255,0.05192296765427251,0.06602631696054628,0.04817179349082146,0.05911820854700389,0.07102146466287385,0.05631011182645862,0.07550395526353326,0.05990717849355531,0.05674162014738282,0.05450478506504697,0.05383745690917541,0.06087963551506714,0.05937154495585717,0.06891755453661041,0.0652844314370381,0.06992587513937654,0.06543442802973998,0.06925580074609083,0.051201896968669836,0.06621738555787382,0.0625092087394713,0.058923388684044564,0.0766047680471803,0.06523376874239784,0.12021544477192947,0.08302252424323275,0.12396114729227592,0.12144773077202198,0.0951576379773107,0.08267925358592865,0.15224529567890643,0.07156041625596388,0.11707798050414076,0.10749860495821073,0.08299017896065009,0.11885501830630596,0.11344886330014892,0.11526086175392658,0.1042976526125271,0.14340580261874503,0.08093410647729371,0.12148260194603122,0.10039276717695933,0.10749860495821073,0.13368648789477544,0.0919443864760845,0.12151981741341145,0.08912496755129784,0.06442242598585324,0.07984428180831982,0.11339314809332546,0.09009696745102558,0.08827472499464528,0.10851499645327078,0.07599367327518414,0.08153038157511094,0.11750597861844192,0.10827013443608191,0.09425350076963435,0.12085637058645626,0.08714221276567335,0.08481715562308345,0.06257932599204308,0.08230547358041385,0.08598613104154795,0.09007735715404852,0.11398192075805291,0.10333341695561316,0.11077387244149273,0.06838623467458826,0.10589925347384965,0.09414949341932455,0.10520068614904587,0.07799093588700656,0.09426837409994049,0.12469817780734682,0.09604855944201052,0.11154960760676069,0.12674186918826336,0.09559139654213422,0.12328415486557742,0.10489354819379881,0.09285311482379732,0.09966399165740891,0.12119367034383755,0.09356133893216612,0.10432855107584771,0.09878648185329064,0.09213249994753014,0.10690955823664183,0.10842979721614987,0.10792362468098848,0.08273682283200423,0.12367223591189058,0.10844586651840094,0.11700745786105116,0.08848087063251542,0.12126160950414722,0.09746707401115717,0.0893661075479657,0.12467229780233047,0.08956211538115166,0.10313990652538252,0.12275812745436132,0.08203393089359867,0.12263538017913289,0.09941119626696604,0.0881562609296549,0.09254319048717874,0.12136540221058223,0.09337511742399773,0.09544367603608583,0.09309614700398128,0.08460867328407318,0.09801468112426637,0.10295958709618414,0.10808106271001705,0.08099573169685748,0.11838111906957993,0.0898577564883557,0.11475024955483137,0.08714787001358004,0.12179101535602155,0.09772373415364632,0.08694835091869557,0.10138502997766508,0.09621587964799416,0.10903548411243125,0.09244777195894793,0.07986302924303446,0.12400924979531669,0.11195602295051676,0.09388602528251,0.10990123086622616,0.11092761525282635,0.10467442863047793,0.08391741378891726,0.12139124653469258,0.11182466799755619,0.11950304943935186,0.08334617508954745,0.12461057927355412,0.10103412121929978,0.13790399082136484,0.1268880729391293,0.11434865176570752,0.09425622583998305,0.08385485622799249,0.12841349057964524,0.1152619759969351,0.08394692223745814,0.09364766258184154,0.12004242893293271,0.0825608948670401,0.12021544477192947,0.07477798064821384,0.11171680763638803,0.07606440753833732,0.10558011628929709,0.09071634005536178,0.11742055402353979,0.07451120241528619,0.07434263800524754,0.08733256807131717,0.0923725368819861,0.12019767177045693,0.08588341200729943,0.08755771812183333,0.09378043043570716,0.11568485667304407,0.07625971680968979,0.12604665567787754,0.09703936086223164,0.08110444004903028,0.12542798780538011,0.09231457701865564,0.06559151079540781,0.055490353666507786,0.08071243461693467,0.10560198501419438,0.058105212772708414,0.09306260543042832,0.09691006335381591,0.060943170154337145,0.08886900046228696,0.04340761141428284,0.088237630394576,0.06411585472916081,0.10197804787731368,0.09817885469174781,0.05457671819082577,0.11173523255196094,0.044216651268167206,0.09653973607186861,0.0909146016910719,0.0878144685446659,0.10841048110223428,0.0444967126148047,0.06709153478969154,0.0781671278234215,0.05254282677498934,0.1013255395922773,0.09561968520537711,0.07827685977003485,0.06842089591352296,0.1034713100617356,0.07366359467114703,0.1001956330713113,0.06272925622843384,0.10454655673620683,0.08487139297294644,0.07038877218096051,0.10102686324159116,0.05305013827295202,0.08024228390785626,0.10519509541190475,0.06877127478447154,0.09251883056973487,0.07688219398795304,0.04506521920463491,0.08619669263843488,0.08250995078255219,0.08318261734254462,0.05993002142634973,0.07649816391278186,0.1014442532890174,0.09798088080503564,0.10103165781779389,0.1036190017295574,0.09255026236611663,0.07920484107759085,0.08827313492887079,0.10189406804050372,0.08360221189614303,0.109952446868532,0.07490705210765158,0.12385280007787758,0.07771875040852372,0.10088216958256302,0.11393042368287598,0.08964863165528547,0.11288413419011356,0.10388638612835133,0.09977976662333288,0.085881745739524,0.09003040986413657,0.10739033317556745,0.07241939872533742,0.06668346208094711,0.09314887071763911,0.0774606167648264,0.10888929871592379,0.09153937631009557,0.11388172346739567,0.08697001772197965,0.13198276595700276,0.08227468217577671,0.11139316572368141,0.11535560613994256,0.09218796951495767,0.1104696620418586,0.1238245211850475,0.1062522783958505,0.08299263615250319,0.1013789286439768,0.09475706382472049,0.11543588815165984,0.09913285402036964,0.09848077378896691,0.09190636874031588,0.09959248533333576,0.10718245943501226,0.09508157003866868,0.07332718881059674,0.05381015078360141,0.06888171361806039,0.09819786662599528,0.08876332374858265,0.07433833773406218,0.09552278694165539,0.11650511562716903,0.11753750199906698,0.07605001328082672,0.1139157486992094,0.09806179129483295,0.06145050370646499,0.13489512328268916,0.0714431723805169,0.10173408079264235,0.07269900849499089,0.09758492875899905,0.07172327164336556,0.06880111729030502,0.0745693122932013,0.1003215433766167,0.08681444385965531,0.0974022852827382,0.11287930207608099,0.06496364456993142,0.12878056306409713,0.1306030756769584,0.06829299903291552,0.12048367721085906,0.11873528579087611,0.08538593123198734,0.0629344946112016,0.08298034171588464,0.1275256736813647,0.1128214168836954,0.12087968879955868,0.06354562561701615,0.10537585895973323,0.07392406429331588,0.12469714172584556,0.11403198972590967,0.13417224520865,0.08346266349209475,0.06283709544078553,0.12345504543824792,0.06584863819784703,0.11038498525022677,0.09901839415761926,0.0614194890882801,0.026189207450928897,0.12600694481762453,0.12144524908730858,0.12697805406452656,0.11140878823081724,0.1187471397760883,0.12089842666459905,0.11776905590400966,0.1532248981390093,0.16054869170422514,0.18178382375645286,0.13595278364667307,0.11837328073848852,0.12540852696246252,0.160649109530681,0.13646883017869393,0.12360589629451513,0.22254652230970073,0.13700510979267588,0.13881778824768543,0.182850227920906,0.13149976874104552,0.10939178528712834,0.15250232018964027,0.04313537168450832,0.07807709212060288,0.13215179889710238,0.07349115921283489,0.1494465067064692,0.10074950932734106,0.14210642348848823,0.13655685519215421,0.08780727551223078,0.1283722887532628,0.12416264834837754,0.17092983940977036,0.10023133584942023,0.10947728051059413,0.10408639711438994,0.13128826089494794,0.13732112408738406,0.1345683291760278,0.12143950105982504,0.1146450902290056,0.1306657117524137,0.1343997500046198,0.1093951076690245,0.09587921782601583,0.1272738745586418,0.039044985128985576,0.04778119783572332,0.11363967849949208,0.07042560713042467,0.09094839259487231,0.10305022210720627,0.13355112605464692,0.12209007843664166,0.11604346123478182,0.11255237613657398,0.11224498239327196,0.12367886922713844,0.10620528957388675,0.10693879213296276,0.08959038561963006,0.12379549041461346,0.09335855627254752,0.12188384652340223,0.12345960221283725,0.14193889514627978,0.1072114413619415,0.12480965190171978,0.06241175634197238,0.09762121921742328,0.09730527881676798,0.0991527737926663,0.10826292406448401,0.07867933443662567,0.09628216581317561,0.07275248930379641,0.07577564082361232,0.06706279162678208,0.103154643500448,0.06380426539227568,0.06006278390001063,0.04862538982256903,0.08099745393215796,0.05936369023048804,0.0786939827786467,0.09029097590896684,0.0858421153488228,0.05946982709059412,0.07204225181853896,0.05111130933809904,0.03714440117151541,0.07615217898020543,0.05996597406381088,0.043533289273712805,0.07802533166776116,0.060579463816113566,0.04799714133946775,0.05199098499954713,0.04430431417475844,0.11133703727087985,0.08580463198113253,0.10946412701083497,0.09963590354445984,0.10112050812236895,0.09278879473110424,0.1270473167411621,0.07660794271892246,0.13630090880787504,0.1194865347720464,0.13977135369236082,0.10797787588068453,0.13393265423170775,0.13512118139693152,0.09200328199323282,0.10064246909284025,0.11693723357684582,0.12396519817374951,0.14476301083429632,0.12899838760759819,0.10681914870208231,0.13468672238354784,0.12063679927088022,0.11437756444163338,0.07973754245810005,0.04642169862249035,0.10271693078340349,0.10902968623788623,0.09938245702535309,0.12159326581312513,0.11719484378682932,0.11031708434967491,0.12943110986583883,0.12090486435436065,0.1359559896177971,0.1307467693256894,0.09942836183047288,0.12479651477755793,0.11222825189515828,0.11637146468876747,0.12497594451741956,0.1117419764361628,0.10430374653295793,0.11152440507738826,0.11921740125995917,0.12401299069046834,0.12765985054893025,0.13544425863435083],\"xaxis\":\"x\",\"y\":[0.11206966834544252,0.14705522081457012,0.16096027013053338,0.11383665579443725,0.07910549846029369,0.11520151837330106,0.12565420134930871,0.11645876239588504,0.15410573222392876,0.1261215481094632,0.1535080340028212,0.11630370913198729,0.11109835978615967,0.1451157248174223,0.14944096465775547,0.09487103850594814,0.11821614983830764,0.14618515663943055,0.1533541502244965,0.13700411660555423,0.10523179285908535,0.11152903471341913,0.16975181153294328,0.15486792721348464,0.0986977285097802,0.0874856558083541,0.06872481070970948,0.0739551276534054,0.11052911205060423,0.10141733908658601,0.10932510185425803,0.07825589625781704,0.06143920448768281,0.11627393926754448,0.10031344605395753,0.06768842557473331,0.11865466600279839,0.06439801884906016,0.10910202714451056,0.0723851688625442,0.09803244851337367,0.10543917417975379,0.06371990727502597,0.08459331360587152,0.10707043814919726,0.07772717814080199,0.11441872842810963,0.0767883805365498,0.12009218603294358,0.06201053784132993,0.10858515508203748,0.11040992815948936,0.10410315241584689,0.09778984249026956,0.12025583656316652,0.10440399477523621,0.11183680452900313,0.0953270210677698,0.10995720304422785,0.1045395408113553,0.10600056516378509,0.12282547680623213,0.09292533492514554,0.09168031899470075,0.10514090533516651,0.1259980502410215,0.090978804987359,0.114362632924776,0.09459865107443499,0.10946580725561517,0.09534557574859592,0.10778789914335607,0.10378594181047096,0.10341515963233439,0.11499164308097876,0.10435914530037316,0.11537293992776232,0.12470552266545332,0.09734047872287654,0.10971114828594797,0.1064737968969548,0.09040844026483641,0.11018768582213645,0.10279268636856487,0.10214283851256634,0.12176295281154026,0.0992996508532542,0.11588893708802905,0.1201416678115419,0.09400515707907009,0.1153715273613205,0.0896438017886908,0.09020036385161767,0.09629864833143764,0.08354176174535632,0.11398063922088253,0.12041626592642418,0.08687882911915124,0.10249394480617235,0.11861388853176891,0.08695449432178881,0.10727864426862976,0.08537041071902252,0.11649228002927192,0.10647720281073791,0.10012020445636416,0.1013338061617286,0.10798011895556903,0.08874027210727153,0.1142734636796433,0.09580218338332236,0.10513429051052614,0.09758200237479597,0.10449273989296959,0.0911939076474757,0.10827679031321691,0.09189182224308512,0.10375825288204332,0.09114630591625639,0.10248682282495691,0.09839182288241721,0.10625664685267922,0.0987394923358833,0.09925247885065713,0.09237235373092778,0.09731458468078602,0.08698240922562694,0.09451060400928835,0.10038027490411405,0.10014844409182566,0.11616253159659562,0.09530861537378188,0.11919993198095669,0.09615490660341386,0.09342144697663557,0.0893512763698574,0.10282196315838299,0.09820453029995868,0.0872167793408769,0.10214482401805869,0.10783249304609055,0.09909337858016698,0.1017403840118497,0.10145904900806568,0.09104289970785873,0.09780798263755464,0.09697568658599953,0.10406806489695286,0.10322817338703583,0.10687364285266909,0.12192950892797438,0.08302252424323275,0.12396114729227592,0.1271373522570649,0.0951576379773107,0.08267925358592865,0.15224529567890643,0.07156041625596388,0.13271152365779915,0.10749860495821073,0.08299017896065009,0.13055397622345577,0.11344886330014892,0.12297599222845168,0.1042976526125271,0.14361711294144075,0.08093410647729371,0.12148260194603122,0.1299419547011872,0.10749860495821073,0.13368648789477544,0.10252770122601607,0.12722044792544007,0.08912496755129784,0.06442242598585324,0.07984428180831982,0.13439757965601706,0.09009696745102558,0.08827472499464528,0.1096391966182666,0.07599367327518414,0.08153038157511094,0.11750597861844192,0.12647274139350417,0.09494937015608884,0.12140132981571572,0.08714221276567335,0.08481715562308345,0.06257932599204308,0.09574205284452075,0.08598613104154795,0.096707007019049,0.11398192075805291,0.10460420583814578,0.11077387244149273,0.07850660192911407,0.10589925347384965,0.09414949341932455,0.10520068614904587,0.07799093588700656,0.09907686189280251,0.12469817780734682,0.09604855944201052,0.11154960760676069,0.12674186918826336,0.09559139654213422,0.12328415486557742,0.10489354819379881,0.12613066719016208,0.09966399165740891,0.1325672233791061,0.09356133893216612,0.10432855107584771,0.09878648185329064,0.09981458582696567,0.10690955823664183,0.10842979721614987,0.1106401533139566,0.09516348904582961,0.12367223591189058,0.10844586651840094,0.12047867271208479,0.08848087063251542,0.13088959120251253,0.09746707401115717,0.095582183564767,0.12467229780233047,0.08956211538115166,0.10313990652538252,0.1290992758586913,0.08203393089359867,0.12263538017913289,0.09941119626696604,0.12476726877827293,0.09254319048717874,0.13139323955059523,0.09337511742399773,0.09544367603608583,0.09309614700398128,0.0956939382012364,0.09801468112426637,0.10304291531234844,0.11466460964311342,0.09264185612817977,0.1239889190068596,0.0898577564883557,0.1189966571744221,0.08714787001358004,0.13219648229435133,0.09772373415364632,0.08694835091869557,0.10138502997766508,0.09680321196960961,0.10903548411243125,0.11630370437471793,0.08569665305788987,0.1442050729842297,0.11195602295051676,0.09388602528251,0.10990123086622616,0.11725356438116141,0.11208692591621638,0.09527358094144567,0.12201886263545503,0.11567830743192775,0.11950304943935186,0.09158292959928827,0.12461057927355412,0.10103412121929978,0.13887107543678567,0.1268880729391293,0.11434865176570752,0.1228638303264471,0.09757453018790785,0.14216320163711615,0.1152619759969351,0.08577115730493379,0.09364766258184154,0.1306671644587759,0.0825608948670401,0.12192950892797438,0.08246262479126765,0.11944683529626765,0.08792551606379273,0.12603165767866764,0.09710627466472965,0.13824652096367462,0.09192043782782122,0.08370419271054741,0.08733256807131717,0.0923725368819861,0.1334336512412756,0.08588341200729943,0.13378074106308468,0.09378043043570716,0.12410396083478503,0.07625971680968979,0.1276331433422233,0.09703936086223164,0.08110444004903028,0.1280933954732274,0.09231457701865564,0.06559151079540781,0.055490353666507786,0.08071243461693467,0.10560198501419438,0.058105212772708414,0.10406683695067898,0.09691006335381591,0.060943170154337145,0.08886900046228696,0.04340761141428284,0.088237630394576,0.06411585472916081,0.10197804787731368,0.09817885469174781,0.05457671819082577,0.11173523255196094,0.044216651268167206,0.09653973607186861,0.0909146016910719,0.0878144685446659,0.11070808540692456,0.0444967126148047,0.06709153478969154,0.0781671278234215,0.05254282677498934,0.1013255395922773,0.09561968520537711,0.07827685977003485,0.06842089591352296,0.1034713100617356,0.07366359467114703,0.1001956330713113,0.06272925622843384,0.10454655673620683,0.08487139297294644,0.07038877218096051,0.10102686324159116,0.05305013827295202,0.08024228390785626,0.10519509541190475,0.06877127478447154,0.09251883056973487,0.07688219398795304,0.04506521920463491,0.08619669263843488,0.08250995078255219,0.08318261734254462,0.05993002142634973,0.07649816391278186,0.1014442532890174,0.09798088080503564,0.10103165781779389,0.1036190017295574,0.09255026236611663,0.07920484107759085,0.08827313492887079,0.10189406804050372,0.08360221189614303,0.109952446868532,0.07490705210765158,0.12385280007787758,0.07771875040852372,0.10088216958256302,0.11393042368287598,0.08964863165528547,0.11288413419011356,0.10388638612835133,0.09977976662333288,0.085881745739524,0.09003040986413657,0.10739033317556745,0.07241939872533742,0.06668346208094711,0.09314887071763911,0.0774606167648264,0.10888929871592379,0.09153937631009557,0.11388172346739567,0.08697001772197965,0.13198276595700276,0.08227468217577671,0.11139316572368141,0.11535560613994256,0.09218796951495767,0.1104696620418586,0.1238245211850475,0.11148647009822199,0.08299263615250319,0.1013789286439768,0.09475706382472049,0.11543588815165984,0.09913285402036964,0.09848077378896691,0.09190636874031588,0.09959248533333576,0.10718245943501226,0.09508157003866868,0.07332718881059674,0.05381015078360141,0.06888171361806039,0.09819786662599528,0.08876332374858265,0.07433833773406218,0.09552278694165539,0.11650511562716903,0.11753750199906698,0.07605001328082672,0.1139157486992094,0.09806179129483295,0.06145050370646499,0.13489512328268916,0.0714431723805169,0.10992934358388229,0.07269900849499089,0.09758492875899905,0.07172327164336556,0.06880111729030502,0.0745693122932013,0.1003215433766167,0.08681444385965531,0.0974022852827382,0.11287930207608099,0.06496364456993142,0.12880818947485806,0.1308604610052455,0.06829299903291552,0.12048367721085906,0.12424334325394659,0.08538593123198734,0.0629344946112016,0.08298034171588464,0.13615435287590738,0.11722420199932004,0.12087968879955868,0.06354562561701615,0.10537585895973323,0.07392406429331588,0.12469714172584556,0.11403198972590967,0.14402524740171208,0.08346266349209475,0.06283709544078553,0.12644478847072116,0.06584863819784703,0.11038498525022677,0.09901839415761926,0.0614194890882801,0.1296162685812372,0.13422088730336557,0.12144524908730858,0.12697805406452656,0.11140878823081724,0.1238222187833079,0.12089842666459905,0.11776905590400966,0.1532248981390093,0.17893887289810806,0.18178382375645286,0.13595278364667307,0.12423388728126294,0.12540852696246252,0.18097541949761564,0.13646883017869393,0.12726356950713835,0.22908988429456145,0.13700510979267588,0.13881778824768543,0.20402983034143884,0.1413480958775627,0.11967356195543077,0.18491304703228817,0.12012317927842475,0.11526017843658709,0.14090945865579707,0.13665742956260063,0.1494465067064692,0.10074950932734106,0.14210642348848823,0.13846261172631136,0.12457395501106006,0.16863742960929695,0.1577451965266311,0.17313321146070582,0.14839696890614584,0.12326944115634253,0.10408639711438994,0.14173176689788658,0.13732112408738406,0.1345683291760278,0.14864031026626723,0.14951130539353807,0.14433179534148244,0.15355434601601037,0.1504640548117151,0.11245600146162371,0.15546517404098592,0.12499283584199472,0.11959329484088588,0.13794699537325905,0.13255093940733131,0.12585028984667435,0.13282326339420358,0.14997196662435375,0.14211305678895736,0.13060196605289964,0.13711599431666288,0.13397242152177458,0.14551402569193916,0.1333672825243768,0.1279512211874021,0.13034595159586249,0.13335160995092776,0.14539063041990452,0.15293473769867372,0.1394315580866251,0.15076134266794294,0.13565560447936376,0.13552685900090555,0.12209530124480883,0.12616383982744306,0.13946134489636175,0.13812043503530602,0.12491628156112178,0.1325159604369751,0.15728480013253898,0.12150843379894183,0.13247914854635934,0.1288849218092315,0.1411862348978863,0.1310913075902267,0.13307755824349687,0.141757174084164,0.12696778371640494,0.12878822677206092,0.1325347683619199,0.13085956878495786,0.12905377367547055,0.13634739813183872,0.1303984682043714,0.15815504758878007,0.12773671183484459,0.13288876522951276,0.12993627221378035,0.11130963159972485,0.13217226789413727,0.1374562196466531,0.15331413437179398,0.13418250827883715,0.1259471640573463,0.15190591615368276,0.14379230583014224,0.14616429841038692,0.14741099151367965,0.14655583165768593,0.13423705844440592,0.13878656350704832,0.12459678640497907,0.15019350808364407,0.13586196529765227,0.15980954884385068,0.14159237089287036,0.14084179708112554,0.14371622549576568,0.14106560636939192,0.12992946846037878,0.1396585057763835,0.13923409641885498,0.1621712955011766,0.14767485962185778,0.12615450963410468,0.14912112005791645,0.14337753893393546,0.13320306613282007,0.1421341062624243,0.12019190214634579,0.15508069359814658,0.14001769106176076,0.1525937840960293,0.16618431178709425,0.12583533232744126,0.1431397971254057,0.16221137709283795,0.13993845672880245,0.15570239430176536,0.15129161029528437,0.15160993309113513,0.14841478965755073,0.1558699103407286,0.1340637876371159,0.15694391589800383,0.1572570908725116,0.14291367058418492,0.13524496513524153,0.14029701837414998,0.13984433776940575,0.14333354639399465,0.15374254123983122],\"yaxis\":\"y\",\"type\":\"scatter\"}],                        {\"template\":{\"data\":{\"histogram2dcontour\":[{\"type\":\"histogram2dcontour\",\"colorbar\":{\"outlinewidth\":0,\"ticks\":\"\"},\"colorscale\":[[0.0,\"#0d0887\"],[0.1111111111111111,\"#46039f\"],[0.2222222222222222,\"#7201a8\"],[0.3333333333333333,\"#9c179e\"],[0.4444444444444444,\"#bd3786\"],[0.5555555555555556,\"#d8576b\"],[0.6666666666666666,\"#ed7953\"],[0.7777777777777778,\"#fb9f3a\"],[0.8888888888888888,\"#fdca26\"],[1.0,\"#f0f921\"]]}],\"choropleth\":[{\"type\":\"choropleth\",\"colorbar\":{\"outlinewidth\":0,\"ticks\":\"\"}}],\"histogram2d\":[{\"type\":\"histogram2d\",\"colorbar\":{\"outlinewidth\":0,\"ticks\":\"\"},\"colorscale\":[[0.0,\"#0d0887\"],[0.1111111111111111,\"#46039f\"],[0.2222222222222222,\"#7201a8\"],[0.3333333333333333,\"#9c179e\"],[0.4444444444444444,\"#bd3786\"],[0.5555555555555556,\"#d8576b\"],[0.6666666666666666,\"#ed7953\"],[0.7777777777777778,\"#fb9f3a\"],[0.8888888888888888,\"#fdca26\"],[1.0,\"#f0f921\"]]}],\"heatmap\":[{\"type\":\"heatmap\",\"colorbar\":{\"outlinewidth\":0,\"ticks\":\"\"},\"colorscale\":[[0.0,\"#0d0887\"],[0.1111111111111111,\"#46039f\"],[0.2222222222222222,\"#7201a8\"],[0.3333333333333333,\"#9c179e\"],[0.4444444444444444,\"#bd3786\"],[0.5555555555555556,\"#d8576b\"],[0.6666666666666666,\"#ed7953\"],[0.7777777777777778,\"#fb9f3a\"],[0.8888888888888888,\"#fdca26\"],[1.0,\"#f0f921\"]]}],\"heatmapgl\":[{\"type\":\"heatmapgl\",\"colorbar\":{\"outlinewidth\":0,\"ticks\":\"\"},\"colorscale\":[[0.0,\"#0d0887\"],[0.1111111111111111,\"#46039f\"],[0.2222222222222222,\"#7201a8\"],[0.3333333333333333,\"#9c179e\"],[0.4444444444444444,\"#bd3786\"],[0.5555555555555556,\"#d8576b\"],[0.6666666666666666,\"#ed7953\"],[0.7777777777777778,\"#fb9f3a\"],[0.8888888888888888,\"#fdca26\"],[1.0,\"#f0f921\"]]}],\"contourcarpet\":[{\"type\":\"contourcarpet\",\"colorbar\":{\"outlinewidth\":0,\"ticks\":\"\"}}],\"contour\":[{\"type\":\"contour\",\"colorbar\":{\"outlinewidth\":0,\"ticks\":\"\"},\"colorscale\":[[0.0,\"#0d0887\"],[0.1111111111111111,\"#46039f\"],[0.2222222222222222,\"#7201a8\"],[0.3333333333333333,\"#9c179e\"],[0.4444444444444444,\"#bd3786\"],[0.5555555555555556,\"#d8576b\"],[0.6666666666666666,\"#ed7953\"],[0.7777777777777778,\"#fb9f3a\"],[0.8888888888888888,\"#fdca26\"],[1.0,\"#f0f921\"]]}],\"surface\":[{\"type\":\"surface\",\"colorbar\":{\"outlinewidth\":0,\"ticks\":\"\"},\"colorscale\":[[0.0,\"#0d0887\"],[0.1111111111111111,\"#46039f\"],[0.2222222222222222,\"#7201a8\"],[0.3333333333333333,\"#9c179e\"],[0.4444444444444444,\"#bd3786\"],[0.5555555555555556,\"#d8576b\"],[0.6666666666666666,\"#ed7953\"],[0.7777777777777778,\"#fb9f3a\"],[0.8888888888888888,\"#fdca26\"],[1.0,\"#f0f921\"]]}],\"mesh3d\":[{\"type\":\"mesh3d\",\"colorbar\":{\"outlinewidth\":0,\"ticks\":\"\"}}],\"scatter\":[{\"fillpattern\":{\"fillmode\":\"overlay\",\"size\":10,\"solidity\":0.2},\"type\":\"scatter\"}],\"parcoords\":[{\"type\":\"parcoords\",\"line\":{\"colorbar\":{\"outlinewidth\":0,\"ticks\":\"\"}}}],\"scatterpolargl\":[{\"type\":\"scatterpolargl\",\"marker\":{\"colorbar\":{\"outlinewidth\":0,\"ticks\":\"\"}}}],\"bar\":[{\"error_x\":{\"color\":\"#2a3f5f\"},\"error_y\":{\"color\":\"#2a3f5f\"},\"marker\":{\"line\":{\"color\":\"#E5ECF6\",\"width\":0.5},\"pattern\":{\"fillmode\":\"overlay\",\"size\":10,\"solidity\":0.2}},\"type\":\"bar\"}],\"scattergeo\":[{\"type\":\"scattergeo\",\"marker\":{\"colorbar\":{\"outlinewidth\":0,\"ticks\":\"\"}}}],\"scatterpolar\":[{\"type\":\"scatterpolar\",\"marker\":{\"colorbar\":{\"outlinewidth\":0,\"ticks\":\"\"}}}],\"histogram\":[{\"marker\":{\"pattern\":{\"fillmode\":\"overlay\",\"size\":10,\"solidity\":0.2}},\"type\":\"histogram\"}],\"scattergl\":[{\"type\":\"scattergl\",\"marker\":{\"colorbar\":{\"outlinewidth\":0,\"ticks\":\"\"}}}],\"scatter3d\":[{\"type\":\"scatter3d\",\"line\":{\"colorbar\":{\"outlinewidth\":0,\"ticks\":\"\"}},\"marker\":{\"colorbar\":{\"outlinewidth\":0,\"ticks\":\"\"}}}],\"scattermapbox\":[{\"type\":\"scattermapbox\",\"marker\":{\"colorbar\":{\"outlinewidth\":0,\"ticks\":\"\"}}}],\"scatterternary\":[{\"type\":\"scatterternary\",\"marker\":{\"colorbar\":{\"outlinewidth\":0,\"ticks\":\"\"}}}],\"scattercarpet\":[{\"type\":\"scattercarpet\",\"marker\":{\"colorbar\":{\"outlinewidth\":0,\"ticks\":\"\"}}}],\"carpet\":[{\"aaxis\":{\"endlinecolor\":\"#2a3f5f\",\"gridcolor\":\"white\",\"linecolor\":\"white\",\"minorgridcolor\":\"white\",\"startlinecolor\":\"#2a3f5f\"},\"baxis\":{\"endlinecolor\":\"#2a3f5f\",\"gridcolor\":\"white\",\"linecolor\":\"white\",\"minorgridcolor\":\"white\",\"startlinecolor\":\"#2a3f5f\"},\"type\":\"carpet\"}],\"table\":[{\"cells\":{\"fill\":{\"color\":\"#EBF0F8\"},\"line\":{\"color\":\"white\"}},\"header\":{\"fill\":{\"color\":\"#C8D4E3\"},\"line\":{\"color\":\"white\"}},\"type\":\"table\"}],\"barpolar\":[{\"marker\":{\"line\":{\"color\":\"#E5ECF6\",\"width\":0.5},\"pattern\":{\"fillmode\":\"overlay\",\"size\":10,\"solidity\":0.2}},\"type\":\"barpolar\"}],\"pie\":[{\"automargin\":true,\"type\":\"pie\"}]},\"layout\":{\"autotypenumbers\":\"strict\",\"colorway\":[\"#636efa\",\"#EF553B\",\"#00cc96\",\"#ab63fa\",\"#FFA15A\",\"#19d3f3\",\"#FF6692\",\"#B6E880\",\"#FF97FF\",\"#FECB52\"],\"font\":{\"color\":\"#2a3f5f\"},\"hovermode\":\"closest\",\"hoverlabel\":{\"align\":\"left\"},\"paper_bgcolor\":\"white\",\"plot_bgcolor\":\"#E5ECF6\",\"polar\":{\"bgcolor\":\"#E5ECF6\",\"angularaxis\":{\"gridcolor\":\"white\",\"linecolor\":\"white\",\"ticks\":\"\"},\"radialaxis\":{\"gridcolor\":\"white\",\"linecolor\":\"white\",\"ticks\":\"\"}},\"ternary\":{\"bgcolor\":\"#E5ECF6\",\"aaxis\":{\"gridcolor\":\"white\",\"linecolor\":\"white\",\"ticks\":\"\"},\"baxis\":{\"gridcolor\":\"white\",\"linecolor\":\"white\",\"ticks\":\"\"},\"caxis\":{\"gridcolor\":\"white\",\"linecolor\":\"white\",\"ticks\":\"\"}},\"coloraxis\":{\"colorbar\":{\"outlinewidth\":0,\"ticks\":\"\"}},\"colorscale\":{\"sequential\":[[0.0,\"#0d0887\"],[0.1111111111111111,\"#46039f\"],[0.2222222222222222,\"#7201a8\"],[0.3333333333333333,\"#9c179e\"],[0.4444444444444444,\"#bd3786\"],[0.5555555555555556,\"#d8576b\"],[0.6666666666666666,\"#ed7953\"],[0.7777777777777778,\"#fb9f3a\"],[0.8888888888888888,\"#fdca26\"],[1.0,\"#f0f921\"]],\"sequentialminus\":[[0.0,\"#0d0887\"],[0.1111111111111111,\"#46039f\"],[0.2222222222222222,\"#7201a8\"],[0.3333333333333333,\"#9c179e\"],[0.4444444444444444,\"#bd3786\"],[0.5555555555555556,\"#d8576b\"],[0.6666666666666666,\"#ed7953\"],[0.7777777777777778,\"#fb9f3a\"],[0.8888888888888888,\"#fdca26\"],[1.0,\"#f0f921\"]],\"diverging\":[[0,\"#8e0152\"],[0.1,\"#c51b7d\"],[0.2,\"#de77ae\"],[0.3,\"#f1b6da\"],[0.4,\"#fde0ef\"],[0.5,\"#f7f7f7\"],[0.6,\"#e6f5d0\"],[0.7,\"#b8e186\"],[0.8,\"#7fbc41\"],[0.9,\"#4d9221\"],[1,\"#276419\"]]},\"xaxis\":{\"gridcolor\":\"white\",\"linecolor\":\"white\",\"ticks\":\"\",\"title\":{\"standoff\":15},\"zerolinecolor\":\"white\",\"automargin\":true,\"zerolinewidth\":2},\"yaxis\":{\"gridcolor\":\"white\",\"linecolor\":\"white\",\"ticks\":\"\",\"title\":{\"standoff\":15},\"zerolinecolor\":\"white\",\"automargin\":true,\"zerolinewidth\":2},\"scene\":{\"xaxis\":{\"backgroundcolor\":\"#E5ECF6\",\"gridcolor\":\"white\",\"linecolor\":\"white\",\"showbackground\":true,\"ticks\":\"\",\"zerolinecolor\":\"white\",\"gridwidth\":2},\"yaxis\":{\"backgroundcolor\":\"#E5ECF6\",\"gridcolor\":\"white\",\"linecolor\":\"white\",\"showbackground\":true,\"ticks\":\"\",\"zerolinecolor\":\"white\",\"gridwidth\":2},\"zaxis\":{\"backgroundcolor\":\"#E5ECF6\",\"gridcolor\":\"white\",\"linecolor\":\"white\",\"showbackground\":true,\"ticks\":\"\",\"zerolinecolor\":\"white\",\"gridwidth\":2}},\"shapedefaults\":{\"line\":{\"color\":\"#2a3f5f\"}},\"annotationdefaults\":{\"arrowcolor\":\"#2a3f5f\",\"arrowhead\":0,\"arrowwidth\":1},\"geo\":{\"bgcolor\":\"white\",\"landcolor\":\"#E5ECF6\",\"subunitcolor\":\"white\",\"showland\":true,\"showlakes\":true,\"lakecolor\":\"white\"},\"title\":{\"x\":0.05},\"mapbox\":{\"style\":\"light\"}}},\"xaxis\":{\"anchor\":\"y\",\"domain\":[0.0,1.0],\"title\":{\"text\":\"closest_cosim\"}},\"yaxis\":{\"anchor\":\"x\",\"domain\":[0.0,1.0],\"title\":{\"text\":\"archq3_cosim\"}},\"legend\":{\"tracegroupgap\":0},\"title\":{\"text\":\"Comparison of Closest Cosine Similarity to Archetype 3\"}},                        {\"responsive\": true}                    ).then(function(){\n                            \nvar gd = document.getElementById('7bbc76fb-8bdd-4e95-826f-042a6c451365');\nvar x = new MutationObserver(function (mutations, observer) {{\n        var display = window.getComputedStyle(gd).display;\n        if (!display || display === 'none') {{\n            console.log([gd, 'removed!']);\n            Plotly.purge(gd);\n            observer.disconnect();\n        }}\n}});\n\n// Listen for the removal of the full notebook cells\nvar notebookContainer = gd.closest('#notebook-container');\nif (notebookContainer) {{\n    x.observe(notebookContainer, {childList: true});\n}}\n\n// Listen for the clearing of the current output cell\nvar outputEl = gd.closest('.output');\nif (outputEl) {{\n    x.observe(outputEl, {childList: true});\n}}\n\n                        })                };                });            </script>        </div>"
          },
          "metadata": {}
        },
        {
          "output_type": "display_data",
          "data": {
            "application/vnd.plotly.v1+json": {
              "data": [
                {
                  "hovertemplate": "closest_cosim=%{x}<br>archq4_cosim=%{y}<extra></extra>",
                  "legendgroup": "",
                  "marker": {
                    "color": "#636efa",
                    "symbol": "circle"
                  },
                  "mode": "markers",
                  "name": "",
                  "orientation": "v",
                  "showlegend": false,
                  "x": [
                    0.06595879700269358,
                    0.1400309889962853,
                    0.16048872507552492,
                    0.11383665579443725,
                    0.07910549846029369,
                    0.11520151837330106,
                    0.12565420134930871,
                    0.10436907356733582,
                    0.15410573222392876,
                    0.1261215481094632,
                    0.1484042944292675,
                    0.11630370913198729,
                    0.11109835978615967,
                    0.1451157248174223,
                    0.14944096465775547,
                    0.09487103850594814,
                    0.11821614983830764,
                    0.14618515663943055,
                    0.1533541502244965,
                    0.13700411660555423,
                    0.10523179285908535,
                    0.11152903471341913,
                    0.1569140275795503,
                    0.15486792721348464,
                    0.0986977285097802,
                    0.0874856558083541,
                    0.06872481070970948,
                    0.06958996202339673,
                    0.11052911205060423,
                    0.10141733908658601,
                    0.10932510185425803,
                    0.07825589625781704,
                    0.06143920448768281,
                    0.11143918295688904,
                    0.10031344605395753,
                    0.06768842557473331,
                    0.11865466600279839,
                    0.06439801884906016,
                    0.10809502560353657,
                    0.06339332887498794,
                    0.09803244851337367,
                    0.10543917417975379,
                    0.06371990727502597,
                    0.08459331360587152,
                    0.10707043814919726,
                    0.07772717814080199,
                    0.11441872842810963,
                    0.07618106478774311,
                    0.12009218603294358,
                    0.06201053784132993,
                    0.10858515508203748,
                    0.06962409458354735,
                    0.0666962822560101,
                    0.0754864808370449,
                    0.07894276330842631,
                    0.06440674540455393,
                    0.08138691940887433,
                    0.07121625924433905,
                    0.07073500854377168,
                    0.07901405035052833,
                    0.07585918683468185,
                    0.08773849780227083,
                    0.06836404034189925,
                    0.05748208429907886,
                    0.06748838297434667,
                    0.07666681397004915,
                    0.05837120217360936,
                    0.07597137966587653,
                    0.06371391082732858,
                    0.06998822379656067,
                    0.05883034760405759,
                    0.07167277361885949,
                    0.07364961778504886,
                    0.07216944102289768,
                    0.07796341816996921,
                    0.0575509640654841,
                    0.08276313707134031,
                    0.08397442517388931,
                    0.08498289182099594,
                    0.07033442189330885,
                    0.08681073663937056,
                    0.04639092218427343,
                    0.08231033004932198,
                    0.06660413711771451,
                    0.07812372682510382,
                    0.08799926525804236,
                    0.08730603847110485,
                    0.07779555289781614,
                    0.095322807264281,
                    0.053459771919292076,
                    0.0859117650106842,
                    0.06230621486425425,
                    0.06678961506803405,
                    0.0652513406809817,
                    0.05649468408129421,
                    0.07052316750876919,
                    0.08761394795453259,
                    0.06651598908138212,
                    0.07790166730530657,
                    0.10039378217095918,
                    0.047325098313189096,
                    0.09499150134321543,
                    0.07565018486048825,
                    0.1091772587928207,
                    0.09519928526167565,
                    0.09316655520520145,
                    0.06865982495128031,
                    0.0991124929867081,
                    0.08874027210727153,
                    0.10260052783126572,
                    0.09011259776953928,
                    0.09322000781738449,
                    0.0907771860955231,
                    0.09490313262492633,
                    0.09106762499336774,
                    0.09082443115856986,
                    0.08469612970933371,
                    0.07714778261272504,
                    0.07698577598364709,
                    0.08718470352958574,
                    0.08997059833565568,
                    0.09670676969170011,
                    0.08993104838570787,
                    0.08641821756014578,
                    0.08408326962285506,
                    0.08744457278230255,
                    0.05192296765427251,
                    0.06602631696054628,
                    0.04817179349082146,
                    0.05911820854700389,
                    0.07102146466287385,
                    0.05631011182645862,
                    0.07550395526353326,
                    0.05990717849355531,
                    0.05674162014738282,
                    0.05450478506504697,
                    0.05383745690917541,
                    0.06087963551506714,
                    0.05937154495585717,
                    0.06891755453661041,
                    0.0652844314370381,
                    0.06992587513937654,
                    0.06543442802973998,
                    0.06925580074609083,
                    0.051201896968669836,
                    0.06621738555787382,
                    0.0625092087394713,
                    0.058923388684044564,
                    0.0766047680471803,
                    0.06523376874239784,
                    0.12021544477192947,
                    0.08302252424323275,
                    0.12396114729227592,
                    0.12144773077202198,
                    0.0951576379773107,
                    0.08267925358592865,
                    0.15224529567890643,
                    0.07156041625596388,
                    0.11707798050414076,
                    0.10749860495821073,
                    0.08299017896065009,
                    0.11885501830630596,
                    0.11344886330014892,
                    0.11526086175392658,
                    0.1042976526125271,
                    0.14340580261874503,
                    0.08093410647729371,
                    0.12148260194603122,
                    0.10039276717695933,
                    0.10749860495821073,
                    0.13368648789477544,
                    0.0919443864760845,
                    0.12151981741341145,
                    0.08912496755129784,
                    0.06442242598585324,
                    0.07984428180831982,
                    0.11339314809332546,
                    0.09009696745102558,
                    0.08827472499464528,
                    0.10851499645327078,
                    0.07599367327518414,
                    0.08153038157511094,
                    0.11750597861844192,
                    0.10827013443608191,
                    0.09425350076963435,
                    0.12085637058645626,
                    0.08714221276567335,
                    0.08481715562308345,
                    0.06257932599204308,
                    0.08230547358041385,
                    0.08598613104154795,
                    0.09007735715404852,
                    0.11398192075805291,
                    0.10333341695561316,
                    0.11077387244149273,
                    0.06838623467458826,
                    0.10589925347384965,
                    0.09414949341932455,
                    0.10520068614904587,
                    0.07799093588700656,
                    0.09426837409994049,
                    0.12469817780734682,
                    0.09604855944201052,
                    0.11154960760676069,
                    0.12674186918826336,
                    0.09559139654213422,
                    0.12328415486557742,
                    0.10489354819379881,
                    0.09285311482379732,
                    0.09966399165740891,
                    0.12119367034383755,
                    0.09356133893216612,
                    0.10432855107584771,
                    0.09878648185329064,
                    0.09213249994753014,
                    0.10690955823664183,
                    0.10842979721614987,
                    0.10792362468098848,
                    0.08273682283200423,
                    0.12367223591189058,
                    0.10844586651840094,
                    0.11700745786105116,
                    0.08848087063251542,
                    0.12126160950414722,
                    0.09746707401115717,
                    0.0893661075479657,
                    0.12467229780233047,
                    0.08956211538115166,
                    0.10313990652538252,
                    0.12275812745436132,
                    0.08203393089359867,
                    0.12263538017913289,
                    0.09941119626696604,
                    0.0881562609296549,
                    0.09254319048717874,
                    0.12136540221058223,
                    0.09337511742399773,
                    0.09544367603608583,
                    0.09309614700398128,
                    0.08460867328407318,
                    0.09801468112426637,
                    0.10295958709618414,
                    0.10808106271001705,
                    0.08099573169685748,
                    0.11838111906957993,
                    0.0898577564883557,
                    0.11475024955483137,
                    0.08714787001358004,
                    0.12179101535602155,
                    0.09772373415364632,
                    0.08694835091869557,
                    0.10138502997766508,
                    0.09621587964799416,
                    0.10903548411243125,
                    0.09244777195894793,
                    0.07986302924303446,
                    0.12400924979531669,
                    0.11195602295051676,
                    0.09388602528251,
                    0.10990123086622616,
                    0.11092761525282635,
                    0.10467442863047793,
                    0.08391741378891726,
                    0.12139124653469258,
                    0.11182466799755619,
                    0.11950304943935186,
                    0.08334617508954745,
                    0.12461057927355412,
                    0.10103412121929978,
                    0.13790399082136484,
                    0.1268880729391293,
                    0.11434865176570752,
                    0.09425622583998305,
                    0.08385485622799249,
                    0.12841349057964524,
                    0.1152619759969351,
                    0.08394692223745814,
                    0.09364766258184154,
                    0.12004242893293271,
                    0.0825608948670401,
                    0.12021544477192947,
                    0.07477798064821384,
                    0.11171680763638803,
                    0.07606440753833732,
                    0.10558011628929709,
                    0.09071634005536178,
                    0.11742055402353979,
                    0.07451120241528619,
                    0.07434263800524754,
                    0.08733256807131717,
                    0.0923725368819861,
                    0.12019767177045693,
                    0.08588341200729943,
                    0.08755771812183333,
                    0.09378043043570716,
                    0.11568485667304407,
                    0.07625971680968979,
                    0.12604665567787754,
                    0.09703936086223164,
                    0.08110444004903028,
                    0.12542798780538011,
                    0.09231457701865564,
                    0.06559151079540781,
                    0.055490353666507786,
                    0.08071243461693467,
                    0.10560198501419438,
                    0.058105212772708414,
                    0.09306260543042832,
                    0.09691006335381591,
                    0.060943170154337145,
                    0.08886900046228696,
                    0.04340761141428284,
                    0.088237630394576,
                    0.06411585472916081,
                    0.10197804787731368,
                    0.09817885469174781,
                    0.05457671819082577,
                    0.11173523255196094,
                    0.044216651268167206,
                    0.09653973607186861,
                    0.0909146016910719,
                    0.0878144685446659,
                    0.10841048110223428,
                    0.0444967126148047,
                    0.06709153478969154,
                    0.0781671278234215,
                    0.05254282677498934,
                    0.1013255395922773,
                    0.09561968520537711,
                    0.07827685977003485,
                    0.06842089591352296,
                    0.1034713100617356,
                    0.07366359467114703,
                    0.1001956330713113,
                    0.06272925622843384,
                    0.10454655673620683,
                    0.08487139297294644,
                    0.07038877218096051,
                    0.10102686324159116,
                    0.05305013827295202,
                    0.08024228390785626,
                    0.10519509541190475,
                    0.06877127478447154,
                    0.09251883056973487,
                    0.07688219398795304,
                    0.04506521920463491,
                    0.08619669263843488,
                    0.08250995078255219,
                    0.08318261734254462,
                    0.05993002142634973,
                    0.07649816391278186,
                    0.1014442532890174,
                    0.09798088080503564,
                    0.10103165781779389,
                    0.1036190017295574,
                    0.09255026236611663,
                    0.07920484107759085,
                    0.08827313492887079,
                    0.10189406804050372,
                    0.08360221189614303,
                    0.109952446868532,
                    0.07490705210765158,
                    0.12385280007787758,
                    0.07771875040852372,
                    0.10088216958256302,
                    0.11393042368287598,
                    0.08964863165528547,
                    0.11288413419011356,
                    0.10388638612835133,
                    0.09977976662333288,
                    0.085881745739524,
                    0.09003040986413657,
                    0.10739033317556745,
                    0.07241939872533742,
                    0.06668346208094711,
                    0.09314887071763911,
                    0.0774606167648264,
                    0.10888929871592379,
                    0.09153937631009557,
                    0.11388172346739567,
                    0.08697001772197965,
                    0.13198276595700276,
                    0.08227468217577671,
                    0.11139316572368141,
                    0.11535560613994256,
                    0.09218796951495767,
                    0.1104696620418586,
                    0.1238245211850475,
                    0.1062522783958505,
                    0.08299263615250319,
                    0.1013789286439768,
                    0.09475706382472049,
                    0.11543588815165984,
                    0.09913285402036964,
                    0.09848077378896691,
                    0.09190636874031588,
                    0.09959248533333576,
                    0.10718245943501226,
                    0.09508157003866868,
                    0.07332718881059674,
                    0.05381015078360141,
                    0.06888171361806039,
                    0.09819786662599528,
                    0.08876332374858265,
                    0.07433833773406218,
                    0.09552278694165539,
                    0.11650511562716903,
                    0.11753750199906698,
                    0.07605001328082672,
                    0.1139157486992094,
                    0.09806179129483295,
                    0.06145050370646499,
                    0.13489512328268916,
                    0.0714431723805169,
                    0.10173408079264235,
                    0.07269900849499089,
                    0.09758492875899905,
                    0.07172327164336556,
                    0.06880111729030502,
                    0.0745693122932013,
                    0.1003215433766167,
                    0.08681444385965531,
                    0.0974022852827382,
                    0.11287930207608099,
                    0.06496364456993142,
                    0.12878056306409713,
                    0.1306030756769584,
                    0.06829299903291552,
                    0.12048367721085906,
                    0.11873528579087611,
                    0.08538593123198734,
                    0.0629344946112016,
                    0.08298034171588464,
                    0.1275256736813647,
                    0.1128214168836954,
                    0.12087968879955868,
                    0.06354562561701615,
                    0.10537585895973323,
                    0.07392406429331588,
                    0.12469714172584556,
                    0.11403198972590967,
                    0.13417224520865,
                    0.08346266349209475,
                    0.06283709544078553,
                    0.12345504543824792,
                    0.06584863819784703,
                    0.11038498525022677,
                    0.09901839415761926,
                    0.0614194890882801,
                    0.026189207450928897,
                    0.12600694481762453,
                    0.12144524908730858,
                    0.12697805406452656,
                    0.11140878823081724,
                    0.1187471397760883,
                    0.12089842666459905,
                    0.11776905590400966,
                    0.1532248981390093,
                    0.16054869170422514,
                    0.18178382375645286,
                    0.13595278364667307,
                    0.11837328073848852,
                    0.12540852696246252,
                    0.160649109530681,
                    0.13646883017869393,
                    0.12360589629451513,
                    0.22254652230970073,
                    0.13700510979267588,
                    0.13881778824768543,
                    0.182850227920906,
                    0.13149976874104552,
                    0.10939178528712834,
                    0.15250232018964027,
                    0.04313537168450832,
                    0.07807709212060288,
                    0.13215179889710238,
                    0.07349115921283489,
                    0.1494465067064692,
                    0.10074950932734106,
                    0.14210642348848823,
                    0.13655685519215421,
                    0.08780727551223078,
                    0.1283722887532628,
                    0.12416264834837754,
                    0.17092983940977036,
                    0.10023133584942023,
                    0.10947728051059413,
                    0.10408639711438994,
                    0.13128826089494794,
                    0.13732112408738406,
                    0.1345683291760278,
                    0.12143950105982504,
                    0.1146450902290056,
                    0.1306657117524137,
                    0.1343997500046198,
                    0.1093951076690245,
                    0.09587921782601583,
                    0.1272738745586418,
                    0.039044985128985576,
                    0.04778119783572332,
                    0.11363967849949208,
                    0.07042560713042467,
                    0.09094839259487231,
                    0.10305022210720627,
                    0.13355112605464692,
                    0.12209007843664166,
                    0.11604346123478182,
                    0.11255237613657398,
                    0.11224498239327196,
                    0.12367886922713844,
                    0.10620528957388675,
                    0.10693879213296276,
                    0.08959038561963006,
                    0.12379549041461346,
                    0.09335855627254752,
                    0.12188384652340223,
                    0.12345960221283725,
                    0.14193889514627978,
                    0.1072114413619415,
                    0.12480965190171978,
                    0.06241175634197238,
                    0.09762121921742328,
                    0.09730527881676798,
                    0.0991527737926663,
                    0.10826292406448401,
                    0.07867933443662567,
                    0.09628216581317561,
                    0.07275248930379641,
                    0.07577564082361232,
                    0.06706279162678208,
                    0.103154643500448,
                    0.06380426539227568,
                    0.06006278390001063,
                    0.04862538982256903,
                    0.08099745393215796,
                    0.05936369023048804,
                    0.0786939827786467,
                    0.09029097590896684,
                    0.0858421153488228,
                    0.05946982709059412,
                    0.07204225181853896,
                    0.05111130933809904,
                    0.03714440117151541,
                    0.07615217898020543,
                    0.05996597406381088,
                    0.043533289273712805,
                    0.07802533166776116,
                    0.060579463816113566,
                    0.04799714133946775,
                    0.05199098499954713,
                    0.04430431417475844,
                    0.11133703727087985,
                    0.08580463198113253,
                    0.10946412701083497,
                    0.09963590354445984,
                    0.10112050812236895,
                    0.09278879473110424,
                    0.1270473167411621,
                    0.07660794271892246,
                    0.13630090880787504,
                    0.1194865347720464,
                    0.13977135369236082,
                    0.10797787588068453,
                    0.13393265423170775,
                    0.13512118139693152,
                    0.09200328199323282,
                    0.10064246909284025,
                    0.11693723357684582,
                    0.12396519817374951,
                    0.14476301083429632,
                    0.12899838760759819,
                    0.10681914870208231,
                    0.13468672238354784,
                    0.12063679927088022,
                    0.11437756444163338,
                    0.07973754245810005,
                    0.04642169862249035,
                    0.10271693078340349,
                    0.10902968623788623,
                    0.09938245702535309,
                    0.12159326581312513,
                    0.11719484378682932,
                    0.11031708434967491,
                    0.12943110986583883,
                    0.12090486435436065,
                    0.1359559896177971,
                    0.1307467693256894,
                    0.09942836183047288,
                    0.12479651477755793,
                    0.11222825189515828,
                    0.11637146468876747,
                    0.12497594451741956,
                    0.1117419764361628,
                    0.10430374653295793,
                    0.11152440507738826,
                    0.11921740125995917,
                    0.12401299069046834,
                    0.12765985054893025,
                    0.13544425863435083
                  ],
                  "xaxis": "x",
                  "y": [
                    0.14815807207736587,
                    0.20945668356551017,
                    0.20659221014565143,
                    0.19102870003085248,
                    0.1578140706745743,
                    0.18594166693291714,
                    0.18483088010991744,
                    0.16287973025896285,
                    0.22042329313572162,
                    0.18950135515965594,
                    0.2060685637068631,
                    0.1852021618266596,
                    0.19580301893242502,
                    0.19344103025685044,
                    0.207799424231218,
                    0.17180574133023652,
                    0.19178550208776113,
                    0.1939960845756482,
                    0.1967777729538105,
                    0.19305679639331608,
                    0.18730500975523867,
                    0.1831932176569303,
                    0.21505152074073497,
                    0.20903900267338626,
                    0.1643352712836833,
                    0.16604905074730825,
                    0.14325017582364874,
                    0.11893084808880228,
                    0.13849237871388942,
                    0.134456331553935,
                    0.12061181777583685,
                    0.137238637664316,
                    0.15277524993399016,
                    0.11143918295688904,
                    0.15072801914900602,
                    0.13744713156195276,
                    0.1253061812671583,
                    0.12147894613661026,
                    0.10809502560353657,
                    0.11778268986448115,
                    0.14008927786053993,
                    0.14601802902795646,
                    0.11584153268065578,
                    0.14057290220545726,
                    0.1286508410380942,
                    0.14075200903861607,
                    0.12056039317137213,
                    0.1328155953622463,
                    0.17882882575311532,
                    0.12708230957773747,
                    0.13391295162975358,
                    0.1314890278139551,
                    0.1361135383370644,
                    0.12640203284039853,
                    0.13123127986970784,
                    0.13504481656329526,
                    0.13763194435299297,
                    0.11755261576513987,
                    0.13890306292149301,
                    0.14411316284385423,
                    0.13478077474612327,
                    0.1445690476637207,
                    0.12345922702039647,
                    0.1349750917118534,
                    0.12998144013486823,
                    0.15882858227251195,
                    0.136894798438572,
                    0.1430921023822741,
                    0.13447309957946163,
                    0.138876380613574,
                    0.13518431939695474,
                    0.13625010575057295,
                    0.1403448997063228,
                    0.14607353834952685,
                    0.15199421779810562,
                    0.13787788545482504,
                    0.15767209173753394,
                    0.14977220449170825,
                    0.14778189169610834,
                    0.13698263569318814,
                    0.1408971827549661,
                    0.13275186870780487,
                    0.13754610663965838,
                    0.13936188591449494,
                    0.14868834224744976,
                    0.13284761962432612,
                    0.14218963519678574,
                    0.13905643582535399,
                    0.15058318188595365,
                    0.12196252555910803,
                    0.13435847941790469,
                    0.13935631275328497,
                    0.14262231859956842,
                    0.1374565265600758,
                    0.12688184646493605,
                    0.13774479325502287,
                    0.1521498370773554,
                    0.13165550193362718,
                    0.12542037606060064,
                    0.1321387497260872,
                    0.14032242558637265,
                    0.13319432119952002,
                    0.13904363276329346,
                    0.14852266598738206,
                    0.14346341523411477,
                    0.13156950768849307,
                    0.13562995976810988,
                    0.14257170454892876,
                    0.13170833324187303,
                    0.13860837451649388,
                    0.14546561819038561,
                    0.13740080588156556,
                    0.13746712428498709,
                    0.13134400753790643,
                    0.1373960572172478,
                    0.13502888346559883,
                    0.1449808076045055,
                    0.13313691042458753,
                    0.13534548681411307,
                    0.1386191235111094,
                    0.13414047534547746,
                    0.13474080564979563,
                    0.14588029217107812,
                    0.13212187930272568,
                    0.13571434481988998,
                    0.13274198348590616,
                    0.13212082864742836,
                    0.14998381940049998,
                    0.13679318405874297,
                    0.1473005039259937,
                    0.14325502604153917,
                    0.13568068884668694,
                    0.14724961834614492,
                    0.13726932980159878,
                    0.14104981011041728,
                    0.13161743757955813,
                    0.1403857067346952,
                    0.14557290063130657,
                    0.13705841321359202,
                    0.14287958676505152,
                    0.1480718875888165,
                    0.1474343574034528,
                    0.1439632070251361,
                    0.1363039126035811,
                    0.14031682999386907,
                    0.13907007921637593,
                    0.1454238001569368,
                    0.1431024329743965,
                    0.14215660224866478,
                    0.15418625718177292,
                    0.12021544477192947,
                    0.15104166882750925,
                    0.17332515609978216,
                    0.15356266879182434,
                    0.15877232571540256,
                    0.1492719042288284,
                    0.1713794167552265,
                    0.1492080874182553,
                    0.15079770619324318,
                    0.16775378029449817,
                    0.15099244526282374,
                    0.15636123759554355,
                    0.16469086737641447,
                    0.1593693230326163,
                    0.1892735999017251,
                    0.17241298715568154,
                    0.14201055010492525,
                    0.18534947656373968,
                    0.15025800190087502,
                    0.16775378029449817,
                    0.1522864953785703,
                    0.11572243873286403,
                    0.15366296760859022,
                    0.1379471752794803,
                    0.16615982150831599,
                    0.16802374509834483,
                    0.15629564713256872,
                    0.17540326012551222,
                    0.1750581412869181,
                    0.14415438951569004,
                    0.12371517341732952,
                    0.15846841047244742,
                    0.1750813691190053,
                    0.1477087235613188,
                    0.18502822417115705,
                    0.16858776708718837,
                    0.1600156876235933,
                    0.1246432309740777,
                    0.1516109610407279,
                    0.1785190349080027,
                    0.17299450645790815,
                    0.13525006164836284,
                    0.1395717432741611,
                    0.1698515130558118,
                    0.16154205324352977,
                    0.13266740293103252,
                    0.15454777418378285,
                    0.15490060804809802,
                    0.15690455684046956,
                    0.1299408993723994,
                    0.15991691518896856,
                    0.1298251277554131,
                    0.1293806924002534,
                    0.16617549323229586,
                    0.13006183294059304,
                    0.1298287051150956,
                    0.129207945438222,
                    0.16311846972296407,
                    0.1245165317090503,
                    0.12446045611875933,
                    0.16064608896638777,
                    0.13550870605329024,
                    0.12576886309907953,
                    0.12733967007612623,
                    0.1364025094214817,
                    0.15607165673303647,
                    0.13024756699296747,
                    0.12109609978354252,
                    0.14759385415438375,
                    0.12405695277045714,
                    0.12407401490644565,
                    0.11700745786105116,
                    0.13706268760582785,
                    0.134641221344466,
                    0.12566102385002265,
                    0.14473435404604496,
                    0.12966320321213098,
                    0.13606019403960745,
                    0.17202893106515327,
                    0.12275812745436132,
                    0.13777170453404375,
                    0.12473649857582825,
                    0.1724665070906325,
                    0.11893200423622807,
                    0.13269116607406217,
                    0.1618989366004261,
                    0.13926514421677993,
                    0.13445246078950523,
                    0.12117651927394413,
                    0.1463003954638239,
                    0.15735424251188845,
                    0.13257014114053578,
                    0.1141574101978271,
                    0.148191395861754,
                    0.11838111906957993,
                    0.1256597945401784,
                    0.11475024955483137,
                    0.15097900645405837,
                    0.13435250559093437,
                    0.12945948046987454,
                    0.12968154351859118,
                    0.1091530496997476,
                    0.14487490628161648,
                    0.12222141951814991,
                    0.12988259351675258,
                    0.14302781993687141,
                    0.12400924979531669,
                    0.1211009410254219,
                    0.1266929177171947,
                    0.12972474559629998,
                    0.15338677760000952,
                    0.1520561428830841,
                    0.14191204802948443,
                    0.1294968910779175,
                    0.14018384135488082,
                    0.15250988238459406,
                    0.14252990661173437,
                    0.15434208824582685,
                    0.13088099533941489,
                    0.1514459164829408,
                    0.16192135244178119,
                    0.14434712718260667,
                    0.15570764767514766,
                    0.13721107097830132,
                    0.13328566795807217,
                    0.1283435266695807,
                    0.13270806060412377,
                    0.1152607197260318,
                    0.12004242893293271,
                    0.1434445291617641,
                    0.12021544477192947,
                    0.12487746945043487,
                    0.11171680763638803,
                    0.15075902199545477,
                    0.14583287482657625,
                    0.1337468004903717,
                    0.15762652139383326,
                    0.14830275375241941,
                    0.12619915004764293,
                    0.12461590649445675,
                    0.1387409405598683,
                    0.15833031937974618,
                    0.14134846727419603,
                    0.14776537747330443,
                    0.16757684918597104,
                    0.11568485667304407,
                    0.13147269627733038,
                    0.12604665567787754,
                    0.17087767284507005,
                    0.1427563054116352,
                    0.15019658426945082,
                    0.1250317398477262,
                    0.11681606234411823,
                    0.1464111997126578,
                    0.11388567258178373,
                    0.1100632548928494,
                    0.11673236275459231,
                    0.09306260543042832,
                    0.12152074850097516,
                    0.12390375405131138,
                    0.11513172949400519,
                    0.12169274281170461,
                    0.12746426204558547,
                    0.17216850676482998,
                    0.1169338227762382,
                    0.15338665108949945,
                    0.10711617472894808,
                    0.12580327701527627,
                    0.13817850408313326,
                    0.12455413666775828,
                    0.14719433572186746,
                    0.1418417852099234,
                    0.10841048110223428,
                    0.13590247133615507,
                    0.13880320738215757,
                    0.12016594602978237,
                    0.14582184765349737,
                    0.13521964030973932,
                    0.1541515016181012,
                    0.1301779570830489,
                    0.11746739863805467,
                    0.12674491510829378,
                    0.1272011052877795,
                    0.11753072364244177,
                    0.14082950929515692,
                    0.11754344429080699,
                    0.15669142504979572,
                    0.10530441162945725,
                    0.1317300757981028,
                    0.15568918627789452,
                    0.12807780416672654,
                    0.1325010440528377,
                    0.16402881658578772,
                    0.1469274656999059,
                    0.1238399464362352,
                    0.145087121188625,
                    0.15149371762926434,
                    0.12873779883094072,
                    0.158305600527061,
                    0.12821223164948492,
                    0.13986816929466062,
                    0.1431148441238177,
                    0.11111408629822128,
                    0.14738572205918843,
                    0.1208722199419161,
                    0.14399647773834123,
                    0.14459747541182633,
                    0.13902747667488824,
                    0.1360799427534194,
                    0.14386967073816903,
                    0.1457353339780404,
                    0.13455395463288,
                    0.1642651106862244,
                    0.12599069379574235,
                    0.14253560175113833,
                    0.1587257678288112,
                    0.14411886652305395,
                    0.14731101248291023,
                    0.15266919047743643,
                    0.1478146720872192,
                    0.1355169020734166,
                    0.14031992271996463,
                    0.14775819726070216,
                    0.13351307612353458,
                    0.1192711892840218,
                    0.15346346646101838,
                    0.1238250232644631,
                    0.13868614530580103,
                    0.1440815991843527,
                    0.13708157437702206,
                    0.13683180784847204,
                    0.16091119348845095,
                    0.12593714170890757,
                    0.1305602201509467,
                    0.1470604495067317,
                    0.1515438286754326,
                    0.13234220091542603,
                    0.14542232883959916,
                    0.13110412939612381,
                    0.13557388128045822,
                    0.13251000397072754,
                    0.15059911861334185,
                    0.15250410958507288,
                    0.13788471828943583,
                    0.14896340448611867,
                    0.14677605073993094,
                    0.14575110315225914,
                    0.15120827525232672,
                    0.1470823704053119,
                    0.12700628527386826,
                    0.11472510305755113,
                    0.13130536455911312,
                    0.14348414398561737,
                    0.12315927826261719,
                    0.13201583716382082,
                    0.12696762072476842,
                    0.1437450674784615,
                    0.14880330449065982,
                    0.13511448413647487,
                    0.14750112982189312,
                    0.1303175683105845,
                    0.11593816474178265,
                    0.16408293597641666,
                    0.14128373560179674,
                    0.13578129721291832,
                    0.13564954079014324,
                    0.12569946456746373,
                    0.12495509913452829,
                    0.1312362111472415,
                    0.134704725867276,
                    0.11105090113544513,
                    0.13731549456471814,
                    0.09954485112216083,
                    0.143639853849862,
                    0.13142396592379701,
                    0.15726224662689303,
                    0.15302705052631826,
                    0.12917817285105926,
                    0.14386855983733926,
                    0.14139164275490734,
                    0.14662476280853753,
                    0.14879014490746867,
                    0.13904043800638932,
                    0.16315335778555418,
                    0.14658729708132867,
                    0.13304102324738865,
                    0.1520813393453777,
                    0.14156156675377152,
                    0.12964594117694694,
                    0.1425081115592286,
                    0.14750040990775581,
                    0.16427026915299459,
                    0.14667127355310916,
                    0.14834960992272783,
                    0.14016141734681786,
                    0.12686882505041097,
                    0.14249137017615243,
                    0.1285540836403748,
                    0.14813302729137778,
                    0.026189207450928897,
                    0.13272064974307296,
                    0.15201978481831147,
                    0.14034443850086775,
                    0.1460368242823391,
                    0.13669625253600726,
                    0.13721082279210806,
                    0.1316936552000767,
                    0.17407131926048058,
                    0.16054869170422514,
                    0.20761019408366832,
                    0.16962431120217458,
                    0.13201792414405344,
                    0.15134998455621862,
                    0.160649109530681,
                    0.16403594744037742,
                    0.12360589629451513,
                    0.22254652230970073,
                    0.15918268171504668,
                    0.146126391442444,
                    0.182850227920906,
                    0.1481752815994959,
                    0.14378543010552292,
                    0.15250232018964027,
                    0.04313537168450832,
                    0.07807709212060288,
                    0.14977612098223103,
                    0.07349115921283489,
                    0.1817973956188853,
                    0.13656618637361362,
                    0.14355351309211117,
                    0.16168661318103394,
                    0.08780727551223078,
                    0.1607444854169,
                    0.12416264834837754,
                    0.17092983940977036,
                    0.1222317060718382,
                    0.13442505874661015,
                    0.13934196212606909,
                    0.13128826089494794,
                    0.16444799932739262,
                    0.16374155323146367,
                    0.12143950105982504,
                    0.1146450902290056,
                    0.1383259732544896,
                    0.1391525353766625,
                    0.1093951076690245,
                    0.09587921782601583,
                    0.1272738745586418,
                    0.039044985128985576,
                    0.04778119783572332,
                    0.11674444973455411,
                    0.07042560713042467,
                    0.09094839259487231,
                    0.10305022210720627,
                    0.13355112605464692,
                    0.12772674839609088,
                    0.12710090960625586,
                    0.11255237613657398,
                    0.1252769885710916,
                    0.130169157512949,
                    0.10620528957388675,
                    0.11785702735355308,
                    0.08959038561963006,
                    0.12776380739528104,
                    0.10943794691188247,
                    0.12188384652340223,
                    0.12345960221283725,
                    0.15184192403576924,
                    0.11859440856706871,
                    0.12632240650685567,
                    0.06241175634197238,
                    0.09762121921742328,
                    0.09730527881676798,
                    0.0991527737926663,
                    0.11782238447298521,
                    0.07867933443662567,
                    0.09628216581317561,
                    0.07275248930379641,
                    0.07577564082361232,
                    0.06706279162678208,
                    0.103154643500448,
                    0.06380426539227568,
                    0.06006278390001063,
                    0.04862538982256903,
                    0.08099745393215796,
                    0.05936369023048804,
                    0.0786939827786467,
                    0.09029097590896684,
                    0.0858421153488228,
                    0.05946982709059412,
                    0.07204225181853896,
                    0.05111130933809904,
                    0.03714440117151541,
                    0.07615217898020543,
                    0.05996597406381088,
                    0.043533289273712805,
                    0.07802533166776116,
                    0.060579463816113566,
                    0.04799714133946775,
                    0.05199098499954713,
                    0.04430431417475844,
                    0.11133703727087985,
                    0.08580463198113253,
                    0.10946412701083497,
                    0.09963590354445984,
                    0.10112050812236895,
                    0.09278879473110424,
                    0.1270473167411621,
                    0.07660794271892246,
                    0.13630090880787504,
                    0.1239750910230023,
                    0.14733292318853541,
                    0.10797787588068453,
                    0.1433087473914214,
                    0.13512118139693152,
                    0.09200328199323282,
                    0.10064246909284025,
                    0.11693723357684582,
                    0.1275577571313371,
                    0.16264165094783445,
                    0.12899838760759819,
                    0.10681914870208231,
                    0.13468672238354784,
                    0.12063679927088022,
                    0.11794963835641359,
                    0.07973754245810005,
                    0.04642169862249035,
                    0.10271693078340349,
                    0.10902968623788623,
                    0.09938245702535309,
                    0.12159326581312513,
                    0.11719484378682932,
                    0.11031708434967491,
                    0.12943110986583883,
                    0.12090486435436065,
                    0.1359559896177971,
                    0.13527048436049383,
                    0.09942836183047288,
                    0.12479651477755793,
                    0.11222825189515828,
                    0.11637146468876747,
                    0.12497594451741956,
                    0.1117419764361628,
                    0.10430374653295793,
                    0.11152440507738826,
                    0.11921740125995917,
                    0.12401299069046834,
                    0.12765985054893025,
                    0.13544425863435083
                  ],
                  "yaxis": "y",
                  "type": "scatter"
                }
              ],
              "layout": {
                "template": {
                  "data": {
                    "histogram2dcontour": [
                      {
                        "type": "histogram2dcontour",
                        "colorbar": {
                          "outlinewidth": 0,
                          "ticks": ""
                        },
                        "colorscale": [
                          [
                            0,
                            "#0d0887"
                          ],
                          [
                            0.1111111111111111,
                            "#46039f"
                          ],
                          [
                            0.2222222222222222,
                            "#7201a8"
                          ],
                          [
                            0.3333333333333333,
                            "#9c179e"
                          ],
                          [
                            0.4444444444444444,
                            "#bd3786"
                          ],
                          [
                            0.5555555555555556,
                            "#d8576b"
                          ],
                          [
                            0.6666666666666666,
                            "#ed7953"
                          ],
                          [
                            0.7777777777777778,
                            "#fb9f3a"
                          ],
                          [
                            0.8888888888888888,
                            "#fdca26"
                          ],
                          [
                            1,
                            "#f0f921"
                          ]
                        ]
                      }
                    ],
                    "choropleth": [
                      {
                        "type": "choropleth",
                        "colorbar": {
                          "outlinewidth": 0,
                          "ticks": ""
                        }
                      }
                    ],
                    "histogram2d": [
                      {
                        "type": "histogram2d",
                        "colorbar": {
                          "outlinewidth": 0,
                          "ticks": ""
                        },
                        "colorscale": [
                          [
                            0,
                            "#0d0887"
                          ],
                          [
                            0.1111111111111111,
                            "#46039f"
                          ],
                          [
                            0.2222222222222222,
                            "#7201a8"
                          ],
                          [
                            0.3333333333333333,
                            "#9c179e"
                          ],
                          [
                            0.4444444444444444,
                            "#bd3786"
                          ],
                          [
                            0.5555555555555556,
                            "#d8576b"
                          ],
                          [
                            0.6666666666666666,
                            "#ed7953"
                          ],
                          [
                            0.7777777777777778,
                            "#fb9f3a"
                          ],
                          [
                            0.8888888888888888,
                            "#fdca26"
                          ],
                          [
                            1,
                            "#f0f921"
                          ]
                        ]
                      }
                    ],
                    "heatmap": [
                      {
                        "type": "heatmap",
                        "colorbar": {
                          "outlinewidth": 0,
                          "ticks": ""
                        },
                        "colorscale": [
                          [
                            0,
                            "#0d0887"
                          ],
                          [
                            0.1111111111111111,
                            "#46039f"
                          ],
                          [
                            0.2222222222222222,
                            "#7201a8"
                          ],
                          [
                            0.3333333333333333,
                            "#9c179e"
                          ],
                          [
                            0.4444444444444444,
                            "#bd3786"
                          ],
                          [
                            0.5555555555555556,
                            "#d8576b"
                          ],
                          [
                            0.6666666666666666,
                            "#ed7953"
                          ],
                          [
                            0.7777777777777778,
                            "#fb9f3a"
                          ],
                          [
                            0.8888888888888888,
                            "#fdca26"
                          ],
                          [
                            1,
                            "#f0f921"
                          ]
                        ]
                      }
                    ],
                    "heatmapgl": [
                      {
                        "type": "heatmapgl",
                        "colorbar": {
                          "outlinewidth": 0,
                          "ticks": ""
                        },
                        "colorscale": [
                          [
                            0,
                            "#0d0887"
                          ],
                          [
                            0.1111111111111111,
                            "#46039f"
                          ],
                          [
                            0.2222222222222222,
                            "#7201a8"
                          ],
                          [
                            0.3333333333333333,
                            "#9c179e"
                          ],
                          [
                            0.4444444444444444,
                            "#bd3786"
                          ],
                          [
                            0.5555555555555556,
                            "#d8576b"
                          ],
                          [
                            0.6666666666666666,
                            "#ed7953"
                          ],
                          [
                            0.7777777777777778,
                            "#fb9f3a"
                          ],
                          [
                            0.8888888888888888,
                            "#fdca26"
                          ],
                          [
                            1,
                            "#f0f921"
                          ]
                        ]
                      }
                    ],
                    "contourcarpet": [
                      {
                        "type": "contourcarpet",
                        "colorbar": {
                          "outlinewidth": 0,
                          "ticks": ""
                        }
                      }
                    ],
                    "contour": [
                      {
                        "type": "contour",
                        "colorbar": {
                          "outlinewidth": 0,
                          "ticks": ""
                        },
                        "colorscale": [
                          [
                            0,
                            "#0d0887"
                          ],
                          [
                            0.1111111111111111,
                            "#46039f"
                          ],
                          [
                            0.2222222222222222,
                            "#7201a8"
                          ],
                          [
                            0.3333333333333333,
                            "#9c179e"
                          ],
                          [
                            0.4444444444444444,
                            "#bd3786"
                          ],
                          [
                            0.5555555555555556,
                            "#d8576b"
                          ],
                          [
                            0.6666666666666666,
                            "#ed7953"
                          ],
                          [
                            0.7777777777777778,
                            "#fb9f3a"
                          ],
                          [
                            0.8888888888888888,
                            "#fdca26"
                          ],
                          [
                            1,
                            "#f0f921"
                          ]
                        ]
                      }
                    ],
                    "surface": [
                      {
                        "type": "surface",
                        "colorbar": {
                          "outlinewidth": 0,
                          "ticks": ""
                        },
                        "colorscale": [
                          [
                            0,
                            "#0d0887"
                          ],
                          [
                            0.1111111111111111,
                            "#46039f"
                          ],
                          [
                            0.2222222222222222,
                            "#7201a8"
                          ],
                          [
                            0.3333333333333333,
                            "#9c179e"
                          ],
                          [
                            0.4444444444444444,
                            "#bd3786"
                          ],
                          [
                            0.5555555555555556,
                            "#d8576b"
                          ],
                          [
                            0.6666666666666666,
                            "#ed7953"
                          ],
                          [
                            0.7777777777777778,
                            "#fb9f3a"
                          ],
                          [
                            0.8888888888888888,
                            "#fdca26"
                          ],
                          [
                            1,
                            "#f0f921"
                          ]
                        ]
                      }
                    ],
                    "mesh3d": [
                      {
                        "type": "mesh3d",
                        "colorbar": {
                          "outlinewidth": 0,
                          "ticks": ""
                        }
                      }
                    ],
                    "scatter": [
                      {
                        "fillpattern": {
                          "fillmode": "overlay",
                          "size": 10,
                          "solidity": 0.2
                        },
                        "type": "scatter"
                      }
                    ],
                    "parcoords": [
                      {
                        "type": "parcoords",
                        "line": {
                          "colorbar": {
                            "outlinewidth": 0,
                            "ticks": ""
                          }
                        }
                      }
                    ],
                    "scatterpolargl": [
                      {
                        "type": "scatterpolargl",
                        "marker": {
                          "colorbar": {
                            "outlinewidth": 0,
                            "ticks": ""
                          }
                        }
                      }
                    ],
                    "bar": [
                      {
                        "error_x": {
                          "color": "#2a3f5f"
                        },
                        "error_y": {
                          "color": "#2a3f5f"
                        },
                        "marker": {
                          "line": {
                            "color": "#E5ECF6",
                            "width": 0.5
                          },
                          "pattern": {
                            "fillmode": "overlay",
                            "size": 10,
                            "solidity": 0.2
                          }
                        },
                        "type": "bar"
                      }
                    ],
                    "scattergeo": [
                      {
                        "type": "scattergeo",
                        "marker": {
                          "colorbar": {
                            "outlinewidth": 0,
                            "ticks": ""
                          }
                        }
                      }
                    ],
                    "scatterpolar": [
                      {
                        "type": "scatterpolar",
                        "marker": {
                          "colorbar": {
                            "outlinewidth": 0,
                            "ticks": ""
                          }
                        }
                      }
                    ],
                    "histogram": [
                      {
                        "marker": {
                          "pattern": {
                            "fillmode": "overlay",
                            "size": 10,
                            "solidity": 0.2
                          }
                        },
                        "type": "histogram"
                      }
                    ],
                    "scattergl": [
                      {
                        "type": "scattergl",
                        "marker": {
                          "colorbar": {
                            "outlinewidth": 0,
                            "ticks": ""
                          }
                        }
                      }
                    ],
                    "scatter3d": [
                      {
                        "type": "scatter3d",
                        "line": {
                          "colorbar": {
                            "outlinewidth": 0,
                            "ticks": ""
                          }
                        },
                        "marker": {
                          "colorbar": {
                            "outlinewidth": 0,
                            "ticks": ""
                          }
                        }
                      }
                    ],
                    "scattermapbox": [
                      {
                        "type": "scattermapbox",
                        "marker": {
                          "colorbar": {
                            "outlinewidth": 0,
                            "ticks": ""
                          }
                        }
                      }
                    ],
                    "scatterternary": [
                      {
                        "type": "scatterternary",
                        "marker": {
                          "colorbar": {
                            "outlinewidth": 0,
                            "ticks": ""
                          }
                        }
                      }
                    ],
                    "scattercarpet": [
                      {
                        "type": "scattercarpet",
                        "marker": {
                          "colorbar": {
                            "outlinewidth": 0,
                            "ticks": ""
                          }
                        }
                      }
                    ],
                    "carpet": [
                      {
                        "aaxis": {
                          "endlinecolor": "#2a3f5f",
                          "gridcolor": "white",
                          "linecolor": "white",
                          "minorgridcolor": "white",
                          "startlinecolor": "#2a3f5f"
                        },
                        "baxis": {
                          "endlinecolor": "#2a3f5f",
                          "gridcolor": "white",
                          "linecolor": "white",
                          "minorgridcolor": "white",
                          "startlinecolor": "#2a3f5f"
                        },
                        "type": "carpet"
                      }
                    ],
                    "table": [
                      {
                        "cells": {
                          "fill": {
                            "color": "#EBF0F8"
                          },
                          "line": {
                            "color": "white"
                          }
                        },
                        "header": {
                          "fill": {
                            "color": "#C8D4E3"
                          },
                          "line": {
                            "color": "white"
                          }
                        },
                        "type": "table"
                      }
                    ],
                    "barpolar": [
                      {
                        "marker": {
                          "line": {
                            "color": "#E5ECF6",
                            "width": 0.5
                          },
                          "pattern": {
                            "fillmode": "overlay",
                            "size": 10,
                            "solidity": 0.2
                          }
                        },
                        "type": "barpolar"
                      }
                    ],
                    "pie": [
                      {
                        "automargin": true,
                        "type": "pie"
                      }
                    ]
                  },
                  "layout": {
                    "autotypenumbers": "strict",
                    "colorway": [
                      "#636efa",
                      "#EF553B",
                      "#00cc96",
                      "#ab63fa",
                      "#FFA15A",
                      "#19d3f3",
                      "#FF6692",
                      "#B6E880",
                      "#FF97FF",
                      "#FECB52"
                    ],
                    "font": {
                      "color": "#2a3f5f"
                    },
                    "hovermode": "closest",
                    "hoverlabel": {
                      "align": "left"
                    },
                    "paper_bgcolor": "white",
                    "plot_bgcolor": "#E5ECF6",
                    "polar": {
                      "bgcolor": "#E5ECF6",
                      "angularaxis": {
                        "gridcolor": "white",
                        "linecolor": "white",
                        "ticks": ""
                      },
                      "radialaxis": {
                        "gridcolor": "white",
                        "linecolor": "white",
                        "ticks": ""
                      }
                    },
                    "ternary": {
                      "bgcolor": "#E5ECF6",
                      "aaxis": {
                        "gridcolor": "white",
                        "linecolor": "white",
                        "ticks": ""
                      },
                      "baxis": {
                        "gridcolor": "white",
                        "linecolor": "white",
                        "ticks": ""
                      },
                      "caxis": {
                        "gridcolor": "white",
                        "linecolor": "white",
                        "ticks": ""
                      }
                    },
                    "coloraxis": {
                      "colorbar": {
                        "outlinewidth": 0,
                        "ticks": ""
                      }
                    },
                    "colorscale": {
                      "sequential": [
                        [
                          0,
                          "#0d0887"
                        ],
                        [
                          0.1111111111111111,
                          "#46039f"
                        ],
                        [
                          0.2222222222222222,
                          "#7201a8"
                        ],
                        [
                          0.3333333333333333,
                          "#9c179e"
                        ],
                        [
                          0.4444444444444444,
                          "#bd3786"
                        ],
                        [
                          0.5555555555555556,
                          "#d8576b"
                        ],
                        [
                          0.6666666666666666,
                          "#ed7953"
                        ],
                        [
                          0.7777777777777778,
                          "#fb9f3a"
                        ],
                        [
                          0.8888888888888888,
                          "#fdca26"
                        ],
                        [
                          1,
                          "#f0f921"
                        ]
                      ],
                      "sequentialminus": [
                        [
                          0,
                          "#0d0887"
                        ],
                        [
                          0.1111111111111111,
                          "#46039f"
                        ],
                        [
                          0.2222222222222222,
                          "#7201a8"
                        ],
                        [
                          0.3333333333333333,
                          "#9c179e"
                        ],
                        [
                          0.4444444444444444,
                          "#bd3786"
                        ],
                        [
                          0.5555555555555556,
                          "#d8576b"
                        ],
                        [
                          0.6666666666666666,
                          "#ed7953"
                        ],
                        [
                          0.7777777777777778,
                          "#fb9f3a"
                        ],
                        [
                          0.8888888888888888,
                          "#fdca26"
                        ],
                        [
                          1,
                          "#f0f921"
                        ]
                      ],
                      "diverging": [
                        [
                          0,
                          "#8e0152"
                        ],
                        [
                          0.1,
                          "#c51b7d"
                        ],
                        [
                          0.2,
                          "#de77ae"
                        ],
                        [
                          0.3,
                          "#f1b6da"
                        ],
                        [
                          0.4,
                          "#fde0ef"
                        ],
                        [
                          0.5,
                          "#f7f7f7"
                        ],
                        [
                          0.6,
                          "#e6f5d0"
                        ],
                        [
                          0.7,
                          "#b8e186"
                        ],
                        [
                          0.8,
                          "#7fbc41"
                        ],
                        [
                          0.9,
                          "#4d9221"
                        ],
                        [
                          1,
                          "#276419"
                        ]
                      ]
                    },
                    "xaxis": {
                      "gridcolor": "white",
                      "linecolor": "white",
                      "ticks": "",
                      "title": {
                        "standoff": 15
                      },
                      "zerolinecolor": "white",
                      "automargin": true,
                      "zerolinewidth": 2
                    },
                    "yaxis": {
                      "gridcolor": "white",
                      "linecolor": "white",
                      "ticks": "",
                      "title": {
                        "standoff": 15
                      },
                      "zerolinecolor": "white",
                      "automargin": true,
                      "zerolinewidth": 2
                    },
                    "scene": {
                      "xaxis": {
                        "backgroundcolor": "#E5ECF6",
                        "gridcolor": "white",
                        "linecolor": "white",
                        "showbackground": true,
                        "ticks": "",
                        "zerolinecolor": "white",
                        "gridwidth": 2
                      },
                      "yaxis": {
                        "backgroundcolor": "#E5ECF6",
                        "gridcolor": "white",
                        "linecolor": "white",
                        "showbackground": true,
                        "ticks": "",
                        "zerolinecolor": "white",
                        "gridwidth": 2
                      },
                      "zaxis": {
                        "backgroundcolor": "#E5ECF6",
                        "gridcolor": "white",
                        "linecolor": "white",
                        "showbackground": true,
                        "ticks": "",
                        "zerolinecolor": "white",
                        "gridwidth": 2
                      }
                    },
                    "shapedefaults": {
                      "line": {
                        "color": "#2a3f5f"
                      }
                    },
                    "annotationdefaults": {
                      "arrowcolor": "#2a3f5f",
                      "arrowhead": 0,
                      "arrowwidth": 1
                    },
                    "geo": {
                      "bgcolor": "white",
                      "landcolor": "#E5ECF6",
                      "subunitcolor": "white",
                      "showland": true,
                      "showlakes": true,
                      "lakecolor": "white"
                    },
                    "title": {
                      "x": 0.05
                    },
                    "mapbox": {
                      "style": "light"
                    }
                  }
                },
                "xaxis": {
                  "anchor": "y",
                  "domain": [
                    0,
                    1
                  ],
                  "title": {
                    "text": "closest_cosim"
                  }
                },
                "yaxis": {
                  "anchor": "x",
                  "domain": [
                    0,
                    1
                  ],
                  "title": {
                    "text": "archq4_cosim"
                  }
                },
                "legend": {
                  "tracegroupgap": 0
                },
                "title": {
                  "text": "Comparison of Closest Cosine Similarity to Archetype 4"
                }
              },
              "config": {
                "plotlyServerURL": "https://plot.ly"
              }
            },
            "text/html": "<div>                            <div id=\"0978c7ee-64cd-4a47-8195-6b0204901dfb\" class=\"plotly-graph-div\" style=\"height:525px; width:100%;\"></div>            <script type=\"text/javascript\">                require([\"plotly\"], function(Plotly) {                    window.PLOTLYENV=window.PLOTLYENV || {};                                    if (document.getElementById(\"0978c7ee-64cd-4a47-8195-6b0204901dfb\")) {                    Plotly.newPlot(                        \"0978c7ee-64cd-4a47-8195-6b0204901dfb\",                        [{\"hovertemplate\":\"closest_cosim=%{x}\\u003cbr\\u003earchq4_cosim=%{y}\\u003cextra\\u003e\\u003c\\u002fextra\\u003e\",\"legendgroup\":\"\",\"marker\":{\"color\":\"#636efa\",\"symbol\":\"circle\"},\"mode\":\"markers\",\"name\":\"\",\"orientation\":\"v\",\"showlegend\":false,\"x\":[0.06595879700269358,0.1400309889962853,0.16048872507552492,0.11383665579443725,0.07910549846029369,0.11520151837330106,0.12565420134930871,0.10436907356733582,0.15410573222392876,0.1261215481094632,0.1484042944292675,0.11630370913198729,0.11109835978615967,0.1451157248174223,0.14944096465775547,0.09487103850594814,0.11821614983830764,0.14618515663943055,0.1533541502244965,0.13700411660555423,0.10523179285908535,0.11152903471341913,0.1569140275795503,0.15486792721348464,0.0986977285097802,0.0874856558083541,0.06872481070970948,0.06958996202339673,0.11052911205060423,0.10141733908658601,0.10932510185425803,0.07825589625781704,0.06143920448768281,0.11143918295688904,0.10031344605395753,0.06768842557473331,0.11865466600279839,0.06439801884906016,0.10809502560353657,0.06339332887498794,0.09803244851337367,0.10543917417975379,0.06371990727502597,0.08459331360587152,0.10707043814919726,0.07772717814080199,0.11441872842810963,0.07618106478774311,0.12009218603294358,0.06201053784132993,0.10858515508203748,0.06962409458354735,0.0666962822560101,0.0754864808370449,0.07894276330842631,0.06440674540455393,0.08138691940887433,0.07121625924433905,0.07073500854377168,0.07901405035052833,0.07585918683468185,0.08773849780227083,0.06836404034189925,0.05748208429907886,0.06748838297434667,0.07666681397004915,0.05837120217360936,0.07597137966587653,0.06371391082732858,0.06998822379656067,0.05883034760405759,0.07167277361885949,0.07364961778504886,0.07216944102289768,0.07796341816996921,0.0575509640654841,0.08276313707134031,0.08397442517388931,0.08498289182099594,0.07033442189330885,0.08681073663937056,0.04639092218427343,0.08231033004932198,0.06660413711771451,0.07812372682510382,0.08799926525804236,0.08730603847110485,0.07779555289781614,0.095322807264281,0.053459771919292076,0.0859117650106842,0.06230621486425425,0.06678961506803405,0.0652513406809817,0.05649468408129421,0.07052316750876919,0.08761394795453259,0.06651598908138212,0.07790166730530657,0.10039378217095918,0.047325098313189096,0.09499150134321543,0.07565018486048825,0.1091772587928207,0.09519928526167565,0.09316655520520145,0.06865982495128031,0.0991124929867081,0.08874027210727153,0.10260052783126572,0.09011259776953928,0.09322000781738449,0.0907771860955231,0.09490313262492633,0.09106762499336774,0.09082443115856986,0.08469612970933371,0.07714778261272504,0.07698577598364709,0.08718470352958574,0.08997059833565568,0.09670676969170011,0.08993104838570787,0.08641821756014578,0.08408326962285506,0.08744457278230255,0.05192296765427251,0.06602631696054628,0.04817179349082146,0.05911820854700389,0.07102146466287385,0.05631011182645862,0.07550395526353326,0.05990717849355531,0.05674162014738282,0.05450478506504697,0.05383745690917541,0.06087963551506714,0.05937154495585717,0.06891755453661041,0.0652844314370381,0.06992587513937654,0.06543442802973998,0.06925580074609083,0.051201896968669836,0.06621738555787382,0.0625092087394713,0.058923388684044564,0.0766047680471803,0.06523376874239784,0.12021544477192947,0.08302252424323275,0.12396114729227592,0.12144773077202198,0.0951576379773107,0.08267925358592865,0.15224529567890643,0.07156041625596388,0.11707798050414076,0.10749860495821073,0.08299017896065009,0.11885501830630596,0.11344886330014892,0.11526086175392658,0.1042976526125271,0.14340580261874503,0.08093410647729371,0.12148260194603122,0.10039276717695933,0.10749860495821073,0.13368648789477544,0.0919443864760845,0.12151981741341145,0.08912496755129784,0.06442242598585324,0.07984428180831982,0.11339314809332546,0.09009696745102558,0.08827472499464528,0.10851499645327078,0.07599367327518414,0.08153038157511094,0.11750597861844192,0.10827013443608191,0.09425350076963435,0.12085637058645626,0.08714221276567335,0.08481715562308345,0.06257932599204308,0.08230547358041385,0.08598613104154795,0.09007735715404852,0.11398192075805291,0.10333341695561316,0.11077387244149273,0.06838623467458826,0.10589925347384965,0.09414949341932455,0.10520068614904587,0.07799093588700656,0.09426837409994049,0.12469817780734682,0.09604855944201052,0.11154960760676069,0.12674186918826336,0.09559139654213422,0.12328415486557742,0.10489354819379881,0.09285311482379732,0.09966399165740891,0.12119367034383755,0.09356133893216612,0.10432855107584771,0.09878648185329064,0.09213249994753014,0.10690955823664183,0.10842979721614987,0.10792362468098848,0.08273682283200423,0.12367223591189058,0.10844586651840094,0.11700745786105116,0.08848087063251542,0.12126160950414722,0.09746707401115717,0.0893661075479657,0.12467229780233047,0.08956211538115166,0.10313990652538252,0.12275812745436132,0.08203393089359867,0.12263538017913289,0.09941119626696604,0.0881562609296549,0.09254319048717874,0.12136540221058223,0.09337511742399773,0.09544367603608583,0.09309614700398128,0.08460867328407318,0.09801468112426637,0.10295958709618414,0.10808106271001705,0.08099573169685748,0.11838111906957993,0.0898577564883557,0.11475024955483137,0.08714787001358004,0.12179101535602155,0.09772373415364632,0.08694835091869557,0.10138502997766508,0.09621587964799416,0.10903548411243125,0.09244777195894793,0.07986302924303446,0.12400924979531669,0.11195602295051676,0.09388602528251,0.10990123086622616,0.11092761525282635,0.10467442863047793,0.08391741378891726,0.12139124653469258,0.11182466799755619,0.11950304943935186,0.08334617508954745,0.12461057927355412,0.10103412121929978,0.13790399082136484,0.1268880729391293,0.11434865176570752,0.09425622583998305,0.08385485622799249,0.12841349057964524,0.1152619759969351,0.08394692223745814,0.09364766258184154,0.12004242893293271,0.0825608948670401,0.12021544477192947,0.07477798064821384,0.11171680763638803,0.07606440753833732,0.10558011628929709,0.09071634005536178,0.11742055402353979,0.07451120241528619,0.07434263800524754,0.08733256807131717,0.0923725368819861,0.12019767177045693,0.08588341200729943,0.08755771812183333,0.09378043043570716,0.11568485667304407,0.07625971680968979,0.12604665567787754,0.09703936086223164,0.08110444004903028,0.12542798780538011,0.09231457701865564,0.06559151079540781,0.055490353666507786,0.08071243461693467,0.10560198501419438,0.058105212772708414,0.09306260543042832,0.09691006335381591,0.060943170154337145,0.08886900046228696,0.04340761141428284,0.088237630394576,0.06411585472916081,0.10197804787731368,0.09817885469174781,0.05457671819082577,0.11173523255196094,0.044216651268167206,0.09653973607186861,0.0909146016910719,0.0878144685446659,0.10841048110223428,0.0444967126148047,0.06709153478969154,0.0781671278234215,0.05254282677498934,0.1013255395922773,0.09561968520537711,0.07827685977003485,0.06842089591352296,0.1034713100617356,0.07366359467114703,0.1001956330713113,0.06272925622843384,0.10454655673620683,0.08487139297294644,0.07038877218096051,0.10102686324159116,0.05305013827295202,0.08024228390785626,0.10519509541190475,0.06877127478447154,0.09251883056973487,0.07688219398795304,0.04506521920463491,0.08619669263843488,0.08250995078255219,0.08318261734254462,0.05993002142634973,0.07649816391278186,0.1014442532890174,0.09798088080503564,0.10103165781779389,0.1036190017295574,0.09255026236611663,0.07920484107759085,0.08827313492887079,0.10189406804050372,0.08360221189614303,0.109952446868532,0.07490705210765158,0.12385280007787758,0.07771875040852372,0.10088216958256302,0.11393042368287598,0.08964863165528547,0.11288413419011356,0.10388638612835133,0.09977976662333288,0.085881745739524,0.09003040986413657,0.10739033317556745,0.07241939872533742,0.06668346208094711,0.09314887071763911,0.0774606167648264,0.10888929871592379,0.09153937631009557,0.11388172346739567,0.08697001772197965,0.13198276595700276,0.08227468217577671,0.11139316572368141,0.11535560613994256,0.09218796951495767,0.1104696620418586,0.1238245211850475,0.1062522783958505,0.08299263615250319,0.1013789286439768,0.09475706382472049,0.11543588815165984,0.09913285402036964,0.09848077378896691,0.09190636874031588,0.09959248533333576,0.10718245943501226,0.09508157003866868,0.07332718881059674,0.05381015078360141,0.06888171361806039,0.09819786662599528,0.08876332374858265,0.07433833773406218,0.09552278694165539,0.11650511562716903,0.11753750199906698,0.07605001328082672,0.1139157486992094,0.09806179129483295,0.06145050370646499,0.13489512328268916,0.0714431723805169,0.10173408079264235,0.07269900849499089,0.09758492875899905,0.07172327164336556,0.06880111729030502,0.0745693122932013,0.1003215433766167,0.08681444385965531,0.0974022852827382,0.11287930207608099,0.06496364456993142,0.12878056306409713,0.1306030756769584,0.06829299903291552,0.12048367721085906,0.11873528579087611,0.08538593123198734,0.0629344946112016,0.08298034171588464,0.1275256736813647,0.1128214168836954,0.12087968879955868,0.06354562561701615,0.10537585895973323,0.07392406429331588,0.12469714172584556,0.11403198972590967,0.13417224520865,0.08346266349209475,0.06283709544078553,0.12345504543824792,0.06584863819784703,0.11038498525022677,0.09901839415761926,0.0614194890882801,0.026189207450928897,0.12600694481762453,0.12144524908730858,0.12697805406452656,0.11140878823081724,0.1187471397760883,0.12089842666459905,0.11776905590400966,0.1532248981390093,0.16054869170422514,0.18178382375645286,0.13595278364667307,0.11837328073848852,0.12540852696246252,0.160649109530681,0.13646883017869393,0.12360589629451513,0.22254652230970073,0.13700510979267588,0.13881778824768543,0.182850227920906,0.13149976874104552,0.10939178528712834,0.15250232018964027,0.04313537168450832,0.07807709212060288,0.13215179889710238,0.07349115921283489,0.1494465067064692,0.10074950932734106,0.14210642348848823,0.13655685519215421,0.08780727551223078,0.1283722887532628,0.12416264834837754,0.17092983940977036,0.10023133584942023,0.10947728051059413,0.10408639711438994,0.13128826089494794,0.13732112408738406,0.1345683291760278,0.12143950105982504,0.1146450902290056,0.1306657117524137,0.1343997500046198,0.1093951076690245,0.09587921782601583,0.1272738745586418,0.039044985128985576,0.04778119783572332,0.11363967849949208,0.07042560713042467,0.09094839259487231,0.10305022210720627,0.13355112605464692,0.12209007843664166,0.11604346123478182,0.11255237613657398,0.11224498239327196,0.12367886922713844,0.10620528957388675,0.10693879213296276,0.08959038561963006,0.12379549041461346,0.09335855627254752,0.12188384652340223,0.12345960221283725,0.14193889514627978,0.1072114413619415,0.12480965190171978,0.06241175634197238,0.09762121921742328,0.09730527881676798,0.0991527737926663,0.10826292406448401,0.07867933443662567,0.09628216581317561,0.07275248930379641,0.07577564082361232,0.06706279162678208,0.103154643500448,0.06380426539227568,0.06006278390001063,0.04862538982256903,0.08099745393215796,0.05936369023048804,0.0786939827786467,0.09029097590896684,0.0858421153488228,0.05946982709059412,0.07204225181853896,0.05111130933809904,0.03714440117151541,0.07615217898020543,0.05996597406381088,0.043533289273712805,0.07802533166776116,0.060579463816113566,0.04799714133946775,0.05199098499954713,0.04430431417475844,0.11133703727087985,0.08580463198113253,0.10946412701083497,0.09963590354445984,0.10112050812236895,0.09278879473110424,0.1270473167411621,0.07660794271892246,0.13630090880787504,0.1194865347720464,0.13977135369236082,0.10797787588068453,0.13393265423170775,0.13512118139693152,0.09200328199323282,0.10064246909284025,0.11693723357684582,0.12396519817374951,0.14476301083429632,0.12899838760759819,0.10681914870208231,0.13468672238354784,0.12063679927088022,0.11437756444163338,0.07973754245810005,0.04642169862249035,0.10271693078340349,0.10902968623788623,0.09938245702535309,0.12159326581312513,0.11719484378682932,0.11031708434967491,0.12943110986583883,0.12090486435436065,0.1359559896177971,0.1307467693256894,0.09942836183047288,0.12479651477755793,0.11222825189515828,0.11637146468876747,0.12497594451741956,0.1117419764361628,0.10430374653295793,0.11152440507738826,0.11921740125995917,0.12401299069046834,0.12765985054893025,0.13544425863435083],\"xaxis\":\"x\",\"y\":[0.14815807207736587,0.20945668356551017,0.20659221014565143,0.19102870003085248,0.1578140706745743,0.18594166693291714,0.18483088010991744,0.16287973025896285,0.22042329313572162,0.18950135515965594,0.2060685637068631,0.1852021618266596,0.19580301893242502,0.19344103025685044,0.207799424231218,0.17180574133023652,0.19178550208776113,0.1939960845756482,0.1967777729538105,0.19305679639331608,0.18730500975523867,0.1831932176569303,0.21505152074073497,0.20903900267338626,0.1643352712836833,0.16604905074730825,0.14325017582364874,0.11893084808880228,0.13849237871388942,0.134456331553935,0.12061181777583685,0.137238637664316,0.15277524993399016,0.11143918295688904,0.15072801914900602,0.13744713156195276,0.1253061812671583,0.12147894613661026,0.10809502560353657,0.11778268986448115,0.14008927786053993,0.14601802902795646,0.11584153268065578,0.14057290220545726,0.1286508410380942,0.14075200903861607,0.12056039317137213,0.1328155953622463,0.17882882575311532,0.12708230957773747,0.13391295162975358,0.1314890278139551,0.1361135383370644,0.12640203284039853,0.13123127986970784,0.13504481656329526,0.13763194435299297,0.11755261576513987,0.13890306292149301,0.14411316284385423,0.13478077474612327,0.1445690476637207,0.12345922702039647,0.1349750917118534,0.12998144013486823,0.15882858227251195,0.136894798438572,0.1430921023822741,0.13447309957946163,0.138876380613574,0.13518431939695474,0.13625010575057295,0.1403448997063228,0.14607353834952685,0.15199421779810562,0.13787788545482504,0.15767209173753394,0.14977220449170825,0.14778189169610834,0.13698263569318814,0.1408971827549661,0.13275186870780487,0.13754610663965838,0.13936188591449494,0.14868834224744976,0.13284761962432612,0.14218963519678574,0.13905643582535399,0.15058318188595365,0.12196252555910803,0.13435847941790469,0.13935631275328497,0.14262231859956842,0.1374565265600758,0.12688184646493605,0.13774479325502287,0.1521498370773554,0.13165550193362718,0.12542037606060064,0.1321387497260872,0.14032242558637265,0.13319432119952002,0.13904363276329346,0.14852266598738206,0.14346341523411477,0.13156950768849307,0.13562995976810988,0.14257170454892876,0.13170833324187303,0.13860837451649388,0.14546561819038561,0.13740080588156556,0.13746712428498709,0.13134400753790643,0.1373960572172478,0.13502888346559883,0.1449808076045055,0.13313691042458753,0.13534548681411307,0.1386191235111094,0.13414047534547746,0.13474080564979563,0.14588029217107812,0.13212187930272568,0.13571434481988998,0.13274198348590616,0.13212082864742836,0.14998381940049998,0.13679318405874297,0.1473005039259937,0.14325502604153917,0.13568068884668694,0.14724961834614492,0.13726932980159878,0.14104981011041728,0.13161743757955813,0.1403857067346952,0.14557290063130657,0.13705841321359202,0.14287958676505152,0.1480718875888165,0.1474343574034528,0.1439632070251361,0.1363039126035811,0.14031682999386907,0.13907007921637593,0.1454238001569368,0.1431024329743965,0.14215660224866478,0.15418625718177292,0.12021544477192947,0.15104166882750925,0.17332515609978216,0.15356266879182434,0.15877232571540256,0.1492719042288284,0.1713794167552265,0.1492080874182553,0.15079770619324318,0.16775378029449817,0.15099244526282374,0.15636123759554355,0.16469086737641447,0.1593693230326163,0.1892735999017251,0.17241298715568154,0.14201055010492525,0.18534947656373968,0.15025800190087502,0.16775378029449817,0.1522864953785703,0.11572243873286403,0.15366296760859022,0.1379471752794803,0.16615982150831599,0.16802374509834483,0.15629564713256872,0.17540326012551222,0.1750581412869181,0.14415438951569004,0.12371517341732952,0.15846841047244742,0.1750813691190053,0.1477087235613188,0.18502822417115705,0.16858776708718837,0.1600156876235933,0.1246432309740777,0.1516109610407279,0.1785190349080027,0.17299450645790815,0.13525006164836284,0.1395717432741611,0.1698515130558118,0.16154205324352977,0.13266740293103252,0.15454777418378285,0.15490060804809802,0.15690455684046956,0.1299408993723994,0.15991691518896856,0.1298251277554131,0.1293806924002534,0.16617549323229586,0.13006183294059304,0.1298287051150956,0.129207945438222,0.16311846972296407,0.1245165317090503,0.12446045611875933,0.16064608896638777,0.13550870605329024,0.12576886309907953,0.12733967007612623,0.1364025094214817,0.15607165673303647,0.13024756699296747,0.12109609978354252,0.14759385415438375,0.12405695277045714,0.12407401490644565,0.11700745786105116,0.13706268760582785,0.134641221344466,0.12566102385002265,0.14473435404604496,0.12966320321213098,0.13606019403960745,0.17202893106515327,0.12275812745436132,0.13777170453404375,0.12473649857582825,0.1724665070906325,0.11893200423622807,0.13269116607406217,0.1618989366004261,0.13926514421677993,0.13445246078950523,0.12117651927394413,0.1463003954638239,0.15735424251188845,0.13257014114053578,0.1141574101978271,0.148191395861754,0.11838111906957993,0.1256597945401784,0.11475024955483137,0.15097900645405837,0.13435250559093437,0.12945948046987454,0.12968154351859118,0.1091530496997476,0.14487490628161648,0.12222141951814991,0.12988259351675258,0.14302781993687141,0.12400924979531669,0.1211009410254219,0.1266929177171947,0.12972474559629998,0.15338677760000952,0.1520561428830841,0.14191204802948443,0.1294968910779175,0.14018384135488082,0.15250988238459406,0.14252990661173437,0.15434208824582685,0.13088099533941489,0.1514459164829408,0.16192135244178119,0.14434712718260667,0.15570764767514766,0.13721107097830132,0.13328566795807217,0.1283435266695807,0.13270806060412377,0.1152607197260318,0.12004242893293271,0.1434445291617641,0.12021544477192947,0.12487746945043487,0.11171680763638803,0.15075902199545477,0.14583287482657625,0.1337468004903717,0.15762652139383326,0.14830275375241941,0.12619915004764293,0.12461590649445675,0.1387409405598683,0.15833031937974618,0.14134846727419603,0.14776537747330443,0.16757684918597104,0.11568485667304407,0.13147269627733038,0.12604665567787754,0.17087767284507005,0.1427563054116352,0.15019658426945082,0.1250317398477262,0.11681606234411823,0.1464111997126578,0.11388567258178373,0.1100632548928494,0.11673236275459231,0.09306260543042832,0.12152074850097516,0.12390375405131138,0.11513172949400519,0.12169274281170461,0.12746426204558547,0.17216850676482998,0.1169338227762382,0.15338665108949945,0.10711617472894808,0.12580327701527627,0.13817850408313326,0.12455413666775828,0.14719433572186746,0.1418417852099234,0.10841048110223428,0.13590247133615507,0.13880320738215757,0.12016594602978237,0.14582184765349737,0.13521964030973932,0.1541515016181012,0.1301779570830489,0.11746739863805467,0.12674491510829378,0.1272011052877795,0.11753072364244177,0.14082950929515692,0.11754344429080699,0.15669142504979572,0.10530441162945725,0.1317300757981028,0.15568918627789452,0.12807780416672654,0.1325010440528377,0.16402881658578772,0.1469274656999059,0.1238399464362352,0.145087121188625,0.15149371762926434,0.12873779883094072,0.158305600527061,0.12821223164948492,0.13986816929466062,0.1431148441238177,0.11111408629822128,0.14738572205918843,0.1208722199419161,0.14399647773834123,0.14459747541182633,0.13902747667488824,0.1360799427534194,0.14386967073816903,0.1457353339780404,0.13455395463288,0.1642651106862244,0.12599069379574235,0.14253560175113833,0.1587257678288112,0.14411886652305395,0.14731101248291023,0.15266919047743643,0.1478146720872192,0.1355169020734166,0.14031992271996463,0.14775819726070216,0.13351307612353458,0.1192711892840218,0.15346346646101838,0.1238250232644631,0.13868614530580103,0.1440815991843527,0.13708157437702206,0.13683180784847204,0.16091119348845095,0.12593714170890757,0.1305602201509467,0.1470604495067317,0.1515438286754326,0.13234220091542603,0.14542232883959916,0.13110412939612381,0.13557388128045822,0.13251000397072754,0.15059911861334185,0.15250410958507288,0.13788471828943583,0.14896340448611867,0.14677605073993094,0.14575110315225914,0.15120827525232672,0.1470823704053119,0.12700628527386826,0.11472510305755113,0.13130536455911312,0.14348414398561737,0.12315927826261719,0.13201583716382082,0.12696762072476842,0.1437450674784615,0.14880330449065982,0.13511448413647487,0.14750112982189312,0.1303175683105845,0.11593816474178265,0.16408293597641666,0.14128373560179674,0.13578129721291832,0.13564954079014324,0.12569946456746373,0.12495509913452829,0.1312362111472415,0.134704725867276,0.11105090113544513,0.13731549456471814,0.09954485112216083,0.143639853849862,0.13142396592379701,0.15726224662689303,0.15302705052631826,0.12917817285105926,0.14386855983733926,0.14139164275490734,0.14662476280853753,0.14879014490746867,0.13904043800638932,0.16315335778555418,0.14658729708132867,0.13304102324738865,0.1520813393453777,0.14156156675377152,0.12964594117694694,0.1425081115592286,0.14750040990775581,0.16427026915299459,0.14667127355310916,0.14834960992272783,0.14016141734681786,0.12686882505041097,0.14249137017615243,0.1285540836403748,0.14813302729137778,0.026189207450928897,0.13272064974307296,0.15201978481831147,0.14034443850086775,0.1460368242823391,0.13669625253600726,0.13721082279210806,0.1316936552000767,0.17407131926048058,0.16054869170422514,0.20761019408366832,0.16962431120217458,0.13201792414405344,0.15134998455621862,0.160649109530681,0.16403594744037742,0.12360589629451513,0.22254652230970073,0.15918268171504668,0.146126391442444,0.182850227920906,0.1481752815994959,0.14378543010552292,0.15250232018964027,0.04313537168450832,0.07807709212060288,0.14977612098223103,0.07349115921283489,0.1817973956188853,0.13656618637361362,0.14355351309211117,0.16168661318103394,0.08780727551223078,0.1607444854169,0.12416264834837754,0.17092983940977036,0.1222317060718382,0.13442505874661015,0.13934196212606909,0.13128826089494794,0.16444799932739262,0.16374155323146367,0.12143950105982504,0.1146450902290056,0.1383259732544896,0.1391525353766625,0.1093951076690245,0.09587921782601583,0.1272738745586418,0.039044985128985576,0.04778119783572332,0.11674444973455411,0.07042560713042467,0.09094839259487231,0.10305022210720627,0.13355112605464692,0.12772674839609088,0.12710090960625586,0.11255237613657398,0.1252769885710916,0.130169157512949,0.10620528957388675,0.11785702735355308,0.08959038561963006,0.12776380739528104,0.10943794691188247,0.12188384652340223,0.12345960221283725,0.15184192403576924,0.11859440856706871,0.12632240650685567,0.06241175634197238,0.09762121921742328,0.09730527881676798,0.0991527737926663,0.11782238447298521,0.07867933443662567,0.09628216581317561,0.07275248930379641,0.07577564082361232,0.06706279162678208,0.103154643500448,0.06380426539227568,0.06006278390001063,0.04862538982256903,0.08099745393215796,0.05936369023048804,0.0786939827786467,0.09029097590896684,0.0858421153488228,0.05946982709059412,0.07204225181853896,0.05111130933809904,0.03714440117151541,0.07615217898020543,0.05996597406381088,0.043533289273712805,0.07802533166776116,0.060579463816113566,0.04799714133946775,0.05199098499954713,0.04430431417475844,0.11133703727087985,0.08580463198113253,0.10946412701083497,0.09963590354445984,0.10112050812236895,0.09278879473110424,0.1270473167411621,0.07660794271892246,0.13630090880787504,0.1239750910230023,0.14733292318853541,0.10797787588068453,0.1433087473914214,0.13512118139693152,0.09200328199323282,0.10064246909284025,0.11693723357684582,0.1275577571313371,0.16264165094783445,0.12899838760759819,0.10681914870208231,0.13468672238354784,0.12063679927088022,0.11794963835641359,0.07973754245810005,0.04642169862249035,0.10271693078340349,0.10902968623788623,0.09938245702535309,0.12159326581312513,0.11719484378682932,0.11031708434967491,0.12943110986583883,0.12090486435436065,0.1359559896177971,0.13527048436049383,0.09942836183047288,0.12479651477755793,0.11222825189515828,0.11637146468876747,0.12497594451741956,0.1117419764361628,0.10430374653295793,0.11152440507738826,0.11921740125995917,0.12401299069046834,0.12765985054893025,0.13544425863435083],\"yaxis\":\"y\",\"type\":\"scatter\"}],                        {\"template\":{\"data\":{\"histogram2dcontour\":[{\"type\":\"histogram2dcontour\",\"colorbar\":{\"outlinewidth\":0,\"ticks\":\"\"},\"colorscale\":[[0.0,\"#0d0887\"],[0.1111111111111111,\"#46039f\"],[0.2222222222222222,\"#7201a8\"],[0.3333333333333333,\"#9c179e\"],[0.4444444444444444,\"#bd3786\"],[0.5555555555555556,\"#d8576b\"],[0.6666666666666666,\"#ed7953\"],[0.7777777777777778,\"#fb9f3a\"],[0.8888888888888888,\"#fdca26\"],[1.0,\"#f0f921\"]]}],\"choropleth\":[{\"type\":\"choropleth\",\"colorbar\":{\"outlinewidth\":0,\"ticks\":\"\"}}],\"histogram2d\":[{\"type\":\"histogram2d\",\"colorbar\":{\"outlinewidth\":0,\"ticks\":\"\"},\"colorscale\":[[0.0,\"#0d0887\"],[0.1111111111111111,\"#46039f\"],[0.2222222222222222,\"#7201a8\"],[0.3333333333333333,\"#9c179e\"],[0.4444444444444444,\"#bd3786\"],[0.5555555555555556,\"#d8576b\"],[0.6666666666666666,\"#ed7953\"],[0.7777777777777778,\"#fb9f3a\"],[0.8888888888888888,\"#fdca26\"],[1.0,\"#f0f921\"]]}],\"heatmap\":[{\"type\":\"heatmap\",\"colorbar\":{\"outlinewidth\":0,\"ticks\":\"\"},\"colorscale\":[[0.0,\"#0d0887\"],[0.1111111111111111,\"#46039f\"],[0.2222222222222222,\"#7201a8\"],[0.3333333333333333,\"#9c179e\"],[0.4444444444444444,\"#bd3786\"],[0.5555555555555556,\"#d8576b\"],[0.6666666666666666,\"#ed7953\"],[0.7777777777777778,\"#fb9f3a\"],[0.8888888888888888,\"#fdca26\"],[1.0,\"#f0f921\"]]}],\"heatmapgl\":[{\"type\":\"heatmapgl\",\"colorbar\":{\"outlinewidth\":0,\"ticks\":\"\"},\"colorscale\":[[0.0,\"#0d0887\"],[0.1111111111111111,\"#46039f\"],[0.2222222222222222,\"#7201a8\"],[0.3333333333333333,\"#9c179e\"],[0.4444444444444444,\"#bd3786\"],[0.5555555555555556,\"#d8576b\"],[0.6666666666666666,\"#ed7953\"],[0.7777777777777778,\"#fb9f3a\"],[0.8888888888888888,\"#fdca26\"],[1.0,\"#f0f921\"]]}],\"contourcarpet\":[{\"type\":\"contourcarpet\",\"colorbar\":{\"outlinewidth\":0,\"ticks\":\"\"}}],\"contour\":[{\"type\":\"contour\",\"colorbar\":{\"outlinewidth\":0,\"ticks\":\"\"},\"colorscale\":[[0.0,\"#0d0887\"],[0.1111111111111111,\"#46039f\"],[0.2222222222222222,\"#7201a8\"],[0.3333333333333333,\"#9c179e\"],[0.4444444444444444,\"#bd3786\"],[0.5555555555555556,\"#d8576b\"],[0.6666666666666666,\"#ed7953\"],[0.7777777777777778,\"#fb9f3a\"],[0.8888888888888888,\"#fdca26\"],[1.0,\"#f0f921\"]]}],\"surface\":[{\"type\":\"surface\",\"colorbar\":{\"outlinewidth\":0,\"ticks\":\"\"},\"colorscale\":[[0.0,\"#0d0887\"],[0.1111111111111111,\"#46039f\"],[0.2222222222222222,\"#7201a8\"],[0.3333333333333333,\"#9c179e\"],[0.4444444444444444,\"#bd3786\"],[0.5555555555555556,\"#d8576b\"],[0.6666666666666666,\"#ed7953\"],[0.7777777777777778,\"#fb9f3a\"],[0.8888888888888888,\"#fdca26\"],[1.0,\"#f0f921\"]]}],\"mesh3d\":[{\"type\":\"mesh3d\",\"colorbar\":{\"outlinewidth\":0,\"ticks\":\"\"}}],\"scatter\":[{\"fillpattern\":{\"fillmode\":\"overlay\",\"size\":10,\"solidity\":0.2},\"type\":\"scatter\"}],\"parcoords\":[{\"type\":\"parcoords\",\"line\":{\"colorbar\":{\"outlinewidth\":0,\"ticks\":\"\"}}}],\"scatterpolargl\":[{\"type\":\"scatterpolargl\",\"marker\":{\"colorbar\":{\"outlinewidth\":0,\"ticks\":\"\"}}}],\"bar\":[{\"error_x\":{\"color\":\"#2a3f5f\"},\"error_y\":{\"color\":\"#2a3f5f\"},\"marker\":{\"line\":{\"color\":\"#E5ECF6\",\"width\":0.5},\"pattern\":{\"fillmode\":\"overlay\",\"size\":10,\"solidity\":0.2}},\"type\":\"bar\"}],\"scattergeo\":[{\"type\":\"scattergeo\",\"marker\":{\"colorbar\":{\"outlinewidth\":0,\"ticks\":\"\"}}}],\"scatterpolar\":[{\"type\":\"scatterpolar\",\"marker\":{\"colorbar\":{\"outlinewidth\":0,\"ticks\":\"\"}}}],\"histogram\":[{\"marker\":{\"pattern\":{\"fillmode\":\"overlay\",\"size\":10,\"solidity\":0.2}},\"type\":\"histogram\"}],\"scattergl\":[{\"type\":\"scattergl\",\"marker\":{\"colorbar\":{\"outlinewidth\":0,\"ticks\":\"\"}}}],\"scatter3d\":[{\"type\":\"scatter3d\",\"line\":{\"colorbar\":{\"outlinewidth\":0,\"ticks\":\"\"}},\"marker\":{\"colorbar\":{\"outlinewidth\":0,\"ticks\":\"\"}}}],\"scattermapbox\":[{\"type\":\"scattermapbox\",\"marker\":{\"colorbar\":{\"outlinewidth\":0,\"ticks\":\"\"}}}],\"scatterternary\":[{\"type\":\"scatterternary\",\"marker\":{\"colorbar\":{\"outlinewidth\":0,\"ticks\":\"\"}}}],\"scattercarpet\":[{\"type\":\"scattercarpet\",\"marker\":{\"colorbar\":{\"outlinewidth\":0,\"ticks\":\"\"}}}],\"carpet\":[{\"aaxis\":{\"endlinecolor\":\"#2a3f5f\",\"gridcolor\":\"white\",\"linecolor\":\"white\",\"minorgridcolor\":\"white\",\"startlinecolor\":\"#2a3f5f\"},\"baxis\":{\"endlinecolor\":\"#2a3f5f\",\"gridcolor\":\"white\",\"linecolor\":\"white\",\"minorgridcolor\":\"white\",\"startlinecolor\":\"#2a3f5f\"},\"type\":\"carpet\"}],\"table\":[{\"cells\":{\"fill\":{\"color\":\"#EBF0F8\"},\"line\":{\"color\":\"white\"}},\"header\":{\"fill\":{\"color\":\"#C8D4E3\"},\"line\":{\"color\":\"white\"}},\"type\":\"table\"}],\"barpolar\":[{\"marker\":{\"line\":{\"color\":\"#E5ECF6\",\"width\":0.5},\"pattern\":{\"fillmode\":\"overlay\",\"size\":10,\"solidity\":0.2}},\"type\":\"barpolar\"}],\"pie\":[{\"automargin\":true,\"type\":\"pie\"}]},\"layout\":{\"autotypenumbers\":\"strict\",\"colorway\":[\"#636efa\",\"#EF553B\",\"#00cc96\",\"#ab63fa\",\"#FFA15A\",\"#19d3f3\",\"#FF6692\",\"#B6E880\",\"#FF97FF\",\"#FECB52\"],\"font\":{\"color\":\"#2a3f5f\"},\"hovermode\":\"closest\",\"hoverlabel\":{\"align\":\"left\"},\"paper_bgcolor\":\"white\",\"plot_bgcolor\":\"#E5ECF6\",\"polar\":{\"bgcolor\":\"#E5ECF6\",\"angularaxis\":{\"gridcolor\":\"white\",\"linecolor\":\"white\",\"ticks\":\"\"},\"radialaxis\":{\"gridcolor\":\"white\",\"linecolor\":\"white\",\"ticks\":\"\"}},\"ternary\":{\"bgcolor\":\"#E5ECF6\",\"aaxis\":{\"gridcolor\":\"white\",\"linecolor\":\"white\",\"ticks\":\"\"},\"baxis\":{\"gridcolor\":\"white\",\"linecolor\":\"white\",\"ticks\":\"\"},\"caxis\":{\"gridcolor\":\"white\",\"linecolor\":\"white\",\"ticks\":\"\"}},\"coloraxis\":{\"colorbar\":{\"outlinewidth\":0,\"ticks\":\"\"}},\"colorscale\":{\"sequential\":[[0.0,\"#0d0887\"],[0.1111111111111111,\"#46039f\"],[0.2222222222222222,\"#7201a8\"],[0.3333333333333333,\"#9c179e\"],[0.4444444444444444,\"#bd3786\"],[0.5555555555555556,\"#d8576b\"],[0.6666666666666666,\"#ed7953\"],[0.7777777777777778,\"#fb9f3a\"],[0.8888888888888888,\"#fdca26\"],[1.0,\"#f0f921\"]],\"sequentialminus\":[[0.0,\"#0d0887\"],[0.1111111111111111,\"#46039f\"],[0.2222222222222222,\"#7201a8\"],[0.3333333333333333,\"#9c179e\"],[0.4444444444444444,\"#bd3786\"],[0.5555555555555556,\"#d8576b\"],[0.6666666666666666,\"#ed7953\"],[0.7777777777777778,\"#fb9f3a\"],[0.8888888888888888,\"#fdca26\"],[1.0,\"#f0f921\"]],\"diverging\":[[0,\"#8e0152\"],[0.1,\"#c51b7d\"],[0.2,\"#de77ae\"],[0.3,\"#f1b6da\"],[0.4,\"#fde0ef\"],[0.5,\"#f7f7f7\"],[0.6,\"#e6f5d0\"],[0.7,\"#b8e186\"],[0.8,\"#7fbc41\"],[0.9,\"#4d9221\"],[1,\"#276419\"]]},\"xaxis\":{\"gridcolor\":\"white\",\"linecolor\":\"white\",\"ticks\":\"\",\"title\":{\"standoff\":15},\"zerolinecolor\":\"white\",\"automargin\":true,\"zerolinewidth\":2},\"yaxis\":{\"gridcolor\":\"white\",\"linecolor\":\"white\",\"ticks\":\"\",\"title\":{\"standoff\":15},\"zerolinecolor\":\"white\",\"automargin\":true,\"zerolinewidth\":2},\"scene\":{\"xaxis\":{\"backgroundcolor\":\"#E5ECF6\",\"gridcolor\":\"white\",\"linecolor\":\"white\",\"showbackground\":true,\"ticks\":\"\",\"zerolinecolor\":\"white\",\"gridwidth\":2},\"yaxis\":{\"backgroundcolor\":\"#E5ECF6\",\"gridcolor\":\"white\",\"linecolor\":\"white\",\"showbackground\":true,\"ticks\":\"\",\"zerolinecolor\":\"white\",\"gridwidth\":2},\"zaxis\":{\"backgroundcolor\":\"#E5ECF6\",\"gridcolor\":\"white\",\"linecolor\":\"white\",\"showbackground\":true,\"ticks\":\"\",\"zerolinecolor\":\"white\",\"gridwidth\":2}},\"shapedefaults\":{\"line\":{\"color\":\"#2a3f5f\"}},\"annotationdefaults\":{\"arrowcolor\":\"#2a3f5f\",\"arrowhead\":0,\"arrowwidth\":1},\"geo\":{\"bgcolor\":\"white\",\"landcolor\":\"#E5ECF6\",\"subunitcolor\":\"white\",\"showland\":true,\"showlakes\":true,\"lakecolor\":\"white\"},\"title\":{\"x\":0.05},\"mapbox\":{\"style\":\"light\"}}},\"xaxis\":{\"anchor\":\"y\",\"domain\":[0.0,1.0],\"title\":{\"text\":\"closest_cosim\"}},\"yaxis\":{\"anchor\":\"x\",\"domain\":[0.0,1.0],\"title\":{\"text\":\"archq4_cosim\"}},\"legend\":{\"tracegroupgap\":0},\"title\":{\"text\":\"Comparison of Closest Cosine Similarity to Archetype 4\"}},                        {\"responsive\": true}                    ).then(function(){\n                            \nvar gd = document.getElementById('0978c7ee-64cd-4a47-8195-6b0204901dfb');\nvar x = new MutationObserver(function (mutations, observer) {{\n        var display = window.getComputedStyle(gd).display;\n        if (!display || display === 'none') {{\n            console.log([gd, 'removed!']);\n            Plotly.purge(gd);\n            observer.disconnect();\n        }}\n}});\n\n// Listen for the removal of the full notebook cells\nvar notebookContainer = gd.closest('#notebook-container');\nif (notebookContainer) {{\n    x.observe(notebookContainer, {childList: true});\n}}\n\n// Listen for the clearing of the current output cell\nvar outputEl = gd.closest('.output');\nif (outputEl) {{\n    x.observe(outputEl, {childList: true});\n}}\n\n                        })                };                });            </script>        </div>"
          },
          "metadata": {}
        }
      ],
      "execution_count": 138,
      "metadata": {
        "jupyter": {
          "source_hidden": false,
          "outputs_hidden": false
        },
        "nteract": {
          "transient": {
            "deleting": false
          }
        },
        "gather": {
          "logged": 1702680255235
        }
      }
    },
    {
      "cell_type": "markdown",
      "source": [
        "## Correct vs Incorrect\n",
        "\n",
        "Correct vs Incorrect Matches: A bar chart showing the count of correct vs incorrect matches (based on archq_closest). This provides a quick overview of the matching accuracy."
      ],
      "metadata": {
        "nteract": {
          "transient": {
            "deleting": false
          }
        }
      }
    },
    {
      "cell_type": "code",
      "source": [
        "correct_counts = final_evaluation_df['archq_closest'].value_counts()\n",
        "fig = px.bar(\n",
        "    correct_counts, \n",
        "    x=correct_counts.index, \n",
        "    y=correct_counts.values, \n",
        "    title=\"Correct vs Incorrect Archetype Matches\",\n",
        "    labels={'x': 'Match Correct', 'y': 'Count'}\n",
        ")\n",
        "fig.show()\n"
      ],
      "outputs": [
        {
          "output_type": "display_data",
          "data": {
            "application/vnd.plotly.v1+json": {
              "data": [
                {
                  "alignmentgroup": "True",
                  "hovertemplate": "index=%{x}<br>Count=%{y}<extra></extra>",
                  "legendgroup": "",
                  "marker": {
                    "color": "#636efa",
                    "pattern": {
                      "shape": ""
                    }
                  },
                  "name": "",
                  "offsetgroup": "",
                  "orientation": "v",
                  "showlegend": false,
                  "textposition": "auto",
                  "x": [
                    1,
                    0
                  ],
                  "xaxis": "x",
                  "y": [
                    371,
                    228
                  ],
                  "yaxis": "y",
                  "type": "bar"
                }
              ],
              "layout": {
                "template": {
                  "data": {
                    "histogram2dcontour": [
                      {
                        "type": "histogram2dcontour",
                        "colorbar": {
                          "outlinewidth": 0,
                          "ticks": ""
                        },
                        "colorscale": [
                          [
                            0,
                            "#0d0887"
                          ],
                          [
                            0.1111111111111111,
                            "#46039f"
                          ],
                          [
                            0.2222222222222222,
                            "#7201a8"
                          ],
                          [
                            0.3333333333333333,
                            "#9c179e"
                          ],
                          [
                            0.4444444444444444,
                            "#bd3786"
                          ],
                          [
                            0.5555555555555556,
                            "#d8576b"
                          ],
                          [
                            0.6666666666666666,
                            "#ed7953"
                          ],
                          [
                            0.7777777777777778,
                            "#fb9f3a"
                          ],
                          [
                            0.8888888888888888,
                            "#fdca26"
                          ],
                          [
                            1,
                            "#f0f921"
                          ]
                        ]
                      }
                    ],
                    "choropleth": [
                      {
                        "type": "choropleth",
                        "colorbar": {
                          "outlinewidth": 0,
                          "ticks": ""
                        }
                      }
                    ],
                    "histogram2d": [
                      {
                        "type": "histogram2d",
                        "colorbar": {
                          "outlinewidth": 0,
                          "ticks": ""
                        },
                        "colorscale": [
                          [
                            0,
                            "#0d0887"
                          ],
                          [
                            0.1111111111111111,
                            "#46039f"
                          ],
                          [
                            0.2222222222222222,
                            "#7201a8"
                          ],
                          [
                            0.3333333333333333,
                            "#9c179e"
                          ],
                          [
                            0.4444444444444444,
                            "#bd3786"
                          ],
                          [
                            0.5555555555555556,
                            "#d8576b"
                          ],
                          [
                            0.6666666666666666,
                            "#ed7953"
                          ],
                          [
                            0.7777777777777778,
                            "#fb9f3a"
                          ],
                          [
                            0.8888888888888888,
                            "#fdca26"
                          ],
                          [
                            1,
                            "#f0f921"
                          ]
                        ]
                      }
                    ],
                    "heatmap": [
                      {
                        "type": "heatmap",
                        "colorbar": {
                          "outlinewidth": 0,
                          "ticks": ""
                        },
                        "colorscale": [
                          [
                            0,
                            "#0d0887"
                          ],
                          [
                            0.1111111111111111,
                            "#46039f"
                          ],
                          [
                            0.2222222222222222,
                            "#7201a8"
                          ],
                          [
                            0.3333333333333333,
                            "#9c179e"
                          ],
                          [
                            0.4444444444444444,
                            "#bd3786"
                          ],
                          [
                            0.5555555555555556,
                            "#d8576b"
                          ],
                          [
                            0.6666666666666666,
                            "#ed7953"
                          ],
                          [
                            0.7777777777777778,
                            "#fb9f3a"
                          ],
                          [
                            0.8888888888888888,
                            "#fdca26"
                          ],
                          [
                            1,
                            "#f0f921"
                          ]
                        ]
                      }
                    ],
                    "heatmapgl": [
                      {
                        "type": "heatmapgl",
                        "colorbar": {
                          "outlinewidth": 0,
                          "ticks": ""
                        },
                        "colorscale": [
                          [
                            0,
                            "#0d0887"
                          ],
                          [
                            0.1111111111111111,
                            "#46039f"
                          ],
                          [
                            0.2222222222222222,
                            "#7201a8"
                          ],
                          [
                            0.3333333333333333,
                            "#9c179e"
                          ],
                          [
                            0.4444444444444444,
                            "#bd3786"
                          ],
                          [
                            0.5555555555555556,
                            "#d8576b"
                          ],
                          [
                            0.6666666666666666,
                            "#ed7953"
                          ],
                          [
                            0.7777777777777778,
                            "#fb9f3a"
                          ],
                          [
                            0.8888888888888888,
                            "#fdca26"
                          ],
                          [
                            1,
                            "#f0f921"
                          ]
                        ]
                      }
                    ],
                    "contourcarpet": [
                      {
                        "type": "contourcarpet",
                        "colorbar": {
                          "outlinewidth": 0,
                          "ticks": ""
                        }
                      }
                    ],
                    "contour": [
                      {
                        "type": "contour",
                        "colorbar": {
                          "outlinewidth": 0,
                          "ticks": ""
                        },
                        "colorscale": [
                          [
                            0,
                            "#0d0887"
                          ],
                          [
                            0.1111111111111111,
                            "#46039f"
                          ],
                          [
                            0.2222222222222222,
                            "#7201a8"
                          ],
                          [
                            0.3333333333333333,
                            "#9c179e"
                          ],
                          [
                            0.4444444444444444,
                            "#bd3786"
                          ],
                          [
                            0.5555555555555556,
                            "#d8576b"
                          ],
                          [
                            0.6666666666666666,
                            "#ed7953"
                          ],
                          [
                            0.7777777777777778,
                            "#fb9f3a"
                          ],
                          [
                            0.8888888888888888,
                            "#fdca26"
                          ],
                          [
                            1,
                            "#f0f921"
                          ]
                        ]
                      }
                    ],
                    "surface": [
                      {
                        "type": "surface",
                        "colorbar": {
                          "outlinewidth": 0,
                          "ticks": ""
                        },
                        "colorscale": [
                          [
                            0,
                            "#0d0887"
                          ],
                          [
                            0.1111111111111111,
                            "#46039f"
                          ],
                          [
                            0.2222222222222222,
                            "#7201a8"
                          ],
                          [
                            0.3333333333333333,
                            "#9c179e"
                          ],
                          [
                            0.4444444444444444,
                            "#bd3786"
                          ],
                          [
                            0.5555555555555556,
                            "#d8576b"
                          ],
                          [
                            0.6666666666666666,
                            "#ed7953"
                          ],
                          [
                            0.7777777777777778,
                            "#fb9f3a"
                          ],
                          [
                            0.8888888888888888,
                            "#fdca26"
                          ],
                          [
                            1,
                            "#f0f921"
                          ]
                        ]
                      }
                    ],
                    "mesh3d": [
                      {
                        "type": "mesh3d",
                        "colorbar": {
                          "outlinewidth": 0,
                          "ticks": ""
                        }
                      }
                    ],
                    "scatter": [
                      {
                        "fillpattern": {
                          "fillmode": "overlay",
                          "size": 10,
                          "solidity": 0.2
                        },
                        "type": "scatter"
                      }
                    ],
                    "parcoords": [
                      {
                        "type": "parcoords",
                        "line": {
                          "colorbar": {
                            "outlinewidth": 0,
                            "ticks": ""
                          }
                        }
                      }
                    ],
                    "scatterpolargl": [
                      {
                        "type": "scatterpolargl",
                        "marker": {
                          "colorbar": {
                            "outlinewidth": 0,
                            "ticks": ""
                          }
                        }
                      }
                    ],
                    "bar": [
                      {
                        "error_x": {
                          "color": "#2a3f5f"
                        },
                        "error_y": {
                          "color": "#2a3f5f"
                        },
                        "marker": {
                          "line": {
                            "color": "#E5ECF6",
                            "width": 0.5
                          },
                          "pattern": {
                            "fillmode": "overlay",
                            "size": 10,
                            "solidity": 0.2
                          }
                        },
                        "type": "bar"
                      }
                    ],
                    "scattergeo": [
                      {
                        "type": "scattergeo",
                        "marker": {
                          "colorbar": {
                            "outlinewidth": 0,
                            "ticks": ""
                          }
                        }
                      }
                    ],
                    "scatterpolar": [
                      {
                        "type": "scatterpolar",
                        "marker": {
                          "colorbar": {
                            "outlinewidth": 0,
                            "ticks": ""
                          }
                        }
                      }
                    ],
                    "histogram": [
                      {
                        "marker": {
                          "pattern": {
                            "fillmode": "overlay",
                            "size": 10,
                            "solidity": 0.2
                          }
                        },
                        "type": "histogram"
                      }
                    ],
                    "scattergl": [
                      {
                        "type": "scattergl",
                        "marker": {
                          "colorbar": {
                            "outlinewidth": 0,
                            "ticks": ""
                          }
                        }
                      }
                    ],
                    "scatter3d": [
                      {
                        "type": "scatter3d",
                        "line": {
                          "colorbar": {
                            "outlinewidth": 0,
                            "ticks": ""
                          }
                        },
                        "marker": {
                          "colorbar": {
                            "outlinewidth": 0,
                            "ticks": ""
                          }
                        }
                      }
                    ],
                    "scattermapbox": [
                      {
                        "type": "scattermapbox",
                        "marker": {
                          "colorbar": {
                            "outlinewidth": 0,
                            "ticks": ""
                          }
                        }
                      }
                    ],
                    "scatterternary": [
                      {
                        "type": "scatterternary",
                        "marker": {
                          "colorbar": {
                            "outlinewidth": 0,
                            "ticks": ""
                          }
                        }
                      }
                    ],
                    "scattercarpet": [
                      {
                        "type": "scattercarpet",
                        "marker": {
                          "colorbar": {
                            "outlinewidth": 0,
                            "ticks": ""
                          }
                        }
                      }
                    ],
                    "carpet": [
                      {
                        "aaxis": {
                          "endlinecolor": "#2a3f5f",
                          "gridcolor": "white",
                          "linecolor": "white",
                          "minorgridcolor": "white",
                          "startlinecolor": "#2a3f5f"
                        },
                        "baxis": {
                          "endlinecolor": "#2a3f5f",
                          "gridcolor": "white",
                          "linecolor": "white",
                          "minorgridcolor": "white",
                          "startlinecolor": "#2a3f5f"
                        },
                        "type": "carpet"
                      }
                    ],
                    "table": [
                      {
                        "cells": {
                          "fill": {
                            "color": "#EBF0F8"
                          },
                          "line": {
                            "color": "white"
                          }
                        },
                        "header": {
                          "fill": {
                            "color": "#C8D4E3"
                          },
                          "line": {
                            "color": "white"
                          }
                        },
                        "type": "table"
                      }
                    ],
                    "barpolar": [
                      {
                        "marker": {
                          "line": {
                            "color": "#E5ECF6",
                            "width": 0.5
                          },
                          "pattern": {
                            "fillmode": "overlay",
                            "size": 10,
                            "solidity": 0.2
                          }
                        },
                        "type": "barpolar"
                      }
                    ],
                    "pie": [
                      {
                        "automargin": true,
                        "type": "pie"
                      }
                    ]
                  },
                  "layout": {
                    "autotypenumbers": "strict",
                    "colorway": [
                      "#636efa",
                      "#EF553B",
                      "#00cc96",
                      "#ab63fa",
                      "#FFA15A",
                      "#19d3f3",
                      "#FF6692",
                      "#B6E880",
                      "#FF97FF",
                      "#FECB52"
                    ],
                    "font": {
                      "color": "#2a3f5f"
                    },
                    "hovermode": "closest",
                    "hoverlabel": {
                      "align": "left"
                    },
                    "paper_bgcolor": "white",
                    "plot_bgcolor": "#E5ECF6",
                    "polar": {
                      "bgcolor": "#E5ECF6",
                      "angularaxis": {
                        "gridcolor": "white",
                        "linecolor": "white",
                        "ticks": ""
                      },
                      "radialaxis": {
                        "gridcolor": "white",
                        "linecolor": "white",
                        "ticks": ""
                      }
                    },
                    "ternary": {
                      "bgcolor": "#E5ECF6",
                      "aaxis": {
                        "gridcolor": "white",
                        "linecolor": "white",
                        "ticks": ""
                      },
                      "baxis": {
                        "gridcolor": "white",
                        "linecolor": "white",
                        "ticks": ""
                      },
                      "caxis": {
                        "gridcolor": "white",
                        "linecolor": "white",
                        "ticks": ""
                      }
                    },
                    "coloraxis": {
                      "colorbar": {
                        "outlinewidth": 0,
                        "ticks": ""
                      }
                    },
                    "colorscale": {
                      "sequential": [
                        [
                          0,
                          "#0d0887"
                        ],
                        [
                          0.1111111111111111,
                          "#46039f"
                        ],
                        [
                          0.2222222222222222,
                          "#7201a8"
                        ],
                        [
                          0.3333333333333333,
                          "#9c179e"
                        ],
                        [
                          0.4444444444444444,
                          "#bd3786"
                        ],
                        [
                          0.5555555555555556,
                          "#d8576b"
                        ],
                        [
                          0.6666666666666666,
                          "#ed7953"
                        ],
                        [
                          0.7777777777777778,
                          "#fb9f3a"
                        ],
                        [
                          0.8888888888888888,
                          "#fdca26"
                        ],
                        [
                          1,
                          "#f0f921"
                        ]
                      ],
                      "sequentialminus": [
                        [
                          0,
                          "#0d0887"
                        ],
                        [
                          0.1111111111111111,
                          "#46039f"
                        ],
                        [
                          0.2222222222222222,
                          "#7201a8"
                        ],
                        [
                          0.3333333333333333,
                          "#9c179e"
                        ],
                        [
                          0.4444444444444444,
                          "#bd3786"
                        ],
                        [
                          0.5555555555555556,
                          "#d8576b"
                        ],
                        [
                          0.6666666666666666,
                          "#ed7953"
                        ],
                        [
                          0.7777777777777778,
                          "#fb9f3a"
                        ],
                        [
                          0.8888888888888888,
                          "#fdca26"
                        ],
                        [
                          1,
                          "#f0f921"
                        ]
                      ],
                      "diverging": [
                        [
                          0,
                          "#8e0152"
                        ],
                        [
                          0.1,
                          "#c51b7d"
                        ],
                        [
                          0.2,
                          "#de77ae"
                        ],
                        [
                          0.3,
                          "#f1b6da"
                        ],
                        [
                          0.4,
                          "#fde0ef"
                        ],
                        [
                          0.5,
                          "#f7f7f7"
                        ],
                        [
                          0.6,
                          "#e6f5d0"
                        ],
                        [
                          0.7,
                          "#b8e186"
                        ],
                        [
                          0.8,
                          "#7fbc41"
                        ],
                        [
                          0.9,
                          "#4d9221"
                        ],
                        [
                          1,
                          "#276419"
                        ]
                      ]
                    },
                    "xaxis": {
                      "gridcolor": "white",
                      "linecolor": "white",
                      "ticks": "",
                      "title": {
                        "standoff": 15
                      },
                      "zerolinecolor": "white",
                      "automargin": true,
                      "zerolinewidth": 2
                    },
                    "yaxis": {
                      "gridcolor": "white",
                      "linecolor": "white",
                      "ticks": "",
                      "title": {
                        "standoff": 15
                      },
                      "zerolinecolor": "white",
                      "automargin": true,
                      "zerolinewidth": 2
                    },
                    "scene": {
                      "xaxis": {
                        "backgroundcolor": "#E5ECF6",
                        "gridcolor": "white",
                        "linecolor": "white",
                        "showbackground": true,
                        "ticks": "",
                        "zerolinecolor": "white",
                        "gridwidth": 2
                      },
                      "yaxis": {
                        "backgroundcolor": "#E5ECF6",
                        "gridcolor": "white",
                        "linecolor": "white",
                        "showbackground": true,
                        "ticks": "",
                        "zerolinecolor": "white",
                        "gridwidth": 2
                      },
                      "zaxis": {
                        "backgroundcolor": "#E5ECF6",
                        "gridcolor": "white",
                        "linecolor": "white",
                        "showbackground": true,
                        "ticks": "",
                        "zerolinecolor": "white",
                        "gridwidth": 2
                      }
                    },
                    "shapedefaults": {
                      "line": {
                        "color": "#2a3f5f"
                      }
                    },
                    "annotationdefaults": {
                      "arrowcolor": "#2a3f5f",
                      "arrowhead": 0,
                      "arrowwidth": 1
                    },
                    "geo": {
                      "bgcolor": "white",
                      "landcolor": "#E5ECF6",
                      "subunitcolor": "white",
                      "showland": true,
                      "showlakes": true,
                      "lakecolor": "white"
                    },
                    "title": {
                      "x": 0.05
                    },
                    "mapbox": {
                      "style": "light"
                    }
                  }
                },
                "xaxis": {
                  "anchor": "y",
                  "domain": [
                    0,
                    1
                  ],
                  "title": {
                    "text": "index"
                  }
                },
                "yaxis": {
                  "anchor": "x",
                  "domain": [
                    0,
                    1
                  ],
                  "title": {
                    "text": "Count"
                  }
                },
                "legend": {
                  "tracegroupgap": 0
                },
                "title": {
                  "text": "Correct vs Incorrect Archetype Matches"
                },
                "barmode": "relative"
              },
              "config": {
                "plotlyServerURL": "https://plot.ly"
              }
            },
            "text/html": "<div>                            <div id=\"a6538a41-ff98-4c3c-b3f2-5864fb538003\" class=\"plotly-graph-div\" style=\"height:525px; width:100%;\"></div>            <script type=\"text/javascript\">                require([\"plotly\"], function(Plotly) {                    window.PLOTLYENV=window.PLOTLYENV || {};                                    if (document.getElementById(\"a6538a41-ff98-4c3c-b3f2-5864fb538003\")) {                    Plotly.newPlot(                        \"a6538a41-ff98-4c3c-b3f2-5864fb538003\",                        [{\"alignmentgroup\":\"True\",\"hovertemplate\":\"index=%{x}\\u003cbr\\u003eCount=%{y}\\u003cextra\\u003e\\u003c\\u002fextra\\u003e\",\"legendgroup\":\"\",\"marker\":{\"color\":\"#636efa\",\"pattern\":{\"shape\":\"\"}},\"name\":\"\",\"offsetgroup\":\"\",\"orientation\":\"v\",\"showlegend\":false,\"textposition\":\"auto\",\"x\":[1,0],\"xaxis\":\"x\",\"y\":[371,228],\"yaxis\":\"y\",\"type\":\"bar\"}],                        {\"template\":{\"data\":{\"histogram2dcontour\":[{\"type\":\"histogram2dcontour\",\"colorbar\":{\"outlinewidth\":0,\"ticks\":\"\"},\"colorscale\":[[0.0,\"#0d0887\"],[0.1111111111111111,\"#46039f\"],[0.2222222222222222,\"#7201a8\"],[0.3333333333333333,\"#9c179e\"],[0.4444444444444444,\"#bd3786\"],[0.5555555555555556,\"#d8576b\"],[0.6666666666666666,\"#ed7953\"],[0.7777777777777778,\"#fb9f3a\"],[0.8888888888888888,\"#fdca26\"],[1.0,\"#f0f921\"]]}],\"choropleth\":[{\"type\":\"choropleth\",\"colorbar\":{\"outlinewidth\":0,\"ticks\":\"\"}}],\"histogram2d\":[{\"type\":\"histogram2d\",\"colorbar\":{\"outlinewidth\":0,\"ticks\":\"\"},\"colorscale\":[[0.0,\"#0d0887\"],[0.1111111111111111,\"#46039f\"],[0.2222222222222222,\"#7201a8\"],[0.3333333333333333,\"#9c179e\"],[0.4444444444444444,\"#bd3786\"],[0.5555555555555556,\"#d8576b\"],[0.6666666666666666,\"#ed7953\"],[0.7777777777777778,\"#fb9f3a\"],[0.8888888888888888,\"#fdca26\"],[1.0,\"#f0f921\"]]}],\"heatmap\":[{\"type\":\"heatmap\",\"colorbar\":{\"outlinewidth\":0,\"ticks\":\"\"},\"colorscale\":[[0.0,\"#0d0887\"],[0.1111111111111111,\"#46039f\"],[0.2222222222222222,\"#7201a8\"],[0.3333333333333333,\"#9c179e\"],[0.4444444444444444,\"#bd3786\"],[0.5555555555555556,\"#d8576b\"],[0.6666666666666666,\"#ed7953\"],[0.7777777777777778,\"#fb9f3a\"],[0.8888888888888888,\"#fdca26\"],[1.0,\"#f0f921\"]]}],\"heatmapgl\":[{\"type\":\"heatmapgl\",\"colorbar\":{\"outlinewidth\":0,\"ticks\":\"\"},\"colorscale\":[[0.0,\"#0d0887\"],[0.1111111111111111,\"#46039f\"],[0.2222222222222222,\"#7201a8\"],[0.3333333333333333,\"#9c179e\"],[0.4444444444444444,\"#bd3786\"],[0.5555555555555556,\"#d8576b\"],[0.6666666666666666,\"#ed7953\"],[0.7777777777777778,\"#fb9f3a\"],[0.8888888888888888,\"#fdca26\"],[1.0,\"#f0f921\"]]}],\"contourcarpet\":[{\"type\":\"contourcarpet\",\"colorbar\":{\"outlinewidth\":0,\"ticks\":\"\"}}],\"contour\":[{\"type\":\"contour\",\"colorbar\":{\"outlinewidth\":0,\"ticks\":\"\"},\"colorscale\":[[0.0,\"#0d0887\"],[0.1111111111111111,\"#46039f\"],[0.2222222222222222,\"#7201a8\"],[0.3333333333333333,\"#9c179e\"],[0.4444444444444444,\"#bd3786\"],[0.5555555555555556,\"#d8576b\"],[0.6666666666666666,\"#ed7953\"],[0.7777777777777778,\"#fb9f3a\"],[0.8888888888888888,\"#fdca26\"],[1.0,\"#f0f921\"]]}],\"surface\":[{\"type\":\"surface\",\"colorbar\":{\"outlinewidth\":0,\"ticks\":\"\"},\"colorscale\":[[0.0,\"#0d0887\"],[0.1111111111111111,\"#46039f\"],[0.2222222222222222,\"#7201a8\"],[0.3333333333333333,\"#9c179e\"],[0.4444444444444444,\"#bd3786\"],[0.5555555555555556,\"#d8576b\"],[0.6666666666666666,\"#ed7953\"],[0.7777777777777778,\"#fb9f3a\"],[0.8888888888888888,\"#fdca26\"],[1.0,\"#f0f921\"]]}],\"mesh3d\":[{\"type\":\"mesh3d\",\"colorbar\":{\"outlinewidth\":0,\"ticks\":\"\"}}],\"scatter\":[{\"fillpattern\":{\"fillmode\":\"overlay\",\"size\":10,\"solidity\":0.2},\"type\":\"scatter\"}],\"parcoords\":[{\"type\":\"parcoords\",\"line\":{\"colorbar\":{\"outlinewidth\":0,\"ticks\":\"\"}}}],\"scatterpolargl\":[{\"type\":\"scatterpolargl\",\"marker\":{\"colorbar\":{\"outlinewidth\":0,\"ticks\":\"\"}}}],\"bar\":[{\"error_x\":{\"color\":\"#2a3f5f\"},\"error_y\":{\"color\":\"#2a3f5f\"},\"marker\":{\"line\":{\"color\":\"#E5ECF6\",\"width\":0.5},\"pattern\":{\"fillmode\":\"overlay\",\"size\":10,\"solidity\":0.2}},\"type\":\"bar\"}],\"scattergeo\":[{\"type\":\"scattergeo\",\"marker\":{\"colorbar\":{\"outlinewidth\":0,\"ticks\":\"\"}}}],\"scatterpolar\":[{\"type\":\"scatterpolar\",\"marker\":{\"colorbar\":{\"outlinewidth\":0,\"ticks\":\"\"}}}],\"histogram\":[{\"marker\":{\"pattern\":{\"fillmode\":\"overlay\",\"size\":10,\"solidity\":0.2}},\"type\":\"histogram\"}],\"scattergl\":[{\"type\":\"scattergl\",\"marker\":{\"colorbar\":{\"outlinewidth\":0,\"ticks\":\"\"}}}],\"scatter3d\":[{\"type\":\"scatter3d\",\"line\":{\"colorbar\":{\"outlinewidth\":0,\"ticks\":\"\"}},\"marker\":{\"colorbar\":{\"outlinewidth\":0,\"ticks\":\"\"}}}],\"scattermapbox\":[{\"type\":\"scattermapbox\",\"marker\":{\"colorbar\":{\"outlinewidth\":0,\"ticks\":\"\"}}}],\"scatterternary\":[{\"type\":\"scatterternary\",\"marker\":{\"colorbar\":{\"outlinewidth\":0,\"ticks\":\"\"}}}],\"scattercarpet\":[{\"type\":\"scattercarpet\",\"marker\":{\"colorbar\":{\"outlinewidth\":0,\"ticks\":\"\"}}}],\"carpet\":[{\"aaxis\":{\"endlinecolor\":\"#2a3f5f\",\"gridcolor\":\"white\",\"linecolor\":\"white\",\"minorgridcolor\":\"white\",\"startlinecolor\":\"#2a3f5f\"},\"baxis\":{\"endlinecolor\":\"#2a3f5f\",\"gridcolor\":\"white\",\"linecolor\":\"white\",\"minorgridcolor\":\"white\",\"startlinecolor\":\"#2a3f5f\"},\"type\":\"carpet\"}],\"table\":[{\"cells\":{\"fill\":{\"color\":\"#EBF0F8\"},\"line\":{\"color\":\"white\"}},\"header\":{\"fill\":{\"color\":\"#C8D4E3\"},\"line\":{\"color\":\"white\"}},\"type\":\"table\"}],\"barpolar\":[{\"marker\":{\"line\":{\"color\":\"#E5ECF6\",\"width\":0.5},\"pattern\":{\"fillmode\":\"overlay\",\"size\":10,\"solidity\":0.2}},\"type\":\"barpolar\"}],\"pie\":[{\"automargin\":true,\"type\":\"pie\"}]},\"layout\":{\"autotypenumbers\":\"strict\",\"colorway\":[\"#636efa\",\"#EF553B\",\"#00cc96\",\"#ab63fa\",\"#FFA15A\",\"#19d3f3\",\"#FF6692\",\"#B6E880\",\"#FF97FF\",\"#FECB52\"],\"font\":{\"color\":\"#2a3f5f\"},\"hovermode\":\"closest\",\"hoverlabel\":{\"align\":\"left\"},\"paper_bgcolor\":\"white\",\"plot_bgcolor\":\"#E5ECF6\",\"polar\":{\"bgcolor\":\"#E5ECF6\",\"angularaxis\":{\"gridcolor\":\"white\",\"linecolor\":\"white\",\"ticks\":\"\"},\"radialaxis\":{\"gridcolor\":\"white\",\"linecolor\":\"white\",\"ticks\":\"\"}},\"ternary\":{\"bgcolor\":\"#E5ECF6\",\"aaxis\":{\"gridcolor\":\"white\",\"linecolor\":\"white\",\"ticks\":\"\"},\"baxis\":{\"gridcolor\":\"white\",\"linecolor\":\"white\",\"ticks\":\"\"},\"caxis\":{\"gridcolor\":\"white\",\"linecolor\":\"white\",\"ticks\":\"\"}},\"coloraxis\":{\"colorbar\":{\"outlinewidth\":0,\"ticks\":\"\"}},\"colorscale\":{\"sequential\":[[0.0,\"#0d0887\"],[0.1111111111111111,\"#46039f\"],[0.2222222222222222,\"#7201a8\"],[0.3333333333333333,\"#9c179e\"],[0.4444444444444444,\"#bd3786\"],[0.5555555555555556,\"#d8576b\"],[0.6666666666666666,\"#ed7953\"],[0.7777777777777778,\"#fb9f3a\"],[0.8888888888888888,\"#fdca26\"],[1.0,\"#f0f921\"]],\"sequentialminus\":[[0.0,\"#0d0887\"],[0.1111111111111111,\"#46039f\"],[0.2222222222222222,\"#7201a8\"],[0.3333333333333333,\"#9c179e\"],[0.4444444444444444,\"#bd3786\"],[0.5555555555555556,\"#d8576b\"],[0.6666666666666666,\"#ed7953\"],[0.7777777777777778,\"#fb9f3a\"],[0.8888888888888888,\"#fdca26\"],[1.0,\"#f0f921\"]],\"diverging\":[[0,\"#8e0152\"],[0.1,\"#c51b7d\"],[0.2,\"#de77ae\"],[0.3,\"#f1b6da\"],[0.4,\"#fde0ef\"],[0.5,\"#f7f7f7\"],[0.6,\"#e6f5d0\"],[0.7,\"#b8e186\"],[0.8,\"#7fbc41\"],[0.9,\"#4d9221\"],[1,\"#276419\"]]},\"xaxis\":{\"gridcolor\":\"white\",\"linecolor\":\"white\",\"ticks\":\"\",\"title\":{\"standoff\":15},\"zerolinecolor\":\"white\",\"automargin\":true,\"zerolinewidth\":2},\"yaxis\":{\"gridcolor\":\"white\",\"linecolor\":\"white\",\"ticks\":\"\",\"title\":{\"standoff\":15},\"zerolinecolor\":\"white\",\"automargin\":true,\"zerolinewidth\":2},\"scene\":{\"xaxis\":{\"backgroundcolor\":\"#E5ECF6\",\"gridcolor\":\"white\",\"linecolor\":\"white\",\"showbackground\":true,\"ticks\":\"\",\"zerolinecolor\":\"white\",\"gridwidth\":2},\"yaxis\":{\"backgroundcolor\":\"#E5ECF6\",\"gridcolor\":\"white\",\"linecolor\":\"white\",\"showbackground\":true,\"ticks\":\"\",\"zerolinecolor\":\"white\",\"gridwidth\":2},\"zaxis\":{\"backgroundcolor\":\"#E5ECF6\",\"gridcolor\":\"white\",\"linecolor\":\"white\",\"showbackground\":true,\"ticks\":\"\",\"zerolinecolor\":\"white\",\"gridwidth\":2}},\"shapedefaults\":{\"line\":{\"color\":\"#2a3f5f\"}},\"annotationdefaults\":{\"arrowcolor\":\"#2a3f5f\",\"arrowhead\":0,\"arrowwidth\":1},\"geo\":{\"bgcolor\":\"white\",\"landcolor\":\"#E5ECF6\",\"subunitcolor\":\"white\",\"showland\":true,\"showlakes\":true,\"lakecolor\":\"white\"},\"title\":{\"x\":0.05},\"mapbox\":{\"style\":\"light\"}}},\"xaxis\":{\"anchor\":\"y\",\"domain\":[0.0,1.0],\"title\":{\"text\":\"index\"}},\"yaxis\":{\"anchor\":\"x\",\"domain\":[0.0,1.0],\"title\":{\"text\":\"Count\"}},\"legend\":{\"tracegroupgap\":0},\"title\":{\"text\":\"Correct vs Incorrect Archetype Matches\"},\"barmode\":\"relative\"},                        {\"responsive\": true}                    ).then(function(){\n                            \nvar gd = document.getElementById('a6538a41-ff98-4c3c-b3f2-5864fb538003');\nvar x = new MutationObserver(function (mutations, observer) {{\n        var display = window.getComputedStyle(gd).display;\n        if (!display || display === 'none') {{\n            console.log([gd, 'removed!']);\n            Plotly.purge(gd);\n            observer.disconnect();\n        }}\n}});\n\n// Listen for the removal of the full notebook cells\nvar notebookContainer = gd.closest('#notebook-container');\nif (notebookContainer) {{\n    x.observe(notebookContainer, {childList: true});\n}}\n\n// Listen for the clearing of the current output cell\nvar outputEl = gd.closest('.output');\nif (outputEl) {{\n    x.observe(outputEl, {childList: true});\n}}\n\n                        })                };                });            </script>        </div>"
          },
          "metadata": {}
        }
      ],
      "execution_count": 129,
      "metadata": {
        "jupyter": {
          "source_hidden": false,
          "outputs_hidden": false
        },
        "nteract": {
          "transient": {
            "deleting": false
          }
        },
        "gather": {
          "logged": 1702679701583
        }
      }
    },
    {
      "cell_type": "markdown",
      "source": [
        "## Group Analysis\n",
        "Group-Wise Analysis: If the group column categorizes questions in a meaningful way, examining distributions or counts split by group can be insightful."
      ],
      "metadata": {
        "nteract": {
          "transient": {
            "deleting": false
          }
        }
      }
    },
    {
      "cell_type": "code",
      "source": [
        "fig = px.histogram(\n",
        "    final_evaluation_df, \n",
        "    x=\"group\", \n",
        "    color=\"archq_closest\", \n",
        "    barmode='group',\n",
        "    title=\"Group-wise Correct vs Incorrect Matches\"\n",
        ")\n",
        "fig.show()\n"
      ],
      "outputs": [
        {
          "output_type": "display_data",
          "data": {
            "application/vnd.plotly.v1+json": {
              "data": [
                {
                  "alignmentgroup": "True",
                  "bingroup": "x",
                  "hovertemplate": "archq_closest=1<br>group=%{x}<br>count=%{y}<extra></extra>",
                  "legendgroup": "1",
                  "marker": {
                    "color": "#636efa",
                    "pattern": {
                      "shape": ""
                    }
                  },
                  "name": "1",
                  "offsetgroup": "1",
                  "orientation": "v",
                  "showlegend": true,
                  "x": [
                    "location",
                    "low_literacy",
                    "low_literacy",
                    "low_literacy",
                    "person",
                    "person",
                    "person",
                    "person",
                    "person",
                    "person",
                    "person",
                    "person",
                    "person",
                    "person",
                    "person",
                    "person",
                    "person",
                    "person",
                    "person",
                    "person",
                    "person",
                    "person",
                    "person",
                    "person",
                    "person",
                    "person",
                    "person",
                    "person",
                    "person",
                    "context",
                    "context",
                    "context",
                    "context",
                    "context",
                    "context",
                    "context",
                    "context",
                    "context",
                    "context",
                    "context",
                    "context",
                    "context",
                    "context",
                    "context",
                    "context",
                    "context",
                    "context",
                    "context",
                    "context",
                    "context",
                    "context",
                    "context",
                    "context",
                    "context",
                    "time",
                    "time",
                    "time",
                    "time",
                    "time",
                    "time",
                    "time",
                    "time",
                    "time",
                    "time",
                    "time",
                    "time",
                    "time",
                    "time",
                    "time",
                    "time",
                    "time",
                    "time",
                    "time",
                    "time",
                    "time",
                    "time",
                    "time",
                    "time",
                    "location",
                    "location",
                    "location",
                    "location",
                    "location",
                    "location",
                    "location",
                    "location",
                    "location",
                    "location",
                    "location",
                    "location",
                    "location",
                    "location",
                    "location",
                    "location",
                    "location",
                    "location",
                    "location",
                    "location",
                    "location",
                    "location",
                    "location",
                    "location",
                    "very_low_literacy",
                    "very_low_literacy",
                    "very_low_literacy",
                    "very_low_literacy",
                    "very_low_literacy",
                    "very_low_literacy",
                    "very_low_literacy",
                    "low_literacy",
                    "low_literacy",
                    "low_literacy",
                    "low_literacy",
                    "person",
                    "person",
                    "person",
                    "person",
                    "context",
                    "context",
                    "context",
                    "context",
                    "time",
                    "time",
                    "time",
                    "time",
                    "time",
                    "time",
                    "time",
                    "location",
                    "location",
                    "location",
                    "location",
                    "location",
                    "very_low_literacy",
                    "very_low_literacy",
                    "very_low_literacy",
                    "very_low_literacy",
                    "very_low_literacy",
                    "very_low_literacy",
                    "very_low_literacy",
                    "very_low_literacy",
                    "very_low_literacy",
                    "very_low_literacy",
                    "very_low_literacy",
                    "very_low_literacy",
                    "very_low_literacy",
                    "very_low_literacy",
                    "very_low_literacy",
                    "very_low_literacy",
                    "very_low_literacy",
                    "very_low_literacy",
                    "very_low_literacy",
                    "very_low_literacy",
                    "very_low_literacy",
                    "very_low_literacy",
                    "low_literacy",
                    "low_literacy",
                    "low_literacy",
                    "low_literacy",
                    "low_literacy",
                    "low_literacy",
                    "low_literacy",
                    "low_literacy",
                    "low_literacy",
                    "low_literacy",
                    "low_literacy",
                    "low_literacy",
                    "low_literacy",
                    "low_literacy",
                    "low_literacy",
                    "low_literacy",
                    "low_literacy",
                    "low_literacy",
                    "low_literacy",
                    "low_literacy",
                    "low_literacy",
                    "low_literacy",
                    "low_literacy",
                    "low_literacy",
                    "low_literacy",
                    "person",
                    "person",
                    "person",
                    "person",
                    "person",
                    "person",
                    "person",
                    "person",
                    "person",
                    "person",
                    "person",
                    "person",
                    "person",
                    "person",
                    "person",
                    "person",
                    "person",
                    "person",
                    "person",
                    "person",
                    "person",
                    "person",
                    "person",
                    "person",
                    "person",
                    "context",
                    "context",
                    "context",
                    "context",
                    "context",
                    "context",
                    "context",
                    "context",
                    "context",
                    "context",
                    "context",
                    "context",
                    "context",
                    "context",
                    "context",
                    "context",
                    "context",
                    "context",
                    "context",
                    "context",
                    "context",
                    "context",
                    "context",
                    "context",
                    "time",
                    "time",
                    "time",
                    "time",
                    "time",
                    "time",
                    "time",
                    "time",
                    "time",
                    "time",
                    "time",
                    "time",
                    "time",
                    "time",
                    "time",
                    "time",
                    "time",
                    "time",
                    "time",
                    "time",
                    "time",
                    "time",
                    "time",
                    "time",
                    "location",
                    "location",
                    "location",
                    "location",
                    "location",
                    "location",
                    "location",
                    "location",
                    "location",
                    "location",
                    "location",
                    "location",
                    "location",
                    "location",
                    "location",
                    "location",
                    "location",
                    "context",
                    "very_low_literacy",
                    "very_low_literacy",
                    "very_low_literacy",
                    "very_low_literacy",
                    "very_low_literacy",
                    "very_low_literacy",
                    "very_low_literacy",
                    "very_low_literacy",
                    "low_literacy",
                    "low_literacy",
                    "low_literacy",
                    "low_literacy",
                    "low_literacy",
                    "low_literacy",
                    "low_literacy",
                    "low_literacy",
                    "low_literacy",
                    "low_literacy",
                    "low_literacy",
                    "low_literacy",
                    "person",
                    "person",
                    "person",
                    "person",
                    "person",
                    "person",
                    "person",
                    "person",
                    "person",
                    "person",
                    "person",
                    "person",
                    "person",
                    "context",
                    "context",
                    "context",
                    "context",
                    "context",
                    "context",
                    "context",
                    "context",
                    "context",
                    "context",
                    "context",
                    "context",
                    "context",
                    "context",
                    "context",
                    "context",
                    "context",
                    "context",
                    "context",
                    "context",
                    "context",
                    "context",
                    "context",
                    "context",
                    "context",
                    "time",
                    "time",
                    "time",
                    "time",
                    "time",
                    "time",
                    "time",
                    "time",
                    "time",
                    "time",
                    "time",
                    "time",
                    "time",
                    "time",
                    "time",
                    "time",
                    "time",
                    "time",
                    "time",
                    "location",
                    "location",
                    "location",
                    "location",
                    "location",
                    "location",
                    "location",
                    "location",
                    "location",
                    "location",
                    "location",
                    "location",
                    "location",
                    "location",
                    "location",
                    "location",
                    "location",
                    "location",
                    "location",
                    "location",
                    "location",
                    "location",
                    "location"
                  ],
                  "xaxis": "x",
                  "yaxis": "y",
                  "type": "histogram"
                },
                {
                  "alignmentgroup": "True",
                  "bingroup": "x",
                  "hovertemplate": "archq_closest=0<br>group=%{x}<br>count=%{y}<extra></extra>",
                  "legendgroup": "0",
                  "marker": {
                    "color": "#EF553B",
                    "pattern": {
                      "shape": ""
                    }
                  },
                  "name": "0",
                  "offsetgroup": "0",
                  "orientation": "v",
                  "showlegend": true,
                  "x": [
                    "low_literacy",
                    "low_literacy",
                    "low_literacy",
                    "low_literacy",
                    "low_literacy",
                    "low_literacy",
                    "low_literacy",
                    "low_literacy",
                    "low_literacy",
                    "low_literacy",
                    "low_literacy",
                    "low_literacy",
                    "low_literacy",
                    "low_literacy",
                    "low_literacy",
                    "low_literacy",
                    "low_literacy",
                    "low_literacy",
                    "low_literacy",
                    "low_literacy",
                    "low_literacy",
                    "low_literacy",
                    "low_literacy",
                    "low_literacy",
                    "low_literacy",
                    "low_literacy",
                    "low_literacy",
                    "low_literacy",
                    "low_literacy",
                    "low_literacy",
                    "low_literacy",
                    "low_literacy",
                    "low_literacy",
                    "low_literacy",
                    "low_literacy",
                    "low_literacy",
                    "low_literacy",
                    "low_literacy",
                    "low_literacy",
                    "low_literacy",
                    "low_literacy",
                    "low_literacy",
                    "low_literacy",
                    "low_literacy",
                    "low_literacy",
                    "low_literacy",
                    "low_literacy",
                    "time",
                    "location",
                    "very_low_literacy",
                    "very_low_literacy",
                    "very_low_literacy",
                    "very_low_literacy",
                    "very_low_literacy",
                    "very_low_literacy",
                    "very_low_literacy",
                    "very_low_literacy",
                    "very_low_literacy",
                    "very_low_literacy",
                    "very_low_literacy",
                    "very_low_literacy",
                    "very_low_literacy",
                    "very_low_literacy",
                    "very_low_literacy",
                    "very_low_literacy",
                    "very_low_literacy",
                    "very_low_literacy",
                    "low_literacy",
                    "low_literacy",
                    "low_literacy",
                    "low_literacy",
                    "low_literacy",
                    "low_literacy",
                    "low_literacy",
                    "low_literacy",
                    "low_literacy",
                    "low_literacy",
                    "low_literacy",
                    "low_literacy",
                    "low_literacy",
                    "low_literacy",
                    "low_literacy",
                    "low_literacy",
                    "low_literacy",
                    "low_literacy",
                    "low_literacy",
                    "low_literacy",
                    "low_literacy",
                    "person",
                    "person",
                    "person",
                    "person",
                    "person",
                    "person",
                    "person",
                    "person",
                    "person",
                    "person",
                    "person",
                    "person",
                    "person",
                    "person",
                    "person",
                    "person",
                    "person",
                    "person",
                    "person",
                    "person",
                    "person",
                    "context",
                    "context",
                    "context",
                    "context",
                    "context",
                    "context",
                    "context",
                    "context",
                    "context",
                    "context",
                    "context",
                    "context",
                    "context",
                    "context",
                    "context",
                    "context",
                    "context",
                    "context",
                    "context",
                    "context",
                    "context",
                    "time",
                    "time",
                    "time",
                    "time",
                    "time",
                    "time",
                    "time",
                    "time",
                    "time",
                    "time",
                    "time",
                    "time",
                    "time",
                    "time",
                    "time",
                    "time",
                    "time",
                    "time",
                    "location",
                    "location",
                    "location",
                    "location",
                    "location",
                    "location",
                    "location",
                    "location",
                    "location",
                    "location",
                    "location",
                    "location",
                    "location",
                    "location",
                    "location",
                    "location",
                    "location",
                    "location",
                    "location",
                    "location",
                    "very_low_literacy",
                    "very_low_literacy",
                    "context",
                    "time",
                    "location",
                    "location",
                    "location",
                    "location",
                    "location",
                    "location",
                    "location",
                    "very_low_literacy",
                    "very_low_literacy",
                    "very_low_literacy",
                    "very_low_literacy",
                    "very_low_literacy",
                    "very_low_literacy",
                    "very_low_literacy",
                    "very_low_literacy",
                    "very_low_literacy",
                    "very_low_literacy",
                    "very_low_literacy",
                    "very_low_literacy",
                    "very_low_literacy",
                    "very_low_literacy",
                    "very_low_literacy",
                    "very_low_literacy",
                    "very_low_literacy",
                    "low_literacy",
                    "low_literacy",
                    "low_literacy",
                    "low_literacy",
                    "low_literacy",
                    "low_literacy",
                    "low_literacy",
                    "low_literacy",
                    "low_literacy",
                    "low_literacy",
                    "low_literacy",
                    "low_literacy",
                    "low_literacy",
                    "person",
                    "person",
                    "person",
                    "person",
                    "person",
                    "person",
                    "person",
                    "person",
                    "person",
                    "person",
                    "person",
                    "person",
                    "time",
                    "time",
                    "time",
                    "time",
                    "time",
                    "time",
                    "location"
                  ],
                  "xaxis": "x",
                  "yaxis": "y",
                  "type": "histogram"
                }
              ],
              "layout": {
                "template": {
                  "data": {
                    "histogram2dcontour": [
                      {
                        "type": "histogram2dcontour",
                        "colorbar": {
                          "outlinewidth": 0,
                          "ticks": ""
                        },
                        "colorscale": [
                          [
                            0,
                            "#0d0887"
                          ],
                          [
                            0.1111111111111111,
                            "#46039f"
                          ],
                          [
                            0.2222222222222222,
                            "#7201a8"
                          ],
                          [
                            0.3333333333333333,
                            "#9c179e"
                          ],
                          [
                            0.4444444444444444,
                            "#bd3786"
                          ],
                          [
                            0.5555555555555556,
                            "#d8576b"
                          ],
                          [
                            0.6666666666666666,
                            "#ed7953"
                          ],
                          [
                            0.7777777777777778,
                            "#fb9f3a"
                          ],
                          [
                            0.8888888888888888,
                            "#fdca26"
                          ],
                          [
                            1,
                            "#f0f921"
                          ]
                        ]
                      }
                    ],
                    "choropleth": [
                      {
                        "type": "choropleth",
                        "colorbar": {
                          "outlinewidth": 0,
                          "ticks": ""
                        }
                      }
                    ],
                    "histogram2d": [
                      {
                        "type": "histogram2d",
                        "colorbar": {
                          "outlinewidth": 0,
                          "ticks": ""
                        },
                        "colorscale": [
                          [
                            0,
                            "#0d0887"
                          ],
                          [
                            0.1111111111111111,
                            "#46039f"
                          ],
                          [
                            0.2222222222222222,
                            "#7201a8"
                          ],
                          [
                            0.3333333333333333,
                            "#9c179e"
                          ],
                          [
                            0.4444444444444444,
                            "#bd3786"
                          ],
                          [
                            0.5555555555555556,
                            "#d8576b"
                          ],
                          [
                            0.6666666666666666,
                            "#ed7953"
                          ],
                          [
                            0.7777777777777778,
                            "#fb9f3a"
                          ],
                          [
                            0.8888888888888888,
                            "#fdca26"
                          ],
                          [
                            1,
                            "#f0f921"
                          ]
                        ]
                      }
                    ],
                    "heatmap": [
                      {
                        "type": "heatmap",
                        "colorbar": {
                          "outlinewidth": 0,
                          "ticks": ""
                        },
                        "colorscale": [
                          [
                            0,
                            "#0d0887"
                          ],
                          [
                            0.1111111111111111,
                            "#46039f"
                          ],
                          [
                            0.2222222222222222,
                            "#7201a8"
                          ],
                          [
                            0.3333333333333333,
                            "#9c179e"
                          ],
                          [
                            0.4444444444444444,
                            "#bd3786"
                          ],
                          [
                            0.5555555555555556,
                            "#d8576b"
                          ],
                          [
                            0.6666666666666666,
                            "#ed7953"
                          ],
                          [
                            0.7777777777777778,
                            "#fb9f3a"
                          ],
                          [
                            0.8888888888888888,
                            "#fdca26"
                          ],
                          [
                            1,
                            "#f0f921"
                          ]
                        ]
                      }
                    ],
                    "heatmapgl": [
                      {
                        "type": "heatmapgl",
                        "colorbar": {
                          "outlinewidth": 0,
                          "ticks": ""
                        },
                        "colorscale": [
                          [
                            0,
                            "#0d0887"
                          ],
                          [
                            0.1111111111111111,
                            "#46039f"
                          ],
                          [
                            0.2222222222222222,
                            "#7201a8"
                          ],
                          [
                            0.3333333333333333,
                            "#9c179e"
                          ],
                          [
                            0.4444444444444444,
                            "#bd3786"
                          ],
                          [
                            0.5555555555555556,
                            "#d8576b"
                          ],
                          [
                            0.6666666666666666,
                            "#ed7953"
                          ],
                          [
                            0.7777777777777778,
                            "#fb9f3a"
                          ],
                          [
                            0.8888888888888888,
                            "#fdca26"
                          ],
                          [
                            1,
                            "#f0f921"
                          ]
                        ]
                      }
                    ],
                    "contourcarpet": [
                      {
                        "type": "contourcarpet",
                        "colorbar": {
                          "outlinewidth": 0,
                          "ticks": ""
                        }
                      }
                    ],
                    "contour": [
                      {
                        "type": "contour",
                        "colorbar": {
                          "outlinewidth": 0,
                          "ticks": ""
                        },
                        "colorscale": [
                          [
                            0,
                            "#0d0887"
                          ],
                          [
                            0.1111111111111111,
                            "#46039f"
                          ],
                          [
                            0.2222222222222222,
                            "#7201a8"
                          ],
                          [
                            0.3333333333333333,
                            "#9c179e"
                          ],
                          [
                            0.4444444444444444,
                            "#bd3786"
                          ],
                          [
                            0.5555555555555556,
                            "#d8576b"
                          ],
                          [
                            0.6666666666666666,
                            "#ed7953"
                          ],
                          [
                            0.7777777777777778,
                            "#fb9f3a"
                          ],
                          [
                            0.8888888888888888,
                            "#fdca26"
                          ],
                          [
                            1,
                            "#f0f921"
                          ]
                        ]
                      }
                    ],
                    "surface": [
                      {
                        "type": "surface",
                        "colorbar": {
                          "outlinewidth": 0,
                          "ticks": ""
                        },
                        "colorscale": [
                          [
                            0,
                            "#0d0887"
                          ],
                          [
                            0.1111111111111111,
                            "#46039f"
                          ],
                          [
                            0.2222222222222222,
                            "#7201a8"
                          ],
                          [
                            0.3333333333333333,
                            "#9c179e"
                          ],
                          [
                            0.4444444444444444,
                            "#bd3786"
                          ],
                          [
                            0.5555555555555556,
                            "#d8576b"
                          ],
                          [
                            0.6666666666666666,
                            "#ed7953"
                          ],
                          [
                            0.7777777777777778,
                            "#fb9f3a"
                          ],
                          [
                            0.8888888888888888,
                            "#fdca26"
                          ],
                          [
                            1,
                            "#f0f921"
                          ]
                        ]
                      }
                    ],
                    "mesh3d": [
                      {
                        "type": "mesh3d",
                        "colorbar": {
                          "outlinewidth": 0,
                          "ticks": ""
                        }
                      }
                    ],
                    "scatter": [
                      {
                        "fillpattern": {
                          "fillmode": "overlay",
                          "size": 10,
                          "solidity": 0.2
                        },
                        "type": "scatter"
                      }
                    ],
                    "parcoords": [
                      {
                        "type": "parcoords",
                        "line": {
                          "colorbar": {
                            "outlinewidth": 0,
                            "ticks": ""
                          }
                        }
                      }
                    ],
                    "scatterpolargl": [
                      {
                        "type": "scatterpolargl",
                        "marker": {
                          "colorbar": {
                            "outlinewidth": 0,
                            "ticks": ""
                          }
                        }
                      }
                    ],
                    "bar": [
                      {
                        "error_x": {
                          "color": "#2a3f5f"
                        },
                        "error_y": {
                          "color": "#2a3f5f"
                        },
                        "marker": {
                          "line": {
                            "color": "#E5ECF6",
                            "width": 0.5
                          },
                          "pattern": {
                            "fillmode": "overlay",
                            "size": 10,
                            "solidity": 0.2
                          }
                        },
                        "type": "bar"
                      }
                    ],
                    "scattergeo": [
                      {
                        "type": "scattergeo",
                        "marker": {
                          "colorbar": {
                            "outlinewidth": 0,
                            "ticks": ""
                          }
                        }
                      }
                    ],
                    "scatterpolar": [
                      {
                        "type": "scatterpolar",
                        "marker": {
                          "colorbar": {
                            "outlinewidth": 0,
                            "ticks": ""
                          }
                        }
                      }
                    ],
                    "histogram": [
                      {
                        "marker": {
                          "pattern": {
                            "fillmode": "overlay",
                            "size": 10,
                            "solidity": 0.2
                          }
                        },
                        "type": "histogram"
                      }
                    ],
                    "scattergl": [
                      {
                        "type": "scattergl",
                        "marker": {
                          "colorbar": {
                            "outlinewidth": 0,
                            "ticks": ""
                          }
                        }
                      }
                    ],
                    "scatter3d": [
                      {
                        "type": "scatter3d",
                        "line": {
                          "colorbar": {
                            "outlinewidth": 0,
                            "ticks": ""
                          }
                        },
                        "marker": {
                          "colorbar": {
                            "outlinewidth": 0,
                            "ticks": ""
                          }
                        }
                      }
                    ],
                    "scattermapbox": [
                      {
                        "type": "scattermapbox",
                        "marker": {
                          "colorbar": {
                            "outlinewidth": 0,
                            "ticks": ""
                          }
                        }
                      }
                    ],
                    "scatterternary": [
                      {
                        "type": "scatterternary",
                        "marker": {
                          "colorbar": {
                            "outlinewidth": 0,
                            "ticks": ""
                          }
                        }
                      }
                    ],
                    "scattercarpet": [
                      {
                        "type": "scattercarpet",
                        "marker": {
                          "colorbar": {
                            "outlinewidth": 0,
                            "ticks": ""
                          }
                        }
                      }
                    ],
                    "carpet": [
                      {
                        "aaxis": {
                          "endlinecolor": "#2a3f5f",
                          "gridcolor": "white",
                          "linecolor": "white",
                          "minorgridcolor": "white",
                          "startlinecolor": "#2a3f5f"
                        },
                        "baxis": {
                          "endlinecolor": "#2a3f5f",
                          "gridcolor": "white",
                          "linecolor": "white",
                          "minorgridcolor": "white",
                          "startlinecolor": "#2a3f5f"
                        },
                        "type": "carpet"
                      }
                    ],
                    "table": [
                      {
                        "cells": {
                          "fill": {
                            "color": "#EBF0F8"
                          },
                          "line": {
                            "color": "white"
                          }
                        },
                        "header": {
                          "fill": {
                            "color": "#C8D4E3"
                          },
                          "line": {
                            "color": "white"
                          }
                        },
                        "type": "table"
                      }
                    ],
                    "barpolar": [
                      {
                        "marker": {
                          "line": {
                            "color": "#E5ECF6",
                            "width": 0.5
                          },
                          "pattern": {
                            "fillmode": "overlay",
                            "size": 10,
                            "solidity": 0.2
                          }
                        },
                        "type": "barpolar"
                      }
                    ],
                    "pie": [
                      {
                        "automargin": true,
                        "type": "pie"
                      }
                    ]
                  },
                  "layout": {
                    "autotypenumbers": "strict",
                    "colorway": [
                      "#636efa",
                      "#EF553B",
                      "#00cc96",
                      "#ab63fa",
                      "#FFA15A",
                      "#19d3f3",
                      "#FF6692",
                      "#B6E880",
                      "#FF97FF",
                      "#FECB52"
                    ],
                    "font": {
                      "color": "#2a3f5f"
                    },
                    "hovermode": "closest",
                    "hoverlabel": {
                      "align": "left"
                    },
                    "paper_bgcolor": "white",
                    "plot_bgcolor": "#E5ECF6",
                    "polar": {
                      "bgcolor": "#E5ECF6",
                      "angularaxis": {
                        "gridcolor": "white",
                        "linecolor": "white",
                        "ticks": ""
                      },
                      "radialaxis": {
                        "gridcolor": "white",
                        "linecolor": "white",
                        "ticks": ""
                      }
                    },
                    "ternary": {
                      "bgcolor": "#E5ECF6",
                      "aaxis": {
                        "gridcolor": "white",
                        "linecolor": "white",
                        "ticks": ""
                      },
                      "baxis": {
                        "gridcolor": "white",
                        "linecolor": "white",
                        "ticks": ""
                      },
                      "caxis": {
                        "gridcolor": "white",
                        "linecolor": "white",
                        "ticks": ""
                      }
                    },
                    "coloraxis": {
                      "colorbar": {
                        "outlinewidth": 0,
                        "ticks": ""
                      }
                    },
                    "colorscale": {
                      "sequential": [
                        [
                          0,
                          "#0d0887"
                        ],
                        [
                          0.1111111111111111,
                          "#46039f"
                        ],
                        [
                          0.2222222222222222,
                          "#7201a8"
                        ],
                        [
                          0.3333333333333333,
                          "#9c179e"
                        ],
                        [
                          0.4444444444444444,
                          "#bd3786"
                        ],
                        [
                          0.5555555555555556,
                          "#d8576b"
                        ],
                        [
                          0.6666666666666666,
                          "#ed7953"
                        ],
                        [
                          0.7777777777777778,
                          "#fb9f3a"
                        ],
                        [
                          0.8888888888888888,
                          "#fdca26"
                        ],
                        [
                          1,
                          "#f0f921"
                        ]
                      ],
                      "sequentialminus": [
                        [
                          0,
                          "#0d0887"
                        ],
                        [
                          0.1111111111111111,
                          "#46039f"
                        ],
                        [
                          0.2222222222222222,
                          "#7201a8"
                        ],
                        [
                          0.3333333333333333,
                          "#9c179e"
                        ],
                        [
                          0.4444444444444444,
                          "#bd3786"
                        ],
                        [
                          0.5555555555555556,
                          "#d8576b"
                        ],
                        [
                          0.6666666666666666,
                          "#ed7953"
                        ],
                        [
                          0.7777777777777778,
                          "#fb9f3a"
                        ],
                        [
                          0.8888888888888888,
                          "#fdca26"
                        ],
                        [
                          1,
                          "#f0f921"
                        ]
                      ],
                      "diverging": [
                        [
                          0,
                          "#8e0152"
                        ],
                        [
                          0.1,
                          "#c51b7d"
                        ],
                        [
                          0.2,
                          "#de77ae"
                        ],
                        [
                          0.3,
                          "#f1b6da"
                        ],
                        [
                          0.4,
                          "#fde0ef"
                        ],
                        [
                          0.5,
                          "#f7f7f7"
                        ],
                        [
                          0.6,
                          "#e6f5d0"
                        ],
                        [
                          0.7,
                          "#b8e186"
                        ],
                        [
                          0.8,
                          "#7fbc41"
                        ],
                        [
                          0.9,
                          "#4d9221"
                        ],
                        [
                          1,
                          "#276419"
                        ]
                      ]
                    },
                    "xaxis": {
                      "gridcolor": "white",
                      "linecolor": "white",
                      "ticks": "",
                      "title": {
                        "standoff": 15
                      },
                      "zerolinecolor": "white",
                      "automargin": true,
                      "zerolinewidth": 2
                    },
                    "yaxis": {
                      "gridcolor": "white",
                      "linecolor": "white",
                      "ticks": "",
                      "title": {
                        "standoff": 15
                      },
                      "zerolinecolor": "white",
                      "automargin": true,
                      "zerolinewidth": 2
                    },
                    "scene": {
                      "xaxis": {
                        "backgroundcolor": "#E5ECF6",
                        "gridcolor": "white",
                        "linecolor": "white",
                        "showbackground": true,
                        "ticks": "",
                        "zerolinecolor": "white",
                        "gridwidth": 2
                      },
                      "yaxis": {
                        "backgroundcolor": "#E5ECF6",
                        "gridcolor": "white",
                        "linecolor": "white",
                        "showbackground": true,
                        "ticks": "",
                        "zerolinecolor": "white",
                        "gridwidth": 2
                      },
                      "zaxis": {
                        "backgroundcolor": "#E5ECF6",
                        "gridcolor": "white",
                        "linecolor": "white",
                        "showbackground": true,
                        "ticks": "",
                        "zerolinecolor": "white",
                        "gridwidth": 2
                      }
                    },
                    "shapedefaults": {
                      "line": {
                        "color": "#2a3f5f"
                      }
                    },
                    "annotationdefaults": {
                      "arrowcolor": "#2a3f5f",
                      "arrowhead": 0,
                      "arrowwidth": 1
                    },
                    "geo": {
                      "bgcolor": "white",
                      "landcolor": "#E5ECF6",
                      "subunitcolor": "white",
                      "showland": true,
                      "showlakes": true,
                      "lakecolor": "white"
                    },
                    "title": {
                      "x": 0.05
                    },
                    "mapbox": {
                      "style": "light"
                    }
                  }
                },
                "xaxis": {
                  "anchor": "y",
                  "domain": [
                    0,
                    1
                  ],
                  "title": {
                    "text": "group"
                  }
                },
                "yaxis": {
                  "anchor": "x",
                  "domain": [
                    0,
                    1
                  ],
                  "title": {
                    "text": "count"
                  }
                },
                "legend": {
                  "title": {
                    "text": "archq_closest"
                  },
                  "tracegroupgap": 0
                },
                "title": {
                  "text": "Group-wise Correct vs Incorrect Matches"
                },
                "barmode": "group"
              },
              "config": {
                "plotlyServerURL": "https://plot.ly"
              }
            },
            "text/html": "<div>                            <div id=\"da56d4a5-7d31-4ff6-a7e1-d34bbe40ef48\" class=\"plotly-graph-div\" style=\"height:525px; width:100%;\"></div>            <script type=\"text/javascript\">                require([\"plotly\"], function(Plotly) {                    window.PLOTLYENV=window.PLOTLYENV || {};                                    if (document.getElementById(\"da56d4a5-7d31-4ff6-a7e1-d34bbe40ef48\")) {                    Plotly.newPlot(                        \"da56d4a5-7d31-4ff6-a7e1-d34bbe40ef48\",                        [{\"alignmentgroup\":\"True\",\"bingroup\":\"x\",\"hovertemplate\":\"archq_closest=1\\u003cbr\\u003egroup=%{x}\\u003cbr\\u003ecount=%{y}\\u003cextra\\u003e\\u003c\\u002fextra\\u003e\",\"legendgroup\":\"1\",\"marker\":{\"color\":\"#636efa\",\"pattern\":{\"shape\":\"\"}},\"name\":\"1\",\"offsetgroup\":\"1\",\"orientation\":\"v\",\"showlegend\":true,\"x\":[\"location\",\"low_literacy\",\"low_literacy\",\"low_literacy\",\"person\",\"person\",\"person\",\"person\",\"person\",\"person\",\"person\",\"person\",\"person\",\"person\",\"person\",\"person\",\"person\",\"person\",\"person\",\"person\",\"person\",\"person\",\"person\",\"person\",\"person\",\"person\",\"person\",\"person\",\"person\",\"context\",\"context\",\"context\",\"context\",\"context\",\"context\",\"context\",\"context\",\"context\",\"context\",\"context\",\"context\",\"context\",\"context\",\"context\",\"context\",\"context\",\"context\",\"context\",\"context\",\"context\",\"context\",\"context\",\"context\",\"context\",\"time\",\"time\",\"time\",\"time\",\"time\",\"time\",\"time\",\"time\",\"time\",\"time\",\"time\",\"time\",\"time\",\"time\",\"time\",\"time\",\"time\",\"time\",\"time\",\"time\",\"time\",\"time\",\"time\",\"time\",\"location\",\"location\",\"location\",\"location\",\"location\",\"location\",\"location\",\"location\",\"location\",\"location\",\"location\",\"location\",\"location\",\"location\",\"location\",\"location\",\"location\",\"location\",\"location\",\"location\",\"location\",\"location\",\"location\",\"location\",\"very_low_literacy\",\"very_low_literacy\",\"very_low_literacy\",\"very_low_literacy\",\"very_low_literacy\",\"very_low_literacy\",\"very_low_literacy\",\"low_literacy\",\"low_literacy\",\"low_literacy\",\"low_literacy\",\"person\",\"person\",\"person\",\"person\",\"context\",\"context\",\"context\",\"context\",\"time\",\"time\",\"time\",\"time\",\"time\",\"time\",\"time\",\"location\",\"location\",\"location\",\"location\",\"location\",\"very_low_literacy\",\"very_low_literacy\",\"very_low_literacy\",\"very_low_literacy\",\"very_low_literacy\",\"very_low_literacy\",\"very_low_literacy\",\"very_low_literacy\",\"very_low_literacy\",\"very_low_literacy\",\"very_low_literacy\",\"very_low_literacy\",\"very_low_literacy\",\"very_low_literacy\",\"very_low_literacy\",\"very_low_literacy\",\"very_low_literacy\",\"very_low_literacy\",\"very_low_literacy\",\"very_low_literacy\",\"very_low_literacy\",\"very_low_literacy\",\"low_literacy\",\"low_literacy\",\"low_literacy\",\"low_literacy\",\"low_literacy\",\"low_literacy\",\"low_literacy\",\"low_literacy\",\"low_literacy\",\"low_literacy\",\"low_literacy\",\"low_literacy\",\"low_literacy\",\"low_literacy\",\"low_literacy\",\"low_literacy\",\"low_literacy\",\"low_literacy\",\"low_literacy\",\"low_literacy\",\"low_literacy\",\"low_literacy\",\"low_literacy\",\"low_literacy\",\"low_literacy\",\"person\",\"person\",\"person\",\"person\",\"person\",\"person\",\"person\",\"person\",\"person\",\"person\",\"person\",\"person\",\"person\",\"person\",\"person\",\"person\",\"person\",\"person\",\"person\",\"person\",\"person\",\"person\",\"person\",\"person\",\"person\",\"context\",\"context\",\"context\",\"context\",\"context\",\"context\",\"context\",\"context\",\"context\",\"context\",\"context\",\"context\",\"context\",\"context\",\"context\",\"context\",\"context\",\"context\",\"context\",\"context\",\"context\",\"context\",\"context\",\"context\",\"time\",\"time\",\"time\",\"time\",\"time\",\"time\",\"time\",\"time\",\"time\",\"time\",\"time\",\"time\",\"time\",\"time\",\"time\",\"time\",\"time\",\"time\",\"time\",\"time\",\"time\",\"time\",\"time\",\"time\",\"location\",\"location\",\"location\",\"location\",\"location\",\"location\",\"location\",\"location\",\"location\",\"location\",\"location\",\"location\",\"location\",\"location\",\"location\",\"location\",\"location\",\"context\",\"very_low_literacy\",\"very_low_literacy\",\"very_low_literacy\",\"very_low_literacy\",\"very_low_literacy\",\"very_low_literacy\",\"very_low_literacy\",\"very_low_literacy\",\"low_literacy\",\"low_literacy\",\"low_literacy\",\"low_literacy\",\"low_literacy\",\"low_literacy\",\"low_literacy\",\"low_literacy\",\"low_literacy\",\"low_literacy\",\"low_literacy\",\"low_literacy\",\"person\",\"person\",\"person\",\"person\",\"person\",\"person\",\"person\",\"person\",\"person\",\"person\",\"person\",\"person\",\"person\",\"context\",\"context\",\"context\",\"context\",\"context\",\"context\",\"context\",\"context\",\"context\",\"context\",\"context\",\"context\",\"context\",\"context\",\"context\",\"context\",\"context\",\"context\",\"context\",\"context\",\"context\",\"context\",\"context\",\"context\",\"context\",\"time\",\"time\",\"time\",\"time\",\"time\",\"time\",\"time\",\"time\",\"time\",\"time\",\"time\",\"time\",\"time\",\"time\",\"time\",\"time\",\"time\",\"time\",\"time\",\"location\",\"location\",\"location\",\"location\",\"location\",\"location\",\"location\",\"location\",\"location\",\"location\",\"location\",\"location\",\"location\",\"location\",\"location\",\"location\",\"location\",\"location\",\"location\",\"location\",\"location\",\"location\",\"location\"],\"xaxis\":\"x\",\"yaxis\":\"y\",\"type\":\"histogram\"},{\"alignmentgroup\":\"True\",\"bingroup\":\"x\",\"hovertemplate\":\"archq_closest=0\\u003cbr\\u003egroup=%{x}\\u003cbr\\u003ecount=%{y}\\u003cextra\\u003e\\u003c\\u002fextra\\u003e\",\"legendgroup\":\"0\",\"marker\":{\"color\":\"#EF553B\",\"pattern\":{\"shape\":\"\"}},\"name\":\"0\",\"offsetgroup\":\"0\",\"orientation\":\"v\",\"showlegend\":true,\"x\":[\"low_literacy\",\"low_literacy\",\"low_literacy\",\"low_literacy\",\"low_literacy\",\"low_literacy\",\"low_literacy\",\"low_literacy\",\"low_literacy\",\"low_literacy\",\"low_literacy\",\"low_literacy\",\"low_literacy\",\"low_literacy\",\"low_literacy\",\"low_literacy\",\"low_literacy\",\"low_literacy\",\"low_literacy\",\"low_literacy\",\"low_literacy\",\"low_literacy\",\"low_literacy\",\"low_literacy\",\"low_literacy\",\"low_literacy\",\"low_literacy\",\"low_literacy\",\"low_literacy\",\"low_literacy\",\"low_literacy\",\"low_literacy\",\"low_literacy\",\"low_literacy\",\"low_literacy\",\"low_literacy\",\"low_literacy\",\"low_literacy\",\"low_literacy\",\"low_literacy\",\"low_literacy\",\"low_literacy\",\"low_literacy\",\"low_literacy\",\"low_literacy\",\"low_literacy\",\"low_literacy\",\"time\",\"location\",\"very_low_literacy\",\"very_low_literacy\",\"very_low_literacy\",\"very_low_literacy\",\"very_low_literacy\",\"very_low_literacy\",\"very_low_literacy\",\"very_low_literacy\",\"very_low_literacy\",\"very_low_literacy\",\"very_low_literacy\",\"very_low_literacy\",\"very_low_literacy\",\"very_low_literacy\",\"very_low_literacy\",\"very_low_literacy\",\"very_low_literacy\",\"very_low_literacy\",\"low_literacy\",\"low_literacy\",\"low_literacy\",\"low_literacy\",\"low_literacy\",\"low_literacy\",\"low_literacy\",\"low_literacy\",\"low_literacy\",\"low_literacy\",\"low_literacy\",\"low_literacy\",\"low_literacy\",\"low_literacy\",\"low_literacy\",\"low_literacy\",\"low_literacy\",\"low_literacy\",\"low_literacy\",\"low_literacy\",\"low_literacy\",\"person\",\"person\",\"person\",\"person\",\"person\",\"person\",\"person\",\"person\",\"person\",\"person\",\"person\",\"person\",\"person\",\"person\",\"person\",\"person\",\"person\",\"person\",\"person\",\"person\",\"person\",\"context\",\"context\",\"context\",\"context\",\"context\",\"context\",\"context\",\"context\",\"context\",\"context\",\"context\",\"context\",\"context\",\"context\",\"context\",\"context\",\"context\",\"context\",\"context\",\"context\",\"context\",\"time\",\"time\",\"time\",\"time\",\"time\",\"time\",\"time\",\"time\",\"time\",\"time\",\"time\",\"time\",\"time\",\"time\",\"time\",\"time\",\"time\",\"time\",\"location\",\"location\",\"location\",\"location\",\"location\",\"location\",\"location\",\"location\",\"location\",\"location\",\"location\",\"location\",\"location\",\"location\",\"location\",\"location\",\"location\",\"location\",\"location\",\"location\",\"very_low_literacy\",\"very_low_literacy\",\"context\",\"time\",\"location\",\"location\",\"location\",\"location\",\"location\",\"location\",\"location\",\"very_low_literacy\",\"very_low_literacy\",\"very_low_literacy\",\"very_low_literacy\",\"very_low_literacy\",\"very_low_literacy\",\"very_low_literacy\",\"very_low_literacy\",\"very_low_literacy\",\"very_low_literacy\",\"very_low_literacy\",\"very_low_literacy\",\"very_low_literacy\",\"very_low_literacy\",\"very_low_literacy\",\"very_low_literacy\",\"very_low_literacy\",\"low_literacy\",\"low_literacy\",\"low_literacy\",\"low_literacy\",\"low_literacy\",\"low_literacy\",\"low_literacy\",\"low_literacy\",\"low_literacy\",\"low_literacy\",\"low_literacy\",\"low_literacy\",\"low_literacy\",\"person\",\"person\",\"person\",\"person\",\"person\",\"person\",\"person\",\"person\",\"person\",\"person\",\"person\",\"person\",\"time\",\"time\",\"time\",\"time\",\"time\",\"time\",\"location\"],\"xaxis\":\"x\",\"yaxis\":\"y\",\"type\":\"histogram\"}],                        {\"template\":{\"data\":{\"histogram2dcontour\":[{\"type\":\"histogram2dcontour\",\"colorbar\":{\"outlinewidth\":0,\"ticks\":\"\"},\"colorscale\":[[0.0,\"#0d0887\"],[0.1111111111111111,\"#46039f\"],[0.2222222222222222,\"#7201a8\"],[0.3333333333333333,\"#9c179e\"],[0.4444444444444444,\"#bd3786\"],[0.5555555555555556,\"#d8576b\"],[0.6666666666666666,\"#ed7953\"],[0.7777777777777778,\"#fb9f3a\"],[0.8888888888888888,\"#fdca26\"],[1.0,\"#f0f921\"]]}],\"choropleth\":[{\"type\":\"choropleth\",\"colorbar\":{\"outlinewidth\":0,\"ticks\":\"\"}}],\"histogram2d\":[{\"type\":\"histogram2d\",\"colorbar\":{\"outlinewidth\":0,\"ticks\":\"\"},\"colorscale\":[[0.0,\"#0d0887\"],[0.1111111111111111,\"#46039f\"],[0.2222222222222222,\"#7201a8\"],[0.3333333333333333,\"#9c179e\"],[0.4444444444444444,\"#bd3786\"],[0.5555555555555556,\"#d8576b\"],[0.6666666666666666,\"#ed7953\"],[0.7777777777777778,\"#fb9f3a\"],[0.8888888888888888,\"#fdca26\"],[1.0,\"#f0f921\"]]}],\"heatmap\":[{\"type\":\"heatmap\",\"colorbar\":{\"outlinewidth\":0,\"ticks\":\"\"},\"colorscale\":[[0.0,\"#0d0887\"],[0.1111111111111111,\"#46039f\"],[0.2222222222222222,\"#7201a8\"],[0.3333333333333333,\"#9c179e\"],[0.4444444444444444,\"#bd3786\"],[0.5555555555555556,\"#d8576b\"],[0.6666666666666666,\"#ed7953\"],[0.7777777777777778,\"#fb9f3a\"],[0.8888888888888888,\"#fdca26\"],[1.0,\"#f0f921\"]]}],\"heatmapgl\":[{\"type\":\"heatmapgl\",\"colorbar\":{\"outlinewidth\":0,\"ticks\":\"\"},\"colorscale\":[[0.0,\"#0d0887\"],[0.1111111111111111,\"#46039f\"],[0.2222222222222222,\"#7201a8\"],[0.3333333333333333,\"#9c179e\"],[0.4444444444444444,\"#bd3786\"],[0.5555555555555556,\"#d8576b\"],[0.6666666666666666,\"#ed7953\"],[0.7777777777777778,\"#fb9f3a\"],[0.8888888888888888,\"#fdca26\"],[1.0,\"#f0f921\"]]}],\"contourcarpet\":[{\"type\":\"contourcarpet\",\"colorbar\":{\"outlinewidth\":0,\"ticks\":\"\"}}],\"contour\":[{\"type\":\"contour\",\"colorbar\":{\"outlinewidth\":0,\"ticks\":\"\"},\"colorscale\":[[0.0,\"#0d0887\"],[0.1111111111111111,\"#46039f\"],[0.2222222222222222,\"#7201a8\"],[0.3333333333333333,\"#9c179e\"],[0.4444444444444444,\"#bd3786\"],[0.5555555555555556,\"#d8576b\"],[0.6666666666666666,\"#ed7953\"],[0.7777777777777778,\"#fb9f3a\"],[0.8888888888888888,\"#fdca26\"],[1.0,\"#f0f921\"]]}],\"surface\":[{\"type\":\"surface\",\"colorbar\":{\"outlinewidth\":0,\"ticks\":\"\"},\"colorscale\":[[0.0,\"#0d0887\"],[0.1111111111111111,\"#46039f\"],[0.2222222222222222,\"#7201a8\"],[0.3333333333333333,\"#9c179e\"],[0.4444444444444444,\"#bd3786\"],[0.5555555555555556,\"#d8576b\"],[0.6666666666666666,\"#ed7953\"],[0.7777777777777778,\"#fb9f3a\"],[0.8888888888888888,\"#fdca26\"],[1.0,\"#f0f921\"]]}],\"mesh3d\":[{\"type\":\"mesh3d\",\"colorbar\":{\"outlinewidth\":0,\"ticks\":\"\"}}],\"scatter\":[{\"fillpattern\":{\"fillmode\":\"overlay\",\"size\":10,\"solidity\":0.2},\"type\":\"scatter\"}],\"parcoords\":[{\"type\":\"parcoords\",\"line\":{\"colorbar\":{\"outlinewidth\":0,\"ticks\":\"\"}}}],\"scatterpolargl\":[{\"type\":\"scatterpolargl\",\"marker\":{\"colorbar\":{\"outlinewidth\":0,\"ticks\":\"\"}}}],\"bar\":[{\"error_x\":{\"color\":\"#2a3f5f\"},\"error_y\":{\"color\":\"#2a3f5f\"},\"marker\":{\"line\":{\"color\":\"#E5ECF6\",\"width\":0.5},\"pattern\":{\"fillmode\":\"overlay\",\"size\":10,\"solidity\":0.2}},\"type\":\"bar\"}],\"scattergeo\":[{\"type\":\"scattergeo\",\"marker\":{\"colorbar\":{\"outlinewidth\":0,\"ticks\":\"\"}}}],\"scatterpolar\":[{\"type\":\"scatterpolar\",\"marker\":{\"colorbar\":{\"outlinewidth\":0,\"ticks\":\"\"}}}],\"histogram\":[{\"marker\":{\"pattern\":{\"fillmode\":\"overlay\",\"size\":10,\"solidity\":0.2}},\"type\":\"histogram\"}],\"scattergl\":[{\"type\":\"scattergl\",\"marker\":{\"colorbar\":{\"outlinewidth\":0,\"ticks\":\"\"}}}],\"scatter3d\":[{\"type\":\"scatter3d\",\"line\":{\"colorbar\":{\"outlinewidth\":0,\"ticks\":\"\"}},\"marker\":{\"colorbar\":{\"outlinewidth\":0,\"ticks\":\"\"}}}],\"scattermapbox\":[{\"type\":\"scattermapbox\",\"marker\":{\"colorbar\":{\"outlinewidth\":0,\"ticks\":\"\"}}}],\"scatterternary\":[{\"type\":\"scatterternary\",\"marker\":{\"colorbar\":{\"outlinewidth\":0,\"ticks\":\"\"}}}],\"scattercarpet\":[{\"type\":\"scattercarpet\",\"marker\":{\"colorbar\":{\"outlinewidth\":0,\"ticks\":\"\"}}}],\"carpet\":[{\"aaxis\":{\"endlinecolor\":\"#2a3f5f\",\"gridcolor\":\"white\",\"linecolor\":\"white\",\"minorgridcolor\":\"white\",\"startlinecolor\":\"#2a3f5f\"},\"baxis\":{\"endlinecolor\":\"#2a3f5f\",\"gridcolor\":\"white\",\"linecolor\":\"white\",\"minorgridcolor\":\"white\",\"startlinecolor\":\"#2a3f5f\"},\"type\":\"carpet\"}],\"table\":[{\"cells\":{\"fill\":{\"color\":\"#EBF0F8\"},\"line\":{\"color\":\"white\"}},\"header\":{\"fill\":{\"color\":\"#C8D4E3\"},\"line\":{\"color\":\"white\"}},\"type\":\"table\"}],\"barpolar\":[{\"marker\":{\"line\":{\"color\":\"#E5ECF6\",\"width\":0.5},\"pattern\":{\"fillmode\":\"overlay\",\"size\":10,\"solidity\":0.2}},\"type\":\"barpolar\"}],\"pie\":[{\"automargin\":true,\"type\":\"pie\"}]},\"layout\":{\"autotypenumbers\":\"strict\",\"colorway\":[\"#636efa\",\"#EF553B\",\"#00cc96\",\"#ab63fa\",\"#FFA15A\",\"#19d3f3\",\"#FF6692\",\"#B6E880\",\"#FF97FF\",\"#FECB52\"],\"font\":{\"color\":\"#2a3f5f\"},\"hovermode\":\"closest\",\"hoverlabel\":{\"align\":\"left\"},\"paper_bgcolor\":\"white\",\"plot_bgcolor\":\"#E5ECF6\",\"polar\":{\"bgcolor\":\"#E5ECF6\",\"angularaxis\":{\"gridcolor\":\"white\",\"linecolor\":\"white\",\"ticks\":\"\"},\"radialaxis\":{\"gridcolor\":\"white\",\"linecolor\":\"white\",\"ticks\":\"\"}},\"ternary\":{\"bgcolor\":\"#E5ECF6\",\"aaxis\":{\"gridcolor\":\"white\",\"linecolor\":\"white\",\"ticks\":\"\"},\"baxis\":{\"gridcolor\":\"white\",\"linecolor\":\"white\",\"ticks\":\"\"},\"caxis\":{\"gridcolor\":\"white\",\"linecolor\":\"white\",\"ticks\":\"\"}},\"coloraxis\":{\"colorbar\":{\"outlinewidth\":0,\"ticks\":\"\"}},\"colorscale\":{\"sequential\":[[0.0,\"#0d0887\"],[0.1111111111111111,\"#46039f\"],[0.2222222222222222,\"#7201a8\"],[0.3333333333333333,\"#9c179e\"],[0.4444444444444444,\"#bd3786\"],[0.5555555555555556,\"#d8576b\"],[0.6666666666666666,\"#ed7953\"],[0.7777777777777778,\"#fb9f3a\"],[0.8888888888888888,\"#fdca26\"],[1.0,\"#f0f921\"]],\"sequentialminus\":[[0.0,\"#0d0887\"],[0.1111111111111111,\"#46039f\"],[0.2222222222222222,\"#7201a8\"],[0.3333333333333333,\"#9c179e\"],[0.4444444444444444,\"#bd3786\"],[0.5555555555555556,\"#d8576b\"],[0.6666666666666666,\"#ed7953\"],[0.7777777777777778,\"#fb9f3a\"],[0.8888888888888888,\"#fdca26\"],[1.0,\"#f0f921\"]],\"diverging\":[[0,\"#8e0152\"],[0.1,\"#c51b7d\"],[0.2,\"#de77ae\"],[0.3,\"#f1b6da\"],[0.4,\"#fde0ef\"],[0.5,\"#f7f7f7\"],[0.6,\"#e6f5d0\"],[0.7,\"#b8e186\"],[0.8,\"#7fbc41\"],[0.9,\"#4d9221\"],[1,\"#276419\"]]},\"xaxis\":{\"gridcolor\":\"white\",\"linecolor\":\"white\",\"ticks\":\"\",\"title\":{\"standoff\":15},\"zerolinecolor\":\"white\",\"automargin\":true,\"zerolinewidth\":2},\"yaxis\":{\"gridcolor\":\"white\",\"linecolor\":\"white\",\"ticks\":\"\",\"title\":{\"standoff\":15},\"zerolinecolor\":\"white\",\"automargin\":true,\"zerolinewidth\":2},\"scene\":{\"xaxis\":{\"backgroundcolor\":\"#E5ECF6\",\"gridcolor\":\"white\",\"linecolor\":\"white\",\"showbackground\":true,\"ticks\":\"\",\"zerolinecolor\":\"white\",\"gridwidth\":2},\"yaxis\":{\"backgroundcolor\":\"#E5ECF6\",\"gridcolor\":\"white\",\"linecolor\":\"white\",\"showbackground\":true,\"ticks\":\"\",\"zerolinecolor\":\"white\",\"gridwidth\":2},\"zaxis\":{\"backgroundcolor\":\"#E5ECF6\",\"gridcolor\":\"white\",\"linecolor\":\"white\",\"showbackground\":true,\"ticks\":\"\",\"zerolinecolor\":\"white\",\"gridwidth\":2}},\"shapedefaults\":{\"line\":{\"color\":\"#2a3f5f\"}},\"annotationdefaults\":{\"arrowcolor\":\"#2a3f5f\",\"arrowhead\":0,\"arrowwidth\":1},\"geo\":{\"bgcolor\":\"white\",\"landcolor\":\"#E5ECF6\",\"subunitcolor\":\"white\",\"showland\":true,\"showlakes\":true,\"lakecolor\":\"white\"},\"title\":{\"x\":0.05},\"mapbox\":{\"style\":\"light\"}}},\"xaxis\":{\"anchor\":\"y\",\"domain\":[0.0,1.0],\"title\":{\"text\":\"group\"}},\"yaxis\":{\"anchor\":\"x\",\"domain\":[0.0,1.0],\"title\":{\"text\":\"count\"}},\"legend\":{\"title\":{\"text\":\"archq_closest\"},\"tracegroupgap\":0},\"title\":{\"text\":\"Group-wise Correct vs Incorrect Matches\"},\"barmode\":\"group\"},                        {\"responsive\": true}                    ).then(function(){\n                            \nvar gd = document.getElementById('da56d4a5-7d31-4ff6-a7e1-d34bbe40ef48');\nvar x = new MutationObserver(function (mutations, observer) {{\n        var display = window.getComputedStyle(gd).display;\n        if (!display || display === 'none') {{\n            console.log([gd, 'removed!']);\n            Plotly.purge(gd);\n            observer.disconnect();\n        }}\n}});\n\n// Listen for the removal of the full notebook cells\nvar notebookContainer = gd.closest('#notebook-container');\nif (notebookContainer) {{\n    x.observe(notebookContainer, {childList: true});\n}}\n\n// Listen for the clearing of the current output cell\nvar outputEl = gd.closest('.output');\nif (outputEl) {{\n    x.observe(outputEl, {childList: true});\n}}\n\n                        })                };                });            </script>        </div>"
          },
          "metadata": {}
        }
      ],
      "execution_count": 130,
      "metadata": {
        "jupyter": {
          "source_hidden": false,
          "outputs_hidden": false
        },
        "nteract": {
          "transient": {
            "deleting": false
          }
        },
        "gather": {
          "logged": 1702679740406
        }
      }
    }
  ],
  "metadata": {
    "language_info": {
      "name": "python",
      "version": "3.8.5",
      "mimetype": "text/x-python",
      "codemirror_mode": {
        "name": "ipython",
        "version": 3
      },
      "pygments_lexer": "ipython3",
      "nbconvert_exporter": "python",
      "file_extension": ".py"
    },
    "microsoft": {
      "ms_spell_check": {
        "ms_spell_check_language": "en"
      },
      "host": {
        "AzureML": {
          "notebookHasBeenCompleted": true
        }
      }
    },
    "kernelspec": {
      "name": "python38-azureml",
      "language": "python",
      "display_name": "Python 3.8 - AzureML"
    },
    "kernel_info": {
      "name": "python38-azureml"
    },
    "nteract": {
      "version": "nteract-front-end@1.0.0"
    }
  },
  "nbformat": 4,
  "nbformat_minor": 2
}