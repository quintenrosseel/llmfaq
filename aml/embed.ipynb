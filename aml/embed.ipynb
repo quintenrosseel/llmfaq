{
  "cells": [
    {
      "cell_type": "markdown",
      "source": [
        "# Embedder\n",
        "\n",
        "Embed chunked content with a high-recall tuned language model. For now, we're using the `HuggingFaceInstructEmbeddings`.\n",
        "\n",
        "**Note**\n",
        "- Run this notebook with an appropriate compute. \n",
        "- The code below installs the necessary requirements. "
      ],
      "metadata": {
        "nteract": {
          "transient": {
            "deleting": false
          }
        }
      }
    },
    {
      "cell_type": "code",
      "source": [
        "!pip install sentence-transformers==2.2.2"
      ],
      "outputs": [
        {
          "output_type": "stream",
          "name": "stdout",
          "text": "Requirement already satisfied: sentence-transformers==2.2.2 in /anaconda/envs/azureml_py38/lib/python3.8/site-packages (2.2.2)\nRequirement already satisfied: torch>=1.6.0 in /anaconda/envs/azureml_py38/lib/python3.8/site-packages (from sentence-transformers==2.2.2) (1.12.0)\nRequirement already satisfied: tqdm in /anaconda/envs/azureml_py38/lib/python3.8/site-packages (from sentence-transformers==2.2.2) (4.65.0)\nRequirement already satisfied: torchvision in /anaconda/envs/azureml_py38/lib/python3.8/site-packages (from sentence-transformers==2.2.2) (0.9.1)\nRequirement already satisfied: huggingface-hub>=0.4.0 in /anaconda/envs/azureml_py38/lib/python3.8/site-packages (from sentence-transformers==2.2.2) (0.14.1)\nRequirement already satisfied: scipy in /anaconda/envs/azureml_py38/lib/python3.8/site-packages (from sentence-transformers==2.2.2) (1.5.3)\nRequirement already satisfied: transformers<5.0.0,>=4.6.0 in /anaconda/envs/azureml_py38/lib/python3.8/site-packages (from sentence-transformers==2.2.2) (4.16.0)\nRequirement already satisfied: scikit-learn in /anaconda/envs/azureml_py38/lib/python3.8/site-packages (from sentence-transformers==2.2.2) (0.22.1)\nRequirement already satisfied: nltk in /anaconda/envs/azureml_py38/lib/python3.8/site-packages (from sentence-transformers==2.2.2) (3.8.1)\nRequirement already satisfied: sentencepiece in /anaconda/envs/azureml_py38/lib/python3.8/site-packages (from sentence-transformers==2.2.2) (0.1.99)\nRequirement already satisfied: numpy in /anaconda/envs/azureml_py38/lib/python3.8/site-packages (from sentence-transformers==2.2.2) (1.21.6)\nRequirement already satisfied: typing-extensions in /anaconda/envs/azureml_py38/lib/python3.8/site-packages (from torch>=1.6.0->sentence-transformers==2.2.2) (4.6.0)\nRequirement already satisfied: pillow>=4.1.1 in /anaconda/envs/azureml_py38/lib/python3.8/site-packages (from torchvision->sentence-transformers==2.2.2) (9.2.0)\nRequirement already satisfied: packaging>=20.9 in /anaconda/envs/azureml_py38/lib/python3.8/site-packages (from huggingface-hub>=0.4.0->sentence-transformers==2.2.2) (23.0)\nRequirement already satisfied: requests in /anaconda/envs/azureml_py38/lib/python3.8/site-packages (from huggingface-hub>=0.4.0->sentence-transformers==2.2.2) (2.31.0)\nRequirement already satisfied: filelock in /anaconda/envs/azureml_py38/lib/python3.8/site-packages (from huggingface-hub>=0.4.0->sentence-transformers==2.2.2) (3.12.0)\nRequirement already satisfied: fsspec in /anaconda/envs/azureml_py38/lib/python3.8/site-packages (from huggingface-hub>=0.4.0->sentence-transformers==2.2.2) (2023.5.0)\nRequirement already satisfied: pyyaml>=5.1 in /anaconda/envs/azureml_py38/lib/python3.8/site-packages (from huggingface-hub>=0.4.0->sentence-transformers==2.2.2) (6.0)\nRequirement already satisfied: tokenizers!=0.11.3,>=0.10.1 in /anaconda/envs/azureml_py38/lib/python3.8/site-packages (from transformers<5.0.0,>=4.6.0->sentence-transformers==2.2.2) (0.13.3)\nRequirement already satisfied: regex!=2019.12.17 in /anaconda/envs/azureml_py38/lib/python3.8/site-packages (from transformers<5.0.0,>=4.6.0->sentence-transformers==2.2.2) (2023.5.5)\nRequirement already satisfied: sacremoses in /anaconda/envs/azureml_py38/lib/python3.8/site-packages (from transformers<5.0.0,>=4.6.0->sentence-transformers==2.2.2) (0.0.53)\nRequirement already satisfied: joblib>=0.11 in /anaconda/envs/azureml_py38/lib/python3.8/site-packages (from scikit-learn->sentence-transformers==2.2.2) (1.2.0)\nRequirement already satisfied: click in /anaconda/envs/azureml_py38/lib/python3.8/site-packages (from nltk->sentence-transformers==2.2.2) (8.1.3)\nRequirement already satisfied: urllib3<3,>=1.21.1 in /anaconda/envs/azureml_py38/lib/python3.8/site-packages (from requests->huggingface-hub>=0.4.0->sentence-transformers==2.2.2) (1.26.16)\nRequirement already satisfied: idna<4,>=2.5 in /anaconda/envs/azureml_py38/lib/python3.8/site-packages (from requests->huggingface-hub>=0.4.0->sentence-transformers==2.2.2) (3.4)\nRequirement already satisfied: certifi>=2017.4.17 in /anaconda/envs/azureml_py38/lib/python3.8/site-packages (from requests->huggingface-hub>=0.4.0->sentence-transformers==2.2.2) (2022.9.24)\nRequirement already satisfied: charset-normalizer<4,>=2 in /anaconda/envs/azureml_py38/lib/python3.8/site-packages (from requests->huggingface-hub>=0.4.0->sentence-transformers==2.2.2) (3.1.0)\nRequirement already satisfied: six in /anaconda/envs/azureml_py38/lib/python3.8/site-packages (from sacremoses->transformers<5.0.0,>=4.6.0->sentence-transformers==2.2.2) (1.16.0)\n"
        }
      ],
      "execution_count": 1,
      "metadata": {
        "jupyter": {
          "source_hidden": false,
          "outputs_hidden": false
        },
        "nteract": {
          "transient": {
            "deleting": false
          }
        }
      }
    },
    {
      "cell_type": "code",
      "source": [
        "!pip install InstructorEmbedding==1.0.1"
      ],
      "outputs": [
        {
          "output_type": "stream",
          "name": "stdout",
          "text": "Requirement already satisfied: InstructorEmbedding==1.0.1 in /anaconda/envs/azureml_py38/lib/python3.8/site-packages (1.0.1)\r\n"
        }
      ],
      "execution_count": 2,
      "metadata": {
        "jupyter": {
          "source_hidden": false,
          "outputs_hidden": false
        },
        "nteract": {
          "transient": {
            "deleting": false
          }
        }
      }
    },
    {
      "cell_type": "code",
      "source": [
        "!pip install neo4j"
      ],
      "outputs": [
        {
          "output_type": "stream",
          "name": "stdout",
          "text": "Requirement already satisfied: neo4j in /anaconda/envs/azureml_py38/lib/python3.8/site-packages (5.12.0)\r\nRequirement already satisfied: pytz in /anaconda/envs/azureml_py38/lib/python3.8/site-packages (from neo4j) (2022.5)\r\n"
        }
      ],
      "execution_count": 2,
      "metadata": {
        "jupyter": {
          "source_hidden": false,
          "outputs_hidden": false
        },
        "nteract": {
          "transient": {
            "deleting": false
          }
        }
      }
    },
    {
      "cell_type": "code",
      "source": [
        "!pip install azure-identity azure-keyvault-secrets"
      ],
      "outputs": [
        {
          "output_type": "stream",
          "name": "stdout",
          "text": "Requirement already satisfied: azure-identity in /anaconda/envs/azureml_py38/lib/python3.8/site-packages (1.13.0)\nRequirement already satisfied: azure-keyvault-secrets in /anaconda/envs/azureml_py38/lib/python3.8/site-packages (4.7.0)\nRequirement already satisfied: cryptography>=2.5 in /anaconda/envs/azureml_py38/lib/python3.8/site-packages (from azure-identity) (38.0.4)\nRequirement already satisfied: msal<2.0.0,>=1.20.0 in /anaconda/envs/azureml_py38/lib/python3.8/site-packages (from azure-identity) (1.22.0)\nRequirement already satisfied: six>=1.12.0 in /anaconda/envs/azureml_py38/lib/python3.8/site-packages (from azure-identity) (1.16.0)\nRequirement already satisfied: msal-extensions<2.0.0,>=0.3.0 in /anaconda/envs/azureml_py38/lib/python3.8/site-packages (from azure-identity) (1.0.0)\nRequirement already satisfied: azure-core<2.0.0,>=1.11.0 in /anaconda/envs/azureml_py38/lib/python3.8/site-packages (from azure-identity) (1.26.4)\nRequirement already satisfied: typing-extensions>=4.0.1 in /anaconda/envs/azureml_py38/lib/python3.8/site-packages (from azure-keyvault-secrets) (4.6.0)\nRequirement already satisfied: azure-common~=1.1 in /anaconda/envs/azureml_py38/lib/python3.8/site-packages (from azure-keyvault-secrets) (1.1.28)\nRequirement already satisfied: isodate>=0.6.1 in /anaconda/envs/azureml_py38/lib/python3.8/site-packages (from azure-keyvault-secrets) (0.6.1)\nRequirement already satisfied: cffi>=1.12 in /anaconda/envs/azureml_py38/lib/python3.8/site-packages (from cryptography>=2.5->azure-identity) (1.15.1)\nRequirement already satisfied: requests<3,>=2.0.0 in /anaconda/envs/azureml_py38/lib/python3.8/site-packages (from msal<2.0.0,>=1.20.0->azure-identity) (2.31.0)\nRequirement already satisfied: PyJWT[crypto]<3,>=1.0.0 in /anaconda/envs/azureml_py38/lib/python3.8/site-packages (from msal<2.0.0,>=1.20.0->azure-identity) (2.4.0)\nRequirement already satisfied: portalocker<3,>=1.0; python_version >= \"3.5\" and platform_system != \"Windows\" in /anaconda/envs/azureml_py38/lib/python3.8/site-packages (from msal-extensions<2.0.0,>=0.3.0->azure-identity) (2.7.0)\nRequirement already satisfied: pycparser in /anaconda/envs/azureml_py38/lib/python3.8/site-packages (from cffi>=1.12->cryptography>=2.5->azure-identity) (2.21)\nRequirement already satisfied: idna<4,>=2.5 in /anaconda/envs/azureml_py38/lib/python3.8/site-packages (from requests<3,>=2.0.0->msal<2.0.0,>=1.20.0->azure-identity) (3.4)\nRequirement already satisfied: charset-normalizer<4,>=2 in /anaconda/envs/azureml_py38/lib/python3.8/site-packages (from requests<3,>=2.0.0->msal<2.0.0,>=1.20.0->azure-identity) (3.1.0)\nRequirement already satisfied: certifi>=2017.4.17 in /anaconda/envs/azureml_py38/lib/python3.8/site-packages (from requests<3,>=2.0.0->msal<2.0.0,>=1.20.0->azure-identity) (2022.9.24)\nRequirement already satisfied: urllib3<3,>=1.21.1 in /anaconda/envs/azureml_py38/lib/python3.8/site-packages (from requests<3,>=2.0.0->msal<2.0.0,>=1.20.0->azure-identity) (1.26.16)\n"
        }
      ],
      "execution_count": 3,
      "metadata": {
        "jupyter": {
          "source_hidden": false,
          "outputs_hidden": false
        },
        "nteract": {
          "transient": {
            "deleting": false
          }
        }
      }
    },
    {
      "cell_type": "markdown",
      "source": [
        "# Get Credentials"
      ],
      "metadata": {
        "nteract": {
          "transient": {
            "deleting": false
          }
        }
      }
    },
    {
      "cell_type": "code",
      "source": [
        "from azure.identity import DefaultAzureCredential\n",
        "from azure.keyvault.secrets import SecretClient\n",
        "\n",
        "key_vault_name = \"kv-zojcqxmj\"\n",
        "kv_uri = f\"https://{key_vault_name}.vault.azure.net/\"\n",
        "\n",
        "credential = DefaultAzureCredential()\n",
        "client = SecretClient(vault_url=kv_uri, credential=credential)\n",
        "\n",
        "# Now you can use neo4j_url, neo4j_port, and neo4j_password in your application\n",
        "neo4j_url = client.get_secret(\"NEO4JURL\").value\n",
        "neo4j_user = client.get_secret(\"NEO4JUSER\").value\n",
        "neo4j_password = client.get_secret(\"NEO4JPASSWORD\").value"
      ],
      "outputs": [],
      "execution_count": 4,
      "metadata": {
        "jupyter": {
          "source_hidden": false,
          "outputs_hidden": false
        },
        "nteract": {
          "transient": {
            "deleting": false
          }
        },
        "gather": {
          "logged": 1699869828512
        }
      }
    },
    {
      "cell_type": "code",
      "source": [
        "import langchain\n",
        "langchain.verbose = True\n",
        "langchain.debug = True"
      ],
      "outputs": [],
      "execution_count": 5,
      "metadata": {
        "jupyter": {
          "source_hidden": false,
          "outputs_hidden": false
        },
        "nteract": {
          "transient": {
            "deleting": false
          }
        },
        "gather": {
          "logged": 1699869839277
        }
      }
    },
    {
      "cell_type": "code",
      "source": [
        "import pandas as pd\n",
        "\n",
        "# Read from pikle file\n",
        "chunks_raw_df = pd.read_pickle('./data/chunks_raw.pkl')\n",
        "\n",
        "chunks_raw_df.head()"
      ],
      "outputs": [
        {
          "output_type": "execute_result",
          "execution_count": 6,
          "data": {
            "text/plain": "                                             content  \\\n0  \\n## Waarom willen de kinderartsen dat je baby...   \n0  \\n## Waarom willen de kinderartsen dat je baby...   \n0  \\n## Waarom willen de kinderartsen dat je baby...   \n0  \\n## Waarom willen de kinderartsen dat je baby...   \n0  \\n## Waarom willen de kinderartsen dat je baby...   \n\n                           banner_title  \\\n0  24 uur observatie van de pasgeborene   \n0  24 uur observatie van de pasgeborene   \n0  24 uur observatie van de pasgeborene   \n0  24 uur observatie van de pasgeborene   \n0  24 uur observatie van de pasgeborene   \n\n                                    banner_divisions  \\\n0  [{'division_url': 'https://www.azstlucas.be/sp...   \n0  [{'division_url': 'https://www.azstlucas.be/sp...   \n0  [{'division_url': 'https://www.azstlucas.be/sp...   \n0  [{'division_url': 'https://www.azstlucas.be/sp...   \n0  [{'division_url': 'https://www.azstlucas.be/sp...   \n\n                                               intro  \\\n0  Elke pasgeborene wordt - bij overnachting - bi...   \n0  Elke pasgeborene wordt - bij overnachting - bi...   \n0  Elke pasgeborene wordt - bij overnachting - bi...   \n0  Elke pasgeborene wordt - bij overnachting - bi...   \n0  Elke pasgeborene wordt - bij overnachting - bi...   \n\n                                                 toc  \\\n0  [{'link_url': '#waarom-willen-we-dat-je-baby-m...   \n0  [{'link_url': '#waarom-willen-we-dat-je-baby-m...   \n0  [{'link_url': '#waarom-willen-we-dat-je-baby-m...   \n0  [{'link_url': '#waarom-willen-we-dat-je-baby-m...   \n0  [{'link_url': '#waarom-willen-we-dat-je-baby-m...   \n\n                                                 url          scrape_date  \\\n0  https://www.azstlucas.be/onderzoek-en-behandel...  12/11/2023 15:26:50   \n0  https://www.azstlucas.be/onderzoek-en-behandel...  12/11/2023 15:26:50   \n0  https://www.azstlucas.be/onderzoek-en-behandel...  12/11/2023 15:26:50   \n0  https://www.azstlucas.be/onderzoek-en-behandel...  12/11/2023 15:26:50   \n0  https://www.azstlucas.be/onderzoek-en-behandel...  12/11/2023 15:26:50   \n\n                                      chunk_s500_o60  chunk_order  \n0  ## Waarom willen de kinderartsen dat je baby m...            0  \n0  ## Mogelijke afwijkingen\\n\\n\\n### Aangeboren h...            1  \n0  ### Infecties\\n\\n\\nVerschillende infecties wor...            2  \n0  ### Aangeboren darmafwijkingen\\n\\n\\nHet is pas...            3  \n0  De kinderarts onderzoekt je baby in normale om...            4  ",
            "text/html": "<div>\n<style scoped>\n    .dataframe tbody tr th:only-of-type {\n        vertical-align: middle;\n    }\n\n    .dataframe tbody tr th {\n        vertical-align: top;\n    }\n\n    .dataframe thead th {\n        text-align: right;\n    }\n</style>\n<table border=\"1\" class=\"dataframe\">\n  <thead>\n    <tr style=\"text-align: right;\">\n      <th></th>\n      <th>content</th>\n      <th>banner_title</th>\n      <th>banner_divisions</th>\n      <th>intro</th>\n      <th>toc</th>\n      <th>url</th>\n      <th>scrape_date</th>\n      <th>chunk_s500_o60</th>\n      <th>chunk_order</th>\n    </tr>\n  </thead>\n  <tbody>\n    <tr>\n      <th>0</th>\n      <td>\\n## Waarom willen de kinderartsen dat je baby...</td>\n      <td>24 uur observatie van de pasgeborene</td>\n      <td>[{'division_url': 'https://www.azstlucas.be/sp...</td>\n      <td>Elke pasgeborene wordt - bij overnachting - bi...</td>\n      <td>[{'link_url': '#waarom-willen-we-dat-je-baby-m...</td>\n      <td>https://www.azstlucas.be/onderzoek-en-behandel...</td>\n      <td>12/11/2023 15:26:50</td>\n      <td>## Waarom willen de kinderartsen dat je baby m...</td>\n      <td>0</td>\n    </tr>\n    <tr>\n      <th>0</th>\n      <td>\\n## Waarom willen de kinderartsen dat je baby...</td>\n      <td>24 uur observatie van de pasgeborene</td>\n      <td>[{'division_url': 'https://www.azstlucas.be/sp...</td>\n      <td>Elke pasgeborene wordt - bij overnachting - bi...</td>\n      <td>[{'link_url': '#waarom-willen-we-dat-je-baby-m...</td>\n      <td>https://www.azstlucas.be/onderzoek-en-behandel...</td>\n      <td>12/11/2023 15:26:50</td>\n      <td>## Mogelijke afwijkingen\\n\\n\\n### Aangeboren h...</td>\n      <td>1</td>\n    </tr>\n    <tr>\n      <th>0</th>\n      <td>\\n## Waarom willen de kinderartsen dat je baby...</td>\n      <td>24 uur observatie van de pasgeborene</td>\n      <td>[{'division_url': 'https://www.azstlucas.be/sp...</td>\n      <td>Elke pasgeborene wordt - bij overnachting - bi...</td>\n      <td>[{'link_url': '#waarom-willen-we-dat-je-baby-m...</td>\n      <td>https://www.azstlucas.be/onderzoek-en-behandel...</td>\n      <td>12/11/2023 15:26:50</td>\n      <td>### Infecties\\n\\n\\nVerschillende infecties wor...</td>\n      <td>2</td>\n    </tr>\n    <tr>\n      <th>0</th>\n      <td>\\n## Waarom willen de kinderartsen dat je baby...</td>\n      <td>24 uur observatie van de pasgeborene</td>\n      <td>[{'division_url': 'https://www.azstlucas.be/sp...</td>\n      <td>Elke pasgeborene wordt - bij overnachting - bi...</td>\n      <td>[{'link_url': '#waarom-willen-we-dat-je-baby-m...</td>\n      <td>https://www.azstlucas.be/onderzoek-en-behandel...</td>\n      <td>12/11/2023 15:26:50</td>\n      <td>### Aangeboren darmafwijkingen\\n\\n\\nHet is pas...</td>\n      <td>3</td>\n    </tr>\n    <tr>\n      <th>0</th>\n      <td>\\n## Waarom willen de kinderartsen dat je baby...</td>\n      <td>24 uur observatie van de pasgeborene</td>\n      <td>[{'division_url': 'https://www.azstlucas.be/sp...</td>\n      <td>Elke pasgeborene wordt - bij overnachting - bi...</td>\n      <td>[{'link_url': '#waarom-willen-we-dat-je-baby-m...</td>\n      <td>https://www.azstlucas.be/onderzoek-en-behandel...</td>\n      <td>12/11/2023 15:26:50</td>\n      <td>De kinderarts onderzoekt je baby in normale om...</td>\n      <td>4</td>\n    </tr>\n  </tbody>\n</table>\n</div>"
          },
          "metadata": {}
        }
      ],
      "execution_count": 6,
      "metadata": {
        "jupyter": {
          "source_hidden": false,
          "outputs_hidden": false
        },
        "nteract": {
          "transient": {
            "deleting": false
          }
        },
        "gather": {
          "logged": 1699869860696
        }
      }
    },
    {
      "cell_type": "markdown",
      "source": [
        "## Load Embedding Model \n",
        "\n",
        "Hugginfacehub model"
      ],
      "metadata": {
        "nteract": {
          "transient": {
            "deleting": false
          }
        }
      }
    },
    {
      "cell_type": "code",
      "source": [
        "from langchain.embeddings import OpenAIEmbeddings, HuggingFaceInstructEmbeddings\n",
        "\n",
        "embeddings = HuggingFaceInstructEmbeddings(\n",
        "    model_name=\"hkunlp/instructor-xl\", \n",
        "    cache_folder='./models/model_cache_xl'\n",
        ")"
      ],
      "outputs": [
        {
          "output_type": "stream",
          "name": "stdout",
          "text": "load INSTRUCTOR_Transformer\nmax_seq_length  512\n"
        }
      ],
      "execution_count": 7,
      "metadata": {
        "jupyter": {
          "source_hidden": false,
          "outputs_hidden": false
        },
        "nteract": {
          "transient": {
            "deleting": false
          }
        },
        "gather": {
          "logged": 1699870055335
        }
      }
    },
    {
      "cell_type": "code",
      "source": [
        "import pandas as pd\n",
        "import numpy as np\n",
        "\n",
        "def embed_str(s: str) -> np.ndarray:\n",
        "    return np.float64(embeddings.embed_query(s))\n",
        "\n",
        "def embed_df(df: pd.DataFrame, field:str) -> pd.DataFrame:\n",
        "    df[f'{field}_embedding'] = (\n",
        "        df[field].apply(embed_str)\n",
        "    )\n",
        "    return df\n",
        "\n",
        "# Read from pikle file\n",
        "chunks_processed_df = (\n",
        "    chunks_raw_df.copy(deep=True)\n",
        "    # Filter (testing)\n",
        "    # .pipe(lambda df: df.head(100))\n",
        "    .pipe(embed_df, field=\"chunk_s500_o60\")\n",
        ")\n",
        "\n",
        "chunks_processed_df.to_pickle(path='./data/chunks_processed_full.pkl')\n",
        "\n",
        "chunks_processed_df.head(15)"
      ],
      "outputs": [
        {
          "output_type": "execute_result",
          "execution_count": 8,
          "data": {
            "text/plain": "                                             content  \\\n0  \\n## Waarom willen de kinderartsen dat je baby...   \n0  \\n## Waarom willen de kinderartsen dat je baby...   \n0  \\n## Waarom willen de kinderartsen dat je baby...   \n0  \\n## Waarom willen de kinderartsen dat je baby...   \n0  \\n## Waarom willen de kinderartsen dat je baby...   \n0  \\n## Waarom willen de kinderartsen dat je baby...   \n0  \\n## Waarom willen de kinderartsen dat je baby...   \n0  \\n## Waarom willen de kinderartsen dat je baby...   \n0  \\n## Waarom willen de kinderartsen dat je baby...   \n1  \\nWe weten dat reflux en opboeren voor een aan...   \n1  \\nWe weten dat reflux en opboeren voor een aan...   \n1  \\nWe weten dat reflux en opboeren voor een aan...   \n1  \\nWe weten dat reflux en opboeren voor een aan...   \n1  \\nWe weten dat reflux en opboeren voor een aan...   \n1  \\nWe weten dat reflux en opboeren voor een aan...   \n\n                           banner_title  \\\n0  24 uur observatie van de pasgeborene   \n0  24 uur observatie van de pasgeborene   \n0  24 uur observatie van de pasgeborene   \n0  24 uur observatie van de pasgeborene   \n0  24 uur observatie van de pasgeborene   \n0  24 uur observatie van de pasgeborene   \n0  24 uur observatie van de pasgeborene   \n0  24 uur observatie van de pasgeborene   \n0  24 uur observatie van de pasgeborene   \n1               24 uur ph-metrie meting   \n1               24 uur ph-metrie meting   \n1               24 uur ph-metrie meting   \n1               24 uur ph-metrie meting   \n1               24 uur ph-metrie meting   \n1               24 uur ph-metrie meting   \n\n                                    banner_divisions  \\\n0  [{'division_url': 'https://www.azstlucas.be/sp...   \n0  [{'division_url': 'https://www.azstlucas.be/sp...   \n0  [{'division_url': 'https://www.azstlucas.be/sp...   \n0  [{'division_url': 'https://www.azstlucas.be/sp...   \n0  [{'division_url': 'https://www.azstlucas.be/sp...   \n0  [{'division_url': 'https://www.azstlucas.be/sp...   \n0  [{'division_url': 'https://www.azstlucas.be/sp...   \n0  [{'division_url': 'https://www.azstlucas.be/sp...   \n0  [{'division_url': 'https://www.azstlucas.be/sp...   \n1  [{'division_url': 'https://www.azstlucas.be/sp...   \n1  [{'division_url': 'https://www.azstlucas.be/sp...   \n1  [{'division_url': 'https://www.azstlucas.be/sp...   \n1  [{'division_url': 'https://www.azstlucas.be/sp...   \n1  [{'division_url': 'https://www.azstlucas.be/sp...   \n1  [{'division_url': 'https://www.azstlucas.be/sp...   \n\n                                               intro  \\\n0  Elke pasgeborene wordt - bij overnachting - bi...   \n0  Elke pasgeborene wordt - bij overnachting - bi...   \n0  Elke pasgeborene wordt - bij overnachting - bi...   \n0  Elke pasgeborene wordt - bij overnachting - bi...   \n0  Elke pasgeborene wordt - bij overnachting - bi...   \n0  Elke pasgeborene wordt - bij overnachting - bi...   \n0  Elke pasgeborene wordt - bij overnachting - bi...   \n0  Elke pasgeborene wordt - bij overnachting - bi...   \n0  Elke pasgeborene wordt - bij overnachting - bi...   \n1  Een ph-metrie meting met impedantiemeting is e...   \n1  Een ph-metrie meting met impedantiemeting is e...   \n1  Een ph-metrie meting met impedantiemeting is e...   \n1  Een ph-metrie meting met impedantiemeting is e...   \n1  Een ph-metrie meting met impedantiemeting is e...   \n1  Een ph-metrie meting met impedantiemeting is e...   \n\n                                                 toc  \\\n0  [{'link_url': '#waarom-willen-we-dat-je-baby-m...   \n0  [{'link_url': '#waarom-willen-we-dat-je-baby-m...   \n0  [{'link_url': '#waarom-willen-we-dat-je-baby-m...   \n0  [{'link_url': '#waarom-willen-we-dat-je-baby-m...   \n0  [{'link_url': '#waarom-willen-we-dat-je-baby-m...   \n0  [{'link_url': '#waarom-willen-we-dat-je-baby-m...   \n0  [{'link_url': '#waarom-willen-we-dat-je-baby-m...   \n0  [{'link_url': '#waarom-willen-we-dat-je-baby-m...   \n0  [{'link_url': '#waarom-willen-we-dat-je-baby-m...   \n1  [{'link_url': '#hoe-gebeurt-de-meting', 'link_...   \n1  [{'link_url': '#hoe-gebeurt-de-meting', 'link_...   \n1  [{'link_url': '#hoe-gebeurt-de-meting', 'link_...   \n1  [{'link_url': '#hoe-gebeurt-de-meting', 'link_...   \n1  [{'link_url': '#hoe-gebeurt-de-meting', 'link_...   \n1  [{'link_url': '#hoe-gebeurt-de-meting', 'link_...   \n\n                                                 url          scrape_date  \\\n0  https://www.azstlucas.be/onderzoek-en-behandel...  12/11/2023 15:26:50   \n0  https://www.azstlucas.be/onderzoek-en-behandel...  12/11/2023 15:26:50   \n0  https://www.azstlucas.be/onderzoek-en-behandel...  12/11/2023 15:26:50   \n0  https://www.azstlucas.be/onderzoek-en-behandel...  12/11/2023 15:26:50   \n0  https://www.azstlucas.be/onderzoek-en-behandel...  12/11/2023 15:26:50   \n0  https://www.azstlucas.be/onderzoek-en-behandel...  12/11/2023 15:26:50   \n0  https://www.azstlucas.be/onderzoek-en-behandel...  12/11/2023 15:26:50   \n0  https://www.azstlucas.be/onderzoek-en-behandel...  12/11/2023 15:26:50   \n0  https://www.azstlucas.be/onderzoek-en-behandel...  12/11/2023 15:26:50   \n1  https://www.azstlucas.be/onderzoek-en-behandel...  12/11/2023 15:26:50   \n1  https://www.azstlucas.be/onderzoek-en-behandel...  12/11/2023 15:26:50   \n1  https://www.azstlucas.be/onderzoek-en-behandel...  12/11/2023 15:26:50   \n1  https://www.azstlucas.be/onderzoek-en-behandel...  12/11/2023 15:26:50   \n1  https://www.azstlucas.be/onderzoek-en-behandel...  12/11/2023 15:26:50   \n1  https://www.azstlucas.be/onderzoek-en-behandel...  12/11/2023 15:26:50   \n\n                                      chunk_s500_o60  chunk_order  \\\n0  ## Waarom willen de kinderartsen dat je baby m...            0   \n0  ## Mogelijke afwijkingen\\n\\n\\n### Aangeboren h...            1   \n0  ### Infecties\\n\\n\\nVerschillende infecties wor...            2   \n0  ### Aangeboren darmafwijkingen\\n\\n\\nHet is pas...            3   \n0  De kinderarts onderzoekt je baby in normale om...            4   \n0  * Observatie van het algemeen gedrag en drinkg...            5   \n0  * Meting van het bilirubinegehalte (= oorspron...            6   \n0  Minimaal 48 uur observatie op de materniteit i...            7   \n0  AZ Sint-Lucas maakt gebruik van cookies om uw ...            8   \n1  We weten dat reflux en opboeren voor een aanta...            9   \n1  ## Hoe gebeurt de meting?\\n\\nDe impedantiemeti...           10   \n1  ## Nuchter zijn\\n\\n### Onderzoek voor 12 uur\\n...           11   \n1  ## Wat moet je doen?\\n\\nOm zoveel mogelijk inf...           12   \n1  * Je mag je normale activiteiten en leefritme ...           13   \n1  * Je eetpatroon moet je niet wijzigen (geen di...           14   \n\n                            chunk_s500_o60_embedding  \n0  [0.04676021263003349, 0.009244767017662525, -0...  \n0  [0.0652947872877121, 0.012688170187175274, -0....  \n0  [0.09477945417165756, 0.012673679739236832, -0...  \n0  [0.04747367277741432, 0.023175092414021492, -0...  \n0  [0.03207284212112427, 0.011688114143908024, -0...  \n0  [0.06070693954825401, -0.013679267838597298, -...  \n0  [0.0663687065243721, -0.016540078446269035, 0....  \n0  [0.057118576020002365, 0.01109850499778986, -0...  \n0  [0.04251086339354515, 0.03886432200670242, 0.0...  \n1  [0.05554686859250069, 0.0034128923434764147, -...  \n1  [0.04415448009967804, -0.01366025023162365, -0...  \n1  [0.05566728115081787, 0.03941226750612259, -0....  \n1  [0.032097358256578445, 0.0286271870136261, 0.0...  \n1  [0.05135541409254074, 0.010625706054270267, -0...  \n1  [0.055235397070646286, 0.030610503628849983, -...  ",
            "text/html": "<div>\n<style scoped>\n    .dataframe tbody tr th:only-of-type {\n        vertical-align: middle;\n    }\n\n    .dataframe tbody tr th {\n        vertical-align: top;\n    }\n\n    .dataframe thead th {\n        text-align: right;\n    }\n</style>\n<table border=\"1\" class=\"dataframe\">\n  <thead>\n    <tr style=\"text-align: right;\">\n      <th></th>\n      <th>content</th>\n      <th>banner_title</th>\n      <th>banner_divisions</th>\n      <th>intro</th>\n      <th>toc</th>\n      <th>url</th>\n      <th>scrape_date</th>\n      <th>chunk_s500_o60</th>\n      <th>chunk_order</th>\n      <th>chunk_s500_o60_embedding</th>\n    </tr>\n  </thead>\n  <tbody>\n    <tr>\n      <th>0</th>\n      <td>\\n## Waarom willen de kinderartsen dat je baby...</td>\n      <td>24 uur observatie van de pasgeborene</td>\n      <td>[{'division_url': 'https://www.azstlucas.be/sp...</td>\n      <td>Elke pasgeborene wordt - bij overnachting - bi...</td>\n      <td>[{'link_url': '#waarom-willen-we-dat-je-baby-m...</td>\n      <td>https://www.azstlucas.be/onderzoek-en-behandel...</td>\n      <td>12/11/2023 15:26:50</td>\n      <td>## Waarom willen de kinderartsen dat je baby m...</td>\n      <td>0</td>\n      <td>[0.04676021263003349, 0.009244767017662525, -0...</td>\n    </tr>\n    <tr>\n      <th>0</th>\n      <td>\\n## Waarom willen de kinderartsen dat je baby...</td>\n      <td>24 uur observatie van de pasgeborene</td>\n      <td>[{'division_url': 'https://www.azstlucas.be/sp...</td>\n      <td>Elke pasgeborene wordt - bij overnachting - bi...</td>\n      <td>[{'link_url': '#waarom-willen-we-dat-je-baby-m...</td>\n      <td>https://www.azstlucas.be/onderzoek-en-behandel...</td>\n      <td>12/11/2023 15:26:50</td>\n      <td>## Mogelijke afwijkingen\\n\\n\\n### Aangeboren h...</td>\n      <td>1</td>\n      <td>[0.0652947872877121, 0.012688170187175274, -0....</td>\n    </tr>\n    <tr>\n      <th>0</th>\n      <td>\\n## Waarom willen de kinderartsen dat je baby...</td>\n      <td>24 uur observatie van de pasgeborene</td>\n      <td>[{'division_url': 'https://www.azstlucas.be/sp...</td>\n      <td>Elke pasgeborene wordt - bij overnachting - bi...</td>\n      <td>[{'link_url': '#waarom-willen-we-dat-je-baby-m...</td>\n      <td>https://www.azstlucas.be/onderzoek-en-behandel...</td>\n      <td>12/11/2023 15:26:50</td>\n      <td>### Infecties\\n\\n\\nVerschillende infecties wor...</td>\n      <td>2</td>\n      <td>[0.09477945417165756, 0.012673679739236832, -0...</td>\n    </tr>\n    <tr>\n      <th>0</th>\n      <td>\\n## Waarom willen de kinderartsen dat je baby...</td>\n      <td>24 uur observatie van de pasgeborene</td>\n      <td>[{'division_url': 'https://www.azstlucas.be/sp...</td>\n      <td>Elke pasgeborene wordt - bij overnachting - bi...</td>\n      <td>[{'link_url': '#waarom-willen-we-dat-je-baby-m...</td>\n      <td>https://www.azstlucas.be/onderzoek-en-behandel...</td>\n      <td>12/11/2023 15:26:50</td>\n      <td>### Aangeboren darmafwijkingen\\n\\n\\nHet is pas...</td>\n      <td>3</td>\n      <td>[0.04747367277741432, 0.023175092414021492, -0...</td>\n    </tr>\n    <tr>\n      <th>0</th>\n      <td>\\n## Waarom willen de kinderartsen dat je baby...</td>\n      <td>24 uur observatie van de pasgeborene</td>\n      <td>[{'division_url': 'https://www.azstlucas.be/sp...</td>\n      <td>Elke pasgeborene wordt - bij overnachting - bi...</td>\n      <td>[{'link_url': '#waarom-willen-we-dat-je-baby-m...</td>\n      <td>https://www.azstlucas.be/onderzoek-en-behandel...</td>\n      <td>12/11/2023 15:26:50</td>\n      <td>De kinderarts onderzoekt je baby in normale om...</td>\n      <td>4</td>\n      <td>[0.03207284212112427, 0.011688114143908024, -0...</td>\n    </tr>\n    <tr>\n      <th>0</th>\n      <td>\\n## Waarom willen de kinderartsen dat je baby...</td>\n      <td>24 uur observatie van de pasgeborene</td>\n      <td>[{'division_url': 'https://www.azstlucas.be/sp...</td>\n      <td>Elke pasgeborene wordt - bij overnachting - bi...</td>\n      <td>[{'link_url': '#waarom-willen-we-dat-je-baby-m...</td>\n      <td>https://www.azstlucas.be/onderzoek-en-behandel...</td>\n      <td>12/11/2023 15:26:50</td>\n      <td>* Observatie van het algemeen gedrag en drinkg...</td>\n      <td>5</td>\n      <td>[0.06070693954825401, -0.013679267838597298, -...</td>\n    </tr>\n    <tr>\n      <th>0</th>\n      <td>\\n## Waarom willen de kinderartsen dat je baby...</td>\n      <td>24 uur observatie van de pasgeborene</td>\n      <td>[{'division_url': 'https://www.azstlucas.be/sp...</td>\n      <td>Elke pasgeborene wordt - bij overnachting - bi...</td>\n      <td>[{'link_url': '#waarom-willen-we-dat-je-baby-m...</td>\n      <td>https://www.azstlucas.be/onderzoek-en-behandel...</td>\n      <td>12/11/2023 15:26:50</td>\n      <td>* Meting van het bilirubinegehalte (= oorspron...</td>\n      <td>6</td>\n      <td>[0.0663687065243721, -0.016540078446269035, 0....</td>\n    </tr>\n    <tr>\n      <th>0</th>\n      <td>\\n## Waarom willen de kinderartsen dat je baby...</td>\n      <td>24 uur observatie van de pasgeborene</td>\n      <td>[{'division_url': 'https://www.azstlucas.be/sp...</td>\n      <td>Elke pasgeborene wordt - bij overnachting - bi...</td>\n      <td>[{'link_url': '#waarom-willen-we-dat-je-baby-m...</td>\n      <td>https://www.azstlucas.be/onderzoek-en-behandel...</td>\n      <td>12/11/2023 15:26:50</td>\n      <td>Minimaal 48 uur observatie op de materniteit i...</td>\n      <td>7</td>\n      <td>[0.057118576020002365, 0.01109850499778986, -0...</td>\n    </tr>\n    <tr>\n      <th>0</th>\n      <td>\\n## Waarom willen de kinderartsen dat je baby...</td>\n      <td>24 uur observatie van de pasgeborene</td>\n      <td>[{'division_url': 'https://www.azstlucas.be/sp...</td>\n      <td>Elke pasgeborene wordt - bij overnachting - bi...</td>\n      <td>[{'link_url': '#waarom-willen-we-dat-je-baby-m...</td>\n      <td>https://www.azstlucas.be/onderzoek-en-behandel...</td>\n      <td>12/11/2023 15:26:50</td>\n      <td>AZ Sint-Lucas maakt gebruik van cookies om uw ...</td>\n      <td>8</td>\n      <td>[0.04251086339354515, 0.03886432200670242, 0.0...</td>\n    </tr>\n    <tr>\n      <th>1</th>\n      <td>\\nWe weten dat reflux en opboeren voor een aan...</td>\n      <td>24 uur ph-metrie meting</td>\n      <td>[{'division_url': 'https://www.azstlucas.be/sp...</td>\n      <td>Een ph-metrie meting met impedantiemeting is e...</td>\n      <td>[{'link_url': '#hoe-gebeurt-de-meting', 'link_...</td>\n      <td>https://www.azstlucas.be/onderzoek-en-behandel...</td>\n      <td>12/11/2023 15:26:50</td>\n      <td>We weten dat reflux en opboeren voor een aanta...</td>\n      <td>9</td>\n      <td>[0.05554686859250069, 0.0034128923434764147, -...</td>\n    </tr>\n    <tr>\n      <th>1</th>\n      <td>\\nWe weten dat reflux en opboeren voor een aan...</td>\n      <td>24 uur ph-metrie meting</td>\n      <td>[{'division_url': 'https://www.azstlucas.be/sp...</td>\n      <td>Een ph-metrie meting met impedantiemeting is e...</td>\n      <td>[{'link_url': '#hoe-gebeurt-de-meting', 'link_...</td>\n      <td>https://www.azstlucas.be/onderzoek-en-behandel...</td>\n      <td>12/11/2023 15:26:50</td>\n      <td>## Hoe gebeurt de meting?\\n\\nDe impedantiemeti...</td>\n      <td>10</td>\n      <td>[0.04415448009967804, -0.01366025023162365, -0...</td>\n    </tr>\n    <tr>\n      <th>1</th>\n      <td>\\nWe weten dat reflux en opboeren voor een aan...</td>\n      <td>24 uur ph-metrie meting</td>\n      <td>[{'division_url': 'https://www.azstlucas.be/sp...</td>\n      <td>Een ph-metrie meting met impedantiemeting is e...</td>\n      <td>[{'link_url': '#hoe-gebeurt-de-meting', 'link_...</td>\n      <td>https://www.azstlucas.be/onderzoek-en-behandel...</td>\n      <td>12/11/2023 15:26:50</td>\n      <td>## Nuchter zijn\\n\\n### Onderzoek voor 12 uur\\n...</td>\n      <td>11</td>\n      <td>[0.05566728115081787, 0.03941226750612259, -0....</td>\n    </tr>\n    <tr>\n      <th>1</th>\n      <td>\\nWe weten dat reflux en opboeren voor een aan...</td>\n      <td>24 uur ph-metrie meting</td>\n      <td>[{'division_url': 'https://www.azstlucas.be/sp...</td>\n      <td>Een ph-metrie meting met impedantiemeting is e...</td>\n      <td>[{'link_url': '#hoe-gebeurt-de-meting', 'link_...</td>\n      <td>https://www.azstlucas.be/onderzoek-en-behandel...</td>\n      <td>12/11/2023 15:26:50</td>\n      <td>## Wat moet je doen?\\n\\nOm zoveel mogelijk inf...</td>\n      <td>12</td>\n      <td>[0.032097358256578445, 0.0286271870136261, 0.0...</td>\n    </tr>\n    <tr>\n      <th>1</th>\n      <td>\\nWe weten dat reflux en opboeren voor een aan...</td>\n      <td>24 uur ph-metrie meting</td>\n      <td>[{'division_url': 'https://www.azstlucas.be/sp...</td>\n      <td>Een ph-metrie meting met impedantiemeting is e...</td>\n      <td>[{'link_url': '#hoe-gebeurt-de-meting', 'link_...</td>\n      <td>https://www.azstlucas.be/onderzoek-en-behandel...</td>\n      <td>12/11/2023 15:26:50</td>\n      <td>* Je mag je normale activiteiten en leefritme ...</td>\n      <td>13</td>\n      <td>[0.05135541409254074, 0.010625706054270267, -0...</td>\n    </tr>\n    <tr>\n      <th>1</th>\n      <td>\\nWe weten dat reflux en opboeren voor een aan...</td>\n      <td>24 uur ph-metrie meting</td>\n      <td>[{'division_url': 'https://www.azstlucas.be/sp...</td>\n      <td>Een ph-metrie meting met impedantiemeting is e...</td>\n      <td>[{'link_url': '#hoe-gebeurt-de-meting', 'link_...</td>\n      <td>https://www.azstlucas.be/onderzoek-en-behandel...</td>\n      <td>12/11/2023 15:26:50</td>\n      <td>* Je eetpatroon moet je niet wijzigen (geen di...</td>\n      <td>14</td>\n      <td>[0.055235397070646286, 0.030610503628849983, -...</td>\n    </tr>\n  </tbody>\n</table>\n</div>"
          },
          "metadata": {}
        }
      ],
      "execution_count": 8,
      "metadata": {
        "jupyter": {
          "source_hidden": false,
          "outputs_hidden": false
        },
        "nteract": {
          "transient": {
            "deleting": false
          }
        },
        "gather": {
          "logged": 1699894062442
        }
      }
    },
    {
      "cell_type": "code",
      "source": [
        "# Save DF to Blob Storage for later retrieval. \n",
        "chunks_processed_df.to_pickle(path='./data/chunks_processed.pkl')"
      ],
      "outputs": [],
      "execution_count": 36,
      "metadata": {
        "jupyter": {
          "source_hidden": false,
          "outputs_hidden": false
        },
        "nteract": {
          "transient": {
            "deleting": false
          }
        },
        "gather": {
          "logged": 1699867727669
        }
      }
    }
  ],
  "metadata": {
    "kernelspec": {
      "name": "python38-azureml",
      "language": "python",
      "display_name": "Python 3.8 - AzureML"
    },
    "language_info": {
      "name": "python",
      "version": "3.8.5",
      "mimetype": "text/x-python",
      "codemirror_mode": {
        "name": "ipython",
        "version": 3
      },
      "pygments_lexer": "ipython3",
      "nbconvert_exporter": "python",
      "file_extension": ".py"
    },
    "microsoft": {
      "ms_spell_check": {
        "ms_spell_check_language": "en"
      },
      "host": {
        "AzureML": {
          "notebookHasBeenCompleted": true
        }
      }
    },
    "kernel_info": {
      "name": "python38-azureml"
    },
    "nteract": {
      "version": "nteract-front-end@1.0.0"
    }
  },
  "nbformat": 4,
  "nbformat_minor": 2
}