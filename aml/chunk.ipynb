{
  "cells": [
    {
      "cell_type": "markdown",
      "source": [
        "# Chunker \n",
        "\n",
        "## Setup Environment"
      ],
      "metadata": {
        "nteract": {
          "transient": {
            "deleting": false
          }
        }
      }
    },
    {
      "cell_type": "code",
      "source": [
        "!pip install langchain"
      ],
      "outputs": [
        {
          "output_type": "stream",
          "name": "stdout",
          "text": "Requirement already satisfied: langchain in /anaconda/envs/azureml_py38/lib/python3.8/site-packages (0.0.334)\nRequirement already satisfied: dataclasses-json<0.7,>=0.5.7 in /anaconda/envs/azureml_py38/lib/python3.8/site-packages (from langchain) (0.6.2)\nRequirement already satisfied: langsmith<0.1.0,>=0.0.62 in /anaconda/envs/azureml_py38/lib/python3.8/site-packages (from langchain) (0.0.63)\nRequirement already satisfied: pydantic<3,>=1 in /anaconda/envs/azureml_py38/lib/python3.8/site-packages (from langchain) (1.10.8)\nRequirement already satisfied: tenacity<9.0.0,>=8.1.0 in /anaconda/envs/azureml_py38/lib/python3.8/site-packages (from langchain) (8.2.2)\nRequirement already satisfied: anyio<4.0 in /anaconda/envs/azureml_py38/lib/python3.8/site-packages (from langchain) (3.6.2)\nRequirement already satisfied: numpy<2,>=1 in /anaconda/envs/azureml_py38/lib/python3.8/site-packages (from langchain) (1.21.6)\nRequirement already satisfied: requests<3,>=2 in /anaconda/envs/azureml_py38/lib/python3.8/site-packages (from langchain) (2.31.0)\nRequirement already satisfied: PyYAML>=5.3 in /anaconda/envs/azureml_py38/lib/python3.8/site-packages (from langchain) (6.0)\nRequirement already satisfied: aiohttp<4.0.0,>=3.8.3 in /anaconda/envs/azureml_py38/lib/python3.8/site-packages (from langchain) (3.8.4)\nRequirement already satisfied: async-timeout<5.0.0,>=4.0.0; python_version < \"3.11\" in /anaconda/envs/azureml_py38/lib/python3.8/site-packages (from langchain) (4.0.2)\nRequirement already satisfied: SQLAlchemy<3,>=1.4 in /anaconda/envs/azureml_py38/lib/python3.8/site-packages (from langchain) (2.0.23)\nRequirement already satisfied: jsonpatch<2.0,>=1.33 in /anaconda/envs/azureml_py38/lib/python3.8/site-packages (from langchain) (1.33)\nRequirement already satisfied: marshmallow<4.0.0,>=3.18.0 in /anaconda/envs/azureml_py38/lib/python3.8/site-packages (from dataclasses-json<0.7,>=0.5.7->langchain) (3.20.1)\nRequirement already satisfied: typing-inspect<1,>=0.4.0 in /anaconda/envs/azureml_py38/lib/python3.8/site-packages (from dataclasses-json<0.7,>=0.5.7->langchain) (0.9.0)\nRequirement already satisfied: typing-extensions>=4.2.0 in /anaconda/envs/azureml_py38/lib/python3.8/site-packages (from pydantic<3,>=1->langchain) (4.6.0)\nRequirement already satisfied: idna>=2.8 in /anaconda/envs/azureml_py38/lib/python3.8/site-packages (from anyio<4.0->langchain) (3.4)\nRequirement already satisfied: sniffio>=1.1 in /anaconda/envs/azureml_py38/lib/python3.8/site-packages (from anyio<4.0->langchain) (1.3.0)\nRequirement already satisfied: charset-normalizer<4,>=2 in /anaconda/envs/azureml_py38/lib/python3.8/site-packages (from requests<3,>=2->langchain) (3.1.0)\nRequirement already satisfied: certifi>=2017.4.17 in /anaconda/envs/azureml_py38/lib/python3.8/site-packages (from requests<3,>=2->langchain) (2022.9.24)\nRequirement already satisfied: urllib3<3,>=1.21.1 in /anaconda/envs/azureml_py38/lib/python3.8/site-packages (from requests<3,>=2->langchain) (1.26.16)\nRequirement already satisfied: attrs>=17.3.0 in /anaconda/envs/azureml_py38/lib/python3.8/site-packages (from aiohttp<4.0.0,>=3.8.3->langchain) (23.1.0)\nRequirement already satisfied: aiosignal>=1.1.2 in /anaconda/envs/azureml_py38/lib/python3.8/site-packages (from aiohttp<4.0.0,>=3.8.3->langchain) (1.3.1)\nRequirement already satisfied: yarl<2.0,>=1.0 in /anaconda/envs/azureml_py38/lib/python3.8/site-packages (from aiohttp<4.0.0,>=3.8.3->langchain) (1.9.2)\nRequirement already satisfied: multidict<7.0,>=4.5 in /anaconda/envs/azureml_py38/lib/python3.8/site-packages (from aiohttp<4.0.0,>=3.8.3->langchain) (6.0.4)\nRequirement already satisfied: frozenlist>=1.1.1 in /anaconda/envs/azureml_py38/lib/python3.8/site-packages (from aiohttp<4.0.0,>=3.8.3->langchain) (1.3.3)\nRequirement already satisfied: greenlet!=0.4.17; platform_machine == \"aarch64\" or (platform_machine == \"ppc64le\" or (platform_machine == \"x86_64\" or (platform_machine == \"amd64\" or (platform_machine == \"AMD64\" or (platform_machine == \"win32\" or platform_machine == \"WIN32\"))))) in /anaconda/envs/azureml_py38/lib/python3.8/site-packages (from SQLAlchemy<3,>=1.4->langchain) (2.0.2)\nRequirement already satisfied: jsonpointer>=1.9 in /anaconda/envs/azureml_py38/lib/python3.8/site-packages (from jsonpatch<2.0,>=1.33->langchain) (2.4)\nRequirement already satisfied: packaging>=17.0 in /anaconda/envs/azureml_py38/lib/python3.8/site-packages (from marshmallow<4.0.0,>=3.18.0->dataclasses-json<0.7,>=0.5.7->langchain) (23.0)\nRequirement already satisfied: mypy-extensions>=0.3.0 in /anaconda/envs/azureml_py38/lib/python3.8/site-packages (from typing-inspect<1,>=0.4.0->dataclasses-json<0.7,>=0.5.7->langchain) (1.0.0)\n"
        }
      ],
      "execution_count": 6,
      "metadata": {
        "jupyter": {
          "source_hidden": false,
          "outputs_hidden": false
        },
        "nteract": {
          "transient": {
            "deleting": false
          }
        }
      }
    },
    {
      "cell_type": "code",
      "source": [
        "import pandas as pd"
      ],
      "outputs": [],
      "execution_count": 3,
      "metadata": {
        "jupyter": {
          "source_hidden": false,
          "outputs_hidden": false
        },
        "nteract": {
          "transient": {
            "deleting": false
          }
        },
        "gather": {
          "logged": 1699804901212
        }
      }
    },
    {
      "cell_type": "markdown",
      "source": [
        "## Get Data"
      ],
      "metadata": {
        "nteract": {
          "transient": {
            "deleting": false
          }
        }
      }
    },
    {
      "cell_type": "code",
      "source": [
        "# Read from pikle file\n",
        "webpages_df = pd.read_pickle('./data/webpages_raw.pkl')\n",
        "\n",
        "webpages_df.head(5)"
      ],
      "outputs": [
        {
          "output_type": "execute_result",
          "execution_count": 34,
          "data": {
            "text/plain": "                                             content  \\\n0  \\n## Waarom willen de kinderartsen dat je baby...   \n1  \\nWe weten dat reflux en opboeren voor een aan...   \n2  \\n## Algemene richtlijnen\\n\\n\\nIn opdracht van...   \n3  \\n## Algemene richtlijnen\\n\\n\\nIn opdracht van...   \n4  \\nBij een 24-uurs bloeddrukmeting wordt de blo...   \n\n                           banner_title  \\\n0  24 uur observatie van de pasgeborene   \n1               24 uur ph-metrie meting   \n2  24 uur stoelgang sparen: richtlijnen   \n3                   24 uur urine sparen   \n4               24-uurs bloeddrukmeting   \n\n                                    banner_divisions  \\\n0  [{'division_url': 'https://www.azstlucas.be/sp...   \n1  [{'division_url': 'https://www.azstlucas.be/sp...   \n2  [{'division_url': 'https://www.azstlucas.be/sp...   \n3  [{'division_url': 'https://www.azstlucas.be/sp...   \n4  [{'division_url': 'https://www.azstlucas.be/sp...   \n\n                                               intro  \\\n0  Elke pasgeborene wordt - bij overnachting - bi...   \n1  Een ph-metrie meting met impedantiemeting is e...   \n2                                                      \n3                                                      \n4  Als je last hebt van hoge bloeddruk of hyperte...   \n\n                                                 toc  \\\n0  [{'link_url': '#waarom-willen-we-dat-je-baby-m...   \n1  [{'link_url': '#hoe-gebeurt-de-meting', 'link_...   \n2  [{'link_url': '#algemene-richtlijnen', 'link_t...   \n3  [{'link_url': '#algemene-richtlijnen', 'link_t...   \n4                                                 []   \n\n                                                 url          scrape_date  \n0  https://www.azstlucas.be/onderzoek-en-behandel...  12/11/2023 15:26:50  \n1  https://www.azstlucas.be/onderzoek-en-behandel...  12/11/2023 15:26:50  \n2  https://www.azstlucas.be/onderzoek-en-behandel...  12/11/2023 15:26:51  \n3  https://www.azstlucas.be/onderzoek-en-behandel...  12/11/2023 15:26:52  \n4  https://www.azstlucas.be/onderzoek-en-behandel...  12/11/2023 15:26:52  ",
            "text/html": "<div>\n<style scoped>\n    .dataframe tbody tr th:only-of-type {\n        vertical-align: middle;\n    }\n\n    .dataframe tbody tr th {\n        vertical-align: top;\n    }\n\n    .dataframe thead th {\n        text-align: right;\n    }\n</style>\n<table border=\"1\" class=\"dataframe\">\n  <thead>\n    <tr style=\"text-align: right;\">\n      <th></th>\n      <th>content</th>\n      <th>banner_title</th>\n      <th>banner_divisions</th>\n      <th>intro</th>\n      <th>toc</th>\n      <th>url</th>\n      <th>scrape_date</th>\n    </tr>\n  </thead>\n  <tbody>\n    <tr>\n      <th>0</th>\n      <td>\\n## Waarom willen de kinderartsen dat je baby...</td>\n      <td>24 uur observatie van de pasgeborene</td>\n      <td>[{'division_url': 'https://www.azstlucas.be/sp...</td>\n      <td>Elke pasgeborene wordt - bij overnachting - bi...</td>\n      <td>[{'link_url': '#waarom-willen-we-dat-je-baby-m...</td>\n      <td>https://www.azstlucas.be/onderzoek-en-behandel...</td>\n      <td>12/11/2023 15:26:50</td>\n    </tr>\n    <tr>\n      <th>1</th>\n      <td>\\nWe weten dat reflux en opboeren voor een aan...</td>\n      <td>24 uur ph-metrie meting</td>\n      <td>[{'division_url': 'https://www.azstlucas.be/sp...</td>\n      <td>Een ph-metrie meting met impedantiemeting is e...</td>\n      <td>[{'link_url': '#hoe-gebeurt-de-meting', 'link_...</td>\n      <td>https://www.azstlucas.be/onderzoek-en-behandel...</td>\n      <td>12/11/2023 15:26:50</td>\n    </tr>\n    <tr>\n      <th>2</th>\n      <td>\\n## Algemene richtlijnen\\n\\n\\nIn opdracht van...</td>\n      <td>24 uur stoelgang sparen: richtlijnen</td>\n      <td>[{'division_url': 'https://www.azstlucas.be/sp...</td>\n      <td></td>\n      <td>[{'link_url': '#algemene-richtlijnen', 'link_t...</td>\n      <td>https://www.azstlucas.be/onderzoek-en-behandel...</td>\n      <td>12/11/2023 15:26:51</td>\n    </tr>\n    <tr>\n      <th>3</th>\n      <td>\\n## Algemene richtlijnen\\n\\n\\nIn opdracht van...</td>\n      <td>24 uur urine sparen</td>\n      <td>[{'division_url': 'https://www.azstlucas.be/sp...</td>\n      <td></td>\n      <td>[{'link_url': '#algemene-richtlijnen', 'link_t...</td>\n      <td>https://www.azstlucas.be/onderzoek-en-behandel...</td>\n      <td>12/11/2023 15:26:52</td>\n    </tr>\n    <tr>\n      <th>4</th>\n      <td>\\nBij een 24-uurs bloeddrukmeting wordt de blo...</td>\n      <td>24-uurs bloeddrukmeting</td>\n      <td>[{'division_url': 'https://www.azstlucas.be/sp...</td>\n      <td>Als je last hebt van hoge bloeddruk of hyperte...</td>\n      <td>[]</td>\n      <td>https://www.azstlucas.be/onderzoek-en-behandel...</td>\n      <td>12/11/2023 15:26:52</td>\n    </tr>\n  </tbody>\n</table>\n</div>"
          },
          "metadata": {}
        }
      ],
      "execution_count": 34,
      "metadata": {
        "jupyter": {
          "source_hidden": false,
          "outputs_hidden": false
        },
        "nteract": {
          "transient": {
            "deleting": false
          }
        },
        "gather": {
          "logged": 1699806935319
        }
      }
    },
    {
      "cell_type": "markdown",
      "source": [
        "## Preprocessing\n",
        "\n",
        "Get single string content (to be chunked before embedding)"
      ],
      "metadata": {
        "nteract": {
          "transient": {
            "deleting": false
          }
        }
      }
    },
    {
      "cell_type": "code",
      "source": [
        "def combine_content(df: pd.DataFrame) -> pd.DataFrame:\n",
        "    \"\"\"\n",
        "        # page_template: str = f\"\"\"\n",
        "        # PAGE_TITLE: {}\n",
        "        # PAGE_AREAS: ..., ...    \n",
        "    \"\"\"\n",
        "    page_template: str = f\"\"\"\n",
        "        PAGE_TITLE: {banner_title}\n",
        "    \"\"\"\n",
        "    pass\n",
        "\n",
        "webpages_processed_df = (\n",
        "    webpages_df\n",
        "    .pipe(combine_content)\n",
        ")"
      ],
      "outputs": [],
      "execution_count": 6,
      "metadata": {
        "jupyter": {
          "source_hidden": false,
          "outputs_hidden": false
        },
        "nteract": {
          "transient": {
            "deleting": false
          }
        },
        "gather": {
          "logged": 1699804912206
        }
      }
    },
    {
      "cell_type": "markdown",
      "source": [
        "### Chunk Content"
      ],
      "metadata": {
        "nteract": {
          "transient": {
            "deleting": false
          }
        }
      }
    },
    {
      "cell_type": "code",
      "source": [
        "from typing import List\n",
        "from langchain.text_splitter import (\n",
        "    CharacterTextSplitter, \n",
        "    RecursiveCharacterTextSplitter, \n",
        "    MarkdownHeaderTextSplitter\n",
        ")\n",
        "\n",
        "text_splitter = CharacterTextSplitter(\n",
        "    separator=\"\\n\",\n",
        "    chunk_size=1000,\n",
        "    chunk_overlap=200,\n",
        "    length_function=len\n",
        ")\n",
        "\n",
        "headers_to_split_on = [\n",
        "    (\"#\", \"Header 1\"),\n",
        "    (\"##\", \"Header 2\"),\n",
        "    (\"###\", \"Header 3\"),\n",
        "    (\"####\", \"Header 4\"),\n",
        "]\n",
        "\n",
        "# Split\n",
        "# splits = text_splitter.split_documents(md_header_splits)\n",
        "\n",
        "\n",
        "def content_chunker(s: str, size=250, overlap=30) -> List[object]: \n",
        "    # MD splits\n",
        "    markdown_splitter = MarkdownHeaderTextSplitter(\n",
        "        headers_to_split_on=headers_to_split_on\n",
        "    )\n",
        "    md_header_splits = markdown_splitter.split_text(\n",
        "        s\n",
        "    )\n",
        "    text_splitter = RecursiveCharacterTextSplitter(\n",
        "        chunk_size=size, \n",
        "        chunk_overlap=overlap\n",
        "    )\n",
        "    chunks = text_splitter.split_text(s)\n",
        "    return chunks\n",
        "    "
      ],
      "outputs": [],
      "execution_count": 32,
      "metadata": {
        "jupyter": {
          "source_hidden": false,
          "outputs_hidden": false
        },
        "nteract": {
          "transient": {
            "deleting": false
          }
        },
        "gather": {
          "logged": 1699806913801
        }
      }
    },
    {
      "cell_type": "code",
      "source": [
        "def chunk_content(df: pd.DataFrame, s:int, o:int) -> pd.DataFrame: \n",
        "    df[f'chunk_s{s}_o{o}'] = df.content.apply(\n",
        "        content_chunker,\n",
        "        size=s, \n",
        "        overlap=o\n",
        "    )\n",
        "\n",
        "    # df['chunk_s500_o60'] = df.content.apply(\n",
        "    #     content_chunker,\n",
        "    #     size=500, \n",
        "    #     overlap=60\n",
        "    # )\n",
        "    return df \n",
        "\n",
        "def add_order(df: pd.DataFrame) -> pd.DataFrame: \n",
        "    df['chunk_order'] = df.reset_index().index\n",
        "    return df \n",
        "\n",
        "chunks_df = (\n",
        "    webpages_df.copy(deep=True)\n",
        "    .pipe(chunk_content, s=500, o=60)  # Size & Overlap\n",
        "    .pipe(pd.DataFrame.explode, column='chunk_s500_o60')\n",
        "    .pipe(add_order)\n",
        ")\n",
        "\n",
        "chunks_df.head()\n"
      ],
      "outputs": [
        {
          "output_type": "execute_result",
          "execution_count": 44,
          "data": {
            "text/plain": "                                             content  \\\n0  \\n## Waarom willen de kinderartsen dat je baby...   \n0  \\n## Waarom willen de kinderartsen dat je baby...   \n0  \\n## Waarom willen de kinderartsen dat je baby...   \n0  \\n## Waarom willen de kinderartsen dat je baby...   \n0  \\n## Waarom willen de kinderartsen dat je baby...   \n\n                           banner_title  \\\n0  24 uur observatie van de pasgeborene   \n0  24 uur observatie van de pasgeborene   \n0  24 uur observatie van de pasgeborene   \n0  24 uur observatie van de pasgeborene   \n0  24 uur observatie van de pasgeborene   \n\n                                    banner_divisions  \\\n0  [{'division_url': 'https://www.azstlucas.be/sp...   \n0  [{'division_url': 'https://www.azstlucas.be/sp...   \n0  [{'division_url': 'https://www.azstlucas.be/sp...   \n0  [{'division_url': 'https://www.azstlucas.be/sp...   \n0  [{'division_url': 'https://www.azstlucas.be/sp...   \n\n                                               intro  \\\n0  Elke pasgeborene wordt - bij overnachting - bi...   \n0  Elke pasgeborene wordt - bij overnachting - bi...   \n0  Elke pasgeborene wordt - bij overnachting - bi...   \n0  Elke pasgeborene wordt - bij overnachting - bi...   \n0  Elke pasgeborene wordt - bij overnachting - bi...   \n\n                                                 toc  \\\n0  [{'link_url': '#waarom-willen-we-dat-je-baby-m...   \n0  [{'link_url': '#waarom-willen-we-dat-je-baby-m...   \n0  [{'link_url': '#waarom-willen-we-dat-je-baby-m...   \n0  [{'link_url': '#waarom-willen-we-dat-je-baby-m...   \n0  [{'link_url': '#waarom-willen-we-dat-je-baby-m...   \n\n                                                 url          scrape_date  \\\n0  https://www.azstlucas.be/onderzoek-en-behandel...  12/11/2023 15:26:50   \n0  https://www.azstlucas.be/onderzoek-en-behandel...  12/11/2023 15:26:50   \n0  https://www.azstlucas.be/onderzoek-en-behandel...  12/11/2023 15:26:50   \n0  https://www.azstlucas.be/onderzoek-en-behandel...  12/11/2023 15:26:50   \n0  https://www.azstlucas.be/onderzoek-en-behandel...  12/11/2023 15:26:50   \n\n                                      chunk_s500_o60  chunk_order  \n0  ## Waarom willen de kinderartsen dat je baby m...            0  \n0  ## Mogelijke afwijkingen\\n\\n\\n### Aangeboren h...            1  \n0  ### Infecties\\n\\n\\nVerschillende infecties wor...            2  \n0  ### Aangeboren darmafwijkingen\\n\\n\\nHet is pas...            3  \n0  De kinderarts onderzoekt je baby in normale om...            4  ",
            "text/html": "<div>\n<style scoped>\n    .dataframe tbody tr th:only-of-type {\n        vertical-align: middle;\n    }\n\n    .dataframe tbody tr th {\n        vertical-align: top;\n    }\n\n    .dataframe thead th {\n        text-align: right;\n    }\n</style>\n<table border=\"1\" class=\"dataframe\">\n  <thead>\n    <tr style=\"text-align: right;\">\n      <th></th>\n      <th>content</th>\n      <th>banner_title</th>\n      <th>banner_divisions</th>\n      <th>intro</th>\n      <th>toc</th>\n      <th>url</th>\n      <th>scrape_date</th>\n      <th>chunk_s500_o60</th>\n      <th>chunk_order</th>\n    </tr>\n  </thead>\n  <tbody>\n    <tr>\n      <th>0</th>\n      <td>\\n## Waarom willen de kinderartsen dat je baby...</td>\n      <td>24 uur observatie van de pasgeborene</td>\n      <td>[{'division_url': 'https://www.azstlucas.be/sp...</td>\n      <td>Elke pasgeborene wordt - bij overnachting - bi...</td>\n      <td>[{'link_url': '#waarom-willen-we-dat-je-baby-m...</td>\n      <td>https://www.azstlucas.be/onderzoek-en-behandel...</td>\n      <td>12/11/2023 15:26:50</td>\n      <td>## Waarom willen de kinderartsen dat je baby m...</td>\n      <td>0</td>\n    </tr>\n    <tr>\n      <th>0</th>\n      <td>\\n## Waarom willen de kinderartsen dat je baby...</td>\n      <td>24 uur observatie van de pasgeborene</td>\n      <td>[{'division_url': 'https://www.azstlucas.be/sp...</td>\n      <td>Elke pasgeborene wordt - bij overnachting - bi...</td>\n      <td>[{'link_url': '#waarom-willen-we-dat-je-baby-m...</td>\n      <td>https://www.azstlucas.be/onderzoek-en-behandel...</td>\n      <td>12/11/2023 15:26:50</td>\n      <td>## Mogelijke afwijkingen\\n\\n\\n### Aangeboren h...</td>\n      <td>1</td>\n    </tr>\n    <tr>\n      <th>0</th>\n      <td>\\n## Waarom willen de kinderartsen dat je baby...</td>\n      <td>24 uur observatie van de pasgeborene</td>\n      <td>[{'division_url': 'https://www.azstlucas.be/sp...</td>\n      <td>Elke pasgeborene wordt - bij overnachting - bi...</td>\n      <td>[{'link_url': '#waarom-willen-we-dat-je-baby-m...</td>\n      <td>https://www.azstlucas.be/onderzoek-en-behandel...</td>\n      <td>12/11/2023 15:26:50</td>\n      <td>### Infecties\\n\\n\\nVerschillende infecties wor...</td>\n      <td>2</td>\n    </tr>\n    <tr>\n      <th>0</th>\n      <td>\\n## Waarom willen de kinderartsen dat je baby...</td>\n      <td>24 uur observatie van de pasgeborene</td>\n      <td>[{'division_url': 'https://www.azstlucas.be/sp...</td>\n      <td>Elke pasgeborene wordt - bij overnachting - bi...</td>\n      <td>[{'link_url': '#waarom-willen-we-dat-je-baby-m...</td>\n      <td>https://www.azstlucas.be/onderzoek-en-behandel...</td>\n      <td>12/11/2023 15:26:50</td>\n      <td>### Aangeboren darmafwijkingen\\n\\n\\nHet is pas...</td>\n      <td>3</td>\n    </tr>\n    <tr>\n      <th>0</th>\n      <td>\\n## Waarom willen de kinderartsen dat je baby...</td>\n      <td>24 uur observatie van de pasgeborene</td>\n      <td>[{'division_url': 'https://www.azstlucas.be/sp...</td>\n      <td>Elke pasgeborene wordt - bij overnachting - bi...</td>\n      <td>[{'link_url': '#waarom-willen-we-dat-je-baby-m...</td>\n      <td>https://www.azstlucas.be/onderzoek-en-behandel...</td>\n      <td>12/11/2023 15:26:50</td>\n      <td>De kinderarts onderzoekt je baby in normale om...</td>\n      <td>4</td>\n    </tr>\n  </tbody>\n</table>\n</div>"
          },
          "metadata": {}
        }
      ],
      "execution_count": 44,
      "metadata": {
        "jupyter": {
          "source_hidden": false,
          "outputs_hidden": false
        },
        "nteract": {
          "transient": {
            "deleting": false
          }
        },
        "gather": {
          "logged": 1699807606754
        }
      }
    },
    {
      "cell_type": "code",
      "source": [
        "chunks_df.iloc[0]['chunk_s500_o60']"
      ],
      "outputs": [
        {
          "output_type": "execute_result",
          "execution_count": 46,
          "data": {
            "text/plain": "\"## Waarom willen de kinderartsen dat je baby minstens 24 uur op de dienst verblijft?\\n\\nGelukkig worden de meeste baby's helemaal gezond geboren na een normale zwangerschap. Toch is het belangrijk om een pasgeborene de eerste 24 levensuren bij ons in het ziekenhuis te observeren. Er ontstaan soms problemen die kort na de geboorte nog niet duidelijk zijn.\\n\\n\\n\\n## Mogelijke afwijkingen\\n\\n\\n### Aangeboren hartafwijking\""
          },
          "metadata": {}
        }
      ],
      "execution_count": 46,
      "metadata": {
        "jupyter": {
          "source_hidden": false,
          "outputs_hidden": false
        },
        "nteract": {
          "transient": {
            "deleting": false
          }
        },
        "gather": {
          "logged": 1699807934250
        }
      }
    },
    {
      "cell_type": "markdown",
      "source": [
        "### Serialize Chunks"
      ],
      "metadata": {
        "nteract": {
          "transient": {
            "deleting": false
          }
        }
      }
    },
    {
      "cell_type": "code",
      "source": [
        "# Save DF to Blob Storage for later retrieval. \n",
        "chunks_df.to_pickle(path='./data/chunks_raw.pkl')"
      ],
      "outputs": [],
      "execution_count": 47,
      "metadata": {
        "jupyter": {
          "source_hidden": false,
          "outputs_hidden": false
        },
        "nteract": {
          "transient": {
            "deleting": false
          }
        },
        "gather": {
          "logged": 1699808020353
        }
      }
    },
    {
      "cell_type": "code",
      "source": [
        "# Read from pikle file\n",
        "chunks_test_df = pd.read_pickle('./data/chunks_raw.pkl')\n",
        "\n",
        "chunks_test_df.head()"
      ],
      "outputs": [
        {
          "output_type": "execute_result",
          "execution_count": 48,
          "data": {
            "text/plain": "                                             content  \\\n0  \\n## Waarom willen de kinderartsen dat je baby...   \n0  \\n## Waarom willen de kinderartsen dat je baby...   \n0  \\n## Waarom willen de kinderartsen dat je baby...   \n0  \\n## Waarom willen de kinderartsen dat je baby...   \n0  \\n## Waarom willen de kinderartsen dat je baby...   \n\n                           banner_title  \\\n0  24 uur observatie van de pasgeborene   \n0  24 uur observatie van de pasgeborene   \n0  24 uur observatie van de pasgeborene   \n0  24 uur observatie van de pasgeborene   \n0  24 uur observatie van de pasgeborene   \n\n                                    banner_divisions  \\\n0  [{'division_url': 'https://www.azstlucas.be/sp...   \n0  [{'division_url': 'https://www.azstlucas.be/sp...   \n0  [{'division_url': 'https://www.azstlucas.be/sp...   \n0  [{'division_url': 'https://www.azstlucas.be/sp...   \n0  [{'division_url': 'https://www.azstlucas.be/sp...   \n\n                                               intro  \\\n0  Elke pasgeborene wordt - bij overnachting - bi...   \n0  Elke pasgeborene wordt - bij overnachting - bi...   \n0  Elke pasgeborene wordt - bij overnachting - bi...   \n0  Elke pasgeborene wordt - bij overnachting - bi...   \n0  Elke pasgeborene wordt - bij overnachting - bi...   \n\n                                                 toc  \\\n0  [{'link_url': '#waarom-willen-we-dat-je-baby-m...   \n0  [{'link_url': '#waarom-willen-we-dat-je-baby-m...   \n0  [{'link_url': '#waarom-willen-we-dat-je-baby-m...   \n0  [{'link_url': '#waarom-willen-we-dat-je-baby-m...   \n0  [{'link_url': '#waarom-willen-we-dat-je-baby-m...   \n\n                                                 url          scrape_date  \\\n0  https://www.azstlucas.be/onderzoek-en-behandel...  12/11/2023 15:26:50   \n0  https://www.azstlucas.be/onderzoek-en-behandel...  12/11/2023 15:26:50   \n0  https://www.azstlucas.be/onderzoek-en-behandel...  12/11/2023 15:26:50   \n0  https://www.azstlucas.be/onderzoek-en-behandel...  12/11/2023 15:26:50   \n0  https://www.azstlucas.be/onderzoek-en-behandel...  12/11/2023 15:26:50   \n\n                                      chunk_s500_o60  chunk_order  \n0  ## Waarom willen de kinderartsen dat je baby m...            0  \n0  ## Mogelijke afwijkingen\\n\\n\\n### Aangeboren h...            1  \n0  ### Infecties\\n\\n\\nVerschillende infecties wor...            2  \n0  ### Aangeboren darmafwijkingen\\n\\n\\nHet is pas...            3  \n0  De kinderarts onderzoekt je baby in normale om...            4  ",
            "text/html": "<div>\n<style scoped>\n    .dataframe tbody tr th:only-of-type {\n        vertical-align: middle;\n    }\n\n    .dataframe tbody tr th {\n        vertical-align: top;\n    }\n\n    .dataframe thead th {\n        text-align: right;\n    }\n</style>\n<table border=\"1\" class=\"dataframe\">\n  <thead>\n    <tr style=\"text-align: right;\">\n      <th></th>\n      <th>content</th>\n      <th>banner_title</th>\n      <th>banner_divisions</th>\n      <th>intro</th>\n      <th>toc</th>\n      <th>url</th>\n      <th>scrape_date</th>\n      <th>chunk_s500_o60</th>\n      <th>chunk_order</th>\n    </tr>\n  </thead>\n  <tbody>\n    <tr>\n      <th>0</th>\n      <td>\\n## Waarom willen de kinderartsen dat je baby...</td>\n      <td>24 uur observatie van de pasgeborene</td>\n      <td>[{'division_url': 'https://www.azstlucas.be/sp...</td>\n      <td>Elke pasgeborene wordt - bij overnachting - bi...</td>\n      <td>[{'link_url': '#waarom-willen-we-dat-je-baby-m...</td>\n      <td>https://www.azstlucas.be/onderzoek-en-behandel...</td>\n      <td>12/11/2023 15:26:50</td>\n      <td>## Waarom willen de kinderartsen dat je baby m...</td>\n      <td>0</td>\n    </tr>\n    <tr>\n      <th>0</th>\n      <td>\\n## Waarom willen de kinderartsen dat je baby...</td>\n      <td>24 uur observatie van de pasgeborene</td>\n      <td>[{'division_url': 'https://www.azstlucas.be/sp...</td>\n      <td>Elke pasgeborene wordt - bij overnachting - bi...</td>\n      <td>[{'link_url': '#waarom-willen-we-dat-je-baby-m...</td>\n      <td>https://www.azstlucas.be/onderzoek-en-behandel...</td>\n      <td>12/11/2023 15:26:50</td>\n      <td>## Mogelijke afwijkingen\\n\\n\\n### Aangeboren h...</td>\n      <td>1</td>\n    </tr>\n    <tr>\n      <th>0</th>\n      <td>\\n## Waarom willen de kinderartsen dat je baby...</td>\n      <td>24 uur observatie van de pasgeborene</td>\n      <td>[{'division_url': 'https://www.azstlucas.be/sp...</td>\n      <td>Elke pasgeborene wordt - bij overnachting - bi...</td>\n      <td>[{'link_url': '#waarom-willen-we-dat-je-baby-m...</td>\n      <td>https://www.azstlucas.be/onderzoek-en-behandel...</td>\n      <td>12/11/2023 15:26:50</td>\n      <td>### Infecties\\n\\n\\nVerschillende infecties wor...</td>\n      <td>2</td>\n    </tr>\n    <tr>\n      <th>0</th>\n      <td>\\n## Waarom willen de kinderartsen dat je baby...</td>\n      <td>24 uur observatie van de pasgeborene</td>\n      <td>[{'division_url': 'https://www.azstlucas.be/sp...</td>\n      <td>Elke pasgeborene wordt - bij overnachting - bi...</td>\n      <td>[{'link_url': '#waarom-willen-we-dat-je-baby-m...</td>\n      <td>https://www.azstlucas.be/onderzoek-en-behandel...</td>\n      <td>12/11/2023 15:26:50</td>\n      <td>### Aangeboren darmafwijkingen\\n\\n\\nHet is pas...</td>\n      <td>3</td>\n    </tr>\n    <tr>\n      <th>0</th>\n      <td>\\n## Waarom willen de kinderartsen dat je baby...</td>\n      <td>24 uur observatie van de pasgeborene</td>\n      <td>[{'division_url': 'https://www.azstlucas.be/sp...</td>\n      <td>Elke pasgeborene wordt - bij overnachting - bi...</td>\n      <td>[{'link_url': '#waarom-willen-we-dat-je-baby-m...</td>\n      <td>https://www.azstlucas.be/onderzoek-en-behandel...</td>\n      <td>12/11/2023 15:26:50</td>\n      <td>De kinderarts onderzoekt je baby in normale om...</td>\n      <td>4</td>\n    </tr>\n  </tbody>\n</table>\n</div>"
          },
          "metadata": {}
        }
      ],
      "execution_count": 48,
      "metadata": {
        "jupyter": {
          "source_hidden": false,
          "outputs_hidden": false
        },
        "nteract": {
          "transient": {
            "deleting": false
          }
        },
        "gather": {
          "logged": 1699808172339
        }
      }
    }
  ],
  "metadata": {
    "kernelspec": {
      "name": "python38-azureml",
      "language": "python",
      "display_name": "Python 3.8 - AzureML"
    },
    "language_info": {
      "name": "python",
      "version": "3.8.5",
      "mimetype": "text/x-python",
      "codemirror_mode": {
        "name": "ipython",
        "version": 3
      },
      "pygments_lexer": "ipython3",
      "nbconvert_exporter": "python",
      "file_extension": ".py"
    },
    "microsoft": {
      "ms_spell_check": {
        "ms_spell_check_language": "en"
      },
      "host": {
        "AzureML": {
          "notebookHasBeenCompleted": true
        }
      }
    },
    "kernel_info": {
      "name": "python38-azureml"
    },
    "nteract": {
      "version": "nteract-front-end@1.0.0"
    }
  },
  "nbformat": 4,
  "nbformat_minor": 2
}