{
  "cells": [
    {
      "cell_type": "markdown",
      "source": [
        "# Writing To Vector DB\n",
        "\n",
        "Write the manual qa (questions, answers) to Neo4j. "
      ],
      "metadata": {
        "nteract": {
          "transient": {
            "deleting": false
          }
        }
      }
    },
    {
      "cell_type": "code",
      "source": [
        "!pip install azure-identity azure-keyvault-secrets"
      ],
      "outputs": [
        {
          "output_type": "stream",
          "name": "stdout",
          "text": "Requirement already satisfied: azure-identity in /anaconda/envs/azureml_py38/lib/python3.8/site-packages (1.13.0)\nRequirement already satisfied: azure-keyvault-secrets in /anaconda/envs/azureml_py38/lib/python3.8/site-packages (4.7.0)\nRequirement already satisfied: azure-core<2.0.0,>=1.11.0 in /anaconda/envs/azureml_py38/lib/python3.8/site-packages (from azure-identity) (1.26.4)\nRequirement already satisfied: six>=1.12.0 in /anaconda/envs/azureml_py38/lib/python3.8/site-packages (from azure-identity) (1.16.0)\nRequirement already satisfied: msal<2.0.0,>=1.20.0 in /anaconda/envs/azureml_py38/lib/python3.8/site-packages (from azure-identity) (1.22.0)\nRequirement already satisfied: msal-extensions<2.0.0,>=0.3.0 in /anaconda/envs/azureml_py38/lib/python3.8/site-packages (from azure-identity) (1.0.0)\nRequirement already satisfied: cryptography>=2.5 in /anaconda/envs/azureml_py38/lib/python3.8/site-packages (from azure-identity) (38.0.4)\nRequirement already satisfied: azure-common~=1.1 in /anaconda/envs/azureml_py38/lib/python3.8/site-packages (from azure-keyvault-secrets) (1.1.28)\nRequirement already satisfied: typing-extensions>=4.0.1 in /anaconda/envs/azureml_py38/lib/python3.8/site-packages (from azure-keyvault-secrets) (4.6.0)\nRequirement already satisfied: isodate>=0.6.1 in /anaconda/envs/azureml_py38/lib/python3.8/site-packages (from azure-keyvault-secrets) (0.6.1)\nRequirement already satisfied: requests>=2.18.4 in /anaconda/envs/azureml_py38/lib/python3.8/site-packages (from azure-core<2.0.0,>=1.11.0->azure-identity) (2.31.0)\nRequirement already satisfied: PyJWT[crypto]<3,>=1.0.0 in /anaconda/envs/azureml_py38/lib/python3.8/site-packages (from msal<2.0.0,>=1.20.0->azure-identity) (2.4.0)\nRequirement already satisfied: portalocker<3,>=1.0; python_version >= \"3.5\" and platform_system != \"Windows\" in /anaconda/envs/azureml_py38/lib/python3.8/site-packages (from msal-extensions<2.0.0,>=0.3.0->azure-identity) (2.7.0)\nRequirement already satisfied: cffi>=1.12 in /anaconda/envs/azureml_py38/lib/python3.8/site-packages (from cryptography>=2.5->azure-identity) (1.15.1)\nRequirement already satisfied: certifi>=2017.4.17 in /anaconda/envs/azureml_py38/lib/python3.8/site-packages (from requests>=2.18.4->azure-core<2.0.0,>=1.11.0->azure-identity) (2022.9.24)\nRequirement already satisfied: idna<4,>=2.5 in /anaconda/envs/azureml_py38/lib/python3.8/site-packages (from requests>=2.18.4->azure-core<2.0.0,>=1.11.0->azure-identity) (3.4)\nRequirement already satisfied: charset-normalizer<4,>=2 in /anaconda/envs/azureml_py38/lib/python3.8/site-packages (from requests>=2.18.4->azure-core<2.0.0,>=1.11.0->azure-identity) (3.1.0)\nRequirement already satisfied: urllib3<3,>=1.21.1 in /anaconda/envs/azureml_py38/lib/python3.8/site-packages (from requests>=2.18.4->azure-core<2.0.0,>=1.11.0->azure-identity) (1.26.16)\nRequirement already satisfied: pycparser in /anaconda/envs/azureml_py38/lib/python3.8/site-packages (from cffi>=1.12->cryptography>=2.5->azure-identity) (2.21)\n"
        }
      ],
      "execution_count": 1,
      "metadata": {
        "jupyter": {
          "outputs_hidden": false,
          "source_hidden": false
        },
        "nteract": {
          "transient": {
            "deleting": false
          }
        }
      }
    },
    {
      "cell_type": "code",
      "source": [
        "!pip install neomodel"
      ],
      "outputs": [
        {
          "output_type": "stream",
          "name": "stdout",
          "text": "Requirement already satisfied: neomodel in /anaconda/envs/azureml_py38/lib/python3.8/site-packages (5.2.0)\r\nRequirement already satisfied: six==1.16.0 in /anaconda/envs/azureml_py38/lib/python3.8/site-packages (from neomodel) (1.16.0)\r\nRequirement already satisfied: neo4j==5.12.0 in /anaconda/envs/azureml_py38/lib/python3.8/site-packages (from neomodel) (5.12.0)\r\nRequirement already satisfied: neobolt==1.7.17 in /anaconda/envs/azureml_py38/lib/python3.8/site-packages (from neomodel) (1.7.17)\r\nRequirement already satisfied: pytz>=2021.1 in /anaconda/envs/azureml_py38/lib/python3.8/site-packages (from neomodel) (2022.5)\r\n"
        }
      ],
      "execution_count": 2,
      "metadata": {
        "jupyter": {
          "outputs_hidden": false,
          "source_hidden": false
        },
        "nteract": {
          "transient": {
            "deleting": false
          }
        }
      }
    },
    {
      "cell_type": "code",
      "source": [
        "!pip install openpyxl"
      ],
      "outputs": [
        {
          "output_type": "stream",
          "name": "stdout",
          "text": "Requirement already satisfied: openpyxl in /anaconda/envs/azureml_py38/lib/python3.8/site-packages (3.1.2)\r\nRequirement already satisfied: et-xmlfile in /anaconda/envs/azureml_py38/lib/python3.8/site-packages (from openpyxl) (1.1.0)\r\n"
        }
      ],
      "execution_count": 3,
      "metadata": {
        "jupyter": {
          "source_hidden": false,
          "outputs_hidden": false
        },
        "nteract": {
          "transient": {
            "deleting": false
          }
        }
      }
    },
    {
      "cell_type": "code",
      "source": [
        "!pip install tiktoken"
      ],
      "outputs": [
        {
          "output_type": "stream",
          "name": "stdout",
          "text": "Requirement already satisfied: tiktoken in /anaconda/envs/azureml_py38/lib/python3.8/site-packages (0.5.2)\r\nRequirement already satisfied: regex>=2022.1.18 in /anaconda/envs/azureml_py38/lib/python3.8/site-packages (from tiktoken) (2023.5.5)\r\nRequirement already satisfied: requests>=2.26.0 in /anaconda/envs/azureml_py38/lib/python3.8/site-packages (from tiktoken) (2.31.0)\r\nRequirement already satisfied: idna<4,>=2.5 in /anaconda/envs/azureml_py38/lib/python3.8/site-packages (from requests>=2.26.0->tiktoken) (3.4)\r\nRequirement already satisfied: charset-normalizer<4,>=2 in /anaconda/envs/azureml_py38/lib/python3.8/site-packages (from requests>=2.26.0->tiktoken) (3.1.0)\r\nRequirement already satisfied: urllib3<3,>=1.21.1 in /anaconda/envs/azureml_py38/lib/python3.8/site-packages (from requests>=2.26.0->tiktoken) (1.26.16)\r\nRequirement already satisfied: certifi>=2017.4.17 in /anaconda/envs/azureml_py38/lib/python3.8/site-packages (from requests>=2.26.0->tiktoken) (2022.9.24)\r\n"
        }
      ],
      "execution_count": 4,
      "metadata": {
        "jupyter": {
          "source_hidden": false,
          "outputs_hidden": false
        },
        "nteract": {
          "transient": {
            "deleting": false
          }
        }
      }
    },
    {
      "cell_type": "code",
      "source": [
        "!pip install openai"
      ],
      "outputs": [
        {
          "output_type": "stream",
          "name": "stdout",
          "text": "Requirement already satisfied: openai in /anaconda/envs/azureml_py38/lib/python3.8/site-packages (1.3.8)\r\nRequirement already satisfied: anyio<5,>=3.5.0 in /anaconda/envs/azureml_py38/lib/python3.8/site-packages (from openai) (3.6.2)\r\nRequirement already satisfied: pydantic<3,>=1.9.0 in /anaconda/envs/azureml_py38/lib/python3.8/site-packages (from openai) (1.10.8)\r\nRequirement already satisfied: httpx<1,>=0.23.0 in /anaconda/envs/azureml_py38/lib/python3.8/site-packages (from openai) (0.25.2)\r\nRequirement already satisfied: typing-extensions<5,>=4.5 in /anaconda/envs/azureml_py38/lib/python3.8/site-packages (from openai) (4.6.0)\r\nRequirement already satisfied: sniffio in /anaconda/envs/azureml_py38/lib/python3.8/site-packages (from openai) (1.3.0)\r\nRequirement already satisfied: distro<2,>=1.7.0 in /anaconda/envs/azureml_py38/lib/python3.8/site-packages (from openai) (1.8.0)\r\nRequirement already satisfied: tqdm>4 in /anaconda/envs/azureml_py38/lib/python3.8/site-packages (from openai) (4.65.0)\r\nRequirement already satisfied: idna>=2.8 in /anaconda/envs/azureml_py38/lib/python3.8/site-packages (from anyio<5,>=3.5.0->openai) (3.4)\r\nRequirement already satisfied: certifi in /anaconda/envs/azureml_py38/lib/python3.8/site-packages (from httpx<1,>=0.23.0->openai) (2022.9.24)\r\nRequirement already satisfied: httpcore==1.* in /anaconda/envs/azureml_py38/lib/python3.8/site-packages (from httpx<1,>=0.23.0->openai) (1.0.2)\r\nRequirement already satisfied: h11<0.15,>=0.13 in /anaconda/envs/azureml_py38/lib/python3.8/site-packages (from httpcore==1.*->httpx<1,>=0.23.0->openai) (0.14.0)\r\n"
        }
      ],
      "execution_count": 6,
      "metadata": {
        "jupyter": {
          "source_hidden": false,
          "outputs_hidden": false
        },
        "nteract": {
          "transient": {
            "deleting": false
          }
        }
      }
    },
    {
      "cell_type": "markdown",
      "source": [
        "### Setup Keyvault"
      ],
      "metadata": {
        "nteract": {
          "transient": {
            "deleting": false
          }
        }
      }
    },
    {
      "cell_type": "code",
      "source": [
        "from azure.identity import DefaultAzureCredential\n",
        "from azure.keyvault.secrets import SecretClient\n",
        "\n",
        "key_vault_name = \"kv-bsauwmno\"\n",
        "kv_uri = f\"https://{key_vault_name}.vault.azure.net/\"\n",
        "\n",
        "credential = DefaultAzureCredential()\n",
        "client = SecretClient(vault_url=kv_uri, credential=credential)\n",
        "\n",
        "# Now you can use neo4j_url, neo4j_port, and neo4j_password in your application\n",
        "neo4j_url = client.get_secret(\"NEO4JURL\").value\n",
        "neo4j_user = client.get_secret(\"NEO4JUSER\").value\n",
        "neo4j_password = client.get_secret(\"NEO4JPASSWORD\").value\n",
        "openai_key = client.get_secret(\"OPENAIKEY\").value"
      ],
      "outputs": [],
      "execution_count": 2,
      "metadata": {
        "gather": {
          "logged": 1702237478540
        },
        "jupyter": {
          "outputs_hidden": false,
          "source_hidden": false
        },
        "nteract": {
          "transient": {
            "deleting": false
          }
        }
      }
    },
    {
      "cell_type": "markdown",
      "source": [
        "# Define Neo4j Datamodel\n",
        "\n",
        "Using neomodel"
      ],
      "metadata": {
        "nteract": {
          "transient": {
            "deleting": false
          }
        }
      }
    },
    {
      "cell_type": "code",
      "source": [
        "from neomodel.core import NodeClassAlreadyDefined\n",
        "from neomodel import (\n",
        "    config, \n",
        "    StructuredNode, \n",
        "    StringProperty, \n",
        "    IntegerProperty,\n",
        "    UniqueIdProperty, \n",
        "    RelationshipTo, \n",
        "    ArrayProperty\n",
        ")\n",
        "from neomodel.contrib import SemiStructuredNode\n",
        "\n",
        "try: \n",
        "    class WebPage(StructuredNode):\n",
        "        webpage_id = IntegerProperty()\n",
        "        url = StringProperty()\n",
        "\n",
        "    class Answer(StructuredNode):\n",
        "        answer_id = IntegerProperty()\n",
        "        question_archetype = StringProperty()\n",
        "        text = StringProperty()\n",
        "       \n",
        "        # String, Chunk doesn't exist yet. \n",
        "        # TODO: refine to CHUNK. \n",
        "        document_source = RelationshipTo(WebPage, 'HAS_DOCUMENT_SOURCE')\n",
        "\n",
        "    class Question(StructuredNode):\n",
        "        question_id = IntegerProperty()\n",
        "        text = StringProperty()\n",
        "        text_embedding = ArrayProperty()\n",
        "        embedding_model = StringProperty()\n",
        "        variation_category = StringProperty()\n",
        "\n",
        "        answer = RelationshipTo(Answer, 'HAS_ANSWER')\n",
        "\n",
        "except NodeClassAlreadyDefined as e: \n",
        "    print(\"Classes already defined.\")"
      ],
      "outputs": [],
      "execution_count": 3,
      "metadata": {
        "gather": {
          "logged": 1702237486127
        },
        "jupyter": {
          "outputs_hidden": false,
          "source_hidden": false
        },
        "nteract": {
          "transient": {
            "deleting": false
          }
        }
      }
    },
    {
      "cell_type": "code",
      "source": [
        "from neo4j import GraphDatabase\n",
        "from neomodel import db\n",
        "\n",
        "config.DATABASE_NAME = \"neo4j\"\n",
        "config.DATABASE_URL = (\n",
        "    f\"bolt://{neo4j_user}:{neo4j_password}@\" + \n",
        "    neo4j_url.replace('bolt://', '').replace('/:7687', ':7687/neo4j')\n",
        ")\n",
        "\n",
        "# Using URL - auto-managed\n",
        "db.set_connection(url=config.DATABASE_URL)"
      ],
      "outputs": [],
      "execution_count": 4,
      "metadata": {
        "gather": {
          "logged": 1702237488141
        },
        "jupyter": {
          "outputs_hidden": false,
          "source_hidden": false
        },
        "nteract": {
          "transient": {
            "deleting": false
          }
        }
      }
    },
    {
      "cell_type": "markdown",
      "source": [
        "# Create QA Dataset\n"
      ],
      "metadata": {
        "nteract": {
          "transient": {
            "deleting": false
          }
        }
      }
    },
    {
      "cell_type": "code",
      "source": [
        "import pandas as pd\n",
        "from typing import List\n",
        "from langchain.embeddings import OpenAIEmbeddings\n",
        "\n",
        "embedding_model = \"text-embedding-ada-002\"\n",
        "\n",
        "openai = OpenAIEmbeddings(\n",
        "    openai_api_key=openai_key,\n",
        "    model=embedding_model\n",
        ")\n",
        "\n",
        "question_df = (\n",
        "    pd.read_excel(\n",
        "        './data/qa_dataset.xlsx', \n",
        "        engine=\"openpyxl\",\n",
        "        sheet_name=1\n",
        "    )\n",
        "    .pipe(pd.DataFrame.dropna, subset=['question_id', 'question', 'answer_id', 'group'])\n",
        ")\n",
        "\n",
        "answer_df = pd.read_excel(\n",
        "    './data/qa_dataset.xlsx', \n",
        "    engine=\"openpyxl\",\n",
        "    sheet_name=2\n",
        ")"
      ],
      "outputs": [],
      "execution_count": 5,
      "metadata": {
        "gather": {
          "logged": 1702237494299
        },
        "jupyter": {
          "outputs_hidden": false,
          "source_hidden": false
        },
        "nteract": {
          "transient": {
            "deleting": false
          }
        }
      }
    },
    {
      "cell_type": "code",
      "source": [
        "from typing import List\n",
        "\n",
        "def embed_column(\n",
        "        df: pd.DataFrame, \n",
        "        col_name: str, \n",
        "        col_name_embedded: str) -> pd.DataFrame:\n",
        "    docs = list(df[col_name])\n",
        "    embeddings: List[List[float]] = openai.embed_documents(texts=docs)\n",
        "    df[col_name_embedded] = embeddings\n",
        "    return df \n",
        "\n",
        "def cast_col(df: pd.DataFrame, col: str, cast_type: str) -> pd.DataFrame:\n",
        "    df[col] = df[col].astype(cast_type)\n",
        "    return df\n",
        "\n",
        "embedded_questions_df = (\n",
        "    question_df.copy(deep=True)\n",
        "    .pipe(\n",
        "        embed_column,\n",
        "        col_name=\"question\", \n",
        "        col_name_embedded=\"question_embedded\"\n",
        "    )\n",
        "    .pipe(cast_col, col='answer_id', cast_type='int64')\n",
        "    .pipe(cast_col, col='question_id', cast_type='int64')\n",
        ")"
      ],
      "outputs": [],
      "execution_count": 10,
      "metadata": {
        "jupyter": {
          "source_hidden": false,
          "outputs_hidden": false
        },
        "nteract": {
          "transient": {
            "deleting": false
          }
        },
        "gather": {
          "logged": 1702235061014
        }
      }
    },
    {
      "cell_type": "markdown",
      "source": [
        "# Create Derived Datasets"
      ],
      "metadata": {
        "nteract": {
          "transient": {
            "deleting": false
          }
        }
      }
    },
    {
      "cell_type": "markdown",
      "source": [
        "## Answer Nodes\n",
        "\n",
        "Note: hardcoded to use 1 url for now. "
      ],
      "metadata": {
        "nteract": {
          "transient": {
            "deleting": false
          }
        }
      }
    },
    {
      "cell_type": "code",
      "source": [
        "embedded_questions_df"
      ],
      "outputs": [
        {
          "output_type": "execute_result",
          "execution_count": 11,
          "data": {
            "text/plain": "     question_id              group  \\\n0              1               time   \n1              2               time   \n2              3               time   \n3              4               time   \n4              5               time   \n..           ...                ...   \n594          595  very_low_literacy   \n595          596  very_low_literacy   \n596          597  very_low_literacy   \n597          598  very_low_literacy   \n598          599  very_low_literacy   \n\n                                              question  answer_id  \\\n0    Is het mogelijk om 8 uur na de geboorte met mi...          1   \n1    Kan ik met mijn pasgeboren baby 12 uur na de g...          1   \n2    Is het toegestaan om 10 uur na de bevalling he...          1   \n3    Mag ik 15 uur na de geboorte van mijn kind het...          1   \n4    Kan ik 30 uur na de geboorte met mijn baby het...          1   \n..                                                 ...        ...   \n594                Hoe kan ik mijn baby gezond houden?          4   \n595         Wat moet ik doen als mijn baby ziek wordt?          4   \n596  Hoe kan ik ervoor zorgen dat mijn baby goed gr...          4   \n597  Wat als ik denk dat er iets mis is met mijn baby?          4   \n598  Waar kan ik meer informatie vinden over de gez...          4   \n\n                                     question_embedded  \n0    [0.005267701044878656, -0.01916212564228965, 0...  \n1    [0.003690805873760612, -0.014750647847488607, ...  \n2    [0.009526361639722546, -0.028477197298947928, ...  \n3    [0.015687218959545814, -0.011676282452501028, ...  \n4    [0.011792143262032683, -0.019756075642396006, ...  \n..                                                 ...  \n594  [0.007664622577979124, -0.010371250813931438, ...  \n595  [0.0021688599254414565, -0.012936521014286493,...  \n596  [1.1692477838325705e-05, -0.021589238952175106...  \n597  [0.004506439697837641, -0.010990415202136084, ...  \n598  [0.001784576692679307, 0.0015539329249210014, ...  \n\n[599 rows x 5 columns]",
            "text/html": "<div>\n<style scoped>\n    .dataframe tbody tr th:only-of-type {\n        vertical-align: middle;\n    }\n\n    .dataframe tbody tr th {\n        vertical-align: top;\n    }\n\n    .dataframe thead th {\n        text-align: right;\n    }\n</style>\n<table border=\"1\" class=\"dataframe\">\n  <thead>\n    <tr style=\"text-align: right;\">\n      <th></th>\n      <th>question_id</th>\n      <th>group</th>\n      <th>question</th>\n      <th>answer_id</th>\n      <th>question_embedded</th>\n    </tr>\n  </thead>\n  <tbody>\n    <tr>\n      <th>0</th>\n      <td>1</td>\n      <td>time</td>\n      <td>Is het mogelijk om 8 uur na de geboorte met mi...</td>\n      <td>1</td>\n      <td>[0.005267701044878656, -0.01916212564228965, 0...</td>\n    </tr>\n    <tr>\n      <th>1</th>\n      <td>2</td>\n      <td>time</td>\n      <td>Kan ik met mijn pasgeboren baby 12 uur na de g...</td>\n      <td>1</td>\n      <td>[0.003690805873760612, -0.014750647847488607, ...</td>\n    </tr>\n    <tr>\n      <th>2</th>\n      <td>3</td>\n      <td>time</td>\n      <td>Is het toegestaan om 10 uur na de bevalling he...</td>\n      <td>1</td>\n      <td>[0.009526361639722546, -0.028477197298947928, ...</td>\n    </tr>\n    <tr>\n      <th>3</th>\n      <td>4</td>\n      <td>time</td>\n      <td>Mag ik 15 uur na de geboorte van mijn kind het...</td>\n      <td>1</td>\n      <td>[0.015687218959545814, -0.011676282452501028, ...</td>\n    </tr>\n    <tr>\n      <th>4</th>\n      <td>5</td>\n      <td>time</td>\n      <td>Kan ik 30 uur na de geboorte met mijn baby het...</td>\n      <td>1</td>\n      <td>[0.011792143262032683, -0.019756075642396006, ...</td>\n    </tr>\n    <tr>\n      <th>...</th>\n      <td>...</td>\n      <td>...</td>\n      <td>...</td>\n      <td>...</td>\n      <td>...</td>\n    </tr>\n    <tr>\n      <th>594</th>\n      <td>595</td>\n      <td>very_low_literacy</td>\n      <td>Hoe kan ik mijn baby gezond houden?</td>\n      <td>4</td>\n      <td>[0.007664622577979124, -0.010371250813931438, ...</td>\n    </tr>\n    <tr>\n      <th>595</th>\n      <td>596</td>\n      <td>very_low_literacy</td>\n      <td>Wat moet ik doen als mijn baby ziek wordt?</td>\n      <td>4</td>\n      <td>[0.0021688599254414565, -0.012936521014286493,...</td>\n    </tr>\n    <tr>\n      <th>596</th>\n      <td>597</td>\n      <td>very_low_literacy</td>\n      <td>Hoe kan ik ervoor zorgen dat mijn baby goed gr...</td>\n      <td>4</td>\n      <td>[1.1692477838325705e-05, -0.021589238952175106...</td>\n    </tr>\n    <tr>\n      <th>597</th>\n      <td>598</td>\n      <td>very_low_literacy</td>\n      <td>Wat als ik denk dat er iets mis is met mijn baby?</td>\n      <td>4</td>\n      <td>[0.004506439697837641, -0.010990415202136084, ...</td>\n    </tr>\n    <tr>\n      <th>598</th>\n      <td>599</td>\n      <td>very_low_literacy</td>\n      <td>Waar kan ik meer informatie vinden over de gez...</td>\n      <td>4</td>\n      <td>[0.001784576692679307, 0.0015539329249210014, ...</td>\n    </tr>\n  </tbody>\n</table>\n<p>599 rows × 5 columns</p>\n</div>"
          },
          "metadata": {}
        }
      ],
      "execution_count": 11,
      "metadata": {
        "jupyter": {
          "source_hidden": false,
          "outputs_hidden": false
        },
        "nteract": {
          "transient": {
            "deleting": false
          }
        },
        "gather": {
          "logged": 1702235064240
        }
      }
    },
    {
      "cell_type": "code",
      "source": [
        "import pandas as pd \n",
        "\n",
        "answers_df = (\n",
        "    answer_df.copy(deep=True)\n",
        "    .pipe(pd.DataFrame.rename, columns={\n",
        "        \"answer\": \"text\",\n",
        "        \"question\": \"question_archetype\"\n",
        "    })\n",
        "    # .pipe(pd.DataFrame.drop, ['question'], inplace=False, axis=1)\n",
        ")\n",
        "answers_df\n"
      ],
      "outputs": [
        {
          "output_type": "execute_result",
          "execution_count": 6,
          "data": {
            "text/plain": "   answer_id                                 question_archetype  \\\n0          1  Mag ik na 6u na de geboorte naar huis met mijn...   \n1          2  Zijn er specifieke gezondheidschecks voor de b...   \n2          3  Wat als mijn baby te vroeg geboren is? Wanneer...   \n3          4  Welke problemen kunnen er zoal ontstaan na een...   \n\n                                                text  \\\n0  Neen, een pasgeboren baby moet de eerste 24 uu...   \n1  Uw baby blijft eerste 24 uur na de geboorte in...   \n2  Als je baby te vroeg geboren is (tussen 36-37 ...   \n3  Na de geboorte kunnen er problemen zoals aange...   \n\n                                              source  \n0  https://www.azstlucas.be/onderzoek-en-behandel...  \n1  https://www.azstlucas.be/onderzoek-en-behandel...  \n2  https://www.azstlucas.be/onderzoek-en-behandel...  \n3  https://www.azstlucas.be/onderzoek-en-behandel...  ",
            "text/html": "<div>\n<style scoped>\n    .dataframe tbody tr th:only-of-type {\n        vertical-align: middle;\n    }\n\n    .dataframe tbody tr th {\n        vertical-align: top;\n    }\n\n    .dataframe thead th {\n        text-align: right;\n    }\n</style>\n<table border=\"1\" class=\"dataframe\">\n  <thead>\n    <tr style=\"text-align: right;\">\n      <th></th>\n      <th>answer_id</th>\n      <th>question_archetype</th>\n      <th>text</th>\n      <th>source</th>\n    </tr>\n  </thead>\n  <tbody>\n    <tr>\n      <th>0</th>\n      <td>1</td>\n      <td>Mag ik na 6u na de geboorte naar huis met mijn...</td>\n      <td>Neen, een pasgeboren baby moet de eerste 24 uu...</td>\n      <td>https://www.azstlucas.be/onderzoek-en-behandel...</td>\n    </tr>\n    <tr>\n      <th>1</th>\n      <td>2</td>\n      <td>Zijn er specifieke gezondheidschecks voor de b...</td>\n      <td>Uw baby blijft eerste 24 uur na de geboorte in...</td>\n      <td>https://www.azstlucas.be/onderzoek-en-behandel...</td>\n    </tr>\n    <tr>\n      <th>2</th>\n      <td>3</td>\n      <td>Wat als mijn baby te vroeg geboren is? Wanneer...</td>\n      <td>Als je baby te vroeg geboren is (tussen 36-37 ...</td>\n      <td>https://www.azstlucas.be/onderzoek-en-behandel...</td>\n    </tr>\n    <tr>\n      <th>3</th>\n      <td>4</td>\n      <td>Welke problemen kunnen er zoal ontstaan na een...</td>\n      <td>Na de geboorte kunnen er problemen zoals aange...</td>\n      <td>https://www.azstlucas.be/onderzoek-en-behandel...</td>\n    </tr>\n  </tbody>\n</table>\n</div>"
          },
          "metadata": {}
        }
      ],
      "execution_count": 6,
      "metadata": {
        "jupyter": {
          "source_hidden": false,
          "outputs_hidden": false
        },
        "nteract": {
          "transient": {
            "deleting": false
          }
        },
        "gather": {
          "logged": 1702237501170
        }
      }
    },
    {
      "cell_type": "code",
      "source": [
        "for _, obj in answers_df.iterrows():    \n",
        "    a = Answer(\n",
        "        answer_id=obj['question_id'],\n",
        "        question_archetype=obj['question_archetype'],\n",
        "        text=obj['text']\n",
        "    )\n",
        "    a.save()"
      ],
      "outputs": [],
      "execution_count": 14,
      "metadata": {
        "jupyter": {
          "source_hidden": false,
          "outputs_hidden": false
        },
        "nteract": {
          "transient": {
            "deleting": false
          }
        },
        "gather": {
          "logged": 1702230174222
        }
      }
    },
    {
      "cell_type": "markdown",
      "source": [
        "## Answer to WebPage Relationship"
      ],
      "metadata": {
        "nteract": {
          "transient": {
            "deleting": false
          }
        }
      }
    },
    {
      "cell_type": "code",
      "source": [
        "# Not much different webpages for now. Single one. \n",
        "\n",
        "for _, obj in answers_df.iterrows():    \n",
        "    answer = Answer.nodes.get(answer_id=obj['answer_id'])\n",
        "    webpage = WebPage.nodes.get(url=obj['source'])\n",
        "    answer.document_source.connect(webpage)"
      ],
      "outputs": [],
      "execution_count": 15,
      "metadata": {
        "jupyter": {
          "source_hidden": false,
          "outputs_hidden": false
        },
        "nteract": {
          "transient": {
            "deleting": false
          }
        },
        "gather": {
          "logged": 1702230180197
        }
      }
    },
    {
      "cell_type": "markdown",
      "source": [
        "## Question Nodes"
      ],
      "metadata": {
        "nteract": {
          "transient": {
            "deleting": false
          }
        }
      }
    },
    {
      "cell_type": "code",
      "source": [
        "def add_model(df: pd.DataFrame, name: str) -> pd.DataFrame:\n",
        "    df['model_name'] = name\n",
        "    return df\n",
        "\n",
        "questions_df = (\n",
        "    embedded_questions_df.copy(deep=True)\n",
        "    .pipe(pd.DataFrame.rename, columns={\n",
        "        \"group\": \"variation_category\", \n",
        "        \"question\": \"text\",\n",
        "        \"question_embedded\": \"text_embedding\", \n",
        "    })\n",
        "    .pipe(add_model, name=embedding_model)\n",
        ")\n",
        "questions_df"
      ],
      "outputs": [
        {
          "output_type": "execute_result",
          "execution_count": 13,
          "data": {
            "text/plain": "     question_id variation_category  \\\n0              1               time   \n1              2               time   \n2              3               time   \n3              4               time   \n4              5               time   \n..           ...                ...   \n594          595  very_low_literacy   \n595          596  very_low_literacy   \n596          597  very_low_literacy   \n597          598  very_low_literacy   \n598          599  very_low_literacy   \n\n                                                  text  answer_id  \\\n0    Is het mogelijk om 8 uur na de geboorte met mi...          1   \n1    Kan ik met mijn pasgeboren baby 12 uur na de g...          1   \n2    Is het toegestaan om 10 uur na de bevalling he...          1   \n3    Mag ik 15 uur na de geboorte van mijn kind het...          1   \n4    Kan ik 30 uur na de geboorte met mijn baby het...          1   \n..                                                 ...        ...   \n594                Hoe kan ik mijn baby gezond houden?          4   \n595         Wat moet ik doen als mijn baby ziek wordt?          4   \n596  Hoe kan ik ervoor zorgen dat mijn baby goed gr...          4   \n597  Wat als ik denk dat er iets mis is met mijn baby?          4   \n598  Waar kan ik meer informatie vinden over de gez...          4   \n\n                                        text_embedding              model_name  \n0    [0.005267701044878656, -0.01916212564228965, 0...  text-embedding-ada-002  \n1    [0.003690805873760612, -0.014750647847488607, ...  text-embedding-ada-002  \n2    [0.009526361639722546, -0.028477197298947928, ...  text-embedding-ada-002  \n3    [0.015687218959545814, -0.011676282452501028, ...  text-embedding-ada-002  \n4    [0.011792143262032683, -0.019756075642396006, ...  text-embedding-ada-002  \n..                                                 ...                     ...  \n594  [0.007664622577979124, -0.010371250813931438, ...  text-embedding-ada-002  \n595  [0.0021688599254414565, -0.012936521014286493,...  text-embedding-ada-002  \n596  [1.1692477838325705e-05, -0.021589238952175106...  text-embedding-ada-002  \n597  [0.004506439697837641, -0.010990415202136084, ...  text-embedding-ada-002  \n598  [0.001784576692679307, 0.0015539329249210014, ...  text-embedding-ada-002  \n\n[599 rows x 6 columns]",
            "text/html": "<div>\n<style scoped>\n    .dataframe tbody tr th:only-of-type {\n        vertical-align: middle;\n    }\n\n    .dataframe tbody tr th {\n        vertical-align: top;\n    }\n\n    .dataframe thead th {\n        text-align: right;\n    }\n</style>\n<table border=\"1\" class=\"dataframe\">\n  <thead>\n    <tr style=\"text-align: right;\">\n      <th></th>\n      <th>question_id</th>\n      <th>variation_category</th>\n      <th>text</th>\n      <th>answer_id</th>\n      <th>text_embedding</th>\n      <th>model_name</th>\n    </tr>\n  </thead>\n  <tbody>\n    <tr>\n      <th>0</th>\n      <td>1</td>\n      <td>time</td>\n      <td>Is het mogelijk om 8 uur na de geboorte met mi...</td>\n      <td>1</td>\n      <td>[0.005267701044878656, -0.01916212564228965, 0...</td>\n      <td>text-embedding-ada-002</td>\n    </tr>\n    <tr>\n      <th>1</th>\n      <td>2</td>\n      <td>time</td>\n      <td>Kan ik met mijn pasgeboren baby 12 uur na de g...</td>\n      <td>1</td>\n      <td>[0.003690805873760612, -0.014750647847488607, ...</td>\n      <td>text-embedding-ada-002</td>\n    </tr>\n    <tr>\n      <th>2</th>\n      <td>3</td>\n      <td>time</td>\n      <td>Is het toegestaan om 10 uur na de bevalling he...</td>\n      <td>1</td>\n      <td>[0.009526361639722546, -0.028477197298947928, ...</td>\n      <td>text-embedding-ada-002</td>\n    </tr>\n    <tr>\n      <th>3</th>\n      <td>4</td>\n      <td>time</td>\n      <td>Mag ik 15 uur na de geboorte van mijn kind het...</td>\n      <td>1</td>\n      <td>[0.015687218959545814, -0.011676282452501028, ...</td>\n      <td>text-embedding-ada-002</td>\n    </tr>\n    <tr>\n      <th>4</th>\n      <td>5</td>\n      <td>time</td>\n      <td>Kan ik 30 uur na de geboorte met mijn baby het...</td>\n      <td>1</td>\n      <td>[0.011792143262032683, -0.019756075642396006, ...</td>\n      <td>text-embedding-ada-002</td>\n    </tr>\n    <tr>\n      <th>...</th>\n      <td>...</td>\n      <td>...</td>\n      <td>...</td>\n      <td>...</td>\n      <td>...</td>\n      <td>...</td>\n    </tr>\n    <tr>\n      <th>594</th>\n      <td>595</td>\n      <td>very_low_literacy</td>\n      <td>Hoe kan ik mijn baby gezond houden?</td>\n      <td>4</td>\n      <td>[0.007664622577979124, -0.010371250813931438, ...</td>\n      <td>text-embedding-ada-002</td>\n    </tr>\n    <tr>\n      <th>595</th>\n      <td>596</td>\n      <td>very_low_literacy</td>\n      <td>Wat moet ik doen als mijn baby ziek wordt?</td>\n      <td>4</td>\n      <td>[0.0021688599254414565, -0.012936521014286493,...</td>\n      <td>text-embedding-ada-002</td>\n    </tr>\n    <tr>\n      <th>596</th>\n      <td>597</td>\n      <td>very_low_literacy</td>\n      <td>Hoe kan ik ervoor zorgen dat mijn baby goed gr...</td>\n      <td>4</td>\n      <td>[1.1692477838325705e-05, -0.021589238952175106...</td>\n      <td>text-embedding-ada-002</td>\n    </tr>\n    <tr>\n      <th>597</th>\n      <td>598</td>\n      <td>very_low_literacy</td>\n      <td>Wat als ik denk dat er iets mis is met mijn baby?</td>\n      <td>4</td>\n      <td>[0.004506439697837641, -0.010990415202136084, ...</td>\n      <td>text-embedding-ada-002</td>\n    </tr>\n    <tr>\n      <th>598</th>\n      <td>599</td>\n      <td>very_low_literacy</td>\n      <td>Waar kan ik meer informatie vinden over de gez...</td>\n      <td>4</td>\n      <td>[0.001784576692679307, 0.0015539329249210014, ...</td>\n      <td>text-embedding-ada-002</td>\n    </tr>\n  </tbody>\n</table>\n<p>599 rows × 6 columns</p>\n</div>"
          },
          "metadata": {}
        }
      ],
      "execution_count": 13,
      "metadata": {
        "jupyter": {
          "source_hidden": false,
          "outputs_hidden": false
        },
        "nteract": {
          "transient": {
            "deleting": false
          }
        },
        "gather": {
          "logged": 1702235108553
        }
      }
    },
    {
      "cell_type": "code",
      "source": [
        "for _, obj in questions_df.iterrows():    \n",
        "    q = Question(\n",
        "        question_id=obj['question_id'], \n",
        "        text=obj['text'], \n",
        "        text_embedding=obj['text_embedding'],\n",
        "        embedding_model=obj['model_name'],\n",
        "        variation_category=obj['variation_category']\n",
        "    )\n",
        "    q.save()"
      ],
      "outputs": [],
      "execution_count": 17,
      "metadata": {
        "jupyter": {
          "source_hidden": false,
          "outputs_hidden": false
        },
        "nteract": {
          "transient": {
            "deleting": false
          }
        },
        "gather": {
          "logged": 1702230256591
        }
      }
    },
    {
      "cell_type": "markdown",
      "source": [
        "# Question to Answer relationships"
      ],
      "metadata": {
        "nteract": {
          "transient": {
            "deleting": false
          }
        }
      }
    },
    {
      "cell_type": "code",
      "source": [
        "questions_df"
      ],
      "outputs": [
        {
          "output_type": "execute_result",
          "execution_count": 18,
          "data": {
            "text/plain": "     question_id variation_category  \\\n0              1               time   \n1              2               time   \n2              3               time   \n3              4               time   \n4              5               time   \n..           ...                ...   \n594          595  very_low_literacy   \n595          596  very_low_literacy   \n596          597  very_low_literacy   \n597          598  very_low_literacy   \n598          599  very_low_literacy   \n\n                                                  text  answer_id  \\\n0    Is het mogelijk om 8 uur na de geboorte met mi...          1   \n1    Kan ik met mijn pasgeboren baby 12 uur na de g...          1   \n2    Is het toegestaan om 10 uur na de bevalling he...          1   \n3    Mag ik 15 uur na de geboorte van mijn kind het...          1   \n4    Kan ik 30 uur na de geboorte met mijn baby het...          1   \n..                                                 ...        ...   \n594                Hoe kan ik mijn baby gezond houden?          4   \n595         Wat moet ik doen als mijn baby ziek wordt?          4   \n596  Hoe kan ik ervoor zorgen dat mijn baby goed gr...          4   \n597  Wat als ik denk dat er iets mis is met mijn baby?          4   \n598  Waar kan ik meer informatie vinden over de gez...          4   \n\n                                        text_embedding              model_name  \n0    [0.005267701044878656, -0.01916212564228965, 0...  text-embedding-ada-002  \n1    [0.003690805873760612, -0.014750647847488607, ...  text-embedding-ada-002  \n2    [0.009526361639722546, -0.028477197298947928, ...  text-embedding-ada-002  \n3    [0.01572584320743565, -0.011663864069330074, 0...  text-embedding-ada-002  \n4    [0.011793966048119716, -0.019708915948374487, ...  text-embedding-ada-002  \n..                                                 ...                     ...  \n594  [0.0077082431247685185, -0.010396150609807595,...  text-embedding-ada-002  \n595  [0.002168859925441457, -0.012936521014286495, ...  text-embedding-ada-002  \n596  [1.5926804948455913e-06, -0.0215753217245767, ...  text-embedding-ada-002  \n597  [0.00448571759604563, -0.010967826476461223, -...  text-embedding-ada-002  \n598  [0.001784576692679307, 0.0015539329249210014, ...  text-embedding-ada-002  \n\n[599 rows x 6 columns]",
            "text/html": "<div>\n<style scoped>\n    .dataframe tbody tr th:only-of-type {\n        vertical-align: middle;\n    }\n\n    .dataframe tbody tr th {\n        vertical-align: top;\n    }\n\n    .dataframe thead th {\n        text-align: right;\n    }\n</style>\n<table border=\"1\" class=\"dataframe\">\n  <thead>\n    <tr style=\"text-align: right;\">\n      <th></th>\n      <th>question_id</th>\n      <th>variation_category</th>\n      <th>text</th>\n      <th>answer_id</th>\n      <th>text_embedding</th>\n      <th>model_name</th>\n    </tr>\n  </thead>\n  <tbody>\n    <tr>\n      <th>0</th>\n      <td>1</td>\n      <td>time</td>\n      <td>Is het mogelijk om 8 uur na de geboorte met mi...</td>\n      <td>1</td>\n      <td>[0.005267701044878656, -0.01916212564228965, 0...</td>\n      <td>text-embedding-ada-002</td>\n    </tr>\n    <tr>\n      <th>1</th>\n      <td>2</td>\n      <td>time</td>\n      <td>Kan ik met mijn pasgeboren baby 12 uur na de g...</td>\n      <td>1</td>\n      <td>[0.003690805873760612, -0.014750647847488607, ...</td>\n      <td>text-embedding-ada-002</td>\n    </tr>\n    <tr>\n      <th>2</th>\n      <td>3</td>\n      <td>time</td>\n      <td>Is het toegestaan om 10 uur na de bevalling he...</td>\n      <td>1</td>\n      <td>[0.009526361639722546, -0.028477197298947928, ...</td>\n      <td>text-embedding-ada-002</td>\n    </tr>\n    <tr>\n      <th>3</th>\n      <td>4</td>\n      <td>time</td>\n      <td>Mag ik 15 uur na de geboorte van mijn kind het...</td>\n      <td>1</td>\n      <td>[0.01572584320743565, -0.011663864069330074, 0...</td>\n      <td>text-embedding-ada-002</td>\n    </tr>\n    <tr>\n      <th>4</th>\n      <td>5</td>\n      <td>time</td>\n      <td>Kan ik 30 uur na de geboorte met mijn baby het...</td>\n      <td>1</td>\n      <td>[0.011793966048119716, -0.019708915948374487, ...</td>\n      <td>text-embedding-ada-002</td>\n    </tr>\n    <tr>\n      <th>...</th>\n      <td>...</td>\n      <td>...</td>\n      <td>...</td>\n      <td>...</td>\n      <td>...</td>\n      <td>...</td>\n    </tr>\n    <tr>\n      <th>594</th>\n      <td>595</td>\n      <td>very_low_literacy</td>\n      <td>Hoe kan ik mijn baby gezond houden?</td>\n      <td>4</td>\n      <td>[0.0077082431247685185, -0.010396150609807595,...</td>\n      <td>text-embedding-ada-002</td>\n    </tr>\n    <tr>\n      <th>595</th>\n      <td>596</td>\n      <td>very_low_literacy</td>\n      <td>Wat moet ik doen als mijn baby ziek wordt?</td>\n      <td>4</td>\n      <td>[0.002168859925441457, -0.012936521014286495, ...</td>\n      <td>text-embedding-ada-002</td>\n    </tr>\n    <tr>\n      <th>596</th>\n      <td>597</td>\n      <td>very_low_literacy</td>\n      <td>Hoe kan ik ervoor zorgen dat mijn baby goed gr...</td>\n      <td>4</td>\n      <td>[1.5926804948455913e-06, -0.0215753217245767, ...</td>\n      <td>text-embedding-ada-002</td>\n    </tr>\n    <tr>\n      <th>597</th>\n      <td>598</td>\n      <td>very_low_literacy</td>\n      <td>Wat als ik denk dat er iets mis is met mijn baby?</td>\n      <td>4</td>\n      <td>[0.00448571759604563, -0.010967826476461223, -...</td>\n      <td>text-embedding-ada-002</td>\n    </tr>\n    <tr>\n      <th>598</th>\n      <td>599</td>\n      <td>very_low_literacy</td>\n      <td>Waar kan ik meer informatie vinden over de gez...</td>\n      <td>4</td>\n      <td>[0.001784576692679307, 0.0015539329249210014, ...</td>\n      <td>text-embedding-ada-002</td>\n    </tr>\n  </tbody>\n</table>\n<p>599 rows × 6 columns</p>\n</div>"
          },
          "metadata": {}
        }
      ],
      "execution_count": 18,
      "metadata": {
        "jupyter": {
          "source_hidden": false,
          "outputs_hidden": false
        },
        "nteract": {
          "transient": {
            "deleting": false
          }
        },
        "gather": {
          "logged": 1702230321227
        }
      }
    },
    {
      "cell_type": "code",
      "source": [
        "for _, obj in questions_df.iterrows():\n",
        "    answer = Answer.nodes.get(answer_id=obj['answer_id'])\n",
        "    question = Question.nodes.get(question_id=obj['question_id'])\n",
        "    question.answer.connect(answer)"
      ],
      "outputs": [],
      "execution_count": 19,
      "metadata": {
        "gather": {
          "logged": 1702230364133
        },
        "jupyter": {
          "outputs_hidden": false,
          "source_hidden": false
        },
        "nteract": {
          "transient": {
            "deleting": false
          }
        }
      }
    },
    {
      "cell_type": "markdown",
      "source": [
        "# Manual Driver Queries\n",
        "\n"
      ],
      "metadata": {
        "nteract": {
          "transient": {
            "deleting": false
          }
        }
      }
    },
    {
      "cell_type": "markdown",
      "source": [
        "## Indexing"
      ],
      "metadata": {
        "nteract": {
          "transient": {
            "deleting": false
          }
        }
      }
    },
    {
      "cell_type": "code",
      "source": [
        "import neo4j\n",
        "import pandas as pd\n",
        "from typing import List \n",
        "from neo4j import GraphDatabase, RoutingControl\n",
        "\n",
        "def to_pandas(records: List[object]) -> pd.DataFrame:\n",
        "    return pd.DataFrame.from_records([dict(r) for r in records])\n",
        "\n",
        "def add_fts_index(driver, label=\"Chunk\", prop=\"text\"):\n",
        "    driver.execute_query(\n",
        "        f\"\"\"\n",
        "            CREATE FULLTEXT INDEX {\"fts_\" + label + \"_\" + prop} IF NOT EXISTS\n",
        "            FOR (n:{label})\n",
        "            ON EACH [n.{prop}]\n",
        "        \"\"\",\n",
        "        database_=\"neo4j\",\n",
        "    )\n",
        "\n",
        "def get_indices(driver, db='neo4j'): \n",
        "    records, _, _ = driver.execute_query(\n",
        "        \"SHOW ALL INDEXES\",\n",
        "        database_= db, \n",
        "        routing_= RoutingControl.READ,\n",
        "    )\n",
        "    return to_pandas(records)\n",
        "\n",
        "def get_chunks(driver, limit=20, db=\"neo4j\") -> pd.DataFrame:\n",
        "    records, _, _ = driver.execute_query(\n",
        "        \"MATCH (c:Chunk)\"\n",
        "        \"RETURN c.text limit $limit\",\n",
        "        database_=db, \n",
        "        limit=limit,\n",
        "        routing_= RoutingControl.READ,\n",
        "    )\n",
        "    return to_pandas(records)\n",
        "\n",
        "def add_vector_index(\n",
        "        driver, \n",
        "        label=\"Chunk\", \n",
        "        prop=\"embedding\", \n",
        "        idx_type=\"cosine\", \n",
        "        vec_size=768): \n",
        "    driver.execute_query(\n",
        "        f\"\"\"\n",
        "            CALL db.index.vector.createNodeIndex(\n",
        "                '{(\"vi_\" + label + \"_\" + prop + \"_\" + idx_type + \"_\" + str(vec_size)).lower()}', \n",
        "                '{label}',\n",
        "                '{prop}', \n",
        "                {vec_size}, \n",
        "                '{idx_type}'\n",
        "            )\n",
        "        \"\"\",\n",
        "        database_=\"neo4j\",\n",
        "    ) \n",
        "\n",
        "# Drop index using: DROP INDEX `vi_question_text_embedding_cosine`\n",
        "with GraphDatabase.driver(neo4j_url, auth=(neo4j_user, neo4j_password)) as driver:\n",
        "    # add_fts_index(driver, label=\"Question\", prop=\"text\")\n",
        "    # add_fts_index(driver, label=\"Answer\", prop=\"text\")\n",
        "    add_vector_index(driver, label=\"Question\", prop=\"text_embedding\", vec_size=1536)\n",
        "    index_df = get_indices(driver)\n",
        "\n",
        "# df.head()\n",
        "index_df"
      ],
      "outputs": [
        {
          "output_type": "execute_result",
          "execution_count": 15,
          "data": {
            "text/plain": "   id                                    name       state  populationPercent  \\\n0   7                         fts_Answer_text      ONLINE         100.000000   \n1   3                          fts_Chunk_text      ONLINE         100.000000   \n2   6                       fts_Question_text      ONLINE         100.000000   \n3   1                          index_343aff4e      ONLINE         100.000000   \n4   2                          index_f7700477      ONLINE         100.000000   \n5   4            vi_chunk_qa_embedding_cosine      ONLINE         100.000000   \n6   5     vi_chunk_retrieval_embedding_cosine      ONLINE         100.000000   \n7   8  vi_question_text_embedding_cosine_1536  POPULATING          11.031307   \n\n       type    entityType labelsOrTypes             properties  \\\n0  FULLTEXT          NODE      [Answer]                 [text]   \n1  FULLTEXT          NODE       [Chunk]                 [text]   \n2  FULLTEXT          NODE    [Question]                 [text]   \n3    LOOKUP          NODE          None                   None   \n4    LOOKUP  RELATIONSHIP          None                   None   \n5    VECTOR          NODE       [Chunk]         [qa_embedding]   \n6    VECTOR          NODE       [Chunk]  [retrieval_embedding]   \n7    VECTOR          NODE    [Question]       [text_embedding]   \n\n      indexProvider owningConstraint                             lastRead  \\\n0      fulltext-1.0             None                                 None   \n1      fulltext-1.0             None  2023-12-10T18:37:59.445000000+00:00   \n2      fulltext-1.0             None                                 None   \n3  token-lookup-1.0             None  2023-12-10T19:11:43.090000000+00:00   \n4  token-lookup-1.0             None  2023-12-10T17:47:32.485000000+00:00   \n5        vector-1.0             None                                 None   \n6        vector-1.0             None                                 None   \n7        vector-1.0             None                                 None   \n\n   readCount  \n0        0.0  \n1      344.0  \n2        0.0  \n3    54583.0  \n4        5.0  \n5        0.0  \n6        0.0  \n7        NaN  ",
            "text/html": "<div>\n<style scoped>\n    .dataframe tbody tr th:only-of-type {\n        vertical-align: middle;\n    }\n\n    .dataframe tbody tr th {\n        vertical-align: top;\n    }\n\n    .dataframe thead th {\n        text-align: right;\n    }\n</style>\n<table border=\"1\" class=\"dataframe\">\n  <thead>\n    <tr style=\"text-align: right;\">\n      <th></th>\n      <th>id</th>\n      <th>name</th>\n      <th>state</th>\n      <th>populationPercent</th>\n      <th>type</th>\n      <th>entityType</th>\n      <th>labelsOrTypes</th>\n      <th>properties</th>\n      <th>indexProvider</th>\n      <th>owningConstraint</th>\n      <th>lastRead</th>\n      <th>readCount</th>\n    </tr>\n  </thead>\n  <tbody>\n    <tr>\n      <th>0</th>\n      <td>7</td>\n      <td>fts_Answer_text</td>\n      <td>ONLINE</td>\n      <td>100.000000</td>\n      <td>FULLTEXT</td>\n      <td>NODE</td>\n      <td>[Answer]</td>\n      <td>[text]</td>\n      <td>fulltext-1.0</td>\n      <td>None</td>\n      <td>None</td>\n      <td>0.0</td>\n    </tr>\n    <tr>\n      <th>1</th>\n      <td>3</td>\n      <td>fts_Chunk_text</td>\n      <td>ONLINE</td>\n      <td>100.000000</td>\n      <td>FULLTEXT</td>\n      <td>NODE</td>\n      <td>[Chunk]</td>\n      <td>[text]</td>\n      <td>fulltext-1.0</td>\n      <td>None</td>\n      <td>2023-12-10T18:37:59.445000000+00:00</td>\n      <td>344.0</td>\n    </tr>\n    <tr>\n      <th>2</th>\n      <td>6</td>\n      <td>fts_Question_text</td>\n      <td>ONLINE</td>\n      <td>100.000000</td>\n      <td>FULLTEXT</td>\n      <td>NODE</td>\n      <td>[Question]</td>\n      <td>[text]</td>\n      <td>fulltext-1.0</td>\n      <td>None</td>\n      <td>None</td>\n      <td>0.0</td>\n    </tr>\n    <tr>\n      <th>3</th>\n      <td>1</td>\n      <td>index_343aff4e</td>\n      <td>ONLINE</td>\n      <td>100.000000</td>\n      <td>LOOKUP</td>\n      <td>NODE</td>\n      <td>None</td>\n      <td>None</td>\n      <td>token-lookup-1.0</td>\n      <td>None</td>\n      <td>2023-12-10T19:11:43.090000000+00:00</td>\n      <td>54583.0</td>\n    </tr>\n    <tr>\n      <th>4</th>\n      <td>2</td>\n      <td>index_f7700477</td>\n      <td>ONLINE</td>\n      <td>100.000000</td>\n      <td>LOOKUP</td>\n      <td>RELATIONSHIP</td>\n      <td>None</td>\n      <td>None</td>\n      <td>token-lookup-1.0</td>\n      <td>None</td>\n      <td>2023-12-10T17:47:32.485000000+00:00</td>\n      <td>5.0</td>\n    </tr>\n    <tr>\n      <th>5</th>\n      <td>4</td>\n      <td>vi_chunk_qa_embedding_cosine</td>\n      <td>ONLINE</td>\n      <td>100.000000</td>\n      <td>VECTOR</td>\n      <td>NODE</td>\n      <td>[Chunk]</td>\n      <td>[qa_embedding]</td>\n      <td>vector-1.0</td>\n      <td>None</td>\n      <td>None</td>\n      <td>0.0</td>\n    </tr>\n    <tr>\n      <th>6</th>\n      <td>5</td>\n      <td>vi_chunk_retrieval_embedding_cosine</td>\n      <td>ONLINE</td>\n      <td>100.000000</td>\n      <td>VECTOR</td>\n      <td>NODE</td>\n      <td>[Chunk]</td>\n      <td>[retrieval_embedding]</td>\n      <td>vector-1.0</td>\n      <td>None</td>\n      <td>None</td>\n      <td>0.0</td>\n    </tr>\n    <tr>\n      <th>7</th>\n      <td>8</td>\n      <td>vi_question_text_embedding_cosine_1536</td>\n      <td>POPULATING</td>\n      <td>11.031307</td>\n      <td>VECTOR</td>\n      <td>NODE</td>\n      <td>[Question]</td>\n      <td>[text_embedding]</td>\n      <td>vector-1.0</td>\n      <td>None</td>\n      <td>None</td>\n      <td>NaN</td>\n    </tr>\n  </tbody>\n</table>\n</div>"
          },
          "metadata": {}
        }
      ],
      "execution_count": 15,
      "metadata": {
        "gather": {
          "logged": 1702235640402
        },
        "jupyter": {
          "outputs_hidden": false,
          "source_hidden": false
        },
        "nteract": {
          "transient": {
            "deleting": false
          }
        }
      }
    }
  ],
  "metadata": {
    "kernel_info": {
      "name": "python38-azureml"
    },
    "kernelspec": {
      "name": "python38-azureml",
      "language": "python",
      "display_name": "Python 3.8 - AzureML"
    },
    "language_info": {
      "name": "python",
      "version": "3.8.5",
      "mimetype": "text/x-python",
      "codemirror_mode": {
        "name": "ipython",
        "version": 3
      },
      "pygments_lexer": "ipython3",
      "nbconvert_exporter": "python",
      "file_extension": ".py"
    },
    "microsoft": {
      "host": {
        "AzureML": {
          "notebookHasBeenCompleted": true
        }
      },
      "ms_spell_check": {
        "ms_spell_check_language": "en"
      }
    },
    "nteract": {
      "version": "nteract-front-end@1.0.0"
    }
  },
  "nbformat": 4,
  "nbformat_minor": 2
}