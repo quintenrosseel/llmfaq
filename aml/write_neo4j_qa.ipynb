{
  "cells": [
    {
      "cell_type": "markdown",
      "metadata": {
        "nteract": {
          "transient": {
            "deleting": false
          }
        }
      },
      "source": [
        "# Writing To Vector DB\n",
        "\n",
        "Write the manual qa (questions, answers) to Neo4j. "
      ]
    },
    {
      "cell_type": "code",
      "execution_count": 1,
      "metadata": {
        "jupyter": {
          "outputs_hidden": false,
          "source_hidden": false
        },
        "nteract": {
          "transient": {
            "deleting": false
          }
        }
      },
      "outputs": [
        {
          "name": "stdout",
          "output_type": "stream",
          "text": [
            "Collecting azure-identity\n",
            "  Downloading azure_identity-1.15.0-py3-none-any.whl (164 kB)\n",
            "\u001b[K     |████████████████████████████████| 164 kB 4.7 MB/s eta 0:00:01\n",
            "\u001b[?25hCollecting azure-keyvault-secrets\n",
            "  Downloading azure_keyvault_secrets-4.7.0-py3-none-any.whl (348 kB)\n",
            "\u001b[K     |████████████████████████████████| 348 kB 14.2 MB/s eta 0:00:01\n",
            "\u001b[?25hCollecting azure-core<2.0.0,>=1.23.0\n",
            "  Downloading azure_core-1.29.5-py3-none-any.whl (192 kB)\n",
            "\u001b[K     |████████████████████████████████| 192 kB 15.7 MB/s eta 0:00:01\n",
            "\u001b[?25hCollecting msal-extensions<2.0.0,>=0.3.0\n",
            "  Downloading msal_extensions-1.1.0-py3-none-any.whl (19 kB)\n",
            "Collecting msal<2.0.0,>=1.24.0\n",
            "  Downloading msal-1.26.0-py2.py3-none-any.whl (99 kB)\n",
            "\u001b[K     |████████████████████████████████| 99 kB 13.2 MB/s eta 0:00:01\n",
            "\u001b[?25hCollecting cryptography>=2.5\n",
            "  Downloading cryptography-41.0.7-cp37-abi3-macosx_10_12_x86_64.whl (2.9 MB)\n",
            "\u001b[K     |████████████████████████████████| 2.9 MB 11.3 MB/s eta 0:00:01\n",
            "\u001b[?25hCollecting requests>=2.18.4\n",
            "  Using cached requests-2.31.0-py3-none-any.whl (62 kB)\n",
            "Requirement already satisfied: typing-extensions>=4.6.0 in /Users/yannbuydens/.pyenv/versions/3.8.10/lib/python3.8/site-packages (from azure-core<2.0.0,>=1.23.0->azure-identity) (4.9.0)\n",
            "Requirement already satisfied: six>=1.11.0 in /Users/yannbuydens/.pyenv/versions/3.8.10/lib/python3.8/site-packages (from azure-core<2.0.0,>=1.23.0->azure-identity) (1.16.0)\n",
            "Collecting cffi>=1.12\n",
            "  Downloading cffi-1.16.0-cp38-cp38-macosx_10_9_x86_64.whl (182 kB)\n",
            "\u001b[K     |████████████████████████████████| 182 kB 13.8 MB/s eta 0:00:01\n",
            "\u001b[?25hCollecting pycparser\n",
            "  Downloading pycparser-2.21-py2.py3-none-any.whl (118 kB)\n",
            "\u001b[K     |████████████████████████████████| 118 kB 11.3 MB/s eta 0:00:01\n",
            "\u001b[?25hCollecting PyJWT[crypto]<3,>=1.0.0\n",
            "  Downloading PyJWT-2.8.0-py3-none-any.whl (22 kB)\n",
            "Requirement already satisfied: packaging in /Users/yannbuydens/.pyenv/versions/3.8.10/lib/python3.8/site-packages (from msal-extensions<2.0.0,>=0.3.0->azure-identity) (23.2)\n",
            "Collecting portalocker<3,>=1.0\n",
            "  Downloading portalocker-2.8.2-py3-none-any.whl (17 kB)\n",
            "Collecting idna<4,>=2.5\n",
            "  Using cached idna-3.6-py3-none-any.whl (61 kB)\n",
            "Collecting certifi>=2017.4.17\n",
            "  Using cached certifi-2023.11.17-py3-none-any.whl (162 kB)\n",
            "Collecting urllib3<3,>=1.21.1\n",
            "  Using cached urllib3-2.1.0-py3-none-any.whl (104 kB)\n",
            "Collecting charset-normalizer<4,>=2\n",
            "  Using cached charset_normalizer-3.3.2-cp38-cp38-macosx_10_9_x86_64.whl (121 kB)\n",
            "Collecting isodate>=0.6.1\n",
            "  Downloading isodate-0.6.1-py2.py3-none-any.whl (41 kB)\n",
            "\u001b[K     |████████████████████████████████| 41 kB 1.5 MB/s  eta 0:00:01\n",
            "\u001b[?25hCollecting azure-common~=1.1\n",
            "  Downloading azure_common-1.1.28-py2.py3-none-any.whl (14 kB)\n",
            "Installing collected packages: pycparser, cffi, urllib3, PyJWT, idna, cryptography, charset-normalizer, certifi, requests, portalocker, msal, msal-extensions, isodate, azure-core, azure-common, azure-keyvault-secrets, azure-identity\n",
            "Successfully installed PyJWT-2.8.0 azure-common-1.1.28 azure-core-1.29.5 azure-identity-1.15.0 azure-keyvault-secrets-4.7.0 certifi-2023.11.17 cffi-1.16.0 charset-normalizer-3.3.2 cryptography-41.0.7 idna-3.6 isodate-0.6.1 msal-1.26.0 msal-extensions-1.1.0 portalocker-2.8.2 pycparser-2.21 requests-2.31.0 urllib3-2.1.0\n",
            "\u001b[33mWARNING: You are using pip version 21.1.1; however, version 23.3.1 is available.\n",
            "You should consider upgrading via the '/Users/yannbuydens/.pyenv/versions/3.8.10/bin/python3.8 -m pip install --upgrade pip' command.\u001b[0m\n"
          ]
        }
      ],
      "source": [
        "!pip install azure-identity azure-keyvault-secrets"
      ]
    },
    {
      "cell_type": "code",
      "execution_count": 2,
      "metadata": {
        "jupyter": {
          "outputs_hidden": false,
          "source_hidden": false
        },
        "nteract": {
          "transient": {
            "deleting": false
          }
        }
      },
      "outputs": [
        {
          "name": "stdout",
          "output_type": "stream",
          "text": [
            "Collecting neomodel\n",
            "  Using cached neomodel-5.2.0-py3-none-any.whl (164 kB)\n",
            "Requirement already satisfied: six==1.16.0 in /Users/yannbuydens/.pyenv/versions/3.8.10/lib/python3.8/site-packages (from neomodel) (1.16.0)\n",
            "Collecting neo4j==5.12.0\n",
            "  Using cached neo4j-5.12.0-py3-none-any.whl\n",
            "Collecting neobolt==1.7.17\n",
            "  Using cached neobolt-1.7.17.tar.gz (183 kB)\n",
            "Collecting pytz>=2021.1\n",
            "  Using cached pytz-2023.3.post1-py2.py3-none-any.whl (502 kB)\n",
            "Using legacy 'setup.py install' for neobolt, since package 'wheel' is not installed.\n",
            "Installing collected packages: pytz, neobolt, neo4j, neomodel\n",
            "    Running setup.py install for neobolt ... \u001b[?25ldone\n",
            "\u001b[?25hSuccessfully installed neo4j-5.12.0 neobolt-1.7.17 neomodel-5.2.0 pytz-2023.3.post1\n",
            "\u001b[33mWARNING: You are using pip version 21.1.1; however, version 23.3.1 is available.\n",
            "You should consider upgrading via the '/Users/yannbuydens/.pyenv/versions/3.8.10/bin/python3.8 -m pip install --upgrade pip' command.\u001b[0m\n"
          ]
        }
      ],
      "source": [
        "!pip install neomodel"
      ]
    },
    {
      "cell_type": "code",
      "execution_count": 3,
      "metadata": {
        "jupyter": {
          "outputs_hidden": false,
          "source_hidden": false
        },
        "nteract": {
          "transient": {
            "deleting": false
          }
        }
      },
      "outputs": [
        {
          "name": "stdout",
          "output_type": "stream",
          "text": [
            "Collecting openpyxl\n",
            "  Downloading openpyxl-3.1.2-py2.py3-none-any.whl (249 kB)\n",
            "\u001b[K     |████████████████████████████████| 249 kB 3.4 MB/s eta 0:00:01\n",
            "\u001b[?25hCollecting et-xmlfile\n",
            "  Downloading et_xmlfile-1.1.0-py3-none-any.whl (4.7 kB)\n",
            "Installing collected packages: et-xmlfile, openpyxl\n",
            "Successfully installed et-xmlfile-1.1.0 openpyxl-3.1.2\n",
            "\u001b[33mWARNING: You are using pip version 21.1.1; however, version 23.3.1 is available.\n",
            "You should consider upgrading via the '/Users/yannbuydens/.pyenv/versions/3.8.10/bin/python3.8 -m pip install --upgrade pip' command.\u001b[0m\n"
          ]
        }
      ],
      "source": [
        "!pip install openpyxl"
      ]
    },
    {
      "cell_type": "code",
      "execution_count": 4,
      "metadata": {
        "jupyter": {
          "outputs_hidden": false,
          "source_hidden": false
        },
        "nteract": {
          "transient": {
            "deleting": false
          }
        }
      },
      "outputs": [
        {
          "name": "stdout",
          "output_type": "stream",
          "text": [
            "Collecting tiktoken\n",
            "  Using cached tiktoken-0.5.2-cp38-cp38-macosx_10_9_x86_64.whl (1.0 MB)\n",
            "Requirement already satisfied: requests>=2.26.0 in /Users/yannbuydens/.pyenv/versions/3.8.10/lib/python3.8/site-packages (from tiktoken) (2.31.0)\n",
            "Collecting regex>=2022.1.18\n",
            "  Using cached regex-2023.10.3-cp38-cp38-macosx_10_9_x86_64.whl (296 kB)\n",
            "Requirement already satisfied: urllib3<3,>=1.21.1 in /Users/yannbuydens/.pyenv/versions/3.8.10/lib/python3.8/site-packages (from requests>=2.26.0->tiktoken) (2.1.0)\n",
            "Requirement already satisfied: idna<4,>=2.5 in /Users/yannbuydens/.pyenv/versions/3.8.10/lib/python3.8/site-packages (from requests>=2.26.0->tiktoken) (3.6)\n",
            "Requirement already satisfied: certifi>=2017.4.17 in /Users/yannbuydens/.pyenv/versions/3.8.10/lib/python3.8/site-packages (from requests>=2.26.0->tiktoken) (2023.11.17)\n",
            "Requirement already satisfied: charset-normalizer<4,>=2 in /Users/yannbuydens/.pyenv/versions/3.8.10/lib/python3.8/site-packages (from requests>=2.26.0->tiktoken) (3.3.2)\n",
            "Installing collected packages: regex, tiktoken\n",
            "Successfully installed regex-2023.10.3 tiktoken-0.5.2\n",
            "\u001b[33mWARNING: You are using pip version 21.1.1; however, version 23.3.1 is available.\n",
            "You should consider upgrading via the '/Users/yannbuydens/.pyenv/versions/3.8.10/bin/python3.8 -m pip install --upgrade pip' command.\u001b[0m\n"
          ]
        }
      ],
      "source": [
        "!pip install tiktoken"
      ]
    },
    {
      "cell_type": "code",
      "execution_count": 5,
      "metadata": {
        "jupyter": {
          "outputs_hidden": false,
          "source_hidden": false
        },
        "nteract": {
          "transient": {
            "deleting": false
          }
        }
      },
      "outputs": [
        {
          "name": "stdout",
          "output_type": "stream",
          "text": [
            "Collecting openai\n",
            "  Using cached openai-1.3.8-py3-none-any.whl (221 kB)\n",
            "Collecting distro<2,>=1.7.0\n",
            "  Using cached distro-1.8.0-py3-none-any.whl (20 kB)\n",
            "Collecting anyio<5,>=3.5.0\n",
            "  Downloading anyio-4.1.0-py3-none-any.whl (83 kB)\n",
            "\u001b[K     |████████████████████████████████| 83 kB 3.5 MB/s eta 0:00:01\n",
            "\u001b[?25hCollecting httpx<1,>=0.23.0\n",
            "  Using cached httpx-0.25.2-py3-none-any.whl (74 kB)\n",
            "Collecting tqdm>4\n",
            "  Using cached tqdm-4.66.1-py3-none-any.whl (78 kB)\n",
            "Requirement already satisfied: typing-extensions<5,>=4.5 in /Users/yannbuydens/.pyenv/versions/3.8.10/lib/python3.8/site-packages (from openai) (4.9.0)\n",
            "Collecting sniffio\n",
            "  Using cached sniffio-1.3.0-py3-none-any.whl (10 kB)\n",
            "Collecting pydantic<3,>=1.9.0\n",
            "  Using cached pydantic-2.5.2-py3-none-any.whl (381 kB)\n",
            "Requirement already satisfied: idna>=2.8 in /Users/yannbuydens/.pyenv/versions/3.8.10/lib/python3.8/site-packages (from anyio<5,>=3.5.0->openai) (3.6)\n",
            "Collecting exceptiongroup>=1.0.2\n",
            "  Using cached exceptiongroup-1.2.0-py3-none-any.whl (16 kB)\n",
            "Requirement already satisfied: certifi in /Users/yannbuydens/.pyenv/versions/3.8.10/lib/python3.8/site-packages (from httpx<1,>=0.23.0->openai) (2023.11.17)\n",
            "Collecting httpcore==1.*\n",
            "  Using cached httpcore-1.0.2-py3-none-any.whl (76 kB)\n",
            "Collecting h11<0.15,>=0.13\n",
            "  Using cached h11-0.14.0-py3-none-any.whl (58 kB)\n",
            "Collecting pydantic-core==2.14.5\n",
            "  Using cached pydantic_core-2.14.5-cp38-cp38-macosx_10_7_x86_64.whl (1.9 MB)\n",
            "Collecting annotated-types>=0.4.0\n",
            "  Using cached annotated_types-0.6.0-py3-none-any.whl (12 kB)\n",
            "Installing collected packages: sniffio, h11, exceptiongroup, pydantic-core, httpcore, anyio, annotated-types, tqdm, pydantic, httpx, distro, openai\n",
            "Successfully installed annotated-types-0.6.0 anyio-4.1.0 distro-1.8.0 exceptiongroup-1.2.0 h11-0.14.0 httpcore-1.0.2 httpx-0.25.2 openai-1.3.8 pydantic-2.5.2 pydantic-core-2.14.5 sniffio-1.3.0 tqdm-4.66.1\n",
            "\u001b[33mWARNING: You are using pip version 21.1.1; however, version 23.3.1 is available.\n",
            "You should consider upgrading via the '/Users/yannbuydens/.pyenv/versions/3.8.10/bin/python3.8 -m pip install --upgrade pip' command.\u001b[0m\n"
          ]
        }
      ],
      "source": [
        "!pip install openai"
      ]
    },
    {
      "cell_type": "markdown",
      "metadata": {
        "nteract": {
          "transient": {
            "deleting": false
          }
        }
      },
      "source": [
        "### Setup Keyvault"
      ]
    },
    {
      "cell_type": "code",
      "execution_count": 6,
      "metadata": {
        "gather": {
          "logged": 1702230031295
        },
        "jupyter": {
          "outputs_hidden": false,
          "source_hidden": false
        },
        "nteract": {
          "transient": {
            "deleting": false
          }
        }
      },
      "outputs": [
        {
          "name": "stderr",
          "output_type": "stream",
          "text": [
            "DefaultAzureCredential failed to retrieve a token from the included credentials.\n",
            "Attempted credentials:\n",
            "\tEnvironmentCredential: EnvironmentCredential authentication unavailable. Environment variables are not fully configured.\n",
            "Visit https://aka.ms/azsdk/python/identity/environmentcredential/troubleshoot to troubleshoot this issue.\n",
            "\tManagedIdentityCredential: ManagedIdentityCredential authentication unavailable, no response from the IMDS endpoint.\n",
            "\tSharedTokenCacheCredential: SharedTokenCacheCredential authentication unavailable. No accounts were found in the cache.\n",
            "\tAzureCliCredential: Azure CLI not found on path\n",
            "\tAzurePowerShellCredential: PowerShell is not installed\n",
            "\tAzureDeveloperCliCredential: Azure Developer CLI could not be found. Please visit https://aka.ms/azure-dev for installation instructions and then,once installed, authenticate to your Azure account using 'azd auth login'.\n",
            "To mitigate this issue, please refer to the troubleshooting guidelines here at https://aka.ms/azsdk/python/identity/defaultazurecredential/troubleshoot.\n"
          ]
        },
        {
          "ename": "ClientAuthenticationError",
          "evalue": "DefaultAzureCredential failed to retrieve a token from the included credentials.\nAttempted credentials:\n\tEnvironmentCredential: EnvironmentCredential authentication unavailable. Environment variables are not fully configured.\nVisit https://aka.ms/azsdk/python/identity/environmentcredential/troubleshoot to troubleshoot this issue.\n\tManagedIdentityCredential: ManagedIdentityCredential authentication unavailable, no response from the IMDS endpoint.\n\tSharedTokenCacheCredential: SharedTokenCacheCredential authentication unavailable. No accounts were found in the cache.\n\tAzureCliCredential: Azure CLI not found on path\n\tAzurePowerShellCredential: PowerShell is not installed\n\tAzureDeveloperCliCredential: Azure Developer CLI could not be found. Please visit https://aka.ms/azure-dev for installation instructions and then,once installed, authenticate to your Azure account using 'azd auth login'.\nTo mitigate this issue, please refer to the troubleshooting guidelines here at https://aka.ms/azsdk/python/identity/defaultazurecredential/troubleshoot.",
          "output_type": "error",
          "traceback": [
            "\u001b[0;31m---------------------------------------------------------------------------\u001b[0m",
            "\u001b[0;31mClientAuthenticationError\u001b[0m                 Traceback (most recent call last)",
            "\u001b[1;32m/Users/yannbuydens/p/llmfaq/aml/write_neo4j_qa.ipynb Cell 8\u001b[0m line \u001b[0;36m1\n\u001b[1;32m      <a href='vscode-notebook-cell:/Users/yannbuydens/p/llmfaq/aml/write_neo4j_qa.ipynb#X10sZmlsZQ%3D%3D?line=7'>8</a>\u001b[0m client \u001b[39m=\u001b[39m SecretClient(vault_url\u001b[39m=\u001b[39mkv_uri, credential\u001b[39m=\u001b[39mcredential)\n\u001b[1;32m     <a href='vscode-notebook-cell:/Users/yannbuydens/p/llmfaq/aml/write_neo4j_qa.ipynb#X10sZmlsZQ%3D%3D?line=9'>10</a>\u001b[0m \u001b[39m# Now you can use neo4j_url, neo4j_port, and neo4j_password in your application\u001b[39;00m\n\u001b[0;32m---> <a href='vscode-notebook-cell:/Users/yannbuydens/p/llmfaq/aml/write_neo4j_qa.ipynb#X10sZmlsZQ%3D%3D?line=10'>11</a>\u001b[0m neo4j_url \u001b[39m=\u001b[39m client\u001b[39m.\u001b[39;49mget_secret(\u001b[39m\"\u001b[39;49m\u001b[39mNEO4JURL\u001b[39;49m\u001b[39m\"\u001b[39;49m)\u001b[39m.\u001b[39mvalue\n\u001b[1;32m     <a href='vscode-notebook-cell:/Users/yannbuydens/p/llmfaq/aml/write_neo4j_qa.ipynb#X10sZmlsZQ%3D%3D?line=11'>12</a>\u001b[0m neo4j_user \u001b[39m=\u001b[39m client\u001b[39m.\u001b[39mget_secret(\u001b[39m\"\u001b[39m\u001b[39mNEO4JUSER\u001b[39m\u001b[39m\"\u001b[39m)\u001b[39m.\u001b[39mvalue\n\u001b[1;32m     <a href='vscode-notebook-cell:/Users/yannbuydens/p/llmfaq/aml/write_neo4j_qa.ipynb#X10sZmlsZQ%3D%3D?line=12'>13</a>\u001b[0m neo4j_password \u001b[39m=\u001b[39m client\u001b[39m.\u001b[39mget_secret(\u001b[39m\"\u001b[39m\u001b[39mNEO4JPASSWORD\u001b[39m\u001b[39m\"\u001b[39m)\u001b[39m.\u001b[39mvalue\n",
            "File \u001b[0;32m~/.pyenv/versions/3.8.10/lib/python3.8/site-packages/azure/core/tracing/decorator.py:78\u001b[0m, in \u001b[0;36mdistributed_trace.<locals>.decorator.<locals>.wrapper_use_tracer\u001b[0;34m(*args, **kwargs)\u001b[0m\n\u001b[1;32m     76\u001b[0m span_impl_type \u001b[39m=\u001b[39m settings\u001b[39m.\u001b[39mtracing_implementation()\n\u001b[1;32m     77\u001b[0m \u001b[39mif\u001b[39;00m span_impl_type \u001b[39mis\u001b[39;00m \u001b[39mNone\u001b[39;00m:\n\u001b[0;32m---> 78\u001b[0m     \u001b[39mreturn\u001b[39;00m func(\u001b[39m*\u001b[39;49margs, \u001b[39m*\u001b[39;49m\u001b[39m*\u001b[39;49mkwargs)\n\u001b[1;32m     80\u001b[0m \u001b[39m# Merge span is parameter is set, but only if no explicit parent are passed\u001b[39;00m\n\u001b[1;32m     81\u001b[0m \u001b[39mif\u001b[39;00m merge_span \u001b[39mand\u001b[39;00m \u001b[39mnot\u001b[39;00m passed_in_parent:\n",
            "File \u001b[0;32m~/.pyenv/versions/3.8.10/lib/python3.8/site-packages/azure/keyvault/secrets/_client.py:72\u001b[0m, in \u001b[0;36mSecretClient.get_secret\u001b[0;34m(self, name, version, **kwargs)\u001b[0m\n\u001b[1;32m     51\u001b[0m \u001b[39m@distributed_trace\u001b[39m\n\u001b[1;32m     52\u001b[0m \u001b[39mdef\u001b[39;00m \u001b[39mget_secret\u001b[39m(\u001b[39mself\u001b[39m, name: \u001b[39mstr\u001b[39m, version: \u001b[39m\"\u001b[39m\u001b[39mOptional[str]\u001b[39m\u001b[39m\"\u001b[39m \u001b[39m=\u001b[39m \u001b[39mNone\u001b[39;00m, \u001b[39m*\u001b[39m\u001b[39m*\u001b[39mkwargs) \u001b[39m-\u001b[39m\u001b[39m>\u001b[39m KeyVaultSecret:\n\u001b[1;32m     53\u001b[0m \u001b[39m    \u001b[39m\u001b[39m\"\"\"Get a secret. Requires the secrets/get permission.\u001b[39;00m\n\u001b[1;32m     54\u001b[0m \n\u001b[1;32m     55\u001b[0m \u001b[39m    :param str name: The name of the secret\u001b[39;00m\n\u001b[0;32m   (...)\u001b[0m\n\u001b[1;32m     70\u001b[0m \u001b[39m            :dedent: 8\u001b[39;00m\n\u001b[1;32m     71\u001b[0m \u001b[39m    \"\"\"\u001b[39;00m\n\u001b[0;32m---> 72\u001b[0m     bundle \u001b[39m=\u001b[39m \u001b[39mself\u001b[39;49m\u001b[39m.\u001b[39;49m_client\u001b[39m.\u001b[39;49mget_secret(\n\u001b[1;32m     73\u001b[0m         vault_base_url\u001b[39m=\u001b[39;49m\u001b[39mself\u001b[39;49m\u001b[39m.\u001b[39;49m_vault_url,\n\u001b[1;32m     74\u001b[0m         secret_name\u001b[39m=\u001b[39;49mname,\n\u001b[1;32m     75\u001b[0m         secret_version\u001b[39m=\u001b[39;49mversion \u001b[39mor\u001b[39;49;00m \u001b[39m\"\u001b[39;49m\u001b[39m\"\u001b[39;49m,\n\u001b[1;32m     76\u001b[0m         error_map\u001b[39m=\u001b[39;49m_error_map,\n\u001b[1;32m     77\u001b[0m         \u001b[39m*\u001b[39;49m\u001b[39m*\u001b[39;49mkwargs\n\u001b[1;32m     78\u001b[0m     )\n\u001b[1;32m     79\u001b[0m     \u001b[39mreturn\u001b[39;00m KeyVaultSecret\u001b[39m.\u001b[39m_from_secret_bundle(bundle)\n",
            "File \u001b[0;32m~/.pyenv/versions/3.8.10/lib/python3.8/site-packages/azure/keyvault/secrets/_generated/_operations_mixin.py:1640\u001b[0m, in \u001b[0;36mKeyVaultClientOperationsMixin.get_secret\u001b[0;34m(self, vault_base_url, secret_name, secret_version, **kwargs)\u001b[0m\n\u001b[1;32m   1638\u001b[0m mixin_instance\u001b[39m.\u001b[39m_serialize\u001b[39m.\u001b[39mclient_side_validation \u001b[39m=\u001b[39m \u001b[39mFalse\u001b[39;00m\n\u001b[1;32m   1639\u001b[0m mixin_instance\u001b[39m.\u001b[39m_deserialize \u001b[39m=\u001b[39m Deserializer(\u001b[39mself\u001b[39m\u001b[39m.\u001b[39m_models_dict(api_version))\n\u001b[0;32m-> 1640\u001b[0m \u001b[39mreturn\u001b[39;00m mixin_instance\u001b[39m.\u001b[39;49mget_secret(vault_base_url, secret_name, secret_version, \u001b[39m*\u001b[39;49m\u001b[39m*\u001b[39;49mkwargs)\n",
            "File \u001b[0;32m~/.pyenv/versions/3.8.10/lib/python3.8/site-packages/azure/core/tracing/decorator.py:78\u001b[0m, in \u001b[0;36mdistributed_trace.<locals>.decorator.<locals>.wrapper_use_tracer\u001b[0;34m(*args, **kwargs)\u001b[0m\n\u001b[1;32m     76\u001b[0m span_impl_type \u001b[39m=\u001b[39m settings\u001b[39m.\u001b[39mtracing_implementation()\n\u001b[1;32m     77\u001b[0m \u001b[39mif\u001b[39;00m span_impl_type \u001b[39mis\u001b[39;00m \u001b[39mNone\u001b[39;00m:\n\u001b[0;32m---> 78\u001b[0m     \u001b[39mreturn\u001b[39;00m func(\u001b[39m*\u001b[39;49margs, \u001b[39m*\u001b[39;49m\u001b[39m*\u001b[39;49mkwargs)\n\u001b[1;32m     80\u001b[0m \u001b[39m# Merge span is parameter is set, but only if no explicit parent are passed\u001b[39;00m\n\u001b[1;32m     81\u001b[0m \u001b[39mif\u001b[39;00m merge_span \u001b[39mand\u001b[39;00m \u001b[39mnot\u001b[39;00m passed_in_parent:\n",
            "File \u001b[0;32m~/.pyenv/versions/3.8.10/lib/python3.8/site-packages/azure/keyvault/secrets/_generated/v7_4/operations/_key_vault_client_operations.py:760\u001b[0m, in \u001b[0;36mKeyVaultClientOperationsMixin.get_secret\u001b[0;34m(self, vault_base_url, secret_name, secret_version, **kwargs)\u001b[0m\n\u001b[1;32m    755\u001b[0m path_format_arguments \u001b[39m=\u001b[39m {\n\u001b[1;32m    756\u001b[0m     \u001b[39m\"\u001b[39m\u001b[39mvaultBaseUrl\u001b[39m\u001b[39m\"\u001b[39m: \u001b[39mself\u001b[39m\u001b[39m.\u001b[39m_serialize\u001b[39m.\u001b[39murl(\u001b[39m\"\u001b[39m\u001b[39mvault_base_url\u001b[39m\u001b[39m\"\u001b[39m, vault_base_url, \u001b[39m\"\u001b[39m\u001b[39mstr\u001b[39m\u001b[39m\"\u001b[39m, skip_quote\u001b[39m=\u001b[39m\u001b[39mTrue\u001b[39;00m),\n\u001b[1;32m    757\u001b[0m }\n\u001b[1;32m    758\u001b[0m request\u001b[39m.\u001b[39murl \u001b[39m=\u001b[39m \u001b[39mself\u001b[39m\u001b[39m.\u001b[39m_client\u001b[39m.\u001b[39mformat_url(request\u001b[39m.\u001b[39murl, \u001b[39m*\u001b[39m\u001b[39m*\u001b[39mpath_format_arguments)\n\u001b[0;32m--> 760\u001b[0m pipeline_response: PipelineResponse \u001b[39m=\u001b[39m \u001b[39mself\u001b[39;49m\u001b[39m.\u001b[39;49m_client\u001b[39m.\u001b[39;49m_pipeline\u001b[39m.\u001b[39;49mrun(  \u001b[39m# pylint: disable=protected-access\u001b[39;49;00m\n\u001b[1;32m    761\u001b[0m     request, stream\u001b[39m=\u001b[39;49m\u001b[39mFalse\u001b[39;49;00m, \u001b[39m*\u001b[39;49m\u001b[39m*\u001b[39;49mkwargs\n\u001b[1;32m    762\u001b[0m )\n\u001b[1;32m    764\u001b[0m response \u001b[39m=\u001b[39m pipeline_response\u001b[39m.\u001b[39mhttp_response\n\u001b[1;32m    766\u001b[0m \u001b[39mif\u001b[39;00m response\u001b[39m.\u001b[39mstatus_code \u001b[39mnot\u001b[39;00m \u001b[39min\u001b[39;00m [\u001b[39m200\u001b[39m]:\n",
            "File \u001b[0;32m~/.pyenv/versions/3.8.10/lib/python3.8/site-packages/azure/core/pipeline/_base.py:230\u001b[0m, in \u001b[0;36mPipeline.run\u001b[0;34m(self, request, **kwargs)\u001b[0m\n\u001b[1;32m    228\u001b[0m pipeline_request: PipelineRequest[HTTPRequestType] \u001b[39m=\u001b[39m PipelineRequest(request, context)\n\u001b[1;32m    229\u001b[0m first_node \u001b[39m=\u001b[39m \u001b[39mself\u001b[39m\u001b[39m.\u001b[39m_impl_policies[\u001b[39m0\u001b[39m] \u001b[39mif\u001b[39;00m \u001b[39mself\u001b[39m\u001b[39m.\u001b[39m_impl_policies \u001b[39melse\u001b[39;00m _TransportRunner(\u001b[39mself\u001b[39m\u001b[39m.\u001b[39m_transport)\n\u001b[0;32m--> 230\u001b[0m \u001b[39mreturn\u001b[39;00m first_node\u001b[39m.\u001b[39;49msend(pipeline_request)\n",
            "File \u001b[0;32m~/.pyenv/versions/3.8.10/lib/python3.8/site-packages/azure/core/pipeline/_base.py:86\u001b[0m, in \u001b[0;36m_SansIOHTTPPolicyRunner.send\u001b[0;34m(self, request)\u001b[0m\n\u001b[1;32m     84\u001b[0m _await_result(\u001b[39mself\u001b[39m\u001b[39m.\u001b[39m_policy\u001b[39m.\u001b[39mon_request, request)\n\u001b[1;32m     85\u001b[0m \u001b[39mtry\u001b[39;00m:\n\u001b[0;32m---> 86\u001b[0m     response \u001b[39m=\u001b[39m \u001b[39mself\u001b[39;49m\u001b[39m.\u001b[39;49mnext\u001b[39m.\u001b[39;49msend(request)\n\u001b[1;32m     87\u001b[0m \u001b[39mexcept\u001b[39;00m \u001b[39mException\u001b[39;00m:  \u001b[39m# pylint: disable=broad-except\u001b[39;00m\n\u001b[1;32m     88\u001b[0m     _await_result(\u001b[39mself\u001b[39m\u001b[39m.\u001b[39m_policy\u001b[39m.\u001b[39mon_exception, request)\n",
            "File \u001b[0;32m~/.pyenv/versions/3.8.10/lib/python3.8/site-packages/azure/core/pipeline/_base.py:86\u001b[0m, in \u001b[0;36m_SansIOHTTPPolicyRunner.send\u001b[0;34m(self, request)\u001b[0m\n\u001b[1;32m     84\u001b[0m _await_result(\u001b[39mself\u001b[39m\u001b[39m.\u001b[39m_policy\u001b[39m.\u001b[39mon_request, request)\n\u001b[1;32m     85\u001b[0m \u001b[39mtry\u001b[39;00m:\n\u001b[0;32m---> 86\u001b[0m     response \u001b[39m=\u001b[39m \u001b[39mself\u001b[39;49m\u001b[39m.\u001b[39;49mnext\u001b[39m.\u001b[39;49msend(request)\n\u001b[1;32m     87\u001b[0m \u001b[39mexcept\u001b[39;00m \u001b[39mException\u001b[39;00m:  \u001b[39m# pylint: disable=broad-except\u001b[39;00m\n\u001b[1;32m     88\u001b[0m     _await_result(\u001b[39mself\u001b[39m\u001b[39m.\u001b[39m_policy\u001b[39m.\u001b[39mon_exception, request)\n",
            "    \u001b[0;31m[... skipping similar frames: _SansIOHTTPPolicyRunner.send at line 86 (2 times)]\u001b[0m\n",
            "File \u001b[0;32m~/.pyenv/versions/3.8.10/lib/python3.8/site-packages/azure/core/pipeline/_base.py:86\u001b[0m, in \u001b[0;36m_SansIOHTTPPolicyRunner.send\u001b[0;34m(self, request)\u001b[0m\n\u001b[1;32m     84\u001b[0m _await_result(\u001b[39mself\u001b[39m\u001b[39m.\u001b[39m_policy\u001b[39m.\u001b[39mon_request, request)\n\u001b[1;32m     85\u001b[0m \u001b[39mtry\u001b[39;00m:\n\u001b[0;32m---> 86\u001b[0m     response \u001b[39m=\u001b[39m \u001b[39mself\u001b[39;49m\u001b[39m.\u001b[39;49mnext\u001b[39m.\u001b[39;49msend(request)\n\u001b[1;32m     87\u001b[0m \u001b[39mexcept\u001b[39;00m \u001b[39mException\u001b[39;00m:  \u001b[39m# pylint: disable=broad-except\u001b[39;00m\n\u001b[1;32m     88\u001b[0m     _await_result(\u001b[39mself\u001b[39m\u001b[39m.\u001b[39m_policy\u001b[39m.\u001b[39mon_exception, request)\n",
            "File \u001b[0;32m~/.pyenv/versions/3.8.10/lib/python3.8/site-packages/azure/core/pipeline/policies/_redirect.py:197\u001b[0m, in \u001b[0;36mRedirectPolicy.send\u001b[0;34m(self, request)\u001b[0m\n\u001b[1;32m    195\u001b[0m original_domain \u001b[39m=\u001b[39m get_domain(request\u001b[39m.\u001b[39mhttp_request\u001b[39m.\u001b[39murl) \u001b[39mif\u001b[39;00m redirect_settings[\u001b[39m\"\u001b[39m\u001b[39mallow\u001b[39m\u001b[39m\"\u001b[39m] \u001b[39melse\u001b[39;00m \u001b[39mNone\u001b[39;00m\n\u001b[1;32m    196\u001b[0m \u001b[39mwhile\u001b[39;00m retryable:\n\u001b[0;32m--> 197\u001b[0m     response \u001b[39m=\u001b[39m \u001b[39mself\u001b[39;49m\u001b[39m.\u001b[39;49mnext\u001b[39m.\u001b[39;49msend(request)\n\u001b[1;32m    198\u001b[0m     redirect_location \u001b[39m=\u001b[39m \u001b[39mself\u001b[39m\u001b[39m.\u001b[39mget_redirect_location(response)\n\u001b[1;32m    199\u001b[0m     \u001b[39mif\u001b[39;00m redirect_location \u001b[39mand\u001b[39;00m redirect_settings[\u001b[39m\"\u001b[39m\u001b[39mallow\u001b[39m\u001b[39m\"\u001b[39m]:\n",
            "File \u001b[0;32m~/.pyenv/versions/3.8.10/lib/python3.8/site-packages/azure/core/pipeline/policies/_retry.py:531\u001b[0m, in \u001b[0;36mRetryPolicy.send\u001b[0;34m(self, request)\u001b[0m\n\u001b[1;32m    529\u001b[0m \u001b[39mtry\u001b[39;00m:\n\u001b[1;32m    530\u001b[0m     \u001b[39mself\u001b[39m\u001b[39m.\u001b[39m_configure_timeout(request, absolute_timeout, is_response_error)\n\u001b[0;32m--> 531\u001b[0m     response \u001b[39m=\u001b[39m \u001b[39mself\u001b[39;49m\u001b[39m.\u001b[39;49mnext\u001b[39m.\u001b[39;49msend(request)\n\u001b[1;32m    532\u001b[0m     \u001b[39mif\u001b[39;00m \u001b[39mself\u001b[39m\u001b[39m.\u001b[39mis_retry(retry_settings, response):\n\u001b[1;32m    533\u001b[0m         retry_active \u001b[39m=\u001b[39m \u001b[39mself\u001b[39m\u001b[39m.\u001b[39mincrement(retry_settings, response\u001b[39m=\u001b[39mresponse)\n",
            "File \u001b[0;32m~/.pyenv/versions/3.8.10/lib/python3.8/site-packages/azure/core/pipeline/policies/_authentication.py:135\u001b[0m, in \u001b[0;36mBearerTokenCredentialPolicy.send\u001b[0;34m(self, request)\u001b[0m\n\u001b[1;32m    133\u001b[0m \u001b[39mself\u001b[39m\u001b[39m.\u001b[39m_token \u001b[39m=\u001b[39m \u001b[39mNone\u001b[39;00m  \u001b[39m# any cached token is invalid\u001b[39;00m\n\u001b[1;32m    134\u001b[0m \u001b[39mif\u001b[39;00m \u001b[39m\"\u001b[39m\u001b[39mWWW-Authenticate\u001b[39m\u001b[39m\"\u001b[39m \u001b[39min\u001b[39;00m response\u001b[39m.\u001b[39mhttp_response\u001b[39m.\u001b[39mheaders:\n\u001b[0;32m--> 135\u001b[0m     request_authorized \u001b[39m=\u001b[39m \u001b[39mself\u001b[39;49m\u001b[39m.\u001b[39;49mon_challenge(request, response)\n\u001b[1;32m    136\u001b[0m     \u001b[39mif\u001b[39;00m request_authorized:\n\u001b[1;32m    137\u001b[0m         \u001b[39m# if we receive a challenge response, we retrieve a new token\u001b[39;00m\n\u001b[1;32m    138\u001b[0m         \u001b[39m# which matches the new target. In this case, we don't want to remove\u001b[39;00m\n\u001b[1;32m    139\u001b[0m         \u001b[39m# token from the request so clear the 'insecure_domain_change' tag\u001b[39;00m\n\u001b[1;32m    140\u001b[0m         request\u001b[39m.\u001b[39mcontext\u001b[39m.\u001b[39moptions\u001b[39m.\u001b[39mpop(\u001b[39m\"\u001b[39m\u001b[39minsecure_domain_change\u001b[39m\u001b[39m\"\u001b[39m, \u001b[39mFalse\u001b[39;00m)\n",
            "File \u001b[0;32m~/.pyenv/versions/3.8.10/lib/python3.8/site-packages/azure/keyvault/secrets/_shared/challenge_auth_policy.py:112\u001b[0m, in \u001b[0;36mChallengeAuthPolicy.on_challenge\u001b[0;34m(self, request, response)\u001b[0m\n\u001b[1;32m    110\u001b[0m body \u001b[39m=\u001b[39m request\u001b[39m.\u001b[39mcontext\u001b[39m.\u001b[39mpop(\u001b[39m\"\u001b[39m\u001b[39mkey_vault_request_data\u001b[39m\u001b[39m\"\u001b[39m, \u001b[39mNone\u001b[39;00m)\n\u001b[1;32m    111\u001b[0m request\u001b[39m.\u001b[39mhttp_request\u001b[39m.\u001b[39mset_text_body(body)  \u001b[39m# no-op when text is None\u001b[39;00m\n\u001b[0;32m--> 112\u001b[0m \u001b[39mself\u001b[39;49m\u001b[39m.\u001b[39;49mauthorize_request(request, scope, tenant_id\u001b[39m=\u001b[39;49mchallenge\u001b[39m.\u001b[39;49mtenant_id)\n\u001b[1;32m    114\u001b[0m \u001b[39mreturn\u001b[39;00m \u001b[39mTrue\u001b[39;00m\n",
            "File \u001b[0;32m~/.pyenv/versions/3.8.10/lib/python3.8/site-packages/azure/core/pipeline/policies/_authentication.py:113\u001b[0m, in \u001b[0;36mBearerTokenCredentialPolicy.authorize_request\u001b[0;34m(self, request, *scopes, **kwargs)\u001b[0m\n\u001b[1;32m    111\u001b[0m \u001b[39mif\u001b[39;00m \u001b[39mself\u001b[39m\u001b[39m.\u001b[39m_enable_cae:\n\u001b[1;32m    112\u001b[0m     kwargs\u001b[39m.\u001b[39msetdefault(\u001b[39m\"\u001b[39m\u001b[39menable_cae\u001b[39m\u001b[39m\"\u001b[39m, \u001b[39mself\u001b[39m\u001b[39m.\u001b[39m_enable_cae)\n\u001b[0;32m--> 113\u001b[0m \u001b[39mself\u001b[39m\u001b[39m.\u001b[39m_token \u001b[39m=\u001b[39m \u001b[39mself\u001b[39;49m\u001b[39m.\u001b[39;49m_credential\u001b[39m.\u001b[39;49mget_token(\u001b[39m*\u001b[39;49mscopes, \u001b[39m*\u001b[39;49m\u001b[39m*\u001b[39;49mkwargs)\n\u001b[1;32m    114\u001b[0m \u001b[39mself\u001b[39m\u001b[39m.\u001b[39m_update_headers(request\u001b[39m.\u001b[39mhttp_request\u001b[39m.\u001b[39mheaders, \u001b[39mself\u001b[39m\u001b[39m.\u001b[39m_token\u001b[39m.\u001b[39mtoken)\n",
            "File \u001b[0;32m~/.pyenv/versions/3.8.10/lib/python3.8/site-packages/azure/identity/_credentials/default.py:225\u001b[0m, in \u001b[0;36mDefaultAzureCredential.get_token\u001b[0;34m(self, claims, tenant_id, *scopes, **kwargs)\u001b[0m\n\u001b[1;32m    223\u001b[0m     \u001b[39mreturn\u001b[39;00m token\n\u001b[1;32m    224\u001b[0m within_dac\u001b[39m.\u001b[39mset(\u001b[39mTrue\u001b[39;00m)\n\u001b[0;32m--> 225\u001b[0m token \u001b[39m=\u001b[39m \u001b[39msuper\u001b[39;49m()\u001b[39m.\u001b[39;49mget_token(\u001b[39m*\u001b[39;49mscopes, claims\u001b[39m=\u001b[39;49mclaims, tenant_id\u001b[39m=\u001b[39;49mtenant_id, \u001b[39m*\u001b[39;49m\u001b[39m*\u001b[39;49mkwargs)\n\u001b[1;32m    226\u001b[0m within_dac\u001b[39m.\u001b[39mset(\u001b[39mFalse\u001b[39;00m)\n\u001b[1;32m    227\u001b[0m \u001b[39mreturn\u001b[39;00m token\n",
            "File \u001b[0;32m~/.pyenv/versions/3.8.10/lib/python3.8/site-packages/azure/identity/_credentials/chained.py:124\u001b[0m, in \u001b[0;36mChainedTokenCredential.get_token\u001b[0;34m(self, claims, tenant_id, *scopes, **kwargs)\u001b[0m\n\u001b[1;32m    116\u001b[0m message \u001b[39m=\u001b[39m (\n\u001b[1;32m    117\u001b[0m     \u001b[39mself\u001b[39m\u001b[39m.\u001b[39m\u001b[39m__class__\u001b[39m\u001b[39m.\u001b[39m\u001b[39m__name__\u001b[39m\n\u001b[1;32m    118\u001b[0m     \u001b[39m+\u001b[39m \u001b[39m\"\u001b[39m\u001b[39m failed to retrieve a token from the included credentials.\u001b[39m\u001b[39m\"\u001b[39m\n\u001b[0;32m   (...)\u001b[0m\n\u001b[1;32m    121\u001b[0m     \u001b[39m\"\u001b[39m\u001b[39mhttps://aka.ms/azsdk/python/identity/defaultazurecredential/troubleshoot.\u001b[39m\u001b[39m\"\u001b[39m\n\u001b[1;32m    122\u001b[0m )\n\u001b[1;32m    123\u001b[0m _LOGGER\u001b[39m.\u001b[39mwarning(message)\n\u001b[0;32m--> 124\u001b[0m \u001b[39mraise\u001b[39;00m ClientAuthenticationError(message\u001b[39m=\u001b[39mmessage)\n",
            "\u001b[0;31mClientAuthenticationError\u001b[0m: DefaultAzureCredential failed to retrieve a token from the included credentials.\nAttempted credentials:\n\tEnvironmentCredential: EnvironmentCredential authentication unavailable. Environment variables are not fully configured.\nVisit https://aka.ms/azsdk/python/identity/environmentcredential/troubleshoot to troubleshoot this issue.\n\tManagedIdentityCredential: ManagedIdentityCredential authentication unavailable, no response from the IMDS endpoint.\n\tSharedTokenCacheCredential: SharedTokenCacheCredential authentication unavailable. No accounts were found in the cache.\n\tAzureCliCredential: Azure CLI not found on path\n\tAzurePowerShellCredential: PowerShell is not installed\n\tAzureDeveloperCliCredential: Azure Developer CLI could not be found. Please visit https://aka.ms/azure-dev for installation instructions and then,once installed, authenticate to your Azure account using 'azd auth login'.\nTo mitigate this issue, please refer to the troubleshooting guidelines here at https://aka.ms/azsdk/python/identity/defaultazurecredential/troubleshoot."
          ]
        }
      ],
      "source": [
        "from azure.identity import DefaultAzureCredential\n",
        "from azure.keyvault.secrets import SecretClient\n",
        "\n",
        "key_vault_name = \"kv-bsauwmno\"\n",
        "kv_uri = f\"https://{key_vault_name}.vault.azure.net/\"\n",
        "\n",
        "credential = DefaultAzureCredential()\n",
        "client = SecretClient(vault_url=kv_uri, credential=credential)\n",
        "\n",
        "# Now you can use neo4j_url, neo4j_port, and neo4j_password in your application\n",
        "neo4j_url = client.get_secret(\"NEO4JURL\").value\n",
        "neo4j_user = client.get_secret(\"NEO4JUSER\").value\n",
        "neo4j_password = client.get_secret(\"NEO4JPASSWORD\").value\n",
        "openai_key = client.get_secret(\"OPENAIKEY\").value"
      ]
    },
    {
      "cell_type": "markdown",
      "metadata": {
        "nteract": {
          "transient": {
            "deleting": false
          }
        }
      },
      "source": [
        "# Define Neo4j Datamodel\n",
        "\n",
        "Using neomodel"
      ]
    },
    {
      "cell_type": "code",
      "execution_count": 2,
      "metadata": {
        "gather": {
          "logged": 1702230032024
        },
        "jupyter": {
          "outputs_hidden": false,
          "source_hidden": false
        },
        "nteract": {
          "transient": {
            "deleting": false
          }
        }
      },
      "outputs": [],
      "source": [
        "from neomodel.core import NodeClassAlreadyDefined\n",
        "from neomodel import (\n",
        "    config, \n",
        "    StructuredNode, \n",
        "    StringProperty, \n",
        "    IntegerProperty,\n",
        "    UniqueIdProperty, \n",
        "    RelationshipTo, \n",
        "    ArrayProperty\n",
        ")\n",
        "from neomodel.contrib import SemiStructuredNode\n",
        "\n",
        "try: \n",
        "    class WebPage(StructuredNode):\n",
        "        webpage_id = IntegerProperty()\n",
        "        url = StringProperty()\n",
        "\n",
        "    class Answer(StructuredNode):\n",
        "        answer_id = IntegerProperty()\n",
        "        text = StringProperty()\n",
        "       \n",
        "        # String, Chunk doesn't exist yet. \n",
        "        # TODO: refine to CHUNK. \n",
        "        document_source = RelationshipTo(WebPage, 'HAS_DOCUMENT_SOURCE')\n",
        "\n",
        "    class Question(StructuredNode):\n",
        "        question_id = IntegerProperty()\n",
        "        text = StringProperty()\n",
        "        text_embedding = ArrayProperty()\n",
        "        embedding_model = StringProperty()\n",
        "        variation_category = StringProperty()\n",
        "\n",
        "        answer = RelationshipTo(Answer, 'HAS_ANSWER')\n",
        "\n",
        "except NodeClassAlreadyDefined as e: \n",
        "    print(\"Classes already defined.\")"
      ]
    },
    {
      "cell_type": "code",
      "execution_count": 3,
      "metadata": {
        "gather": {
          "logged": 1702230035066
        },
        "jupyter": {
          "outputs_hidden": false,
          "source_hidden": false
        },
        "nteract": {
          "transient": {
            "deleting": false
          }
        }
      },
      "outputs": [],
      "source": [
        "from neo4j import GraphDatabase\n",
        "from neomodel import db\n",
        "\n",
        "config.DATABASE_NAME = \"neo4j\"\n",
        "config.DATABASE_URL = (\n",
        "    f\"bolt://{neo4j_user}:{neo4j_password}@\" + \n",
        "    neo4j_url.replace('bolt://', '').replace('/:7687', ':7687/neo4j')\n",
        ")\n",
        "\n",
        "# Using URL - auto-managed\n",
        "db.set_connection(url=config.DATABASE_URL)"
      ]
    },
    {
      "cell_type": "markdown",
      "metadata": {
        "nteract": {
          "transient": {
            "deleting": false
          }
        }
      },
      "source": [
        "# Create QA Dataset\n"
      ]
    },
    {
      "cell_type": "code",
      "execution_count": 10,
      "metadata": {
        "gather": {
          "logged": 1702230146021
        },
        "jupyter": {
          "outputs_hidden": false,
          "source_hidden": false
        },
        "nteract": {
          "transient": {
            "deleting": false
          }
        }
      },
      "outputs": [],
      "source": [
        "import pandas as pd\n",
        "from typing import List\n",
        "from langchain.embeddings import OpenAIEmbeddings\n",
        "\n",
        "embedding_model = \"text-embedding-ada-002\"\n",
        "\n",
        "openai = OpenAIEmbeddings(\n",
        "    openai_api_key=openai_key,\n",
        "    model=embedding_model\n",
        ")\n",
        "\n",
        "question_df = (\n",
        "    pd.read_excel(\n",
        "        './data/qa_dataset.xlsx', \n",
        "        engine=\"openpyxl\",\n",
        "        sheet_name=1\n",
        "    )\n",
        "    .pipe(pd.DataFrame.dropna, subset=['id', 'question', 'answer_id', 'group'])\n",
        ")\n",
        "\n",
        "answer_df = pd.read_excel(\n",
        "    './data/qa_dataset.xlsx', \n",
        "    engine=\"openpyxl\",\n",
        "    sheet_name=2\n",
        ")"
      ]
    },
    {
      "cell_type": "code",
      "execution_count": 11,
      "metadata": {
        "gather": {
          "logged": 1702230160631
        },
        "jupyter": {
          "outputs_hidden": false,
          "source_hidden": false
        },
        "nteract": {
          "transient": {
            "deleting": false
          }
        }
      },
      "outputs": [],
      "source": [
        "from typing import List\n",
        "\n",
        "def embed_column(\n",
        "        df: pd.DataFrame, \n",
        "        col_name: str, \n",
        "        col_name_embedded: str) -> pd.DataFrame:\n",
        "    docs = list(df[col_name])\n",
        "    embeddings: List[List[float]] = openai.embed_documents(texts=docs)\n",
        "    df[col_name_embedded] = embeddings\n",
        "    return df \n",
        "\n",
        "def cast_col(df: pd.DataFrame, col: str, cast_type: str) -> pd.DataFrame:\n",
        "    df[col] = df[col].astype(cast_type)\n",
        "    return df\n",
        "\n",
        "embedded_questions_df = (\n",
        "    question_df.copy(deep=True)\n",
        "    .pipe(\n",
        "        embed_column,\n",
        "        col_name=\"question\", \n",
        "        col_name_embedded=\"question_embedded\"\n",
        "    )\n",
        "    .pipe(cast_col, col='answer_id', cast_type='int64')\n",
        "    .pipe(cast_col, col='id', cast_type='int64')\n",
        ")"
      ]
    },
    {
      "cell_type": "markdown",
      "metadata": {
        "nteract": {
          "transient": {
            "deleting": false
          }
        }
      },
      "source": [
        "# Create Derived Datasets"
      ]
    },
    {
      "cell_type": "markdown",
      "metadata": {
        "nteract": {
          "transient": {
            "deleting": false
          }
        }
      },
      "source": [
        "## Answer Nodes\n",
        "\n",
        "Note: hardcoded to use 1 url for now. "
      ]
    },
    {
      "cell_type": "code",
      "execution_count": 12,
      "metadata": {
        "gather": {
          "logged": 1702230163085
        },
        "jupyter": {
          "outputs_hidden": false,
          "source_hidden": false
        },
        "nteract": {
          "transient": {
            "deleting": false
          }
        }
      },
      "outputs": [
        {
          "data": {
            "text/html": [
              "<div>\n",
              "<style scoped>\n",
              "    .dataframe tbody tr th:only-of-type {\n",
              "        vertical-align: middle;\n",
              "    }\n",
              "\n",
              "    .dataframe tbody tr th {\n",
              "        vertical-align: top;\n",
              "    }\n",
              "\n",
              "    .dataframe thead th {\n",
              "        text-align: right;\n",
              "    }\n",
              "</style>\n",
              "<table border=\"1\" class=\"dataframe\">\n",
              "  <thead>\n",
              "    <tr style=\"text-align: right;\">\n",
              "      <th></th>\n",
              "      <th>id</th>\n",
              "      <th>group</th>\n",
              "      <th>question</th>\n",
              "      <th>answer_id</th>\n",
              "      <th>question_embedded</th>\n",
              "    </tr>\n",
              "  </thead>\n",
              "  <tbody>\n",
              "    <tr>\n",
              "      <th>0</th>\n",
              "      <td>1</td>\n",
              "      <td>time</td>\n",
              "      <td>Is het mogelijk om 8 uur na de geboorte met mi...</td>\n",
              "      <td>1</td>\n",
              "      <td>[0.005267701044878656, -0.01916212564228965, 0...</td>\n",
              "    </tr>\n",
              "    <tr>\n",
              "      <th>1</th>\n",
              "      <td>2</td>\n",
              "      <td>time</td>\n",
              "      <td>Kan ik met mijn pasgeboren baby 12 uur na de g...</td>\n",
              "      <td>1</td>\n",
              "      <td>[0.003690805873760612, -0.014750647847488607, ...</td>\n",
              "    </tr>\n",
              "    <tr>\n",
              "      <th>2</th>\n",
              "      <td>3</td>\n",
              "      <td>time</td>\n",
              "      <td>Is het toegestaan om 10 uur na de bevalling he...</td>\n",
              "      <td>1</td>\n",
              "      <td>[0.009526361639722546, -0.028477197298947928, ...</td>\n",
              "    </tr>\n",
              "    <tr>\n",
              "      <th>3</th>\n",
              "      <td>4</td>\n",
              "      <td>time</td>\n",
              "      <td>Mag ik 15 uur na de geboorte van mijn kind het...</td>\n",
              "      <td>1</td>\n",
              "      <td>[0.01572584320743565, -0.011663864069330074, 0...</td>\n",
              "    </tr>\n",
              "    <tr>\n",
              "      <th>4</th>\n",
              "      <td>5</td>\n",
              "      <td>time</td>\n",
              "      <td>Kan ik 30 uur na de geboorte met mijn baby het...</td>\n",
              "      <td>1</td>\n",
              "      <td>[0.011793966048119716, -0.019708915948374487, ...</td>\n",
              "    </tr>\n",
              "    <tr>\n",
              "      <th>...</th>\n",
              "      <td>...</td>\n",
              "      <td>...</td>\n",
              "      <td>...</td>\n",
              "      <td>...</td>\n",
              "      <td>...</td>\n",
              "    </tr>\n",
              "    <tr>\n",
              "      <th>594</th>\n",
              "      <td>595</td>\n",
              "      <td>very_low_literacy</td>\n",
              "      <td>Hoe kan ik mijn baby gezond houden?</td>\n",
              "      <td>4</td>\n",
              "      <td>[0.0077082431247685185, -0.010396150609807595,...</td>\n",
              "    </tr>\n",
              "    <tr>\n",
              "      <th>595</th>\n",
              "      <td>596</td>\n",
              "      <td>very_low_literacy</td>\n",
              "      <td>Wat moet ik doen als mijn baby ziek wordt?</td>\n",
              "      <td>4</td>\n",
              "      <td>[0.002168859925441457, -0.012936521014286495, ...</td>\n",
              "    </tr>\n",
              "    <tr>\n",
              "      <th>596</th>\n",
              "      <td>597</td>\n",
              "      <td>very_low_literacy</td>\n",
              "      <td>Hoe kan ik ervoor zorgen dat mijn baby goed gr...</td>\n",
              "      <td>4</td>\n",
              "      <td>[1.5926804948455913e-06, -0.0215753217245767, ...</td>\n",
              "    </tr>\n",
              "    <tr>\n",
              "      <th>597</th>\n",
              "      <td>598</td>\n",
              "      <td>very_low_literacy</td>\n",
              "      <td>Wat als ik denk dat er iets mis is met mijn baby?</td>\n",
              "      <td>4</td>\n",
              "      <td>[0.00448571759604563, -0.010967826476461223, -...</td>\n",
              "    </tr>\n",
              "    <tr>\n",
              "      <th>598</th>\n",
              "      <td>599</td>\n",
              "      <td>very_low_literacy</td>\n",
              "      <td>Waar kan ik meer informatie vinden over de gez...</td>\n",
              "      <td>4</td>\n",
              "      <td>[0.001784576692679307, 0.0015539329249210014, ...</td>\n",
              "    </tr>\n",
              "  </tbody>\n",
              "</table>\n",
              "<p>599 rows × 5 columns</p>\n",
              "</div>"
            ],
            "text/plain": [
              "      id              group  \\\n",
              "0      1               time   \n",
              "1      2               time   \n",
              "2      3               time   \n",
              "3      4               time   \n",
              "4      5               time   \n",
              "..   ...                ...   \n",
              "594  595  very_low_literacy   \n",
              "595  596  very_low_literacy   \n",
              "596  597  very_low_literacy   \n",
              "597  598  very_low_literacy   \n",
              "598  599  very_low_literacy   \n",
              "\n",
              "                                              question  answer_id  \\\n",
              "0    Is het mogelijk om 8 uur na de geboorte met mi...          1   \n",
              "1    Kan ik met mijn pasgeboren baby 12 uur na de g...          1   \n",
              "2    Is het toegestaan om 10 uur na de bevalling he...          1   \n",
              "3    Mag ik 15 uur na de geboorte van mijn kind het...          1   \n",
              "4    Kan ik 30 uur na de geboorte met mijn baby het...          1   \n",
              "..                                                 ...        ...   \n",
              "594                Hoe kan ik mijn baby gezond houden?          4   \n",
              "595         Wat moet ik doen als mijn baby ziek wordt?          4   \n",
              "596  Hoe kan ik ervoor zorgen dat mijn baby goed gr...          4   \n",
              "597  Wat als ik denk dat er iets mis is met mijn baby?          4   \n",
              "598  Waar kan ik meer informatie vinden over de gez...          4   \n",
              "\n",
              "                                     question_embedded  \n",
              "0    [0.005267701044878656, -0.01916212564228965, 0...  \n",
              "1    [0.003690805873760612, -0.014750647847488607, ...  \n",
              "2    [0.009526361639722546, -0.028477197298947928, ...  \n",
              "3    [0.01572584320743565, -0.011663864069330074, 0...  \n",
              "4    [0.011793966048119716, -0.019708915948374487, ...  \n",
              "..                                                 ...  \n",
              "594  [0.0077082431247685185, -0.010396150609807595,...  \n",
              "595  [0.002168859925441457, -0.012936521014286495, ...  \n",
              "596  [1.5926804948455913e-06, -0.0215753217245767, ...  \n",
              "597  [0.00448571759604563, -0.010967826476461223, -...  \n",
              "598  [0.001784576692679307, 0.0015539329249210014, ...  \n",
              "\n",
              "[599 rows x 5 columns]"
            ]
          },
          "execution_count": 12,
          "metadata": {},
          "output_type": "execute_result"
        }
      ],
      "source": [
        "embedded_questions_df"
      ]
    },
    {
      "cell_type": "code",
      "execution_count": 13,
      "metadata": {
        "gather": {
          "logged": 1702230172173
        },
        "jupyter": {
          "outputs_hidden": false,
          "source_hidden": false
        },
        "nteract": {
          "transient": {
            "deleting": false
          }
        }
      },
      "outputs": [
        {
          "data": {
            "text/html": [
              "<div>\n",
              "<style scoped>\n",
              "    .dataframe tbody tr th:only-of-type {\n",
              "        vertical-align: middle;\n",
              "    }\n",
              "\n",
              "    .dataframe tbody tr th {\n",
              "        vertical-align: top;\n",
              "    }\n",
              "\n",
              "    .dataframe thead th {\n",
              "        text-align: right;\n",
              "    }\n",
              "</style>\n",
              "<table border=\"1\" class=\"dataframe\">\n",
              "  <thead>\n",
              "    <tr style=\"text-align: right;\">\n",
              "      <th></th>\n",
              "      <th>id</th>\n",
              "      <th>text</th>\n",
              "      <th>source</th>\n",
              "    </tr>\n",
              "  </thead>\n",
              "  <tbody>\n",
              "    <tr>\n",
              "      <th>0</th>\n",
              "      <td>1</td>\n",
              "      <td>Neen, een pasgeboren baby moet de eerste 24 uu...</td>\n",
              "      <td>https://www.azstlucas.be/onderzoek-en-behandel...</td>\n",
              "    </tr>\n",
              "    <tr>\n",
              "      <th>1</th>\n",
              "      <td>2</td>\n",
              "      <td>Uw baby blijft eerste 24 uur na de geboorte in...</td>\n",
              "      <td>https://www.azstlucas.be/onderzoek-en-behandel...</td>\n",
              "    </tr>\n",
              "    <tr>\n",
              "      <th>2</th>\n",
              "      <td>3</td>\n",
              "      <td>Als je baby te vroeg geboren is (tussen 36-37 ...</td>\n",
              "      <td>https://www.azstlucas.be/onderzoek-en-behandel...</td>\n",
              "    </tr>\n",
              "    <tr>\n",
              "      <th>3</th>\n",
              "      <td>4</td>\n",
              "      <td>Na de geboorte kunnen er problemen zoals aange...</td>\n",
              "      <td>https://www.azstlucas.be/onderzoek-en-behandel...</td>\n",
              "    </tr>\n",
              "  </tbody>\n",
              "</table>\n",
              "</div>"
            ],
            "text/plain": [
              "   id                                               text  \\\n",
              "0   1  Neen, een pasgeboren baby moet de eerste 24 uu...   \n",
              "1   2  Uw baby blijft eerste 24 uur na de geboorte in...   \n",
              "2   3  Als je baby te vroeg geboren is (tussen 36-37 ...   \n",
              "3   4  Na de geboorte kunnen er problemen zoals aange...   \n",
              "\n",
              "                                              source  \n",
              "0  https://www.azstlucas.be/onderzoek-en-behandel...  \n",
              "1  https://www.azstlucas.be/onderzoek-en-behandel...  \n",
              "2  https://www.azstlucas.be/onderzoek-en-behandel...  \n",
              "3  https://www.azstlucas.be/onderzoek-en-behandel...  "
            ]
          },
          "execution_count": 13,
          "metadata": {},
          "output_type": "execute_result"
        }
      ],
      "source": [
        "import pandas as pd \n",
        "\n",
        "answers_df = (\n",
        "    answer_df.copy(deep=True)\n",
        "    .pipe(pd.DataFrame.rename, columns={\n",
        "        \"answer\": \"text\"\n",
        "    })\n",
        "    .pipe(pd.DataFrame.drop, ['question'], inplace=False, axis=1)\n",
        ")\n",
        "answers_df\n"
      ]
    },
    {
      "cell_type": "code",
      "execution_count": 14,
      "metadata": {
        "gather": {
          "logged": 1702230174222
        },
        "jupyter": {
          "outputs_hidden": false,
          "source_hidden": false
        },
        "nteract": {
          "transient": {
            "deleting": false
          }
        }
      },
      "outputs": [],
      "source": [
        "for _, obj in answers_df.iterrows():    \n",
        "    a = Answer(\n",
        "        answer_id=obj['id'],\n",
        "        text=obj['text']\n",
        "    )\n",
        "    a.save()"
      ]
    },
    {
      "cell_type": "markdown",
      "metadata": {
        "nteract": {
          "transient": {
            "deleting": false
          }
        }
      },
      "source": [
        "## Answer to WebPage Relationship"
      ]
    },
    {
      "cell_type": "code",
      "execution_count": 15,
      "metadata": {
        "gather": {
          "logged": 1702230180197
        },
        "jupyter": {
          "outputs_hidden": false,
          "source_hidden": false
        },
        "nteract": {
          "transient": {
            "deleting": false
          }
        }
      },
      "outputs": [],
      "source": [
        "# Not much different webpages for now. Single one. \n",
        "\n",
        "for _, obj in answers_df.iterrows():    \n",
        "    answer = Answer.nodes.get(answer_id=obj['id'])\n",
        "    webpage = WebPage.nodes.get(url=obj['source'])\n",
        "    answer.document_source.connect(webpage)"
      ]
    },
    {
      "cell_type": "markdown",
      "metadata": {
        "nteract": {
          "transient": {
            "deleting": false
          }
        }
      },
      "source": [
        "## Question Nodes"
      ]
    },
    {
      "cell_type": "code",
      "execution_count": 16,
      "metadata": {
        "gather": {
          "logged": 1702230215095
        },
        "jupyter": {
          "outputs_hidden": false,
          "source_hidden": false
        },
        "nteract": {
          "transient": {
            "deleting": false
          }
        }
      },
      "outputs": [
        {
          "data": {
            "text/html": [
              "<div>\n",
              "<style scoped>\n",
              "    .dataframe tbody tr th:only-of-type {\n",
              "        vertical-align: middle;\n",
              "    }\n",
              "\n",
              "    .dataframe tbody tr th {\n",
              "        vertical-align: top;\n",
              "    }\n",
              "\n",
              "    .dataframe thead th {\n",
              "        text-align: right;\n",
              "    }\n",
              "</style>\n",
              "<table border=\"1\" class=\"dataframe\">\n",
              "  <thead>\n",
              "    <tr style=\"text-align: right;\">\n",
              "      <th></th>\n",
              "      <th>question_id</th>\n",
              "      <th>variation_category</th>\n",
              "      <th>text</th>\n",
              "      <th>answer_id</th>\n",
              "      <th>text_embedding</th>\n",
              "      <th>model_name</th>\n",
              "    </tr>\n",
              "  </thead>\n",
              "  <tbody>\n",
              "    <tr>\n",
              "      <th>0</th>\n",
              "      <td>1</td>\n",
              "      <td>time</td>\n",
              "      <td>Is het mogelijk om 8 uur na de geboorte met mi...</td>\n",
              "      <td>1</td>\n",
              "      <td>[0.005267701044878656, -0.01916212564228965, 0...</td>\n",
              "      <td>text-embedding-ada-002</td>\n",
              "    </tr>\n",
              "    <tr>\n",
              "      <th>1</th>\n",
              "      <td>2</td>\n",
              "      <td>time</td>\n",
              "      <td>Kan ik met mijn pasgeboren baby 12 uur na de g...</td>\n",
              "      <td>1</td>\n",
              "      <td>[0.003690805873760612, -0.014750647847488607, ...</td>\n",
              "      <td>text-embedding-ada-002</td>\n",
              "    </tr>\n",
              "    <tr>\n",
              "      <th>2</th>\n",
              "      <td>3</td>\n",
              "      <td>time</td>\n",
              "      <td>Is het toegestaan om 10 uur na de bevalling he...</td>\n",
              "      <td>1</td>\n",
              "      <td>[0.009526361639722546, -0.028477197298947928, ...</td>\n",
              "      <td>text-embedding-ada-002</td>\n",
              "    </tr>\n",
              "    <tr>\n",
              "      <th>3</th>\n",
              "      <td>4</td>\n",
              "      <td>time</td>\n",
              "      <td>Mag ik 15 uur na de geboorte van mijn kind het...</td>\n",
              "      <td>1</td>\n",
              "      <td>[0.01572584320743565, -0.011663864069330074, 0...</td>\n",
              "      <td>text-embedding-ada-002</td>\n",
              "    </tr>\n",
              "    <tr>\n",
              "      <th>4</th>\n",
              "      <td>5</td>\n",
              "      <td>time</td>\n",
              "      <td>Kan ik 30 uur na de geboorte met mijn baby het...</td>\n",
              "      <td>1</td>\n",
              "      <td>[0.011793966048119716, -0.019708915948374487, ...</td>\n",
              "      <td>text-embedding-ada-002</td>\n",
              "    </tr>\n",
              "    <tr>\n",
              "      <th>...</th>\n",
              "      <td>...</td>\n",
              "      <td>...</td>\n",
              "      <td>...</td>\n",
              "      <td>...</td>\n",
              "      <td>...</td>\n",
              "      <td>...</td>\n",
              "    </tr>\n",
              "    <tr>\n",
              "      <th>594</th>\n",
              "      <td>595</td>\n",
              "      <td>very_low_literacy</td>\n",
              "      <td>Hoe kan ik mijn baby gezond houden?</td>\n",
              "      <td>4</td>\n",
              "      <td>[0.0077082431247685185, -0.010396150609807595,...</td>\n",
              "      <td>text-embedding-ada-002</td>\n",
              "    </tr>\n",
              "    <tr>\n",
              "      <th>595</th>\n",
              "      <td>596</td>\n",
              "      <td>very_low_literacy</td>\n",
              "      <td>Wat moet ik doen als mijn baby ziek wordt?</td>\n",
              "      <td>4</td>\n",
              "      <td>[0.002168859925441457, -0.012936521014286495, ...</td>\n",
              "      <td>text-embedding-ada-002</td>\n",
              "    </tr>\n",
              "    <tr>\n",
              "      <th>596</th>\n",
              "      <td>597</td>\n",
              "      <td>very_low_literacy</td>\n",
              "      <td>Hoe kan ik ervoor zorgen dat mijn baby goed gr...</td>\n",
              "      <td>4</td>\n",
              "      <td>[1.5926804948455913e-06, -0.0215753217245767, ...</td>\n",
              "      <td>text-embedding-ada-002</td>\n",
              "    </tr>\n",
              "    <tr>\n",
              "      <th>597</th>\n",
              "      <td>598</td>\n",
              "      <td>very_low_literacy</td>\n",
              "      <td>Wat als ik denk dat er iets mis is met mijn baby?</td>\n",
              "      <td>4</td>\n",
              "      <td>[0.00448571759604563, -0.010967826476461223, -...</td>\n",
              "      <td>text-embedding-ada-002</td>\n",
              "    </tr>\n",
              "    <tr>\n",
              "      <th>598</th>\n",
              "      <td>599</td>\n",
              "      <td>very_low_literacy</td>\n",
              "      <td>Waar kan ik meer informatie vinden over de gez...</td>\n",
              "      <td>4</td>\n",
              "      <td>[0.001784576692679307, 0.0015539329249210014, ...</td>\n",
              "      <td>text-embedding-ada-002</td>\n",
              "    </tr>\n",
              "  </tbody>\n",
              "</table>\n",
              "<p>599 rows × 6 columns</p>\n",
              "</div>"
            ],
            "text/plain": [
              "     question_id variation_category  \\\n",
              "0              1               time   \n",
              "1              2               time   \n",
              "2              3               time   \n",
              "3              4               time   \n",
              "4              5               time   \n",
              "..           ...                ...   \n",
              "594          595  very_low_literacy   \n",
              "595          596  very_low_literacy   \n",
              "596          597  very_low_literacy   \n",
              "597          598  very_low_literacy   \n",
              "598          599  very_low_literacy   \n",
              "\n",
              "                                                  text  answer_id  \\\n",
              "0    Is het mogelijk om 8 uur na de geboorte met mi...          1   \n",
              "1    Kan ik met mijn pasgeboren baby 12 uur na de g...          1   \n",
              "2    Is het toegestaan om 10 uur na de bevalling he...          1   \n",
              "3    Mag ik 15 uur na de geboorte van mijn kind het...          1   \n",
              "4    Kan ik 30 uur na de geboorte met mijn baby het...          1   \n",
              "..                                                 ...        ...   \n",
              "594                Hoe kan ik mijn baby gezond houden?          4   \n",
              "595         Wat moet ik doen als mijn baby ziek wordt?          4   \n",
              "596  Hoe kan ik ervoor zorgen dat mijn baby goed gr...          4   \n",
              "597  Wat als ik denk dat er iets mis is met mijn baby?          4   \n",
              "598  Waar kan ik meer informatie vinden over de gez...          4   \n",
              "\n",
              "                                        text_embedding              model_name  \n",
              "0    [0.005267701044878656, -0.01916212564228965, 0...  text-embedding-ada-002  \n",
              "1    [0.003690805873760612, -0.014750647847488607, ...  text-embedding-ada-002  \n",
              "2    [0.009526361639722546, -0.028477197298947928, ...  text-embedding-ada-002  \n",
              "3    [0.01572584320743565, -0.011663864069330074, 0...  text-embedding-ada-002  \n",
              "4    [0.011793966048119716, -0.019708915948374487, ...  text-embedding-ada-002  \n",
              "..                                                 ...                     ...  \n",
              "594  [0.0077082431247685185, -0.010396150609807595,...  text-embedding-ada-002  \n",
              "595  [0.002168859925441457, -0.012936521014286495, ...  text-embedding-ada-002  \n",
              "596  [1.5926804948455913e-06, -0.0215753217245767, ...  text-embedding-ada-002  \n",
              "597  [0.00448571759604563, -0.010967826476461223, -...  text-embedding-ada-002  \n",
              "598  [0.001784576692679307, 0.0015539329249210014, ...  text-embedding-ada-002  \n",
              "\n",
              "[599 rows x 6 columns]"
            ]
          },
          "execution_count": 16,
          "metadata": {},
          "output_type": "execute_result"
        }
      ],
      "source": [
        "def add_model(df: pd.DataFrame, name: str) -> pd.DataFrame:\n",
        "    df['model_name'] = name\n",
        "    return df\n",
        "\n",
        "questions_df = (\n",
        "    embedded_questions_df.copy(deep=True)\n",
        "    .pipe(pd.DataFrame.rename, columns={\n",
        "        \"id\": \"question_id\", \n",
        "        \"group\": \"variation_category\", \n",
        "        \"question\": \"text\",\n",
        "        \"question_embedded\": \"text_embedding\", \n",
        "    })\n",
        "    .pipe(add_model, name=embedding_model)\n",
        ")\n",
        "questions_df"
      ]
    },
    {
      "cell_type": "code",
      "execution_count": 17,
      "metadata": {
        "gather": {
          "logged": 1702230256591
        },
        "jupyter": {
          "outputs_hidden": false,
          "source_hidden": false
        },
        "nteract": {
          "transient": {
            "deleting": false
          }
        }
      },
      "outputs": [],
      "source": [
        "for _, obj in questions_df.iterrows():    \n",
        "    q = Question(\n",
        "        question_id=obj['question_id'], \n",
        "        text=obj['text'], \n",
        "        text_embedding=obj['text_embedding'],\n",
        "        embedding_model=obj['model_name'],\n",
        "        variation_category=obj['variation_category']\n",
        "    )\n",
        "    q.save()"
      ]
    },
    {
      "cell_type": "markdown",
      "metadata": {
        "nteract": {
          "transient": {
            "deleting": false
          }
        }
      },
      "source": [
        "# Question to Answer relationships"
      ]
    },
    {
      "cell_type": "code",
      "execution_count": 18,
      "metadata": {
        "gather": {
          "logged": 1702230321227
        },
        "jupyter": {
          "outputs_hidden": false,
          "source_hidden": false
        },
        "nteract": {
          "transient": {
            "deleting": false
          }
        }
      },
      "outputs": [
        {
          "data": {
            "text/html": [
              "<div>\n",
              "<style scoped>\n",
              "    .dataframe tbody tr th:only-of-type {\n",
              "        vertical-align: middle;\n",
              "    }\n",
              "\n",
              "    .dataframe tbody tr th {\n",
              "        vertical-align: top;\n",
              "    }\n",
              "\n",
              "    .dataframe thead th {\n",
              "        text-align: right;\n",
              "    }\n",
              "</style>\n",
              "<table border=\"1\" class=\"dataframe\">\n",
              "  <thead>\n",
              "    <tr style=\"text-align: right;\">\n",
              "      <th></th>\n",
              "      <th>question_id</th>\n",
              "      <th>variation_category</th>\n",
              "      <th>text</th>\n",
              "      <th>answer_id</th>\n",
              "      <th>text_embedding</th>\n",
              "      <th>model_name</th>\n",
              "    </tr>\n",
              "  </thead>\n",
              "  <tbody>\n",
              "    <tr>\n",
              "      <th>0</th>\n",
              "      <td>1</td>\n",
              "      <td>time</td>\n",
              "      <td>Is het mogelijk om 8 uur na de geboorte met mi...</td>\n",
              "      <td>1</td>\n",
              "      <td>[0.005267701044878656, -0.01916212564228965, 0...</td>\n",
              "      <td>text-embedding-ada-002</td>\n",
              "    </tr>\n",
              "    <tr>\n",
              "      <th>1</th>\n",
              "      <td>2</td>\n",
              "      <td>time</td>\n",
              "      <td>Kan ik met mijn pasgeboren baby 12 uur na de g...</td>\n",
              "      <td>1</td>\n",
              "      <td>[0.003690805873760612, -0.014750647847488607, ...</td>\n",
              "      <td>text-embedding-ada-002</td>\n",
              "    </tr>\n",
              "    <tr>\n",
              "      <th>2</th>\n",
              "      <td>3</td>\n",
              "      <td>time</td>\n",
              "      <td>Is het toegestaan om 10 uur na de bevalling he...</td>\n",
              "      <td>1</td>\n",
              "      <td>[0.009526361639722546, -0.028477197298947928, ...</td>\n",
              "      <td>text-embedding-ada-002</td>\n",
              "    </tr>\n",
              "    <tr>\n",
              "      <th>3</th>\n",
              "      <td>4</td>\n",
              "      <td>time</td>\n",
              "      <td>Mag ik 15 uur na de geboorte van mijn kind het...</td>\n",
              "      <td>1</td>\n",
              "      <td>[0.01572584320743565, -0.011663864069330074, 0...</td>\n",
              "      <td>text-embedding-ada-002</td>\n",
              "    </tr>\n",
              "    <tr>\n",
              "      <th>4</th>\n",
              "      <td>5</td>\n",
              "      <td>time</td>\n",
              "      <td>Kan ik 30 uur na de geboorte met mijn baby het...</td>\n",
              "      <td>1</td>\n",
              "      <td>[0.011793966048119716, -0.019708915948374487, ...</td>\n",
              "      <td>text-embedding-ada-002</td>\n",
              "    </tr>\n",
              "    <tr>\n",
              "      <th>...</th>\n",
              "      <td>...</td>\n",
              "      <td>...</td>\n",
              "      <td>...</td>\n",
              "      <td>...</td>\n",
              "      <td>...</td>\n",
              "      <td>...</td>\n",
              "    </tr>\n",
              "    <tr>\n",
              "      <th>594</th>\n",
              "      <td>595</td>\n",
              "      <td>very_low_literacy</td>\n",
              "      <td>Hoe kan ik mijn baby gezond houden?</td>\n",
              "      <td>4</td>\n",
              "      <td>[0.0077082431247685185, -0.010396150609807595,...</td>\n",
              "      <td>text-embedding-ada-002</td>\n",
              "    </tr>\n",
              "    <tr>\n",
              "      <th>595</th>\n",
              "      <td>596</td>\n",
              "      <td>very_low_literacy</td>\n",
              "      <td>Wat moet ik doen als mijn baby ziek wordt?</td>\n",
              "      <td>4</td>\n",
              "      <td>[0.002168859925441457, -0.012936521014286495, ...</td>\n",
              "      <td>text-embedding-ada-002</td>\n",
              "    </tr>\n",
              "    <tr>\n",
              "      <th>596</th>\n",
              "      <td>597</td>\n",
              "      <td>very_low_literacy</td>\n",
              "      <td>Hoe kan ik ervoor zorgen dat mijn baby goed gr...</td>\n",
              "      <td>4</td>\n",
              "      <td>[1.5926804948455913e-06, -0.0215753217245767, ...</td>\n",
              "      <td>text-embedding-ada-002</td>\n",
              "    </tr>\n",
              "    <tr>\n",
              "      <th>597</th>\n",
              "      <td>598</td>\n",
              "      <td>very_low_literacy</td>\n",
              "      <td>Wat als ik denk dat er iets mis is met mijn baby?</td>\n",
              "      <td>4</td>\n",
              "      <td>[0.00448571759604563, -0.010967826476461223, -...</td>\n",
              "      <td>text-embedding-ada-002</td>\n",
              "    </tr>\n",
              "    <tr>\n",
              "      <th>598</th>\n",
              "      <td>599</td>\n",
              "      <td>very_low_literacy</td>\n",
              "      <td>Waar kan ik meer informatie vinden over de gez...</td>\n",
              "      <td>4</td>\n",
              "      <td>[0.001784576692679307, 0.0015539329249210014, ...</td>\n",
              "      <td>text-embedding-ada-002</td>\n",
              "    </tr>\n",
              "  </tbody>\n",
              "</table>\n",
              "<p>599 rows × 6 columns</p>\n",
              "</div>"
            ],
            "text/plain": [
              "     question_id variation_category  \\\n",
              "0              1               time   \n",
              "1              2               time   \n",
              "2              3               time   \n",
              "3              4               time   \n",
              "4              5               time   \n",
              "..           ...                ...   \n",
              "594          595  very_low_literacy   \n",
              "595          596  very_low_literacy   \n",
              "596          597  very_low_literacy   \n",
              "597          598  very_low_literacy   \n",
              "598          599  very_low_literacy   \n",
              "\n",
              "                                                  text  answer_id  \\\n",
              "0    Is het mogelijk om 8 uur na de geboorte met mi...          1   \n",
              "1    Kan ik met mijn pasgeboren baby 12 uur na de g...          1   \n",
              "2    Is het toegestaan om 10 uur na de bevalling he...          1   \n",
              "3    Mag ik 15 uur na de geboorte van mijn kind het...          1   \n",
              "4    Kan ik 30 uur na de geboorte met mijn baby het...          1   \n",
              "..                                                 ...        ...   \n",
              "594                Hoe kan ik mijn baby gezond houden?          4   \n",
              "595         Wat moet ik doen als mijn baby ziek wordt?          4   \n",
              "596  Hoe kan ik ervoor zorgen dat mijn baby goed gr...          4   \n",
              "597  Wat als ik denk dat er iets mis is met mijn baby?          4   \n",
              "598  Waar kan ik meer informatie vinden over de gez...          4   \n",
              "\n",
              "                                        text_embedding              model_name  \n",
              "0    [0.005267701044878656, -0.01916212564228965, 0...  text-embedding-ada-002  \n",
              "1    [0.003690805873760612, -0.014750647847488607, ...  text-embedding-ada-002  \n",
              "2    [0.009526361639722546, -0.028477197298947928, ...  text-embedding-ada-002  \n",
              "3    [0.01572584320743565, -0.011663864069330074, 0...  text-embedding-ada-002  \n",
              "4    [0.011793966048119716, -0.019708915948374487, ...  text-embedding-ada-002  \n",
              "..                                                 ...                     ...  \n",
              "594  [0.0077082431247685185, -0.010396150609807595,...  text-embedding-ada-002  \n",
              "595  [0.002168859925441457, -0.012936521014286495, ...  text-embedding-ada-002  \n",
              "596  [1.5926804948455913e-06, -0.0215753217245767, ...  text-embedding-ada-002  \n",
              "597  [0.00448571759604563, -0.010967826476461223, -...  text-embedding-ada-002  \n",
              "598  [0.001784576692679307, 0.0015539329249210014, ...  text-embedding-ada-002  \n",
              "\n",
              "[599 rows x 6 columns]"
            ]
          },
          "execution_count": 18,
          "metadata": {},
          "output_type": "execute_result"
        }
      ],
      "source": [
        "questions_df"
      ]
    },
    {
      "cell_type": "code",
      "execution_count": 19,
      "metadata": {
        "gather": {
          "logged": 1702230364133
        },
        "jupyter": {
          "outputs_hidden": false,
          "source_hidden": false
        },
        "nteract": {
          "transient": {
            "deleting": false
          }
        }
      },
      "outputs": [],
      "source": [
        "for _, obj in questions_df.iterrows():\n",
        "    answer = Answer.nodes.get(answer_id=obj['answer_id'])\n",
        "    question = Question.nodes.get(question_id=obj['question_id'])\n",
        "    question.answer.connect(answer)"
      ]
    },
    {
      "cell_type": "markdown",
      "metadata": {
        "nteract": {
          "transient": {
            "deleting": false
          }
        }
      },
      "source": [
        "# Manual Driver Queries\n",
        "\n"
      ]
    },
    {
      "cell_type": "markdown",
      "metadata": {
        "nteract": {
          "transient": {
            "deleting": false
          }
        }
      },
      "source": [
        "## Indexing"
      ]
    },
    {
      "cell_type": "code",
      "execution_count": 20,
      "metadata": {
        "gather": {
          "logged": 1702230499608
        },
        "jupyter": {
          "outputs_hidden": false,
          "source_hidden": false
        },
        "nteract": {
          "transient": {
            "deleting": false
          }
        }
      },
      "outputs": [
        {
          "data": {
            "text/html": [
              "<div>\n",
              "<style scoped>\n",
              "    .dataframe tbody tr th:only-of-type {\n",
              "        vertical-align: middle;\n",
              "    }\n",
              "\n",
              "    .dataframe tbody tr th {\n",
              "        vertical-align: top;\n",
              "    }\n",
              "\n",
              "    .dataframe thead th {\n",
              "        text-align: right;\n",
              "    }\n",
              "</style>\n",
              "<table border=\"1\" class=\"dataframe\">\n",
              "  <thead>\n",
              "    <tr style=\"text-align: right;\">\n",
              "      <th></th>\n",
              "      <th>id</th>\n",
              "      <th>name</th>\n",
              "      <th>state</th>\n",
              "      <th>populationPercent</th>\n",
              "      <th>type</th>\n",
              "      <th>entityType</th>\n",
              "      <th>labelsOrTypes</th>\n",
              "      <th>properties</th>\n",
              "      <th>indexProvider</th>\n",
              "      <th>owningConstraint</th>\n",
              "      <th>lastRead</th>\n",
              "      <th>readCount</th>\n",
              "    </tr>\n",
              "  </thead>\n",
              "  <tbody>\n",
              "    <tr>\n",
              "      <th>0</th>\n",
              "      <td>7</td>\n",
              "      <td>fts_Answer_text</td>\n",
              "      <td>ONLINE</td>\n",
              "      <td>100.000000</td>\n",
              "      <td>FULLTEXT</td>\n",
              "      <td>NODE</td>\n",
              "      <td>[Answer]</td>\n",
              "      <td>[text]</td>\n",
              "      <td>fulltext-1.0</td>\n",
              "      <td>None</td>\n",
              "      <td>None</td>\n",
              "      <td>NaN</td>\n",
              "    </tr>\n",
              "    <tr>\n",
              "      <th>1</th>\n",
              "      <td>3</td>\n",
              "      <td>fts_Chunk_text</td>\n",
              "      <td>ONLINE</td>\n",
              "      <td>100.000000</td>\n",
              "      <td>FULLTEXT</td>\n",
              "      <td>NODE</td>\n",
              "      <td>[Chunk]</td>\n",
              "      <td>[text]</td>\n",
              "      <td>fulltext-1.0</td>\n",
              "      <td>None</td>\n",
              "      <td>2023-12-10T15:44:31.463000000+00:00</td>\n",
              "      <td>343.0</td>\n",
              "    </tr>\n",
              "    <tr>\n",
              "      <th>2</th>\n",
              "      <td>6</td>\n",
              "      <td>fts_Question_text</td>\n",
              "      <td>POPULATING</td>\n",
              "      <td>11.031307</td>\n",
              "      <td>FULLTEXT</td>\n",
              "      <td>NODE</td>\n",
              "      <td>[Question]</td>\n",
              "      <td>[text]</td>\n",
              "      <td>fulltext-1.0</td>\n",
              "      <td>None</td>\n",
              "      <td>None</td>\n",
              "      <td>NaN</td>\n",
              "    </tr>\n",
              "    <tr>\n",
              "      <th>3</th>\n",
              "      <td>1</td>\n",
              "      <td>index_343aff4e</td>\n",
              "      <td>ONLINE</td>\n",
              "      <td>100.000000</td>\n",
              "      <td>LOOKUP</td>\n",
              "      <td>NODE</td>\n",
              "      <td>None</td>\n",
              "      <td>None</td>\n",
              "      <td>token-lookup-1.0</td>\n",
              "      <td>None</td>\n",
              "      <td>2023-12-10T17:47:28.318000000+00:00</td>\n",
              "      <td>54577.0</td>\n",
              "    </tr>\n",
              "    <tr>\n",
              "      <th>4</th>\n",
              "      <td>2</td>\n",
              "      <td>index_f7700477</td>\n",
              "      <td>ONLINE</td>\n",
              "      <td>100.000000</td>\n",
              "      <td>LOOKUP</td>\n",
              "      <td>RELATIONSHIP</td>\n",
              "      <td>None</td>\n",
              "      <td>None</td>\n",
              "      <td>token-lookup-1.0</td>\n",
              "      <td>None</td>\n",
              "      <td>2023-12-10T17:47:32.485000000+00:00</td>\n",
              "      <td>5.0</td>\n",
              "    </tr>\n",
              "    <tr>\n",
              "      <th>5</th>\n",
              "      <td>4</td>\n",
              "      <td>vi_chunk_qa_embedding_cosine</td>\n",
              "      <td>ONLINE</td>\n",
              "      <td>100.000000</td>\n",
              "      <td>VECTOR</td>\n",
              "      <td>NODE</td>\n",
              "      <td>[Chunk]</td>\n",
              "      <td>[qa_embedding]</td>\n",
              "      <td>vector-1.0</td>\n",
              "      <td>None</td>\n",
              "      <td>None</td>\n",
              "      <td>0.0</td>\n",
              "    </tr>\n",
              "    <tr>\n",
              "      <th>6</th>\n",
              "      <td>5</td>\n",
              "      <td>vi_chunk_retrieval_embedding_cosine</td>\n",
              "      <td>ONLINE</td>\n",
              "      <td>100.000000</td>\n",
              "      <td>VECTOR</td>\n",
              "      <td>NODE</td>\n",
              "      <td>[Chunk]</td>\n",
              "      <td>[retrieval_embedding]</td>\n",
              "      <td>vector-1.0</td>\n",
              "      <td>None</td>\n",
              "      <td>None</td>\n",
              "      <td>0.0</td>\n",
              "    </tr>\n",
              "    <tr>\n",
              "      <th>7</th>\n",
              "      <td>8</td>\n",
              "      <td>vi_question_text_embedding_cosine</td>\n",
              "      <td>POPULATING</td>\n",
              "      <td>0.000000</td>\n",
              "      <td>VECTOR</td>\n",
              "      <td>NODE</td>\n",
              "      <td>[Question]</td>\n",
              "      <td>[text_embedding]</td>\n",
              "      <td>vector-1.0</td>\n",
              "      <td>None</td>\n",
              "      <td>None</td>\n",
              "      <td>NaN</td>\n",
              "    </tr>\n",
              "  </tbody>\n",
              "</table>\n",
              "</div>"
            ],
            "text/plain": [
              "   id                                 name       state  populationPercent  \\\n",
              "0   7                      fts_Answer_text      ONLINE         100.000000   \n",
              "1   3                       fts_Chunk_text      ONLINE         100.000000   \n",
              "2   6                    fts_Question_text  POPULATING          11.031307   \n",
              "3   1                       index_343aff4e      ONLINE         100.000000   \n",
              "4   2                       index_f7700477      ONLINE         100.000000   \n",
              "5   4         vi_chunk_qa_embedding_cosine      ONLINE         100.000000   \n",
              "6   5  vi_chunk_retrieval_embedding_cosine      ONLINE         100.000000   \n",
              "7   8    vi_question_text_embedding_cosine  POPULATING           0.000000   \n",
              "\n",
              "       type    entityType labelsOrTypes             properties  \\\n",
              "0  FULLTEXT          NODE      [Answer]                 [text]   \n",
              "1  FULLTEXT          NODE       [Chunk]                 [text]   \n",
              "2  FULLTEXT          NODE    [Question]                 [text]   \n",
              "3    LOOKUP          NODE          None                   None   \n",
              "4    LOOKUP  RELATIONSHIP          None                   None   \n",
              "5    VECTOR          NODE       [Chunk]         [qa_embedding]   \n",
              "6    VECTOR          NODE       [Chunk]  [retrieval_embedding]   \n",
              "7    VECTOR          NODE    [Question]       [text_embedding]   \n",
              "\n",
              "      indexProvider owningConstraint                             lastRead  \\\n",
              "0      fulltext-1.0             None                                 None   \n",
              "1      fulltext-1.0             None  2023-12-10T15:44:31.463000000+00:00   \n",
              "2      fulltext-1.0             None                                 None   \n",
              "3  token-lookup-1.0             None  2023-12-10T17:47:28.318000000+00:00   \n",
              "4  token-lookup-1.0             None  2023-12-10T17:47:32.485000000+00:00   \n",
              "5        vector-1.0             None                                 None   \n",
              "6        vector-1.0             None                                 None   \n",
              "7        vector-1.0             None                                 None   \n",
              "\n",
              "   readCount  \n",
              "0        NaN  \n",
              "1      343.0  \n",
              "2        NaN  \n",
              "3    54577.0  \n",
              "4        5.0  \n",
              "5        0.0  \n",
              "6        0.0  \n",
              "7        NaN  "
            ]
          },
          "execution_count": 20,
          "metadata": {},
          "output_type": "execute_result"
        }
      ],
      "source": [
        "import neo4j\n",
        "import pandas as pd\n",
        "from typing import List \n",
        "from neo4j import GraphDatabase, RoutingControl\n",
        "\n",
        "def to_pandas(records: List[object]) -> pd.DataFrame:\n",
        "    return pd.DataFrame.from_records([dict(r) for r in records])\n",
        "\n",
        "def add_fts_index(driver, label=\"Chunk\", prop=\"text\"):\n",
        "    driver.execute_query(\n",
        "        f\"\"\"\n",
        "            CREATE FULLTEXT INDEX {\"fts_\" + label + \"_\" + prop} IF NOT EXISTS\n",
        "            FOR (n:{label})\n",
        "            ON EACH [n.{prop}]\n",
        "        \"\"\",\n",
        "        database_=\"neo4j\",\n",
        "    )\n",
        "\n",
        "def get_indices(driver, db='neo4j'): \n",
        "    records, _, _ = driver.execute_query(\n",
        "        \"SHOW ALL INDEXES\",\n",
        "        database_= db, \n",
        "        routing_= RoutingControl.READ,\n",
        "    )\n",
        "    return to_pandas(records)\n",
        "\n",
        "def get_chunks(driver, limit=20, db=\"neo4j\") -> pd.DataFrame:\n",
        "    records, _, _ = driver.execute_query(\n",
        "        \"MATCH (c:Chunk)\"\n",
        "        \"RETURN c.text limit $limit\",\n",
        "        database_=db, \n",
        "        limit=limit,\n",
        "        routing_= RoutingControl.READ,\n",
        "    )\n",
        "    return to_pandas(records)\n",
        "\n",
        "def add_vector_index(\n",
        "        driver, \n",
        "        label=\"Chunk\", \n",
        "        prop=\"embedding\", \n",
        "        idx_type=\"cosine\", \n",
        "        vec_size=768): \n",
        "    driver.execute_query(\n",
        "        f\"\"\"\n",
        "            CALL db.index.vector.createNodeIndex(\n",
        "                '{(\"vi_\" + label + \"_\" + prop + \"_\" + idx_type).lower()}', \n",
        "                '{label}',\n",
        "                '{prop}', \n",
        "                {vec_size}, \n",
        "                '{idx_type}'\n",
        "            )\n",
        "        \"\"\",\n",
        "        database_=\"neo4j\",\n",
        "    ) \n",
        "\n",
        "with GraphDatabase.driver(neo4j_url, auth=(neo4j_user, neo4j_password)) as driver:\n",
        "    add_fts_index(driver, label=\"Question\", prop=\"text\")\n",
        "    add_fts_index(driver, label=\"Answer\", prop=\"text\")\n",
        "    add_vector_index(driver, label=\"Question\", prop=\"text_embedding\")\n",
        "    index_df = get_indices(driver)\n",
        "    chunk_df = get_chunks(driver, limit=20)\n",
        "\n",
        "# df.head()\n",
        "index_df"
      ]
    },
    {
      "cell_type": "code",
      "execution_count": 45,
      "metadata": {
        "gather": {
          "logged": 1699869067304
        },
        "jupyter": {
          "outputs_hidden": false,
          "source_hidden": false
        },
        "nteract": {
          "transient": {
            "deleting": false
          }
        }
      },
      "outputs": [
        {
          "data": {
            "text/html": [
              "<div>\n",
              "<style scoped>\n",
              "    .dataframe tbody tr th:only-of-type {\n",
              "        vertical-align: middle;\n",
              "    }\n",
              "\n",
              "    .dataframe tbody tr th {\n",
              "        vertical-align: top;\n",
              "    }\n",
              "\n",
              "    .dataframe thead th {\n",
              "        text-align: right;\n",
              "    }\n",
              "</style>\n",
              "<table border=\"1\" class=\"dataframe\">\n",
              "  <thead>\n",
              "    <tr style=\"text-align: right;\">\n",
              "      <th></th>\n",
              "      <th>c.text</th>\n",
              "    </tr>\n",
              "  </thead>\n",
              "  <tbody>\n",
              "    <tr>\n",
              "      <th>0</th>\n",
              "      <td>## Waarom willen de kinderartsen dat je baby m...</td>\n",
              "    </tr>\n",
              "    <tr>\n",
              "      <th>1</th>\n",
              "      <td>## Mogelijke afwijkingen\\n\\n\\n### Aangeboren h...</td>\n",
              "    </tr>\n",
              "    <tr>\n",
              "      <th>2</th>\n",
              "      <td>### Infecties\\n\\n\\nVerschillende infecties wor...</td>\n",
              "    </tr>\n",
              "    <tr>\n",
              "      <th>3</th>\n",
              "      <td>### Aangeboren darmafwijkingen\\n\\n\\nHet is pas...</td>\n",
              "    </tr>\n",
              "    <tr>\n",
              "      <th>4</th>\n",
              "      <td>De kinderarts onderzoekt je baby in normale om...</td>\n",
              "    </tr>\n",
              "  </tbody>\n",
              "</table>\n",
              "</div>"
            ],
            "text/plain": [
              "                                              c.text\n",
              "0  ## Waarom willen de kinderartsen dat je baby m...\n",
              "1  ## Mogelijke afwijkingen\\n\\n\\n### Aangeboren h...\n",
              "2  ### Infecties\\n\\n\\nVerschillende infecties wor...\n",
              "3  ### Aangeboren darmafwijkingen\\n\\n\\nHet is pas...\n",
              "4  De kinderarts onderzoekt je baby in normale om..."
            ]
          },
          "execution_count": 45,
          "metadata": {},
          "output_type": "execute_result"
        }
      ],
      "source": [
        "chunk_df.head()"
      ]
    },
    {
      "cell_type": "code",
      "execution_count": null,
      "metadata": {
        "jupyter": {
          "outputs_hidden": false,
          "source_hidden": false
        },
        "nteract": {
          "transient": {
            "deleting": false
          }
        }
      },
      "outputs": [],
      "source": []
    }
  ],
  "metadata": {
    "kernel_info": {
      "name": "python38-azureml"
    },
    "kernelspec": {
      "display_name": "Python 3",
      "language": "python",
      "name": "python3"
    },
    "language_info": {
      "codemirror_mode": {
        "name": "ipython",
        "version": 3
      },
      "file_extension": ".py",
      "mimetype": "text/x-python",
      "name": "python",
      "nbconvert_exporter": "python",
      "pygments_lexer": "ipython3",
      "version": "3.8.10"
    },
    "microsoft": {
      "host": {
        "AzureML": {
          "notebookHasBeenCompleted": true
        }
      },
      "ms_spell_check": {
        "ms_spell_check_language": "en"
      }
    },
    "nteract": {
      "version": "nteract-front-end@1.0.0"
    }
  },
  "nbformat": 4,
  "nbformat_minor": 2
}
