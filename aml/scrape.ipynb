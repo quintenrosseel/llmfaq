{
  "cells": [
    {
      "cell_type": "markdown",
      "source": [
        "# Setting up the environment\n",
        "Make sure to select kernel `Python 3.8 AzureML`\n",
        "\n",
        "## Libraries"
      ],
      "metadata": {
        "nteract": {
          "transient": {
            "deleting": false
          }
        }
      }
    },
    {
      "cell_type": "code",
      "source": [
        "!pip install beautifulsoup4"
      ],
      "outputs": [
        {
          "output_type": "stream",
          "name": "stdout",
          "text": "Requirement already satisfied: beautifulsoup4 in /anaconda/envs/azureml_py38/lib/python3.8/site-packages (4.12.2)\r\nRequirement already satisfied: soupsieve>1.2 in /anaconda/envs/azureml_py38/lib/python3.8/site-packages (from beautifulsoup4) (2.4.1)\r\n"
        }
      ],
      "execution_count": 5,
      "metadata": {
        "jupyter": {
          "source_hidden": false,
          "outputs_hidden": false
        },
        "nteract": {
          "transient": {
            "deleting": false
          }
        }
      }
    },
    {
      "cell_type": "code",
      "source": [
        "!pip install markdownify"
      ],
      "outputs": [
        {
          "output_type": "stream",
          "name": "stdout",
          "text": "Collecting markdownify\n  Downloading markdownify-0.11.6-py3-none-any.whl (16 kB)\nRequirement already satisfied: six<2,>=1.15 in /anaconda/envs/azureml_py38/lib/python3.8/site-packages (from markdownify) (1.16.0)\nRequirement already satisfied: beautifulsoup4<5,>=4.9 in /anaconda/envs/azureml_py38/lib/python3.8/site-packages (from markdownify) (4.12.2)\nRequirement already satisfied: soupsieve>1.2 in /anaconda/envs/azureml_py38/lib/python3.8/site-packages (from beautifulsoup4<5,>=4.9->markdownify) (2.4.1)\nInstalling collected packages: markdownify\nSuccessfully installed markdownify-0.11.6\n"
        }
      ],
      "execution_count": 100,
      "metadata": {
        "jupyter": {
          "source_hidden": false,
          "outputs_hidden": false
        },
        "nteract": {
          "transient": {
            "deleting": false
          }
        }
      }
    },
    {
      "cell_type": "markdown",
      "source": [
        "# Build Datasets\n",
        "\n",
        "## Catalog \n",
        "\n",
        "A dataframe to host all content to index. "
      ],
      "metadata": {
        "nteract": {
          "transient": {
            "deleting": false
          }
        }
      }
    },
    {
      "cell_type": "code",
      "source": [
        "import requests\n",
        "from bs4 import BeautifulSoup\n",
        "\n",
        "# Root URL \n",
        "url = \"https://www.azstlucas.be/onderzoek-en-behandelingen\"\n",
        "response = requests.get(url)\n",
        "catalog_soup = BeautifulSoup(response.content, 'html.parser')"
      ],
      "outputs": [],
      "execution_count": 30,
      "metadata": {
        "gather": {
          "logged": 1699793600119
        }
      }
    },
    {
      "cell_type": "code",
      "source": [
        "import pandas as pd \n",
        "\n",
        "catalog = []\n",
        "for i, div in enumerate(catalog_soup.find_all('div', class_='col md:w-1/2')): \n",
        "    catalog.append({\n",
        "        'id': i,\n",
        "        'title': div.get_text(strip=True), \n",
        "        'url': div.find('a', href=True)['href']\n",
        "    })\n",
        "\n",
        "catalog_df = pd.DataFrame.from_records(catalog)\n",
        "catalog_df.head(20)"
      ],
      "outputs": [
        {
          "output_type": "execute_result",
          "execution_count": 26,
          "data": {
            "text/plain": "    id                                 title  \\\n0    0  24 uur observatie van de pasgeborene   \n1    1               24 uur ph-metrie meting   \n2    2  24 uur stoelgang sparen: richtlijnen   \n3    3                   24 uur urine sparen   \n4    4               24-uurs bloeddrukmeting   \n5    5                               Ablatie   \n6    6        Ablatieve CO2 laserbehandeling   \n7    7         ACNES (buikwand pijnsyndroom)   \n8    8                    Algemene verdoving   \n9    9        Ambulante algemene revalidatie   \n10  10               Anesthesie bij kinderen   \n11  11                           Angiografie   \n12  12                 Anorectale manometrie   \n13  13        Anterieure cervicale chirurgie   \n14  14          Anterieure lumbale chirurgie   \n15  15                  Anti-reflux operatie   \n16  16                         Anticonceptie   \n17  17                 Appendix verwijdering   \n18  18                       Arm- en dijlift   \n19  19             Arteriële bloedgaswaarden   \n\n                                                  url  \n0   https://www.azstlucas.be/onderzoek-en-behandel...  \n1   https://www.azstlucas.be/onderzoek-en-behandel...  \n2   https://www.azstlucas.be/onderzoek-en-behandel...  \n3   https://www.azstlucas.be/onderzoek-en-behandel...  \n4   https://www.azstlucas.be/onderzoek-en-behandel...  \n5   https://www.azstlucas.be/onderzoek-en-behandel...  \n6   https://www.azstlucas.be/onderzoek-en-behandel...  \n7   https://www.azstlucas.be/onderzoek-en-behandel...  \n8   https://www.azstlucas.be/onderzoek-en-behandel...  \n9   https://www.azstlucas.be/onderzoek-en-behandel...  \n10  https://www.azstlucas.be/onderzoek-en-behandel...  \n11  https://www.azstlucas.be/onderzoek-en-behandel...  \n12  https://www.azstlucas.be/onderzoek-en-behandel...  \n13  https://www.azstlucas.be/onderzoek-en-behandel...  \n14  https://www.azstlucas.be/onderzoek-en-behandel...  \n15  https://www.azstlucas.be/onderzoek-en-behandel...  \n16  https://www.azstlucas.be/onderzoek-en-behandel...  \n17  https://www.azstlucas.be/onderzoek-en-behandel...  \n18  https://www.azstlucas.be/onderzoek-en-behandel...  \n19  https://www.azstlucas.be/onderzoek-en-behandel...  ",
            "text/html": "<div>\n<style scoped>\n    .dataframe tbody tr th:only-of-type {\n        vertical-align: middle;\n    }\n\n    .dataframe tbody tr th {\n        vertical-align: top;\n    }\n\n    .dataframe thead th {\n        text-align: right;\n    }\n</style>\n<table border=\"1\" class=\"dataframe\">\n  <thead>\n    <tr style=\"text-align: right;\">\n      <th></th>\n      <th>id</th>\n      <th>title</th>\n      <th>url</th>\n    </tr>\n  </thead>\n  <tbody>\n    <tr>\n      <th>0</th>\n      <td>0</td>\n      <td>24 uur observatie van de pasgeborene</td>\n      <td>https://www.azstlucas.be/onderzoek-en-behandel...</td>\n    </tr>\n    <tr>\n      <th>1</th>\n      <td>1</td>\n      <td>24 uur ph-metrie meting</td>\n      <td>https://www.azstlucas.be/onderzoek-en-behandel...</td>\n    </tr>\n    <tr>\n      <th>2</th>\n      <td>2</td>\n      <td>24 uur stoelgang sparen: richtlijnen</td>\n      <td>https://www.azstlucas.be/onderzoek-en-behandel...</td>\n    </tr>\n    <tr>\n      <th>3</th>\n      <td>3</td>\n      <td>24 uur urine sparen</td>\n      <td>https://www.azstlucas.be/onderzoek-en-behandel...</td>\n    </tr>\n    <tr>\n      <th>4</th>\n      <td>4</td>\n      <td>24-uurs bloeddrukmeting</td>\n      <td>https://www.azstlucas.be/onderzoek-en-behandel...</td>\n    </tr>\n    <tr>\n      <th>5</th>\n      <td>5</td>\n      <td>Ablatie</td>\n      <td>https://www.azstlucas.be/onderzoek-en-behandel...</td>\n    </tr>\n    <tr>\n      <th>6</th>\n      <td>6</td>\n      <td>Ablatieve CO2 laserbehandeling</td>\n      <td>https://www.azstlucas.be/onderzoek-en-behandel...</td>\n    </tr>\n    <tr>\n      <th>7</th>\n      <td>7</td>\n      <td>ACNES (buikwand pijnsyndroom)</td>\n      <td>https://www.azstlucas.be/onderzoek-en-behandel...</td>\n    </tr>\n    <tr>\n      <th>8</th>\n      <td>8</td>\n      <td>Algemene verdoving</td>\n      <td>https://www.azstlucas.be/onderzoek-en-behandel...</td>\n    </tr>\n    <tr>\n      <th>9</th>\n      <td>9</td>\n      <td>Ambulante algemene revalidatie</td>\n      <td>https://www.azstlucas.be/onderzoek-en-behandel...</td>\n    </tr>\n    <tr>\n      <th>10</th>\n      <td>10</td>\n      <td>Anesthesie bij kinderen</td>\n      <td>https://www.azstlucas.be/onderzoek-en-behandel...</td>\n    </tr>\n    <tr>\n      <th>11</th>\n      <td>11</td>\n      <td>Angiografie</td>\n      <td>https://www.azstlucas.be/onderzoek-en-behandel...</td>\n    </tr>\n    <tr>\n      <th>12</th>\n      <td>12</td>\n      <td>Anorectale manometrie</td>\n      <td>https://www.azstlucas.be/onderzoek-en-behandel...</td>\n    </tr>\n    <tr>\n      <th>13</th>\n      <td>13</td>\n      <td>Anterieure cervicale chirurgie</td>\n      <td>https://www.azstlucas.be/onderzoek-en-behandel...</td>\n    </tr>\n    <tr>\n      <th>14</th>\n      <td>14</td>\n      <td>Anterieure lumbale chirurgie</td>\n      <td>https://www.azstlucas.be/onderzoek-en-behandel...</td>\n    </tr>\n    <tr>\n      <th>15</th>\n      <td>15</td>\n      <td>Anti-reflux operatie</td>\n      <td>https://www.azstlucas.be/onderzoek-en-behandel...</td>\n    </tr>\n    <tr>\n      <th>16</th>\n      <td>16</td>\n      <td>Anticonceptie</td>\n      <td>https://www.azstlucas.be/onderzoek-en-behandel...</td>\n    </tr>\n    <tr>\n      <th>17</th>\n      <td>17</td>\n      <td>Appendix verwijdering</td>\n      <td>https://www.azstlucas.be/onderzoek-en-behandel...</td>\n    </tr>\n    <tr>\n      <th>18</th>\n      <td>18</td>\n      <td>Arm- en dijlift</td>\n      <td>https://www.azstlucas.be/onderzoek-en-behandel...</td>\n    </tr>\n    <tr>\n      <th>19</th>\n      <td>19</td>\n      <td>Arteriële bloedgaswaarden</td>\n      <td>https://www.azstlucas.be/onderzoek-en-behandel...</td>\n    </tr>\n  </tbody>\n</table>\n</div>"
          },
          "metadata": {}
        }
      ],
      "execution_count": 26,
      "metadata": {
        "jupyter": {
          "source_hidden": false,
          "outputs_hidden": false
        },
        "nteract": {
          "transient": {
            "deleting": false
          }
        },
        "gather": {
          "logged": 1699793281132
        }
      }
    },
    {
      "cell_type": "markdown",
      "source": [
        "### Serialize Catalog Dataframe"
      ],
      "metadata": {
        "nteract": {
          "transient": {
            "deleting": false
          }
        }
      }
    },
    {
      "cell_type": "code",
      "source": [
        "# Save DF to Blob Storage for later retrieval. \n",
        "catalog_df.to_pickle(path='./data/catalog_raw.pkl')"
      ],
      "outputs": [],
      "execution_count": 160,
      "metadata": {
        "jupyter": {
          "source_hidden": false,
          "outputs_hidden": false
        },
        "nteract": {
          "transient": {
            "deleting": false
          }
        },
        "gather": {
          "logged": 1699803899168
        }
      }
    },
    {
      "cell_type": "code",
      "source": [
        "# Read from pikle file\n",
        "catalog_test_df = pd.read_pickle('./data/catalog_raw.pkl')\n",
        "\n",
        "catalog_test_df.head()"
      ],
      "outputs": [
        {
          "output_type": "execute_result",
          "execution_count": 161,
          "data": {
            "text/plain": "   id                                 title  \\\n0   0  24 uur observatie van de pasgeborene   \n1   1               24 uur ph-metrie meting   \n2   2  24 uur stoelgang sparen: richtlijnen   \n3   3                   24 uur urine sparen   \n4   4               24-uurs bloeddrukmeting   \n\n                                                 url  \n0  https://www.azstlucas.be/onderzoek-en-behandel...  \n1  https://www.azstlucas.be/onderzoek-en-behandel...  \n2  https://www.azstlucas.be/onderzoek-en-behandel...  \n3  https://www.azstlucas.be/onderzoek-en-behandel...  \n4  https://www.azstlucas.be/onderzoek-en-behandel...  ",
            "text/html": "<div>\n<style scoped>\n    .dataframe tbody tr th:only-of-type {\n        vertical-align: middle;\n    }\n\n    .dataframe tbody tr th {\n        vertical-align: top;\n    }\n\n    .dataframe thead th {\n        text-align: right;\n    }\n</style>\n<table border=\"1\" class=\"dataframe\">\n  <thead>\n    <tr style=\"text-align: right;\">\n      <th></th>\n      <th>id</th>\n      <th>title</th>\n      <th>url</th>\n    </tr>\n  </thead>\n  <tbody>\n    <tr>\n      <th>0</th>\n      <td>0</td>\n      <td>24 uur observatie van de pasgeborene</td>\n      <td>https://www.azstlucas.be/onderzoek-en-behandel...</td>\n    </tr>\n    <tr>\n      <th>1</th>\n      <td>1</td>\n      <td>24 uur ph-metrie meting</td>\n      <td>https://www.azstlucas.be/onderzoek-en-behandel...</td>\n    </tr>\n    <tr>\n      <th>2</th>\n      <td>2</td>\n      <td>24 uur stoelgang sparen: richtlijnen</td>\n      <td>https://www.azstlucas.be/onderzoek-en-behandel...</td>\n    </tr>\n    <tr>\n      <th>3</th>\n      <td>3</td>\n      <td>24 uur urine sparen</td>\n      <td>https://www.azstlucas.be/onderzoek-en-behandel...</td>\n    </tr>\n    <tr>\n      <th>4</th>\n      <td>4</td>\n      <td>24-uurs bloeddrukmeting</td>\n      <td>https://www.azstlucas.be/onderzoek-en-behandel...</td>\n    </tr>\n  </tbody>\n</table>\n</div>"
          },
          "metadata": {}
        }
      ],
      "execution_count": 161,
      "metadata": {
        "jupyter": {
          "source_hidden": false,
          "outputs_hidden": false
        },
        "nteract": {
          "transient": {
            "deleting": false
          }
        },
        "gather": {
          "logged": 1699803902068
        }
      }
    },
    {
      "cell_type": "markdown",
      "source": [
        "## Page Content \n",
        "\n",
        "A dataframe that holds all page content data"
      ],
      "metadata": {
        "nteract": {
          "transient": {
            "deleting": false
          }
        }
      }
    },
    {
      "cell_type": "code",
      "source": [
        "response = requests.get(catalog_df.iloc[0]['url'])\n",
        "page_soup = BeautifulSoup(response.content, 'html.parser')"
      ],
      "outputs": [],
      "execution_count": 31,
      "metadata": {
        "jupyter": {
          "source_hidden": false,
          "outputs_hidden": false
        },
        "nteract": {
          "transient": {
            "deleting": false
          }
        },
        "gather": {
          "logged": 1699793616446
        }
      }
    },
    {
      "cell_type": "code",
      "source": [
        "from typing import List, Dict\n",
        "from markdownify import MarkdownConverter\n",
        "\n",
        "# TODO: CONVERT TO A STATEFUL CLASS \n",
        "\n",
        "def extract_banner_title(s: BeautifulSoup) -> str: \n",
        "    try: \n",
        "        return (\n",
        "            s\n",
        "            # .find(class_='header-detail__smaller-height')\n",
        "            .find('h1', class_='t-alpha')\n",
        "            .get_text(strip=True)\n",
        "        )\n",
        "    except AttributeError as e:\n",
        "        return ''\n",
        "\n",
        "def extract_banner_divisions(s: BeautifulSoup) -> List[Dict[str, str]]: \n",
        "    try: \n",
        "        ban_li = []\n",
        "        ban_a: BeautifulSoup = (\n",
        "            s\n",
        "            .find_all('a', class_='text-link', href=True)\n",
        "        )\n",
        "        for a in ban_a: \n",
        "            ban_li.append({\n",
        "                'division_url': a['href'],\n",
        "                'division_name': a.get_text(strip=True)\n",
        "            })\n",
        "        return ban_li \n",
        "    except AttributeError as e:\n",
        "        return [] \n",
        "\n",
        "def extract_page_intro(s: BeautifulSoup) -> str: \n",
        "    try: \n",
        "        return (\n",
        "            s\n",
        "            .find('p', class_='t-intro')\n",
        "            .get_text(strip=True)\n",
        "        )\n",
        "    except AttributeError as e:\n",
        "        return ''\n",
        "\n",
        "def extract_page_toc(s: BeautifulSoup) -> List[Dict[str, str]]: \n",
        "    try: \n",
        "        toc_li = []\n",
        "        ul_li: BeautifulSoup = (\n",
        "            s\n",
        "            .find('ul', class_='flex flex-wrap mt-4')\n",
        "            .find_all('li', class_='w-full sm:w-1/2 md:w-1/3 mt-2')\n",
        "        )\n",
        "        for l in ul_li: \n",
        "            toc_li.append({\n",
        "                'link_url': l.find('a', href=True)['href'],\n",
        "                'link_title': l.find('a').get_text(strip=True)\n",
        "            })\n",
        "        return toc_li \n",
        "    except AttributeError as e:\n",
        "        return [] \n",
        "\n",
        "def soup_to_md(soup, **options):\n",
        "    \"\"\"\n",
        "        Shorthand method for conversion\n",
        "    \"\"\"\n",
        "    return MarkdownConverter(**options).convert_soup(soup)\n",
        "\n",
        "def extract_html_text(s: BeautifulSoup) -> str: \n",
        "    try: \n",
        "        return soup_to_md(s, heading_style='ATX')\n",
        "    except AttributeError as e:\n",
        "        return ''\n",
        "\n",
        "def mine_page_content(s: BeautifulSoup) -> Dict[str, object]:\n",
        "    page_data = {\n",
        "        'content': ''\n",
        "    }\n",
        "    for i, c in enumerate(s.find_all(class_='container')):\n",
        "        # 0 is nav container, 1 is the banner container\n",
        "        if i == 1:\n",
        "            page_data['banner_title'] = extract_banner_title(c)\n",
        "            page_data['banner_divisions'] = extract_banner_divisions(c)\n",
        "        # 2 can be a overview container, or actual content\n",
        "        elif i == 2: \n",
        "            page_data['intro'] = extract_page_intro(c)\n",
        "            page_data['toc'] = extract_page_toc(c)\n",
        "\n",
        "            # No Banner Edge Case\n",
        "            if page_data['intro'] == '' and page_data['toc'] == '':\n",
        "                page_data['content'] = page_data['content'] + extract_html_text(c)\n",
        "        else: \n",
        "            # Get richtext elements\n",
        "            container_text: BeautifulSoup = c.find_all(class_='richtext')\n",
        "            for paragraph in container_text:\n",
        "                page_data['content'] = (\n",
        "                    page_data['content'] + \n",
        "                    extract_html_text(paragraph)\n",
        "                )\n",
        "    return page_data"
      ],
      "outputs": [],
      "execution_count": 146,
      "metadata": {
        "jupyter": {
          "source_hidden": false,
          "outputs_hidden": false
        },
        "nteract": {
          "transient": {
            "deleting": false
          }
        },
        "gather": {
          "logged": 1699802742171
        }
      }
    },
    {
      "cell_type": "code",
      "source": [
        "from datetime import datetime\n",
        "\n",
        "def scrape_page(url: str) -> Dict[str, object]:\n",
        "    now = datetime.now()\n",
        "    print(f'scraping {url} at {now.strftime(\"%d/%m/%Y %H:%M:%S\")}')\n",
        "    \n",
        "    page_response = requests.get(url)\n",
        "    page_soup = BeautifulSoup(page_response.content, 'html.parser')\n",
        "    print(extract_banner_title(page_soup))\n",
        "\n",
        "    page_content: Dict[str, object] = mine_page_content(page_soup)\n",
        "    page_content['url'] = url\n",
        "\n",
        "    # dd/mm/YY H:M:S format\n",
        "    page_content['scrape_date'] = now.strftime(\"%d/%m/%Y %H:%M:%S\")\n",
        "    return page_content\n",
        "\n",
        "webpages_df = (\n",
        "    pd.DataFrame\n",
        "    .from_records(\n",
        "        list(catalog_df['url'].apply(scrape_page))\n",
        "    )\n",
        ")"
      ],
      "outputs": [
        {
          "output_type": "stream",
          "name": "stdout",
          "text": "scraping https://www.azstlucas.be/onderzoek-en-behandelingen/24-uur-observatie-van-de-pasgeborene at 12/11/2023 15:26:50\n24 uur observatie van de pasgeborene\nscraping https://www.azstlucas.be/onderzoek-en-behandelingen/24-uur-ph-metrie-meting at 12/11/2023 15:26:50\n24 uur ph-metrie meting\nscraping https://www.azstlucas.be/onderzoek-en-behandelingen/24-uur-stoelgang-sparen-richtlijnen at 12/11/2023 15:26:51\n24 uur stoelgang sparen: richtlijnen\nscraping https://www.azstlucas.be/onderzoek-en-behandelingen/24-uur-urine-sparen at 12/11/2023 15:26:52\n24 uur urine sparen\nscraping https://www.azstlucas.be/onderzoek-en-behandelingen/24-uurs-bloeddrukmeting at 12/11/2023 15:26:52\n24-uurs bloeddrukmeting\nscraping https://www.azstlucas.be/onderzoek-en-behandelingen/ablatie at 12/11/2023 15:26:53\nAblatie\nscraping https://www.azstlucas.be/onderzoek-en-behandelingen/ablatieve-co2-laserbehandeling at 12/11/2023 15:26:54\nAblatieve CO2 laserbehandeling\nscraping https://www.azstlucas.be/onderzoek-en-behandelingen/acnes-buikwand-pijnsyndroom at 12/11/2023 15:26:55\nACNES (buikwand pijnsyndroom)\nscraping https://www.azstlucas.be/onderzoek-en-behandelingen/algemene-verdoving at 12/11/2023 15:26:55\nAlgemene verdoving\nscraping https://www.azstlucas.be/onderzoek-en-behandelingen/ambulante-revalidatie at 12/11/2023 15:26:56\nAmbulante algemene revalidatie\nscraping https://www.azstlucas.be/onderzoek-en-behandelingen/anesthesie-bij-kinderen at 12/11/2023 15:26:57\nAnesthesie bij kinderen\nscraping https://www.azstlucas.be/onderzoek-en-behandelingen/angiografie at 12/11/2023 15:26:57\nAngiografie\nscraping https://www.azstlucas.be/onderzoek-en-behandelingen/anorectale-manometrie at 12/11/2023 15:26:59\nAnorectale manometrie\nscraping https://www.azstlucas.be/onderzoek-en-behandelingen/anterieure-cervicale-chirurgie at 12/11/2023 15:27:00\nAnterieure cervicale chirurgie\nscraping https://www.azstlucas.be/onderzoek-en-behandelingen/anterieure-lumbale-chirurgie at 12/11/2023 15:27:00\nAnterieure lumbale chirurgie\nscraping https://www.azstlucas.be/onderzoek-en-behandelingen/anti-reflux-operatie at 12/11/2023 15:27:01\nAnti-reflux operatie\nscraping https://www.azstlucas.be/onderzoek-en-behandelingen/anticonceptie at 12/11/2023 15:27:02\nAnticonceptie\nscraping https://www.azstlucas.be/onderzoek-en-behandelingen/appendix-verwijdering at 12/11/2023 15:27:03\nAppendix verwijdering\nscraping https://www.azstlucas.be/onderzoek-en-behandelingen/arm-en-dijlift at 12/11/2023 15:27:03\nArm- en dijlift\nscraping https://www.azstlucas.be/onderzoek-en-behandelingen/arteriele-bloedgaswaarden at 12/11/2023 15:27:04\nArteriële bloedgaswaarden\nscraping https://www.azstlucas.be/onderzoek-en-behandelingen/artrografie at 12/11/2023 15:27:05\nArtrografie\nscraping https://www.azstlucas.be/onderzoek-en-behandelingen/bera at 12/11/2023 15:27:05\nAuditieve hersenstampotentialen (BERA)\nscraping https://www.azstlucas.be/onderzoek-en-behandelingen/autosondage-man at 12/11/2023 15:27:06\nAutosondage man\nscraping https://www.azstlucas.be/onderzoek-en-behandelingen/autosondage-vrouw at 12/11/2023 15:27:07\nAutosondage vrouw\nscraping https://www.azstlucas.be/onderzoek-en-behandelingen/baarmoederhalsconisatie at 12/11/2023 15:27:08\nBaarmoederhalsconisatie\nscraping https://www.azstlucas.be/onderzoek-en-behandelingen/ballondilatatie at 12/11/2023 15:27:09\nBallondilatatie\nscraping https://www.azstlucas.be/onderzoek-en-behandelingen/behandeling-scabies-schurft at 12/11/2023 15:27:09\nBehandeling scabiës (schurft)\nscraping https://www.azstlucas.be/onderzoek-en-behandelingen/behandeling-colitis-ulcerosa at 12/11/2023 15:27:10\nBehandeling van Colitis Ulcerosa\nscraping https://www.azstlucas.be/onderzoek-en-behandelingen/behandeling-ziekte-van-crohn at 12/11/2023 15:27:11\nBehandeling van de Ziekte van Crohn\nscraping https://www.azstlucas.be/onderzoek-en-behandelingen/behandeling-van-een-ingegroeide-teennagel at 12/11/2023 15:27:11\nBehandeling van een ingegroeide teennagel\nscraping https://www.azstlucas.be/onderzoek-en-behandelingen/behandeling-van-een-melanoom at 12/11/2023 15:27:12\nBehandeling van een melanoom\nscraping https://www.azstlucas.be/onderzoek-en-behandelingen/behandeling-van-nierstenen at 12/11/2023 15:27:12\nBehandeling van nierstenen\nscraping https://www.azstlucas.be/onderzoek-en-behandelingen/besnijdenis-bij-de-volwassene-circumcisie-1 at 12/11/2023 15:27:13\nBesnijdenis bij de volwassene (circumcisie)\nscraping https://www.azstlucas.be/onderzoek-en-behandelingen/besnijdenis-bij-het-kind-circumcisie at 12/11/2023 15:27:14\nBesnijdenis bij het kind (circumcisie)\nscraping https://www.azstlucas.be/onderzoek-en-behandelingen/bijschildklierscintigrafie at 12/11/2023 15:27:14\nBijschildklierscintigrafie\nscraping https://www.azstlucas.be/onderzoek-en-behandelingen/biologicals-astma at 12/11/2023 15:27:15\nBiologicals astma\nscraping https://www.azstlucas.be/onderzoek-en-behandelingen/biopsie at 12/11/2023 15:27:16\nBiopsie\nscraping https://www.azstlucas.be/onderzoek-en-behandelingen/blaasfunctieonderzoek at 12/11/2023 15:27:17\nBlaasfunctieonderzoek\nscraping https://www.azstlucas.be/onderzoek-en-behandelingen/blaasspoeling at 12/11/2023 15:27:17\nBlaasspoeling\nscraping https://www.azstlucas.be/onderzoek-en-behandelingen/bloedverdunners at 12/11/2023 15:27:18\nBloedverdunners\nscraping https://www.azstlucas.be/onderzoek-en-behandelingen/borstlift at 12/11/2023 15:27:19\nBorstlift\nscraping https://www.azstlucas.be/onderzoek-en-behandelingen/borstsparende-ingreep at 12/11/2023 15:27:19\nBorstsparende ingreep\nscraping https://www.azstlucas.be/onderzoek-en-behandelingen/borstvergroting at 12/11/2023 15:27:20\nBorstvergroting\nscraping https://www.azstlucas.be/onderzoek-en-behandelingen/borstverkleining at 12/11/2023 15:27:21\nBorstverkleining\nscraping https://www.azstlucas.be/onderzoek-en-behandelingen/botdensitometrie at 12/11/2023 15:27:22\nBotdensitometrie\nscraping https://www.azstlucas.be/onderzoek-en-behandelingen/botopbouw-en-of-sinuslifting at 12/11/2023 15:27:22\nBotopbouw en/of sinuslifting\nscraping https://www.azstlucas.be/onderzoek-en-behandelingen/botox-in-de-blaas at 12/11/2023 15:27:23\nBotox in de blaas\nscraping https://www.azstlucas.be/onderzoek-en-behandelingen/botscintigrafie at 12/11/2023 15:27:24\nBotscintigrafie\nscraping https://www.azstlucas.be/onderzoek-en-behandelingen/botverankerd-hoortoestel-baha at 12/11/2023 15:27:25\nBotverankerd hoortoestel (BAHA)\nscraping https://www.azstlucas.be/onderzoek-en-behandelingen/bovenste-ooglidcorrectie at 12/11/2023 15:27:26\nBovenste ooglidcorrectie (blefaroplastie)\nscraping https://www.azstlucas.be/onderzoek-en-behandelingen/bronchiale-histamineprovocatietest at 12/11/2023 15:27:26\nBronchiale histamineprovocatietest\nscraping https://www.azstlucas.be/onderzoek-en-behandelingen/bronchodilatatie at 12/11/2023 15:27:27\nBronchodilatatie\nscraping https://www.azstlucas.be/onderzoek-en-behandelingen/bronchoscopie at 12/11/2023 15:27:28\nBronchoscopie\nscraping https://www.azstlucas.be/onderzoek-en-behandelingen/buikwandcorrectie at 12/11/2023 15:27:28\nBuikwandcorrectie\nscraping https://www.azstlucas.be/onderzoek-en-behandelingen/c-vemp at 12/11/2023 15:27:29\nC-Vemp\nscraping https://www.azstlucas.be/onderzoek-en-behandelingen/calprotectine at 12/11/2023 15:27:29\nCalprotectine\nscraping https://www.azstlucas.be/onderzoek-en-behandelingen/cardiotocografie at 12/11/2023 15:27:31\nCardiotocografie\nscraping https://www.azstlucas.be/onderzoek-en-behandelingen/cardioversie at 12/11/2023 15:27:31\nCardioversie\nscraping https://www.azstlucas.be/onderzoek-en-behandelingen/cervicale-epidurale-infiltratie at 12/11/2023 15:27:32\nCervicale epidurale infiltratie\nscraping https://www.azstlucas.be/onderzoek-en-behandelingen/cervicale-of-thoracale-facetinfiltratie at 12/11/2023 15:27:32\nCervicale of thoracale facetinfiltratie\nscraping https://www.azstlucas.be/onderzoek-en-behandelingen/chemotherapie at 12/11/2023 15:27:33\nChemotherapie\nscraping https://www.azstlucas.be/onderzoek-en-behandelingen/chirurgische-castratie-bij-prostaatkanker at 12/11/2023 15:27:34\nChirurgische castratie bij prostaatkanker\nscraping https://www.azstlucas.be/onderzoek-en-behandelingen/cmv-screening-bij-de-pasgeborene at 12/11/2023 15:27:34\nCMV screening bij de pasgeborene\nscraping https://www.azstlucas.be/onderzoek-en-behandelingen/cochleair-implantaat at 12/11/2023 15:27:35\nCochleair implantaat\nscraping https://www.azstlucas.be/onderzoek-en-behandelingen/colonklysma at 12/11/2023 15:27:35\nColonklysma\nscraping https://www.azstlucas.be/onderzoek-en-behandelingen/colonoscopie at 12/11/2023 15:27:36\nColonoscopie\nscraping https://www.azstlucas.be/onderzoek-en-behandelingen/colposcopie at 12/11/2023 15:27:37\nColposcopie\nscraping https://www.azstlucas.be/onderzoek-en-behandelingen/coronarografie at 12/11/2023 15:27:37\nCoronarografie\nscraping https://www.azstlucas.be/onderzoek-en-behandelingen/correctie-van-afstaande-oren at 12/11/2023 15:27:38\nCorrectie van afstaande oren (otoplastie)\nscraping https://www.azstlucas.be/onderzoek-en-behandelingen/cpap-therapie at 12/11/2023 15:27:38\nCPAP-therapie\nscraping https://www.azstlucas.be/onderzoek-en-behandelingen/ct-abdomen at 12/11/2023 15:27:40\nCT abdomen\nscraping https://www.azstlucas.be/onderzoek-en-behandelingen/ct-angiografie at 12/11/2023 15:27:41\nCT angiografie\nscraping https://www.azstlucas.be/onderzoek-en-behandelingen/ct-thorax at 12/11/2023 15:27:41\nCT thorax\nscraping https://www.azstlucas.be/onderzoek-en-behandelingen/ct-scan at 12/11/2023 15:27:42\nCT-scan\nscraping https://www.azstlucas.be/onderzoek-en-behandelingen/ct-scan-van-het-hart at 12/11/2023 15:27:43\nCT-scan van het hart\nscraping https://www.azstlucas.be/onderzoek-en-behandelingen/cystografie at 12/11/2023 15:27:43\nCystografie\nscraping https://www.azstlucas.be/onderzoek-en-behandelingen/cystoscopie at 12/11/2023 15:27:44\nCystoscopie\nscraping https://www.azstlucas.be/onderzoek-en-behandelingen/dat-scan at 12/11/2023 15:27:45\nDaT-scan\nscraping https://www.azstlucas.be/onderzoek-en-behandelingen/debulking at 12/11/2023 15:27:45\nDebulking van de eierstokken\nscraping https://www.azstlucas.be/onderzoek-en-behandelingen/dekolonisatie-bij-terugkerende-huidinfecties at 12/11/2023 15:27:46\nDekolonisatie bij terugkerende huidinfecties\nscraping https://www.azstlucas.be/onderzoek-en-behandelingen/dermatochirurgie at 12/11/2023 15:27:46\nDermatochirurgie\nscraping https://www.azstlucas.be/onderzoek-en-behandelingen/desensibilisatie at 12/11/2023 15:27:47\nDesensibilisatie\nscraping https://www.azstlucas.be/onderzoek-en-behandelingen/diabetesconventie at 12/11/2023 15:27:48\nDiabetesconventie\nscraping https://www.azstlucas.be/onderzoek-en-behandelingen/diagnostische-laparoscopie at 12/11/2023 15:27:49\nDiagnostische laparoscopie\nscraping https://www.azstlucas.be/onderzoek-en-behandelingen/dialyse-thuis at 12/11/2023 15:27:50\nDialyse thuis\nscraping https://www.azstlucas.be/onderzoek-en-behandelingen/diepe-hersenstimulatie at 12/11/2023 15:27:50\nDiepe hersenstimulatie\nscraping https://www.azstlucas.be/onderzoek-en-behandelingen/dikkedarm-operaties at 12/11/2023 15:27:51\nDikkedarm operaties\nscraping https://www.azstlucas.be/onderzoek-en-behandelingen/dmsa-scintigrafie at 12/11/2023 15:27:51\nDMSA-scintigrafie\nscraping https://www.azstlucas.be/onderzoek-en-behandelingen/doelgerichte-therapie at 12/11/2023 15:27:52\nDoelgerichte therapie\nscraping https://www.azstlucas.be/onderzoek-en-behandelingen/ebus at 12/11/2023 15:27:53\nEBUS miniprobe\nscraping https://www.azstlucas.be/onderzoek-en-behandelingen/ebus-tbna at 12/11/2023 15:27:53\nEBUS-TBNA\nscraping https://www.azstlucas.be/onderzoek-en-behandelingen/echo-endoscopie at 12/11/2023 15:27:54\nEcho-endoscopie\nscraping https://www.azstlucas.be/onderzoek-en-behandelingen/echografie at 12/11/2023 15:27:55\nEchografie\nscraping https://www.azstlucas.be/onderzoek-en-behandelingen/echografie-van-de-halsslagader at 12/11/2023 15:27:56\nEchografie van de halsslagader\nscraping https://www.azstlucas.be/onderzoek-en-behandelingen/echografie-nieren-blaas at 12/11/2023 15:27:56\nEchografie van de nieren en blaas\nscraping https://www.azstlucas.be/onderzoek-en-behandelingen/echografie-prostaat-trus at 12/11/2023 15:27:57\nEchografie van de prostaat (TRUS)\nscraping https://www.azstlucas.be/onderzoek-en-behandelingen/echografie-teelballen at 12/11/2023 15:27:58\nEchografie van de teelballen\nscraping https://www.azstlucas.be/onderzoek-en-behandelingen/echografie-van-het-hart at 12/11/2023 15:27:58\nEchografie van het hart\nscraping https://www.azstlucas.be/onderzoek-en-behandelingen/eeg-elektro-encefalografie at 12/11/2023 15:27:59\nEEG (elektro-encefalografie)\nscraping https://www.azstlucas.be/onderzoek-en-behandelingen/eeg-bij-kinderen at 12/11/2023 15:28:00\nEEG bij kinderen\nscraping https://www.azstlucas.be/onderzoek-en-behandelingen/eeg-na-slaaptekort-bij-kinderen at 12/11/2023 15:28:00\nEEG na slaaptekort bij kinderen\nscraping https://www.azstlucas.be/onderzoek-en-behandelingen/elektrische-cardioversie at 12/11/2023 15:28:01\nElektrische cardioversie\nscraping https://www.azstlucas.be/onderzoek-en-behandelingen/elektrocardiogram at 12/11/2023 15:28:02\nElektrocardiogram (ECG)\nscraping https://www.azstlucas.be/onderzoek-en-behandelingen/elektrocochleografie at 12/11/2023 15:28:02\nElektrocochleografie (ECoG)\nscraping https://www.azstlucas.be/onderzoek-en-behandelingen/elektrofysiologisch-onderzoek at 12/11/2023 15:28:03\nElektrofysiologisch onderzoek\nscraping https://www.azstlucas.be/onderzoek-en-behandelingen/elektroneurofysiologisch-onderzoek at 12/11/2023 15:28:04\nElektroneurofysiologisch onderzoek\nscraping https://www.azstlucas.be/onderzoek-en-behandelingen/elleboogarthroscopie at 12/11/2023 15:28:04\nElleboogarthroscopie\nscraping https://www.azstlucas.be/onderzoek-en-behandelingen/embolisatie-van-een-uterusmyoom at 12/11/2023 15:28:06\nEmbolisatie van een uterusmyoom\nscraping https://www.azstlucas.be/onderzoek-en-behandelingen/endoscopie at 12/11/2023 15:28:07\nEndoscopie\nscraping https://www.azstlucas.be/onderzoek-en-behandelingen/endoscopische-hypophyse-operatie at 12/11/2023 15:28:07\nEndoscopische hypofyse operatie\nscraping https://www.azstlucas.be/onderzoek-en-behandelingen/endoscopische-sinusingreep-fess at 12/11/2023 15:28:08\nEndoscopische sinusingreep (FESS)\nscraping https://www.azstlucas.be/onderzoek-en-behandelingen/epididymectomie at 12/11/2023 15:28:08\nEpididymectomie\nscraping https://www.azstlucas.be/onderzoek-en-behandelingen/epididymicyste at 12/11/2023 15:28:09\nEpididymiscyste (bijbalcyste)\nscraping https://www.azstlucas.be/onderzoek-en-behandelingen/epidurale-infiltratie at 12/11/2023 15:28:10\nEpidurale infiltratie\nscraping https://www.azstlucas.be/onderzoek-en-behandelingen/ercp at 12/11/2023 15:28:10\nERCP\nscraping https://www.azstlucas.be/onderzoek-en-behandelingen/evenwichtsonderzoek at 12/11/2023 15:28:11\nEvenwichtsonderzoek\nscraping https://www.azstlucas.be/onderzoek-en-behandelingen/evenwichtsrevalidatie at 12/11/2023 15:28:11\nEvenwichtsrevalidatie\nscraping https://www.azstlucas.be/onderzoek-en-behandelingen/extracorporele-shockwave-therapie-eswt at 12/11/2023 15:28:13\nExtracorporele shockwave therapie (ESWT)\nscraping https://www.azstlucas.be/onderzoek-en-behandelingen/facelift at 12/11/2023 15:28:14\nFacelift\nscraping https://www.azstlucas.be/onderzoek-en-behandelingen/facetdenervatie at 12/11/2023 15:28:14\nFacetdenervatie\nscraping https://www.azstlucas.be/onderzoek-en-behandelingen/facetinfiltratie-1 at 12/11/2023 15:28:15\nFacetinfiltratie\nscraping https://www.azstlucas.be/onderzoek-en-behandelingen/fietsproef at 12/11/2023 15:28:15\nFietsproef (cycloergospirometrie)\nscraping https://www.azstlucas.be/onderzoek-en-behandelingen/fietstest at 12/11/2023 15:28:16\nFietstest\nscraping https://www.azstlucas.be/onderzoek-en-behandelingen/fistulografie at 12/11/2023 15:28:17\nFistulografie\nscraping https://www.azstlucas.be/onderzoek-en-behandelingen/fotodynamische-therapie-pdt at 12/11/2023 15:28:17\nFotodynamische therapie (PDT)\nscraping https://www.azstlucas.be/onderzoek-en-behandelingen/fotodynamische-therapie-met-daglicht at 12/11/2023 15:28:18\nFotodynamische therapie met daglicht\nscraping https://www.azstlucas.be/onderzoek-en-behandelingen/functionele-endoscopische-evaluatie-van-de-slikfunctie-fees at 12/11/2023 15:28:18\nFunctionele Endoscopische Evaluatie van de Slikfunctie (FEES)\nscraping https://www.azstlucas.be/onderzoek-en-behandelingen/functionele-nmr at 12/11/2023 15:28:19\nFunctionele NMR\nscraping https://www.azstlucas.be/onderzoek-en-behandelingen/galblaasverwijdering at 12/11/2023 15:28:21\nGalblaasverwijdering\nscraping https://www.azstlucas.be/onderzoek-en-behandelingen/gastric-sleeve-operatie at 12/11/2023 15:28:21\nGastric sleeve operatie\nscraping https://www.azstlucas.be/onderzoek-en-behandelingen/gastroscopie at 12/11/2023 15:28:22\nGastroscopie\nscraping https://www.azstlucas.be/onderzoek-en-behandelingen/geevoceerde-potentialen-en-elektromyografie-emg at 12/11/2023 15:28:23\nGeëvoceerde potentialen en elektromyografie (EMG)\nscraping https://www.azstlucas.be/onderzoek-en-behandelingen/gefractioneerde-ablatieve-co2-laserbehandeling-1 at 12/11/2023 15:28:23\nGefractioneerde ablatieve CO2 laserbehandeling\nscraping https://www.azstlucas.be/onderzoek-en-behandelingen/glucosesensoren at 12/11/2023 15:28:24\nGlucosesensoren\nscraping https://www.azstlucas.be/onderzoek-en-behandelingen/gynaecologische-echografie at 12/11/2023 15:28:25\nGynaecologische echografie\nscraping https://www.azstlucas.be/onderzoek-en-behandelingen/handrevalidatie at 12/11/2023 15:28:25\nHandrevalidatie\nscraping https://www.azstlucas.be/onderzoek-en-behandelingen/hartchirurgie at 12/11/2023 15:28:27\nHartchirurgie\nscraping https://www.azstlucas.be/onderzoek-en-behandelingen/hartrevalidatie at 12/11/2023 15:28:28\nHartrevalidatie\nscraping https://www.azstlucas.be/onderzoek-en-behandelingen/hemodialyse at 12/11/2023 15:28:28\nHemodialyse\nscraping https://www.azstlucas.be/onderzoek-en-behandelingen/hemostatische-prostatectomie at 12/11/2023 15:28:29\nHemostatische prostatectomie\nscraping https://www.azstlucas.be/onderzoek-en-behandelingen/hersenbiopsie at 12/11/2023 15:28:30\nHersenbiopsie\nscraping https://www.azstlucas.be/onderzoek-en-behandelingen/hersenoperatie at 12/11/2023 15:28:30\nHersenoperatie (craniotomie)\nscraping https://www.azstlucas.be/onderzoek-en-behandelingen/het-plaatsen-van-een-testisprothese at 12/11/2023 15:28:32\nHet plaatsen van een testisprothese\nscraping https://www.azstlucas.be/onderzoek-en-behandelingen/het-verwijderen-van-een-pac-of-poort-katheter at 12/11/2023 15:28:32\nHet verwijderen van een PAC of poort katheter\nscraping https://www.azstlucas.be/onderzoek-en-behandelingen/heupprothese-via-spiersparende-techniek at 12/11/2023 15:28:33\nHeupprothese\nscraping https://www.azstlucas.be/onderzoek-en-behandelingen/hilotherapie at 12/11/2023 15:28:33\nHilotherapie\nscraping https://www.azstlucas.be/onderzoek-en-behandelingen/hipec at 12/11/2023 15:28:34\nHipec\nscraping https://www.azstlucas.be/onderzoek-en-behandelingen/holtermonitor at 12/11/2023 15:28:34\nHoltermonitoring\nscraping https://www.azstlucas.be/onderzoek-en-behandelingen/hoofdpijn-bij-kinderen at 12/11/2023 15:28:35\nHoofdpijn bij kinderen\nscraping https://www.azstlucas.be/onderzoek-en-behandelingen/hoortoestel at 12/11/2023 15:28:36\nHoortoestel\nscraping https://www.azstlucas.be/onderzoek-en-behandelingen/hormonale-behandeling-van-borstkanker at 12/11/2023 15:28:36\nHormonale behandeling van borstkanker\nscraping https://www.azstlucas.be/onderzoek-en-behandelingen/hormonale-behandeling-van-prostaatkanker at 12/11/2023 15:28:37\nHormonale behandeling van prostaatkanker\nscraping https://www.azstlucas.be/onderzoek-en-behandelingen/huidpriktesten at 12/11/2023 15:28:38\nHuidpriktesten\nscraping https://www.azstlucas.be/onderzoek-en-behandelingen/huidverbetering-bij-acne at 12/11/2023 15:28:39\nHuidverbetering bij acne\nscraping https://www.azstlucas.be/onderzoek-en-behandelingen/hydrocoele-bij-de-man at 12/11/2023 15:28:40\nHydrocoele bij de man\nscraping https://www.azstlucas.be/onderzoek-en-behandelingen/hydrocoele-bij-het-kind at 12/11/2023 15:28:40\nHydrocoele bij het kind\nscraping https://www.azstlucas.be/onderzoek-en-behandelingen/hysterectomie at 12/11/2023 15:28:41\nHysterectomie\nscraping https://www.azstlucas.be/onderzoek-en-behandelingen/ifob-test at 12/11/2023 15:28:41\niFOB-test\nscraping https://www.azstlucas.be/onderzoek-en-behandelingen/immunotherapie at 12/11/2023 15:28:43\nImmunotherapie\nscraping https://www.azstlucas.be/onderzoek-en-behandelingen/implanteerbare-loop-recorder at 12/11/2023 15:28:43\nImplanteerbare loop recorder\nscraping https://www.azstlucas.be/onderzoek-en-behandelingen/in-het-gips at 12/11/2023 15:28:44\nIn het gips\nscraping https://www.azstlucas.be/onderzoek-en-behandelingen/infiltratie-nervus-occipitalis-en-prf at 12/11/2023 15:28:44\nInfiltratie nervus occipitalis en PRF\nscraping https://www.azstlucas.be/onderzoek-en-behandelingen/infiltratie-trochanter-major at 12/11/2023 15:28:45\nInfiltratie trochanter major\nscraping https://www.azstlucas.be/onderzoek-en-behandelingen/injectie-in-het-middenoor at 12/11/2023 15:28:46\nInjectie in het middenoor\nscraping https://www.azstlucas.be/onderzoek-en-behandelingen/insulinepompen at 12/11/2023 15:28:46\nInsulinepompen\nscraping https://www.azstlucas.be/onderzoek-en-behandelingen/interlaminaire-epidurale-infiltratie at 12/11/2023 15:28:47\nInterlaminaire epidurale infiltratie\nscraping https://www.azstlucas.be/onderzoek-en-behandelingen/intra-uteriene-inseminatie-iui at 12/11/2023 15:28:48\nIntra-uteriene inseminatie (IUI)\nscraping https://www.azstlucas.be/onderzoek-en-behandelingen/intracaverneuze-injectie-van-de-penis at 12/11/2023 15:28:48\nIntracaverneuze injectie van de penis\nscraping https://www.azstlucas.be/onderzoek-en-behandelingen/inwendige-bestraling-van-de-baarmoeder at 12/11/2023 15:28:49\nInwendige bestraling van de baarmoeder (brachytherapie)\nscraping https://www.azstlucas.be/onderzoek-en-behandelingen/inwendige-bestraling-van-de-vagina at 12/11/2023 15:28:50\nInwendige bestraling van de vagina (brachytherapie)\nscraping https://www.azstlucas.be/onderzoek-en-behandelingen/ketamine-infuus-1 at 12/11/2023 15:28:50\nKetamine infuus\nscraping https://www.azstlucas.be/onderzoek-en-behandelingen/klaplong-operatie at 12/11/2023 15:28:52\nKlaplong operatie\nscraping https://www.azstlucas.be/onderzoek-en-behandelingen/kraakbeenbehandeling at 12/11/2023 15:28:52\nKraakbeenbehandeling\nscraping https://www.azstlucas.be/onderzoek-en-behandelingen/laminectomie at 12/11/2023 15:28:53\nLaminectomie\nscraping https://www.azstlucas.be/onderzoek-en-behandelingen/lang-eeg-bij-kinderen at 12/11/2023 15:28:54\nLang EEG bij kinderen\nscraping https://www.azstlucas.be/onderzoek-en-behandelingen/laryngoscopie at 12/11/2023 15:28:54\nLaryngoscopie\nscraping https://www.azstlucas.be/onderzoek-en-behandelingen/laser-enucleatie-van-de-prostaat at 12/11/2023 15:28:55\nLaser enucleatie van de prostaat\nscraping https://www.azstlucas.be/onderzoek-en-behandelingen/laserbehandelingen at 12/11/2023 15:28:55\nLaserbehandelingen\nscraping https://www.azstlucas.be/onderzoek-en-behandelingen/lawaaibescherming at 12/11/2023 15:28:56\nLawaaibescherming\nscraping https://www.azstlucas.be/onderzoek-en-behandelingen/leven-met-een-inwendige-defibrillator-icd at 12/11/2023 15:28:57\nLeven met een inwendige defibrillator (ICD)\nscraping https://www.azstlucas.be/onderzoek-en-behandelingen/lichamelijk-gynaecologisch-onderzoek at 12/11/2023 15:28:58\nLichamelijk gynaecologisch onderzoek\nscraping https://www.azstlucas.be/onderzoek-en-behandelingen/lichttherapie at 12/11/2023 15:28:58\nLichttherapie (UVB/PUVA)\nscraping https://www.azstlucas.be/onderzoek-en-behandelingen/lidocaine-infuus at 12/11/2023 15:28:59\nLidocaïne infuus\nscraping https://www.azstlucas.be/onderzoek-en-behandelingen/liesbreuk at 12/11/2023 15:28:59\nLiesbreuk\nscraping https://www.azstlucas.be/onderzoek-en-behandelingen/liposculptuur at 12/11/2023 15:29:00\nLiposculptuur\nscraping https://www.azstlucas.be/onderzoek-en-behandelingen/littekenbreuk at 12/11/2023 15:29:01\nLittekenbreuk\nscraping https://www.azstlucas.be/onderzoek-en-behandelingen/lobectomie at 12/11/2023 15:29:01\nLobectomie\nscraping https://www.azstlucas.be/onderzoek-en-behandelingen/locoregionale-verdoving at 12/11/2023 15:29:02\nLocoregionale anesthesie\nscraping https://www.azstlucas.be/onderzoek-en-behandelingen/lokale-immunotherapie-bij-de-behandeling-van-alopecia-areata at 12/11/2023 15:29:03\nLokale immunotherapie bij de behandeling van alopecia areata\nscraping https://www.azstlucas.be/onderzoek-en-behandelingen/lokale-infiltratie at 12/11/2023 15:29:04\nLokale infiltratie\nscraping https://www.azstlucas.be/onderzoek-en-behandelingen/longfunctieonderzoek at 12/11/2023 15:29:04\nLongfunctieonderzoek\nscraping https://www.azstlucas.be/onderzoek-en-behandelingen/longfunctieonderzoek-bij-kinderen at 12/11/2023 15:29:05\nLongfunctieonderzoek bij kinderen\nscraping https://www.azstlucas.be/onderzoek-en-behandelingen/lumbale-arthrodese at 12/11/2023 15:29:05\nLumbale arthrodese\nscraping https://www.azstlucas.be/onderzoek-en-behandelingen/lumbale-discus-hernia-operatie at 12/11/2023 15:29:06\nLumbale discus hernia operatie\nscraping https://www.azstlucas.be/onderzoek-en-behandelingen/lumbale-epidurale-infiltratie at 12/11/2023 15:29:07\nLumbale epidurale infiltratie\nscraping https://www.azstlucas.be/onderzoek-en-behandelingen/lumbale-facetinfiltratie at 12/11/2023 15:29:08\nLumbale facetinfiltratie\nscraping https://www.azstlucas.be/onderzoek-en-behandelingen/lumbale-punctie at 12/11/2023 15:29:10\nLumbale punctie\nscraping https://www.azstlucas.be/onderzoek-en-behandelingen/lumbale-punctie-bij-kinderen at 12/11/2023 15:29:11\nLumbale punctie bij kinderen\nscraping https://www.azstlucas.be/onderzoek-en-behandelingen/sympathicusblokkade at 12/11/2023 15:29:11\nLumbale sympathicusblokkade\nscraping https://www.azstlucas.be/onderzoek-en-behandelingen/lymfedrainage-na-borstoperatie at 12/11/2023 15:29:12\nLymfedrainage na borstoperatie\nscraping https://www.azstlucas.be/onderzoek-en-behandelingen/lymfescintigrafie at 12/11/2023 15:29:13\nLymfescintigrafie\nscraping https://www.azstlucas.be/onderzoek-en-behandelingen/maagontledigingsonderzoek at 12/11/2023 15:29:14\nMaagontledigingsonderzoek\nscraping https://www.azstlucas.be/onderzoek-en-behandelingen/mag3-scintigrafie at 12/11/2023 15:29:14\nMAG3-scintigrafie\nscraping https://www.azstlucas.be/onderzoek-en-behandelingen/mammografie at 12/11/2023 15:29:16\nMammografie\nscraping https://www.azstlucas.be/onderzoek-en-behandelingen/mandibulair-repositie-apparaat-mra at 12/11/2023 15:29:16\nMandibulair repositie-apparaat (MRA)\nscraping https://www.azstlucas.be/onderzoek-en-behandelingen/manuele-geneeskunde at 12/11/2023 15:29:17\nManuele geneeskunde\nscraping https://www.azstlucas.be/onderzoek-en-behandelingen/mediale-facetectomie at 12/11/2023 15:29:18\nMediale facetectomie\nscraping https://www.azstlucas.be/onderzoek-en-behandelingen/meniscuschirurgie at 12/11/2023 15:29:19\nMeniscuschirurgie\nscraping https://www.azstlucas.be/onderzoek-en-behandelingen/metabool-bilan at 12/11/2023 15:29:20\nMetabool bilan\nscraping https://www.azstlucas.be/onderzoek-en-behandelingen/microvasculaire-decompressie at 12/11/2023 15:29:20\nMicrovasculaire decompressie\nscraping https://www.azstlucas.be/onderzoek-en-behandelingen/mri-scan-van-het-hart at 12/11/2023 15:29:21\nMRI-scan van het hart\nscraping https://www.azstlucas.be/onderzoek-en-behandelingen/muga-scan at 12/11/2023 15:29:22\nMUGA-scan\nscraping https://www.azstlucas.be/onderzoek-en-behandelingen/multidisciplinair-pijnconsult at 12/11/2023 15:29:22\nMultidisciplinair pijnconsult\nscraping https://www.azstlucas.be/onderzoek-en-behandelingen/multiple-sleep-latency-test at 12/11/2023 15:29:23\nMultiple sleep latency test (MSLT)\nscraping https://www.azstlucas.be/onderzoek-en-behandelingen/musculoskeletale-echografie at 12/11/2023 15:29:24\nMusculoskeletale echografie\nscraping https://www.azstlucas.be/onderzoek-en-behandelingen/myelografie at 12/11/2023 15:29:25\nMyelografie\nscraping https://www.azstlucas.be/onderzoek-en-behandelingen/myocardperfusiescintigrafie at 12/11/2023 15:29:26\nMyocardperfusiescintigrafie\nscraping https://www.azstlucas.be/onderzoek-en-behandelingen/myomectomie at 12/11/2023 15:29:27\nMyomectomie\nscraping https://www.azstlucas.be/onderzoek-en-behandelingen/nagelchirurgie at 12/11/2023 15:29:28\nNagelchirurgie\nscraping https://www.azstlucas.be/onderzoek-en-behandelingen/navelbreuk at 12/11/2023 15:29:29\nNavelbreuk\nscraping https://www.azstlucas.be/onderzoek-en-behandelingen/neurostimulatie at 12/11/2023 15:29:30\nNeurostimulatie\nscraping https://www.azstlucas.be/onderzoek-en-behandelingen/neuscorrectie at 12/11/2023 15:29:31\nNeuscorrectie\nscraping https://www.azstlucas.be/onderzoek-en-behandelingen/neustussenschotcorrectie at 12/11/2023 15:29:32\nNeustussenschotcorrectie\nscraping https://www.azstlucas.be/onderzoek-en-behandelingen/nierbiopsie at 12/11/2023 15:29:34\nNierbiopsie\nscraping https://www.azstlucas.be/onderzoek-en-behandelingen/niertransplantatie at 12/11/2023 15:29:35\nNiertransplantatie\nscraping https://www.azstlucas.be/onderzoek-en-behandelingen/niet-ingedaalde-teelballen at 12/11/2023 15:29:36\nNiet-ingedaalde teelballen\nscraping https://www.azstlucas.be/onderzoek-en-behandelingen/nipt at 12/11/2023 15:29:37\nNIPT - de niet-invasieve prenatale test voor trisomie.\nscraping https://www.azstlucas.be/onderzoek-en-behandelingen/nmr-enterografie at 12/11/2023 15:29:38\nNMR enterografie\nscraping https://www.azstlucas.be/onderzoek-en-behandelingen/nmr-full-body at 12/11/2023 15:29:39\nNMR full body\nscraping https://www.azstlucas.be/onderzoek-en-behandelingen/no-meting at 12/11/2023 15:29:40\nNO-meting\nscraping https://www.azstlucas.be/onderzoek-en-behandelingen/vaso-vasostomie at 12/11/2023 15:29:41\nVaso-vasostomie\nscraping https://www.azstlucas.be/onderzoek-en-behandelingen/onmiddellijke-belasting-immediate-loading at 12/11/2023 15:29:42\nOnmiddellijke belasting (immediate loading)\nscraping https://www.azstlucas.be/onderzoek-en-behandelingen/ontharingslaser at 12/11/2023 15:29:43\nOntharingslaser\nscraping https://www.azstlucas.be/onderzoek-en-behandelingen/knieprothese-op-maat at 12/11/2023 15:29:44\nOp maat gemaakte knieprothese\nscraping https://www.azstlucas.be/onderzoek-en-behandelingen/operatie-bij-borstkanker at 12/11/2023 15:29:44\nOperatie bij borstkanker\nscraping https://www.azstlucas.be/onderzoek-en-behandelingen/operatie-bij-chronische-middenoorontsteking at 12/11/2023 15:29:45\nOperatie bij chronische middenoorontsteking\nscraping https://www.azstlucas.be/onderzoek-en-behandelingen/operatie-bij-darmkanker at 12/11/2023 15:29:46\nOperatie bij darmkanker\nscraping https://www.azstlucas.be/onderzoek-en-behandelingen/operaties-voor-darmzakkingen at 12/11/2023 15:29:46\nOperaties voor darmzakkingen\nscraping https://www.azstlucas.be/onderzoek-en-behandelingen/orale-glucose-tolerantie-test-suikertest at 12/11/2023 15:29:47\nOrale glucose tolerantie test (suikertest)\nscraping https://www.azstlucas.be/onderzoek-en-behandelingen/osteotomie at 12/11/2023 15:29:48\nOsteotomie\nscraping https://www.azstlucas.be/onderzoek-en-behandelingen/overmatig-zweten-oksels at 12/11/2023 15:29:48\nOvermatig zweten aan de oksels\nscraping https://www.azstlucas.be/onderzoek-en-behandelingen/ovulatie-inductie at 12/11/2023 15:29:49\nOvulatie-inductie\nscraping https://www.azstlucas.be/onderzoek-en-behandelingen/pacemaker at 12/11/2023 15:29:50\nPacemaker\nscraping https://www.azstlucas.be/onderzoek-en-behandelingen/partiële-nefrectomie at 12/11/2023 15:29:51\nPartiële nefrectomie\nscraping https://www.azstlucas.be/onderzoek-en-behandelingen/pcr-test at 12/11/2023 15:29:52\nPCR-test COVID-19\nscraping https://www.azstlucas.be/onderzoek-en-behandelingen/peeling at 12/11/2023 15:29:52\nPeeling\nscraping https://www.azstlucas.be/onderzoek-en-behandelingen/percutane-niersteenbehandeling at 12/11/2023 15:29:53\nPercutane niersteenbehandeling\nscraping https://www.azstlucas.be/onderzoek-en-behandelingen/peritoneale-dialyse at 12/11/2023 15:29:54\nPeritoneale dialyse\nscraping https://www.azstlucas.be/onderzoek-en-behandelingen/pessarium-of-vaginale-ring at 12/11/2023 15:29:54\nPessarium of vaginale ring\nscraping https://www.azstlucas.be/onderzoek-en-behandelingen/picoplus-laserbehandeling at 12/11/2023 15:29:55\nPicolaserbehandeling\nscraping https://www.azstlucas.be/onderzoek-en-behandelingen/pigmentlaserbehandeling at 12/11/2023 15:29:56\nPigmentlaserbehandeling\nscraping https://www.azstlucas.be/onderzoek-en-behandelingen/trommelvliesbuisjes at 12/11/2023 15:29:57\nPlaatsen van trommelvliesbuisjes\nscraping https://www.azstlucas.be/onderzoek-en-behandelingen/plaktesten-epicutane-testen at 12/11/2023 15:29:57\nPlaktesten (epicutane testen)\nscraping https://www.azstlucas.be/onderzoek-en-behandelingen/pleurapunctie at 12/11/2023 15:29:58\nPleurapunctie\nscraping https://www.azstlucas.be/onderzoek-en-behandelingen/polygrafie at 12/11/2023 15:29:59\nPolygrafie\nscraping https://www.azstlucas.be/onderzoek-en-behandelingen/pompconventie at 12/11/2023 15:29:59\nPompconventie\nscraping https://www.azstlucas.be/onderzoek-en-behandelingen/poortkatheter-pac at 12/11/2023 15:30:00\nPoortkatheter (PAC)\nscraping https://www.azstlucas.be/onderzoek-en-behandelingen/positietesten-bij-bppv at 12/11/2023 15:30:00\nPositietesten bij BPPV\nscraping https://www.azstlucas.be/onderzoek-en-behandelingen/prostaatbiopsie at 12/11/2023 15:30:01\nProstaatbiopsie\nscraping https://www.azstlucas.be/onderzoek-en-behandelingen/provocatietest at 12/11/2023 15:30:02\nProvocatietest bij voedsel- of geneesmiddelenallergie\nscraping https://www.azstlucas.be/onderzoek-en-behandelingen/prp-plaatjes-rijk-plasma at 12/11/2023 15:30:02\nPRP (Plaatjes rijk plasma)\nscraping https://www.azstlucas.be/onderzoek-en-behandelingen/prp-behandeling at 12/11/2023 15:30:04\nPRP-behandeling\nscraping https://www.azstlucas.be/onderzoek-en-behandelingen/pyeloplastie at 12/11/2023 15:30:04\nPyeloplastie\nscraping https://www.azstlucas.be/onderzoek-en-behandelingen/qutenza-pleister at 12/11/2023 15:30:05\nQutenza-pleister\nscraping https://www.azstlucas.be/onderzoek-en-behandelingen/radicale-cystectomie-bricker-stoma-man at 12/11/2023 15:30:06\nRadicale cystectomie + bricker stoma man\nscraping https://www.azstlucas.be/onderzoek-en-behandelingen/radicale-cystectomie-bricker-vrouw at 12/11/2023 15:30:06\nRadicale cystectomie + bricker vrouw\nscraping https://www.azstlucas.be/onderzoek-en-behandelingen/radicale-cystectomie-neoblaas-man- at 12/11/2023 15:30:07\nRadicale cystectomie + neoblaas man\nscraping https://www.azstlucas.be/onderzoek-en-behandelingen/radicale-cystectomie-neoblaas-man-1 at 12/11/2023 15:30:08\nRadicale cystectomie + neoblaas vrouw\nscraping https://www.azstlucas.be/onderzoek-en-behandelingen/radicale-nefrectomie at 12/11/2023 15:30:09\nRadicale nefrectomie\nscraping https://www.azstlucas.be/onderzoek-en-behandelingen/radicale-nefro-ureterectomie at 12/11/2023 15:30:10\nRadicale nefro-ureterectomie\nscraping https://www.azstlucas.be/onderzoek-en-behandelingen/ralif-anterieure-toegang-voor-wervelzuil-chirurgie at 12/11/2023 15:30:11\nRalif (anterieure toegang voor wervelzuil chirurgie)\nscraping https://www.azstlucas.be/onderzoek-en-behandelingen/rapid-recovery at 12/11/2023 15:30:11\nRapid recovery\nscraping https://www.azstlucas.be/onderzoek-en-behandelingen/repetitieve-transcraniele-magnetische-stimulatie-rtms at 12/11/2023 15:30:13\nRepetitieve Transcraniële Magnetische Stimulatie (rTMS)\nscraping https://www.azstlucas.be/onderzoek-en-behandelingen/respiratoire-revalidatie at 12/11/2023 15:30:13\nRespiratoire revalidatie\nscraping https://www.azstlucas.be/onderzoek-en-behandelingen/retrograde-urethrografie at 12/11/2023 15:30:14\nRetrograde urethrografie\nscraping https://www.azstlucas.be/onderzoek-en-behandelingen/revalidatie-na-covid-revida at 12/11/2023 15:30:15\nRevalidatie na COVID (Revida)\nscraping https://www.azstlucas.be/onderzoek-en-behandelingen/rhinomanometrie at 12/11/2023 15:30:15\nRhinomanometrie\nscraping https://www.azstlucas.be/onderzoek-en-behandelingen/richtlijnen-bij-het-produceren-en-afgeven-van-een-spermastaal at 12/11/2023 15:30:16\nRichtlijnen bij het produceren en afgeven van een spermastaal\nscraping https://www.azstlucas.be/onderzoek-en-behandelingen/rimpelbehandeling-en-huidverjonging at 12/11/2023 15:30:17\nRimpelbehandeling en huidverjonging\nscraping https://www.azstlucas.be/onderzoek-en-behandelingen/rimpelbehandeling-met-botox at 12/11/2023 15:30:18\nRimpelbehandeling met botuline toxine\nscraping https://www.azstlucas.be/onderzoek-en-behandelingen/rimpelbehandeling-met-fillers at 12/11/2023 15:30:19\nRimpelbehandeling met fillers\nscraping https://www.azstlucas.be/onderzoek-en-behandelingen/robot-geassisteerde-knieprothese at 12/11/2023 15:30:20\nRobot geassisteerde knieprothese\nscraping https://www.azstlucas.be/onderzoek-en-behandelingen/robotgeassisteerde-radicale-prostatectomie at 12/11/2023 15:30:20\nRobotgeassisteerde radicale prostatectomie\nscraping https://www.azstlucas.be/onderzoek-en-behandelingen/rompstabilisatie at 12/11/2023 15:30:21\nRompstabilisatie\nscraping https://www.azstlucas.be/onderzoek-en-behandelingen/rookstop at 12/11/2023 15:30:22\nRookstop\nscraping https://www.azstlucas.be/onderzoek-en-behandelingen/rug-en-nekrevalidatie at 12/11/2023 15:30:22\nRug- en nekrevalidatie\nscraping https://www.azstlucas.be/onderzoek-en-behandelingen/rx-thorax at 12/11/2023 15:30:23\nRX thorax\nscraping https://www.azstlucas.be/onderzoek-en-behandelingen/rtms at 12/11/2023 15:30:25\nrTMS\nscraping https://www.azstlucas.be/onderzoek-en-behandelingen/sacrocolpopexie at 12/11/2023 15:30:26\nSacrocolpopexie\nscraping https://www.azstlucas.be/onderzoek-en-behandelingen/saturatiemeting at 12/11/2023 15:30:26\nSaturatiemeting\nscraping https://www.azstlucas.be/onderzoek-en-behandelingen/schildklieroperatie at 12/11/2023 15:30:27\nSchildklieroperatie (thyroïdectomie)\nscraping https://www.azstlucas.be/onderzoek-en-behandelingen/schildklierscintigrafie at 12/11/2023 15:30:28\nSchildklierscintigrafie\nscraping https://www.azstlucas.be/onderzoek-en-behandelingen/schouderprothese at 12/11/2023 15:30:29\nSchouderprothese\nscraping https://www.azstlucas.be/onderzoek-en-behandelingen/sclerotherapie at 12/11/2023 15:30:29\nSclerotherapie\nscraping https://www.azstlucas.be/onderzoek-en-behandelingen/sedatie at 12/11/2023 15:30:30\nSedatie\nscraping https://www.azstlucas.be/onderzoek-en-behandelingen/sentinelklierprocedure at 12/11/2023 15:30:31\nSentinelklierprocedure\nscraping https://www.azstlucas.be/onderzoek-en-behandelingen/sentinelprocedure at 12/11/2023 15:30:32\nSentinelprocedure\nscraping https://www.azstlucas.be/onderzoek-en-behandelingen/sig-infiltratie at 12/11/2023 15:30:33\nSIG-infiltratie\nscraping https://www.azstlucas.be/onderzoek-en-behandelingen/sinus-pilonidalis at 12/11/2023 15:30:34\nSinus pilonidalis\nscraping https://www.azstlucas.be/onderzoek-en-behandelingen/slaapendoscopie at 12/11/2023 15:30:36\nSlaapendoscopie\nscraping https://www.azstlucas.be/onderzoek-en-behandelingen/polysomnografie at 12/11/2023 15:30:36\nSlaaponderzoek (polysomnografie)\nscraping https://www.azstlucas.be/onderzoek-en-behandelingen/slikact at 12/11/2023 15:30:37\nSlikact\nscraping https://www.azstlucas.be/onderzoek-en-behandelingen/slokdarmmanometrie at 12/11/2023 15:30:38\nSlokdarmmanometrie\nscraping https://www.azstlucas.be/onderzoek-en-behandelingen/sluiten-van-een-trommelvliesgaatje at 12/11/2023 15:30:38\nSluiten van een trommelvliesgaatje\nscraping https://www.azstlucas.be/onderzoek-en-behandelingen/smd-onderzoek at 12/11/2023 15:30:40\nSMD-onderzoek\nscraping https://www.azstlucas.be/onderzoek-en-behandelingen/speekselklieroperatie at 12/11/2023 15:30:40\nSpeekselklieroperatie\nscraping https://www.azstlucas.be/onderzoek-en-behandelingen/speen-of-hemorroiden at 12/11/2023 15:30:41\nSpeen of hemorroïden\nscraping https://www.azstlucas.be/onderzoek-en-behandelingen/spierbiopsie at 12/11/2023 15:30:42\nSpierbiopsie\nscraping https://www.azstlucas.be/onderzoek-en-behandelingen/spraakaudiometrie at 12/11/2023 15:30:42\nSpraakaudiometrie\nscraping https://www.azstlucas.be/onderzoek-en-behandelingen/stapediusreflextest at 12/11/2023 15:30:43\nStapediusreflextest\nscraping https://www.azstlucas.be/onderzoek-en-behandelingen/steenverbrijzeling-eswl at 12/11/2023 15:30:44\nSteenverbrijzeling (ESWL)\nscraping https://www.azstlucas.be/onderzoek-en-behandelingen/stenting-halsslagader at 12/11/2023 15:30:44\nStenting halsslagader\nscraping https://www.azstlucas.be/onderzoek-en-behandelingen/stentplaatsing at 12/11/2023 15:30:45\nStentplaatsing\nscraping https://www.azstlucas.be/onderzoek-en-behandelingen/sterilisatie at 12/11/2023 15:30:46\nSterilisatie\nscraping https://www.azstlucas.be/onderzoek-en-behandelingen/stijgbeugeloperatie-stapedotomie at 12/11/2023 15:30:47\nStijgbeugeloperatie (stapedotomie)\nscraping https://www.azstlucas.be/onderzoek-en-behandelingen/stroboscopie at 12/11/2023 15:30:48\nStroboscopie\nscraping https://www.azstlucas.be/onderzoek-en-behandelingen/tens at 12/11/2023 15:30:49\nTENS\nscraping https://www.azstlucas.be/onderzoek-en-behandelingen/tepelcorrectie at 12/11/2023 15:30:49\nTepelcorrectie\nscraping https://www.azstlucas.be/onderzoek-en-behandelingen/thoraxdrainage at 12/11/2023 15:30:50\nThoraxdrainage\nscraping https://www.azstlucas.be/onderzoek-en-behandelingen/thuishemodialyse at 12/11/2023 15:30:51\nThuishemodialyse\nscraping https://www.azstlucas.be/onderzoek-en-behandelingen/tilttest at 12/11/2023 15:30:52\nTilttest\nscraping https://www.azstlucas.be/onderzoek-en-behandelingen/tinnitusanalyse at 12/11/2023 15:30:53\nTinnitusanalyse\nscraping https://www.azstlucas.be/onderzoek-en-behandelingen/bloedtransfusie at 12/11/2023 15:30:54\nToediening van bloed of bloedproducten\nscraping https://www.azstlucas.be/onderzoek-en-behandelingen/immunoglobuline at 12/11/2023 15:30:55\nToediening van immunoglobuline\nscraping https://www.azstlucas.be/onderzoek-en-behandelingen/toonaudiometrie at 12/11/2023 15:30:55\nToonaudiometrie\nscraping https://www.azstlucas.be/onderzoek-en-behandelingen/tot-of-tvt-bij-stressincontinentie at 12/11/2023 15:30:56\nTOT of TVT bij stressincontinentie\nscraping https://www.azstlucas.be/onderzoek-en-behandelingen/totale-huidinspectie at 12/11/2023 15:30:57\nTotale huidinspectie\nscraping https://www.azstlucas.be/onderzoek-en-behandelingen/transforaminale-epidurale-infiltratie at 12/11/2023 15:30:58\nTransforaminale epidurale infiltratie\nscraping https://www.azstlucas.be/onderzoek-en-behandelingen/transurethrale-resectie-tur-van-de-prostaat at 12/11/2023 15:30:58\nTransurethrale resectie (TUR)  van de prostaat\nscraping https://www.azstlucas.be/onderzoek-en-behandelingen/transurethrale-resectie-tur-van-de-blaas at 12/11/2023 15:30:59\nTransurethrale resectie (TUR) van de blaas\nscraping https://www.azstlucas.be/onderzoek-en-behandelingen/trepanatie-voor-hersenongeval-hersenbloeding at 12/11/2023 15:31:00\nTrepanatie voor hersenongeval /hersenbloeding\nscraping https://www.azstlucas.be/onderzoek-en-behandelingen/tur-blaas at 12/11/2023 15:31:01\nTUR blaas of blaasbiopsie\nscraping https://www.azstlucas.be/onderzoek-en-behandelingen/tur-prostaat at 12/11/2023 15:31:01\nTUR prostaat\nscraping https://www.azstlucas.be/onderzoek-en-behandelingen/tympanometrie at 12/11/2023 15:31:02\nTympanometrie\nscraping https://www.azstlucas.be/onderzoek-en-behandelingen/uitstrijkje at 12/11/2023 15:31:03\nUitstrijkje\nscraping https://www.azstlucas.be/onderzoek-en-behandelingen/uitwendige-borstprothese at 12/11/2023 15:31:04\nUitwendige borstprothese\nscraping https://www.azstlucas.be/onderzoek-en-behandelingen/unicompartimentele-knieprothese at 12/11/2023 15:31:04\nUnicompartimentele knieprothese\nscraping https://www.azstlucas.be/onderzoek-en-behandelingen/ureter-reimplantatie at 12/11/2023 15:31:06\nUreter-reïmplantatie\nscraping https://www.azstlucas.be/onderzoek-en-behandelingen/ureterorenoscopie at 12/11/2023 15:31:07\nUreterorenoscopie\nscraping https://www.azstlucas.be/onderzoek-en-behandelingen/uroflowmetrie at 12/11/2023 15:31:07\nUroflowmetrie\nscraping https://www.azstlucas.be/onderzoek-en-behandelingen/vaatlaserbehandeling at 12/11/2023 15:31:08\nVaatlaserbehandeling\nscraping https://www.azstlucas.be/onderzoek-en-behandelingen/varices-spataders at 12/11/2023 15:31:09\nVarices (spataders)\nscraping https://www.azstlucas.be/onderzoek-en-behandelingen/vasculaire-scan at 12/11/2023 15:31:09\nVasculaire scan\nscraping https://www.azstlucas.be/onderzoek-en-behandelingen/vasectomie at 12/11/2023 15:31:10\nVasectomie\nscraping https://www.azstlucas.be/onderzoek-en-behandelingen/ventilatie-perfusie-scintigrafie at 12/11/2023 15:31:11\nVentilatie/perfusie scintigrafie\nscraping https://www.azstlucas.be/onderzoek-en-behandelingen/ventriculoperitoneale-drainage at 12/11/2023 15:31:11\nVentriculoperitoneale drainage (VPD)\nscraping https://www.azstlucas.be/onderzoek-en-behandelingen/verbinding-met-de-kaaksinus at 12/11/2023 15:31:12\nVerbinding met de kaaksinus\nscraping https://www.azstlucas.be/onderzoek-en-behandelingen/verblijfssonde at 12/11/2023 15:31:13\nVerblijfssonde\nscraping https://www.azstlucas.be/onderzoek-en-behandelingen/verbreding-van-de-bovenkaak-tpd at 12/11/2023 15:31:14\nVerbreding van de bovenkaak (TPD)\nscraping https://www.azstlucas.be/onderzoek-en-behandelingen/verdoving-bij-de-bevalling-of-keizersnede at 12/11/2023 15:31:15\nVerdoving bij de bevalling of keizersnede\nscraping https://www.azstlucas.be/onderzoek-en-behandelingen/vertebroplastie at 12/11/2023 15:31:15\nVertebroplastie\nscraping https://www.azstlucas.be/onderzoek-en-behandelingen/verwijderen-van-de-neusamandel at 12/11/2023 15:31:16\nVerwijderen van de neusamandel\nscraping https://www.azstlucas.be/onderzoek-en-behandelingen/verwijderen-van-keelamandelen-tonsillectomie at 12/11/2023 15:31:17\nVerwijderen van keelamandelen (tonsillectomie)\nscraping https://www.azstlucas.be/onderzoek-en-behandelingen/verwijderen-van-mogelijk-verdachte-moedervlekken at 12/11/2023 15:31:17\nVerwijderen van mogelijk verdachte moedervlekken\nscraping https://www.azstlucas.be/onderzoek-en-behandelingen/verwijderen-van-talgkliercystes at 12/11/2023 15:31:18\nVerwijderen van talgkliercystes\nscraping https://www.azstlucas.be/onderzoek-en-behandelingen/verwijderen-van-vetbollen-of-lipomen at 12/11/2023 15:31:18\nVerwijderen van vetbollen of lipomen\nscraping https://www.azstlucas.be/onderzoek-en-behandelingen/video-head-impulse-test at 12/11/2023 15:31:19\nVideo Head Impulse Test\nscraping https://www.azstlucas.be/onderzoek-en-behandelingen/volledige-okselklieruitruiming at 12/11/2023 15:31:20\nVolledige okselklieruitruiming\nscraping https://www.azstlucas.be/onderzoek-en-behandelingen/voorste-kruisbandchirurgie at 12/11/2023 15:31:20\nVoorste kruisbandchirurgie\nscraping https://www.azstlucas.be/onderzoek-en-behandelingen/vulvectomie at 12/11/2023 15:31:21\nVulvectomie\nscraping https://www.azstlucas.be/onderzoek-en-behandelingen/wakkere-hersenoperatie at 12/11/2023 15:31:23\nWakkere hersenoperatie\nscraping https://www.azstlucas.be/onderzoek-en-behandelingen/wertheim-okabayashi-operatie at 12/11/2023 15:31:24\nWertheim-Okabayashi operatie\nscraping https://www.azstlucas.be/onderzoek-en-behandelingen/witte-bloedcelscintigrafie at 12/11/2023 15:31:25\nWitte bloedcelscintigrafie\nscraping https://www.azstlucas.be/onderzoek-en-behandelingen/wortelpuntbehandeling-apicotomie at 12/11/2023 15:31:25\nWortelpuntbehandeling (apicotomie)\nscraping https://www.azstlucas.be/onderzoek-en-behandelingen/zenuwblokkade at 12/11/2023 15:31:26\nZenuwblokkade\nscraping https://www.azstlucas.be/onderzoek-en-behandelingen/zes-minuten-wandeltest at 12/11/2023 15:31:27\nZes minuten wandeltest\nscraping https://www.azstlucas.be/onderzoek-en-behandelingen/zuurstoftherapie at 12/11/2023 15:31:27\nZuurstoftherapie\nscraping https://www.azstlucas.be/onderzoek-en-behandelingen/oto-akoestische-emissies at 12/11/2023 15:31:28\n﻿Oto-akoestische emissies\n"
        }
      ],
      "execution_count": 151,
      "metadata": {
        "jupyter": {
          "source_hidden": false,
          "outputs_hidden": false
        },
        "nteract": {
          "transient": {
            "deleting": false
          }
        },
        "editable": true,
        "run_control": {
          "frozen": false
        },
        "gather": {
          "logged": 1699803089545
        }
      }
    },
    {
      "cell_type": "markdown",
      "source": [
        "### Serialize Scraped Webpages"
      ],
      "metadata": {
        "nteract": {
          "transient": {
            "deleting": false
          }
        }
      }
    },
    {
      "cell_type": "code",
      "source": [
        "# Save DF to Blob Storage for later retrieval. \n",
        "webpages_df.to_pickle(path='./data/webpages_raw.pkl')"
      ],
      "outputs": [],
      "execution_count": 158,
      "metadata": {
        "jupyter": {
          "source_hidden": false,
          "outputs_hidden": false
        },
        "nteract": {
          "transient": {
            "deleting": false
          }
        },
        "gather": {
          "logged": 1699803882146
        }
      }
    },
    {
      "cell_type": "code",
      "source": [
        "# Read from pikle file\n",
        "webpages_test_df = pd.read_pickle('./data/webpages_raw.pkl')\n",
        "\n",
        "webpages_test_df.head()"
      ],
      "outputs": [
        {
          "output_type": "execute_result",
          "execution_count": 159,
          "data": {
            "text/plain": "                                             content  \\\n0  \\n## Waarom willen de kinderartsen dat je baby...   \n1  \\nWe weten dat reflux en opboeren voor een aan...   \n2  \\n## Algemene richtlijnen\\n\\n\\nIn opdracht van...   \n3  \\n## Algemene richtlijnen\\n\\n\\nIn opdracht van...   \n4  \\nBij een 24-uurs bloeddrukmeting wordt de blo...   \n\n                           banner_title  \\\n0  24 uur observatie van de pasgeborene   \n1               24 uur ph-metrie meting   \n2  24 uur stoelgang sparen: richtlijnen   \n3                   24 uur urine sparen   \n4               24-uurs bloeddrukmeting   \n\n                                    banner_divisions  \\\n0  [{'division_url': 'https://www.azstlucas.be/sp...   \n1  [{'division_url': 'https://www.azstlucas.be/sp...   \n2  [{'division_url': 'https://www.azstlucas.be/sp...   \n3  [{'division_url': 'https://www.azstlucas.be/sp...   \n4  [{'division_url': 'https://www.azstlucas.be/sp...   \n\n                                               intro  \\\n0  Elke pasgeborene wordt - bij overnachting - bi...   \n1  Een ph-metrie meting met impedantiemeting is e...   \n2                                                      \n3                                                      \n4  Als je last hebt van hoge bloeddruk of hyperte...   \n\n                                                 toc  \\\n0  [{'link_url': '#waarom-willen-we-dat-je-baby-m...   \n1  [{'link_url': '#hoe-gebeurt-de-meting', 'link_...   \n2  [{'link_url': '#algemene-richtlijnen', 'link_t...   \n3  [{'link_url': '#algemene-richtlijnen', 'link_t...   \n4                                                 []   \n\n                                                 url          scrape_date  \n0  https://www.azstlucas.be/onderzoek-en-behandel...  12/11/2023 15:26:50  \n1  https://www.azstlucas.be/onderzoek-en-behandel...  12/11/2023 15:26:50  \n2  https://www.azstlucas.be/onderzoek-en-behandel...  12/11/2023 15:26:51  \n3  https://www.azstlucas.be/onderzoek-en-behandel...  12/11/2023 15:26:52  \n4  https://www.azstlucas.be/onderzoek-en-behandel...  12/11/2023 15:26:52  ",
            "text/html": "<div>\n<style scoped>\n    .dataframe tbody tr th:only-of-type {\n        vertical-align: middle;\n    }\n\n    .dataframe tbody tr th {\n        vertical-align: top;\n    }\n\n    .dataframe thead th {\n        text-align: right;\n    }\n</style>\n<table border=\"1\" class=\"dataframe\">\n  <thead>\n    <tr style=\"text-align: right;\">\n      <th></th>\n      <th>content</th>\n      <th>banner_title</th>\n      <th>banner_divisions</th>\n      <th>intro</th>\n      <th>toc</th>\n      <th>url</th>\n      <th>scrape_date</th>\n    </tr>\n  </thead>\n  <tbody>\n    <tr>\n      <th>0</th>\n      <td>\\n## Waarom willen de kinderartsen dat je baby...</td>\n      <td>24 uur observatie van de pasgeborene</td>\n      <td>[{'division_url': 'https://www.azstlucas.be/sp...</td>\n      <td>Elke pasgeborene wordt - bij overnachting - bi...</td>\n      <td>[{'link_url': '#waarom-willen-we-dat-je-baby-m...</td>\n      <td>https://www.azstlucas.be/onderzoek-en-behandel...</td>\n      <td>12/11/2023 15:26:50</td>\n    </tr>\n    <tr>\n      <th>1</th>\n      <td>\\nWe weten dat reflux en opboeren voor een aan...</td>\n      <td>24 uur ph-metrie meting</td>\n      <td>[{'division_url': 'https://www.azstlucas.be/sp...</td>\n      <td>Een ph-metrie meting met impedantiemeting is e...</td>\n      <td>[{'link_url': '#hoe-gebeurt-de-meting', 'link_...</td>\n      <td>https://www.azstlucas.be/onderzoek-en-behandel...</td>\n      <td>12/11/2023 15:26:50</td>\n    </tr>\n    <tr>\n      <th>2</th>\n      <td>\\n## Algemene richtlijnen\\n\\n\\nIn opdracht van...</td>\n      <td>24 uur stoelgang sparen: richtlijnen</td>\n      <td>[{'division_url': 'https://www.azstlucas.be/sp...</td>\n      <td></td>\n      <td>[{'link_url': '#algemene-richtlijnen', 'link_t...</td>\n      <td>https://www.azstlucas.be/onderzoek-en-behandel...</td>\n      <td>12/11/2023 15:26:51</td>\n    </tr>\n    <tr>\n      <th>3</th>\n      <td>\\n## Algemene richtlijnen\\n\\n\\nIn opdracht van...</td>\n      <td>24 uur urine sparen</td>\n      <td>[{'division_url': 'https://www.azstlucas.be/sp...</td>\n      <td></td>\n      <td>[{'link_url': '#algemene-richtlijnen', 'link_t...</td>\n      <td>https://www.azstlucas.be/onderzoek-en-behandel...</td>\n      <td>12/11/2023 15:26:52</td>\n    </tr>\n    <tr>\n      <th>4</th>\n      <td>\\nBij een 24-uurs bloeddrukmeting wordt de blo...</td>\n      <td>24-uurs bloeddrukmeting</td>\n      <td>[{'division_url': 'https://www.azstlucas.be/sp...</td>\n      <td>Als je last hebt van hoge bloeddruk of hyperte...</td>\n      <td>[]</td>\n      <td>https://www.azstlucas.be/onderzoek-en-behandel...</td>\n      <td>12/11/2023 15:26:52</td>\n    </tr>\n  </tbody>\n</table>\n</div>"
          },
          "metadata": {}
        }
      ],
      "execution_count": 159,
      "metadata": {
        "jupyter": {
          "source_hidden": false,
          "outputs_hidden": false
        },
        "nteract": {
          "transient": {
            "deleting": false
          }
        },
        "gather": {
          "logged": 1699803884338
        }
      }
    }
  ],
  "metadata": {
    "kernelspec": {
      "name": "python38-azureml",
      "language": "python",
      "display_name": "Python 3.8 - AzureML"
    },
    "language_info": {
      "name": "python",
      "version": "3.8.5",
      "mimetype": "text/x-python",
      "codemirror_mode": {
        "name": "ipython",
        "version": 3
      },
      "pygments_lexer": "ipython3",
      "nbconvert_exporter": "python",
      "file_extension": ".py"
    },
    "microsoft": {
      "ms_spell_check": {
        "ms_spell_check_language": "en"
      },
      "host": {
        "AzureML": {
          "notebookHasBeenCompleted": true
        }
      }
    },
    "nteract": {
      "version": "nteract-front-end@1.0.0"
    },
    "kernel_info": {
      "name": "python38-azureml"
    }
  },
  "nbformat": 4,
  "nbformat_minor": 2
}