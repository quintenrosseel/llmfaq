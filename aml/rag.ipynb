{
  "cells": [
    {
      "cell_type": "markdown",
      "source": [
        "# Setup Environment"
      ],
      "metadata": {
        "nteract": {
          "transient": {
            "deleting": false
          }
        }
      }
    },
    {
      "cell_type": "code",
      "source": [
        "!pip install langchain"
      ],
      "outputs": [
        {
          "output_type": "stream",
          "name": "stdout",
          "text": "Requirement already satisfied: langchain in /anaconda/envs/azureml_py38/lib/python3.8/site-packages (0.0.335)\nRequirement already satisfied: async-timeout<5.0.0,>=4.0.0; python_version < \"3.11\" in /anaconda/envs/azureml_py38/lib/python3.8/site-packages (from langchain) (4.0.2)\nRequirement already satisfied: tenacity<9.0.0,>=8.1.0 in /anaconda/envs/azureml_py38/lib/python3.8/site-packages (from langchain) (8.2.2)\nRequirement already satisfied: SQLAlchemy<3,>=1.4 in /anaconda/envs/azureml_py38/lib/python3.8/site-packages (from langchain) (2.0.23)\nRequirement already satisfied: numpy<2,>=1 in /anaconda/envs/azureml_py38/lib/python3.8/site-packages (from langchain) (1.21.6)\nRequirement already satisfied: jsonpatch<2.0,>=1.33 in /anaconda/envs/azureml_py38/lib/python3.8/site-packages (from langchain) (1.33)\nRequirement already satisfied: aiohttp<4.0.0,>=3.8.3 in /anaconda/envs/azureml_py38/lib/python3.8/site-packages (from langchain) (3.8.4)\nRequirement already satisfied: pydantic<3,>=1 in /anaconda/envs/azureml_py38/lib/python3.8/site-packages (from langchain) (1.10.8)\nRequirement already satisfied: requests<3,>=2 in /anaconda/envs/azureml_py38/lib/python3.8/site-packages (from langchain) (2.31.0)\nRequirement already satisfied: langsmith<0.1.0,>=0.0.63 in /anaconda/envs/azureml_py38/lib/python3.8/site-packages (from langchain) (0.0.64)\nRequirement already satisfied: PyYAML>=5.3 in /anaconda/envs/azureml_py38/lib/python3.8/site-packages (from langchain) (6.0)\nRequirement already satisfied: anyio<4.0 in /anaconda/envs/azureml_py38/lib/python3.8/site-packages (from langchain) (3.6.2)\nRequirement already satisfied: dataclasses-json<0.7,>=0.5.7 in /anaconda/envs/azureml_py38/lib/python3.8/site-packages (from langchain) (0.6.2)\nRequirement already satisfied: greenlet!=0.4.17; platform_machine == \"aarch64\" or (platform_machine == \"ppc64le\" or (platform_machine == \"x86_64\" or (platform_machine == \"amd64\" or (platform_machine == \"AMD64\" or (platform_machine == \"win32\" or platform_machine == \"WIN32\"))))) in /anaconda/envs/azureml_py38/lib/python3.8/site-packages (from SQLAlchemy<3,>=1.4->langchain) (2.0.2)\nRequirement already satisfied: typing-extensions>=4.2.0 in /anaconda/envs/azureml_py38/lib/python3.8/site-packages (from SQLAlchemy<3,>=1.4->langchain) (4.6.0)\nRequirement already satisfied: jsonpointer>=1.9 in /anaconda/envs/azureml_py38/lib/python3.8/site-packages (from jsonpatch<2.0,>=1.33->langchain) (2.4)\nRequirement already satisfied: yarl<2.0,>=1.0 in /anaconda/envs/azureml_py38/lib/python3.8/site-packages (from aiohttp<4.0.0,>=3.8.3->langchain) (1.9.2)\nRequirement already satisfied: attrs>=17.3.0 in /anaconda/envs/azureml_py38/lib/python3.8/site-packages (from aiohttp<4.0.0,>=3.8.3->langchain) (23.1.0)\nRequirement already satisfied: frozenlist>=1.1.1 in /anaconda/envs/azureml_py38/lib/python3.8/site-packages (from aiohttp<4.0.0,>=3.8.3->langchain) (1.3.3)\nRequirement already satisfied: aiosignal>=1.1.2 in /anaconda/envs/azureml_py38/lib/python3.8/site-packages (from aiohttp<4.0.0,>=3.8.3->langchain) (1.3.1)\nRequirement already satisfied: multidict<7.0,>=4.5 in /anaconda/envs/azureml_py38/lib/python3.8/site-packages (from aiohttp<4.0.0,>=3.8.3->langchain) (6.0.4)\nRequirement already satisfied: charset-normalizer<4.0,>=2.0 in /anaconda/envs/azureml_py38/lib/python3.8/site-packages (from aiohttp<4.0.0,>=3.8.3->langchain) (3.1.0)\nRequirement already satisfied: idna<4,>=2.5 in /anaconda/envs/azureml_py38/lib/python3.8/site-packages (from requests<3,>=2->langchain) (3.4)\nRequirement already satisfied: urllib3<3,>=1.21.1 in /anaconda/envs/azureml_py38/lib/python3.8/site-packages (from requests<3,>=2->langchain) (1.26.16)\nRequirement already satisfied: certifi>=2017.4.17 in /anaconda/envs/azureml_py38/lib/python3.8/site-packages (from requests<3,>=2->langchain) (2022.9.24)\nRequirement already satisfied: sniffio>=1.1 in /anaconda/envs/azureml_py38/lib/python3.8/site-packages (from anyio<4.0->langchain) (1.3.0)\nRequirement already satisfied: typing-inspect<1,>=0.4.0 in /anaconda/envs/azureml_py38/lib/python3.8/site-packages (from dataclasses-json<0.7,>=0.5.7->langchain) (0.9.0)\nRequirement already satisfied: marshmallow<4.0.0,>=3.18.0 in /anaconda/envs/azureml_py38/lib/python3.8/site-packages (from dataclasses-json<0.7,>=0.5.7->langchain) (3.20.1)\nRequirement already satisfied: mypy-extensions>=0.3.0 in /anaconda/envs/azureml_py38/lib/python3.8/site-packages (from typing-inspect<1,>=0.4.0->dataclasses-json<0.7,>=0.5.7->langchain) (1.0.0)\nRequirement already satisfied: packaging>=17.0 in /anaconda/envs/azureml_py38/lib/python3.8/site-packages (from marshmallow<4.0.0,>=3.18.0->dataclasses-json<0.7,>=0.5.7->langchain) (23.0)\n"
        }
      ],
      "execution_count": 1,
      "metadata": {
        "jupyter": {
          "source_hidden": false,
          "outputs_hidden": false
        },
        "nteract": {
          "transient": {
            "deleting": false
          }
        }
      }
    },
    {
      "cell_type": "code",
      "source": [
        "!pip install sentence-transformers==2.2.2"
      ],
      "outputs": [
        {
          "output_type": "stream",
          "name": "stdout",
          "text": "Requirement already satisfied: sentence-transformers==2.2.2 in /anaconda/envs/azureml_py38/lib/python3.8/site-packages (2.2.2)\nRequirement already satisfied: sentencepiece in /anaconda/envs/azureml_py38/lib/python3.8/site-packages (from sentence-transformers==2.2.2) (0.1.99)\nRequirement already satisfied: numpy in /anaconda/envs/azureml_py38/lib/python3.8/site-packages (from sentence-transformers==2.2.2) (1.21.6)\nRequirement already satisfied: transformers<5.0.0,>=4.6.0 in /anaconda/envs/azureml_py38/lib/python3.8/site-packages (from sentence-transformers==2.2.2) (4.16.0)\nRequirement already satisfied: torch>=1.6.0 in /anaconda/envs/azureml_py38/lib/python3.8/site-packages (from sentence-transformers==2.2.2) (1.12.0)\nRequirement already satisfied: huggingface-hub>=0.4.0 in /anaconda/envs/azureml_py38/lib/python3.8/site-packages (from sentence-transformers==2.2.2) (0.14.1)\nRequirement already satisfied: torchvision in /anaconda/envs/azureml_py38/lib/python3.8/site-packages (from sentence-transformers==2.2.2) (0.9.1)\nRequirement already satisfied: tqdm in /anaconda/envs/azureml_py38/lib/python3.8/site-packages (from sentence-transformers==2.2.2) (4.65.0)\nRequirement already satisfied: nltk in /anaconda/envs/azureml_py38/lib/python3.8/site-packages (from sentence-transformers==2.2.2) (3.8.1)\nRequirement already satisfied: scipy in /anaconda/envs/azureml_py38/lib/python3.8/site-packages (from sentence-transformers==2.2.2) (1.5.3)\nRequirement already satisfied: scikit-learn in /anaconda/envs/azureml_py38/lib/python3.8/site-packages (from sentence-transformers==2.2.2) (0.22.1)\nRequirement already satisfied: filelock in /anaconda/envs/azureml_py38/lib/python3.8/site-packages (from transformers<5.0.0,>=4.6.0->sentence-transformers==2.2.2) (3.12.0)\nRequirement already satisfied: pyyaml>=5.1 in /anaconda/envs/azureml_py38/lib/python3.8/site-packages (from transformers<5.0.0,>=4.6.0->sentence-transformers==2.2.2) (6.0)\nRequirement already satisfied: sacremoses in /anaconda/envs/azureml_py38/lib/python3.8/site-packages (from transformers<5.0.0,>=4.6.0->sentence-transformers==2.2.2) (0.0.53)\nRequirement already satisfied: regex!=2019.12.17 in /anaconda/envs/azureml_py38/lib/python3.8/site-packages (from transformers<5.0.0,>=4.6.0->sentence-transformers==2.2.2) (2023.5.5)\nRequirement already satisfied: tokenizers!=0.11.3,>=0.10.1 in /anaconda/envs/azureml_py38/lib/python3.8/site-packages (from transformers<5.0.0,>=4.6.0->sentence-transformers==2.2.2) (0.13.3)\nRequirement already satisfied: packaging>=20.0 in /anaconda/envs/azureml_py38/lib/python3.8/site-packages (from transformers<5.0.0,>=4.6.0->sentence-transformers==2.2.2) (23.0)\nRequirement already satisfied: requests in /anaconda/envs/azureml_py38/lib/python3.8/site-packages (from transformers<5.0.0,>=4.6.0->sentence-transformers==2.2.2) (2.31.0)\nRequirement already satisfied: typing-extensions in /anaconda/envs/azureml_py38/lib/python3.8/site-packages (from torch>=1.6.0->sentence-transformers==2.2.2) (4.6.0)\nRequirement already satisfied: fsspec in /anaconda/envs/azureml_py38/lib/python3.8/site-packages (from huggingface-hub>=0.4.0->sentence-transformers==2.2.2) (2023.5.0)\nRequirement already satisfied: pillow>=4.1.1 in /anaconda/envs/azureml_py38/lib/python3.8/site-packages (from torchvision->sentence-transformers==2.2.2) (9.2.0)\nRequirement already satisfied: joblib in /anaconda/envs/azureml_py38/lib/python3.8/site-packages (from nltk->sentence-transformers==2.2.2) (1.2.0)\nRequirement already satisfied: click in /anaconda/envs/azureml_py38/lib/python3.8/site-packages (from nltk->sentence-transformers==2.2.2) (8.1.3)\nRequirement already satisfied: six in /anaconda/envs/azureml_py38/lib/python3.8/site-packages (from sacremoses->transformers<5.0.0,>=4.6.0->sentence-transformers==2.2.2) (1.16.0)\nRequirement already satisfied: idna<4,>=2.5 in /anaconda/envs/azureml_py38/lib/python3.8/site-packages (from requests->transformers<5.0.0,>=4.6.0->sentence-transformers==2.2.2) (3.4)\nRequirement already satisfied: certifi>=2017.4.17 in /anaconda/envs/azureml_py38/lib/python3.8/site-packages (from requests->transformers<5.0.0,>=4.6.0->sentence-transformers==2.2.2) (2022.9.24)\nRequirement already satisfied: charset-normalizer<4,>=2 in /anaconda/envs/azureml_py38/lib/python3.8/site-packages (from requests->transformers<5.0.0,>=4.6.0->sentence-transformers==2.2.2) (3.1.0)\nRequirement already satisfied: urllib3<3,>=1.21.1 in /anaconda/envs/azureml_py38/lib/python3.8/site-packages (from requests->transformers<5.0.0,>=4.6.0->sentence-transformers==2.2.2) (1.26.16)\n"
        }
      ],
      "execution_count": 2,
      "metadata": {
        "jupyter": {
          "source_hidden": false,
          "outputs_hidden": false
        },
        "nteract": {
          "transient": {
            "deleting": false
          }
        }
      }
    },
    {
      "cell_type": "code",
      "source": [
        "!pip install InstructorEmbedding==1.0.1"
      ],
      "outputs": [
        {
          "output_type": "stream",
          "name": "stdout",
          "text": "Collecting InstructorEmbedding==1.0.1\n  Downloading InstructorEmbedding-1.0.1-py2.py3-none-any.whl (19 kB)\nInstalling collected packages: InstructorEmbedding\nSuccessfully installed InstructorEmbedding-1.0.1\n"
        }
      ],
      "execution_count": 9,
      "metadata": {
        "jupyter": {
          "source_hidden": false,
          "outputs_hidden": false
        },
        "nteract": {
          "transient": {
            "deleting": false
          }
        }
      }
    },
    {
      "cell_type": "code",
      "source": [
        "from azure.identity import DefaultAzureCredential\n",
        "from azure.keyvault.secrets import SecretClient\n",
        "\n",
        "key_vault_name = \"kv-bsauwmno\"\n",
        "kv_uri = f\"https://{key_vault_name}.vault.azure.net/\"\n",
        "\n",
        "credential = DefaultAzureCredential()\n",
        "client = SecretClient(vault_url=kv_uri, credential=credential)\n",
        "\n",
        "# Now you can use neo4j_url, neo4j_port, and neo4j_password in your application\n",
        "neo4j_url = client.get_secret(\"NEO4JURL\").value\n",
        "neo4j_user = client.get_secret(\"NEO4JUSER\").value\n",
        "neo4j_password = client.get_secret(\"NEO4JPASSWORD\").value\n",
        "\n",
        "# TODO: add OpenAI token to Keyvault"
      ],
      "outputs": [],
      "execution_count": 3,
      "metadata": {
        "jupyter": {
          "source_hidden": false,
          "outputs_hidden": false
        },
        "nteract": {
          "transient": {
            "deleting": false
          }
        },
        "gather": {
          "logged": 1700079222126
        }
      }
    },
    {
      "cell_type": "code",
      "source": [
        "import langchain\n",
        "langchain.verbose = True\n",
        "langchain.debug = True"
      ],
      "outputs": [],
      "execution_count": 4,
      "metadata": {
        "jupyter": {
          "source_hidden": false,
          "outputs_hidden": false
        },
        "nteract": {
          "transient": {
            "deleting": false
          }
        },
        "gather": {
          "logged": 1700079222219
        }
      }
    },
    {
      "cell_type": "code",
      "source": [
        "from langchain.embeddings import OpenAIEmbeddings, HuggingFaceInstructEmbeddings\n",
        "\n",
        "embeddings = HuggingFaceInstructEmbeddings(\n",
        "    model_name=\"hkunlp/instructor-xl\", \n",
        "    cache_folder='./models/model_cache_xl'\n",
        ")"
      ],
      "outputs": [
        {
          "output_type": "stream",
          "name": "stdout",
          "text": "load INSTRUCTOR_Transformer\nmax_seq_length  512\n"
        }
      ],
      "execution_count": 5,
      "metadata": {
        "jupyter": {
          "source_hidden": false,
          "outputs_hidden": false
        },
        "nteract": {
          "transient": {
            "deleting": false
          }
        },
        "gather": {
          "logged": 1700079620810
        }
      }
    },
    {
      "cell_type": "markdown",
      "source": [
        "When the vector store is a graph database, there are a few things to take into account:\n",
        "\n",
        "- The graph database should implement the GraphStore interface, which includes methods for adding graph documents, querying the graph, and refreshing the schema.\n",
        "- The as_retriever() function will internally convert the graph database into a vector store retriever by extracting the embeddings from the graph documents and creating a vector store.\n",
        "- The retriever will then perform the retrieval operations based on the provided configuration, such as the search type, search arguments, and any additional filters.\n",
        "\n",
        "It's important to ensure that the graph database you are using is compatible with the GraphStore interface and supports the necessary operations for retrieval."
      ],
      "metadata": {
        "nteract": {
          "transient": {
            "deleting": false
          }
        }
      }
    },
    {
      "cell_type": "code",
      "source": [
        "from langchain.embeddings.openai import OpenAIEmbeddings\n",
        "from langchain.text_splitter import CharacterTextSplitter\n",
        "from langchain.vectorstores import Neo4jVector\n",
        "from langchain.document_loaders import TextLoader\n",
        "from langchain.docstore.document import Document\n",
        "\n",
        "# Now we initialize from existing graph -> doesn't\n",
        "neo4j_graph = Neo4jVector.from_existing_index(\n",
        "    embedding=embeddings,\n",
        "    url=neo4j_url,\n",
        "    username=neo4j_user,\n",
        "    password=neo4j_password,\n",
        "    index_name=\"vi_chunk_embedding_cosine\",\n",
        "    keyword_index_name=\"fts_Chunk_text\",\n",
        "    search_type=\"hybrid\",\n",
        ")\n"
      ],
      "outputs": [],
      "execution_count": 8,
      "metadata": {
        "gather": {
          "logged": 1700079679874
        }
      }
    },
    {
      "cell_type": "markdown",
      "source": [
        "# Documentation\n",
        "- Retrieve more documents with higher diversity: `as_retriever(search_type=\"mmr\", search_kwargs={'k': 6, 'lambda_mult': 0.25})`\n",
        "- Fetch more documents for the MMR algorithm to consider, but only return the top 5: `as_retriever(search_type=\"mmr\", search_kwargs={'k': 5, 'fetch_k': 50})`\n",
        "- Only retrieve documents that have a relevance score above a certain threshold: `as_retriever(search_type=\"similarity_score_threshold\", search_kwargs={'score_threshold': 0.8})`\n",
        "- Only get the single most similar document from the dataset: `as_retriever(search_kwargs={'k': 1})`\n",
        "- Use a filter to only retrieve documents from a specific paper: `as_retriever(search_kwargs={'filter': {'paper_title':'GPT-4 Technical Report'}})`"
      ],
      "metadata": {
        "nteract": {
          "transient": {
            "deleting": false
          }
        }
      }
    },
    {
      "cell_type": "code",
      "source": [
        "from typing import List\n",
        "\n",
        "def print_docs(l: List[langchain.schema.document.Document]) -> str:\n",
        "    for i, d in enumerate(l): \n",
        "        print(25 * \"=\", f\" Document {i+1} \", 25 * \"=\")\n",
        "        print(f\"1. Metadata\", 52 * \"=\" )\n",
        "        for k, v in d.metadata.items():\n",
        "            print(f\"- {k}: {v}\")\n",
        "        \n",
        "        print(f\"2. Content\", 53 * \"=\" )\n",
        "        print(d.page_content)"
      ],
      "outputs": [],
      "execution_count": 9,
      "metadata": {
        "jupyter": {
          "source_hidden": false,
          "outputs_hidden": false
        },
        "nteract": {
          "transient": {
            "deleting": false
          }
        },
        "gather": {
          "logged": 1700079679959
        }
      }
    },
    {
      "cell_type": "code",
      "source": [
        "from typing import List\n",
        "\n",
        "# Define the configuration\n",
        "search_config = {\n",
        "     # \"similarity\" (default), \"mmr\", or \"similarity_score_threshold\".\n",
        "    'search_type': 'similarity', \n",
        "    'search_kwargs': {\n",
        "        # Amount of documents to return (default: 4).\n",
        "        'k': 10, \n",
        "        # Amount of documents to pass to the MMR algorithm \n",
        "        # # (default: 20).\n",
        "        'fetch_k': 50, \n",
        "        # Minimum relevance threshold for similarity_score_threshold.\n",
        "        'score_threshold': 0, \n",
        "        # Diversity of results returned by MMR; \n",
        "        # # 1 for minimum diversity and 0 for maximum (default: 0.5).\n",
        "        'lambda_mult': 0.25, \n",
        "        # Filter by document metadata.\n",
        "        'filter': {'chunk_size': 500}\n",
        "    }\n",
        "}\n",
        "\n",
        "neo4j_retriever = neo4j_graph.as_retriever(**search_config)\n",
        "\n",
        "docs: List[langchain.schema.document.Document] = (\n",
        "    neo4j_retriever.get_relevant_documents(\n",
        "        \"Wat moet ik doen voor mijn nieroperatie?\"\n",
        "    )\n",
        ")"
      ],
      "outputs": [],
      "execution_count": 10,
      "metadata": {
        "jupyter": {
          "source_hidden": false,
          "outputs_hidden": false
        },
        "nteract": {
          "transient": {
            "deleting": false
          }
        },
        "gather": {
          "logged": 1700079682776
        }
      }
    },
    {
      "cell_type": "code",
      "source": [
        "print_docs(l=docs)"
      ],
      "outputs": [
        {
          "output_type": "stream",
          "name": "stdout",
          "text": "=========================  Document 1  =========================\n1. Metadata ====================================================\n- chunk_size: 500\n- embedding_model: hkunlp/instructor-xl\n- chunk_order: 2431\n- chunk_overlap: 60\n- chunk_id: 2431\n2. Content =====================================================\nEr zijn verschillende types nierstenen (zes om precies te zijn), met elk hun eigen oorzaak en ontstaansmechanisme. Als je het type steen en de risicofactoren kent, kun je behandeling daarop afstemmen en is advies op maat mogelijk. \n\n\nHeel concreet geeft het metabool bilan een antwoord op de volgende vragen:\n\n\n* Waarom maak ik nierstenen aan?\n* Welke maatregelen zijn nodig om mijn kans op herval te verminderen.\n\n\n\n## Voor wie?\n=========================  Document 2  =========================\n1. Metadata ====================================================\n- chunk_size: 500\n- embedding_model: hkunlp/instructor-xl\n- chunk_order: 1462\n- chunk_overlap: 60\n- chunk_id: 1462\n2. Content =====================================================\n## Hoe bereid ik me het best voor?\n\n\nJe hoeft niet nuchter te zijn. Voor de start van het onderzoek bespreken we met jou de taken die je tijdens het onderzoek moet uitvoeren. Dit kunnen motorische taken zijn (waarbij je een bepaald lichaamsdeel moet bewegen) of cognitieve taken (waarbij je alleen moet denken) of beiden. Zorg ervoor dat je de instructies goed begrijpt en dat je weet wat er van jou verwacht wordt tijdens het onderzoek. Dit is nodig om het onderzoek te doen slagen.\n=========================  Document 3  =========================\n1. Metadata ====================================================\n- chunk_size: 500\n- embedding_model: hkunlp/instructor-xl\n- chunk_order: 1773\n- chunk_overlap: 60\n- chunk_id: 1773\n2. Content =====================================================\n## Voor en na de operatie\n=========================  Document 4  =========================\n1. Metadata ====================================================\n- chunk_size: 500\n- embedding_model: hkunlp/instructor-xl\n- chunk_order: 2592\n- chunk_overlap: 60\n- chunk_id: 2592\n2. Content =====================================================\n## Voor- en nadelen van niertransplantatie\n=========================  Document 5  =========================\n1. Metadata ====================================================\n- chunk_size: 500\n- embedding_model: hkunlp/instructor-xl\n- chunk_order: 3299\n- chunk_overlap: 60\n- chunk_id: 3299\n2. Content =====================================================\n## De operatie\n\n\nBij een nefrectomie verwijdert de uroloog 1 van de 2 nieren. Hier kunnen verschillende redenen voor zijn. Als je een kwaadaardig gezwel van de nier hebt, kan het nodig zijn dat de nier in zijn geheel verwijderd wordt. Bij een slecht functionerende nier kan de uroloog je ook adviseren om deze nier te laten wegnemen.\n\n\n\n## Voorbereiding voor de operatie\n=========================  Document 6  =========================\n1. Metadata ====================================================\n- chunk_size: 500\n- embedding_model: hkunlp/instructor-xl\n- chunk_order: 1669\n- chunk_overlap: 60\n- chunk_id: 1669\n2. Content =====================================================\n**Is een operatie altijd nodig?**\n=========================  Document 7  =========================\n1. Metadata ====================================================\n- chunk_size: 500\n- embedding_model: hkunlp/instructor-xl\n- chunk_order: 785\n- chunk_overlap: 60\n- chunk_id: 785\n2. Content =====================================================\nHet voordeel is dat je na de procedure sneller uit bed mag. Het nadeel is dat je de week na het onderzoek geen zware lasten mag heffen met die arm.\n=========================  Document 8  =========================\n1. Metadata ====================================================\n- chunk_size: 500\n- embedding_model: hkunlp/instructor-xl\n- chunk_order: 1673\n- chunk_overlap: 60\n- chunk_id: 1673\n2. Content =====================================================\nIn de meeste gevallen zullen we op basis van je klinisch onderzoek en de technische onderzoeken bepalen of een heup kan en mag worden geplaatst. Nadien is de enige vraag of je te veel pijn hebt of voorlopig nog zonder operatie verder kan. We kunnen natuurlijk wel aangeven hoe groot de kans is dat het op korte termijn de slechte richting uit gaat en of je dit best al wat gaat plannen. Daarvoor zijn een aantal heel eenvoudige vragen:\n=========================  Document 9  =========================\n1. Metadata ====================================================\n- chunk_size: 500\n- embedding_model: hkunlp/instructor-xl\n- chunk_order: 439\n- chunk_overlap: 60\n- chunk_id: 439\n2. Content =====================================================\n## Voor de operatie\n=========================  Document 10  =========================\n1. Metadata ====================================================\n- chunk_size: 500\n- embedding_model: hkunlp/instructor-xl\n- chunk_order: 3204\n- chunk_overlap: 60\n- chunk_id: 3204\n2. Content =====================================================\n## Na de operatie: ontwaakruimte en intensieve zorgen\n\nNa de operatie word je naar de dienst intensieve zorgen gebracht. Bezoek kun je pas ontvangen enkele uren nadat je wakker bent. Op eenvoudige verzoek zal de chirurg je naasten na de ingreep bellen om te laten weten hoe de ingreep verlopen is.\n"
        }
      ],
      "execution_count": 9,
      "metadata": {
        "jupyter": {
          "source_hidden": false,
          "outputs_hidden": false
        },
        "nteract": {
          "transient": {
            "deleting": false
          }
        },
        "gather": {
          "logged": 1699987268771
        }
      }
    },
    {
      "cell_type": "markdown",
      "source": [
        "# Exploring Contextualised Retrievals\n",
        "\n",
        "The graph contains loads of metadata that can be leveraged to make the retrieved documents more relevant for a given chain. \n",
        "\n",
        "In this example, we query a langchain vectorstore (forwards the cypher query), and pattern match for specific characterics of the retrieved results. "
      ],
      "metadata": {
        "nteract": {
          "transient": {
            "deleting": false
          }
        }
      }
    },
    {
      "cell_type": "code",
      "source": [
        "neo4j_graph"
      ],
      "outputs": [
        {
          "output_type": "execute_result",
          "execution_count": 25,
          "data": {
            "text/plain": "<langchain.vectorstores.neo4j_vector.Neo4jVector at 0x7fdba3243ca0>"
          },
          "metadata": {}
        }
      ],
      "execution_count": 25,
      "metadata": {
        "jupyter": {
          "source_hidden": false,
          "outputs_hidden": false
        },
        "nteract": {
          "transient": {
            "deleting": false
          }
        },
        "gather": {
          "logged": 1699990266717
        }
      }
    },
    {
      "cell_type": "code",
      "source": [
        "print(f\"\"\"\n",
        "            CALL db.index.vector.queryNodes(\n",
        "            \"fts_Chunk_text\", \n",
        "            '{embeddings.embed_query(KW_SEARCH_QUERY)}'\n",
        "        ) \n",
        "        YIELD node, score\n",
        "        WITH node, score\n",
        "        ORDER BY score DESCENDING\n",
        "        LIMIT {RESULT_LIM}\n",
        "\n",
        "        MATCH rel=(node:Chunk)<-[r*]-(:Catalog)\n",
        "        RETURN rel\n",
        "\"\"\")"
      ],
      "outputs": [
        {
          "output_type": "stream",
          "name": "stdout",
          "text": "\n            CALL db.index.vector.queryNodes(\n            \"fts_Chunk_text\", \n            '[0.018609369173645973, 0.02538321539759636, 0.004355217330157757, -0.07988579571247101, -0.053384460508823395, -0.0030687369871884584, -0.06292525678873062, -0.018009264022111893, -0.013918952085077763, -0.005331815220415592, -0.013592589646577835, 0.01572948507964611, -0.07878094911575317, -0.10487205535173416, -0.043990883976221085, -0.020900895819067955, 0.008492556400597095, -0.027654755860567093, 0.001870549633167684, -0.04285578057169914, -0.02984999492764473, 0.040656525641679764, 0.00395499961450696, 0.05010785907506943, -0.04869605973362923, -0.045616090297698975, -0.027370914816856384, 0.01108709815889597, -0.058365583419799805, -0.0061892373487353325, 0.10293402522802353, 0.01899600401520729, 0.018185339868068695, -0.015510343946516514, 0.02616843394935131, 0.09165032207965851, -0.03410722687840462, 0.007897515781223774, 0.040500085800886154, -0.05239090695977211, -0.045771654695272446, 0.053289614617824554, 0.04855239763855934, -0.02132604457437992, 0.012305991724133492, 0.0044558229856193066, 0.029346825554966927, -0.005801356863230467, -0.058064114302396774, -0.020397918298840523, -0.06943164765834808, 0.013018688187003136, 0.014218862168490887, -0.02269822359085083, 0.04282021522521973, 0.025130731984972954, -0.02548501454293728, 0.02788565121591091, 0.004221143666654825, 0.020826153457164764, -0.05630830302834511, 0.02803041599690914, 0.049892690032720566, 0.010357439517974854, -0.0186531450599432, 0.018468502908945084, 0.07050981372594833, 0.02321377582848072, 0.010951855219900608, 0.045774225145578384, -0.014077735133469105, 0.026505421847105026, -0.06327060610055923, 0.023300206288695335, -0.041381340473890305, 0.07425227761268616, 0.03707059845328331, 0.024525150656700134, -0.01547702495008707, -0.014470239169895649, -0.056165821850299835, -0.02119080163538456, -0.03257407993078232, 0.048716191202402115, 0.015321655198931694, -0.0035721655003726482, -0.05642542988061905, -0.0010645865695551038, 0.05369195714592934, 0.10937871783971786, -0.04662676155567169, -0.02265256643295288, -0.03311168774962425, 0.004439421929419041, 0.0016080221394076943, -0.002094206167384982, 0.05063091218471527, 0.026729900389909744, 0.007478099316358566, -0.009308764711022377, -0.00014363638183567673, 0.0619073323905468, 0.000196172040887177, -0.025476796552538872, -0.011181597597897053, -0.026979470625519753, 0.0526471845805645, -0.007912211120128632, -0.010348865762352943, 0.029439128935337067, 0.07678376138210297, 0.034828756004571915, 0.03682243451476097, -0.032013047486543655, 0.05717287212610245, -0.03656624257564545, 0.09138132631778717, 0.01924624666571617, -0.04305142164230347, 0.030888961628079414, 0.056690115481615067, 0.06154436618089676, 0.009409749880433083, 0.015340465120971203, 0.01597265899181366, -0.002103187842294574, 0.06663911044597626, 0.04159234091639519, -0.006864949595183134, -0.028145452961325645, 0.03843265399336815, -0.031137453392148018, -0.019239984452724457, -0.0006845113821327686, 0.043030038475990295, -0.04782478138804436, -0.021586306393146515, 0.036591269075870514, -0.013304276391863823, -0.07451324164867401, 0.07031384855508804, 0.006915480829775333, -0.03963156417012215, -0.019223717972636223, -0.0071936375461518764, 0.02036774717271328, -0.006567182019352913, -0.0004654935037251562, 0.01901962421834469, 0.03443988412618637, -0.017376873642206192, -0.0719301700592041, 0.002408240921795368, 0.002930378308519721, -0.014860143885016441, 0.014474472962319851, -0.017428351566195488, -0.05265064537525177, 0.02310187555849552, -0.02659224160015583, 0.029436131939291954, -0.0023241564631462097, -0.024985743686556816, 0.006633060052990913, -0.059511952102184296, -0.040550801903009415, -0.048807986080646515, 0.00869730394333601, 0.012522970326244831, 0.025573713704943657, 0.024647442623972893, 0.007422349415719509, -0.018531545996665955, -0.03152225539088249, -0.00035718196886591613, 0.0027208642568439245, -0.0016813762485980988, 0.02088676393032074, 0.0928715169429779, 0.07108642905950546, 0.019089240580797195, 0.01794685423374176, 0.0414150208234787, 0.017591293901205063, -0.0034865529742091894, -0.050720926374197006, -0.018835701048374176, -0.054632727056741714, -0.030660297721624374, 0.0007553405594080687, -0.014290989376604557, -0.04052012041211128, 0.019903825595974922, 0.02691141702234745, -0.007489264477044344, -0.03421706333756447, 0.015293063595890999, 0.07189670205116272, 0.057721421122550964, 0.04527570307254791, 0.015504628419876099, -0.028324760496616364, 0.009012156166136265, 0.040817707777023315, -0.018492991104722023, 0.03649948909878731, 0.029445448890328407, 0.036606572568416595, -0.02144804410636425, 0.0638575479388237, -0.03134235367178917, 0.044840212911367416, 0.03097587078809738, -0.002836882136762142, -0.03695386275649071, 0.07327684760093689, 0.013143176212906837, -0.029229840263724327, -0.007282485254108906, 0.05229319632053375, -0.013427671045064926, -0.023913510143756866, 0.02427070587873459, 0.006909199059009552, 0.022485362365841866, -0.018197597935795784, -0.04098564758896828, -0.03194257616996765, 0.049509186297655106, -0.01662212423980236, 0.07646534591913223, 0.016146041452884674, 0.0018254808383062482, 0.05108629912137985, -0.0287785567343235, -0.01972472481429577, 0.008008352480828762, -0.027572115883231163, -0.04023545980453491, -0.01361502893269062, 0.004606260452419519, -0.02846456877887249, 9.886374755296856e-05, -0.008841806091368198, 0.023268386721611023, 0.07441791146993637, -0.018961269408464432, -0.02548636682331562, -0.05672387778759003, -0.04412969946861267, -0.011760716326534748, -0.012992282398045063, -0.015935050323605537, 0.06687883287668228, -0.028315547853708267, 0.031123008579015732, 0.014934459701180458, 0.013018188066780567, 0.0044506932608783245, 0.04275968298316002, -0.04400422051548958, -0.05052444338798523, -0.07632588595151901, -0.04586136341094971, -0.06562869995832443, -0.00114156655035913, 0.06255745887756348, -0.054261449724435806, 0.08751073479652405, -0.013194282539188862, -0.053317710757255554, 0.04359118267893791, 0.06545542180538177, -0.0034843399189412594, 0.006720851641148329, -0.003516626777127385, -0.006109503097832203, -0.03172244876623154, -0.07573899626731873, 0.08094092458486557, -0.037200842052698135, 0.020001620054244995, 0.02763059176504612, 0.04022681340575218, -0.03688915818929672, 0.019777651876211166, -0.03497615084052086, 0.01007321011275053, 0.011197518557310104, -0.0639956146478653, -0.004061342217028141, -0.009323149919509888, -0.07755870372056961, 0.051605530083179474, -0.01341983675956726, 0.012021302245557308, -0.004098501522094011, 0.03247074782848358, 0.02177567221224308, -0.01742277480661869, -0.008161612786352634, 0.011987514793872833, 0.03470951318740845, -0.026057150214910507, -0.006117279175668955, 0.003852667286992073, -0.0021478489506989717, 0.01379026286303997, -0.043742675334215164, 0.0045335302129387856, 0.016728758811950684, 0.029193535447120667, 0.06483171880245209, 0.010572888888418674, -0.04512805491685867, 0.031274110078811646, 0.04022431746125221, 0.022679634392261505, 0.029290873557329178, 0.0233643539249897, 0.032596636563539505, 0.016690153628587723, -0.004779932089149952, 0.008918873965740204, 0.009306646883487701, -0.0167160052806139, -0.004143736325204372, -0.005931442603468895, -0.006698544602841139, -0.021732300519943237, 0.044382721185684204, 0.047393206506967545, -0.007905817590653896, 0.03908807411789894, 0.04311622306704521, 0.024262672290205956, 0.00021704449318349361, -0.0184160303324461, 0.061276376247406006, -0.0012694376055151224, -0.031693316996097565, -0.0545184500515461, -0.013618595898151398, 0.009281139820814133, -0.012742987833917141, -0.0034935087896883488, 0.01766264997422695, 0.029222233220934868, -0.0354742668569088, -0.03543880954384804, 0.023287858814001083, 0.09561824053525925, -0.02024022862315178, 0.012852451764047146, 0.04961182177066803, -0.006333645898848772, 0.0715281292796135, -0.073382668197155, 0.022476915270090103, 0.06524959951639175, 0.09049403667449951, -0.018427029252052307, -0.025383491069078445, -0.01883215270936489, 0.06346666067838669, -0.024245716631412506, -0.04352288320660591, -0.05375245586037636, 0.04787025228142738, 0.045493803918361664, 0.0282264593988657, -0.04506012797355652, -0.011951827444136143, 0.026039408519864082, -0.024090826511383057, 0.018227409571409225, -0.03930463269352913, -0.03450101241469383, 0.030904754996299744, -0.022835638374090195, 0.010568835772573948, 0.025673333555459976, 0.016749510541558266, 0.021360477432608604, 0.0411694198846817, 0.03207285702228546, -0.004510661121457815, -0.031950268894433975, -0.023836009204387665, -0.009449469856917858, -0.005709424614906311, 0.03377119079232216, 0.06997290998697281, -0.033293552696704865, 0.03524138405919075, -0.0004929054994136095, -0.054856035858392715, -0.037544697523117065, -0.02390187419950962, -0.005897324997931719, 0.06491928547620773, 0.0065273563377559185, 0.04260282963514328, 0.018289051949977875, -0.013567863032221794, -0.005947608966380358, 0.06255075335502625, 0.02874351665377617, 0.011770644225180149, 0.012066914699971676, 0.030867990106344223, -0.026004044339060783, -0.013602100312709808, 0.03516960144042969, -0.028432397171854973, -0.02742309309542179, -0.0011732272105291486, -0.009810256771743298, 0.066413514316082, -0.012915750965476036, -0.013722620904445648, 0.012472067959606647, 0.03888273611664772, 0.05611215531826019, -0.040355246514081955, 0.0003186554240528494, -0.0034404408652335405, -0.02696835622191429, -0.05057215318083763, 0.06595161557197571, 0.0034926999360322952, 0.06604824960231781, 0.038962338119745255, 0.023376641795039177, -0.023667175322771072, 0.033931151032447815, -0.01854475773870945, 0.07674402743577957, -0.03236617520451546, 0.010357595048844814, -0.0307546928524971, -0.002124188933521509, -0.011812321841716766, 0.042431414127349854, -0.04806101322174072, 0.08206155896186829, -0.006576778832823038, -0.06499917805194855, 0.05506544187664986, -0.0151595463976264, 0.007011272944509983, 0.05130762606859207, 0.014954198151826859, -0.01252700760960579, -0.05093415454030037, 0.0007703976007178426, 0.021262386813759804, -0.019762055948376656, -0.02248547598719597, -0.0500350147485733, -0.032190755009651184, -0.01242760755121708, -0.028480149805545807, 0.014464324340224266, 0.006483743898570538, 0.03965993970632553, -0.0036485884338617325, 0.07273020595312119, 0.017584677785634995, -0.01958352141082287, 0.03803706914186478, 0.02112524025142193, 0.004847404081374407, -0.010006400756537914, 0.011979915201663971, -0.032357510179281235, -0.017054026946425438, -0.03978678956627846, 0.0035262727178633213, -0.03723425418138504, 0.048342324793338776, -0.009655679576098919, 0.020218513906002045, 0.007975119166076183, -0.00959001574665308, 0.05230286717414856, -0.05155475065112114, -0.005758014507591724, -0.012176668271422386, -0.056822508573532104, 0.006592900957912207, -0.0024690907448530197, 0.0242058914154768, 0.03487018123269081, -0.02708280272781849, -0.06309963762760162, -0.021734584122896194, -0.0645361915230751, -0.039219047874212265, -0.036941204220056534, -0.04408471658825874, -0.0045623513869941235, -0.022735724225640297, 0.0020939174573868513, 0.008668857626616955, 0.0010784040205180645, -0.037683531641960144, 0.04395096376538277, -0.0022522923536598682, 0.030460840091109276, 0.06542263180017471, -0.00823926366865635, 0.04354546591639519, 0.05875777080655098, -0.0337853766977787, -0.006749289110302925, -0.008219136856496334, 0.04453067481517792, 0.031446054577827454, -0.06429404020309448, -0.05571560561656952, -0.014400852844119072, 0.036842651665210724, -0.0019615243654698133, 0.032544590532779694, -0.009670382365584373, 0.0199469905346632, 0.026688555255532265, -0.01462138444185257, -0.008557548746466637, 0.021456481888890266, -0.018477924168109894, 0.006297449115663767, -0.04557691141963005, 0.0007005769875831902, -0.01326893363147974, -0.019611574709415436, -0.0032314476557075977, -0.09944243729114532, -0.03687203302979469, -0.062116678804159164, 0.011760405264794827, -0.017840666696429253, 0.010396155528724194, -0.028190746903419495, -0.015329127199947834, -0.042207133024930954, -0.04421759769320488, -0.0011946000158786774, -0.041136305779218674, 0.05661506578326225, -0.04423396289348602, -0.0433460995554924, 0.03513367101550102, 0.004006647039204836, -0.016160767525434494, 0.01814359985291958, -0.0477897971868515, 0.027847282588481903, -0.020172351971268654, -0.03801628574728966, 3.5572713841247605e-06, -0.04199822619557381, 0.0008382661617361009, -0.017217405140399933, -0.01856435090303421, 0.05799353867769241, -0.002700773300603032, -0.02894219197332859, 0.04147607460618019, -0.001967238960787654, 0.043359655886888504, 0.043831877410411835, -0.04151535779237747, 0.04522429406642914, -0.0012280147057026625, 0.03817130625247955, 0.02967981807887554, 0.02860419452190399, -0.018339289352297783, 0.05492535978555679, -0.035852931439876556, -0.00033995401463471353, -0.007828892208635807, 0.006470833905041218, 0.00634810421615839, 0.009737673215568066, 0.013822097331285477, -0.06057649478316307, 0.029384883120656013, 0.004565105773508549, -0.04719345271587372, 0.007298109587281942, 0.031313713639974594, 0.019841786473989487, 0.03490208461880684, 0.043586160987615585, 0.018491283059120178, -0.05224071815609932, -0.03894411027431488, -0.02619917318224907, 0.03532932326197624, -0.024263449013233185, 0.038515605032444, 0.046453993767499924, 0.004071434959769249, 0.023418910801410675, -0.01655961200594902, -0.02671915851533413, 0.004326679278165102, 0.04546374827623367, -0.0031310124322772026, 0.06871316581964493, 0.005575708579272032, 0.029414087533950806, -0.001561377546750009, 0.0020851092413067818, 0.07418938726186752, -0.010717981494963169, 0.04816866293549538, -0.011167475953698158, 0.03269009292125702, -0.02067353017628193, -0.04467780888080597, 0.031560614705085754, 0.07034629583358765, -0.03240478038787842, 0.0029080647509545088, -0.024546977132558823, 0.004705365747213364, -0.05797044560313225, -0.0237883273512125, 0.07636048644781113, -0.04939465597271919, -0.05848737433552742, -0.014090560376644135, 0.03111136145889759, 0.00316623505204916, 0.02769097313284874, -0.034959886223077774, -0.004275707062333822, 0.04580548033118248, -0.05759350210428238, 0.055810630321502686, -0.027254674583673477, -0.0933905765414238, 0.006261603441089392, -0.031191127374768257, -0.018995827063918114, -0.00014987241593189538, -0.041642140597105026, 0.01784277893602848, -0.02740611508488655, -0.007548159919679165, -0.023020705208182335, -0.014165122993290424, -0.029998749494552612, 0.004922290798276663, 0.019051743671298027, -0.03679981455206871, -0.01877264492213726, 0.06295810639858246, -0.031226981431245804, 0.019912704825401306, -0.02370125614106655, -0.02635505050420761, 0.0016764047322794795, -0.003714868566021323, -0.016712183132767677, -0.022603830322623253, -0.0404268242418766, -0.03272191062569618, -0.034533627331256866, -0.036308422684669495, 0.05066388472914696, -0.014839883893728256, -0.024305516853928566, -0.008919703774154186, -0.043217066675424576, -0.015515020117163658, -0.018408918753266335, -0.027366694062948227, 0.024368098005652428, -0.005245414096862078, 0.010012089274823666, -0.03247001767158508, -0.0578889325261116, 0.03329944238066673, -0.007622147910296917, 0.03344278410077095, -0.0026198457926511765, 0.029379742220044136, -0.03473943471908569, -0.006217076908797026, 0.07197695970535278, 0.0013034408912062645, 0.03503061458468437, 0.020263120532035828, 0.006759649142622948, -0.07114602625370026, -0.03635101765394211, 0.04854094609618187, 0.02906635031104088, -0.05249091237783432, 0.023165510967373848, -0.060228101909160614, 0.04695461690425873, -0.013630269095301628, 0.021253500133752823, 0.026729129254817963, -0.02445296384394169, -0.031538113951683044, 0.014009862206876278, -0.046613067388534546, 0.011526450514793396, -0.009022335521876812, -0.023177126422524452, -0.005550084635615349, 0.06136256828904152, -0.009113959036767483, -0.024584658443927765, 0.03521847724914551, -0.008288438431918621, -0.0073484135791659355, -0.0030946265906095505, 0.037023741751909256, 0.014528441242873669, -0.03575810045003891, -0.030160997062921524, -0.006628527771681547, 0.101218082010746, -0.002106929663568735, -0.0114422757178545, 0.026758136227726936, -0.06352327018976212, 0.00019096926553174853, 0.026925014331936836, 0.07411941885948181, 0.0002960684651043266, 0.05589005723595619, -0.0493566058576107, 0.009410849772393703, -0.006831038743257523, 0.004424918908625841, 0.0639636293053627, -0.016492757946252823, -0.03970445692539215, 0.03491975739598274, 0.003426143666729331, -0.03516124561429024, -0.004670716822147369, 0.038243744522333145, 0.017598925158381462, 0.03763303533196449, -0.005945691838860512, -0.003960044588893652, 0.002978523261845112, 0.0593579038977623, -0.021766236051917076, 0.02140778675675392, -0.0345897451043129, 0.016419904306530952, 0.00863167829811573, 0.028116701170802116, -0.058803874999284744, -0.06589202582836151, -0.0005457773222588003, 0.06456424295902252]'\n        ) \n        YIELD node, score\n        WITH node, score\n        ORDER BY score DESCENDING\n        LIMIT 5\n\n        MATCH rel=(node:Chunk)<-[r*]-(:Catalog)\n        RETURN rel\n\n"
        }
      ],
      "execution_count": 53,
      "metadata": {
        "jupyter": {
          "source_hidden": false,
          "outputs_hidden": false
        },
        "nteract": {
          "transient": {
            "deleting": false
          }
        },
        "gather": {
          "logged": 1699993392965
        }
      }
    },
    {
      "cell_type": "code",
      "source": [
        "from langchain.docstore.document import Document\n",
        "from typing import Dict\n",
        " \n",
        "RESULT_LIM = 5\n",
        "KW_SEARCH_QUERY = \"dokter\"\n",
        "VECTOR_SEARCH_QUERY = \"Ik heb pijn aan mijn nieren, wat moet ik doen?\"\n",
        "\n",
        "# Keyword query \n",
        "kw_chunk_paths = neo4j_graph.query(\n",
        "    f\"\"\"\n",
        "        CALL db.index.fulltext.queryNodes(\"fts_Chunk_text\", '{KW_SEARCH_QUERY}') \n",
        "        YIELD node, score\n",
        "        WITH node, score\n",
        "        ORDER BY score DESCENDING\n",
        "        LIMIT {RESULT_LIM}\n",
        "\n",
        "        MATCH rel=(node:Chunk)<-[r*]-(:Catalog)\n",
        "        RETURN rel\n",
        "    \"\"\"\n",
        ")\n",
        "\n",
        "# Vector query \n",
        "vec_chunk_paths = neo4j_graph.query(\n",
        "    f\"\"\"\n",
        "        CALL db.index.vector.queryNodes(\n",
        "            \"vi_chunk_embedding_cosine\", \n",
        "            {RESULT_LIM},\n",
        "            {embeddings.embed_query(VECTOR_SEARCH_QUERY)}\n",
        "        ) \n",
        "        YIELD node, score\n",
        "        WITH node, score\n",
        "        ORDER BY score DESCENDING\n",
        "        MATCH rel=(node:Chunk)<-[r*]-(:Catalog)\n",
        "        RETURN rel\n",
        "    \"\"\"\n",
        ")\n",
        "\n",
        "def chunk_paths_to_docs(chunk_paths: List[object]) -> List[Document]:\n",
        "    \"\"\"\n",
        "        For now, this matches chunk_paths of type (Chunk)-rel-(WebPage)-()\n",
        "    \"\"\"\n",
        "    # This returns paths, that we can turn into LangChain documents somehow. \n",
        "    path_docs: List[Document] = []\n",
        "\n",
        "    # One result for every chunk (see above)\n",
        "    for p in chunk_paths:\n",
        "        chunk_path_str = '' \n",
        "        chunk_node = p['rel'][0] \n",
        "        chunk_text = chunk_node.get('text')\n",
        "        \n",
        "        # Build up metadata of Document object manually\n",
        "        doc_meta = {\n",
        "            'chunk_size': chunk_node.get('chunk_size'),\n",
        "            'embedding_model': chunk_node.get('embedding_model'),\n",
        "            'chunk_order': chunk_node.get('chunk_order'),\n",
        "            'chunk_overlap': chunk_node.get('chunk_overlap'),\n",
        "            'chunk_id': chunk_node.get('chunk_id'),\n",
        "        }\n",
        "        # Traverse path for metadata\n",
        "        for i, o in enumerate(p['rel']): \n",
        "            # Create path representation\n",
        "            if type(o) == dict:\n",
        "                chunk_path_str += f'(Node)'\n",
        "            elif type(o) == str:\n",
        "                chunk_path_str += f'<-{o}-'\n",
        "            \n",
        "            # WebPage node data\n",
        "            if i == 2:\n",
        "                doc_meta['webpage_scrape_dt'] = o.get('scrape_dt')\n",
        "                doc_meta['webpage_url'] = o.get('url')\n",
        "                doc_meta['webpage_title'] = o.get('title')\n",
        "            # Catalog node data\n",
        "            elif i == 4: \n",
        "                doc_meta['catalog_url'] = o.get('url')\n",
        "        \n",
        "        # Add path structure as metadata\n",
        "        doc_meta['path_context'] = chunk_path_str   \n",
        "        \n",
        "        # Extract metadata from traversal \n",
        "        path_docs.append(\n",
        "            Document(\n",
        "                page_content=chunk_text, \n",
        "                metadata=doc_meta\n",
        "            )\n",
        "        )\n",
        "    return path_docs\n",
        "\n",
        "# print_docs(\n",
        "#     chunk_paths_to_docs(kw_chunk_paths)\n",
        "# )\n",
        "\n",
        "print_docs(\n",
        "    chunk_paths_to_docs(vec_chunk_paths)\n",
        ")"
      ],
      "outputs": [
        {
          "output_type": "stream",
          "name": "stdout",
          "text": "=========================  Document 1  =========================\n1. Metadata ====================================================\n- chunk_size: 500\n- embedding_model: hkunlp/instructor-xl\n- chunk_order: 3793\n- chunk_overlap: 60\n- chunk_id: 3793\n- webpage_scrape_dt: 12/11/2023 15:30:44\n- webpage_url: https://www.azstlucas.be/onderzoek-en-behandelingen/steenverbrijzeling-eswl\n- webpage_title: Steenverbrijzeling (ESWL)\n- catalog_url: https://www.azstlucas.be/onderzoek-en-behandelingen\n- path_context: (Node)<-HAS_CHUNK-(Node)<-HAS_WEBPAGE-(Node)\n2. Content =====================================================\n* Als je algemeen onwel voelt met een toenemende pijn in de flank, moet je contact opnemen met je uroloog. In dat geval is het mogelijk dat je een bloeduitstorting op de nier hebt. Dat wordt best opgevolgd in het ziekenhuis.\n=========================  Document 2  =========================\n1. Metadata ====================================================\n- chunk_size: 500\n- embedding_model: hkunlp/instructor-xl\n- chunk_order: 3793\n- chunk_overlap: 60\n- chunk_id: 3793\n- webpage_scrape_dt: None\n- webpage_url: None\n- webpage_title: None\n- catalog_url: https://www.azstlucas.be/onderzoek-en-behandelingen/steenverbrijzeling-eswl\n- path_context: (Node)<-NEXT_CHUNK-(Node)<-HAS_CHUNK-(Node)<-HAS_WEBPAGE-(Node)\n2. Content =====================================================\n* Als je algemeen onwel voelt met een toenemende pijn in de flank, moet je contact opnemen met je uroloog. In dat geval is het mogelijk dat je een bloeduitstorting op de nier hebt. Dat wordt best opgevolgd in het ziekenhuis.\n=========================  Document 3  =========================\n1. Metadata ====================================================\n- chunk_size: 500\n- embedding_model: hkunlp/instructor-xl\n- chunk_order: 3793\n- chunk_overlap: 60\n- chunk_id: 3793\n- webpage_scrape_dt: None\n- webpage_url: None\n- webpage_title: None\n- catalog_url: None\n- path_context: (Node)<-NEXT_CHUNK-(Node)<-NEXT_CHUNK-(Node)<-HAS_CHUNK-(Node)<-HAS_WEBPAGE-(Node)\n2. Content =====================================================\n* Als je algemeen onwel voelt met een toenemende pijn in de flank, moet je contact opnemen met je uroloog. In dat geval is het mogelijk dat je een bloeduitstorting op de nier hebt. Dat wordt best opgevolgd in het ziekenhuis.\n=========================  Document 4  =========================\n1. Metadata ====================================================\n- chunk_size: 500\n- embedding_model: hkunlp/instructor-xl\n- chunk_order: 3793\n- chunk_overlap: 60\n- chunk_id: 3793\n- webpage_scrape_dt: None\n- webpage_url: None\n- webpage_title: None\n- catalog_url: None\n- path_context: (Node)<-NEXT_CHUNK-(Node)<-NEXT_CHUNK-(Node)<-NEXT_CHUNK-(Node)<-HAS_CHUNK-(Node)<-HAS_WEBPAGE-(Node)\n2. Content =====================================================\n* Als je algemeen onwel voelt met een toenemende pijn in de flank, moet je contact opnemen met je uroloog. In dat geval is het mogelijk dat je een bloeduitstorting op de nier hebt. Dat wordt best opgevolgd in het ziekenhuis.\n=========================  Document 5  =========================\n1. Metadata ====================================================\n- chunk_size: 500\n- embedding_model: hkunlp/instructor-xl\n- chunk_order: 3793\n- chunk_overlap: 60\n- chunk_id: 3793\n- webpage_scrape_dt: None\n- webpage_url: None\n- webpage_title: None\n- catalog_url: None\n- path_context: (Node)<-NEXT_CHUNK-(Node)<-NEXT_CHUNK-(Node)<-NEXT_CHUNK-(Node)<-NEXT_CHUNK-(Node)<-HAS_CHUNK-(Node)<-HAS_WEBPAGE-(Node)\n2. Content =====================================================\n* Als je algemeen onwel voelt met een toenemende pijn in de flank, moet je contact opnemen met je uroloog. In dat geval is het mogelijk dat je een bloeduitstorting op de nier hebt. Dat wordt best opgevolgd in het ziekenhuis.\n=========================  Document 6  =========================\n1. Metadata ====================================================\n- chunk_size: 500\n- embedding_model: hkunlp/instructor-xl\n- chunk_order: 3793\n- chunk_overlap: 60\n- chunk_id: 3793\n- webpage_scrape_dt: None\n- webpage_url: None\n- webpage_title: None\n- catalog_url: None\n- path_context: (Node)<-NEXT_CHUNK-(Node)<-NEXT_CHUNK-(Node)<-NEXT_CHUNK-(Node)<-NEXT_CHUNK-(Node)<-NEXT_CHUNK-(Node)<-HAS_CHUNK-(Node)<-HAS_WEBPAGE-(Node)\n2. Content =====================================================\n* Als je algemeen onwel voelt met een toenemende pijn in de flank, moet je contact opnemen met je uroloog. In dat geval is het mogelijk dat je een bloeduitstorting op de nier hebt. Dat wordt best opgevolgd in het ziekenhuis.\n=========================  Document 7  =========================\n1. Metadata ====================================================\n- chunk_size: 500\n- embedding_model: hkunlp/instructor-xl\n- chunk_order: 3793\n- chunk_overlap: 60\n- chunk_id: 3793\n- webpage_scrape_dt: None\n- webpage_url: None\n- webpage_title: None\n- catalog_url: None\n- path_context: (Node)<-NEXT_CHUNK-(Node)<-NEXT_CHUNK-(Node)<-NEXT_CHUNK-(Node)<-NEXT_CHUNK-(Node)<-NEXT_CHUNK-(Node)<-NEXT_CHUNK-(Node)<-HAS_CHUNK-(Node)<-HAS_WEBPAGE-(Node)\n2. Content =====================================================\n* Als je algemeen onwel voelt met een toenemende pijn in de flank, moet je contact opnemen met je uroloog. In dat geval is het mogelijk dat je een bloeduitstorting op de nier hebt. Dat wordt best opgevolgd in het ziekenhuis.\n=========================  Document 8  =========================\n1. Metadata ====================================================\n- chunk_size: 500\n- embedding_model: hkunlp/instructor-xl\n- chunk_order: 3793\n- chunk_overlap: 60\n- chunk_id: 3793\n- webpage_scrape_dt: None\n- webpage_url: None\n- webpage_title: None\n- catalog_url: None\n- path_context: (Node)<-NEXT_CHUNK-(Node)<-NEXT_CHUNK-(Node)<-NEXT_CHUNK-(Node)<-NEXT_CHUNK-(Node)<-NEXT_CHUNK-(Node)<-NEXT_CHUNK-(Node)<-NEXT_CHUNK-(Node)<-HAS_CHUNK-(Node)<-HAS_WEBPAGE-(Node)\n2. Content =====================================================\n* Als je algemeen onwel voelt met een toenemende pijn in de flank, moet je contact opnemen met je uroloog. In dat geval is het mogelijk dat je een bloeduitstorting op de nier hebt. Dat wordt best opgevolgd in het ziekenhuis.\n=========================  Document 9  =========================\n1. Metadata ====================================================\n- chunk_size: 500\n- embedding_model: hkunlp/instructor-xl\n- chunk_order: 3793\n- chunk_overlap: 60\n- chunk_id: 3793\n- webpage_scrape_dt: None\n- webpage_url: None\n- webpage_title: None\n- catalog_url: None\n- path_context: (Node)<-NEXT_CHUNK-(Node)<-NEXT_CHUNK-(Node)<-NEXT_CHUNK-(Node)<-NEXT_CHUNK-(Node)<-NEXT_CHUNK-(Node)<-NEXT_CHUNK-(Node)<-NEXT_CHUNK-(Node)<-NEXT_CHUNK-(Node)<-HAS_CHUNK-(Node)<-HAS_WEBPAGE-(Node)\n2. Content =====================================================\n* Als je algemeen onwel voelt met een toenemende pijn in de flank, moet je contact opnemen met je uroloog. In dat geval is het mogelijk dat je een bloeduitstorting op de nier hebt. Dat wordt best opgevolgd in het ziekenhuis.\n=========================  Document 10  =========================\n1. Metadata ====================================================\n- chunk_size: 500\n- embedding_model: hkunlp/instructor-xl\n- chunk_order: 3793\n- chunk_overlap: 60\n- chunk_id: 3793\n- webpage_scrape_dt: None\n- webpage_url: None\n- webpage_title: None\n- catalog_url: None\n- path_context: (Node)<-NEXT_CHUNK-(Node)<-NEXT_CHUNK-(Node)<-NEXT_CHUNK-(Node)<-NEXT_CHUNK-(Node)<-NEXT_CHUNK-(Node)<-NEXT_CHUNK-(Node)<-NEXT_CHUNK-(Node)<-NEXT_CHUNK-(Node)<-NEXT_CHUNK-(Node)<-HAS_CHUNK-(Node)<-HAS_WEBPAGE-(Node)\n2. Content =====================================================\n* Als je algemeen onwel voelt met een toenemende pijn in de flank, moet je contact opnemen met je uroloog. In dat geval is het mogelijk dat je een bloeduitstorting op de nier hebt. Dat wordt best opgevolgd in het ziekenhuis.\n=========================  Document 11  =========================\n1. Metadata ====================================================\n- chunk_size: 500\n- embedding_model: hkunlp/instructor-xl\n- chunk_order: 67\n- chunk_overlap: 60\n- chunk_id: 67\n- webpage_scrape_dt: 12/11/2023 15:26:55\n- webpage_url: https://www.azstlucas.be/onderzoek-en-behandelingen/acnes-buikwand-pijnsyndroom\n- webpage_title: ACNES (buikwand pijnsyndroom)\n- catalog_url: https://www.azstlucas.be/onderzoek-en-behandelingen\n- path_context: (Node)<-HAS_CHUNK-(Node)<-HAS_WEBPAGE-(Node)\n2. Content =====================================================\npijn, zogenaamde napijn, ervaren. Dit komt doordat een al geïrriteerde en pijnlijke zone een behandeling kreeg, wat het extra gevoelig maakt.\n=========================  Document 12  =========================\n1. Metadata ====================================================\n- chunk_size: 500\n- embedding_model: hkunlp/instructor-xl\n- chunk_order: 67\n- chunk_overlap: 60\n- chunk_id: 67\n- webpage_scrape_dt: None\n- webpage_url: None\n- webpage_title: None\n- catalog_url: https://www.azstlucas.be/onderzoek-en-behandelingen/acnes-buikwand-pijnsyndroom\n- path_context: (Node)<-NEXT_CHUNK-(Node)<-HAS_CHUNK-(Node)<-HAS_WEBPAGE-(Node)\n2. Content =====================================================\npijn, zogenaamde napijn, ervaren. Dit komt doordat een al geïrriteerde en pijnlijke zone een behandeling kreeg, wat het extra gevoelig maakt.\n=========================  Document 13  =========================\n1. Metadata ====================================================\n- chunk_size: 500\n- embedding_model: hkunlp/instructor-xl\n- chunk_order: 67\n- chunk_overlap: 60\n- chunk_id: 67\n- webpage_scrape_dt: None\n- webpage_url: None\n- webpage_title: None\n- catalog_url: None\n- path_context: (Node)<-NEXT_CHUNK-(Node)<-NEXT_CHUNK-(Node)<-HAS_CHUNK-(Node)<-HAS_WEBPAGE-(Node)\n2. Content =====================================================\npijn, zogenaamde napijn, ervaren. Dit komt doordat een al geïrriteerde en pijnlijke zone een behandeling kreeg, wat het extra gevoelig maakt.\n=========================  Document 14  =========================\n1. Metadata ====================================================\n- chunk_size: 500\n- embedding_model: hkunlp/instructor-xl\n- chunk_order: 67\n- chunk_overlap: 60\n- chunk_id: 67\n- webpage_scrape_dt: None\n- webpage_url: None\n- webpage_title: None\n- catalog_url: None\n- path_context: (Node)<-NEXT_CHUNK-(Node)<-NEXT_CHUNK-(Node)<-NEXT_CHUNK-(Node)<-HAS_CHUNK-(Node)<-HAS_WEBPAGE-(Node)\n2. Content =====================================================\npijn, zogenaamde napijn, ervaren. Dit komt doordat een al geïrriteerde en pijnlijke zone een behandeling kreeg, wat het extra gevoelig maakt.\n=========================  Document 15  =========================\n1. Metadata ====================================================\n- chunk_size: 500\n- embedding_model: hkunlp/instructor-xl\n- chunk_order: 67\n- chunk_overlap: 60\n- chunk_id: 67\n- webpage_scrape_dt: None\n- webpage_url: None\n- webpage_title: None\n- catalog_url: None\n- path_context: (Node)<-NEXT_CHUNK-(Node)<-NEXT_CHUNK-(Node)<-NEXT_CHUNK-(Node)<-NEXT_CHUNK-(Node)<-HAS_CHUNK-(Node)<-HAS_WEBPAGE-(Node)\n2. Content =====================================================\npijn, zogenaamde napijn, ervaren. Dit komt doordat een al geïrriteerde en pijnlijke zone een behandeling kreeg, wat het extra gevoelig maakt.\n=========================  Document 16  =========================\n1. Metadata ====================================================\n- chunk_size: 500\n- embedding_model: hkunlp/instructor-xl\n- chunk_order: 67\n- chunk_overlap: 60\n- chunk_id: 67\n- webpage_scrape_dt: None\n- webpage_url: None\n- webpage_title: None\n- catalog_url: None\n- path_context: (Node)<-NEXT_CHUNK-(Node)<-NEXT_CHUNK-(Node)<-NEXT_CHUNK-(Node)<-NEXT_CHUNK-(Node)<-NEXT_CHUNK-(Node)<-HAS_CHUNK-(Node)<-HAS_WEBPAGE-(Node)\n2. Content =====================================================\npijn, zogenaamde napijn, ervaren. Dit komt doordat een al geïrriteerde en pijnlijke zone een behandeling kreeg, wat het extra gevoelig maakt.\n=========================  Document 17  =========================\n1. Metadata ====================================================\n- chunk_size: 500\n- embedding_model: hkunlp/instructor-xl\n- chunk_order: 67\n- chunk_overlap: 60\n- chunk_id: 67\n- webpage_scrape_dt: None\n- webpage_url: None\n- webpage_title: None\n- catalog_url: None\n- path_context: (Node)<-NEXT_CHUNK-(Node)<-NEXT_CHUNK-(Node)<-NEXT_CHUNK-(Node)<-NEXT_CHUNK-(Node)<-NEXT_CHUNK-(Node)<-NEXT_CHUNK-(Node)<-HAS_CHUNK-(Node)<-HAS_WEBPAGE-(Node)\n2. Content =====================================================\npijn, zogenaamde napijn, ervaren. Dit komt doordat een al geïrriteerde en pijnlijke zone een behandeling kreeg, wat het extra gevoelig maakt.\n=========================  Document 18  =========================\n1. Metadata ====================================================\n- chunk_size: 500\n- embedding_model: hkunlp/instructor-xl\n- chunk_order: 67\n- chunk_overlap: 60\n- chunk_id: 67\n- webpage_scrape_dt: None\n- webpage_url: None\n- webpage_title: None\n- catalog_url: None\n- path_context: (Node)<-NEXT_CHUNK-(Node)<-NEXT_CHUNK-(Node)<-NEXT_CHUNK-(Node)<-NEXT_CHUNK-(Node)<-NEXT_CHUNK-(Node)<-NEXT_CHUNK-(Node)<-NEXT_CHUNK-(Node)<-HAS_CHUNK-(Node)<-HAS_WEBPAGE-(Node)\n2. Content =====================================================\npijn, zogenaamde napijn, ervaren. Dit komt doordat een al geïrriteerde en pijnlijke zone een behandeling kreeg, wat het extra gevoelig maakt.\n=========================  Document 19  =========================\n1. Metadata ====================================================\n- chunk_size: 500\n- embedding_model: hkunlp/instructor-xl\n- chunk_order: 67\n- chunk_overlap: 60\n- chunk_id: 67\n- webpage_scrape_dt: None\n- webpage_url: None\n- webpage_title: None\n- catalog_url: None\n- path_context: (Node)<-NEXT_CHUNK-(Node)<-NEXT_CHUNK-(Node)<-NEXT_CHUNK-(Node)<-NEXT_CHUNK-(Node)<-NEXT_CHUNK-(Node)<-NEXT_CHUNK-(Node)<-NEXT_CHUNK-(Node)<-NEXT_CHUNK-(Node)<-HAS_CHUNK-(Node)<-HAS_WEBPAGE-(Node)\n2. Content =====================================================\npijn, zogenaamde napijn, ervaren. Dit komt doordat een al geïrriteerde en pijnlijke zone een behandeling kreeg, wat het extra gevoelig maakt.\n=========================  Document 20  =========================\n1. Metadata ====================================================\n- chunk_size: 500\n- embedding_model: hkunlp/instructor-xl\n- chunk_order: 67\n- chunk_overlap: 60\n- chunk_id: 67\n- webpage_scrape_dt: None\n- webpage_url: None\n- webpage_title: None\n- catalog_url: None\n- path_context: (Node)<-NEXT_CHUNK-(Node)<-NEXT_CHUNK-(Node)<-NEXT_CHUNK-(Node)<-NEXT_CHUNK-(Node)<-NEXT_CHUNK-(Node)<-NEXT_CHUNK-(Node)<-NEXT_CHUNK-(Node)<-NEXT_CHUNK-(Node)<-NEXT_CHUNK-(Node)<-HAS_CHUNK-(Node)<-HAS_WEBPAGE-(Node)\n2. Content =====================================================\npijn, zogenaamde napijn, ervaren. Dit komt doordat een al geïrriteerde en pijnlijke zone een behandeling kreeg, wat het extra gevoelig maakt.\n=========================  Document 21  =========================\n1. Metadata ====================================================\n- chunk_size: 500\n- embedding_model: hkunlp/instructor-xl\n- chunk_order: 67\n- chunk_overlap: 60\n- chunk_id: 67\n- webpage_scrape_dt: None\n- webpage_url: None\n- webpage_title: None\n- catalog_url: None\n- path_context: (Node)<-NEXT_CHUNK-(Node)<-NEXT_CHUNK-(Node)<-NEXT_CHUNK-(Node)<-NEXT_CHUNK-(Node)<-NEXT_CHUNK-(Node)<-NEXT_CHUNK-(Node)<-NEXT_CHUNK-(Node)<-NEXT_CHUNK-(Node)<-NEXT_CHUNK-(Node)<-NEXT_CHUNK-(Node)<-HAS_CHUNK-(Node)<-HAS_WEBPAGE-(Node)\n2. Content =====================================================\npijn, zogenaamde napijn, ervaren. Dit komt doordat een al geïrriteerde en pijnlijke zone een behandeling kreeg, wat het extra gevoelig maakt.\n=========================  Document 22  =========================\n1. Metadata ====================================================\n- chunk_size: 500\n- embedding_model: hkunlp/instructor-xl\n- chunk_order: 67\n- chunk_overlap: 60\n- chunk_id: 67\n- webpage_scrape_dt: None\n- webpage_url: None\n- webpage_title: None\n- catalog_url: None\n- path_context: (Node)<-NEXT_CHUNK-(Node)<-NEXT_CHUNK-(Node)<-NEXT_CHUNK-(Node)<-NEXT_CHUNK-(Node)<-NEXT_CHUNK-(Node)<-NEXT_CHUNK-(Node)<-NEXT_CHUNK-(Node)<-NEXT_CHUNK-(Node)<-NEXT_CHUNK-(Node)<-NEXT_CHUNK-(Node)<-NEXT_CHUNK-(Node)<-HAS_CHUNK-(Node)<-HAS_WEBPAGE-(Node)\n2. Content =====================================================\npijn, zogenaamde napijn, ervaren. Dit komt doordat een al geïrriteerde en pijnlijke zone een behandeling kreeg, wat het extra gevoelig maakt.\n=========================  Document 23  =========================\n1. Metadata ====================================================\n- chunk_size: 500\n- embedding_model: hkunlp/instructor-xl\n- chunk_order: 67\n- chunk_overlap: 60\n- chunk_id: 67\n- webpage_scrape_dt: None\n- webpage_url: None\n- webpage_title: None\n- catalog_url: None\n- path_context: (Node)<-NEXT_CHUNK-(Node)<-NEXT_CHUNK-(Node)<-NEXT_CHUNK-(Node)<-NEXT_CHUNK-(Node)<-NEXT_CHUNK-(Node)<-NEXT_CHUNK-(Node)<-NEXT_CHUNK-(Node)<-NEXT_CHUNK-(Node)<-NEXT_CHUNK-(Node)<-NEXT_CHUNK-(Node)<-NEXT_CHUNK-(Node)<-NEXT_CHUNK-(Node)<-HAS_CHUNK-(Node)<-HAS_WEBPAGE-(Node)\n2. Content =====================================================\npijn, zogenaamde napijn, ervaren. Dit komt doordat een al geïrriteerde en pijnlijke zone een behandeling kreeg, wat het extra gevoelig maakt.\n=========================  Document 24  =========================\n1. Metadata ====================================================\n- chunk_size: 500\n- embedding_model: hkunlp/instructor-xl\n- chunk_order: 67\n- chunk_overlap: 60\n- chunk_id: 67\n- webpage_scrape_dt: None\n- webpage_url: None\n- webpage_title: None\n- catalog_url: None\n- path_context: (Node)<-NEXT_CHUNK-(Node)<-NEXT_CHUNK-(Node)<-NEXT_CHUNK-(Node)<-NEXT_CHUNK-(Node)<-NEXT_CHUNK-(Node)<-NEXT_CHUNK-(Node)<-NEXT_CHUNK-(Node)<-NEXT_CHUNK-(Node)<-NEXT_CHUNK-(Node)<-NEXT_CHUNK-(Node)<-NEXT_CHUNK-(Node)<-NEXT_CHUNK-(Node)<-NEXT_CHUNK-(Node)<-HAS_CHUNK-(Node)<-HAS_WEBPAGE-(Node)\n2. Content =====================================================\npijn, zogenaamde napijn, ervaren. Dit komt doordat een al geïrriteerde en pijnlijke zone een behandeling kreeg, wat het extra gevoelig maakt.\n=========================  Document 25  =========================\n1. Metadata ====================================================\n- chunk_size: 500\n- embedding_model: hkunlp/instructor-xl\n- chunk_order: 3061\n- chunk_overlap: 60\n- chunk_id: 3061\n- webpage_scrape_dt: 12/11/2023 15:30:04\n- webpage_url: https://www.azstlucas.be/onderzoek-en-behandelingen/pyeloplastie\n- webpage_title: Pyeloplastie\n- catalog_url: https://www.azstlucas.be/onderzoek-en-behandelingen\n- path_context: (Node)<-HAS_CHUNK-(Node)<-HAS_WEBPAGE-(Node)\n2. Content =====================================================\npijnlijk is, kan het aangewezen zijn om deze aandoening te behandelen aangezien de werking van die nier geleidelijk aan achteruit gaat. De kans op een infectie of steenvorming in die nier is ook groter.\n=========================  Document 26  =========================\n1. Metadata ====================================================\n- chunk_size: 500\n- embedding_model: hkunlp/instructor-xl\n- chunk_order: 3061\n- chunk_overlap: 60\n- chunk_id: 3061\n- webpage_scrape_dt: None\n- webpage_url: None\n- webpage_title: None\n- catalog_url: https://www.azstlucas.be/onderzoek-en-behandelingen/pyeloplastie\n- path_context: (Node)<-NEXT_CHUNK-(Node)<-HAS_CHUNK-(Node)<-HAS_WEBPAGE-(Node)\n2. Content =====================================================\npijnlijk is, kan het aangewezen zijn om deze aandoening te behandelen aangezien de werking van die nier geleidelijk aan achteruit gaat. De kans op een infectie of steenvorming in die nier is ook groter.\n=========================  Document 27  =========================\n1. Metadata ====================================================\n- chunk_size: 500\n- embedding_model: hkunlp/instructor-xl\n- chunk_order: 3061\n- chunk_overlap: 60\n- chunk_id: 3061\n- webpage_scrape_dt: None\n- webpage_url: None\n- webpage_title: None\n- catalog_url: None\n- path_context: (Node)<-NEXT_CHUNK-(Node)<-NEXT_CHUNK-(Node)<-HAS_CHUNK-(Node)<-HAS_WEBPAGE-(Node)\n2. Content =====================================================\npijnlijk is, kan het aangewezen zijn om deze aandoening te behandelen aangezien de werking van die nier geleidelijk aan achteruit gaat. De kans op een infectie of steenvorming in die nier is ook groter.\n=========================  Document 28  =========================\n1. Metadata ====================================================\n- chunk_size: 500\n- embedding_model: hkunlp/instructor-xl\n- chunk_order: 3061\n- chunk_overlap: 60\n- chunk_id: 3061\n- webpage_scrape_dt: None\n- webpage_url: None\n- webpage_title: None\n- catalog_url: None\n- path_context: (Node)<-NEXT_CHUNK-(Node)<-NEXT_CHUNK-(Node)<-NEXT_CHUNK-(Node)<-HAS_CHUNK-(Node)<-HAS_WEBPAGE-(Node)\n2. Content =====================================================\npijnlijk is, kan het aangewezen zijn om deze aandoening te behandelen aangezien de werking van die nier geleidelijk aan achteruit gaat. De kans op een infectie of steenvorming in die nier is ook groter.\n=========================  Document 29  =========================\n1. Metadata ====================================================\n- chunk_size: 500\n- embedding_model: hkunlp/instructor-xl\n- chunk_order: 3061\n- chunk_overlap: 60\n- chunk_id: 3061\n- webpage_scrape_dt: None\n- webpage_url: None\n- webpage_title: None\n- catalog_url: None\n- path_context: (Node)<-NEXT_CHUNK-(Node)<-NEXT_CHUNK-(Node)<-NEXT_CHUNK-(Node)<-NEXT_CHUNK-(Node)<-HAS_CHUNK-(Node)<-HAS_WEBPAGE-(Node)\n2. Content =====================================================\npijnlijk is, kan het aangewezen zijn om deze aandoening te behandelen aangezien de werking van die nier geleidelijk aan achteruit gaat. De kans op een infectie of steenvorming in die nier is ook groter.\n=========================  Document 30  =========================\n1. Metadata ====================================================\n- chunk_size: 500\n- embedding_model: hkunlp/instructor-xl\n- chunk_order: 1878\n- chunk_overlap: 60\n- chunk_id: 1878\n- webpage_scrape_dt: 12/11/2023 15:28:45\n- webpage_url: https://www.azstlucas.be/onderzoek-en-behandelingen/infiltratie-trochanter-major\n- webpage_title: Infiltratie trochanter major\n- catalog_url: https://www.azstlucas.be/onderzoek-en-behandelingen\n- path_context: (Node)<-HAS_CHUNK-(Node)<-HAS_WEBPAGE-(Node)\n2. Content =====================================================\nkan zelfs meer pijn, zogenaamde napijn, ervaren. Dit komt doordat een al geïrriteerde en pijnlijke zone een behandeling kreeg, wat het extra gevoelig maakt. Deze napijn kan 2 weken aanhouden. Het is daarom van belang dat je jouw pijnstillers blijft innemen.\n=========================  Document 31  =========================\n1. Metadata ====================================================\n- chunk_size: 500\n- embedding_model: hkunlp/instructor-xl\n- chunk_order: 1878\n- chunk_overlap: 60\n- chunk_id: 1878\n- webpage_scrape_dt: None\n- webpage_url: None\n- webpage_title: None\n- catalog_url: https://www.azstlucas.be/onderzoek-en-behandelingen/infiltratie-trochanter-major\n- path_context: (Node)<-NEXT_CHUNK-(Node)<-HAS_CHUNK-(Node)<-HAS_WEBPAGE-(Node)\n2. Content =====================================================\nkan zelfs meer pijn, zogenaamde napijn, ervaren. Dit komt doordat een al geïrriteerde en pijnlijke zone een behandeling kreeg, wat het extra gevoelig maakt. Deze napijn kan 2 weken aanhouden. Het is daarom van belang dat je jouw pijnstillers blijft innemen.\n=========================  Document 32  =========================\n1. Metadata ====================================================\n- chunk_size: 500\n- embedding_model: hkunlp/instructor-xl\n- chunk_order: 1878\n- chunk_overlap: 60\n- chunk_id: 1878\n- webpage_scrape_dt: None\n- webpage_url: None\n- webpage_title: None\n- catalog_url: None\n- path_context: (Node)<-NEXT_CHUNK-(Node)<-NEXT_CHUNK-(Node)<-HAS_CHUNK-(Node)<-HAS_WEBPAGE-(Node)\n2. Content =====================================================\nkan zelfs meer pijn, zogenaamde napijn, ervaren. Dit komt doordat een al geïrriteerde en pijnlijke zone een behandeling kreeg, wat het extra gevoelig maakt. Deze napijn kan 2 weken aanhouden. Het is daarom van belang dat je jouw pijnstillers blijft innemen.\n=========================  Document 33  =========================\n1. Metadata ====================================================\n- chunk_size: 500\n- embedding_model: hkunlp/instructor-xl\n- chunk_order: 1878\n- chunk_overlap: 60\n- chunk_id: 1878\n- webpage_scrape_dt: None\n- webpage_url: None\n- webpage_title: None\n- catalog_url: None\n- path_context: (Node)<-NEXT_CHUNK-(Node)<-NEXT_CHUNK-(Node)<-NEXT_CHUNK-(Node)<-HAS_CHUNK-(Node)<-HAS_WEBPAGE-(Node)\n2. Content =====================================================\nkan zelfs meer pijn, zogenaamde napijn, ervaren. Dit komt doordat een al geïrriteerde en pijnlijke zone een behandeling kreeg, wat het extra gevoelig maakt. Deze napijn kan 2 weken aanhouden. Het is daarom van belang dat je jouw pijnstillers blijft innemen.\n=========================  Document 34  =========================\n1. Metadata ====================================================\n- chunk_size: 500\n- embedding_model: hkunlp/instructor-xl\n- chunk_order: 1878\n- chunk_overlap: 60\n- chunk_id: 1878\n- webpage_scrape_dt: None\n- webpage_url: None\n- webpage_title: None\n- catalog_url: None\n- path_context: (Node)<-NEXT_CHUNK-(Node)<-NEXT_CHUNK-(Node)<-NEXT_CHUNK-(Node)<-NEXT_CHUNK-(Node)<-HAS_CHUNK-(Node)<-HAS_WEBPAGE-(Node)\n2. Content =====================================================\nkan zelfs meer pijn, zogenaamde napijn, ervaren. Dit komt doordat een al geïrriteerde en pijnlijke zone een behandeling kreeg, wat het extra gevoelig maakt. Deze napijn kan 2 weken aanhouden. Het is daarom van belang dat je jouw pijnstillers blijft innemen.\n=========================  Document 35  =========================\n1. Metadata ====================================================\n- chunk_size: 500\n- embedding_model: hkunlp/instructor-xl\n- chunk_order: 1878\n- chunk_overlap: 60\n- chunk_id: 1878\n- webpage_scrape_dt: None\n- webpage_url: None\n- webpage_title: None\n- catalog_url: None\n- path_context: (Node)<-NEXT_CHUNK-(Node)<-NEXT_CHUNK-(Node)<-NEXT_CHUNK-(Node)<-NEXT_CHUNK-(Node)<-NEXT_CHUNK-(Node)<-HAS_CHUNK-(Node)<-HAS_WEBPAGE-(Node)\n2. Content =====================================================\nkan zelfs meer pijn, zogenaamde napijn, ervaren. Dit komt doordat een al geïrriteerde en pijnlijke zone een behandeling kreeg, wat het extra gevoelig maakt. Deze napijn kan 2 weken aanhouden. Het is daarom van belang dat je jouw pijnstillers blijft innemen.\n=========================  Document 36  =========================\n1. Metadata ====================================================\n- chunk_size: 500\n- embedding_model: hkunlp/instructor-xl\n- chunk_order: 1878\n- chunk_overlap: 60\n- chunk_id: 1878\n- webpage_scrape_dt: None\n- webpage_url: None\n- webpage_title: None\n- catalog_url: None\n- path_context: (Node)<-NEXT_CHUNK-(Node)<-NEXT_CHUNK-(Node)<-NEXT_CHUNK-(Node)<-NEXT_CHUNK-(Node)<-NEXT_CHUNK-(Node)<-NEXT_CHUNK-(Node)<-HAS_CHUNK-(Node)<-HAS_WEBPAGE-(Node)\n2. Content =====================================================\nkan zelfs meer pijn, zogenaamde napijn, ervaren. Dit komt doordat een al geïrriteerde en pijnlijke zone een behandeling kreeg, wat het extra gevoelig maakt. Deze napijn kan 2 weken aanhouden. Het is daarom van belang dat je jouw pijnstillers blijft innemen.\n=========================  Document 37  =========================\n1. Metadata ====================================================\n- chunk_size: 500\n- embedding_model: hkunlp/instructor-xl\n- chunk_order: 1878\n- chunk_overlap: 60\n- chunk_id: 1878\n- webpage_scrape_dt: None\n- webpage_url: None\n- webpage_title: None\n- catalog_url: None\n- path_context: (Node)<-NEXT_CHUNK-(Node)<-NEXT_CHUNK-(Node)<-NEXT_CHUNK-(Node)<-NEXT_CHUNK-(Node)<-NEXT_CHUNK-(Node)<-NEXT_CHUNK-(Node)<-NEXT_CHUNK-(Node)<-HAS_CHUNK-(Node)<-HAS_WEBPAGE-(Node)\n2. Content =====================================================\nkan zelfs meer pijn, zogenaamde napijn, ervaren. Dit komt doordat een al geïrriteerde en pijnlijke zone een behandeling kreeg, wat het extra gevoelig maakt. Deze napijn kan 2 weken aanhouden. Het is daarom van belang dat je jouw pijnstillers blijft innemen.\n=========================  Document 38  =========================\n1. Metadata ====================================================\n- chunk_size: 500\n- embedding_model: hkunlp/instructor-xl\n- chunk_order: 1878\n- chunk_overlap: 60\n- chunk_id: 1878\n- webpage_scrape_dt: None\n- webpage_url: None\n- webpage_title: None\n- catalog_url: None\n- path_context: (Node)<-NEXT_CHUNK-(Node)<-NEXT_CHUNK-(Node)<-NEXT_CHUNK-(Node)<-NEXT_CHUNK-(Node)<-NEXT_CHUNK-(Node)<-NEXT_CHUNK-(Node)<-NEXT_CHUNK-(Node)<-NEXT_CHUNK-(Node)<-HAS_CHUNK-(Node)<-HAS_WEBPAGE-(Node)\n2. Content =====================================================\nkan zelfs meer pijn, zogenaamde napijn, ervaren. Dit komt doordat een al geïrriteerde en pijnlijke zone een behandeling kreeg, wat het extra gevoelig maakt. Deze napijn kan 2 weken aanhouden. Het is daarom van belang dat je jouw pijnstillers blijft innemen.\n=========================  Document 39  =========================\n1. Metadata ====================================================\n- chunk_size: 500\n- embedding_model: hkunlp/instructor-xl\n- chunk_order: 1878\n- chunk_overlap: 60\n- chunk_id: 1878\n- webpage_scrape_dt: None\n- webpage_url: None\n- webpage_title: None\n- catalog_url: None\n- path_context: (Node)<-NEXT_CHUNK-(Node)<-NEXT_CHUNK-(Node)<-NEXT_CHUNK-(Node)<-NEXT_CHUNK-(Node)<-NEXT_CHUNK-(Node)<-NEXT_CHUNK-(Node)<-NEXT_CHUNK-(Node)<-NEXT_CHUNK-(Node)<-NEXT_CHUNK-(Node)<-HAS_CHUNK-(Node)<-HAS_WEBPAGE-(Node)\n2. Content =====================================================\nkan zelfs meer pijn, zogenaamde napijn, ervaren. Dit komt doordat een al geïrriteerde en pijnlijke zone een behandeling kreeg, wat het extra gevoelig maakt. Deze napijn kan 2 weken aanhouden. Het is daarom van belang dat je jouw pijnstillers blijft innemen.\n=========================  Document 40  =========================\n1. Metadata ====================================================\n- chunk_size: 500\n- embedding_model: hkunlp/instructor-xl\n- chunk_order: 1878\n- chunk_overlap: 60\n- chunk_id: 1878\n- webpage_scrape_dt: None\n- webpage_url: None\n- webpage_title: None\n- catalog_url: None\n- path_context: (Node)<-NEXT_CHUNK-(Node)<-NEXT_CHUNK-(Node)<-NEXT_CHUNK-(Node)<-NEXT_CHUNK-(Node)<-NEXT_CHUNK-(Node)<-NEXT_CHUNK-(Node)<-NEXT_CHUNK-(Node)<-NEXT_CHUNK-(Node)<-NEXT_CHUNK-(Node)<-NEXT_CHUNK-(Node)<-HAS_CHUNK-(Node)<-HAS_WEBPAGE-(Node)\n2. Content =====================================================\nkan zelfs meer pijn, zogenaamde napijn, ervaren. Dit komt doordat een al geïrriteerde en pijnlijke zone een behandeling kreeg, wat het extra gevoelig maakt. Deze napijn kan 2 weken aanhouden. Het is daarom van belang dat je jouw pijnstillers blijft innemen.\n=========================  Document 41  =========================\n1. Metadata ====================================================\n- chunk_size: 500\n- embedding_model: hkunlp/instructor-xl\n- chunk_order: 1878\n- chunk_overlap: 60\n- chunk_id: 1878\n- webpage_scrape_dt: None\n- webpage_url: None\n- webpage_title: None\n- catalog_url: None\n- path_context: (Node)<-NEXT_CHUNK-(Node)<-NEXT_CHUNK-(Node)<-NEXT_CHUNK-(Node)<-NEXT_CHUNK-(Node)<-NEXT_CHUNK-(Node)<-NEXT_CHUNK-(Node)<-NEXT_CHUNK-(Node)<-NEXT_CHUNK-(Node)<-NEXT_CHUNK-(Node)<-NEXT_CHUNK-(Node)<-NEXT_CHUNK-(Node)<-HAS_CHUNK-(Node)<-HAS_WEBPAGE-(Node)\n2. Content =====================================================\nkan zelfs meer pijn, zogenaamde napijn, ervaren. Dit komt doordat een al geïrriteerde en pijnlijke zone een behandeling kreeg, wat het extra gevoelig maakt. Deze napijn kan 2 weken aanhouden. Het is daarom van belang dat je jouw pijnstillers blijft innemen.\n=========================  Document 42  =========================\n1. Metadata ====================================================\n- chunk_size: 500\n- embedding_model: hkunlp/instructor-xl\n- chunk_order: 1878\n- chunk_overlap: 60\n- chunk_id: 1878\n- webpage_scrape_dt: None\n- webpage_url: None\n- webpage_title: None\n- catalog_url: None\n- path_context: (Node)<-NEXT_CHUNK-(Node)<-NEXT_CHUNK-(Node)<-NEXT_CHUNK-(Node)<-NEXT_CHUNK-(Node)<-NEXT_CHUNK-(Node)<-NEXT_CHUNK-(Node)<-NEXT_CHUNK-(Node)<-NEXT_CHUNK-(Node)<-NEXT_CHUNK-(Node)<-NEXT_CHUNK-(Node)<-NEXT_CHUNK-(Node)<-NEXT_CHUNK-(Node)<-HAS_CHUNK-(Node)<-HAS_WEBPAGE-(Node)\n2. Content =====================================================\nkan zelfs meer pijn, zogenaamde napijn, ervaren. Dit komt doordat een al geïrriteerde en pijnlijke zone een behandeling kreeg, wat het extra gevoelig maakt. Deze napijn kan 2 weken aanhouden. Het is daarom van belang dat je jouw pijnstillers blijft innemen.\n=========================  Document 43  =========================\n1. Metadata ====================================================\n- chunk_size: 500\n- embedding_model: hkunlp/instructor-xl\n- chunk_order: 1878\n- chunk_overlap: 60\n- chunk_id: 1878\n- webpage_scrape_dt: None\n- webpage_url: None\n- webpage_title: None\n- catalog_url: None\n- path_context: (Node)<-NEXT_CHUNK-(Node)<-NEXT_CHUNK-(Node)<-NEXT_CHUNK-(Node)<-NEXT_CHUNK-(Node)<-NEXT_CHUNK-(Node)<-NEXT_CHUNK-(Node)<-NEXT_CHUNK-(Node)<-NEXT_CHUNK-(Node)<-NEXT_CHUNK-(Node)<-NEXT_CHUNK-(Node)<-NEXT_CHUNK-(Node)<-NEXT_CHUNK-(Node)<-NEXT_CHUNK-(Node)<-HAS_CHUNK-(Node)<-HAS_WEBPAGE-(Node)\n2. Content =====================================================\nkan zelfs meer pijn, zogenaamde napijn, ervaren. Dit komt doordat een al geïrriteerde en pijnlijke zone een behandeling kreeg, wat het extra gevoelig maakt. Deze napijn kan 2 weken aanhouden. Het is daarom van belang dat je jouw pijnstillers blijft innemen.\n=========================  Document 44  =========================\n1. Metadata ====================================================\n- chunk_size: 500\n- embedding_model: hkunlp/instructor-xl\n- chunk_order: 1878\n- chunk_overlap: 60\n- chunk_id: 1878\n- webpage_scrape_dt: None\n- webpage_url: None\n- webpage_title: None\n- catalog_url: None\n- path_context: (Node)<-NEXT_CHUNK-(Node)<-NEXT_CHUNK-(Node)<-NEXT_CHUNK-(Node)<-NEXT_CHUNK-(Node)<-NEXT_CHUNK-(Node)<-NEXT_CHUNK-(Node)<-NEXT_CHUNK-(Node)<-NEXT_CHUNK-(Node)<-NEXT_CHUNK-(Node)<-NEXT_CHUNK-(Node)<-NEXT_CHUNK-(Node)<-NEXT_CHUNK-(Node)<-NEXT_CHUNK-(Node)<-NEXT_CHUNK-(Node)<-HAS_CHUNK-(Node)<-HAS_WEBPAGE-(Node)\n2. Content =====================================================\nkan zelfs meer pijn, zogenaamde napijn, ervaren. Dit komt doordat een al geïrriteerde en pijnlijke zone een behandeling kreeg, wat het extra gevoelig maakt. Deze napijn kan 2 weken aanhouden. Het is daarom van belang dat je jouw pijnstillers blijft innemen.\n=========================  Document 45  =========================\n1. Metadata ====================================================\n- chunk_size: 500\n- embedding_model: hkunlp/instructor-xl\n- chunk_order: 1878\n- chunk_overlap: 60\n- chunk_id: 1878\n- webpage_scrape_dt: None\n- webpage_url: None\n- webpage_title: None\n- catalog_url: None\n- path_context: (Node)<-NEXT_CHUNK-(Node)<-NEXT_CHUNK-(Node)<-NEXT_CHUNK-(Node)<-NEXT_CHUNK-(Node)<-NEXT_CHUNK-(Node)<-NEXT_CHUNK-(Node)<-NEXT_CHUNK-(Node)<-NEXT_CHUNK-(Node)<-NEXT_CHUNK-(Node)<-NEXT_CHUNK-(Node)<-NEXT_CHUNK-(Node)<-NEXT_CHUNK-(Node)<-NEXT_CHUNK-(Node)<-NEXT_CHUNK-(Node)<-NEXT_CHUNK-(Node)<-HAS_CHUNK-(Node)<-HAS_WEBPAGE-(Node)\n2. Content =====================================================\nkan zelfs meer pijn, zogenaamde napijn, ervaren. Dit komt doordat een al geïrriteerde en pijnlijke zone een behandeling kreeg, wat het extra gevoelig maakt. Deze napijn kan 2 weken aanhouden. Het is daarom van belang dat je jouw pijnstillers blijft innemen.\n=========================  Document 46  =========================\n1. Metadata ====================================================\n- chunk_size: 500\n- embedding_model: hkunlp/instructor-xl\n- chunk_order: 1878\n- chunk_overlap: 60\n- chunk_id: 1878\n- webpage_scrape_dt: None\n- webpage_url: None\n- webpage_title: None\n- catalog_url: None\n- path_context: (Node)<-NEXT_CHUNK-(Node)<-NEXT_CHUNK-(Node)<-NEXT_CHUNK-(Node)<-NEXT_CHUNK-(Node)<-NEXT_CHUNK-(Node)<-NEXT_CHUNK-(Node)<-NEXT_CHUNK-(Node)<-NEXT_CHUNK-(Node)<-NEXT_CHUNK-(Node)<-NEXT_CHUNK-(Node)<-NEXT_CHUNK-(Node)<-NEXT_CHUNK-(Node)<-NEXT_CHUNK-(Node)<-NEXT_CHUNK-(Node)<-NEXT_CHUNK-(Node)<-NEXT_CHUNK-(Node)<-HAS_CHUNK-(Node)<-HAS_WEBPAGE-(Node)\n2. Content =====================================================\nkan zelfs meer pijn, zogenaamde napijn, ervaren. Dit komt doordat een al geïrriteerde en pijnlijke zone een behandeling kreeg, wat het extra gevoelig maakt. Deze napijn kan 2 weken aanhouden. Het is daarom van belang dat je jouw pijnstillers blijft innemen.\n=========================  Document 47  =========================\n1. Metadata ====================================================\n- chunk_size: 500\n- embedding_model: hkunlp/instructor-xl\n- chunk_order: 1878\n- chunk_overlap: 60\n- chunk_id: 1878\n- webpage_scrape_dt: None\n- webpage_url: None\n- webpage_title: None\n- catalog_url: None\n- path_context: (Node)<-NEXT_CHUNK-(Node)<-NEXT_CHUNK-(Node)<-NEXT_CHUNK-(Node)<-NEXT_CHUNK-(Node)<-NEXT_CHUNK-(Node)<-NEXT_CHUNK-(Node)<-NEXT_CHUNK-(Node)<-NEXT_CHUNK-(Node)<-NEXT_CHUNK-(Node)<-NEXT_CHUNK-(Node)<-NEXT_CHUNK-(Node)<-NEXT_CHUNK-(Node)<-NEXT_CHUNK-(Node)<-NEXT_CHUNK-(Node)<-NEXT_CHUNK-(Node)<-NEXT_CHUNK-(Node)<-NEXT_CHUNK-(Node)<-HAS_CHUNK-(Node)<-HAS_WEBPAGE-(Node)\n2. Content =====================================================\nkan zelfs meer pijn, zogenaamde napijn, ervaren. Dit komt doordat een al geïrriteerde en pijnlijke zone een behandeling kreeg, wat het extra gevoelig maakt. Deze napijn kan 2 weken aanhouden. Het is daarom van belang dat je jouw pijnstillers blijft innemen.\n=========================  Document 48  =========================\n1. Metadata ====================================================\n- chunk_size: 500\n- embedding_model: hkunlp/instructor-xl\n- chunk_order: 1878\n- chunk_overlap: 60\n- chunk_id: 1878\n- webpage_scrape_dt: None\n- webpage_url: None\n- webpage_title: None\n- catalog_url: None\n- path_context: (Node)<-NEXT_CHUNK-(Node)<-NEXT_CHUNK-(Node)<-NEXT_CHUNK-(Node)<-NEXT_CHUNK-(Node)<-NEXT_CHUNK-(Node)<-NEXT_CHUNK-(Node)<-NEXT_CHUNK-(Node)<-NEXT_CHUNK-(Node)<-NEXT_CHUNK-(Node)<-NEXT_CHUNK-(Node)<-NEXT_CHUNK-(Node)<-NEXT_CHUNK-(Node)<-NEXT_CHUNK-(Node)<-NEXT_CHUNK-(Node)<-NEXT_CHUNK-(Node)<-NEXT_CHUNK-(Node)<-NEXT_CHUNK-(Node)<-NEXT_CHUNK-(Node)<-HAS_CHUNK-(Node)<-HAS_WEBPAGE-(Node)\n2. Content =====================================================\nkan zelfs meer pijn, zogenaamde napijn, ervaren. Dit komt doordat een al geïrriteerde en pijnlijke zone een behandeling kreeg, wat het extra gevoelig maakt. Deze napijn kan 2 weken aanhouden. Het is daarom van belang dat je jouw pijnstillers blijft innemen.\n=========================  Document 49  =========================\n1. Metadata ====================================================\n- chunk_size: 500\n- embedding_model: hkunlp/instructor-xl\n- chunk_order: 968\n- chunk_overlap: 60\n- chunk_id: 968\n- webpage_scrape_dt: 12/11/2023 15:27:46\n- webpage_url: https://www.azstlucas.be/onderzoek-en-behandelingen/dekolonisatie-bij-terugkerende-huidinfecties\n- webpage_title: Dekolonisatie bij terugkerende huidinfecties\n- catalog_url: https://www.azstlucas.be/onderzoek-en-behandelingen\n- path_context: (Node)<-HAS_CHUNK-(Node)<-HAS_WEBPAGE-(Node)\n2. Content =====================================================\n* Bedek je neus en mond bij hoesten of niezen met een papieren zakdoek. Gooi de zakdoek onmiddellijk weg in een vuilnisemmer en was je handen.\n=========================  Document 50  =========================\n1. Metadata ====================================================\n- chunk_size: 500\n- embedding_model: hkunlp/instructor-xl\n- chunk_order: 968\n- chunk_overlap: 60\n- chunk_id: 968\n- webpage_scrape_dt: None\n- webpage_url: None\n- webpage_title: None\n- catalog_url: https://www.azstlucas.be/onderzoek-en-behandelingen/dekolonisatie-bij-terugkerende-huidinfecties\n- path_context: (Node)<-NEXT_CHUNK-(Node)<-HAS_CHUNK-(Node)<-HAS_WEBPAGE-(Node)\n2. Content =====================================================\n* Bedek je neus en mond bij hoesten of niezen met een papieren zakdoek. Gooi de zakdoek onmiddellijk weg in een vuilnisemmer en was je handen.\n=========================  Document 51  =========================\n1. Metadata ====================================================\n- chunk_size: 500\n- embedding_model: hkunlp/instructor-xl\n- chunk_order: 968\n- chunk_overlap: 60\n- chunk_id: 968\n- webpage_scrape_dt: None\n- webpage_url: None\n- webpage_title: None\n- catalog_url: None\n- path_context: (Node)<-NEXT_CHUNK-(Node)<-NEXT_CHUNK-(Node)<-HAS_CHUNK-(Node)<-HAS_WEBPAGE-(Node)\n2. Content =====================================================\n* Bedek je neus en mond bij hoesten of niezen met een papieren zakdoek. Gooi de zakdoek onmiddellijk weg in een vuilnisemmer en was je handen.\n=========================  Document 52  =========================\n1. Metadata ====================================================\n- chunk_size: 500\n- embedding_model: hkunlp/instructor-xl\n- chunk_order: 968\n- chunk_overlap: 60\n- chunk_id: 968\n- webpage_scrape_dt: None\n- webpage_url: None\n- webpage_title: None\n- catalog_url: None\n- path_context: (Node)<-NEXT_CHUNK-(Node)<-NEXT_CHUNK-(Node)<-NEXT_CHUNK-(Node)<-HAS_CHUNK-(Node)<-HAS_WEBPAGE-(Node)\n2. Content =====================================================\n* Bedek je neus en mond bij hoesten of niezen met een papieren zakdoek. Gooi de zakdoek onmiddellijk weg in een vuilnisemmer en was je handen.\n=========================  Document 53  =========================\n1. Metadata ====================================================\n- chunk_size: 500\n- embedding_model: hkunlp/instructor-xl\n- chunk_order: 968\n- chunk_overlap: 60\n- chunk_id: 968\n- webpage_scrape_dt: None\n- webpage_url: None\n- webpage_title: None\n- catalog_url: None\n- path_context: (Node)<-NEXT_CHUNK-(Node)<-NEXT_CHUNK-(Node)<-NEXT_CHUNK-(Node)<-NEXT_CHUNK-(Node)<-HAS_CHUNK-(Node)<-HAS_WEBPAGE-(Node)\n2. Content =====================================================\n* Bedek je neus en mond bij hoesten of niezen met een papieren zakdoek. Gooi de zakdoek onmiddellijk weg in een vuilnisemmer en was je handen.\n=========================  Document 54  =========================\n1. Metadata ====================================================\n- chunk_size: 500\n- embedding_model: hkunlp/instructor-xl\n- chunk_order: 968\n- chunk_overlap: 60\n- chunk_id: 968\n- webpage_scrape_dt: None\n- webpage_url: None\n- webpage_title: None\n- catalog_url: None\n- path_context: (Node)<-NEXT_CHUNK-(Node)<-NEXT_CHUNK-(Node)<-NEXT_CHUNK-(Node)<-NEXT_CHUNK-(Node)<-NEXT_CHUNK-(Node)<-HAS_CHUNK-(Node)<-HAS_WEBPAGE-(Node)\n2. Content =====================================================\n* Bedek je neus en mond bij hoesten of niezen met een papieren zakdoek. Gooi de zakdoek onmiddellijk weg in een vuilnisemmer en was je handen.\n=========================  Document 55  =========================\n1. Metadata ====================================================\n- chunk_size: 500\n- embedding_model: hkunlp/instructor-xl\n- chunk_order: 968\n- chunk_overlap: 60\n- chunk_id: 968\n- webpage_scrape_dt: None\n- webpage_url: None\n- webpage_title: None\n- catalog_url: None\n- path_context: (Node)<-NEXT_CHUNK-(Node)<-NEXT_CHUNK-(Node)<-NEXT_CHUNK-(Node)<-NEXT_CHUNK-(Node)<-NEXT_CHUNK-(Node)<-NEXT_CHUNK-(Node)<-HAS_CHUNK-(Node)<-HAS_WEBPAGE-(Node)\n2. Content =====================================================\n* Bedek je neus en mond bij hoesten of niezen met een papieren zakdoek. Gooi de zakdoek onmiddellijk weg in een vuilnisemmer en was je handen.\n=========================  Document 56  =========================\n1. Metadata ====================================================\n- chunk_size: 500\n- embedding_model: hkunlp/instructor-xl\n- chunk_order: 968\n- chunk_overlap: 60\n- chunk_id: 968\n- webpage_scrape_dt: None\n- webpage_url: None\n- webpage_title: None\n- catalog_url: None\n- path_context: (Node)<-NEXT_CHUNK-(Node)<-NEXT_CHUNK-(Node)<-NEXT_CHUNK-(Node)<-NEXT_CHUNK-(Node)<-NEXT_CHUNK-(Node)<-NEXT_CHUNK-(Node)<-NEXT_CHUNK-(Node)<-HAS_CHUNK-(Node)<-HAS_WEBPAGE-(Node)\n2. Content =====================================================\n* Bedek je neus en mond bij hoesten of niezen met een papieren zakdoek. Gooi de zakdoek onmiddellijk weg in een vuilnisemmer en was je handen.\n=========================  Document 57  =========================\n1. Metadata ====================================================\n- chunk_size: 500\n- embedding_model: hkunlp/instructor-xl\n- chunk_order: 968\n- chunk_overlap: 60\n- chunk_id: 968\n- webpage_scrape_dt: None\n- webpage_url: None\n- webpage_title: None\n- catalog_url: None\n- path_context: (Node)<-NEXT_CHUNK-(Node)<-NEXT_CHUNK-(Node)<-NEXT_CHUNK-(Node)<-NEXT_CHUNK-(Node)<-NEXT_CHUNK-(Node)<-NEXT_CHUNK-(Node)<-NEXT_CHUNK-(Node)<-NEXT_CHUNK-(Node)<-HAS_CHUNK-(Node)<-HAS_WEBPAGE-(Node)\n2. Content =====================================================\n* Bedek je neus en mond bij hoesten of niezen met een papieren zakdoek. Gooi de zakdoek onmiddellijk weg in een vuilnisemmer en was je handen.\n"
        }
      ],
      "execution_count": 12,
      "metadata": {
        "jupyter": {
          "source_hidden": false,
          "outputs_hidden": false
        },
        "nteract": {
          "transient": {
            "deleting": false
          }
        },
        "gather": {
          "logged": 1700079858751
        }
      }
    },
    {
      "cell_type": "code",
      "source": [
        "import pandas as pd\n",
        "from typing import List \n",
        "from neo4j import GraphDatabase, RoutingControl\n",
        "search_query = \"dokter\"\n",
        "\n",
        "driver = GraphDatabase.driver(neo4j_url, auth=(neo4j_user, neo4j_password))\n",
        "with driver.session(database=\"neo4j\") as session:\n",
        "    graph = session.run(\n",
        "        f\"\"\"\n",
        "            CALL db.index.fulltext.queryNodes(\"fts_Chunk_text\", '{search_query}') \n",
        "            YIELD node, score\n",
        "            WITH node, score\n",
        "            ORDER BY score DESCENDING\n",
        "            LIMIT 10\n",
        "            OPTIONAL MATCH rel=(node)<-[r*]-(:Catalog)\n",
        "            RETURN rel\n",
        "        \"\"\"\n",
        "    ).graph()\n",
        "\n",
        "graph"
      ],
      "outputs": [
        {
          "output_type": "execute_result",
          "execution_count": 21,
          "data": {
            "text/plain": "<neo4j.graph.Graph at 0x7fdc4ed08220>"
          },
          "metadata": {}
        }
      ],
      "execution_count": 21,
      "metadata": {
        "jupyter": {
          "source_hidden": false,
          "outputs_hidden": false
        },
        "nteract": {
          "transient": {
            "deleting": false
          }
        },
        "gather": {
          "logged": 1699988750066
        }
      }
    },
    {
      "cell_type": "code",
      "source": [],
      "outputs": [],
      "execution_count": null,
      "metadata": {
        "jupyter": {
          "source_hidden": false,
          "outputs_hidden": false
        },
        "nteract": {
          "transient": {
            "deleting": false
          }
        }
      }
    }
  ],
  "metadata": {
    "kernelspec": {
      "name": "python38-azureml",
      "language": "python",
      "display_name": "Python 3.8 - AzureML"
    },
    "language_info": {
      "name": "python",
      "version": "3.8.5",
      "mimetype": "text/x-python",
      "codemirror_mode": {
        "name": "ipython",
        "version": 3
      },
      "pygments_lexer": "ipython3",
      "nbconvert_exporter": "python",
      "file_extension": ".py"
    },
    "microsoft": {
      "ms_spell_check": {
        "ms_spell_check_language": "en"
      },
      "host": {
        "AzureML": {
          "notebookHasBeenCompleted": true
        }
      }
    },
    "kernel_info": {
      "name": "python38-azureml"
    },
    "nteract": {
      "version": "nteract-front-end@1.0.0"
    }
  },
  "nbformat": 4,
  "nbformat_minor": 2
}