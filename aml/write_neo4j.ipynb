{
  "cells": [
    {
      "cell_type": "markdown",
      "source": [
        "# Writing To Vector DB\n",
        "\n",
        "Write the content (scraped, chunked, embedded) to Neo4j. "
      ],
      "metadata": {
        "nteract": {
          "transient": {
            "deleting": false
          }
        }
      }
    },
    {
      "cell_type": "code",
      "source": [
        "!pip install azure-identity azure-keyvault-secrets"
      ],
      "outputs": [
        {
          "output_type": "stream",
          "name": "stdout",
          "text": "Requirement already satisfied: azure-identity in /anaconda/envs/azureml_py38/lib/python3.8/site-packages (1.13.0)\nRequirement already satisfied: azure-keyvault-secrets in /anaconda/envs/azureml_py38/lib/python3.8/site-packages (4.7.0)\nRequirement already satisfied: msal<2.0.0,>=1.20.0 in /anaconda/envs/azureml_py38/lib/python3.8/site-packages (from azure-identity) (1.22.0)\nRequirement already satisfied: msal-extensions<2.0.0,>=0.3.0 in /anaconda/envs/azureml_py38/lib/python3.8/site-packages (from azure-identity) (1.0.0)\nRequirement already satisfied: six>=1.12.0 in /anaconda/envs/azureml_py38/lib/python3.8/site-packages (from azure-identity) (1.16.0)\nRequirement already satisfied: cryptography>=2.5 in /anaconda/envs/azureml_py38/lib/python3.8/site-packages (from azure-identity) (38.0.4)\nRequirement already satisfied: azure-core<2.0.0,>=1.11.0 in /anaconda/envs/azureml_py38/lib/python3.8/site-packages (from azure-identity) (1.26.4)\nRequirement already satisfied: azure-common~=1.1 in /anaconda/envs/azureml_py38/lib/python3.8/site-packages (from azure-keyvault-secrets) (1.1.28)\nRequirement already satisfied: typing-extensions>=4.0.1 in /anaconda/envs/azureml_py38/lib/python3.8/site-packages (from azure-keyvault-secrets) (4.6.0)\nRequirement already satisfied: isodate>=0.6.1 in /anaconda/envs/azureml_py38/lib/python3.8/site-packages (from azure-keyvault-secrets) (0.6.1)\nRequirement already satisfied: PyJWT[crypto]<3,>=1.0.0 in /anaconda/envs/azureml_py38/lib/python3.8/site-packages (from msal<2.0.0,>=1.20.0->azure-identity) (2.4.0)\nRequirement already satisfied: requests<3,>=2.0.0 in /anaconda/envs/azureml_py38/lib/python3.8/site-packages (from msal<2.0.0,>=1.20.0->azure-identity) (2.31.0)\nRequirement already satisfied: portalocker<3,>=1.0; python_version >= \"3.5\" and platform_system != \"Windows\" in /anaconda/envs/azureml_py38/lib/python3.8/site-packages (from msal-extensions<2.0.0,>=0.3.0->azure-identity) (2.7.0)\nRequirement already satisfied: cffi>=1.12 in /anaconda/envs/azureml_py38/lib/python3.8/site-packages (from cryptography>=2.5->azure-identity) (1.15.1)\nRequirement already satisfied: idna<4,>=2.5 in /anaconda/envs/azureml_py38/lib/python3.8/site-packages (from requests<3,>=2.0.0->msal<2.0.0,>=1.20.0->azure-identity) (3.4)\nRequirement already satisfied: urllib3<3,>=1.21.1 in /anaconda/envs/azureml_py38/lib/python3.8/site-packages (from requests<3,>=2.0.0->msal<2.0.0,>=1.20.0->azure-identity) (1.26.16)\nRequirement already satisfied: certifi>=2017.4.17 in /anaconda/envs/azureml_py38/lib/python3.8/site-packages (from requests<3,>=2.0.0->msal<2.0.0,>=1.20.0->azure-identity) (2022.9.24)\nRequirement already satisfied: charset-normalizer<4,>=2 in /anaconda/envs/azureml_py38/lib/python3.8/site-packages (from requests<3,>=2.0.0->msal<2.0.0,>=1.20.0->azure-identity) (3.1.0)\nRequirement already satisfied: pycparser in /anaconda/envs/azureml_py38/lib/python3.8/site-packages (from cffi>=1.12->cryptography>=2.5->azure-identity) (2.21)\n"
        }
      ],
      "execution_count": 1,
      "metadata": {
        "jupyter": {
          "source_hidden": false,
          "outputs_hidden": false
        },
        "nteract": {
          "transient": {
            "deleting": false
          }
        }
      }
    },
    {
      "cell_type": "code",
      "source": [
        "!pip install neomodel"
      ],
      "outputs": [
        {
          "output_type": "stream",
          "name": "stdout",
          "text": "Requirement already satisfied: neomodel in /anaconda/envs/azureml_py38/lib/python3.8/site-packages (5.2.0)\r\nRequirement already satisfied: neobolt==1.7.17 in /anaconda/envs/azureml_py38/lib/python3.8/site-packages (from neomodel) (1.7.17)\r\nRequirement already satisfied: pytz>=2021.1 in /anaconda/envs/azureml_py38/lib/python3.8/site-packages (from neomodel) (2022.5)\r\nRequirement already satisfied: six==1.16.0 in /anaconda/envs/azureml_py38/lib/python3.8/site-packages (from neomodel) (1.16.0)\r\nRequirement already satisfied: neo4j==5.12.0 in /anaconda/envs/azureml_py38/lib/python3.8/site-packages (from neomodel) (5.12.0)\r\n"
        }
      ],
      "execution_count": 2,
      "metadata": {
        "jupyter": {
          "source_hidden": false,
          "outputs_hidden": false
        },
        "nteract": {
          "transient": {
            "deleting": false
          }
        }
      }
    },
    {
      "cell_type": "markdown",
      "source": [
        "### Setup Keyvault"
      ],
      "metadata": {
        "nteract": {
          "transient": {
            "deleting": false
          }
        }
      }
    },
    {
      "cell_type": "code",
      "source": [
        "from azure.identity import DefaultAzureCredential\n",
        "from azure.keyvault.secrets import SecretClient\n",
        "\n",
        "key_vault_name = \"kv-bsauwmno\"\n",
        "kv_uri = f\"https://{key_vault_name}.vault.azure.net/\"\n",
        "\n",
        "credential = DefaultAzureCredential()\n",
        "client = SecretClient(vault_url=kv_uri, credential=credential)\n",
        "\n",
        "# Now you can use neo4j_url, neo4j_port, and neo4j_password in your application\n",
        "neo4j_url = client.get_secret(\"NEO4JURL\").value\n",
        "neo4j_user = client.get_secret(\"NEO4JUSER\").value\n",
        "neo4j_password = client.get_secret(\"NEO4JPASSWORD\").value"
      ],
      "outputs": [],
      "execution_count": 3,
      "metadata": {
        "jupyter": {
          "source_hidden": false,
          "outputs_hidden": false
        },
        "nteract": {
          "transient": {
            "deleting": false
          }
        },
        "gather": {
          "logged": 1700022953813
        }
      }
    },
    {
      "cell_type": "code",
      "source": [
        "import pandas as pd"
      ],
      "outputs": [],
      "execution_count": 4,
      "metadata": {
        "jupyter": {
          "source_hidden": false,
          "outputs_hidden": false
        },
        "nteract": {
          "transient": {
            "deleting": false
          }
        },
        "gather": {
          "logged": 1700022956181
        }
      }
    },
    {
      "cell_type": "markdown",
      "source": [
        "# Define Neo4j Datamodel\n",
        "\n",
        "Using neomodel"
      ],
      "metadata": {
        "nteract": {
          "transient": {
            "deleting": false
          }
        }
      }
    },
    {
      "cell_type": "code",
      "source": [
        "from neomodel.core import NodeClassAlreadyDefined\n",
        "from neomodel import (\n",
        "    config, \n",
        "    StructuredNode, \n",
        "    StringProperty, \n",
        "    IntegerProperty,\n",
        "    UniqueIdProperty, \n",
        "    RelationshipTo, \n",
        "    ArrayProperty\n",
        ")\n",
        "from neomodel.contrib import SemiStructuredNode\n",
        "\n",
        "try: \n",
        "    class Chunk(StructuredNode):\n",
        "        chunk_id = IntegerProperty()\n",
        "        embedding_model = StringProperty() \n",
        "        embedding = ArrayProperty()\n",
        "        text = StringProperty()\n",
        "        chunk_order = IntegerProperty()\n",
        "        chunk_size = IntegerProperty()\n",
        "        chunk_overlap = IntegerProperty()\n",
        "        # String, Chunk doesn't exist yet. \n",
        "        next_chunk = RelationshipTo('Chunk', 'NEXT_CHUNK')\n",
        "\n",
        "    class WebPage(StructuredNode):\n",
        "        webpage_id = IntegerProperty(index=True, default=0)\n",
        "        url = StringProperty(unique_index=True, required=True)\n",
        "        content = StringProperty(unique_index=False, required=False)\n",
        "        title = StringProperty(unique_index=False, required=False)\n",
        "        scrape_dt: str = StringProperty(unique_index=False, required=False)\n",
        "        chunk = RelationshipTo(Chunk, 'HAS_CHUNK')\n",
        "\n",
        "    class Catalog(StructuredNode):\n",
        "        catalog_id = IntegerProperty(index=True, default=0)\n",
        "        name = StringProperty(unique_index=True, required=True)\n",
        "        url = StringProperty(unique_index=False, required=False)\n",
        "        webpage = RelationshipTo(WebPage, 'HAS_WEBPAGE')\n",
        "except NodeClassAlreadyDefined as e: \n",
        "    print(\"Classes already defined.\")"
      ],
      "outputs": [
        {
          "output_type": "stream",
          "name": "stdout",
          "text": "Classes already defined.\n"
        }
      ],
      "execution_count": 42,
      "metadata": {
        "jupyter": {
          "source_hidden": false,
          "outputs_hidden": false
        },
        "nteract": {
          "transient": {
            "deleting": false
          }
        },
        "gather": {
          "logged": 1700025454090
        }
      }
    },
    {
      "cell_type": "code",
      "source": [
        "from neo4j import GraphDatabase\n",
        "from neomodel import db\n",
        "\n",
        "config.DATABASE_NAME = \"neo4j\"\n",
        "config.DATABASE_URL = (\n",
        "    f\"bolt://{neo4j_user}:{neo4j_password}@\" + \n",
        "    neo4j_url.replace('bolt://', '').replace('/:7687', ':7687/neo4j')\n",
        ")\n",
        "\n",
        "# Using URL - auto-managed\n",
        "db.set_connection(url=config.DATABASE_URL)\n",
        "\n",
        "\n",
        "# Using Driver\n",
        "# neo_driver = GraphDatabase().driver(\n",
        "#     neo4j_url, \n",
        "#     auth=(neo4j_user, neo4j_password)\n",
        "# )\n",
        "# config.DRIVER = neo_driver\n",
        "# db.set_connection(driver=my_driver)\n"
      ],
      "outputs": [],
      "execution_count": 6,
      "metadata": {
        "jupyter": {
          "source_hidden": false,
          "outputs_hidden": false
        },
        "nteract": {
          "transient": {
            "deleting": false
          }
        },
        "gather": {
          "logged": 1700023038989
        }
      }
    },
    {
      "cell_type": "markdown",
      "source": [
        "# Save Catalog Nodes\n",
        "\n",
        "Single hard-coded node for now. "
      ],
      "metadata": {
        "nteract": {
          "transient": {
            "deleting": false
          }
        }
      }
    },
    {
      "cell_type": "code",
      "source": [
        "# Read from pikle file\n",
        "catalog_df = pd.read_pickle('./data/catalog_raw.pkl')\n",
        "\n",
        "catalog_df.head()"
      ],
      "outputs": [
        {
          "output_type": "execute_result",
          "execution_count": 9,
          "data": {
            "text/plain": "   id                                 title  \\\n0   0  24 uur observatie van de pasgeborene   \n1   1               24 uur ph-metrie meting   \n2   2  24 uur stoelgang sparen: richtlijnen   \n3   3                   24 uur urine sparen   \n4   4               24-uurs bloeddrukmeting   \n\n                                                 url  \n0  https://www.azstlucas.be/onderzoek-en-behandel...  \n1  https://www.azstlucas.be/onderzoek-en-behandel...  \n2  https://www.azstlucas.be/onderzoek-en-behandel...  \n3  https://www.azstlucas.be/onderzoek-en-behandel...  \n4  https://www.azstlucas.be/onderzoek-en-behandel...  ",
            "text/html": "<div>\n<style scoped>\n    .dataframe tbody tr th:only-of-type {\n        vertical-align: middle;\n    }\n\n    .dataframe tbody tr th {\n        vertical-align: top;\n    }\n\n    .dataframe thead th {\n        text-align: right;\n    }\n</style>\n<table border=\"1\" class=\"dataframe\">\n  <thead>\n    <tr style=\"text-align: right;\">\n      <th></th>\n      <th>id</th>\n      <th>title</th>\n      <th>url</th>\n    </tr>\n  </thead>\n  <tbody>\n    <tr>\n      <th>0</th>\n      <td>0</td>\n      <td>24 uur observatie van de pasgeborene</td>\n      <td>https://www.azstlucas.be/onderzoek-en-behandel...</td>\n    </tr>\n    <tr>\n      <th>1</th>\n      <td>1</td>\n      <td>24 uur ph-metrie meting</td>\n      <td>https://www.azstlucas.be/onderzoek-en-behandel...</td>\n    </tr>\n    <tr>\n      <th>2</th>\n      <td>2</td>\n      <td>24 uur stoelgang sparen: richtlijnen</td>\n      <td>https://www.azstlucas.be/onderzoek-en-behandel...</td>\n    </tr>\n    <tr>\n      <th>3</th>\n      <td>3</td>\n      <td>24 uur urine sparen</td>\n      <td>https://www.azstlucas.be/onderzoek-en-behandel...</td>\n    </tr>\n    <tr>\n      <th>4</th>\n      <td>4</td>\n      <td>24-uurs bloeddrukmeting</td>\n      <td>https://www.azstlucas.be/onderzoek-en-behandel...</td>\n    </tr>\n  </tbody>\n</table>\n</div>"
          },
          "metadata": {}
        }
      ],
      "execution_count": 9,
      "metadata": {
        "jupyter": {
          "source_hidden": false,
          "outputs_hidden": false
        },
        "nteract": {
          "transient": {
            "deleting": false
          }
        },
        "gather": {
          "logged": 1699907781812
        }
      }
    },
    {
      "cell_type": "code",
      "source": [
        "# First Catalog\n",
        "azstlucas_catalog = (\n",
        "    Catalog(\n",
        "        catalog_id=0, \n",
        "        name='azstlucas',\n",
        "        url='https://www.azstlucas.be/onderzoek-en-behandelingen'\n",
        "    )\n",
        ")"
      ],
      "outputs": [],
      "execution_count": 11,
      "metadata": {
        "jupyter": {
          "source_hidden": false,
          "outputs_hidden": false
        },
        "nteract": {
          "transient": {
            "deleting": false
          }
        },
        "gather": {
          "logged": 1699907803505
        }
      }
    },
    {
      "cell_type": "code",
      "source": [
        "# Save catalog \n",
        "azstlucas_catalog.save()"
      ],
      "outputs": [
        {
          "output_type": "execute_result",
          "execution_count": 12,
          "data": {
            "text/plain": "<Catalog: {'catalog_id': 0, 'name': 'azstlucas', 'url': 'https://www.azstlucas.be/onderzoek-en-behandelingen', 'element_id_property': '4:c86bbba4-35aa-4716-8fd0-27df8c7da669:0'}>"
          },
          "metadata": {}
        }
      ],
      "execution_count": 12,
      "metadata": {
        "jupyter": {
          "source_hidden": false,
          "outputs_hidden": false
        },
        "nteract": {
          "transient": {
            "deleting": false
          }
        },
        "gather": {
          "logged": 1699907806059
        }
      }
    },
    {
      "cell_type": "markdown",
      "source": [
        "# Save WebPage Nodes"
      ],
      "metadata": {
        "nteract": {
          "transient": {
            "deleting": false
          }
        }
      }
    },
    {
      "cell_type": "code",
      "source": [
        "# Read from pikle file\n",
        "webpages_df = pd.read_pickle('./data/webpages_raw.pkl')\n",
        "\n",
        "webpages_df"
      ],
      "outputs": [
        {
          "output_type": "execute_result",
          "execution_count": 13,
          "data": {
            "text/plain": "                                               content  \\\n0    \\n## Waarom willen de kinderartsen dat je baby...   \n1    \\nWe weten dat reflux en opboeren voor een aan...   \n2    \\n## Algemene richtlijnen\\n\\n\\nIn opdracht van...   \n3    \\n## Algemene richtlijnen\\n\\n\\nIn opdracht van...   \n4    \\nBij een 24-uurs bloeddrukmeting wordt de blo...   \n..                                                 ...   \n363  \\n## Zorgen na een ingreep in de mond\\n\\n\\nDe ...   \n364  * Stop bloedverdunners in samenspraak met je h...   \n365  \\nMet deze test meten we de afstand die je kun...   \n366  \\nZuurstof (O2) is een kleurloos en reukloos g...   \n367  \\nOto-akoestische emissies (OAE’s) zijn geluid...   \n\n                             banner_title  \\\n0    24 uur observatie van de pasgeborene   \n1                 24 uur ph-metrie meting   \n2    24 uur stoelgang sparen: richtlijnen   \n3                     24 uur urine sparen   \n4                 24-uurs bloeddrukmeting   \n..                                    ...   \n363    Wortelpuntbehandeling (apicotomie)   \n364                         Zenuwblokkade   \n365                Zes minuten wandeltest   \n366                      Zuurstoftherapie   \n367             ﻿Oto-akoestische emissies   \n\n                                      banner_divisions  \\\n0    [{'division_url': 'https://www.azstlucas.be/sp...   \n1    [{'division_url': 'https://www.azstlucas.be/sp...   \n2    [{'division_url': 'https://www.azstlucas.be/sp...   \n3    [{'division_url': 'https://www.azstlucas.be/sp...   \n4    [{'division_url': 'https://www.azstlucas.be/sp...   \n..                                                 ...   \n363  [{'division_url': 'https://www.azstlucas.be/sp...   \n364  [{'division_url': 'https://www.azstlucas.be/sp...   \n365  [{'division_url': 'https://www.azstlucas.be/sp...   \n366  [{'division_url': 'https://www.azstlucas.be/sp...   \n367  [{'division_url': 'https://www.azstlucas.be/sp...   \n\n                                                 intro  \\\n0    Elke pasgeborene wordt - bij overnachting - bi...   \n1    Een ph-metrie meting met impedantiemeting is e...   \n2                                                        \n3                                                        \n4    Als je last hebt van hoge bloeddruk of hyperte...   \n..                                                 ...   \n363  Soms bevindt zich een ontsteking onder de wort...   \n364                                                      \n365  ﻿Deze test wordt gebruikt om de inspanningscap...   \n366                                                      \n367                                                      \n\n                                                   toc  \\\n0    [{'link_url': '#waarom-willen-we-dat-je-baby-m...   \n1    [{'link_url': '#hoe-gebeurt-de-meting', 'link_...   \n2    [{'link_url': '#algemene-richtlijnen', 'link_t...   \n3    [{'link_url': '#algemene-richtlijnen', 'link_t...   \n4                                                   []   \n..                                                 ...   \n363                                                 []   \n364  [{'link_url': '#wat-is-een-zenuwblokkade', 'li...   \n365                                                 []   \n366  [{'link_url': '#conventie', 'link_title': 'Con...   \n367                                                 []   \n\n                                                   url          scrape_date  \n0    https://www.azstlucas.be/onderzoek-en-behandel...  12/11/2023 15:26:50  \n1    https://www.azstlucas.be/onderzoek-en-behandel...  12/11/2023 15:26:50  \n2    https://www.azstlucas.be/onderzoek-en-behandel...  12/11/2023 15:26:51  \n3    https://www.azstlucas.be/onderzoek-en-behandel...  12/11/2023 15:26:52  \n4    https://www.azstlucas.be/onderzoek-en-behandel...  12/11/2023 15:26:52  \n..                                                 ...                  ...  \n363  https://www.azstlucas.be/onderzoek-en-behandel...  12/11/2023 15:31:25  \n364  https://www.azstlucas.be/onderzoek-en-behandel...  12/11/2023 15:31:26  \n365  https://www.azstlucas.be/onderzoek-en-behandel...  12/11/2023 15:31:27  \n366  https://www.azstlucas.be/onderzoek-en-behandel...  12/11/2023 15:31:27  \n367  https://www.azstlucas.be/onderzoek-en-behandel...  12/11/2023 15:31:28  \n\n[368 rows x 7 columns]",
            "text/html": "<div>\n<style scoped>\n    .dataframe tbody tr th:only-of-type {\n        vertical-align: middle;\n    }\n\n    .dataframe tbody tr th {\n        vertical-align: top;\n    }\n\n    .dataframe thead th {\n        text-align: right;\n    }\n</style>\n<table border=\"1\" class=\"dataframe\">\n  <thead>\n    <tr style=\"text-align: right;\">\n      <th></th>\n      <th>content</th>\n      <th>banner_title</th>\n      <th>banner_divisions</th>\n      <th>intro</th>\n      <th>toc</th>\n      <th>url</th>\n      <th>scrape_date</th>\n    </tr>\n  </thead>\n  <tbody>\n    <tr>\n      <th>0</th>\n      <td>\\n## Waarom willen de kinderartsen dat je baby...</td>\n      <td>24 uur observatie van de pasgeborene</td>\n      <td>[{'division_url': 'https://www.azstlucas.be/sp...</td>\n      <td>Elke pasgeborene wordt - bij overnachting - bi...</td>\n      <td>[{'link_url': '#waarom-willen-we-dat-je-baby-m...</td>\n      <td>https://www.azstlucas.be/onderzoek-en-behandel...</td>\n      <td>12/11/2023 15:26:50</td>\n    </tr>\n    <tr>\n      <th>1</th>\n      <td>\\nWe weten dat reflux en opboeren voor een aan...</td>\n      <td>24 uur ph-metrie meting</td>\n      <td>[{'division_url': 'https://www.azstlucas.be/sp...</td>\n      <td>Een ph-metrie meting met impedantiemeting is e...</td>\n      <td>[{'link_url': '#hoe-gebeurt-de-meting', 'link_...</td>\n      <td>https://www.azstlucas.be/onderzoek-en-behandel...</td>\n      <td>12/11/2023 15:26:50</td>\n    </tr>\n    <tr>\n      <th>2</th>\n      <td>\\n## Algemene richtlijnen\\n\\n\\nIn opdracht van...</td>\n      <td>24 uur stoelgang sparen: richtlijnen</td>\n      <td>[{'division_url': 'https://www.azstlucas.be/sp...</td>\n      <td></td>\n      <td>[{'link_url': '#algemene-richtlijnen', 'link_t...</td>\n      <td>https://www.azstlucas.be/onderzoek-en-behandel...</td>\n      <td>12/11/2023 15:26:51</td>\n    </tr>\n    <tr>\n      <th>3</th>\n      <td>\\n## Algemene richtlijnen\\n\\n\\nIn opdracht van...</td>\n      <td>24 uur urine sparen</td>\n      <td>[{'division_url': 'https://www.azstlucas.be/sp...</td>\n      <td></td>\n      <td>[{'link_url': '#algemene-richtlijnen', 'link_t...</td>\n      <td>https://www.azstlucas.be/onderzoek-en-behandel...</td>\n      <td>12/11/2023 15:26:52</td>\n    </tr>\n    <tr>\n      <th>4</th>\n      <td>\\nBij een 24-uurs bloeddrukmeting wordt de blo...</td>\n      <td>24-uurs bloeddrukmeting</td>\n      <td>[{'division_url': 'https://www.azstlucas.be/sp...</td>\n      <td>Als je last hebt van hoge bloeddruk of hyperte...</td>\n      <td>[]</td>\n      <td>https://www.azstlucas.be/onderzoek-en-behandel...</td>\n      <td>12/11/2023 15:26:52</td>\n    </tr>\n    <tr>\n      <th>...</th>\n      <td>...</td>\n      <td>...</td>\n      <td>...</td>\n      <td>...</td>\n      <td>...</td>\n      <td>...</td>\n      <td>...</td>\n    </tr>\n    <tr>\n      <th>363</th>\n      <td>\\n## Zorgen na een ingreep in de mond\\n\\n\\nDe ...</td>\n      <td>Wortelpuntbehandeling (apicotomie)</td>\n      <td>[{'division_url': 'https://www.azstlucas.be/sp...</td>\n      <td>Soms bevindt zich een ontsteking onder de wort...</td>\n      <td>[]</td>\n      <td>https://www.azstlucas.be/onderzoek-en-behandel...</td>\n      <td>12/11/2023 15:31:25</td>\n    </tr>\n    <tr>\n      <th>364</th>\n      <td>* Stop bloedverdunners in samenspraak met je h...</td>\n      <td>Zenuwblokkade</td>\n      <td>[{'division_url': 'https://www.azstlucas.be/sp...</td>\n      <td></td>\n      <td>[{'link_url': '#wat-is-een-zenuwblokkade', 'li...</td>\n      <td>https://www.azstlucas.be/onderzoek-en-behandel...</td>\n      <td>12/11/2023 15:31:26</td>\n    </tr>\n    <tr>\n      <th>365</th>\n      <td>\\nMet deze test meten we de afstand die je kun...</td>\n      <td>Zes minuten wandeltest</td>\n      <td>[{'division_url': 'https://www.azstlucas.be/sp...</td>\n      <td>﻿Deze test wordt gebruikt om de inspanningscap...</td>\n      <td>[]</td>\n      <td>https://www.azstlucas.be/onderzoek-en-behandel...</td>\n      <td>12/11/2023 15:31:27</td>\n    </tr>\n    <tr>\n      <th>366</th>\n      <td>\\nZuurstof (O2) is een kleurloos en reukloos g...</td>\n      <td>Zuurstoftherapie</td>\n      <td>[{'division_url': 'https://www.azstlucas.be/sp...</td>\n      <td></td>\n      <td>[{'link_url': '#conventie', 'link_title': 'Con...</td>\n      <td>https://www.azstlucas.be/onderzoek-en-behandel...</td>\n      <td>12/11/2023 15:31:27</td>\n    </tr>\n    <tr>\n      <th>367</th>\n      <td>\\nOto-akoestische emissies (OAE’s) zijn geluid...</td>\n      <td>﻿Oto-akoestische emissies</td>\n      <td>[{'division_url': 'https://www.azstlucas.be/sp...</td>\n      <td></td>\n      <td>[]</td>\n      <td>https://www.azstlucas.be/onderzoek-en-behandel...</td>\n      <td>12/11/2023 15:31:28</td>\n    </tr>\n  </tbody>\n</table>\n<p>368 rows × 7 columns</p>\n</div>"
          },
          "metadata": {}
        }
      ],
      "execution_count": 13,
      "metadata": {
        "jupyter": {
          "source_hidden": false,
          "outputs_hidden": false
        },
        "nteract": {
          "transient": {
            "deleting": false
          }
        },
        "gather": {
          "logged": 1699907811463
        }
      }
    },
    {
      "cell_type": "code",
      "source": [
        "for i, obj in webpages_df.iterrows():\n",
        "    page_content: str = obj['content']\n",
        "    page_title: str = obj['banner_title']\n",
        "    page_url: str = obj['url']\n",
        "    page_scrape_dt: str = obj['scrape_date']\n",
        "    # TODO: division\n",
        "    # TODO: intro \n",
        "    # TODO: toc\n",
        "\n",
        "    p = WebPage(\n",
        "        webpage_id = i,\n",
        "        url = page_url,\n",
        "        content = page_content,\n",
        "        title = page_title,\n",
        "        scrape_dt = page_scrape_dt\n",
        "    )\n",
        "    p.save()"
      ],
      "outputs": [],
      "execution_count": 14,
      "metadata": {
        "jupyter": {
          "source_hidden": false,
          "outputs_hidden": false
        },
        "nteract": {
          "transient": {
            "deleting": false
          }
        },
        "gather": {
          "logged": 1699907824768
        }
      }
    },
    {
      "cell_type": "markdown",
      "source": [
        "# Catalog to WebPage relationships"
      ],
      "metadata": {
        "nteract": {
          "transient": {
            "deleting": false
          }
        }
      }
    },
    {
      "cell_type": "code",
      "source": [
        "catalog = Catalog.nodes.get(catalog_id=0)\n",
        "\n",
        "# Add connections \n",
        "for i, obj in webpages_df.iterrows():\n",
        "    target = WebPage.nodes.get(webpage_id=i)\n",
        "    catalog.webpage.connect(target)"
      ],
      "outputs": [],
      "execution_count": 15,
      "metadata": {
        "jupyter": {
          "source_hidden": false,
          "outputs_hidden": false
        },
        "nteract": {
          "transient": {
            "deleting": false
          }
        },
        "gather": {
          "logged": 1699907835425
        }
      }
    },
    {
      "cell_type": "markdown",
      "source": [
        "# Chunk Nodes"
      ],
      "metadata": {
        "nteract": {
          "transient": {
            "deleting": false
          }
        }
      }
    },
    {
      "cell_type": "code",
      "source": [
        "# Read from pikle file\n",
        "chunks_df = pd.read_pickle('./data/chunks_processed_full.pkl')\n",
        "\n",
        "# These are the relationships\n",
        "chunks_df.head()"
      ],
      "outputs": [
        {
          "output_type": "execute_result",
          "execution_count": 7,
          "data": {
            "text/plain": "                                             content  \\\n0  \\n## Waarom willen de kinderartsen dat je baby...   \n0  \\n## Waarom willen de kinderartsen dat je baby...   \n0  \\n## Waarom willen de kinderartsen dat je baby...   \n0  \\n## Waarom willen de kinderartsen dat je baby...   \n0  \\n## Waarom willen de kinderartsen dat je baby...   \n\n                           banner_title  \\\n0  24 uur observatie van de pasgeborene   \n0  24 uur observatie van de pasgeborene   \n0  24 uur observatie van de pasgeborene   \n0  24 uur observatie van de pasgeborene   \n0  24 uur observatie van de pasgeborene   \n\n                                    banner_divisions  \\\n0  [{'division_url': 'https://www.azstlucas.be/sp...   \n0  [{'division_url': 'https://www.azstlucas.be/sp...   \n0  [{'division_url': 'https://www.azstlucas.be/sp...   \n0  [{'division_url': 'https://www.azstlucas.be/sp...   \n0  [{'division_url': 'https://www.azstlucas.be/sp...   \n\n                                               intro  \\\n0  Elke pasgeborene wordt - bij overnachting - bi...   \n0  Elke pasgeborene wordt - bij overnachting - bi...   \n0  Elke pasgeborene wordt - bij overnachting - bi...   \n0  Elke pasgeborene wordt - bij overnachting - bi...   \n0  Elke pasgeborene wordt - bij overnachting - bi...   \n\n                                                 toc  \\\n0  [{'link_url': '#waarom-willen-we-dat-je-baby-m...   \n0  [{'link_url': '#waarom-willen-we-dat-je-baby-m...   \n0  [{'link_url': '#waarom-willen-we-dat-je-baby-m...   \n0  [{'link_url': '#waarom-willen-we-dat-je-baby-m...   \n0  [{'link_url': '#waarom-willen-we-dat-je-baby-m...   \n\n                                                 url          scrape_date  \\\n0  https://www.azstlucas.be/onderzoek-en-behandel...  12/11/2023 15:26:50   \n0  https://www.azstlucas.be/onderzoek-en-behandel...  12/11/2023 15:26:50   \n0  https://www.azstlucas.be/onderzoek-en-behandel...  12/11/2023 15:26:50   \n0  https://www.azstlucas.be/onderzoek-en-behandel...  12/11/2023 15:26:50   \n0  https://www.azstlucas.be/onderzoek-en-behandel...  12/11/2023 15:26:50   \n\n                                      chunk_s500_o60  chunk_order  \\\n0  ## Waarom willen de kinderartsen dat je baby m...            0   \n0  ## Mogelijke afwijkingen\\n\\n\\n### Aangeboren h...            1   \n0  ### Infecties\\n\\n\\nVerschillende infecties wor...            2   \n0  ### Aangeboren darmafwijkingen\\n\\n\\nHet is pas...            3   \n0  De kinderarts onderzoekt je baby in normale om...            4   \n\n                            chunk_s500_o60_embedding  \n0  [0.04676021263003349, 0.009244767017662525, -0...  \n0  [0.0652947872877121, 0.012688170187175274, -0....  \n0  [0.09477945417165756, 0.012673679739236832, -0...  \n0  [0.04747367277741432, 0.023175092414021492, -0...  \n0  [0.03207284212112427, 0.011688114143908024, -0...  ",
            "text/html": "<div>\n<style scoped>\n    .dataframe tbody tr th:only-of-type {\n        vertical-align: middle;\n    }\n\n    .dataframe tbody tr th {\n        vertical-align: top;\n    }\n\n    .dataframe thead th {\n        text-align: right;\n    }\n</style>\n<table border=\"1\" class=\"dataframe\">\n  <thead>\n    <tr style=\"text-align: right;\">\n      <th></th>\n      <th>content</th>\n      <th>banner_title</th>\n      <th>banner_divisions</th>\n      <th>intro</th>\n      <th>toc</th>\n      <th>url</th>\n      <th>scrape_date</th>\n      <th>chunk_s500_o60</th>\n      <th>chunk_order</th>\n      <th>chunk_s500_o60_embedding</th>\n    </tr>\n  </thead>\n  <tbody>\n    <tr>\n      <th>0</th>\n      <td>\\n## Waarom willen de kinderartsen dat je baby...</td>\n      <td>24 uur observatie van de pasgeborene</td>\n      <td>[{'division_url': 'https://www.azstlucas.be/sp...</td>\n      <td>Elke pasgeborene wordt - bij overnachting - bi...</td>\n      <td>[{'link_url': '#waarom-willen-we-dat-je-baby-m...</td>\n      <td>https://www.azstlucas.be/onderzoek-en-behandel...</td>\n      <td>12/11/2023 15:26:50</td>\n      <td>## Waarom willen de kinderartsen dat je baby m...</td>\n      <td>0</td>\n      <td>[0.04676021263003349, 0.009244767017662525, -0...</td>\n    </tr>\n    <tr>\n      <th>0</th>\n      <td>\\n## Waarom willen de kinderartsen dat je baby...</td>\n      <td>24 uur observatie van de pasgeborene</td>\n      <td>[{'division_url': 'https://www.azstlucas.be/sp...</td>\n      <td>Elke pasgeborene wordt - bij overnachting - bi...</td>\n      <td>[{'link_url': '#waarom-willen-we-dat-je-baby-m...</td>\n      <td>https://www.azstlucas.be/onderzoek-en-behandel...</td>\n      <td>12/11/2023 15:26:50</td>\n      <td>## Mogelijke afwijkingen\\n\\n\\n### Aangeboren h...</td>\n      <td>1</td>\n      <td>[0.0652947872877121, 0.012688170187175274, -0....</td>\n    </tr>\n    <tr>\n      <th>0</th>\n      <td>\\n## Waarom willen de kinderartsen dat je baby...</td>\n      <td>24 uur observatie van de pasgeborene</td>\n      <td>[{'division_url': 'https://www.azstlucas.be/sp...</td>\n      <td>Elke pasgeborene wordt - bij overnachting - bi...</td>\n      <td>[{'link_url': '#waarom-willen-we-dat-je-baby-m...</td>\n      <td>https://www.azstlucas.be/onderzoek-en-behandel...</td>\n      <td>12/11/2023 15:26:50</td>\n      <td>### Infecties\\n\\n\\nVerschillende infecties wor...</td>\n      <td>2</td>\n      <td>[0.09477945417165756, 0.012673679739236832, -0...</td>\n    </tr>\n    <tr>\n      <th>0</th>\n      <td>\\n## Waarom willen de kinderartsen dat je baby...</td>\n      <td>24 uur observatie van de pasgeborene</td>\n      <td>[{'division_url': 'https://www.azstlucas.be/sp...</td>\n      <td>Elke pasgeborene wordt - bij overnachting - bi...</td>\n      <td>[{'link_url': '#waarom-willen-we-dat-je-baby-m...</td>\n      <td>https://www.azstlucas.be/onderzoek-en-behandel...</td>\n      <td>12/11/2023 15:26:50</td>\n      <td>### Aangeboren darmafwijkingen\\n\\n\\nHet is pas...</td>\n      <td>3</td>\n      <td>[0.04747367277741432, 0.023175092414021492, -0...</td>\n    </tr>\n    <tr>\n      <th>0</th>\n      <td>\\n## Waarom willen de kinderartsen dat je baby...</td>\n      <td>24 uur observatie van de pasgeborene</td>\n      <td>[{'division_url': 'https://www.azstlucas.be/sp...</td>\n      <td>Elke pasgeborene wordt - bij overnachting - bi...</td>\n      <td>[{'link_url': '#waarom-willen-we-dat-je-baby-m...</td>\n      <td>https://www.azstlucas.be/onderzoek-en-behandel...</td>\n      <td>12/11/2023 15:26:50</td>\n      <td>De kinderarts onderzoekt je baby in normale om...</td>\n      <td>4</td>\n      <td>[0.03207284212112427, 0.011688114143908024, -0...</td>\n    </tr>\n  </tbody>\n</table>\n</div>"
          },
          "metadata": {}
        }
      ],
      "execution_count": 7,
      "metadata": {
        "jupyter": {
          "source_hidden": false,
          "outputs_hidden": false
        },
        "nteract": {
          "transient": {
            "deleting": false
          }
        },
        "gather": {
          "logged": 1700023053135
        }
      }
    },
    {
      "cell_type": "code",
      "source": [
        "i = 0\n",
        "# Takes index, not row number\n",
        "for _, obj in chunks_df.iterrows():\n",
        "    chunk_id: int = i\n",
        "    chunk_text: str = obj['chunk_s500_o60']\n",
        "    chunk_text_embedding: str = obj['chunk_s500_o60_embedding']\n",
        "    chunk_order: str = obj['chunk_order']\n",
        "    chunk_size: int = 500\n",
        "    chunk_overlap: int = 60\n",
        "\n",
        "    c = Chunk(\n",
        "        chunk_id = chunk_id,\n",
        "        embedding = chunk_text_embedding,\n",
        "        embedding_model = 'hkunlp/instructor-xl',\n",
        "        text = chunk_text,\n",
        "        chunk_order=chunk_order,\n",
        "        chunk_size = chunk_size, \n",
        "        chunk_overlap = chunk_overlap\n",
        "    )\n",
        "    c.save()\n",
        "    i += 1"
      ],
      "outputs": [],
      "execution_count": 29,
      "metadata": {
        "jupyter": {
          "source_hidden": false,
          "outputs_hidden": false
        },
        "nteract": {
          "transient": {
            "deleting": false
          }
        },
        "gather": {
          "logged": 1699909978018
        }
      }
    },
    {
      "cell_type": "markdown",
      "source": [
        "### Check embedding length"
      ],
      "metadata": {
        "nteract": {
          "transient": {
            "deleting": false
          }
        }
      }
    },
    {
      "cell_type": "code",
      "source": [
        "len(chunks_df.iloc[2]['chunk_s500_o60_embedding'])"
      ],
      "outputs": [
        {
          "output_type": "execute_result",
          "execution_count": 42,
          "data": {
            "text/plain": "768"
          },
          "metadata": {}
        }
      ],
      "execution_count": 42,
      "metadata": {
        "jupyter": {
          "source_hidden": false,
          "outputs_hidden": false
        },
        "nteract": {
          "transient": {
            "deleting": false
          }
        },
        "gather": {
          "logged": 1699868786793
        }
      }
    },
    {
      "cell_type": "markdown",
      "source": [
        "# Chunk to WebPage Relationships"
      ],
      "metadata": {
        "nteract": {
          "transient": {
            "deleting": false
          }
        }
      }
    },
    {
      "cell_type": "code",
      "source": [
        "i = 0\n",
        "for _, obj in chunks_df.iterrows():\n",
        "    url: str = obj['url']\n",
        "    chunk = Chunk.nodes.get(chunk_id=i)\n",
        "    webpage = WebPage.nodes.get(url=url)\n",
        "    webpage.chunk.connect(chunk)\n",
        "    i += 1"
      ],
      "outputs": [],
      "execution_count": 30,
      "metadata": {
        "jupyter": {
          "source_hidden": false,
          "outputs_hidden": false
        },
        "nteract": {
          "transient": {
            "deleting": false
          }
        },
        "gather": {
          "logged": 1699909582722
        }
      }
    },
    {
      "cell_type": "markdown",
      "source": [
        "# Chunk to Chunk Relationships\n"
      ],
      "metadata": {
        "nteract": {
          "transient": {
            "deleting": false
          }
        }
      }
    },
    {
      "cell_type": "code",
      "source": [
        "chunks_df"
      ],
      "outputs": [
        {
          "output_type": "execute_result",
          "execution_count": 24,
          "data": {
            "text/plain": "                                               content  \\\n0    \\n## Waarom willen de kinderartsen dat je baby...   \n0    \\n## Waarom willen de kinderartsen dat je baby...   \n0    \\n## Waarom willen de kinderartsen dat je baby...   \n0    \\n## Waarom willen de kinderartsen dat je baby...   \n0    \\n## Waarom willen de kinderartsen dat je baby...   \n..                                                 ...   \n366  \\nZuurstof (O2) is een kleurloos en reukloos g...   \n367  \\nOto-akoestische emissies (OAE’s) zijn geluid...   \n367  \\nOto-akoestische emissies (OAE’s) zijn geluid...   \n367  \\nOto-akoestische emissies (OAE’s) zijn geluid...   \n367  \\nOto-akoestische emissies (OAE’s) zijn geluid...   \n\n                             banner_title  \\\n0    24 uur observatie van de pasgeborene   \n0    24 uur observatie van de pasgeborene   \n0    24 uur observatie van de pasgeborene   \n0    24 uur observatie van de pasgeborene   \n0    24 uur observatie van de pasgeborene   \n..                                    ...   \n366                      Zuurstoftherapie   \n367             ﻿Oto-akoestische emissies   \n367             ﻿Oto-akoestische emissies   \n367             ﻿Oto-akoestische emissies   \n367             ﻿Oto-akoestische emissies   \n\n                                      banner_divisions  \\\n0    [{'division_url': 'https://www.azstlucas.be/sp...   \n0    [{'division_url': 'https://www.azstlucas.be/sp...   \n0    [{'division_url': 'https://www.azstlucas.be/sp...   \n0    [{'division_url': 'https://www.azstlucas.be/sp...   \n0    [{'division_url': 'https://www.azstlucas.be/sp...   \n..                                                 ...   \n366  [{'division_url': 'https://www.azstlucas.be/sp...   \n367  [{'division_url': 'https://www.azstlucas.be/sp...   \n367  [{'division_url': 'https://www.azstlucas.be/sp...   \n367  [{'division_url': 'https://www.azstlucas.be/sp...   \n367  [{'division_url': 'https://www.azstlucas.be/sp...   \n\n                                                 intro  \\\n0    Elke pasgeborene wordt - bij overnachting - bi...   \n0    Elke pasgeborene wordt - bij overnachting - bi...   \n0    Elke pasgeborene wordt - bij overnachting - bi...   \n0    Elke pasgeborene wordt - bij overnachting - bi...   \n0    Elke pasgeborene wordt - bij overnachting - bi...   \n..                                                 ...   \n366                                                      \n367                                                      \n367                                                      \n367                                                      \n367                                                      \n\n                                                   toc  \\\n0    [{'link_url': '#waarom-willen-we-dat-je-baby-m...   \n0    [{'link_url': '#waarom-willen-we-dat-je-baby-m...   \n0    [{'link_url': '#waarom-willen-we-dat-je-baby-m...   \n0    [{'link_url': '#waarom-willen-we-dat-je-baby-m...   \n0    [{'link_url': '#waarom-willen-we-dat-je-baby-m...   \n..                                                 ...   \n366  [{'link_url': '#conventie', 'link_title': 'Con...   \n367                                                 []   \n367                                                 []   \n367                                                 []   \n367                                                 []   \n\n                                                   url          scrape_date  \\\n0    https://www.azstlucas.be/onderzoek-en-behandel...  12/11/2023 15:26:50   \n0    https://www.azstlucas.be/onderzoek-en-behandel...  12/11/2023 15:26:50   \n0    https://www.azstlucas.be/onderzoek-en-behandel...  12/11/2023 15:26:50   \n0    https://www.azstlucas.be/onderzoek-en-behandel...  12/11/2023 15:26:50   \n0    https://www.azstlucas.be/onderzoek-en-behandel...  12/11/2023 15:26:50   \n..                                                 ...                  ...   \n366  https://www.azstlucas.be/onderzoek-en-behandel...  12/11/2023 15:31:27   \n367  https://www.azstlucas.be/onderzoek-en-behandel...  12/11/2023 15:31:28   \n367  https://www.azstlucas.be/onderzoek-en-behandel...  12/11/2023 15:31:28   \n367  https://www.azstlucas.be/onderzoek-en-behandel...  12/11/2023 15:31:28   \n367  https://www.azstlucas.be/onderzoek-en-behandel...  12/11/2023 15:31:28   \n\n                                        chunk_s500_o60  chunk_order  \\\n0    ## Waarom willen de kinderartsen dat je baby m...            0   \n0    ## Mogelijke afwijkingen\\n\\n\\n### Aangeboren h...            1   \n0    ### Infecties\\n\\n\\nVerschillende infecties wor...            2   \n0    ### Aangeboren darmafwijkingen\\n\\n\\nHet is pas...            3   \n0    De kinderarts onderzoekt je baby in normale om...            4   \n..                                                 ...          ...   \n366  AZ Sint-Lucas maakt gebruik van cookies om uw ...         4439   \n367  Oto-akoestische emissies (OAE’s) zijn geluiden...         4440   \n367  Met deze test gaan we na of de uitwendige haar...         4441   \n367  ## Verloop van de test\\n\\n\\nWe brengen een oor...         4442   \n367  AZ Sint-Lucas maakt gebruik van cookies om uw ...         4443   \n\n                              chunk_s500_o60_embedding  \n0    [0.04676021263003349, 0.009244767017662525, -0...  \n0    [0.0652947872877121, 0.012688170187175274, -0....  \n0    [0.09477945417165756, 0.012673679739236832, -0...  \n0    [0.04747367277741432, 0.023175092414021492, -0...  \n0    [0.03207284212112427, 0.011688114143908024, -0...  \n..                                                 ...  \n366  [0.04251086339354515, 0.03886432200670242, 0.0...  \n367  [0.0032778072636574507, 0.014101134613156319, ...  \n367  [0.05215251073241234, 0.02360747754573822, 0.0...  \n367  [0.07470236718654633, 0.006344643887132406, -0...  \n367  [0.04251086339354515, 0.03886432200670242, 0.0...  \n\n[4444 rows x 10 columns]",
            "text/html": "<div>\n<style scoped>\n    .dataframe tbody tr th:only-of-type {\n        vertical-align: middle;\n    }\n\n    .dataframe tbody tr th {\n        vertical-align: top;\n    }\n\n    .dataframe thead th {\n        text-align: right;\n    }\n</style>\n<table border=\"1\" class=\"dataframe\">\n  <thead>\n    <tr style=\"text-align: right;\">\n      <th></th>\n      <th>content</th>\n      <th>banner_title</th>\n      <th>banner_divisions</th>\n      <th>intro</th>\n      <th>toc</th>\n      <th>url</th>\n      <th>scrape_date</th>\n      <th>chunk_s500_o60</th>\n      <th>chunk_order</th>\n      <th>chunk_s500_o60_embedding</th>\n    </tr>\n  </thead>\n  <tbody>\n    <tr>\n      <th>0</th>\n      <td>\\n## Waarom willen de kinderartsen dat je baby...</td>\n      <td>24 uur observatie van de pasgeborene</td>\n      <td>[{'division_url': 'https://www.azstlucas.be/sp...</td>\n      <td>Elke pasgeborene wordt - bij overnachting - bi...</td>\n      <td>[{'link_url': '#waarom-willen-we-dat-je-baby-m...</td>\n      <td>https://www.azstlucas.be/onderzoek-en-behandel...</td>\n      <td>12/11/2023 15:26:50</td>\n      <td>## Waarom willen de kinderartsen dat je baby m...</td>\n      <td>0</td>\n      <td>[0.04676021263003349, 0.009244767017662525, -0...</td>\n    </tr>\n    <tr>\n      <th>0</th>\n      <td>\\n## Waarom willen de kinderartsen dat je baby...</td>\n      <td>24 uur observatie van de pasgeborene</td>\n      <td>[{'division_url': 'https://www.azstlucas.be/sp...</td>\n      <td>Elke pasgeborene wordt - bij overnachting - bi...</td>\n      <td>[{'link_url': '#waarom-willen-we-dat-je-baby-m...</td>\n      <td>https://www.azstlucas.be/onderzoek-en-behandel...</td>\n      <td>12/11/2023 15:26:50</td>\n      <td>## Mogelijke afwijkingen\\n\\n\\n### Aangeboren h...</td>\n      <td>1</td>\n      <td>[0.0652947872877121, 0.012688170187175274, -0....</td>\n    </tr>\n    <tr>\n      <th>0</th>\n      <td>\\n## Waarom willen de kinderartsen dat je baby...</td>\n      <td>24 uur observatie van de pasgeborene</td>\n      <td>[{'division_url': 'https://www.azstlucas.be/sp...</td>\n      <td>Elke pasgeborene wordt - bij overnachting - bi...</td>\n      <td>[{'link_url': '#waarom-willen-we-dat-je-baby-m...</td>\n      <td>https://www.azstlucas.be/onderzoek-en-behandel...</td>\n      <td>12/11/2023 15:26:50</td>\n      <td>### Infecties\\n\\n\\nVerschillende infecties wor...</td>\n      <td>2</td>\n      <td>[0.09477945417165756, 0.012673679739236832, -0...</td>\n    </tr>\n    <tr>\n      <th>0</th>\n      <td>\\n## Waarom willen de kinderartsen dat je baby...</td>\n      <td>24 uur observatie van de pasgeborene</td>\n      <td>[{'division_url': 'https://www.azstlucas.be/sp...</td>\n      <td>Elke pasgeborene wordt - bij overnachting - bi...</td>\n      <td>[{'link_url': '#waarom-willen-we-dat-je-baby-m...</td>\n      <td>https://www.azstlucas.be/onderzoek-en-behandel...</td>\n      <td>12/11/2023 15:26:50</td>\n      <td>### Aangeboren darmafwijkingen\\n\\n\\nHet is pas...</td>\n      <td>3</td>\n      <td>[0.04747367277741432, 0.023175092414021492, -0...</td>\n    </tr>\n    <tr>\n      <th>0</th>\n      <td>\\n## Waarom willen de kinderartsen dat je baby...</td>\n      <td>24 uur observatie van de pasgeborene</td>\n      <td>[{'division_url': 'https://www.azstlucas.be/sp...</td>\n      <td>Elke pasgeborene wordt - bij overnachting - bi...</td>\n      <td>[{'link_url': '#waarom-willen-we-dat-je-baby-m...</td>\n      <td>https://www.azstlucas.be/onderzoek-en-behandel...</td>\n      <td>12/11/2023 15:26:50</td>\n      <td>De kinderarts onderzoekt je baby in normale om...</td>\n      <td>4</td>\n      <td>[0.03207284212112427, 0.011688114143908024, -0...</td>\n    </tr>\n    <tr>\n      <th>...</th>\n      <td>...</td>\n      <td>...</td>\n      <td>...</td>\n      <td>...</td>\n      <td>...</td>\n      <td>...</td>\n      <td>...</td>\n      <td>...</td>\n      <td>...</td>\n      <td>...</td>\n    </tr>\n    <tr>\n      <th>366</th>\n      <td>\\nZuurstof (O2) is een kleurloos en reukloos g...</td>\n      <td>Zuurstoftherapie</td>\n      <td>[{'division_url': 'https://www.azstlucas.be/sp...</td>\n      <td></td>\n      <td>[{'link_url': '#conventie', 'link_title': 'Con...</td>\n      <td>https://www.azstlucas.be/onderzoek-en-behandel...</td>\n      <td>12/11/2023 15:31:27</td>\n      <td>AZ Sint-Lucas maakt gebruik van cookies om uw ...</td>\n      <td>4439</td>\n      <td>[0.04251086339354515, 0.03886432200670242, 0.0...</td>\n    </tr>\n    <tr>\n      <th>367</th>\n      <td>\\nOto-akoestische emissies (OAE’s) zijn geluid...</td>\n      <td>﻿Oto-akoestische emissies</td>\n      <td>[{'division_url': 'https://www.azstlucas.be/sp...</td>\n      <td></td>\n      <td>[]</td>\n      <td>https://www.azstlucas.be/onderzoek-en-behandel...</td>\n      <td>12/11/2023 15:31:28</td>\n      <td>Oto-akoestische emissies (OAE’s) zijn geluiden...</td>\n      <td>4440</td>\n      <td>[0.0032778072636574507, 0.014101134613156319, ...</td>\n    </tr>\n    <tr>\n      <th>367</th>\n      <td>\\nOto-akoestische emissies (OAE’s) zijn geluid...</td>\n      <td>﻿Oto-akoestische emissies</td>\n      <td>[{'division_url': 'https://www.azstlucas.be/sp...</td>\n      <td></td>\n      <td>[]</td>\n      <td>https://www.azstlucas.be/onderzoek-en-behandel...</td>\n      <td>12/11/2023 15:31:28</td>\n      <td>Met deze test gaan we na of de uitwendige haar...</td>\n      <td>4441</td>\n      <td>[0.05215251073241234, 0.02360747754573822, 0.0...</td>\n    </tr>\n    <tr>\n      <th>367</th>\n      <td>\\nOto-akoestische emissies (OAE’s) zijn geluid...</td>\n      <td>﻿Oto-akoestische emissies</td>\n      <td>[{'division_url': 'https://www.azstlucas.be/sp...</td>\n      <td></td>\n      <td>[]</td>\n      <td>https://www.azstlucas.be/onderzoek-en-behandel...</td>\n      <td>12/11/2023 15:31:28</td>\n      <td>## Verloop van de test\\n\\n\\nWe brengen een oor...</td>\n      <td>4442</td>\n      <td>[0.07470236718654633, 0.006344643887132406, -0...</td>\n    </tr>\n    <tr>\n      <th>367</th>\n      <td>\\nOto-akoestische emissies (OAE’s) zijn geluid...</td>\n      <td>﻿Oto-akoestische emissies</td>\n      <td>[{'division_url': 'https://www.azstlucas.be/sp...</td>\n      <td></td>\n      <td>[]</td>\n      <td>https://www.azstlucas.be/onderzoek-en-behandel...</td>\n      <td>12/11/2023 15:31:28</td>\n      <td>AZ Sint-Lucas maakt gebruik van cookies om uw ...</td>\n      <td>4443</td>\n      <td>[0.04251086339354515, 0.03886432200670242, 0.0...</td>\n    </tr>\n  </tbody>\n</table>\n<p>4444 rows × 10 columns</p>\n</div>"
          },
          "metadata": {}
        }
      ],
      "execution_count": 24,
      "metadata": {
        "jupyter": {
          "source_hidden": false,
          "outputs_hidden": false
        },
        "nteract": {
          "transient": {
            "deleting": false
          }
        },
        "gather": {
          "logged": 1700024424759
        }
      }
    },
    {
      "cell_type": "code",
      "source": [
        "def get_webpage_id(df: pd.DataFrame) -> pd.DataFrame: \n",
        "    \"\"\"\n",
        "        Note, this is based on the way the chunks_df dataframe has been created, \n",
        "        using explode and keeping indexes constant. \n",
        "    \"\"\"\n",
        "    df = df.reset_index() # Doesn't drop current index (corresponds to webpage groupby id)\n",
        "    df = df.rename(columns={\n",
        "        \"index\": \"webpage_id\"\n",
        "    })\n",
        "    df['chunk_id'] = df.index\n",
        "    return df\n",
        "\n",
        "chunks_to_chunks_df = (\n",
        "    chunks_df.copy(deep=True)\n",
        "    .pipe(get_webpage_id)\n",
        ")\n",
        "\n",
        "# Ensure that number of ids equals number of scraped webpages. \n",
        "assert len(chunks_to_chunks_df['webpage_id'].unique()) == 368\n",
        "\n",
        "def chunk_order_rels(group: pd.core.groupby.generic.DataFrameGroupBy) -> pd.DataFrame: \n",
        "    \"\"\"\n",
        "    create a DataFrame that captures the relationships between \n",
        "    subsequent 'chunk_order' values within each group defined by 'webpage_id'.\n",
        "\n",
        "    The function will take a group of rows, identify consecutive \n",
        "    pairs based on the 'chunk_order' column, and create a new DataFrame \n",
        "    that lists these pairs as 'source' and 'target'.\n",
        "    \n",
        "    GroupBy: First, group the DataFrame by 'webpage_id'.\n",
        "    Apply: Then, apply the chunk_order_rels function to each group. \n",
        "        This function should take the group as an input and return a DataFrame with the 'source' and 'target' relationships.\n",
        "    Combine: Pandas will automatically combine the results of \n",
        "        the apply function into a single DataFrame.\n",
        "    \"\"\"\n",
        "    # Shift the 'id' column to create pairs of source and target\n",
        "    group['target_chunk_id'] = group['chunk_id'].shift(-1)\n",
        "\n",
        "    # Create the resulting DataFrame\n",
        "    result = group[\n",
        "            ['webpage_id', 'chunk_id', 'target_chunk_id']\n",
        "        ][:-1]  # Exclude the last row as it has no target\n",
        "    \n",
        "    result.rename(\n",
        "        columns={\n",
        "            'chunk_id': 'source_chunk_id', \n",
        "        }, \n",
        "        inplace=True\n",
        "    )\n",
        "\n",
        "    return result\n",
        "\n",
        "def recast(df: pd.DataFrame, col:str, new_type:object) -> pd.DataFrame: \n",
        "    df[col] = df[col].astype(new_type)\n",
        "    return df\n",
        "\n",
        "chunks_to_chunks_df = (\n",
        "    chunks_to_chunks_df\n",
        "    .sort_values(\n",
        "        by=['chunk_order'], \n",
        "        ignore_index=True, \n",
        "        ascending=True\n",
        "    )\n",
        "    .groupby('webpage_id')\n",
        "    .apply(chunk_order_rels)\n",
        "    .reset_index(drop=True)\n",
        "    .pipe(recast, col='target_chunk_id', new_type=int)\n",
        ")\n",
        "\n",
        "chunks_to_chunks_df.head(10)"
      ],
      "outputs": [
        {
          "output_type": "execute_result",
          "execution_count": 41,
          "data": {
            "text/plain": "   webpage_id  source_chunk_id  target_chunk_id\n0           0                0                1\n1           0                1                2\n2           0                2                3\n3           0                3                4\n4           0                4                5\n5           0                5                6\n6           0                6                7\n7           0                7                8\n8           1                9               10\n9           1               10               11",
            "text/html": "<div>\n<style scoped>\n    .dataframe tbody tr th:only-of-type {\n        vertical-align: middle;\n    }\n\n    .dataframe tbody tr th {\n        vertical-align: top;\n    }\n\n    .dataframe thead th {\n        text-align: right;\n    }\n</style>\n<table border=\"1\" class=\"dataframe\">\n  <thead>\n    <tr style=\"text-align: right;\">\n      <th></th>\n      <th>webpage_id</th>\n      <th>source_chunk_id</th>\n      <th>target_chunk_id</th>\n    </tr>\n  </thead>\n  <tbody>\n    <tr>\n      <th>0</th>\n      <td>0</td>\n      <td>0</td>\n      <td>1</td>\n    </tr>\n    <tr>\n      <th>1</th>\n      <td>0</td>\n      <td>1</td>\n      <td>2</td>\n    </tr>\n    <tr>\n      <th>2</th>\n      <td>0</td>\n      <td>2</td>\n      <td>3</td>\n    </tr>\n    <tr>\n      <th>3</th>\n      <td>0</td>\n      <td>3</td>\n      <td>4</td>\n    </tr>\n    <tr>\n      <th>4</th>\n      <td>0</td>\n      <td>4</td>\n      <td>5</td>\n    </tr>\n    <tr>\n      <th>5</th>\n      <td>0</td>\n      <td>5</td>\n      <td>6</td>\n    </tr>\n    <tr>\n      <th>6</th>\n      <td>0</td>\n      <td>6</td>\n      <td>7</td>\n    </tr>\n    <tr>\n      <th>7</th>\n      <td>0</td>\n      <td>7</td>\n      <td>8</td>\n    </tr>\n    <tr>\n      <th>8</th>\n      <td>1</td>\n      <td>9</td>\n      <td>10</td>\n    </tr>\n    <tr>\n      <th>9</th>\n      <td>1</td>\n      <td>10</td>\n      <td>11</td>\n    </tr>\n  </tbody>\n</table>\n</div>"
          },
          "metadata": {}
        }
      ],
      "execution_count": 41,
      "metadata": {
        "jupyter": {
          "source_hidden": false,
          "outputs_hidden": false
        },
        "nteract": {
          "transient": {
            "deleting": false
          }
        },
        "gather": {
          "logged": 1700025426397
        }
      }
    },
    {
      "cell_type": "code",
      "source": [
        "for _, rel in chunks_to_chunks_df.iterrows():\n",
        "    source_chunk = Chunk.nodes.get(chunk_id=rel['source_chunk_id'])\n",
        "    target_chunk = Chunk.nodes.get(chunk_id=rel['target_chunk_id'])\n",
        "    source_chunk.next_chunk.connect(target_chunk)"
      ],
      "outputs": [],
      "execution_count": 45,
      "metadata": {
        "jupyter": {
          "source_hidden": false,
          "outputs_hidden": false
        },
        "nteract": {
          "transient": {
            "deleting": false
          }
        },
        "gather": {
          "logged": 1700025699360
        }
      }
    },
    {
      "cell_type": "markdown",
      "source": [
        "# Manual Driver Queries\n",
        "\n"
      ],
      "metadata": {
        "nteract": {
          "transient": {
            "deleting": false
          }
        }
      }
    },
    {
      "cell_type": "markdown",
      "source": [
        "## Indexing"
      ],
      "metadata": {
        "nteract": {
          "transient": {
            "deleting": false
          }
        }
      }
    },
    {
      "cell_type": "code",
      "source": [
        "import neo4j\n",
        "import pandas as pd\n",
        "from typing import List \n",
        "from neo4j import GraphDatabase, RoutingControl\n",
        "\n",
        "def to_pandas(records: List[object]) -> pd.DataFrame:\n",
        "    return pd.DataFrame.from_records([dict(r) for r in records])\n",
        "\n",
        "def add_fts_index(driver, label=\"Chunk\", prop=\"text\"):\n",
        "    driver.execute_query(\n",
        "        f\"\"\"\n",
        "            CREATE FULLTEXT INDEX {\"fts_\" + label + \"_\" + prop} IF NOT EXISTS\n",
        "            FOR (n:{label})\n",
        "            ON EACH [n.{prop}]\n",
        "        \"\"\",\n",
        "        database_=\"neo4j\",\n",
        "    )\n",
        "\n",
        "def get_indices(driver, db='neo4j'): \n",
        "    records, _, _ = driver.execute_query(\n",
        "        \"SHOW ALL INDEXES\",\n",
        "        database_= db, \n",
        "        routing_= RoutingControl.READ,\n",
        "    )\n",
        "    return to_pandas(records)\n",
        "\n",
        "def get_chunks(driver, limit=20, db=\"neo4j\") -> pd.DataFrame:\n",
        "    records, _, _ = driver.execute_query(\n",
        "        \"MATCH (c:Chunk)\"\n",
        "        \"RETURN c.text limit $limit\",\n",
        "        database_=db, \n",
        "        limit=limit,\n",
        "        routing_= RoutingControl.READ,\n",
        "    )\n",
        "    return to_pandas(records)\n",
        "\n",
        "def add_vector_index(\n",
        "        driver, \n",
        "        label=\"Chunk\", \n",
        "        prop=\"embedding\", \n",
        "        idx_type=\"cosine\", \n",
        "        vec_size=768): \n",
        "    driver.execute_query(\n",
        "        f\"\"\"\n",
        "            CALL db.index.vector.createNodeIndex(\n",
        "                '{(\"vi_\" + label + \"_\" + prop + \"_\" + idx_type).lower()}', \n",
        "                '{label}',\n",
        "                '{prop}', \n",
        "                {vec_size}, \n",
        "                '{idx_type}'\n",
        "            )\n",
        "        \"\"\",\n",
        "        database_=\"neo4j\",\n",
        "    ) \n",
        "\n",
        "with GraphDatabase.driver(neo4j_url, auth=(neo4j_user, neo4j_password)) as driver:\n",
        "    add_fts_index(driver)\n",
        "    add_vector_index(driver)\n",
        "    index_df = get_indices(driver)\n",
        "    chunk_df = get_chunks(driver, limit=20)\n",
        "\n",
        "# df.head()\n",
        "index_df"
      ],
      "outputs": [
        {
          "output_type": "execute_result",
          "execution_count": 21,
          "data": {
            "text/plain": "   id                       name       state  populationPercent      type  \\\n0   3             fts_Chunk_text  POPULATING          21.321962  FULLTEXT   \n1   1             index_343aff4e      ONLINE         100.000000    LOOKUP   \n2   2             index_f7700477      ONLINE         100.000000    LOOKUP   \n3   4  vi_chunk_embedding_cosine  POPULATING          21.321962    VECTOR   \n\n     entityType labelsOrTypes   properties     indexProvider owningConstraint  \\\n0          NODE       [Chunk]       [text]      fulltext-1.0             None   \n1          NODE          None         None  token-lookup-1.0             None   \n2  RELATIONSHIP          None         None  token-lookup-1.0             None   \n3          NODE       [Chunk]  [embedding]        vector-1.0             None   \n\n                              lastRead  readCount  \n0                                 None        NaN  \n1  2023-11-13T20:38:06.185000000+00:00      569.0  \n2                                 None        0.0  \n3                                 None        NaN  ",
            "text/html": "<div>\n<style scoped>\n    .dataframe tbody tr th:only-of-type {\n        vertical-align: middle;\n    }\n\n    .dataframe tbody tr th {\n        vertical-align: top;\n    }\n\n    .dataframe thead th {\n        text-align: right;\n    }\n</style>\n<table border=\"1\" class=\"dataframe\">\n  <thead>\n    <tr style=\"text-align: right;\">\n      <th></th>\n      <th>id</th>\n      <th>name</th>\n      <th>state</th>\n      <th>populationPercent</th>\n      <th>type</th>\n      <th>entityType</th>\n      <th>labelsOrTypes</th>\n      <th>properties</th>\n      <th>indexProvider</th>\n      <th>owningConstraint</th>\n      <th>lastRead</th>\n      <th>readCount</th>\n    </tr>\n  </thead>\n  <tbody>\n    <tr>\n      <th>0</th>\n      <td>3</td>\n      <td>fts_Chunk_text</td>\n      <td>POPULATING</td>\n      <td>21.321962</td>\n      <td>FULLTEXT</td>\n      <td>NODE</td>\n      <td>[Chunk]</td>\n      <td>[text]</td>\n      <td>fulltext-1.0</td>\n      <td>None</td>\n      <td>None</td>\n      <td>NaN</td>\n    </tr>\n    <tr>\n      <th>1</th>\n      <td>1</td>\n      <td>index_343aff4e</td>\n      <td>ONLINE</td>\n      <td>100.000000</td>\n      <td>LOOKUP</td>\n      <td>NODE</td>\n      <td>None</td>\n      <td>None</td>\n      <td>token-lookup-1.0</td>\n      <td>None</td>\n      <td>2023-11-13T20:38:06.185000000+00:00</td>\n      <td>569.0</td>\n    </tr>\n    <tr>\n      <th>2</th>\n      <td>2</td>\n      <td>index_f7700477</td>\n      <td>ONLINE</td>\n      <td>100.000000</td>\n      <td>LOOKUP</td>\n      <td>RELATIONSHIP</td>\n      <td>None</td>\n      <td>None</td>\n      <td>token-lookup-1.0</td>\n      <td>None</td>\n      <td>None</td>\n      <td>0.0</td>\n    </tr>\n    <tr>\n      <th>3</th>\n      <td>4</td>\n      <td>vi_chunk_embedding_cosine</td>\n      <td>POPULATING</td>\n      <td>21.321962</td>\n      <td>VECTOR</td>\n      <td>NODE</td>\n      <td>[Chunk]</td>\n      <td>[embedding]</td>\n      <td>vector-1.0</td>\n      <td>None</td>\n      <td>None</td>\n      <td>NaN</td>\n    </tr>\n  </tbody>\n</table>\n</div>"
          },
          "metadata": {}
        }
      ],
      "execution_count": 21,
      "metadata": {
        "jupyter": {
          "source_hidden": false,
          "outputs_hidden": false
        },
        "nteract": {
          "transient": {
            "deleting": false
          }
        },
        "gather": {
          "logged": 1699907917865
        }
      }
    },
    {
      "cell_type": "code",
      "source": [
        "chunk_df.head()"
      ],
      "outputs": [
        {
          "output_type": "execute_result",
          "execution_count": 45,
          "data": {
            "text/plain": "                                              c.text\n0  ## Waarom willen de kinderartsen dat je baby m...\n1  ## Mogelijke afwijkingen\\n\\n\\n### Aangeboren h...\n2  ### Infecties\\n\\n\\nVerschillende infecties wor...\n3  ### Aangeboren darmafwijkingen\\n\\n\\nHet is pas...\n4  De kinderarts onderzoekt je baby in normale om...",
            "text/html": "<div>\n<style scoped>\n    .dataframe tbody tr th:only-of-type {\n        vertical-align: middle;\n    }\n\n    .dataframe tbody tr th {\n        vertical-align: top;\n    }\n\n    .dataframe thead th {\n        text-align: right;\n    }\n</style>\n<table border=\"1\" class=\"dataframe\">\n  <thead>\n    <tr style=\"text-align: right;\">\n      <th></th>\n      <th>c.text</th>\n    </tr>\n  </thead>\n  <tbody>\n    <tr>\n      <th>0</th>\n      <td>## Waarom willen de kinderartsen dat je baby m...</td>\n    </tr>\n    <tr>\n      <th>1</th>\n      <td>## Mogelijke afwijkingen\\n\\n\\n### Aangeboren h...</td>\n    </tr>\n    <tr>\n      <th>2</th>\n      <td>### Infecties\\n\\n\\nVerschillende infecties wor...</td>\n    </tr>\n    <tr>\n      <th>3</th>\n      <td>### Aangeboren darmafwijkingen\\n\\n\\nHet is pas...</td>\n    </tr>\n    <tr>\n      <th>4</th>\n      <td>De kinderarts onderzoekt je baby in normale om...</td>\n    </tr>\n  </tbody>\n</table>\n</div>"
          },
          "metadata": {}
        }
      ],
      "execution_count": 45,
      "metadata": {
        "jupyter": {
          "source_hidden": false,
          "outputs_hidden": false
        },
        "nteract": {
          "transient": {
            "deleting": false
          }
        },
        "gather": {
          "logged": 1699869067304
        }
      }
    },
    {
      "cell_type": "code",
      "source": [],
      "outputs": [],
      "execution_count": null,
      "metadata": {
        "jupyter": {
          "source_hidden": false,
          "outputs_hidden": false
        },
        "nteract": {
          "transient": {
            "deleting": false
          }
        }
      }
    }
  ],
  "metadata": {
    "kernelspec": {
      "name": "python38-azureml",
      "language": "python",
      "display_name": "Python 3.8 - AzureML"
    },
    "language_info": {
      "name": "python",
      "version": "3.8.5",
      "mimetype": "text/x-python",
      "codemirror_mode": {
        "name": "ipython",
        "version": 3
      },
      "pygments_lexer": "ipython3",
      "nbconvert_exporter": "python",
      "file_extension": ".py"
    },
    "microsoft": {
      "ms_spell_check": {
        "ms_spell_check_language": "en"
      },
      "host": {
        "AzureML": {
          "notebookHasBeenCompleted": true
        }
      }
    },
    "kernel_info": {
      "name": "python38-azureml"
    },
    "nteract": {
      "version": "nteract-front-end@1.0.0"
    }
  },
  "nbformat": 4,
  "nbformat_minor": 2
}